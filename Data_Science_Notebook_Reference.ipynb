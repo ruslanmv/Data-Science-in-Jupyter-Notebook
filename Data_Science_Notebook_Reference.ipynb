{
 "cells": [
  {
   "cell_type": "markdown",
   "id": "775cc490",
   "metadata": {
    "colab_type": "text",
    "id": "view-in-github"
   },
   "source": [
    "<a href=\"https://colab.research.google.com/github/ruslanmv/Data-Science-in-Jupyter-Notebook/blob/master/Data_Science_Colab_Notebook.ipynb\" target=\"_parent\"><img src=\"https://colab.research.google.com/assets/colab-badge.svg\" alt=\"Open In Colab\"/></a>"
   ]
  },
  {
   "cell_type": "markdown",
   "id": "2d0c9947",
   "metadata": {
    "id": "2d0c9947"
   },
   "source": [
    "# Reference of Data Science in Jupyter Notebook\n",
    "by ruslanmv  "
   ]
  },
  {
   "cell_type": "markdown",
   "id": "3de7913b",
   "metadata": {
    "id": "3de7913b"
   },
   "source": [
    "Hello everyone,  I have created this notebook to summarize some concepts of Data Science that may help you in your projects of your Company.\n",
    "I wanted to collect some of the essential tools used everyday as Data Scientist."
   ]
  },
  {
   "cell_type": "markdown",
   "id": "3E-RhUvv4_Dz",
   "metadata": {
    "id": "3E-RhUvv4_Dz"
   },
   "source": [
    "IMPORTANT NOTE: This notebook is designed to run as a Colab. Running it on your local machine might result in some of the code blocks throwing errors.\n",
    "\n",
    "Run the code below to download the compressed datasets data.zip.\n"
   ]
  },
  {
   "cell_type": "code",
   "execution_count": 249,
   "id": "3oGHH9bv4mNE",
   "metadata": {
    "colab": {
     "base_uri": "https://localhost:8080/"
    },
    "id": "3oGHH9bv4mNE",
    "outputId": "dd0b840f-8df5-45ce-8e2a-d3f14c62aadd"
   },
   "outputs": [
    {
     "name": "stdout",
     "output_type": "stream",
     "text": [
      "--2022-06-25 13:22:11--  https://github.com/ruslanmv/Data-Science-in-Jupyter-Notebook/raw/master/data.zip\n",
      "Resolving github.com (github.com)... 52.69.186.44\n",
      "Connecting to github.com (github.com)|52.69.186.44|:443... connected.\n",
      "HTTP request sent, awaiting response... 302 Found\n",
      "Location: https://raw.githubusercontent.com/ruslanmv/Data-Science-in-Jupyter-Notebook/master/data.zip [following]\n",
      "--2022-06-25 13:22:11--  https://raw.githubusercontent.com/ruslanmv/Data-Science-in-Jupyter-Notebook/master/data.zip\n",
      "Resolving raw.githubusercontent.com (raw.githubusercontent.com)... 185.199.108.133, 185.199.109.133, 185.199.110.133, ...\n",
      "Connecting to raw.githubusercontent.com (raw.githubusercontent.com)|185.199.108.133|:443... connected.\n",
      "HTTP request sent, awaiting response... 200 OK\n",
      "Length: 28337418 (27M) [application/zip]\n",
      "Saving to: ‘data.zip’\n",
      "\n",
      "data.zip            100%[===================>]  27.02M   146MB/s    in 0.2s    \n",
      "\n",
      "2022-06-25 13:22:12 (146 MB/s) - ‘data.zip’ saved [28337418/28337418]\n",
      "\n"
     ]
    }
   ],
   "source": [
    "!wget https: // github.com/ruslanmv/Data-Science-in-Jupyter-Notebook/raw/master/data.zip\n"
   ]
  },
  {
   "cell_type": "markdown",
   "id": "tJ1QzmgM5HZD",
   "metadata": {
    "id": "tJ1QzmgM5HZD"
   },
   "source": [
    "You can then unzip the archive using the zipfile module."
   ]
  },
  {
   "cell_type": "code",
   "execution_count": 250,
   "id": "9U78MrwP5H5h",
   "metadata": {
    "id": "9U78MrwP5H5h"
   },
   "outputs": [],
   "source": [
    "import zipfile\n",
    "# Unzip the dataset\n",
    "local_zip = './data.zip'\n",
    "zip_ref = zipfile.ZipFile(local_zip, 'r')\n",
    "zip_ref.extractall('./')\n",
    "zip_ref.close()\n"
   ]
  },
  {
   "cell_type": "markdown",
   "id": "af5be55d",
   "metadata": {
    "id": "af5be55d"
   },
   "source": [
    "### Table of Contents\n",
    "\n",
    "-   [Section 1: Python for Data Science](#section-1)\n",
    "-   [Section 2: Importing Data](#section-2)\n",
    "-   [Section 3: Data Wrangling with Pandas](#section-3)\n",
    "-   [Section 4: Data Analysis with Numpy](#section-4)\n",
    "-   [Section 5: Data Visualization with Matplotlib](#section-5)\n",
    "-   [Section 7: Machine Learning with Scikit-Learn](#section-7)\n",
    "-   [Section 8: SciPy](#section-8)\n",
    "-   [Section 9: Neural Networks with Keras](#section-9)\n",
    "-   [Section 10: PySpark & Spark SQL](#section-10)"
   ]
  },
  {
   "cell_type": "markdown",
   "id": "41a4de3f",
   "metadata": {
    "id": "41a4de3f"
   },
   "source": [
    "# Python for Data Science\n",
    "\n",
    "The first thing that you should know is the precedence of the operators in Python. You can remember the PEMDAS rule:\n",
    "\n",
    "\n",
    "|  | Operation      |\n",
    "|--|----------------|\n",
    "|P | Parentheses.   |\n",
    "|E | Exponentiation.|\n",
    "|M | Multiplication.| \n",
    "|D | Division.      |\n",
    "|A | Addition.      |\n",
    "|S | Subtraction.   |"
   ]
  },
  {
   "cell_type": "markdown",
   "id": "78795f95",
   "metadata": {
    "id": "78795f95"
   },
   "source": [
    "## Types and Type Conversion"
   ]
  },
  {
   "cell_type": "code",
   "execution_count": 68,
   "id": "851b6769",
   "metadata": {
    "colab": {
     "base_uri": "https://localhost:8080/",
     "height": 35
    },
    "id": "851b6769",
    "outputId": "7746223f-19be-4097-f6b9-cc80c5e8eaae"
   },
   "outputs": [
    {
     "data": {
      "application/vnd.google.colaboratory.intrinsic+json": {
       "type": "string"
      },
      "text/plain": [
       "'3.45'"
      ]
     },
     "execution_count": 68,
     "metadata": {},
     "output_type": "execute_result"
    }
   ],
   "source": [
    "str(3.45)  # Variables to strings\n"
   ]
  },
  {
   "cell_type": "code",
   "execution_count": 69,
   "id": "fd681428",
   "metadata": {
    "colab": {
     "base_uri": "https://localhost:8080/"
    },
    "id": "fd681428",
    "outputId": "fb36f6ae-28ef-469f-805b-611132a21370"
   },
   "outputs": [
    {
     "data": {
      "text/plain": [
       "3"
      ]
     },
     "execution_count": 69,
     "metadata": {},
     "output_type": "execute_result"
    }
   ],
   "source": [
    "int(3.45)  # Variables to integers\n"
   ]
  },
  {
   "cell_type": "code",
   "execution_count": 70,
   "id": "e77f897f",
   "metadata": {
    "colab": {
     "base_uri": "https://localhost:8080/"
    },
    "id": "e77f897f",
    "outputId": "506ae082-aa1f-4a0c-a749-77060b240b34"
   },
   "outputs": [
    {
     "data": {
      "text/plain": [
       "5.0"
      ]
     },
     "execution_count": 70,
     "metadata": {},
     "output_type": "execute_result"
    }
   ],
   "source": [
    "float(5)  # Variables to floats\n"
   ]
  },
  {
   "cell_type": "code",
   "execution_count": 71,
   "id": "a7274100",
   "metadata": {
    "colab": {
     "base_uri": "https://localhost:8080/"
    },
    "id": "a7274100",
    "outputId": "02f98560-60c7-4958-c557-9b24431d4959"
   },
   "outputs": [
    {
     "data": {
      "text/plain": [
       "True"
      ]
     },
     "execution_count": 71,
     "metadata": {},
     "output_type": "execute_result"
    }
   ],
   "source": [
    "bool(True)  # Variables to boolean\n"
   ]
  },
  {
   "cell_type": "markdown",
   "id": "8365231a",
   "metadata": {
    "id": "8365231a"
   },
   "source": [
    "### Libraries\n",
    "\n",
    "Data analysis -\\> **pandas**\n",
    "\n",
    "Scientific computing -\\> **numpy**\n",
    "\n",
    "2D plotting -\\> **matplotlib**\n",
    "\n",
    "Machine learning -\\> **Scikit-Learn**"
   ]
  },
  {
   "cell_type": "markdown",
   "id": "2a8f180d",
   "metadata": {
    "id": "2a8f180d"
   },
   "source": [
    "### Import Libraries"
   ]
  },
  {
   "cell_type": "code",
   "execution_count": 72,
   "id": "c783052b",
   "metadata": {
    "id": "c783052b"
   },
   "outputs": [],
   "source": [
    "import numpy\n",
    "import numpy as np\n"
   ]
  },
  {
   "cell_type": "markdown",
   "id": "952ae265",
   "metadata": {
    "id": "952ae265"
   },
   "source": [
    "### Selective import"
   ]
  },
  {
   "cell_type": "code",
   "execution_count": 73,
   "id": "d9d25ebe",
   "metadata": {
    "id": "d9d25ebe"
   },
   "outputs": [],
   "source": [
    "from math import pi\n"
   ]
  },
  {
   "cell_type": "markdown",
   "id": "b0880808",
   "metadata": {
    "id": "b0880808"
   },
   "source": [
    "### Strings"
   ]
  },
  {
   "cell_type": "code",
   "execution_count": 74,
   "id": "c2ce2897",
   "metadata": {
    "id": "c2ce2897"
   },
   "outputs": [],
   "source": [
    "my_string = 'thisStringisAwesome'\n"
   ]
  },
  {
   "cell_type": "code",
   "execution_count": 75,
   "id": "e6ced517",
   "metadata": {
    "colab": {
     "base_uri": "https://localhost:8080/",
     "height": 35
    },
    "id": "e6ced517",
    "outputId": "3d2081d1-0225-4f46-8aa6-212271957a11"
   },
   "outputs": [
    {
     "data": {
      "application/vnd.google.colaboratory.intrinsic+json": {
       "type": "string"
      },
      "text/plain": [
       "'thisStringisAwesome'"
      ]
     },
     "execution_count": 75,
     "metadata": {},
     "output_type": "execute_result"
    }
   ],
   "source": [
    "my_string\n"
   ]
  },
  {
   "cell_type": "markdown",
   "id": "4ae43f17",
   "metadata": {
    "id": "4ae43f17"
   },
   "source": [
    "**String Operation**"
   ]
  },
  {
   "cell_type": "code",
   "execution_count": 76,
   "id": "139137ab",
   "metadata": {
    "colab": {
     "base_uri": "https://localhost:8080/",
     "height": 35
    },
    "id": "139137ab",
    "outputId": "b781414d-fe8c-4359-c4ad-c18622689cb8"
   },
   "outputs": [
    {
     "data": {
      "application/vnd.google.colaboratory.intrinsic+json": {
       "type": "string"
      },
      "text/plain": [
       "'thisStringisAwesomethisStringisAwesome'"
      ]
     },
     "execution_count": 76,
     "metadata": {},
     "output_type": "execute_result"
    }
   ],
   "source": [
    "my_string * 2\n"
   ]
  },
  {
   "cell_type": "code",
   "execution_count": 77,
   "id": "58ff98f4",
   "metadata": {
    "colab": {
     "base_uri": "https://localhost:8080/",
     "height": 35
    },
    "id": "58ff98f4",
    "outputId": "75e4cf6a-5332-4b78-d6ec-fc7a8f9b19ee"
   },
   "outputs": [
    {
     "data": {
      "application/vnd.google.colaboratory.intrinsic+json": {
       "type": "string"
      },
      "text/plain": [
       "'thisStringisAwesomeInnit'"
      ]
     },
     "execution_count": 77,
     "metadata": {},
     "output_type": "execute_result"
    }
   ],
   "source": [
    "my_string + 'Innit'\n"
   ]
  },
  {
   "cell_type": "code",
   "execution_count": 78,
   "id": "5752beef",
   "metadata": {
    "colab": {
     "base_uri": "https://localhost:8080/"
    },
    "id": "5752beef",
    "outputId": "8e2c1e2d-d52d-40e9-bc7b-c890d80df2ca"
   },
   "outputs": [
    {
     "data": {
      "text/plain": [
       "True"
      ]
     },
     "execution_count": 78,
     "metadata": {},
     "output_type": "execute_result"
    }
   ],
   "source": [
    "'m' in my_string\n"
   ]
  },
  {
   "cell_type": "markdown",
   "id": "4349505b",
   "metadata": {
    "id": "4349505b"
   },
   "source": [
    "**String** **Indexing**\n",
    "Index starts at 0"
   ]
  },
  {
   "cell_type": "code",
   "execution_count": 79,
   "id": "3667e16d",
   "metadata": {
    "colab": {
     "base_uri": "https://localhost:8080/",
     "height": 35
    },
    "id": "3667e16d",
    "outputId": "0a8990cd-d3a6-4012-8335-91fb8a378a44"
   },
   "outputs": [
    {
     "data": {
      "application/vnd.google.colaboratory.intrinsic+json": {
       "type": "string"
      },
      "text/plain": [
       "'s'"
      ]
     },
     "execution_count": 79,
     "metadata": {},
     "output_type": "execute_result"
    }
   ],
   "source": [
    "my_string[3]\n"
   ]
  },
  {
   "cell_type": "code",
   "execution_count": 80,
   "id": "57c21881",
   "metadata": {
    "colab": {
     "base_uri": "https://localhost:8080/",
     "height": 35
    },
    "id": "57c21881",
    "outputId": "840fc413-2a6b-454d-b1d4-f6b536ee4ee2"
   },
   "outputs": [
    {
     "data": {
      "application/vnd.google.colaboratory.intrinsic+json": {
       "type": "string"
      },
      "text/plain": [
       "'Strin'"
      ]
     },
     "execution_count": 80,
     "metadata": {},
     "output_type": "execute_result"
    }
   ],
   "source": [
    "my_string[4:9]\n"
   ]
  },
  {
   "cell_type": "code",
   "execution_count": 81,
   "id": "9e6d201e",
   "metadata": {
    "colab": {
     "base_uri": "https://localhost:8080/",
     "height": 35
    },
    "id": "9e6d201e",
    "outputId": "00f72901-d262-445c-a6d1-ad0e6bbc8332"
   },
   "outputs": [
    {
     "data": {
      "application/vnd.google.colaboratory.intrinsic+json": {
       "type": "string"
      },
      "text/plain": [
       "'thisstringisawesome'"
      ]
     },
     "execution_count": 81,
     "metadata": {},
     "output_type": "execute_result"
    }
   ],
   "source": [
    "my_string.lower()  # String to lowercase\n"
   ]
  },
  {
   "cell_type": "code",
   "execution_count": 82,
   "id": "2fe2f77e",
   "metadata": {
    "colab": {
     "base_uri": "https://localhost:8080/"
    },
    "id": "2fe2f77e",
    "outputId": "cdce4b54-5f26-4bb0-f38c-cd262b08228a"
   },
   "outputs": [
    {
     "data": {
      "text/plain": [
       "1"
      ]
     },
     "execution_count": 82,
     "metadata": {},
     "output_type": "execute_result"
    }
   ],
   "source": [
    "my_string.count('w')  # Count String elements\n"
   ]
  },
  {
   "cell_type": "code",
   "execution_count": 83,
   "id": "bc4e1ded",
   "metadata": {
    "colab": {
     "base_uri": "https://localhost:8080/",
     "height": 35
    },
    "id": "bc4e1ded",
    "outputId": "3a814ec7-5f0b-4e9c-9a7e-1363658e14d6"
   },
   "outputs": [
    {
     "data": {
      "application/vnd.google.colaboratory.intrinsic+json": {
       "type": "string"
      },
      "text/plain": [
       "'thisStringisAwisomi'"
      ]
     },
     "execution_count": 83,
     "metadata": {},
     "output_type": "execute_result"
    }
   ],
   "source": [
    "my_string.replace('e', 'i')  # Replace String elements\n"
   ]
  },
  {
   "cell_type": "code",
   "execution_count": 84,
   "id": "c75152ac",
   "metadata": {
    "colab": {
     "base_uri": "https://localhost:8080/",
     "height": 35
    },
    "id": "c75152ac",
    "outputId": "10e46f1e-bd52-42f4-b2d4-1c1f010dc02c"
   },
   "outputs": [
    {
     "data": {
      "application/vnd.google.colaboratory.intrinsic+json": {
       "type": "string"
      },
      "text/plain": [
       "'thisStringisAwesome'"
      ]
     },
     "execution_count": 84,
     "metadata": {},
     "output_type": "execute_result"
    }
   ],
   "source": [
    "my_string.strip()  # Strip whitespoces\n"
   ]
  },
  {
   "cell_type": "markdown",
   "id": "af9c6525",
   "metadata": {
    "id": "af9c6525"
   },
   "source": [
    "### Lists"
   ]
  },
  {
   "cell_type": "code",
   "execution_count": 85,
   "id": "6316cfe8",
   "metadata": {
    "id": "6316cfe8"
   },
   "outputs": [],
   "source": [
    "my_list = [1, 2, 3, 4]\n"
   ]
  },
  {
   "cell_type": "code",
   "execution_count": 86,
   "id": "cfb4b1cd",
   "metadata": {
    "id": "cfb4b1cd"
   },
   "outputs": [],
   "source": [
    "my_array = np.array(my_list)\n"
   ]
  },
  {
   "cell_type": "code",
   "execution_count": 87,
   "id": "9f84536b",
   "metadata": {
    "id": "9f84536b"
   },
   "outputs": [],
   "source": [
    "my_2darray = np.array([[1, 2, 3], [4, 5, 6]])\n"
   ]
  },
  {
   "cell_type": "markdown",
   "id": "a2cd718f",
   "metadata": {
    "id": "a2cd718f"
   },
   "source": [
    "**Selecting Numpy Array Elements**\n",
    "Index starts at 0\n",
    "Subset"
   ]
  },
  {
   "cell_type": "code",
   "execution_count": 88,
   "id": "9c2ad973",
   "metadata": {
    "colab": {
     "base_uri": "https://localhost:8080/"
    },
    "id": "9c2ad973",
    "outputId": "224445b5-f0b7-4d20-b26e-7d62307aaa5b"
   },
   "outputs": [
    {
     "data": {
      "text/plain": [
       "2"
      ]
     },
     "execution_count": 88,
     "metadata": {},
     "output_type": "execute_result"
    }
   ],
   "source": [
    "my_array[1]  # Select item at index 1\n"
   ]
  },
  {
   "cell_type": "markdown",
   "id": "832c09ff",
   "metadata": {
    "id": "832c09ff"
   },
   "source": [
    "Slice"
   ]
  },
  {
   "cell_type": "code",
   "execution_count": 89,
   "id": "81d88b66",
   "metadata": {
    "colab": {
     "base_uri": "https://localhost:8080/"
    },
    "id": "81d88b66",
    "outputId": "9e8de0cd-bd4f-4855-b580-d74f138ce5c4"
   },
   "outputs": [
    {
     "data": {
      "text/plain": [
       "array([1, 2])"
      ]
     },
     "execution_count": 89,
     "metadata": {},
     "output_type": "execute_result"
    }
   ],
   "source": [
    "my_array[0:2]  # Select items at index 0 and 1\n"
   ]
  },
  {
   "cell_type": "markdown",
   "id": "1c58011b",
   "metadata": {
    "id": "1c58011b"
   },
   "source": [
    "**Subset 2D Numpy arrays**"
   ]
  },
  {
   "cell_type": "code",
   "execution_count": 90,
   "id": "a196613c",
   "metadata": {
    "colab": {
     "base_uri": "https://localhost:8080/"
    },
    "id": "a196613c",
    "outputId": "8bf9303b-de16-4bdb-fa4a-fbb6ac3c6686"
   },
   "outputs": [
    {
     "data": {
      "text/plain": [
       "array([1, 4])"
      ]
     },
     "execution_count": 90,
     "metadata": {},
     "output_type": "execute_result"
    }
   ],
   "source": [
    "my_2darray[:, 0]  # my_2darroy[rows, columns]\n"
   ]
  },
  {
   "cell_type": "markdown",
   "id": "222c5098",
   "metadata": {
    "id": "222c5098"
   },
   "source": [
    "**Numpy Array Operations**"
   ]
  },
  {
   "cell_type": "code",
   "execution_count": 91,
   "id": "849c7659",
   "metadata": {
    "colab": {
     "base_uri": "https://localhost:8080/"
    },
    "id": "849c7659",
    "outputId": "8ba683df-c0bd-4317-9de9-aea5420dc79c"
   },
   "outputs": [
    {
     "data": {
      "text/plain": [
       "array([False, False, False,  True])"
      ]
     },
     "execution_count": 91,
     "metadata": {},
     "output_type": "execute_result"
    }
   ],
   "source": [
    "my_array > 3\n"
   ]
  },
  {
   "cell_type": "code",
   "execution_count": 92,
   "id": "6774c145",
   "metadata": {
    "colab": {
     "base_uri": "https://localhost:8080/"
    },
    "id": "6774c145",
    "outputId": "2a7d79ad-8530-48ca-c539-3673563841c2"
   },
   "outputs": [
    {
     "data": {
      "text/plain": [
       "array([2, 4, 6, 8])"
      ]
     },
     "execution_count": 92,
     "metadata": {},
     "output_type": "execute_result"
    }
   ],
   "source": [
    "my_array * 2\n"
   ]
  },
  {
   "cell_type": "code",
   "execution_count": 93,
   "id": "5c5e6e03",
   "metadata": {
    "colab": {
     "base_uri": "https://localhost:8080/"
    },
    "id": "5c5e6e03",
    "outputId": "d4505c95-9081-4982-9051-9ba31ce2394b"
   },
   "outputs": [
    {
     "data": {
      "text/plain": [
       "array([ 6,  8, 10, 12])"
      ]
     },
     "execution_count": 93,
     "metadata": {},
     "output_type": "execute_result"
    }
   ],
   "source": [
    "my_array + np.array([5, 6, 7, 8])\n"
   ]
  },
  {
   "cell_type": "markdown",
   "id": "3efb9bf8",
   "metadata": {
    "id": "3efb9bf8"
   },
   "source": [
    "**Numpy Array Functions**"
   ]
  },
  {
   "cell_type": "code",
   "execution_count": 94,
   "id": "780a205e",
   "metadata": {
    "colab": {
     "base_uri": "https://localhost:8080/"
    },
    "id": "780a205e",
    "outputId": "86342b79-d15d-4e78-ca53-eda075374cb1"
   },
   "outputs": [
    {
     "data": {
      "text/plain": [
       "(4,)"
      ]
     },
     "execution_count": 94,
     "metadata": {},
     "output_type": "execute_result"
    }
   ],
   "source": [
    "my_array.shape  # Get the dimensions of the array\n"
   ]
  },
  {
   "cell_type": "code",
   "execution_count": 95,
   "id": "1d283938",
   "metadata": {
    "id": "1d283938"
   },
   "outputs": [],
   "source": [
    "other_array = np.array([9])\n"
   ]
  },
  {
   "cell_type": "code",
   "execution_count": 96,
   "id": "9c5bb6ff",
   "metadata": {
    "colab": {
     "base_uri": "https://localhost:8080/"
    },
    "id": "9c5bb6ff",
    "outputId": "be7bf581-dd28-4d24-849d-b36807f2f00d"
   },
   "outputs": [
    {
     "data": {
      "text/plain": [
       "array([1, 2, 3, 4, 9])"
      ]
     },
     "execution_count": 96,
     "metadata": {},
     "output_type": "execute_result"
    }
   ],
   "source": [
    "np.append(my_array, other_array)  # Append items to on array\n"
   ]
  },
  {
   "cell_type": "code",
   "execution_count": 97,
   "id": "dab77fa6",
   "metadata": {
    "colab": {
     "base_uri": "https://localhost:8080/"
    },
    "id": "dab77fa6",
    "outputId": "c4cb3d39-806e-495d-cca8-ca8bf5472121"
   },
   "outputs": [
    {
     "data": {
      "text/plain": [
       "array([1, 5, 2, 3, 4])"
      ]
     },
     "execution_count": 97,
     "metadata": {},
     "output_type": "execute_result"
    }
   ],
   "source": [
    "np.insert(my_array, 1, 5)  # Insert items in on array\n"
   ]
  },
  {
   "cell_type": "code",
   "execution_count": 98,
   "id": "ffe6de22",
   "metadata": {
    "colab": {
     "base_uri": "https://localhost:8080/"
    },
    "id": "ffe6de22",
    "outputId": "44bed89a-caed-4c9c-aa55-8d508c6e4717"
   },
   "outputs": [
    {
     "data": {
      "text/plain": [
       "array([1, 3, 4])"
      ]
     },
     "execution_count": 98,
     "metadata": {},
     "output_type": "execute_result"
    }
   ],
   "source": [
    "np.delete(my_array, [1])  # Delete items in on array\n"
   ]
  },
  {
   "cell_type": "code",
   "execution_count": 99,
   "id": "e78d4dec",
   "metadata": {
    "colab": {
     "base_uri": "https://localhost:8080/"
    },
    "id": "e78d4dec",
    "outputId": "4230ea0b-ee75-4267-bf51-12713bc054d0"
   },
   "outputs": [
    {
     "data": {
      "text/plain": [
       "2.5"
      ]
     },
     "execution_count": 99,
     "metadata": {},
     "output_type": "execute_result"
    }
   ],
   "source": [
    "np.mean(my_array)  # Mean of the array\n"
   ]
  },
  {
   "cell_type": "code",
   "execution_count": 100,
   "id": "d0af1241",
   "metadata": {
    "colab": {
     "base_uri": "https://localhost:8080/"
    },
    "id": "d0af1241",
    "outputId": "c9fd8225-2bd7-4a53-87e2-e388355b92a0"
   },
   "outputs": [
    {
     "data": {
      "text/plain": [
       "2.5"
      ]
     },
     "execution_count": 100,
     "metadata": {},
     "output_type": "execute_result"
    }
   ],
   "source": [
    "np.median(my_array)  # Median of the array\n"
   ]
  },
  {
   "cell_type": "code",
   "execution_count": 101,
   "id": "c91d6e7f",
   "metadata": {
    "colab": {
     "base_uri": "https://localhost:8080/"
    },
    "id": "c91d6e7f",
    "outputId": "92a8b643-7b32-4b03-8832-364d0026699a"
   },
   "outputs": [
    {
     "data": {
      "text/plain": [
       "1.0"
      ]
     },
     "execution_count": 101,
     "metadata": {},
     "output_type": "execute_result"
    }
   ],
   "source": [
    "np.corrcoef(my_array)  # Correlation coefficient\n"
   ]
  },
  {
   "cell_type": "code",
   "execution_count": 102,
   "id": "4d7b6242",
   "metadata": {
    "colab": {
     "base_uri": "https://localhost:8080/"
    },
    "id": "4d7b6242",
    "outputId": "60b470b4-603a-44c0-bf49-2fe97a9653be"
   },
   "outputs": [
    {
     "data": {
      "text/plain": [
       "1.118033988749895"
      ]
     },
     "execution_count": 102,
     "metadata": {},
     "output_type": "execute_result"
    }
   ],
   "source": [
    "np.std(my_array)  # Standard deviation\n"
   ]
  },
  {
   "cell_type": "markdown",
   "id": "cd7b4e31",
   "metadata": {
    "id": "cd7b4e31"
   },
   "source": [
    "### Lists"
   ]
  },
  {
   "cell_type": "code",
   "execution_count": 103,
   "id": "ac97d988",
   "metadata": {
    "id": "ac97d988"
   },
   "outputs": [],
   "source": [
    "a = 'is'\n"
   ]
  },
  {
   "cell_type": "code",
   "execution_count": 104,
   "id": "5751b125",
   "metadata": {
    "id": "5751b125"
   },
   "outputs": [],
   "source": [
    "b = 'nice'\n"
   ]
  },
  {
   "cell_type": "code",
   "execution_count": 105,
   "id": "4a9466e4",
   "metadata": {
    "id": "4a9466e4"
   },
   "outputs": [],
   "source": [
    "my_list = ['my', 'list', a, b]\n"
   ]
  },
  {
   "cell_type": "code",
   "execution_count": 106,
   "id": "a4b9887a",
   "metadata": {
    "id": "a4b9887a"
   },
   "outputs": [],
   "source": [
    "my_list2 = [[4, 5, 6, 7], [3, 4, 5, 6]]\n"
   ]
  },
  {
   "cell_type": "markdown",
   "id": "dd1bc0d9",
   "metadata": {
    "id": "dd1bc0d9"
   },
   "source": [
    "**Selecting List Elements**\n",
    "\n",
    "Index starts at 0\n",
    "\n",
    "\n",
    "Subset"
   ]
  },
  {
   "cell_type": "code",
   "execution_count": 107,
   "id": "04864bcb",
   "metadata": {
    "colab": {
     "base_uri": "https://localhost:8080/",
     "height": 35
    },
    "id": "04864bcb",
    "outputId": "69df77b0-9d37-49fa-85e7-2739e3bb675a"
   },
   "outputs": [
    {
     "data": {
      "application/vnd.google.colaboratory.intrinsic+json": {
       "type": "string"
      },
      "text/plain": [
       "'list'"
      ]
     },
     "execution_count": 107,
     "metadata": {},
     "output_type": "execute_result"
    }
   ],
   "source": [
    "my_list[1]  # Select item at index 1\n"
   ]
  },
  {
   "cell_type": "code",
   "execution_count": 108,
   "id": "fc898550",
   "metadata": {
    "colab": {
     "base_uri": "https://localhost:8080/",
     "height": 35
    },
    "id": "fc898550",
    "outputId": "c9ea2450-5012-47ea-c4be-491b6e280413"
   },
   "outputs": [
    {
     "data": {
      "application/vnd.google.colaboratory.intrinsic+json": {
       "type": "string"
      },
      "text/plain": [
       "'list'"
      ]
     },
     "execution_count": 108,
     "metadata": {},
     "output_type": "execute_result"
    }
   ],
   "source": [
    "my_list[-3]  # Select 3rd last item\n"
   ]
  },
  {
   "cell_type": "markdown",
   "id": "0a9113e5",
   "metadata": {
    "id": "0a9113e5"
   },
   "source": [
    "**Slice**"
   ]
  },
  {
   "cell_type": "code",
   "execution_count": 109,
   "id": "540df12c",
   "metadata": {
    "colab": {
     "base_uri": "https://localhost:8080/"
    },
    "id": "540df12c",
    "outputId": "8d739e0f-8cae-4354-96db-8337870ce752"
   },
   "outputs": [
    {
     "data": {
      "text/plain": [
       "['list', 'is']"
      ]
     },
     "execution_count": 109,
     "metadata": {},
     "output_type": "execute_result"
    }
   ],
   "source": [
    "my_list[1:3]  # Select items at index 1 and 2\n"
   ]
  },
  {
   "cell_type": "code",
   "execution_count": 110,
   "id": "9cf6d0df",
   "metadata": {
    "colab": {
     "base_uri": "https://localhost:8080/"
    },
    "id": "9cf6d0df",
    "outputId": "218d62ee-45eb-41fb-cb10-d97fbc532bac"
   },
   "outputs": [
    {
     "data": {
      "text/plain": [
       "['list', 'is', 'nice']"
      ]
     },
     "execution_count": 110,
     "metadata": {},
     "output_type": "execute_result"
    }
   ],
   "source": [
    "my_list[1:]  # Select items after index 0\n"
   ]
  },
  {
   "cell_type": "code",
   "execution_count": 111,
   "id": "de0a621b",
   "metadata": {
    "colab": {
     "base_uri": "https://localhost:8080/"
    },
    "id": "de0a621b",
    "outputId": "701876c9-86a0-4ac7-ae26-d6d3bda27b33"
   },
   "outputs": [
    {
     "data": {
      "text/plain": [
       "['my', 'list', 'is']"
      ]
     },
     "execution_count": 111,
     "metadata": {},
     "output_type": "execute_result"
    }
   ],
   "source": [
    "my_list[:3]  # Select items before index 3\n"
   ]
  },
  {
   "cell_type": "code",
   "execution_count": 112,
   "id": "c6ec0646",
   "metadata": {
    "colab": {
     "base_uri": "https://localhost:8080/"
    },
    "id": "c6ec0646",
    "outputId": "7944d037-3c10-4757-de20-ee851b3621fb"
   },
   "outputs": [
    {
     "data": {
      "text/plain": [
       "['my', 'list', 'is', 'nice']"
      ]
     },
     "execution_count": 112,
     "metadata": {},
     "output_type": "execute_result"
    }
   ],
   "source": [
    "my_list[:]  # Copy my_list\n"
   ]
  },
  {
   "cell_type": "markdown",
   "id": "de16a7eb",
   "metadata": {
    "id": "de16a7eb"
   },
   "source": [
    "**Subset Lists of Lists**"
   ]
  },
  {
   "cell_type": "code",
   "execution_count": 113,
   "id": "2d521a12",
   "metadata": {
    "colab": {
     "base_uri": "https://localhost:8080/"
    },
    "id": "2d521a12",
    "outputId": "2618ccf4-d662-4b80-f496-e5db66c48f61"
   },
   "outputs": [
    {
     "data": {
      "text/plain": [
       "3"
      ]
     },
     "execution_count": 113,
     "metadata": {},
     "output_type": "execute_result"
    }
   ],
   "source": [
    "my_list2[1][0]  # my_list[list][itemOfList]\n"
   ]
  },
  {
   "cell_type": "code",
   "execution_count": 114,
   "id": "284424d8",
   "metadata": {
    "colab": {
     "base_uri": "https://localhost:8080/"
    },
    "id": "284424d8",
    "outputId": "e7c683e6-f767-4e1f-b3c5-4acc0f5d2d27"
   },
   "outputs": [
    {
     "data": {
      "text/plain": [
       "[3, 4]"
      ]
     },
     "execution_count": 114,
     "metadata": {},
     "output_type": "execute_result"
    }
   ],
   "source": [
    "my_list2[1][:2]\n"
   ]
  },
  {
   "cell_type": "markdown",
   "id": "2735c3c8",
   "metadata": {
    "id": "2735c3c8"
   },
   "source": [
    "**List Operations**"
   ]
  },
  {
   "cell_type": "code",
   "execution_count": 115,
   "id": "877b38b3",
   "metadata": {
    "colab": {
     "base_uri": "https://localhost:8080/"
    },
    "id": "877b38b3",
    "outputId": "c3fbd80a-b6a8-4eec-9323-1d1791d5ceee"
   },
   "outputs": [
    {
     "data": {
      "text/plain": [
       "['my', 'list', 'is', 'nice', 'my', 'list', 'is', 'nice']"
      ]
     },
     "execution_count": 115,
     "metadata": {},
     "output_type": "execute_result"
    }
   ],
   "source": [
    "my_list + my_list\n"
   ]
  },
  {
   "cell_type": "code",
   "execution_count": 116,
   "id": "f2e7572b",
   "metadata": {
    "colab": {
     "base_uri": "https://localhost:8080/"
    },
    "id": "f2e7572b",
    "outputId": "4e793bf1-656b-4d52-ad0d-34d28787ab57"
   },
   "outputs": [
    {
     "data": {
      "text/plain": [
       "['my', 'list', 'is', 'nice', 'my', 'list', 'is', 'nice']"
      ]
     },
     "execution_count": 116,
     "metadata": {},
     "output_type": "execute_result"
    }
   ],
   "source": [
    "2*my_list\n"
   ]
  },
  {
   "cell_type": "markdown",
   "id": "e85ae536",
   "metadata": {
    "id": "e85ae536"
   },
   "source": [
    "**List Methods**"
   ]
  },
  {
   "cell_type": "code",
   "execution_count": 50,
   "id": "c887b22a",
   "metadata": {
    "colab": {
     "base_uri": "https://localhost:8080/"
    },
    "id": "c887b22a",
    "outputId": "1f4e5db9-0eb1-4efb-8661-05906050ac62"
   },
   "outputs": [
    {
     "data": {
      "text/plain": [
       "2"
      ]
     },
     "execution_count": 50,
     "metadata": {},
     "output_type": "execute_result"
    }
   ],
   "source": [
    "my_list.index(a)  # Get the index of an item\n"
   ]
  },
  {
   "cell_type": "code",
   "execution_count": 51,
   "id": "61d8be3c",
   "metadata": {
    "colab": {
     "base_uri": "https://localhost:8080/"
    },
    "id": "61d8be3c",
    "outputId": "f255cf33-7f81-4cb0-c489-af1749c96d00"
   },
   "outputs": [
    {
     "data": {
      "text/plain": [
       "1"
      ]
     },
     "execution_count": 51,
     "metadata": {},
     "output_type": "execute_result"
    }
   ],
   "source": [
    "my_list.count(a)  # Count on item\n"
   ]
  },
  {
   "cell_type": "code",
   "execution_count": 52,
   "id": "30143287",
   "metadata": {
    "id": "30143287"
   },
   "outputs": [],
   "source": [
    "my_list.append('!')  # Append on item ot a time\n"
   ]
  },
  {
   "cell_type": "code",
   "execution_count": 53,
   "id": "8871e193",
   "metadata": {
    "id": "8871e193"
   },
   "outputs": [],
   "source": [
    "my_list.remove('!')  # Remove  on  item\n"
   ]
  },
  {
   "cell_type": "code",
   "execution_count": 54,
   "id": "f27a0ea2",
   "metadata": {
    "id": "f27a0ea2"
   },
   "outputs": [],
   "source": [
    "del(my_list[0:1])  # Remove an item\n"
   ]
  },
  {
   "cell_type": "code",
   "execution_count": 55,
   "id": "2b46bdb7",
   "metadata": {
    "colab": {
     "base_uri": "https://localhost:8080/"
    },
    "id": "2b46bdb7",
    "outputId": "0a92f9bd-f754-407b-a3c2-d68052812b28"
   },
   "outputs": [
    {
     "data": {
      "text/plain": [
       "['list', 'is', 'nice']"
      ]
     },
     "execution_count": 55,
     "metadata": {},
     "output_type": "execute_result"
    }
   ],
   "source": [
    "my_list\n"
   ]
  },
  {
   "cell_type": "code",
   "execution_count": 56,
   "id": "95dcb7c5",
   "metadata": {
    "id": "95dcb7c5"
   },
   "outputs": [],
   "source": [
    "my_list.reverse()  # Reverse the list\n"
   ]
  },
  {
   "cell_type": "code",
   "execution_count": 57,
   "id": "ddb4559e",
   "metadata": {
    "id": "ddb4559e"
   },
   "outputs": [],
   "source": [
    "my_list.extend('!')  # Append on item\n"
   ]
  },
  {
   "cell_type": "code",
   "execution_count": 58,
   "id": "c2a4706e",
   "metadata": {
    "colab": {
     "base_uri": "https://localhost:8080/",
     "height": 35
    },
    "id": "c2a4706e",
    "outputId": "5463faaf-e43b-463b-f465-08861aca08ea"
   },
   "outputs": [
    {
     "data": {
      "application/vnd.google.colaboratory.intrinsic+json": {
       "type": "string"
      },
      "text/plain": [
       "'!'"
      ]
     },
     "execution_count": 58,
     "metadata": {},
     "output_type": "execute_result"
    }
   ],
   "source": [
    "my_list.pop(-1)  # Remove on item\n"
   ]
  },
  {
   "cell_type": "code",
   "execution_count": 59,
   "id": "9f57e837",
   "metadata": {
    "id": "9f57e837"
   },
   "outputs": [],
   "source": [
    "my_list.insert(0, '!')  # Insert on item\n"
   ]
  },
  {
   "cell_type": "code",
   "execution_count": 117,
   "id": "db238445",
   "metadata": {
    "id": "db238445"
   },
   "outputs": [],
   "source": [
    "my_list.sort()  # Sort the list\n"
   ]
  },
  {
   "cell_type": "markdown",
   "id": "7db85acf",
   "metadata": {
    "id": "7db85acf"
   },
   "source": [
    "**Asking For Help**\n"
   ]
  },
  {
   "cell_type": "markdown",
   "id": "6468f92b",
   "metadata": {
    "id": "6468f92b"
   },
   "source": [
    "help(str)"
   ]
  },
  {
   "cell_type": "markdown",
   "id": "acf9930c",
   "metadata": {
    "id": "acf9930c"
   },
   "source": [
    "# Section 2\n",
    "\n",
    "### **Importing Data**\n",
    "\n",
    "**Most of the time, you’ll use either NumPy or pandas to import your\n",
    "data:**"
   ]
  },
  {
   "cell_type": "code",
   "execution_count": 118,
   "id": "019e5be8",
   "metadata": {
    "id": "019e5be8"
   },
   "outputs": [],
   "source": [
    "import numpy as np\n",
    "import pandas as pd\n"
   ]
  },
  {
   "cell_type": "markdown",
   "id": "a3898347",
   "metadata": {
    "id": "a3898347"
   },
   "source": [
    "**Help**\n",
    "\n",
    "     np.info(np.ndarray.dtype)\n",
    "     help(pd.read_csv)\n"
   ]
  },
  {
   "cell_type": "code",
   "execution_count": 119,
   "id": "b4e4dc67",
   "metadata": {
    "id": "b4e4dc67"
   },
   "outputs": [],
   "source": [
    "df = pd.read_csv('data/titanic.csv')\n"
   ]
  },
  {
   "cell_type": "code",
   "execution_count": 120,
   "id": "6067b737",
   "metadata": {
    "colab": {
     "base_uri": "https://localhost:8080/",
     "height": 302
    },
    "id": "6067b737",
    "outputId": "a9dcefed-8056-4260-e717-fa81177061d5"
   },
   "outputs": [
    {
     "data": {
      "text/html": [
       "\n",
       "  <div id=\"df-9da537d4-d87f-43b3-9ba5-9fa041a7a007\">\n",
       "    <div class=\"colab-df-container\">\n",
       "      <div>\n",
       "<style scoped>\n",
       "    .dataframe tbody tr th:only-of-type {\n",
       "        vertical-align: middle;\n",
       "    }\n",
       "\n",
       "    .dataframe tbody tr th {\n",
       "        vertical-align: top;\n",
       "    }\n",
       "\n",
       "    .dataframe thead th {\n",
       "        text-align: right;\n",
       "    }\n",
       "</style>\n",
       "<table border=\"1\" class=\"dataframe\">\n",
       "  <thead>\n",
       "    <tr style=\"text-align: right;\">\n",
       "      <th></th>\n",
       "      <th>PassengerId</th>\n",
       "      <th>Survived</th>\n",
       "      <th>Pclass</th>\n",
       "      <th>Name</th>\n",
       "      <th>Sex</th>\n",
       "      <th>Age</th>\n",
       "      <th>SibSp</th>\n",
       "      <th>Parch</th>\n",
       "      <th>Ticket</th>\n",
       "      <th>Fare</th>\n",
       "      <th>Cabin</th>\n",
       "      <th>Embarked</th>\n",
       "    </tr>\n",
       "  </thead>\n",
       "  <tbody>\n",
       "    <tr>\n",
       "      <th>0</th>\n",
       "      <td>1</td>\n",
       "      <td>0</td>\n",
       "      <td>3</td>\n",
       "      <td>Braund, Mr. Owen Harris</td>\n",
       "      <td>male</td>\n",
       "      <td>22.0</td>\n",
       "      <td>1</td>\n",
       "      <td>0</td>\n",
       "      <td>A/5 21171</td>\n",
       "      <td>7.2500</td>\n",
       "      <td>NaN</td>\n",
       "      <td>S</td>\n",
       "    </tr>\n",
       "    <tr>\n",
       "      <th>1</th>\n",
       "      <td>2</td>\n",
       "      <td>1</td>\n",
       "      <td>1</td>\n",
       "      <td>Cumings, Mrs. John Bradley (Florence Briggs Th...</td>\n",
       "      <td>female</td>\n",
       "      <td>38.0</td>\n",
       "      <td>1</td>\n",
       "      <td>0</td>\n",
       "      <td>PC 17599</td>\n",
       "      <td>71.2833</td>\n",
       "      <td>C85</td>\n",
       "      <td>C</td>\n",
       "    </tr>\n",
       "    <tr>\n",
       "      <th>2</th>\n",
       "      <td>3</td>\n",
       "      <td>1</td>\n",
       "      <td>3</td>\n",
       "      <td>Heikkinen, Miss. Laina</td>\n",
       "      <td>female</td>\n",
       "      <td>26.0</td>\n",
       "      <td>0</td>\n",
       "      <td>0</td>\n",
       "      <td>STON/O2. 3101282</td>\n",
       "      <td>7.9250</td>\n",
       "      <td>NaN</td>\n",
       "      <td>S</td>\n",
       "    </tr>\n",
       "    <tr>\n",
       "      <th>3</th>\n",
       "      <td>4</td>\n",
       "      <td>1</td>\n",
       "      <td>1</td>\n",
       "      <td>Futrelle, Mrs. Jacques Heath (Lily May Peel)</td>\n",
       "      <td>female</td>\n",
       "      <td>35.0</td>\n",
       "      <td>1</td>\n",
       "      <td>0</td>\n",
       "      <td>113803</td>\n",
       "      <td>53.1000</td>\n",
       "      <td>C123</td>\n",
       "      <td>S</td>\n",
       "    </tr>\n",
       "    <tr>\n",
       "      <th>4</th>\n",
       "      <td>5</td>\n",
       "      <td>0</td>\n",
       "      <td>3</td>\n",
       "      <td>Allen, Mr. William Henry</td>\n",
       "      <td>male</td>\n",
       "      <td>35.0</td>\n",
       "      <td>0</td>\n",
       "      <td>0</td>\n",
       "      <td>373450</td>\n",
       "      <td>8.0500</td>\n",
       "      <td>NaN</td>\n",
       "      <td>S</td>\n",
       "    </tr>\n",
       "  </tbody>\n",
       "</table>\n",
       "</div>\n",
       "      <button class=\"colab-df-convert\" onclick=\"convertToInteractive('df-9da537d4-d87f-43b3-9ba5-9fa041a7a007')\"\n",
       "              title=\"Convert this dataframe to an interactive table.\"\n",
       "              style=\"display:none;\">\n",
       "        \n",
       "  <svg xmlns=\"http://www.w3.org/2000/svg\" height=\"24px\"viewBox=\"0 0 24 24\"\n",
       "       width=\"24px\">\n",
       "    <path d=\"M0 0h24v24H0V0z\" fill=\"none\"/>\n",
       "    <path d=\"M18.56 5.44l.94 2.06.94-2.06 2.06-.94-2.06-.94-.94-2.06-.94 2.06-2.06.94zm-11 1L8.5 8.5l.94-2.06 2.06-.94-2.06-.94L8.5 2.5l-.94 2.06-2.06.94zm10 10l.94 2.06.94-2.06 2.06-.94-2.06-.94-.94-2.06-.94 2.06-2.06.94z\"/><path d=\"M17.41 7.96l-1.37-1.37c-.4-.4-.92-.59-1.43-.59-.52 0-1.04.2-1.43.59L10.3 9.45l-7.72 7.72c-.78.78-.78 2.05 0 2.83L4 21.41c.39.39.9.59 1.41.59.51 0 1.02-.2 1.41-.59l7.78-7.78 2.81-2.81c.8-.78.8-2.07 0-2.86zM5.41 20L4 18.59l7.72-7.72 1.47 1.35L5.41 20z\"/>\n",
       "  </svg>\n",
       "      </button>\n",
       "      \n",
       "  <style>\n",
       "    .colab-df-container {\n",
       "      display:flex;\n",
       "      flex-wrap:wrap;\n",
       "      gap: 12px;\n",
       "    }\n",
       "\n",
       "    .colab-df-convert {\n",
       "      background-color: #E8F0FE;\n",
       "      border: none;\n",
       "      border-radius: 50%;\n",
       "      cursor: pointer;\n",
       "      display: none;\n",
       "      fill: #1967D2;\n",
       "      height: 32px;\n",
       "      padding: 0 0 0 0;\n",
       "      width: 32px;\n",
       "    }\n",
       "\n",
       "    .colab-df-convert:hover {\n",
       "      background-color: #E2EBFA;\n",
       "      box-shadow: 0px 1px 2px rgba(60, 64, 67, 0.3), 0px 1px 3px 1px rgba(60, 64, 67, 0.15);\n",
       "      fill: #174EA6;\n",
       "    }\n",
       "\n",
       "    [theme=dark] .colab-df-convert {\n",
       "      background-color: #3B4455;\n",
       "      fill: #D2E3FC;\n",
       "    }\n",
       "\n",
       "    [theme=dark] .colab-df-convert:hover {\n",
       "      background-color: #434B5C;\n",
       "      box-shadow: 0px 1px 3px 1px rgba(0, 0, 0, 0.15);\n",
       "      filter: drop-shadow(0px 1px 2px rgba(0, 0, 0, 0.3));\n",
       "      fill: #FFFFFF;\n",
       "    }\n",
       "  </style>\n",
       "\n",
       "      <script>\n",
       "        const buttonEl =\n",
       "          document.querySelector('#df-9da537d4-d87f-43b3-9ba5-9fa041a7a007 button.colab-df-convert');\n",
       "        buttonEl.style.display =\n",
       "          google.colab.kernel.accessAllowed ? 'block' : 'none';\n",
       "\n",
       "        async function convertToInteractive(key) {\n",
       "          const element = document.querySelector('#df-9da537d4-d87f-43b3-9ba5-9fa041a7a007');\n",
       "          const dataTable =\n",
       "            await google.colab.kernel.invokeFunction('convertToInteractive',\n",
       "                                                     [key], {});\n",
       "          if (!dataTable) return;\n",
       "\n",
       "          const docLinkHtml = 'Like what you see? Visit the ' +\n",
       "            '<a target=\"_blank\" href=https://colab.research.google.com/notebooks/data_table.ipynb>data table notebook</a>'\n",
       "            + ' to learn more about interactive tables.';\n",
       "          element.innerHTML = '';\n",
       "          dataTable['output_type'] = 'display_data';\n",
       "          await google.colab.output.renderOutput(dataTable, element);\n",
       "          const docLink = document.createElement('div');\n",
       "          docLink.innerHTML = docLinkHtml;\n",
       "          element.appendChild(docLink);\n",
       "        }\n",
       "      </script>\n",
       "    </div>\n",
       "  </div>\n",
       "  "
      ],
      "text/plain": [
       "   PassengerId  Survived  Pclass  \\\n",
       "0            1         0       3   \n",
       "1            2         1       1   \n",
       "2            3         1       3   \n",
       "3            4         1       1   \n",
       "4            5         0       3   \n",
       "\n",
       "                                                Name     Sex   Age  SibSp  \\\n",
       "0                            Braund, Mr. Owen Harris    male  22.0      1   \n",
       "1  Cumings, Mrs. John Bradley (Florence Briggs Th...  female  38.0      1   \n",
       "2                             Heikkinen, Miss. Laina  female  26.0      0   \n",
       "3       Futrelle, Mrs. Jacques Heath (Lily May Peel)  female  35.0      1   \n",
       "4                           Allen, Mr. William Henry    male  35.0      0   \n",
       "\n",
       "   Parch            Ticket     Fare Cabin Embarked  \n",
       "0      0         A/5 21171   7.2500   NaN        S  \n",
       "1      0          PC 17599  71.2833   C85        C  \n",
       "2      0  STON/O2. 3101282   7.9250   NaN        S  \n",
       "3      0            113803  53.1000  C123        S  \n",
       "4      0            373450   8.0500   NaN        S  "
      ]
     },
     "execution_count": 120,
     "metadata": {},
     "output_type": "execute_result"
    }
   ],
   "source": [
    "df.head()\n"
   ]
  },
  {
   "cell_type": "markdown",
   "id": "63a2af8c",
   "metadata": {
    "id": "63a2af8c"
   },
   "source": [
    "### Text Files\n",
    "\n",
    "**Plain Text Files**"
   ]
  },
  {
   "cell_type": "code",
   "execution_count": 121,
   "id": "c7dabd02",
   "metadata": {
    "colab": {
     "base_uri": "https://localhost:8080/"
    },
    "id": "c7dabd02",
    "outputId": "c3329ccf-94b5-467b-dae2-20988927d3c5"
   },
   "outputs": [
    {
     "name": "stdout",
     "output_type": "stream",
     "text": [
      "False\n"
     ]
    }
   ],
   "source": [
    "filename = 'data/huck_finn.txt'\n",
    "file = open(filename, mode='r')  # Open the file for reading\n",
    "text = file.read()  # Reado file's contents\n",
    "print(file.closed)  # Check whether file is closed\n",
    "file.close()  # Close file\n",
    "# print(text)\n"
   ]
  },
  {
   "cell_type": "code",
   "execution_count": 122,
   "id": "f2107cf2",
   "metadata": {
    "colab": {
     "base_uri": "https://localhost:8080/"
    },
    "id": "f2107cf2",
    "outputId": "4a3ba18a-3dc6-43bc-aa11-b9b4f2482868"
   },
   "outputs": [
    {
     "name": "stdout",
     "output_type": "stream",
     "text": [
      "\n",
      "\n",
      "\n",
      "\n",
      "The Project Gutenberg EBook of Adventures of Huckleberry Finn, Complete\n",
      "\n"
     ]
    }
   ],
   "source": [
    "with open('data/huck_finn.txt', 'r') as file:\n",
    "    print(file.readline())  # Read single line\n",
    "    print(file.readline())\n",
    "    print(file.readline())\n"
   ]
  },
  {
   "cell_type": "markdown",
   "id": "9da8a8ed",
   "metadata": {
    "id": "9da8a8ed"
   },
   "source": [
    "## Table Data: Flat Files\n",
    "\n",
    "**Importing Flat Files with NumPy**"
   ]
  },
  {
   "cell_type": "code",
   "execution_count": 123,
   "id": "c01022d8",
   "metadata": {
    "colab": {
     "base_uri": "https://localhost:8080/"
    },
    "id": "c01022d8",
    "outputId": "c544ef2f-55c6-4692-8bb3-c872ef76d6e6"
   },
   "outputs": [
    {
     "name": "stdout",
     "output_type": "stream",
     "text": [
      "False\n"
     ]
    }
   ],
   "source": [
    "filename = 'data/huck_finn.txt'\n",
    "file = open(filename, mode='r')  # Open the file for reading\n",
    "text = file.read()  # Reado file's contents\n",
    "print(file.closed)  # Check whether file is closed\n",
    "file.close()  # Close file\n",
    "# print(text)\n"
   ]
  },
  {
   "cell_type": "markdown",
   "id": "0165006b",
   "metadata": {
    "id": "0165006b"
   },
   "source": [
    "**Files with one data type**\n"
   ]
  },
  {
   "cell_type": "code",
   "execution_count": 124,
   "id": "645ae29f",
   "metadata": {
    "id": "645ae29f"
   },
   "outputs": [],
   "source": [
    "filename = 'data/mnist.txt'\n",
    "data = np.loadtxt(filename,\n",
    "                  delimiter=',',  # String used to separate values\n",
    "                  skiprows=2,  # Skip the first 2 lines\n",
    "                  usecols=[0, 2],  # Read the 1st and 3rd column\n",
    "                  dtype=str)  # The type of the resulting array\n"
   ]
  },
  {
   "cell_type": "markdown",
   "id": "56fd756e",
   "metadata": {
    "id": "56fd756e"
   },
   "source": [
    "\n",
    "**Files with mixed data type**\n"
   ]
  },
  {
   "cell_type": "code",
   "execution_count": 189,
   "id": "01f52332",
   "metadata": {
    "id": "01f52332"
   },
   "outputs": [],
   "source": [
    "filename = 'data/breast-cancer.csv'\n",
    "data = np.genfromtxt(filename,\n",
    "                     delimiter=',',\n",
    "                     names=True,  # Look for column header\n",
    "                     dtype=None)\n",
    "data_array = np.recfromcsv(filename)\n",
    "# The default dtype of the np.recfromcsv() function is None\n"
   ]
  },
  {
   "cell_type": "markdown",
   "id": "e8ff2872",
   "metadata": {
    "id": "e8ff2872"
   },
   "source": [
    "\n",
    "### Importing Flat Files with Pandas\n",
    "\n"
   ]
  },
  {
   "cell_type": "code",
   "execution_count": 185,
   "id": "10107bca",
   "metadata": {
    "id": "10107bca"
   },
   "outputs": [],
   "source": [
    "filename = 'data/winequality-red.csv'\n",
    "data = pd.read_csv(filename,\n",
    "                   nrows=5,  # Number of rows of file to read\n",
    "                   header=None,  # Row number to use as col names\n",
    "                   sep='\\t',  # Delimiter to use\n",
    "                   comment='#',  # Character to split comments\n",
    "                   na_values=[\"\"])  # String to recognize as NA/NaN\n"
   ]
  },
  {
   "cell_type": "markdown",
   "id": "a7c0bd3e",
   "metadata": {
    "id": "a7c0bd3e"
   },
   "source": [
    "\n",
    "## Exploring Your Data\n",
    "\n",
    "**NumPy Arrays**\n",
    "\n"
   ]
  },
  {
   "cell_type": "code",
   "execution_count": 182,
   "id": "da153dc3",
   "metadata": {
    "colab": {
     "base_uri": "https://localhost:8080/"
    },
    "id": "da153dc3",
    "outputId": "17c369d9-0baa-4fdb-e27f-f006b155d3af"
   },
   "outputs": [
    {
     "data": {
      "text/plain": [
       "dtype((numpy.record, [('id', '<i8'), ('clump_thickness', '<i8'), ('uniformity_of_cell_size', '<i8'), ('uniformity_of_cell_shape', '<i8'), ('marginal_adhesion', '<i8'), ('single_epithelial_cell_size', '<i8'), ('bare_nuclei', '<i8'), ('bland_chromatin', '<i8'), ('normal_nucleoli', '<i8'), ('mitoses', '<i8'), ('class', '<i8')]))"
      ]
     },
     "execution_count": 182,
     "metadata": {},
     "output_type": "execute_result"
    }
   ],
   "source": [
    "data_array.dtype  # Data type of array elements\n"
   ]
  },
  {
   "cell_type": "code",
   "execution_count": 183,
   "id": "FqHN3bHc6YUy",
   "metadata": {
    "colab": {
     "base_uri": "https://localhost:8080/"
    },
    "id": "FqHN3bHc6YUy",
    "outputId": "f627d4e4-1dc0-445f-9d87-494fdf60052d"
   },
   "outputs": [
    {
     "data": {
      "text/plain": [
       "(683,)"
      ]
     },
     "execution_count": 183,
     "metadata": {},
     "output_type": "execute_result"
    }
   ],
   "source": [
    "data_array.shape  # Array dimensions\n"
   ]
  },
  {
   "cell_type": "code",
   "execution_count": 184,
   "id": "jICEN5mO6Zbs",
   "metadata": {
    "colab": {
     "base_uri": "https://localhost:8080/"
    },
    "id": "jICEN5mO6Zbs",
    "outputId": "03f60433-3177-4725-fede-a9495e24ad5c"
   },
   "outputs": [
    {
     "data": {
      "text/plain": [
       "683"
      ]
     },
     "execution_count": 184,
     "metadata": {},
     "output_type": "execute_result"
    }
   ],
   "source": [
    "len(data_array)  # Length of array\n"
   ]
  },
  {
   "cell_type": "markdown",
   "id": "5ca8db9b",
   "metadata": {
    "id": "5ca8db9b"
   },
   "source": [
    "\n",
    "**Pandas DataFrames**\n",
    "\n"
   ]
  },
  {
   "cell_type": "code",
   "execution_count": 190,
   "id": "CApFAphd9DaJ",
   "metadata": {
    "id": "CApFAphd9DaJ"
   },
   "outputs": [],
   "source": [
    "df = pd.read_csv('data/titanic.csv')\n"
   ]
  },
  {
   "cell_type": "code",
   "execution_count": 191,
   "id": "845c2eb4",
   "metadata": {
    "colab": {
     "base_uri": "https://localhost:8080/",
     "height": 302
    },
    "id": "845c2eb4",
    "outputId": "82aa7c16-8270-41dd-db23-abb26a3681e4"
   },
   "outputs": [
    {
     "data": {
      "text/html": [
       "\n",
       "  <div id=\"df-aa2ba067-a74d-4a86-b09d-9747df879c16\">\n",
       "    <div class=\"colab-df-container\">\n",
       "      <div>\n",
       "<style scoped>\n",
       "    .dataframe tbody tr th:only-of-type {\n",
       "        vertical-align: middle;\n",
       "    }\n",
       "\n",
       "    .dataframe tbody tr th {\n",
       "        vertical-align: top;\n",
       "    }\n",
       "\n",
       "    .dataframe thead th {\n",
       "        text-align: right;\n",
       "    }\n",
       "</style>\n",
       "<table border=\"1\" class=\"dataframe\">\n",
       "  <thead>\n",
       "    <tr style=\"text-align: right;\">\n",
       "      <th></th>\n",
       "      <th>PassengerId</th>\n",
       "      <th>Survived</th>\n",
       "      <th>Pclass</th>\n",
       "      <th>Name</th>\n",
       "      <th>Sex</th>\n",
       "      <th>Age</th>\n",
       "      <th>SibSp</th>\n",
       "      <th>Parch</th>\n",
       "      <th>Ticket</th>\n",
       "      <th>Fare</th>\n",
       "      <th>Cabin</th>\n",
       "      <th>Embarked</th>\n",
       "    </tr>\n",
       "  </thead>\n",
       "  <tbody>\n",
       "    <tr>\n",
       "      <th>0</th>\n",
       "      <td>1</td>\n",
       "      <td>0</td>\n",
       "      <td>3</td>\n",
       "      <td>Braund, Mr. Owen Harris</td>\n",
       "      <td>male</td>\n",
       "      <td>22.0</td>\n",
       "      <td>1</td>\n",
       "      <td>0</td>\n",
       "      <td>A/5 21171</td>\n",
       "      <td>7.2500</td>\n",
       "      <td>NaN</td>\n",
       "      <td>S</td>\n",
       "    </tr>\n",
       "    <tr>\n",
       "      <th>1</th>\n",
       "      <td>2</td>\n",
       "      <td>1</td>\n",
       "      <td>1</td>\n",
       "      <td>Cumings, Mrs. John Bradley (Florence Briggs Th...</td>\n",
       "      <td>female</td>\n",
       "      <td>38.0</td>\n",
       "      <td>1</td>\n",
       "      <td>0</td>\n",
       "      <td>PC 17599</td>\n",
       "      <td>71.2833</td>\n",
       "      <td>C85</td>\n",
       "      <td>C</td>\n",
       "    </tr>\n",
       "    <tr>\n",
       "      <th>2</th>\n",
       "      <td>3</td>\n",
       "      <td>1</td>\n",
       "      <td>3</td>\n",
       "      <td>Heikkinen, Miss. Laina</td>\n",
       "      <td>female</td>\n",
       "      <td>26.0</td>\n",
       "      <td>0</td>\n",
       "      <td>0</td>\n",
       "      <td>STON/O2. 3101282</td>\n",
       "      <td>7.9250</td>\n",
       "      <td>NaN</td>\n",
       "      <td>S</td>\n",
       "    </tr>\n",
       "    <tr>\n",
       "      <th>3</th>\n",
       "      <td>4</td>\n",
       "      <td>1</td>\n",
       "      <td>1</td>\n",
       "      <td>Futrelle, Mrs. Jacques Heath (Lily May Peel)</td>\n",
       "      <td>female</td>\n",
       "      <td>35.0</td>\n",
       "      <td>1</td>\n",
       "      <td>0</td>\n",
       "      <td>113803</td>\n",
       "      <td>53.1000</td>\n",
       "      <td>C123</td>\n",
       "      <td>S</td>\n",
       "    </tr>\n",
       "    <tr>\n",
       "      <th>4</th>\n",
       "      <td>5</td>\n",
       "      <td>0</td>\n",
       "      <td>3</td>\n",
       "      <td>Allen, Mr. William Henry</td>\n",
       "      <td>male</td>\n",
       "      <td>35.0</td>\n",
       "      <td>0</td>\n",
       "      <td>0</td>\n",
       "      <td>373450</td>\n",
       "      <td>8.0500</td>\n",
       "      <td>NaN</td>\n",
       "      <td>S</td>\n",
       "    </tr>\n",
       "  </tbody>\n",
       "</table>\n",
       "</div>\n",
       "      <button class=\"colab-df-convert\" onclick=\"convertToInteractive('df-aa2ba067-a74d-4a86-b09d-9747df879c16')\"\n",
       "              title=\"Convert this dataframe to an interactive table.\"\n",
       "              style=\"display:none;\">\n",
       "        \n",
       "  <svg xmlns=\"http://www.w3.org/2000/svg\" height=\"24px\"viewBox=\"0 0 24 24\"\n",
       "       width=\"24px\">\n",
       "    <path d=\"M0 0h24v24H0V0z\" fill=\"none\"/>\n",
       "    <path d=\"M18.56 5.44l.94 2.06.94-2.06 2.06-.94-2.06-.94-.94-2.06-.94 2.06-2.06.94zm-11 1L8.5 8.5l.94-2.06 2.06-.94-2.06-.94L8.5 2.5l-.94 2.06-2.06.94zm10 10l.94 2.06.94-2.06 2.06-.94-2.06-.94-.94-2.06-.94 2.06-2.06.94z\"/><path d=\"M17.41 7.96l-1.37-1.37c-.4-.4-.92-.59-1.43-.59-.52 0-1.04.2-1.43.59L10.3 9.45l-7.72 7.72c-.78.78-.78 2.05 0 2.83L4 21.41c.39.39.9.59 1.41.59.51 0 1.02-.2 1.41-.59l7.78-7.78 2.81-2.81c.8-.78.8-2.07 0-2.86zM5.41 20L4 18.59l7.72-7.72 1.47 1.35L5.41 20z\"/>\n",
       "  </svg>\n",
       "      </button>\n",
       "      \n",
       "  <style>\n",
       "    .colab-df-container {\n",
       "      display:flex;\n",
       "      flex-wrap:wrap;\n",
       "      gap: 12px;\n",
       "    }\n",
       "\n",
       "    .colab-df-convert {\n",
       "      background-color: #E8F0FE;\n",
       "      border: none;\n",
       "      border-radius: 50%;\n",
       "      cursor: pointer;\n",
       "      display: none;\n",
       "      fill: #1967D2;\n",
       "      height: 32px;\n",
       "      padding: 0 0 0 0;\n",
       "      width: 32px;\n",
       "    }\n",
       "\n",
       "    .colab-df-convert:hover {\n",
       "      background-color: #E2EBFA;\n",
       "      box-shadow: 0px 1px 2px rgba(60, 64, 67, 0.3), 0px 1px 3px 1px rgba(60, 64, 67, 0.15);\n",
       "      fill: #174EA6;\n",
       "    }\n",
       "\n",
       "    [theme=dark] .colab-df-convert {\n",
       "      background-color: #3B4455;\n",
       "      fill: #D2E3FC;\n",
       "    }\n",
       "\n",
       "    [theme=dark] .colab-df-convert:hover {\n",
       "      background-color: #434B5C;\n",
       "      box-shadow: 0px 1px 3px 1px rgba(0, 0, 0, 0.15);\n",
       "      filter: drop-shadow(0px 1px 2px rgba(0, 0, 0, 0.3));\n",
       "      fill: #FFFFFF;\n",
       "    }\n",
       "  </style>\n",
       "\n",
       "      <script>\n",
       "        const buttonEl =\n",
       "          document.querySelector('#df-aa2ba067-a74d-4a86-b09d-9747df879c16 button.colab-df-convert');\n",
       "        buttonEl.style.display =\n",
       "          google.colab.kernel.accessAllowed ? 'block' : 'none';\n",
       "\n",
       "        async function convertToInteractive(key) {\n",
       "          const element = document.querySelector('#df-aa2ba067-a74d-4a86-b09d-9747df879c16');\n",
       "          const dataTable =\n",
       "            await google.colab.kernel.invokeFunction('convertToInteractive',\n",
       "                                                     [key], {});\n",
       "          if (!dataTable) return;\n",
       "\n",
       "          const docLinkHtml = 'Like what you see? Visit the ' +\n",
       "            '<a target=\"_blank\" href=https://colab.research.google.com/notebooks/data_table.ipynb>data table notebook</a>'\n",
       "            + ' to learn more about interactive tables.';\n",
       "          element.innerHTML = '';\n",
       "          dataTable['output_type'] = 'display_data';\n",
       "          await google.colab.output.renderOutput(dataTable, element);\n",
       "          const docLink = document.createElement('div');\n",
       "          docLink.innerHTML = docLinkHtml;\n",
       "          element.appendChild(docLink);\n",
       "        }\n",
       "      </script>\n",
       "    </div>\n",
       "  </div>\n",
       "  "
      ],
      "text/plain": [
       "   PassengerId  Survived  Pclass  \\\n",
       "0            1         0       3   \n",
       "1            2         1       1   \n",
       "2            3         1       3   \n",
       "3            4         1       1   \n",
       "4            5         0       3   \n",
       "\n",
       "                                                Name     Sex   Age  SibSp  \\\n",
       "0                            Braund, Mr. Owen Harris    male  22.0      1   \n",
       "1  Cumings, Mrs. John Bradley (Florence Briggs Th...  female  38.0      1   \n",
       "2                             Heikkinen, Miss. Laina  female  26.0      0   \n",
       "3       Futrelle, Mrs. Jacques Heath (Lily May Peel)  female  35.0      1   \n",
       "4                           Allen, Mr. William Henry    male  35.0      0   \n",
       "\n",
       "   Parch            Ticket     Fare Cabin Embarked  \n",
       "0      0         A/5 21171   7.2500   NaN        S  \n",
       "1      0          PC 17599  71.2833   C85        C  \n",
       "2      0  STON/O2. 3101282   7.9250   NaN        S  \n",
       "3      0            113803  53.1000  C123        S  \n",
       "4      0            373450   8.0500   NaN        S  "
      ]
     },
     "execution_count": 191,
     "metadata": {},
     "output_type": "execute_result"
    }
   ],
   "source": [
    "df.head()  # Return first DataFrame rows\n"
   ]
  },
  {
   "cell_type": "code",
   "execution_count": 192,
   "id": "93ac207a",
   "metadata": {
    "colab": {
     "base_uri": "https://localhost:8080/",
     "height": 267
    },
    "id": "93ac207a",
    "outputId": "82a517e2-49e3-46d9-ec9f-a87f181ca729"
   },
   "outputs": [
    {
     "data": {
      "text/html": [
       "\n",
       "  <div id=\"df-cd330917-19f0-4373-b64b-59d581342e9b\">\n",
       "    <div class=\"colab-df-container\">\n",
       "      <div>\n",
       "<style scoped>\n",
       "    .dataframe tbody tr th:only-of-type {\n",
       "        vertical-align: middle;\n",
       "    }\n",
       "\n",
       "    .dataframe tbody tr th {\n",
       "        vertical-align: top;\n",
       "    }\n",
       "\n",
       "    .dataframe thead th {\n",
       "        text-align: right;\n",
       "    }\n",
       "</style>\n",
       "<table border=\"1\" class=\"dataframe\">\n",
       "  <thead>\n",
       "    <tr style=\"text-align: right;\">\n",
       "      <th></th>\n",
       "      <th>PassengerId</th>\n",
       "      <th>Survived</th>\n",
       "      <th>Pclass</th>\n",
       "      <th>Name</th>\n",
       "      <th>Sex</th>\n",
       "      <th>Age</th>\n",
       "      <th>SibSp</th>\n",
       "      <th>Parch</th>\n",
       "      <th>Ticket</th>\n",
       "      <th>Fare</th>\n",
       "      <th>Cabin</th>\n",
       "      <th>Embarked</th>\n",
       "    </tr>\n",
       "  </thead>\n",
       "  <tbody>\n",
       "    <tr>\n",
       "      <th>886</th>\n",
       "      <td>887</td>\n",
       "      <td>0</td>\n",
       "      <td>2</td>\n",
       "      <td>Montvila, Rev. Juozas</td>\n",
       "      <td>male</td>\n",
       "      <td>27.0</td>\n",
       "      <td>0</td>\n",
       "      <td>0</td>\n",
       "      <td>211536</td>\n",
       "      <td>13.00</td>\n",
       "      <td>NaN</td>\n",
       "      <td>S</td>\n",
       "    </tr>\n",
       "    <tr>\n",
       "      <th>887</th>\n",
       "      <td>888</td>\n",
       "      <td>1</td>\n",
       "      <td>1</td>\n",
       "      <td>Graham, Miss. Margaret Edith</td>\n",
       "      <td>female</td>\n",
       "      <td>19.0</td>\n",
       "      <td>0</td>\n",
       "      <td>0</td>\n",
       "      <td>112053</td>\n",
       "      <td>30.00</td>\n",
       "      <td>B42</td>\n",
       "      <td>S</td>\n",
       "    </tr>\n",
       "    <tr>\n",
       "      <th>888</th>\n",
       "      <td>889</td>\n",
       "      <td>0</td>\n",
       "      <td>3</td>\n",
       "      <td>Johnston, Miss. Catherine Helen \"Carrie\"</td>\n",
       "      <td>female</td>\n",
       "      <td>NaN</td>\n",
       "      <td>1</td>\n",
       "      <td>2</td>\n",
       "      <td>W./C. 6607</td>\n",
       "      <td>23.45</td>\n",
       "      <td>NaN</td>\n",
       "      <td>S</td>\n",
       "    </tr>\n",
       "    <tr>\n",
       "      <th>889</th>\n",
       "      <td>890</td>\n",
       "      <td>1</td>\n",
       "      <td>1</td>\n",
       "      <td>Behr, Mr. Karl Howell</td>\n",
       "      <td>male</td>\n",
       "      <td>26.0</td>\n",
       "      <td>0</td>\n",
       "      <td>0</td>\n",
       "      <td>111369</td>\n",
       "      <td>30.00</td>\n",
       "      <td>C148</td>\n",
       "      <td>C</td>\n",
       "    </tr>\n",
       "    <tr>\n",
       "      <th>890</th>\n",
       "      <td>891</td>\n",
       "      <td>0</td>\n",
       "      <td>3</td>\n",
       "      <td>Dooley, Mr. Patrick</td>\n",
       "      <td>male</td>\n",
       "      <td>32.0</td>\n",
       "      <td>0</td>\n",
       "      <td>0</td>\n",
       "      <td>370376</td>\n",
       "      <td>7.75</td>\n",
       "      <td>NaN</td>\n",
       "      <td>Q</td>\n",
       "    </tr>\n",
       "  </tbody>\n",
       "</table>\n",
       "</div>\n",
       "      <button class=\"colab-df-convert\" onclick=\"convertToInteractive('df-cd330917-19f0-4373-b64b-59d581342e9b')\"\n",
       "              title=\"Convert this dataframe to an interactive table.\"\n",
       "              style=\"display:none;\">\n",
       "        \n",
       "  <svg xmlns=\"http://www.w3.org/2000/svg\" height=\"24px\"viewBox=\"0 0 24 24\"\n",
       "       width=\"24px\">\n",
       "    <path d=\"M0 0h24v24H0V0z\" fill=\"none\"/>\n",
       "    <path d=\"M18.56 5.44l.94 2.06.94-2.06 2.06-.94-2.06-.94-.94-2.06-.94 2.06-2.06.94zm-11 1L8.5 8.5l.94-2.06 2.06-.94-2.06-.94L8.5 2.5l-.94 2.06-2.06.94zm10 10l.94 2.06.94-2.06 2.06-.94-2.06-.94-.94-2.06-.94 2.06-2.06.94z\"/><path d=\"M17.41 7.96l-1.37-1.37c-.4-.4-.92-.59-1.43-.59-.52 0-1.04.2-1.43.59L10.3 9.45l-7.72 7.72c-.78.78-.78 2.05 0 2.83L4 21.41c.39.39.9.59 1.41.59.51 0 1.02-.2 1.41-.59l7.78-7.78 2.81-2.81c.8-.78.8-2.07 0-2.86zM5.41 20L4 18.59l7.72-7.72 1.47 1.35L5.41 20z\"/>\n",
       "  </svg>\n",
       "      </button>\n",
       "      \n",
       "  <style>\n",
       "    .colab-df-container {\n",
       "      display:flex;\n",
       "      flex-wrap:wrap;\n",
       "      gap: 12px;\n",
       "    }\n",
       "\n",
       "    .colab-df-convert {\n",
       "      background-color: #E8F0FE;\n",
       "      border: none;\n",
       "      border-radius: 50%;\n",
       "      cursor: pointer;\n",
       "      display: none;\n",
       "      fill: #1967D2;\n",
       "      height: 32px;\n",
       "      padding: 0 0 0 0;\n",
       "      width: 32px;\n",
       "    }\n",
       "\n",
       "    .colab-df-convert:hover {\n",
       "      background-color: #E2EBFA;\n",
       "      box-shadow: 0px 1px 2px rgba(60, 64, 67, 0.3), 0px 1px 3px 1px rgba(60, 64, 67, 0.15);\n",
       "      fill: #174EA6;\n",
       "    }\n",
       "\n",
       "    [theme=dark] .colab-df-convert {\n",
       "      background-color: #3B4455;\n",
       "      fill: #D2E3FC;\n",
       "    }\n",
       "\n",
       "    [theme=dark] .colab-df-convert:hover {\n",
       "      background-color: #434B5C;\n",
       "      box-shadow: 0px 1px 3px 1px rgba(0, 0, 0, 0.15);\n",
       "      filter: drop-shadow(0px 1px 2px rgba(0, 0, 0, 0.3));\n",
       "      fill: #FFFFFF;\n",
       "    }\n",
       "  </style>\n",
       "\n",
       "      <script>\n",
       "        const buttonEl =\n",
       "          document.querySelector('#df-cd330917-19f0-4373-b64b-59d581342e9b button.colab-df-convert');\n",
       "        buttonEl.style.display =\n",
       "          google.colab.kernel.accessAllowed ? 'block' : 'none';\n",
       "\n",
       "        async function convertToInteractive(key) {\n",
       "          const element = document.querySelector('#df-cd330917-19f0-4373-b64b-59d581342e9b');\n",
       "          const dataTable =\n",
       "            await google.colab.kernel.invokeFunction('convertToInteractive',\n",
       "                                                     [key], {});\n",
       "          if (!dataTable) return;\n",
       "\n",
       "          const docLinkHtml = 'Like what you see? Visit the ' +\n",
       "            '<a target=\"_blank\" href=https://colab.research.google.com/notebooks/data_table.ipynb>data table notebook</a>'\n",
       "            + ' to learn more about interactive tables.';\n",
       "          element.innerHTML = '';\n",
       "          dataTable['output_type'] = 'display_data';\n",
       "          await google.colab.output.renderOutput(dataTable, element);\n",
       "          const docLink = document.createElement('div');\n",
       "          docLink.innerHTML = docLinkHtml;\n",
       "          element.appendChild(docLink);\n",
       "        }\n",
       "      </script>\n",
       "    </div>\n",
       "  </div>\n",
       "  "
      ],
      "text/plain": [
       "     PassengerId  Survived  Pclass                                      Name  \\\n",
       "886          887         0       2                     Montvila, Rev. Juozas   \n",
       "887          888         1       1              Graham, Miss. Margaret Edith   \n",
       "888          889         0       3  Johnston, Miss. Catherine Helen \"Carrie\"   \n",
       "889          890         1       1                     Behr, Mr. Karl Howell   \n",
       "890          891         0       3                       Dooley, Mr. Patrick   \n",
       "\n",
       "        Sex   Age  SibSp  Parch      Ticket   Fare Cabin Embarked  \n",
       "886    male  27.0      0      0      211536  13.00   NaN        S  \n",
       "887  female  19.0      0      0      112053  30.00   B42        S  \n",
       "888  female   NaN      1      2  W./C. 6607  23.45   NaN        S  \n",
       "889    male  26.0      0      0      111369  30.00  C148        C  \n",
       "890    male  32.0      0      0      370376   7.75   NaN        Q  "
      ]
     },
     "execution_count": 192,
     "metadata": {},
     "output_type": "execute_result"
    }
   ],
   "source": [
    "df.tail()  # Return last OataFrame rows\n"
   ]
  },
  {
   "cell_type": "code",
   "execution_count": 193,
   "id": "dd6c2776",
   "metadata": {
    "colab": {
     "base_uri": "https://localhost:8080/"
    },
    "id": "dd6c2776",
    "outputId": "63240bc8-925c-43e9-a7ee-8183c6ca54a8"
   },
   "outputs": [
    {
     "data": {
      "text/plain": [
       "RangeIndex(start=0, stop=891, step=1)"
      ]
     },
     "execution_count": 193,
     "metadata": {},
     "output_type": "execute_result"
    }
   ],
   "source": [
    "df.index  # Describe index\n"
   ]
  },
  {
   "cell_type": "code",
   "execution_count": 194,
   "id": "9424e3fc",
   "metadata": {
    "colab": {
     "base_uri": "https://localhost:8080/"
    },
    "id": "9424e3fc",
    "outputId": "787a25fd-cb5f-4cd4-937e-00c9db86fe25"
   },
   "outputs": [
    {
     "data": {
      "text/plain": [
       "Index(['PassengerId', 'Survived', 'Pclass', 'Name', 'Sex', 'Age', 'SibSp',\n",
       "       'Parch', 'Ticket', 'Fare', 'Cabin', 'Embarked'],\n",
       "      dtype='object')"
      ]
     },
     "execution_count": 194,
     "metadata": {},
     "output_type": "execute_result"
    }
   ],
   "source": [
    "df.columns  # Describe OataFrame columns\n"
   ]
  },
  {
   "cell_type": "code",
   "execution_count": 195,
   "id": "9e0d4517",
   "metadata": {
    "colab": {
     "base_uri": "https://localhost:8080/"
    },
    "id": "9e0d4517",
    "outputId": "47fa130c-3062-4453-b0d9-7857fe81a545"
   },
   "outputs": [
    {
     "name": "stdout",
     "output_type": "stream",
     "text": [
      "<class 'pandas.core.frame.DataFrame'>\n",
      "RangeIndex: 891 entries, 0 to 890\n",
      "Data columns (total 12 columns):\n",
      " #   Column       Non-Null Count  Dtype  \n",
      "---  ------       --------------  -----  \n",
      " 0   PassengerId  891 non-null    int64  \n",
      " 1   Survived     891 non-null    int64  \n",
      " 2   Pclass       891 non-null    int64  \n",
      " 3   Name         891 non-null    object \n",
      " 4   Sex          891 non-null    object \n",
      " 5   Age          714 non-null    float64\n",
      " 6   SibSp        891 non-null    int64  \n",
      " 7   Parch        891 non-null    int64  \n",
      " 8   Ticket       891 non-null    object \n",
      " 9   Fare         891 non-null    float64\n",
      " 10  Cabin        204 non-null    object \n",
      " 11  Embarked     889 non-null    object \n",
      "dtypes: float64(2), int64(5), object(5)\n",
      "memory usage: 83.7+ KB\n"
     ]
    }
   ],
   "source": [
    "df.info()  # Info an DataFrame\n"
   ]
  },
  {
   "cell_type": "code",
   "execution_count": 196,
   "id": "3f782c45",
   "metadata": {
    "id": "3f782c45"
   },
   "outputs": [],
   "source": [
    "data_array = df.values  # Convert a DataFrame to an a NumPy array\n"
   ]
  },
  {
   "cell_type": "markdown",
   "id": "429458aa",
   "metadata": {
    "id": "429458aa"
   },
   "source": [
    "\n",
    "**SAS File**\n",
    "\n"
   ]
  },
  {
   "cell_type": "code",
   "execution_count": 251,
   "id": "2503cad1",
   "metadata": {
    "colab": {
     "base_uri": "https://localhost:8080/"
    },
    "id": "2503cad1",
    "outputId": "16a76bca-f0fc-41c6-be53-42446ea6e4a8"
   },
   "outputs": [
    {
     "name": "stdout",
     "output_type": "stream",
     "text": [
      "Importing sas7bda module\n"
     ]
    }
   ],
   "source": [
    "try:\n",
    "    print(\"Importing sas7bda module\")\n",
    "    from sas7bdat import SAS7BDAT\n",
    "except ModuleNotFoundError:\n",
    "    print(\"Installing sas7bda module\")\n",
    "    !pip install sas7bdat\n"
   ]
  },
  {
   "cell_type": "code",
   "execution_count": 252,
   "id": "525f227a",
   "metadata": {
    "id": "525f227a"
   },
   "outputs": [],
   "source": [
    "from sas7bdat import SAS7BDAT\n",
    "with SAS7BDAT('data/cars.sas7bdat') as file:\n",
    "    df_sas = file.to_data_frame()\n"
   ]
  },
  {
   "cell_type": "markdown",
   "id": "7ecdc2b5",
   "metadata": {
    "id": "7ecdc2b5"
   },
   "source": [
    "\n",
    "**Stata File**\n"
   ]
  },
  {
   "cell_type": "code",
   "execution_count": 253,
   "id": "a75b1a8d",
   "metadata": {
    "id": "a75b1a8d"
   },
   "outputs": [],
   "source": [
    "data = pd.read_stata('data/TBL5-1.DTA')\n"
   ]
  },
  {
   "cell_type": "markdown",
   "id": "a08f4f47",
   "metadata": {
    "id": "a08f4f47"
   },
   "source": [
    "\n",
    "**Excel Spreadsheets**\n"
   ]
  },
  {
   "cell_type": "code",
   "execution_count": 254,
   "id": "7ddb1248",
   "metadata": {
    "colab": {
     "base_uri": "https://localhost:8080/"
    },
    "id": "7ddb1248",
    "outputId": "7d7911e3-bcf8-4414-d652-5a79340c6f54"
   },
   "outputs": [
    {
     "name": "stdout",
     "output_type": "stream",
     "text": [
      "Importing xlrd and openpyxl  modules\n"
     ]
    }
   ],
   "source": [
    "try:\n",
    "    print(\"Importing xlrd and openpyxl  modules\")\n",
    "    import xlrd\n",
    "    import openpyxl\n",
    "except ModuleNotFoundError:\n",
    "    print(\"Installing xlrd, openpyxl  modules\")\n",
    "    !pip install xlrd\n",
    "    !pip install openpyxl\n"
   ]
  },
  {
   "cell_type": "code",
   "execution_count": 255,
   "id": "0a6d05ca",
   "metadata": {
    "id": "0a6d05ca"
   },
   "outputs": [],
   "source": [
    "file = 'data/urbanpop.xlsx'\n",
    "data = pd.ExcelFile(file)\n"
   ]
  },
  {
   "cell_type": "code",
   "execution_count": 256,
   "id": "92b4abf9",
   "metadata": {
    "id": "92b4abf9"
   },
   "outputs": [],
   "source": [
    "df_sheet2 = data.parse('1960-1966', skiprows=[1])\n"
   ]
  },
  {
   "cell_type": "code",
   "execution_count": 257,
   "id": "bac0496f",
   "metadata": {
    "colab": {
     "base_uri": "https://localhost:8080/",
     "height": 206
    },
    "id": "bac0496f",
    "outputId": "08d9db42-9b66-489a-b51d-def4d87b1618"
   },
   "outputs": [
    {
     "data": {
      "text/html": [
       "\n",
       "  <div id=\"df-2e299991-da73-4ee4-b272-ea4e323eb19c\">\n",
       "    <div class=\"colab-df-container\">\n",
       "      <div>\n",
       "<style scoped>\n",
       "    .dataframe tbody tr th:only-of-type {\n",
       "        vertical-align: middle;\n",
       "    }\n",
       "\n",
       "    .dataframe tbody tr th {\n",
       "        vertical-align: top;\n",
       "    }\n",
       "\n",
       "    .dataframe thead th {\n",
       "        text-align: right;\n",
       "    }\n",
       "</style>\n",
       "<table border=\"1\" class=\"dataframe\">\n",
       "  <thead>\n",
       "    <tr style=\"text-align: right;\">\n",
       "      <th></th>\n",
       "      <th>country</th>\n",
       "      <th>1960</th>\n",
       "      <th>1961</th>\n",
       "      <th>1962</th>\n",
       "      <th>1963</th>\n",
       "      <th>1964</th>\n",
       "      <th>1965</th>\n",
       "      <th>1966</th>\n",
       "    </tr>\n",
       "  </thead>\n",
       "  <tbody>\n",
       "    <tr>\n",
       "      <th>0</th>\n",
       "      <td>Albania</td>\n",
       "      <td>494443.0</td>\n",
       "      <td>5.118028e+05</td>\n",
       "      <td>5.294389e+05</td>\n",
       "      <td>5.473767e+05</td>\n",
       "      <td>5.655718e+05</td>\n",
       "      <td>5.839829e+05</td>\n",
       "      <td>6.025122e+05</td>\n",
       "    </tr>\n",
       "    <tr>\n",
       "      <th>1</th>\n",
       "      <td>Algeria</td>\n",
       "      <td>3293999.0</td>\n",
       "      <td>3.515148e+06</td>\n",
       "      <td>3.739963e+06</td>\n",
       "      <td>3.973289e+06</td>\n",
       "      <td>4.220987e+06</td>\n",
       "      <td>4.488176e+06</td>\n",
       "      <td>4.649105e+06</td>\n",
       "    </tr>\n",
       "    <tr>\n",
       "      <th>2</th>\n",
       "      <td>American Samoa</td>\n",
       "      <td>NaN</td>\n",
       "      <td>1.366030e+04</td>\n",
       "      <td>1.416580e+04</td>\n",
       "      <td>1.475893e+04</td>\n",
       "      <td>1.539642e+04</td>\n",
       "      <td>1.604482e+04</td>\n",
       "      <td>1.669311e+04</td>\n",
       "    </tr>\n",
       "    <tr>\n",
       "      <th>3</th>\n",
       "      <td>Andorra</td>\n",
       "      <td>NaN</td>\n",
       "      <td>8.723921e+03</td>\n",
       "      <td>9.700346e+03</td>\n",
       "      <td>1.074838e+04</td>\n",
       "      <td>1.186586e+04</td>\n",
       "      <td>1.305275e+04</td>\n",
       "      <td>1.421681e+04</td>\n",
       "    </tr>\n",
       "    <tr>\n",
       "      <th>4</th>\n",
       "      <td>Angola</td>\n",
       "      <td>521205.0</td>\n",
       "      <td>5.482650e+05</td>\n",
       "      <td>5.796954e+05</td>\n",
       "      <td>6.120867e+05</td>\n",
       "      <td>6.452616e+05</td>\n",
       "      <td>6.791091e+05</td>\n",
       "      <td>7.178334e+05</td>\n",
       "    </tr>\n",
       "  </tbody>\n",
       "</table>\n",
       "</div>\n",
       "      <button class=\"colab-df-convert\" onclick=\"convertToInteractive('df-2e299991-da73-4ee4-b272-ea4e323eb19c')\"\n",
       "              title=\"Convert this dataframe to an interactive table.\"\n",
       "              style=\"display:none;\">\n",
       "        \n",
       "  <svg xmlns=\"http://www.w3.org/2000/svg\" height=\"24px\"viewBox=\"0 0 24 24\"\n",
       "       width=\"24px\">\n",
       "    <path d=\"M0 0h24v24H0V0z\" fill=\"none\"/>\n",
       "    <path d=\"M18.56 5.44l.94 2.06.94-2.06 2.06-.94-2.06-.94-.94-2.06-.94 2.06-2.06.94zm-11 1L8.5 8.5l.94-2.06 2.06-.94-2.06-.94L8.5 2.5l-.94 2.06-2.06.94zm10 10l.94 2.06.94-2.06 2.06-.94-2.06-.94-.94-2.06-.94 2.06-2.06.94z\"/><path d=\"M17.41 7.96l-1.37-1.37c-.4-.4-.92-.59-1.43-.59-.52 0-1.04.2-1.43.59L10.3 9.45l-7.72 7.72c-.78.78-.78 2.05 0 2.83L4 21.41c.39.39.9.59 1.41.59.51 0 1.02-.2 1.41-.59l7.78-7.78 2.81-2.81c.8-.78.8-2.07 0-2.86zM5.41 20L4 18.59l7.72-7.72 1.47 1.35L5.41 20z\"/>\n",
       "  </svg>\n",
       "      </button>\n",
       "      \n",
       "  <style>\n",
       "    .colab-df-container {\n",
       "      display:flex;\n",
       "      flex-wrap:wrap;\n",
       "      gap: 12px;\n",
       "    }\n",
       "\n",
       "    .colab-df-convert {\n",
       "      background-color: #E8F0FE;\n",
       "      border: none;\n",
       "      border-radius: 50%;\n",
       "      cursor: pointer;\n",
       "      display: none;\n",
       "      fill: #1967D2;\n",
       "      height: 32px;\n",
       "      padding: 0 0 0 0;\n",
       "      width: 32px;\n",
       "    }\n",
       "\n",
       "    .colab-df-convert:hover {\n",
       "      background-color: #E2EBFA;\n",
       "      box-shadow: 0px 1px 2px rgba(60, 64, 67, 0.3), 0px 1px 3px 1px rgba(60, 64, 67, 0.15);\n",
       "      fill: #174EA6;\n",
       "    }\n",
       "\n",
       "    [theme=dark] .colab-df-convert {\n",
       "      background-color: #3B4455;\n",
       "      fill: #D2E3FC;\n",
       "    }\n",
       "\n",
       "    [theme=dark] .colab-df-convert:hover {\n",
       "      background-color: #434B5C;\n",
       "      box-shadow: 0px 1px 3px 1px rgba(0, 0, 0, 0.15);\n",
       "      filter: drop-shadow(0px 1px 2px rgba(0, 0, 0, 0.3));\n",
       "      fill: #FFFFFF;\n",
       "    }\n",
       "  </style>\n",
       "\n",
       "      <script>\n",
       "        const buttonEl =\n",
       "          document.querySelector('#df-2e299991-da73-4ee4-b272-ea4e323eb19c button.colab-df-convert');\n",
       "        buttonEl.style.display =\n",
       "          google.colab.kernel.accessAllowed ? 'block' : 'none';\n",
       "\n",
       "        async function convertToInteractive(key) {\n",
       "          const element = document.querySelector('#df-2e299991-da73-4ee4-b272-ea4e323eb19c');\n",
       "          const dataTable =\n",
       "            await google.colab.kernel.invokeFunction('convertToInteractive',\n",
       "                                                     [key], {});\n",
       "          if (!dataTable) return;\n",
       "\n",
       "          const docLinkHtml = 'Like what you see? Visit the ' +\n",
       "            '<a target=\"_blank\" href=https://colab.research.google.com/notebooks/data_table.ipynb>data table notebook</a>'\n",
       "            + ' to learn more about interactive tables.';\n",
       "          element.innerHTML = '';\n",
       "          dataTable['output_type'] = 'display_data';\n",
       "          await google.colab.output.renderOutput(dataTable, element);\n",
       "          const docLink = document.createElement('div');\n",
       "          docLink.innerHTML = docLinkHtml;\n",
       "          element.appendChild(docLink);\n",
       "        }\n",
       "      </script>\n",
       "    </div>\n",
       "  </div>\n",
       "  "
      ],
      "text/plain": [
       "          country       1960          1961          1962          1963  \\\n",
       "0         Albania   494443.0  5.118028e+05  5.294389e+05  5.473767e+05   \n",
       "1         Algeria  3293999.0  3.515148e+06  3.739963e+06  3.973289e+06   \n",
       "2  American Samoa        NaN  1.366030e+04  1.416580e+04  1.475893e+04   \n",
       "3         Andorra        NaN  8.723921e+03  9.700346e+03  1.074838e+04   \n",
       "4          Angola   521205.0  5.482650e+05  5.796954e+05  6.120867e+05   \n",
       "\n",
       "           1964          1965          1966  \n",
       "0  5.655718e+05  5.839829e+05  6.025122e+05  \n",
       "1  4.220987e+06  4.488176e+06  4.649105e+06  \n",
       "2  1.539642e+04  1.604482e+04  1.669311e+04  \n",
       "3  1.186586e+04  1.305275e+04  1.421681e+04  \n",
       "4  6.452616e+05  6.791091e+05  7.178334e+05  "
      ]
     },
     "execution_count": 257,
     "metadata": {},
     "output_type": "execute_result"
    }
   ],
   "source": [
    "df_sheet2.head()\n"
   ]
  },
  {
   "cell_type": "code",
   "execution_count": 258,
   "id": "885ab0e9",
   "metadata": {
    "id": "885ab0e9"
   },
   "outputs": [],
   "source": [
    "df_sheetl = data.parse(1, parse_cols=[0], skiprows=[1])\n"
   ]
  },
  {
   "cell_type": "code",
   "execution_count": 259,
   "id": "6699ef71",
   "metadata": {
    "colab": {
     "base_uri": "https://localhost:8080/",
     "height": 267
    },
    "id": "6699ef71",
    "outputId": "c29d4dc8-ad9a-4b51-d8cf-f765890eb4e0"
   },
   "outputs": [
    {
     "data": {
      "text/html": [
       "\n",
       "  <div id=\"df-1adb2706-6bc9-40da-906c-6e3e3b032f74\">\n",
       "    <div class=\"colab-df-container\">\n",
       "      <div>\n",
       "<style scoped>\n",
       "    .dataframe tbody tr th:only-of-type {\n",
       "        vertical-align: middle;\n",
       "    }\n",
       "\n",
       "    .dataframe tbody tr th {\n",
       "        vertical-align: top;\n",
       "    }\n",
       "\n",
       "    .dataframe thead th {\n",
       "        text-align: right;\n",
       "    }\n",
       "</style>\n",
       "<table border=\"1\" class=\"dataframe\">\n",
       "  <thead>\n",
       "    <tr style=\"text-align: right;\">\n",
       "      <th></th>\n",
       "      <th>country</th>\n",
       "      <th>1967</th>\n",
       "      <th>1968</th>\n",
       "      <th>1969</th>\n",
       "      <th>1970</th>\n",
       "      <th>1971</th>\n",
       "      <th>1972</th>\n",
       "      <th>1973</th>\n",
       "      <th>1974</th>\n",
       "    </tr>\n",
       "  </thead>\n",
       "  <tbody>\n",
       "    <tr>\n",
       "      <th>0</th>\n",
       "      <td>Albania</td>\n",
       "      <td>6.211798e+05</td>\n",
       "      <td>6.399645e+05</td>\n",
       "      <td>6.588531e+05</td>\n",
       "      <td>6.778391e+05</td>\n",
       "      <td>6.989322e+05</td>\n",
       "      <td>7.202066e+05</td>\n",
       "      <td>7.416810e+05</td>\n",
       "      <td>7.633855e+05</td>\n",
       "    </tr>\n",
       "    <tr>\n",
       "      <th>1</th>\n",
       "      <td>Algeria</td>\n",
       "      <td>4.826104e+06</td>\n",
       "      <td>5.017299e+06</td>\n",
       "      <td>5.219332e+06</td>\n",
       "      <td>5.429743e+06</td>\n",
       "      <td>5.619042e+06</td>\n",
       "      <td>5.815734e+06</td>\n",
       "      <td>6.020647e+06</td>\n",
       "      <td>6.235114e+06</td>\n",
       "    </tr>\n",
       "    <tr>\n",
       "      <th>2</th>\n",
       "      <td>American Samoa</td>\n",
       "      <td>1.734866e+04</td>\n",
       "      <td>1.799551e+04</td>\n",
       "      <td>1.861868e+04</td>\n",
       "      <td>1.920639e+04</td>\n",
       "      <td>1.975202e+04</td>\n",
       "      <td>2.026267e+04</td>\n",
       "      <td>2.074197e+04</td>\n",
       "      <td>2.119438e+04</td>\n",
       "    </tr>\n",
       "    <tr>\n",
       "      <th>3</th>\n",
       "      <td>Andorra</td>\n",
       "      <td>1.543962e+04</td>\n",
       "      <td>1.672699e+04</td>\n",
       "      <td>1.808832e+04</td>\n",
       "      <td>1.952896e+04</td>\n",
       "      <td>2.092873e+04</td>\n",
       "      <td>2.240584e+04</td>\n",
       "      <td>2.393705e+04</td>\n",
       "      <td>2.548198e+04</td>\n",
       "    </tr>\n",
       "    <tr>\n",
       "      <th>4</th>\n",
       "      <td>Angola</td>\n",
       "      <td>7.574963e+05</td>\n",
       "      <td>7.984593e+05</td>\n",
       "      <td>8.412620e+05</td>\n",
       "      <td>8.864016e+05</td>\n",
       "      <td>9.550101e+05</td>\n",
       "      <td>1.027397e+06</td>\n",
       "      <td>1.103830e+06</td>\n",
       "      <td>1.184486e+06</td>\n",
       "    </tr>\n",
       "  </tbody>\n",
       "</table>\n",
       "</div>\n",
       "      <button class=\"colab-df-convert\" onclick=\"convertToInteractive('df-1adb2706-6bc9-40da-906c-6e3e3b032f74')\"\n",
       "              title=\"Convert this dataframe to an interactive table.\"\n",
       "              style=\"display:none;\">\n",
       "        \n",
       "  <svg xmlns=\"http://www.w3.org/2000/svg\" height=\"24px\"viewBox=\"0 0 24 24\"\n",
       "       width=\"24px\">\n",
       "    <path d=\"M0 0h24v24H0V0z\" fill=\"none\"/>\n",
       "    <path d=\"M18.56 5.44l.94 2.06.94-2.06 2.06-.94-2.06-.94-.94-2.06-.94 2.06-2.06.94zm-11 1L8.5 8.5l.94-2.06 2.06-.94-2.06-.94L8.5 2.5l-.94 2.06-2.06.94zm10 10l.94 2.06.94-2.06 2.06-.94-2.06-.94-.94-2.06-.94 2.06-2.06.94z\"/><path d=\"M17.41 7.96l-1.37-1.37c-.4-.4-.92-.59-1.43-.59-.52 0-1.04.2-1.43.59L10.3 9.45l-7.72 7.72c-.78.78-.78 2.05 0 2.83L4 21.41c.39.39.9.59 1.41.59.51 0 1.02-.2 1.41-.59l7.78-7.78 2.81-2.81c.8-.78.8-2.07 0-2.86zM5.41 20L4 18.59l7.72-7.72 1.47 1.35L5.41 20z\"/>\n",
       "  </svg>\n",
       "      </button>\n",
       "      \n",
       "  <style>\n",
       "    .colab-df-container {\n",
       "      display:flex;\n",
       "      flex-wrap:wrap;\n",
       "      gap: 12px;\n",
       "    }\n",
       "\n",
       "    .colab-df-convert {\n",
       "      background-color: #E8F0FE;\n",
       "      border: none;\n",
       "      border-radius: 50%;\n",
       "      cursor: pointer;\n",
       "      display: none;\n",
       "      fill: #1967D2;\n",
       "      height: 32px;\n",
       "      padding: 0 0 0 0;\n",
       "      width: 32px;\n",
       "    }\n",
       "\n",
       "    .colab-df-convert:hover {\n",
       "      background-color: #E2EBFA;\n",
       "      box-shadow: 0px 1px 2px rgba(60, 64, 67, 0.3), 0px 1px 3px 1px rgba(60, 64, 67, 0.15);\n",
       "      fill: #174EA6;\n",
       "    }\n",
       "\n",
       "    [theme=dark] .colab-df-convert {\n",
       "      background-color: #3B4455;\n",
       "      fill: #D2E3FC;\n",
       "    }\n",
       "\n",
       "    [theme=dark] .colab-df-convert:hover {\n",
       "      background-color: #434B5C;\n",
       "      box-shadow: 0px 1px 3px 1px rgba(0, 0, 0, 0.15);\n",
       "      filter: drop-shadow(0px 1px 2px rgba(0, 0, 0, 0.3));\n",
       "      fill: #FFFFFF;\n",
       "    }\n",
       "  </style>\n",
       "\n",
       "      <script>\n",
       "        const buttonEl =\n",
       "          document.querySelector('#df-1adb2706-6bc9-40da-906c-6e3e3b032f74 button.colab-df-convert');\n",
       "        buttonEl.style.display =\n",
       "          google.colab.kernel.accessAllowed ? 'block' : 'none';\n",
       "\n",
       "        async function convertToInteractive(key) {\n",
       "          const element = document.querySelector('#df-1adb2706-6bc9-40da-906c-6e3e3b032f74');\n",
       "          const dataTable =\n",
       "            await google.colab.kernel.invokeFunction('convertToInteractive',\n",
       "                                                     [key], {});\n",
       "          if (!dataTable) return;\n",
       "\n",
       "          const docLinkHtml = 'Like what you see? Visit the ' +\n",
       "            '<a target=\"_blank\" href=https://colab.research.google.com/notebooks/data_table.ipynb>data table notebook</a>'\n",
       "            + ' to learn more about interactive tables.';\n",
       "          element.innerHTML = '';\n",
       "          dataTable['output_type'] = 'display_data';\n",
       "          await google.colab.output.renderOutput(dataTable, element);\n",
       "          const docLink = document.createElement('div');\n",
       "          docLink.innerHTML = docLinkHtml;\n",
       "          element.appendChild(docLink);\n",
       "        }\n",
       "      </script>\n",
       "    </div>\n",
       "  </div>\n",
       "  "
      ],
      "text/plain": [
       "          country          1967          1968          1969          1970  \\\n",
       "0         Albania  6.211798e+05  6.399645e+05  6.588531e+05  6.778391e+05   \n",
       "1         Algeria  4.826104e+06  5.017299e+06  5.219332e+06  5.429743e+06   \n",
       "2  American Samoa  1.734866e+04  1.799551e+04  1.861868e+04  1.920639e+04   \n",
       "3         Andorra  1.543962e+04  1.672699e+04  1.808832e+04  1.952896e+04   \n",
       "4          Angola  7.574963e+05  7.984593e+05  8.412620e+05  8.864016e+05   \n",
       "\n",
       "           1971          1972          1973          1974  \n",
       "0  6.989322e+05  7.202066e+05  7.416810e+05  7.633855e+05  \n",
       "1  5.619042e+06  5.815734e+06  6.020647e+06  6.235114e+06  \n",
       "2  1.975202e+04  2.026267e+04  2.074197e+04  2.119438e+04  \n",
       "3  2.092873e+04  2.240584e+04  2.393705e+04  2.548198e+04  \n",
       "4  9.550101e+05  1.027397e+06  1.103830e+06  1.184486e+06  "
      ]
     },
     "execution_count": 259,
     "metadata": {},
     "output_type": "execute_result"
    }
   ],
   "source": [
    "df_sheetl.head()\n"
   ]
  },
  {
   "cell_type": "markdown",
   "id": "52b53973",
   "metadata": {
    "id": "52b53973"
   },
   "source": [
    "\n",
    "To access the sheet names, use the sheet_names attribute:\n",
    "\n"
   ]
  },
  {
   "cell_type": "code",
   "execution_count": 260,
   "id": "9c328767",
   "metadata": {
    "colab": {
     "base_uri": "https://localhost:8080/"
    },
    "id": "9c328767",
    "outputId": "8c4b918d-fa54-43b2-9aeb-67afdfb2f1c0"
   },
   "outputs": [
    {
     "data": {
      "text/plain": [
       "['1960-1966', '1967-1974', '1975-2011']"
      ]
     },
     "execution_count": 260,
     "metadata": {},
     "output_type": "execute_result"
    }
   ],
   "source": [
    "data.sheet_names\n"
   ]
  },
  {
   "cell_type": "code",
   "execution_count": 261,
   "id": "c20113d8",
   "metadata": {
    "id": "c20113d8"
   },
   "outputs": [],
   "source": [
    "import pandas as pd\n"
   ]
  },
  {
   "cell_type": "markdown",
   "id": "ba13324f",
   "metadata": {
    "id": "ba13324f"
   },
   "source": [
    "\n",
    "### Relational Databases\n",
    "\n"
   ]
  },
  {
   "cell_type": "markdown",
   "id": "3e7bc224",
   "metadata": {
    "id": "3e7bc224"
   },
   "source": [
    "![title](https://github.com/ruslanmv/Data-Science-in-Jupyter-Notebook/blob/master/data/Northwind_ERD.png?raw=1)"
   ]
  },
  {
   "cell_type": "code",
   "execution_count": 262,
   "id": "b3c1bf18",
   "metadata": {
    "id": "b3c1bf18"
   },
   "outputs": [],
   "source": [
    "import sqlalchemy as db\n"
   ]
  },
  {
   "cell_type": "code",
   "execution_count": 267,
   "id": "673d91b2",
   "metadata": {
    "id": "673d91b2"
   },
   "outputs": [],
   "source": [
    "# Connect with the database\n",
    "engine = db.create_engine('sqlite:///data/Northwind_large.sqlite')\n"
   ]
  },
  {
   "cell_type": "code",
   "execution_count": 268,
   "id": "e28ab11e",
   "metadata": {
    "id": "e28ab11e"
   },
   "outputs": [],
   "source": [
    "connection = engine.connect()\n"
   ]
  },
  {
   "cell_type": "code",
   "execution_count": 269,
   "id": "0e0d6244",
   "metadata": {
    "id": "0e0d6244"
   },
   "outputs": [],
   "source": [
    "# Retrieve the Metadata\n",
    "metadata = db.MetaData()\n"
   ]
  },
  {
   "cell_type": "code",
   "execution_count": 270,
   "id": "a42a7f57",
   "metadata": {
    "id": "a42a7f57"
   },
   "outputs": [],
   "source": [
    "# Load the shows table\n",
    "shows = db.Table('Region', metadata, autoload=True, autoload_with=engine)\n"
   ]
  },
  {
   "cell_type": "markdown",
   "id": "9464b2e3",
   "metadata": {
    "id": "9464b2e3"
   },
   "source": [
    "With our table loaded, let’s prepare a query to select all the records from the shows table. In regular SQL, to select all the records, it is “SELECT * FROM shows”. The SQLAlchemy Core query looks like this."
   ]
  },
  {
   "cell_type": "code",
   "execution_count": 271,
   "id": "d47a124b",
   "metadata": {
    "id": "d47a124b"
   },
   "outputs": [],
   "source": [
    "# Prepare the Query\n",
    "query = db.select([shows])\n"
   ]
  },
  {
   "cell_type": "code",
   "execution_count": 272,
   "id": "a8d913e5",
   "metadata": {
    "id": "a8d913e5"
   },
   "outputs": [],
   "source": [
    "# Execute the Query\n",
    "result_proxy = connection.execute(query)\n"
   ]
  },
  {
   "cell_type": "code",
   "execution_count": 273,
   "id": "d398ef10",
   "metadata": {
    "id": "d398ef10"
   },
   "outputs": [],
   "source": [
    "# Fetch the data.\n",
    "result_set = result_proxy.fetchall()\n"
   ]
  },
  {
   "cell_type": "code",
   "execution_count": 274,
   "id": "93603362",
   "metadata": {
    "colab": {
     "base_uri": "https://localhost:8080/"
    },
    "id": "93603362",
    "outputId": "d158a379-f676-44d7-d7fd-3c8daead1c59"
   },
   "outputs": [
    {
     "name": "stdout",
     "output_type": "stream",
     "text": [
      "[(1, 'Eastern'), (2, 'Western'), (3, 'Northern'), (4, 'Southern')]\n"
     ]
    }
   ],
   "source": [
    "print(result_set)\n"
   ]
  },
  {
   "cell_type": "markdown",
   "id": "2ccab05c",
   "metadata": {
    "id": "2ccab05c"
   },
   "source": [
    "\n",
    "**Querying Relational Databases**\n",
    "\n"
   ]
  },
  {
   "cell_type": "markdown",
   "id": "76f3d020",
   "metadata": {
    "id": "76f3d020"
   },
   "source": [
    "\n",
    "Use the table_names() method to fetch a list of table names:\n"
   ]
  },
  {
   "cell_type": "code",
   "execution_count": 275,
   "id": "680363eb",
   "metadata": {
    "colab": {
     "base_uri": "https://localhost:8080/"
    },
    "id": "680363eb",
    "outputId": "ab4a60b8-1452-4d7d-d5ca-968cdcf65696"
   },
   "outputs": [
    {
     "name": "stderr",
     "output_type": "stream",
     "text": [
      "/usr/local/lib/python3.7/dist-packages/ipykernel_launcher.py:1: SADeprecationWarning: The Engine.table_names() method is deprecated and will be removed in a future release.  Please refer to Inspector.get_table_names(). (deprecated since: 1.4)\n",
      "  \"\"\"Entry point for launching an IPython kernel.\n"
     ]
    }
   ],
   "source": [
    "table_names = engine.table_names()\n"
   ]
  },
  {
   "cell_type": "code",
   "execution_count": 276,
   "id": "dd07c224",
   "metadata": {
    "colab": {
     "base_uri": "https://localhost:8080/"
    },
    "id": "dd07c224",
    "outputId": "4abf16ab-e7f0-4869-d2a5-dd4fc6e56530"
   },
   "outputs": [
    {
     "data": {
      "text/plain": [
       "['Category',\n",
       " 'Customer',\n",
       " 'CustomerCustomerDemo',\n",
       " 'CustomerDemographic',\n",
       " 'Employee',\n",
       " 'EmployeeTerritory',\n",
       " 'Order',\n",
       " 'OrderDetail',\n",
       " 'Product',\n",
       " 'Region',\n",
       " 'Shipper',\n",
       " 'Supplier',\n",
       " 'Territory']"
      ]
     },
     "execution_count": 276,
     "metadata": {},
     "output_type": "execute_result"
    }
   ],
   "source": [
    "table_names\n"
   ]
  },
  {
   "cell_type": "code",
   "execution_count": 277,
   "id": "f4a3ce4d",
   "metadata": {
    "id": "f4a3ce4d"
   },
   "outputs": [],
   "source": [
    "con = engine.connect()\n"
   ]
  },
  {
   "cell_type": "code",
   "execution_count": 278,
   "id": "b2a31508",
   "metadata": {
    "id": "b2a31508"
   },
   "outputs": [],
   "source": [
    "rs = con.execute('SELECT * FROM Customer')\n"
   ]
  },
  {
   "cell_type": "code",
   "execution_count": 279,
   "id": "05aff60c",
   "metadata": {
    "id": "05aff60c"
   },
   "outputs": [],
   "source": [
    "df = pd.DataFrame(rs.fetchall())\n"
   ]
  },
  {
   "cell_type": "code",
   "execution_count": 280,
   "id": "0e9b28db",
   "metadata": {
    "colab": {
     "base_uri": "https://localhost:8080/",
     "height": 354
    },
    "id": "0e9b28db",
    "outputId": "650ee434-8d83-4c2c-b126-a043ea7d2dd5"
   },
   "outputs": [
    {
     "data": {
      "text/html": [
       "\n",
       "  <div id=\"df-6b524ade-61f1-444e-afd8-e5851aca1958\">\n",
       "    <div class=\"colab-df-container\">\n",
       "      <div>\n",
       "<style scoped>\n",
       "    .dataframe tbody tr th:only-of-type {\n",
       "        vertical-align: middle;\n",
       "    }\n",
       "\n",
       "    .dataframe tbody tr th {\n",
       "        vertical-align: top;\n",
       "    }\n",
       "\n",
       "    .dataframe thead th {\n",
       "        text-align: right;\n",
       "    }\n",
       "</style>\n",
       "<table border=\"1\" class=\"dataframe\">\n",
       "  <thead>\n",
       "    <tr style=\"text-align: right;\">\n",
       "      <th></th>\n",
       "      <th>0</th>\n",
       "      <th>1</th>\n",
       "      <th>2</th>\n",
       "      <th>3</th>\n",
       "      <th>4</th>\n",
       "      <th>5</th>\n",
       "      <th>6</th>\n",
       "      <th>7</th>\n",
       "      <th>8</th>\n",
       "      <th>9</th>\n",
       "      <th>10</th>\n",
       "    </tr>\n",
       "  </thead>\n",
       "  <tbody>\n",
       "    <tr>\n",
       "      <th>0</th>\n",
       "      <td>ALFKI</td>\n",
       "      <td>Alfreds Futterkiste</td>\n",
       "      <td>Maria Anders</td>\n",
       "      <td>Sales Representative</td>\n",
       "      <td>Obere Str. 57</td>\n",
       "      <td>Berlin</td>\n",
       "      <td>Western Europe</td>\n",
       "      <td>12209</td>\n",
       "      <td>Germany</td>\n",
       "      <td>030-0074321</td>\n",
       "      <td>030-0076545</td>\n",
       "    </tr>\n",
       "    <tr>\n",
       "      <th>1</th>\n",
       "      <td>ANATR</td>\n",
       "      <td>Ana Trujillo Emparedados y helados</td>\n",
       "      <td>Ana Trujillo</td>\n",
       "      <td>Owner</td>\n",
       "      <td>Avda. de la Constitución 2222</td>\n",
       "      <td>México D.F.</td>\n",
       "      <td>Central America</td>\n",
       "      <td>05021</td>\n",
       "      <td>Mexico</td>\n",
       "      <td>(5) 555-4729</td>\n",
       "      <td>(5) 555-3745</td>\n",
       "    </tr>\n",
       "    <tr>\n",
       "      <th>2</th>\n",
       "      <td>ANTON</td>\n",
       "      <td>Antonio Moreno Taquería</td>\n",
       "      <td>Antonio Moreno</td>\n",
       "      <td>Owner</td>\n",
       "      <td>Mataderos  2312</td>\n",
       "      <td>México D.F.</td>\n",
       "      <td>Central America</td>\n",
       "      <td>05023</td>\n",
       "      <td>Mexico</td>\n",
       "      <td>(5) 555-3932</td>\n",
       "      <td>None</td>\n",
       "    </tr>\n",
       "    <tr>\n",
       "      <th>3</th>\n",
       "      <td>AROUT</td>\n",
       "      <td>Around the Horn</td>\n",
       "      <td>Thomas Hardy</td>\n",
       "      <td>Sales Representative</td>\n",
       "      <td>120 Hanover Sq.</td>\n",
       "      <td>London</td>\n",
       "      <td>British Isles</td>\n",
       "      <td>WA1 1DP</td>\n",
       "      <td>UK</td>\n",
       "      <td>(171) 555-7788</td>\n",
       "      <td>(171) 555-6750</td>\n",
       "    </tr>\n",
       "    <tr>\n",
       "      <th>4</th>\n",
       "      <td>BERGS</td>\n",
       "      <td>Berglunds snabbköp</td>\n",
       "      <td>Christina Berglund</td>\n",
       "      <td>Order Administrator</td>\n",
       "      <td>Berguvsvägen  8</td>\n",
       "      <td>Luleå</td>\n",
       "      <td>Northern Europe</td>\n",
       "      <td>S-958 22</td>\n",
       "      <td>Sweden</td>\n",
       "      <td>0921-12 34 65</td>\n",
       "      <td>0921-12 34 67</td>\n",
       "    </tr>\n",
       "  </tbody>\n",
       "</table>\n",
       "</div>\n",
       "      <button class=\"colab-df-convert\" onclick=\"convertToInteractive('df-6b524ade-61f1-444e-afd8-e5851aca1958')\"\n",
       "              title=\"Convert this dataframe to an interactive table.\"\n",
       "              style=\"display:none;\">\n",
       "        \n",
       "  <svg xmlns=\"http://www.w3.org/2000/svg\" height=\"24px\"viewBox=\"0 0 24 24\"\n",
       "       width=\"24px\">\n",
       "    <path d=\"M0 0h24v24H0V0z\" fill=\"none\"/>\n",
       "    <path d=\"M18.56 5.44l.94 2.06.94-2.06 2.06-.94-2.06-.94-.94-2.06-.94 2.06-2.06.94zm-11 1L8.5 8.5l.94-2.06 2.06-.94-2.06-.94L8.5 2.5l-.94 2.06-2.06.94zm10 10l.94 2.06.94-2.06 2.06-.94-2.06-.94-.94-2.06-.94 2.06-2.06.94z\"/><path d=\"M17.41 7.96l-1.37-1.37c-.4-.4-.92-.59-1.43-.59-.52 0-1.04.2-1.43.59L10.3 9.45l-7.72 7.72c-.78.78-.78 2.05 0 2.83L4 21.41c.39.39.9.59 1.41.59.51 0 1.02-.2 1.41-.59l7.78-7.78 2.81-2.81c.8-.78.8-2.07 0-2.86zM5.41 20L4 18.59l7.72-7.72 1.47 1.35L5.41 20z\"/>\n",
       "  </svg>\n",
       "      </button>\n",
       "      \n",
       "  <style>\n",
       "    .colab-df-container {\n",
       "      display:flex;\n",
       "      flex-wrap:wrap;\n",
       "      gap: 12px;\n",
       "    }\n",
       "\n",
       "    .colab-df-convert {\n",
       "      background-color: #E8F0FE;\n",
       "      border: none;\n",
       "      border-radius: 50%;\n",
       "      cursor: pointer;\n",
       "      display: none;\n",
       "      fill: #1967D2;\n",
       "      height: 32px;\n",
       "      padding: 0 0 0 0;\n",
       "      width: 32px;\n",
       "    }\n",
       "\n",
       "    .colab-df-convert:hover {\n",
       "      background-color: #E2EBFA;\n",
       "      box-shadow: 0px 1px 2px rgba(60, 64, 67, 0.3), 0px 1px 3px 1px rgba(60, 64, 67, 0.15);\n",
       "      fill: #174EA6;\n",
       "    }\n",
       "\n",
       "    [theme=dark] .colab-df-convert {\n",
       "      background-color: #3B4455;\n",
       "      fill: #D2E3FC;\n",
       "    }\n",
       "\n",
       "    [theme=dark] .colab-df-convert:hover {\n",
       "      background-color: #434B5C;\n",
       "      box-shadow: 0px 1px 3px 1px rgba(0, 0, 0, 0.15);\n",
       "      filter: drop-shadow(0px 1px 2px rgba(0, 0, 0, 0.3));\n",
       "      fill: #FFFFFF;\n",
       "    }\n",
       "  </style>\n",
       "\n",
       "      <script>\n",
       "        const buttonEl =\n",
       "          document.querySelector('#df-6b524ade-61f1-444e-afd8-e5851aca1958 button.colab-df-convert');\n",
       "        buttonEl.style.display =\n",
       "          google.colab.kernel.accessAllowed ? 'block' : 'none';\n",
       "\n",
       "        async function convertToInteractive(key) {\n",
       "          const element = document.querySelector('#df-6b524ade-61f1-444e-afd8-e5851aca1958');\n",
       "          const dataTable =\n",
       "            await google.colab.kernel.invokeFunction('convertToInteractive',\n",
       "                                                     [key], {});\n",
       "          if (!dataTable) return;\n",
       "\n",
       "          const docLinkHtml = 'Like what you see? Visit the ' +\n",
       "            '<a target=\"_blank\" href=https://colab.research.google.com/notebooks/data_table.ipynb>data table notebook</a>'\n",
       "            + ' to learn more about interactive tables.';\n",
       "          element.innerHTML = '';\n",
       "          dataTable['output_type'] = 'display_data';\n",
       "          await google.colab.output.renderOutput(dataTable, element);\n",
       "          const docLink = document.createElement('div');\n",
       "          docLink.innerHTML = docLinkHtml;\n",
       "          element.appendChild(docLink);\n",
       "        }\n",
       "      </script>\n",
       "    </div>\n",
       "  </div>\n",
       "  "
      ],
      "text/plain": [
       "      0                                   1                   2   \\\n",
       "0  ALFKI                 Alfreds Futterkiste        Maria Anders   \n",
       "1  ANATR  Ana Trujillo Emparedados y helados        Ana Trujillo   \n",
       "2  ANTON             Antonio Moreno Taquería      Antonio Moreno   \n",
       "3  AROUT                     Around the Horn        Thomas Hardy   \n",
       "4  BERGS                  Berglunds snabbköp  Christina Berglund   \n",
       "\n",
       "                     3                              4            5   \\\n",
       "0  Sales Representative                  Obere Str. 57       Berlin   \n",
       "1                 Owner  Avda. de la Constitución 2222  México D.F.   \n",
       "2                 Owner                Mataderos  2312  México D.F.   \n",
       "3  Sales Representative                120 Hanover Sq.       London   \n",
       "4   Order Administrator                Berguvsvägen  8        Luleå   \n",
       "\n",
       "                6         7        8               9               10  \n",
       "0   Western Europe     12209  Germany     030-0074321     030-0076545  \n",
       "1  Central America     05021   Mexico    (5) 555-4729    (5) 555-3745  \n",
       "2  Central America     05023   Mexico    (5) 555-3932            None  \n",
       "3    British Isles   WA1 1DP       UK  (171) 555-7788  (171) 555-6750  \n",
       "4  Northern Europe  S-958 22   Sweden   0921-12 34 65   0921-12 34 67  "
      ]
     },
     "execution_count": 280,
     "metadata": {},
     "output_type": "execute_result"
    }
   ],
   "source": [
    "df.head()\n"
   ]
  },
  {
   "cell_type": "code",
   "execution_count": 281,
   "id": "75ee7ec5",
   "metadata": {
    "id": "75ee7ec5"
   },
   "outputs": [],
   "source": [
    "df.columns = rs.keys()\n"
   ]
  },
  {
   "cell_type": "code",
   "execution_count": 282,
   "id": "85e2a8c1",
   "metadata": {
    "id": "85e2a8c1"
   },
   "outputs": [],
   "source": [
    "con.close()\n"
   ]
  },
  {
   "cell_type": "markdown",
   "id": "ff09a91e",
   "metadata": {
    "id": "ff09a91e"
   },
   "source": [
    "\n",
    "Using the context manager with\n"
   ]
  },
  {
   "cell_type": "code",
   "execution_count": 291,
   "id": "dbb9bd16",
   "metadata": {
    "colab": {
     "base_uri": "https://localhost:8080/",
     "height": 206
    },
    "id": "dbb9bd16",
    "outputId": "8a912e73-66ed-48a3-e74f-e1bbad1045e4"
   },
   "outputs": [
    {
     "data": {
      "text/html": [
       "\n",
       "  <div id=\"df-456b8d71-bb98-477f-8a15-81e721b9dd20\">\n",
       "    <div class=\"colab-df-container\">\n",
       "      <div>\n",
       "<style scoped>\n",
       "    .dataframe tbody tr th:only-of-type {\n",
       "        vertical-align: middle;\n",
       "    }\n",
       "\n",
       "    .dataframe tbody tr th {\n",
       "        vertical-align: top;\n",
       "    }\n",
       "\n",
       "    .dataframe thead th {\n",
       "        text-align: right;\n",
       "    }\n",
       "</style>\n",
       "<table border=\"1\" class=\"dataframe\">\n",
       "  <thead>\n",
       "    <tr style=\"text-align: right;\">\n",
       "      <th></th>\n",
       "      <th>CompanyName</th>\n",
       "    </tr>\n",
       "  </thead>\n",
       "  <tbody>\n",
       "    <tr>\n",
       "      <th>0</th>\n",
       "      <td>Alfreds Futterkiste</td>\n",
       "    </tr>\n",
       "    <tr>\n",
       "      <th>1</th>\n",
       "      <td>Ana Trujillo Emparedados y helados</td>\n",
       "    </tr>\n",
       "    <tr>\n",
       "      <th>2</th>\n",
       "      <td>Antonio Moreno Taquería</td>\n",
       "    </tr>\n",
       "    <tr>\n",
       "      <th>3</th>\n",
       "      <td>Around the Horn</td>\n",
       "    </tr>\n",
       "    <tr>\n",
       "      <th>4</th>\n",
       "      <td>Berglunds snabbköp</td>\n",
       "    </tr>\n",
       "  </tbody>\n",
       "</table>\n",
       "</div>\n",
       "      <button class=\"colab-df-convert\" onclick=\"convertToInteractive('df-456b8d71-bb98-477f-8a15-81e721b9dd20')\"\n",
       "              title=\"Convert this dataframe to an interactive table.\"\n",
       "              style=\"display:none;\">\n",
       "        \n",
       "  <svg xmlns=\"http://www.w3.org/2000/svg\" height=\"24px\"viewBox=\"0 0 24 24\"\n",
       "       width=\"24px\">\n",
       "    <path d=\"M0 0h24v24H0V0z\" fill=\"none\"/>\n",
       "    <path d=\"M18.56 5.44l.94 2.06.94-2.06 2.06-.94-2.06-.94-.94-2.06-.94 2.06-2.06.94zm-11 1L8.5 8.5l.94-2.06 2.06-.94-2.06-.94L8.5 2.5l-.94 2.06-2.06.94zm10 10l.94 2.06.94-2.06 2.06-.94-2.06-.94-.94-2.06-.94 2.06-2.06.94z\"/><path d=\"M17.41 7.96l-1.37-1.37c-.4-.4-.92-.59-1.43-.59-.52 0-1.04.2-1.43.59L10.3 9.45l-7.72 7.72c-.78.78-.78 2.05 0 2.83L4 21.41c.39.39.9.59 1.41.59.51 0 1.02-.2 1.41-.59l7.78-7.78 2.81-2.81c.8-.78.8-2.07 0-2.86zM5.41 20L4 18.59l7.72-7.72 1.47 1.35L5.41 20z\"/>\n",
       "  </svg>\n",
       "      </button>\n",
       "      \n",
       "  <style>\n",
       "    .colab-df-container {\n",
       "      display:flex;\n",
       "      flex-wrap:wrap;\n",
       "      gap: 12px;\n",
       "    }\n",
       "\n",
       "    .colab-df-convert {\n",
       "      background-color: #E8F0FE;\n",
       "      border: none;\n",
       "      border-radius: 50%;\n",
       "      cursor: pointer;\n",
       "      display: none;\n",
       "      fill: #1967D2;\n",
       "      height: 32px;\n",
       "      padding: 0 0 0 0;\n",
       "      width: 32px;\n",
       "    }\n",
       "\n",
       "    .colab-df-convert:hover {\n",
       "      background-color: #E2EBFA;\n",
       "      box-shadow: 0px 1px 2px rgba(60, 64, 67, 0.3), 0px 1px 3px 1px rgba(60, 64, 67, 0.15);\n",
       "      fill: #174EA6;\n",
       "    }\n",
       "\n",
       "    [theme=dark] .colab-df-convert {\n",
       "      background-color: #3B4455;\n",
       "      fill: #D2E3FC;\n",
       "    }\n",
       "\n",
       "    [theme=dark] .colab-df-convert:hover {\n",
       "      background-color: #434B5C;\n",
       "      box-shadow: 0px 1px 3px 1px rgba(0, 0, 0, 0.15);\n",
       "      filter: drop-shadow(0px 1px 2px rgba(0, 0, 0, 0.3));\n",
       "      fill: #FFFFFF;\n",
       "    }\n",
       "  </style>\n",
       "\n",
       "      <script>\n",
       "        const buttonEl =\n",
       "          document.querySelector('#df-456b8d71-bb98-477f-8a15-81e721b9dd20 button.colab-df-convert');\n",
       "        buttonEl.style.display =\n",
       "          google.colab.kernel.accessAllowed ? 'block' : 'none';\n",
       "\n",
       "        async function convertToInteractive(key) {\n",
       "          const element = document.querySelector('#df-456b8d71-bb98-477f-8a15-81e721b9dd20');\n",
       "          const dataTable =\n",
       "            await google.colab.kernel.invokeFunction('convertToInteractive',\n",
       "                                                     [key], {});\n",
       "          if (!dataTable) return;\n",
       "\n",
       "          const docLinkHtml = 'Like what you see? Visit the ' +\n",
       "            '<a target=\"_blank\" href=https://colab.research.google.com/notebooks/data_table.ipynb>data table notebook</a>'\n",
       "            + ' to learn more about interactive tables.';\n",
       "          element.innerHTML = '';\n",
       "          dataTable['output_type'] = 'display_data';\n",
       "          await google.colab.output.renderOutput(dataTable, element);\n",
       "          const docLink = document.createElement('div');\n",
       "          docLink.innerHTML = docLinkHtml;\n",
       "          element.appendChild(docLink);\n",
       "        }\n",
       "      </script>\n",
       "    </div>\n",
       "  </div>\n",
       "  "
      ],
      "text/plain": [
       "                          CompanyName\n",
       "0                 Alfreds Futterkiste\n",
       "1  Ana Trujillo Emparedados y helados\n",
       "2             Antonio Moreno Taquería\n",
       "3                     Around the Horn\n",
       "4                  Berglunds snabbköp"
      ]
     },
     "execution_count": 291,
     "metadata": {},
     "output_type": "execute_result"
    }
   ],
   "source": [
    "with engine.connect() as con:\n",
    "    rs = con.execute('SELECT CompanyName FROM Customer')\n",
    "    df = pd.DataFrame(rs.fetchmany(size=5))\n",
    "    df.columns = rs.keys()\n",
    "df.head()\n"
   ]
  },
  {
   "cell_type": "markdown",
   "id": "8701bb28",
   "metadata": {
    "id": "8701bb28"
   },
   "source": [
    "\n",
    "**Querying relational databases with pandas**\n"
   ]
  },
  {
   "cell_type": "code",
   "execution_count": 292,
   "id": "4da88bdb",
   "metadata": {
    "id": "4da88bdb"
   },
   "outputs": [],
   "source": [
    "df = pd.read_sql_query(\"SELECT *  FROM Customer\", engine)\n"
   ]
  },
  {
   "cell_type": "markdown",
   "id": "13db7c10",
   "metadata": {
    "id": "13db7c10"
   },
   "source": [
    "\n",
    "Pickled File\n",
    "\n"
   ]
  },
  {
   "cell_type": "code",
   "execution_count": 285,
   "id": "f7c6a3e1",
   "metadata": {
    "id": "f7c6a3e1"
   },
   "outputs": [],
   "source": [
    "import pickle\n",
    "with open('data/pickled_fruit.pkl', 'rb') as file:\n",
    "    pickled_data = pickle.load(file)\n"
   ]
  },
  {
   "cell_type": "markdown",
   "id": "4a09649c",
   "metadata": {
    "id": "4a09649c"
   },
   "source": [
    "## Exploring Dictionaries\n",
    "\n",
    "**Querying relational databases with pandas**\n",
    "\n"
   ]
  },
  {
   "cell_type": "code",
   "execution_count": 293,
   "id": "PUwqienSDbmZ",
   "metadata": {
    "colab": {
     "base_uri": "https://localhost:8080/"
    },
    "id": "PUwqienSDbmZ",
    "outputId": "633889f4-6a5d-4cc2-988f-468666d068ce"
   },
   "outputs": [
    {
     "name": "stdout",
     "output_type": "stream",
     "text": [
      "Index(['Id', 'CompanyName', 'ContactName', 'ContactTitle', 'Address', 'City',\n",
      "       'Region', 'PostalCode', 'Country', 'Phone', 'Fax'],\n",
      "      dtype='object')\n"
     ]
    }
   ],
   "source": [
    "print(df.keys())  # Print dictionary keys\n"
   ]
  },
  {
   "cell_type": "code",
   "execution_count": 295,
   "id": "7a2208f9",
   "metadata": {
    "colab": {
     "base_uri": "https://localhost:8080/"
    },
    "id": "7a2208f9",
    "outputId": "9934d336-45f8-41b3-85c3-c922409cf49e"
   },
   "outputs": [
    {
     "name": "stdout",
     "output_type": "stream",
     "text": [
      "Id\n",
      "CompanyName\n",
      "ContactName\n",
      "ContactTitle\n",
      "Address\n",
      "City\n",
      "Region\n",
      "PostalCode\n",
      "Country\n",
      "Phone\n",
      "Fax\n"
     ]
    }
   ],
   "source": [
    "for key in df.keys():  # Print dictionary keys\n",
    "    print(key)\n"
   ]
  },
  {
   "cell_type": "markdown",
   "id": "070111ca",
   "metadata": {
    "id": "070111ca"
   },
   "source": [
    "\n",
    "### Navigating Your FileSystem\n",
    "\n",
    "**Magic Commands**\n",
    "\n"
   ]
  },
  {
   "cell_type": "markdown",
   "id": "e2e3e467",
   "metadata": {
    "id": "e2e3e467"
   },
   "source": [
    "\n",
    "!ls #List directory contents of files and directories\n",
    "%cd .. #Change current working directory\n",
    "%pwd #Return the current working directory path\n",
    "\n"
   ]
  },
  {
   "cell_type": "markdown",
   "id": "7f864b65",
   "metadata": {
    "id": "7f864b65"
   },
   "source": [
    "\n",
    "**OS Library**\n",
    "\n"
   ]
  },
  {
   "cell_type": "code",
   "execution_count": 300,
   "id": "988c9dfc",
   "metadata": {
    "id": "988c9dfc"
   },
   "outputs": [],
   "source": [
    "import os\n",
    "os.mkdir(\"newdir\")  # Create a new directory\n"
   ]
  },
  {
   "cell_type": "code",
   "execution_count": 302,
   "id": "5U3Z1w82EsuZ",
   "metadata": {
    "colab": {
     "base_uri": "https://localhost:8080/",
     "height": 217
    },
    "id": "5U3Z1w82EsuZ",
    "outputId": "9be49b88-8b87-485d-f6fc-eb6ff5ab0c98"
   },
   "outputs": [
    {
     "ename": "FileNotFoundError",
     "evalue": "ignored",
     "output_type": "error",
     "traceback": [
      "\u001b[0;31m---------------------------------------------------------------------------\u001b[0m",
      "\u001b[0;31mFileNotFoundError\u001b[0m                         Traceback (most recent call last)",
      "\u001b[0;32m<ipython-input-302-e893d16feac1>\u001b[0m in \u001b[0;36m<module>\u001b[0;34m()\u001b[0m\n\u001b[1;32m      4\u001b[0m \u001b[0mos\u001b[0m\u001b[0;34m.\u001b[0m\u001b[0mchdir\u001b[0m\u001b[0;34m(\u001b[0m\u001b[0mpath\u001b[0m\u001b[0;34m)\u001b[0m \u001b[0;31m#Change current working directory\u001b[0m\u001b[0;34m\u001b[0m\u001b[0;34m\u001b[0m\u001b[0m\n\u001b[1;32m      5\u001b[0m os.rename( \"testl.txt\", #Rename a file\n\u001b[0;32m----> 6\u001b[0;31m            \"test2.txt\" )\n\u001b[0m\u001b[1;32m      7\u001b[0m \u001b[0mos\u001b[0m\u001b[0;34m.\u001b[0m\u001b[0mremove\u001b[0m\u001b[0;34m(\u001b[0m \u001b[0;34m\"test1. txt\"\u001b[0m\u001b[0;34m)\u001b[0m \u001b[0;31m#Oelete an existing file\u001b[0m\u001b[0;34m\u001b[0m\u001b[0;34m\u001b[0m\u001b[0m\n",
      "\u001b[0;31mFileNotFoundError\u001b[0m: [Errno 2] No such file or directory: 'testl.txt' -> 'test2.txt'"
     ]
    }
   ],
   "source": [
    "path = \"data\"\n",
    "wd = os.getcwd()  # Store the name of current directory in a string\n",
    "os.listdir(wd)  # Output contents of the directory in a list\n",
    "os.chdir(path)  # Change current working directory\n",
    "os.rename(\"testl.txt\",  # Rename a file\n",
    "          \"test2.txt\")\n",
    "os.remove(\"test1. txt\")  # Oelete an existing file\n"
   ]
  },
  {
   "cell_type": "markdown",
   "id": "7c02e7d3",
   "metadata": {
    "id": "7c02e7d3"
   },
   "source": [
    "\n",
    "**Pivot**\n",
    "\n"
   ]
  },
  {
   "cell_type": "code",
   "execution_count": null,
   "id": "2c39b95f",
   "metadata": {
    "id": "2c39b95f"
   },
   "outputs": [],
   "source": [
    "\n",
    "df3 = df2.pivot(inde x='Date',  # Spread rows into columns\n",
    "                col umns='Type',\n",
    "                values='Value')\n"
   ]
  },
  {
   "cell_type": "markdown",
   "id": "0a14df79",
   "metadata": {
    "id": "0a14df79"
   },
   "source": [
    "\n",
    "**Pivot Table**\n"
   ]
  },
  {
   "cell_type": "code",
   "execution_count": null,
   "id": "e5557df1",
   "metadata": {
    "id": "e5557df1"
   },
   "outputs": [],
   "source": [
    "\n",
    "\n",
    "df4 = pd.pivot_table(df2,  # Spread rows into\n",
    "columns values='Value', index='Date', columns='Type'])\n"
   ]
  },
  {
   "cell_type": "markdown",
   "id": "5d6c5051",
   "metadata": {
    "id": "5d6c5051"
   },
   "source": [
    "\n",
    "**Stack** / **Unstack**\n",
    "\n"
   ]
  },
  {
   "cell_type": "code",
   "execution_count": null,
   "id": "53c446c2",
   "metadata": {
    "id": "53c446c2"
   },
   "outputs": [],
   "source": [
    "\n",
    "stacked = df5.stack()  # Pivot o level of column labels\n",
    "stacked.unstack()  # Pivot o level of index labels\n"
   ]
  },
  {
   "cell_type": "markdown",
   "id": "c86f0475",
   "metadata": {
    "id": "c86f0475"
   },
   "source": [
    "\n",
    "**Melt**\n",
    "\n"
   ]
  },
  {
   "cell_type": "code",
   "execution_count": null,
   "id": "db6e665b",
   "metadata": {
    "id": "db6e665b"
   },
   "outputs": [],
   "source": [
    "pd.melt(df2,  # Gather columns into rows\n",
    "        id _vars=['Date'],\n",
    "        value_var s=['Type', 'Value'],\n",
    "        value name='Observations')\n"
   ]
  },
  {
   "cell_type": "markdown",
   "id": "9a0f6f17",
   "metadata": {
    "id": "9a0f6f17"
   },
   "source": [
    "### Iteration"
   ]
  },
  {
   "cell_type": "code",
   "execution_count": null,
   "id": "4c62e32f",
   "metadata": {
    "id": "4c62e32f"
   },
   "outputs": [],
   "source": [
    "df.iteritems()  # {Column-index, Series) pairs\n",
    "df.iterrows()  # {Row-index, Series) pairs\n"
   ]
  },
  {
   "cell_type": "markdown",
   "id": "8a98c83f",
   "metadata": {
    "id": "8a98c83f"
   },
   "source": [
    "### Missing Data"
   ]
  },
  {
   "cell_type": "code",
   "execution_count": null,
   "id": "c7de59ca",
   "metadata": {
    "id": "c7de59ca"
   },
   "outputs": [],
   "source": [
    "df.dropna()  # Drop NaN values\n",
    "df3.fillna(df3.mean())  # Fill NaN values with o predetermined value\n",
    "df2.replace(\"a\", \"f\")  # Replace values with others\n"
   ]
  },
  {
   "cell_type": "markdown",
   "id": "953a0d02",
   "metadata": {
    "id": "953a0d02"
   },
   "source": [
    "\n",
    "### Advanced Indexing\n",
    "\n",
    "**Selecting**\n",
    "\n"
   ]
  },
  {
   "cell_type": "code",
   "execution_count": null,
   "id": "9be301c1",
   "metadata": {
    "id": "9be301c1"
   },
   "outputs": [],
   "source": [
    "df3.loc[:, (df3 > 1).any()]  # Select cols with any vols >1\n",
    "df3.loc[:, (df3 > 1).all()]  # Select cols with vols> 1\n",
    "df3.loc[:, df3.isnull().any()]  # Select cols with NaN\n",
    "df3.loc[:, df3.notnull().all()]  # Select cols without NaN\n"
   ]
  },
  {
   "cell_type": "markdown",
   "id": "5b9d0b77",
   "metadata": {
    "id": "5b9d0b77"
   },
   "source": [
    "\n",
    "**Indexing With** isin ()\n"
   ]
  },
  {
   "cell_type": "code",
   "execution_count": null,
   "id": "ab8f8b2b",
   "metadata": {
    "id": "ab8f8b2b"
   },
   "outputs": [],
   "source": [
    "df[(df.Country.isin(df2.Type))]  # Find some elements\n",
    "df.filter(iterns=\"a\", \"b\"])  # Filter on values\n",
    "df.select(lambda x: not x % 5)  # Select specific elements\n"
   ]
  },
  {
   "cell_type": "markdown",
   "id": "8a998153",
   "metadata": {
    "id": "8a998153"
   },
   "source": [
    "\n",
    "\n",
    "**Where**\n",
    "\n"
   ]
  },
  {
   "cell_type": "code",
   "execution_count": null,
   "id": "d0cea8e5",
   "metadata": {
    "id": "d0cea8e5"
   },
   "outputs": [],
   "source": [
    "\n",
    "s.where(s > 0)  # Subset the data\n"
   ]
  },
  {
   "cell_type": "markdown",
   "id": "f8ff4da3",
   "metadata": {
    "id": "f8ff4da3"
   },
   "source": [
    "\n",
    "**Query**\n",
    "\n"
   ]
  },
  {
   "cell_type": "code",
   "execution_count": null,
   "id": "7cca8ab7",
   "metadata": {
    "id": "7cca8ab7"
   },
   "outputs": [],
   "source": [
    "df6.query('second > first')  # Query DataFrame\n"
   ]
  },
  {
   "cell_type": "code",
   "execution_count": null,
   "id": "0db074d9",
   "metadata": {
    "id": "0db074d9"
   },
   "outputs": [],
   "source": [
    "**Setting/Resetting Index**\n"
   ]
  },
  {
   "cell_type": "code",
   "execution_count": null,
   "id": "8e5c52a0",
   "metadata": {
    "id": "8e5c52a0"
   },
   "outputs": [],
   "source": [
    "df.set_index('Country')  # Set the index\n",
    "df4 = df.reset_index()  # Reset the index\n",
    "df = df.rename(index=str,  # Rename\n",
    "               DataFrame columns={\"Country\": \"cntry\",\n",
    "                                  \"Capital':\"cptl\",\n",
    "                                  \"Population\": pplt})\n"
   ]
  },
  {
   "cell_type": "markdown",
   "id": "9344c2c7",
   "metadata": {
    "id": "9344c2c7"
   },
   "source": [
    "**Reindexing**"
   ]
  },
  {
   "cell_type": "code",
   "execution_count": null,
   "id": "8fbd2377",
   "metadata": {
    "id": "8fbd2377"
   },
   "outputs": [],
   "source": [
    "s2 = s.reindex(['a', 'c', 'd', 'e', 'b'])\n"
   ]
  },
  {
   "cell_type": "markdown",
   "id": "27349aa8",
   "metadata": {
    "id": "27349aa8"
   },
   "source": [
    "**Forward Filling**"
   ]
  },
  {
   "cell_type": "code",
   "execution_count": null,
   "id": "67d27dbc",
   "metadata": {
    "id": "67d27dbc"
   },
   "outputs": [],
   "source": [
    "df.reindex(range(4),\n",
    "           method='ffill')\n"
   ]
  },
  {
   "cell_type": "markdown",
   "id": "51f559b2",
   "metadata": {
    "id": "51f559b2"
   },
   "source": [
    "        Country Capital     Population  \n",
    "    0   Belgium Brussels    11190846    \n",
    "    1   India   New Delhi   1303171035  \n",
    "    2   Brazil  Brasilia    207847528   \n",
    "    3   Brazil  Brasilia    207847528"
   ]
  },
  {
   "cell_type": "markdown",
   "id": "97938736",
   "metadata": {
    "id": "97938736"
   },
   "source": [
    "**Backward Filling**"
   ]
  },
  {
   "cell_type": "code",
   "execution_count": null,
   "id": "e40f600d",
   "metadata": {
    "id": "e40f600d"
   },
   "outputs": [],
   "source": [
    "s3 = s.reindex(range(5),\n",
    "               method='bfill')\n"
   ]
  },
  {
   "cell_type": "code",
   "execution_count": null,
   "id": "3f871d09",
   "metadata": {
    "id": "3f871d09"
   },
   "outputs": [],
   "source": [
    "0   3\n",
    "1   3\n",
    "2   3\n",
    "3   3\n",
    "4   3\n"
   ]
  },
  {
   "cell_type": "markdown",
   "id": "5caae5af",
   "metadata": {
    "id": "5caae5af"
   },
   "source": [
    "**Multilndexing**"
   ]
  },
  {
   "cell_type": "code",
   "execution_count": null,
   "id": "519296e2",
   "metadata": {
    "id": "519296e2"
   },
   "outputs": [],
   "source": [
    "arrays = [np.array([l, 2, 3]),\n",
    "          np.array([5, 4, 3])]\n",
    "df5 = pd.DataFrame(np.random.rand(3, 2), index=arrays)\n",
    "tuples = list(zip(*arrays))\n",
    "index = pd.Multilndex.from_tuples(tuples,\n",
    "                                  names=['first', 'second'])\n",
    "df6 = pd.DataFrame(np.random.rand(3, 2), index=index)\n",
    "df2.set_index([\"Date\", \"Type\"])\n"
   ]
  },
  {
   "cell_type": "markdown",
   "id": "31e161d4",
   "metadata": {
    "id": "31e161d4"
   },
   "source": [
    "### Duplicate Data"
   ]
  },
  {
   "cell_type": "code",
   "execution_count": null,
   "id": "7c7f3f9d",
   "metadata": {
    "id": "7c7f3f9d"
   },
   "outputs": [],
   "source": [
    "s3.unique()  # Return unique values\n",
    "df2.duplicated('Type')  # Check duplicates\n",
    "df2.drop_dup licates('Type', keep='last')  # Drop duplicates\n",
    "df.index.duplicated()  # Check index duplicates\n"
   ]
  },
  {
   "cell_type": "markdown",
   "id": "3da661f2",
   "metadata": {
    "id": "3da661f2"
   },
   "source": [
    "### Grouping Data\n",
    "\n",
    "**Aggregation**"
   ]
  },
  {
   "cell_type": "code",
   "execution_count": null,
   "id": "e04f609c",
   "metadata": {
    "id": "e04f609c"
   },
   "outputs": [],
   "source": [
    "df2.groupby(by=['Date', 'Type']).mean()\n",
    "df4.groupby(level=0).sum()\n",
    "df4.groupby(level=0).agg({'a': lambda x: sum(x)/len(x), 'b': np.sum})\n"
   ]
  },
  {
   "cell_type": "markdown",
   "id": "db4358ef",
   "metadata": {
    "id": "db4358ef"
   },
   "source": [
    "**Transformation**"
   ]
  },
  {
   "cell_type": "code",
   "execution_count": null,
   "id": "8526b97c",
   "metadata": {
    "id": "8526b97c"
   },
   "outputs": [],
   "source": [
    "def customSum(x): return (x+x % 2)\n",
    "\n",
    "\n",
    "df4.groupby(level=0).transform(customSum)\n"
   ]
  },
  {
   "cell_type": "markdown",
   "id": "bd1ab10e",
   "metadata": {
    "id": "bd1ab10e"
   },
   "source": [
    "## Combining Data"
   ]
  },
  {
   "cell_type": "markdown",
   "id": "e43b3d2f",
   "metadata": {
    "id": "e43b3d2f"
   },
   "source": [
    "**Merge**"
   ]
  },
  {
   "cell_type": "code",
   "execution_count": null,
   "id": "e3a70360",
   "metadata": {
    "id": "e3a70360"
   },
   "outputs": [],
   "source": [
    "pd.merge(data1,\n",
    "         data2,\n",
    "         how='left',\n",
    "         on='X1')\n"
   ]
  },
  {
   "cell_type": "code",
   "execution_count": null,
   "id": "444cd73f",
   "metadata": {
    "id": "444cd73f"
   },
   "outputs": [],
   "source": [
    "pd.merge(data1,\n",
    "         data2,\n",
    "         how='right',\n",
    "         on='X1')\n"
   ]
  },
  {
   "cell_type": "code",
   "execution_count": null,
   "id": "54cff571",
   "metadata": {
    "id": "54cff571"
   },
   "outputs": [],
   "source": [
    "pd.merge(data1,\n",
    "         data2,\n",
    "         how='inner',\n",
    "         on='X1')\n"
   ]
  },
  {
   "cell_type": "code",
   "execution_count": null,
   "id": "aa316281",
   "metadata": {
    "id": "aa316281"
   },
   "outputs": [],
   "source": []
  },
  {
   "cell_type": "code",
   "execution_count": null,
   "id": "2ce6fde4",
   "metadata": {
    "id": "2ce6fde4"
   },
   "outputs": [],
   "source": [
    "pd.merge(data1,\n",
    "         data2,\n",
    "         how='outer',\n",
    "         on='X1')\n"
   ]
  },
  {
   "cell_type": "markdown",
   "id": "38c0749a",
   "metadata": {
    "id": "38c0749a"
   },
   "source": [
    "**Join**"
   ]
  },
  {
   "cell_type": "code",
   "execution_count": null,
   "id": "b94f807b",
   "metadata": {
    "id": "b94f807b"
   },
   "outputs": [],
   "source": [
    "datal.join(data2, ho w='righ t')\n"
   ]
  },
  {
   "cell_type": "markdown",
   "id": "774ef36a",
   "metadata": {
    "id": "774ef36a"
   },
   "source": [
    "**Concatenate**"
   ]
  },
  {
   "cell_type": "markdown",
   "id": "d9cf9ef2",
   "metadata": {
    "id": "d9cf9ef2"
   },
   "source": [
    "**Vertical**"
   ]
  },
  {
   "cell_type": "code",
   "execution_count": null,
   "id": "2549089d",
   "metadata": {
    "id": "2549089d"
   },
   "outputs": [],
   "source": [
    "s.append(s2)\n"
   ]
  },
  {
   "cell_type": "markdown",
   "id": "18b95f5d",
   "metadata": {
    "id": "18b95f5d"
   },
   "source": [
    "**Horizontal/Vertical**"
   ]
  },
  {
   "cell_type": "code",
   "execution_count": null,
   "id": "6616ebf1",
   "metadata": {
    "id": "6616ebf1"
   },
   "outputs": [],
   "source": [
    "pd.concat([s, s2], axis=l, keys=['One', 'Two'])\n",
    "pd.concat([data1, data2], axis=l, join='inner')\n"
   ]
  },
  {
   "cell_type": "markdown",
   "id": "9ed8309c",
   "metadata": {
    "id": "9ed8309c"
   },
   "source": [
    "### Dates"
   ]
  },
  {
   "cell_type": "code",
   "execution_count": null,
   "id": "162561bb",
   "metadata": {
    "id": "162561bb"
   },
   "outputs": [],
   "source": [
    "df2['Date'] = pd.to_da tetime(d f2['Date'])\n",
    "df2['Date'] = pd.da te_range('2000-1-1',\n",
    "                             periods=6, freq='M')\n",
    "dates = [datetime(2012, 5, 1), datetime(2012, 5, 2)]\n",
    "index = pd.Datetimelndex(dates)\n",
    "index = pd.date_range(datetime(2012, 2, 1), end, freq='BM')\n"
   ]
  },
  {
   "cell_type": "markdown",
   "id": "50e05ed7",
   "metadata": {
    "id": "5e18205e"
   },
   "source": [
    "### Visualization"
   ]
  },
  {
   "cell_type": "code",
   "execution_count": null,
   "id": "00a42c6d",
   "metadata": {
    "id": "00a42c6d"
   },
   "outputs": [],
   "source": [
    "import matplotlib.pyplot as plt\n",
    "s.plot()\n",
    "plt.show()\n"
   ]
  },
  {
   "cell_type": "code",
   "execution_count": null,
   "id": "2afa089a",
   "metadata": {
    "id": "2afa089a"
   },
   "outputs": [],
   "source": [
    "df2.plot()\n",
    "plt.show()\n"
   ]
  },
  {
   "cell_type": "markdown",
   "id": "0435965b",
   "metadata": {
    "id": "a56046db"
   },
   "source": [
    "# Section 3\n",
    "\n",
    "# Data Wrangling with Pandas"
   ]
  },
  {
   "cell_type": "markdown",
   "id": "5d6175ed",
   "metadata": {
    "id": "ec498ad7"
   },
   "source": [
    "The **Pandas** library is built on NumPy and provides easy-to-use **data\n",
    "structures** and **data analysis** tools for the Python programming\n",
    "language.\n",
    "\n",
    "**Use the following import convention:**"
   ]
  },
  {
   "cell_type": "code",
   "execution_count": 1,
   "id": "5d66f757",
   "metadata": {
    "id": "5d66f757"
   },
   "outputs": [],
   "source": [
    "import pandas as pd\n"
   ]
  },
  {
   "cell_type": "markdown",
   "id": "7b9690ba",
   "metadata": {
    "id": "1fcd314d"
   },
   "source": [
    "### Pandas Data Structure\n",
    "\n",
    "**Series**\n",
    "\n",
    "A **one-dimensional** labeled array\n",
    "\n",
    "capable of holding any data type"
   ]
  },
  {
   "cell_type": "code",
   "execution_count": 4,
   "id": "d84d5e76",
   "metadata": {
    "id": "d84d5e76"
   },
   "outputs": [],
   "source": [
    "s = pd.Series([3, -5, 7, 5], index=['a', 'b', 'c', 'd'])\n"
   ]
  },
  {
   "cell_type": "markdown",
   "id": "4c4b008b",
   "metadata": {
    "id": "ac4075d2"
   },
   "source": [
    "**Dataframe**\n",
    "\n",
    "A **two-dimensional** labeled data structure with columns of potentially\n",
    "different types"
   ]
  },
  {
   "cell_type": "code",
   "execution_count": null,
   "id": "af2daf4c",
   "metadata": {
    "id": "af2daf4c"
   },
   "outputs": [],
   "source": [
    "data = {'Country': ['Belgium', 'India ', ' Brazil'],\n",
    "        'Capital': ['Brussels', 'New Delhi', 'Brasilia'],\n",
    "        'Population': [111908s6, 1303171035, 207847528]}\n",
    "df = pd.DataFrame(data, columns=['Country', 'Capital', 'Population'])\n"
   ]
  },
  {
   "cell_type": "markdown",
   "id": "70a77454",
   "metadata": {
    "id": "2fc4c207"
   },
   "source": [
    "**Dropping**"
   ]
  },
  {
   "cell_type": "code",
   "execution_count": null,
   "id": "9e79dcda",
   "metadata": {
    "id": "9e79dcda"
   },
   "outputs": [],
   "source": [
    "s.drop(['a', 'c'])  # Drop values from rows (axis=B)\n",
    "df.drop('Country', axis=l)  # Drop values from columns(axis=l)\n"
   ]
  },
  {
   "cell_type": "markdown",
   "id": "353eac4a",
   "metadata": {
    "id": "8ba39caa"
   },
   "source": [
    "**Sort & Rank**"
   ]
  },
  {
   "cell_type": "code",
   "execution_count": null,
   "id": "bfcb5b0e",
   "metadata": {
    "id": "bfcb5b0e"
   },
   "outputs": [],
   "source": [
    "df.sort_index()  # Sort by labels along an axis\n",
    "df.sort_values(by='Country')  # Sort by the values along on axis\n",
    "df.rank()  # Assign ranks to entries\n"
   ]
  },
  {
   "cell_type": "markdown",
   "id": "1a428f0c",
   "metadata": {
    "id": "c5690e5d"
   },
   "source": [
    "### I/O\n",
    "\n",
    "**Read and Write to CSV**"
   ]
  },
  {
   "cell_type": "code",
   "execution_count": null,
   "id": "8c55cd40",
   "metadata": {
    "id": "8c55cd40"
   },
   "outputs": [],
   "source": [
    "pd.read_csv('file.csv', header=None, nrows=5)\n",
    "df.to_csv('myDataFrame.csv')\n"
   ]
  },
  {
   "cell_type": "markdown",
   "id": "72e9370f",
   "metadata": {
    "id": "84d554f1"
   },
   "source": [
    "**Read and Write to Excel**"
   ]
  },
  {
   "cell_type": "code",
   "execution_count": null,
   "id": "c0f27554",
   "metadata": {
    "id": "c0f27554"
   },
   "outputs": [],
   "source": [
    "pd.read_excel('file.xlsx')\n",
    "df.to_excel('dir/myDataFrame.x lsx', sheet_name='Sheet1')\n"
   ]
  },
  {
   "cell_type": "code",
   "execution_count": null,
   "id": "f4f664a7",
   "metadata": {
    "id": "f4f664a7"
   },
   "outputs": [],
   "source": [
    "Read multiple sheets from the same file\n"
   ]
  },
  {
   "cell_type": "code",
   "execution_count": null,
   "id": "932007c6",
   "metadata": {
    "id": "932007c6"
   },
   "outputs": [],
   "source": [
    "xlsx = pd.ExcelFile('file.xls')\n",
    "df = pd.read_excel(xlsx, 'Sheet1')\n"
   ]
  },
  {
   "cell_type": "code",
   "execution_count": null,
   "id": "6a0c0525",
   "metadata": {
    "id": "6a0c0525"
   },
   "outputs": [],
   "source": [
    "**Read and Write to SQL Query or Database Table**\n"
   ]
  },
  {
   "cell_type": "code",
   "execution_count": null,
   "id": "0441e7ff",
   "metadata": {
    "id": "0441e7ff"
   },
   "outputs": [],
   "source": [
    "from sqlalchemy import create_engine\n",
    "engine = create_eng ine('sqlite:///:memory:')\n",
    "pd.read_sql(\"SELECT* FROM my_table;\", engine)\n",
    "pd.read_sql_ tabl e('my_ table', engine)\n",
    "pd.read_sql_query(\"SELECT * FROM my_table;\", engine)\n"
   ]
  },
  {
   "cell_type": "code",
   "execution_count": null,
   "id": "0c1ba2f3",
   "metadata": {
    "id": "0c1ba2f3"
   },
   "outputs": [],
   "source": [
    "read_sql() is a convenience wrapper around read_sql_table() and\n",
    "read_sql_query()\n"
   ]
  },
  {
   "cell_type": "code",
   "execution_count": null,
   "id": "7783cfa8",
   "metadata": {
    "id": "7783cfa8"
   },
   "outputs": [],
   "source": [
    "df.to_sql('myDf', engine)\n"
   ]
  },
  {
   "cell_type": "code",
   "execution_count": null,
   "id": "a83baaa3",
   "metadata": {
    "id": "a83baaa3"
   },
   "outputs": [],
   "source": [
    "# Selection\n",
    "\n",
    "**Getting**\n"
   ]
  },
  {
   "cell_type": "code",
   "execution_count": null,
   "id": "c2fd956c",
   "metadata": {
    "id": "c2fd956c"
   },
   "outputs": [],
   "source": [
    "s['b']  # Get one element\n"
   ]
  },
  {
   "cell_type": "code",
   "execution_count": null,
   "id": "de7a04aa",
   "metadata": {
    "id": "de7a04aa"
   },
   "outputs": [],
   "source": [
    "df[1:]  # Get subset of a DataFrome\n"
   ]
  },
  {
   "cell_type": "code",
   "execution_count": null,
   "id": "2ec1edde",
   "metadata": {
    "id": "2ec1edde"
   },
   "outputs": [],
   "source": [
    "Country Capital Population 1 India New Delhi 1303171035\n",
    "2 Brazil Brasilia 207847528\n"
   ]
  },
  {
   "cell_type": "code",
   "execution_count": null,
   "id": "8b4533b4",
   "metadata": {
    "id": "8b4533b4"
   },
   "outputs": [],
   "source": [
    "**Selecting, Boolean Indexing ** & **Setting**\n",
    "\n",
    "**By Position**\n"
   ]
  },
  {
   "cell_type": "code",
   "execution_count": null,
   "id": "cebb5a24",
   "metadata": {
    "id": "cebb5a24"
   },
   "outputs": [],
   "source": [
    "df.iloc[[0], [0]]  # Select single value by row & column\n",
    "'Belgium'\n",
    "df.iat([0], [0])\n",
    "'Belgium'\n"
   ]
  },
  {
   "cell_type": "code",
   "execution_count": null,
   "id": "418ca1fe",
   "metadata": {
    "id": "418ca1fe"
   },
   "outputs": [],
   "source": [
    "**By Label**\n"
   ]
  },
  {
   "cell_type": "code",
   "execution_count": null,
   "id": "9d8aa7b0",
   "metadata": {
    "id": "9d8aa7b0"
   },
   "outputs": [],
   "source": [
    "# Select single value by row & column labels 'Belgium'\n",
    "df.loc[[0], ['Country']]\n",
    "df.at([0], ['Country ']) 'Belgium'\n"
   ]
  },
  {
   "cell_type": "code",
   "execution_count": null,
   "id": "8e93beb0",
   "metadata": {
    "id": "8e93beb0"
   },
   "outputs": [],
   "source": [
    "**By Label/Position**\n"
   ]
  },
  {
   "cell_type": "code",
   "execution_count": null,
   "id": "8658cfd2",
   "metadata": {
    "id": "8658cfd2"
   },
   "outputs": [],
   "source": [
    "df.ix[2]  # Select single row of subset of rows\n",
    "Country Brazil Capital Brasilia Population 207847528\n",
    "df.ix[:, 'Capital']  # Select a single column of subset of columns\n"
   ]
  },
  {
   "cell_type": "code",
   "execution_count": null,
   "id": "8aecba73",
   "metadata": {
    "id": "8aecba73"
   },
   "outputs": [],
   "source": [
    "df.ix[1, 'Capital']  # Select rows and columns 'New Delhi'\n"
   ]
  },
  {
   "cell_type": "markdown",
   "id": "39948433",
   "metadata": {
    "id": "f62b494a"
   },
   "source": [
    "**Boolean Indexing**"
   ]
  },
  {
   "cell_type": "code",
   "execution_count": null,
   "id": "ec5b6259",
   "metadata": {
    "id": "ec5b6259"
   },
   "outputs": [],
   "source": [
    "s[N(s > 1)]  # Series s where value is not >l\n",
    "s[(s < -1) I(s > 2)]  # s where value is f-1 or >2\n",
    "df[df['Population'] > 1200000000]  # Use filter to adjust DataFrame\n"
   ]
  },
  {
   "cell_type": "markdown",
   "id": "360247bf",
   "metadata": {
    "id": "633a7f1d"
   },
   "source": [
    "**Setting**"
   ]
  },
  {
   "cell_type": "code",
   "execution_count": null,
   "id": "6dec250f",
   "metadata": {
    "id": "6dec250f"
   },
   "outputs": [],
   "source": [
    "s['a'] = 6  # Set index a of Series s to 6\n"
   ]
  },
  {
   "cell_type": "markdown",
   "id": "7eccff49",
   "metadata": {
    "id": "36cad367"
   },
   "source": [
    "### Retrieving Series/DataFrame Information"
   ]
  },
  {
   "cell_type": "markdown",
   "id": "c3b31294",
   "metadata": {
    "id": "589c37ac"
   },
   "source": [
    "**Basic Information**"
   ]
  },
  {
   "cell_type": "code",
   "execution_count": null,
   "id": "06c6364e",
   "metadata": {
    "id": "06c6364e"
   },
   "outputs": [],
   "source": [
    "\n",
    "df.shape  # (rows,columns)\n",
    "df.index  # Describe index\n",
    "df.columns  # Describe DataFrame columns\n",
    "df.info()  # Info on DataFrame\n",
    "df.count()  # Number of non-NA values\n"
   ]
  },
  {
   "cell_type": "code",
   "execution_count": null,
   "id": "91117678",
   "metadata": {
    "id": "91117678"
   },
   "outputs": [],
   "source": [
    "\n",
    "**Summary**\n",
    "\n",
    "df.sum()  # Sum of values\n",
    "df.cumsum()  # Cummulative sum of values\n",
    "df.min() / df.max()  # 11inimum/maximum values\n",
    "df.idxmin()/df.idxmax()  # Minimum/Maximum index value\n",
    "df.describe()  # Summary statistics\n",
    "df.mean()  # 11ean of values\n",
    "df.median()  # Median of values\n"
   ]
  },
  {
   "cell_type": "markdown",
   "id": "6716402e",
   "metadata": {
    "id": "54baccf4"
   },
   "source": [
    "\n",
    "### Applying Functions"
   ]
  },
  {
   "cell_type": "code",
   "execution_count": null,
   "id": "f51944f0",
   "metadata": {
    "id": "f51944f0"
   },
   "outputs": [],
   "source": [
    "\n",
    "def f(x): return X*2\n",
    "\n",
    "\n",
    "df.apply(f)  # Apply function\n",
    "df.applymap(f)  # Apply function element-wise\n"
   ]
  },
  {
   "cell_type": "markdown",
   "id": "304d2b0a",
   "metadata": {
    "id": "9c2663c1"
   },
   "source": [
    "\n",
    "**Data Alignment**"
   ]
  },
  {
   "cell_type": "markdown",
   "id": "0ea63933",
   "metadata": {
    "id": "de201cbe"
   },
   "source": [
    "**Internal Data Alignment**"
   ]
  },
  {
   "cell_type": "code",
   "execution_count": null,
   "id": "5569649e",
   "metadata": {
    "id": "5569649e"
   },
   "outputs": [],
   "source": [
    "\n",
    " s3 = pd.Series([7, -2, 31, index=['a', 'c', 'd'])\n",
    " s + s3\n",
    "a 10.0\n",
    "b NaN\n",
    "C 5.0\n",
    "d 7.0\n"
   ]
  },
  {
   "cell_type": "markdown",
   "id": "9d561811",
   "metadata": {
    "id": "c4eb6d41"
   },
   "source": [
    "\n",
    "**Arithmetic Operations with Fill Methods**"
   ]
  },
  {
   "cell_type": "markdown",
   "id": "25c0d81d",
   "metadata": {
    "id": "f1cb0214"
   },
   "source": [
    "**You can also do the internal data alignment yourself with the help of\n",
    "the fill methods:**"
   ]
  },
  {
   "cell_type": "code",
   "execution_count": null,
   "id": "5566c23b",
   "metadata": {
    "id": "5566c23b"
   },
   "outputs": [],
   "source": [
    "\n",
    "s.add(s3, fill_values=0) a 10.0\n",
    "b - 5. 0\n",
    "C 5.0\n",
    "d 7.0\n",
    "s.sub(s3, fill_value=2)\n",
    "s.div(s3, fill_value=4)\n",
    "s.mul(s3, fill_value=3)\n"
   ]
  },
  {
   "cell_type": "markdown",
   "id": "dcc60b58",
   "metadata": {
    "id": "a014aa1d"
   },
   "source": [
    "\n",
    "# Section 4"
   ]
  },
  {
   "cell_type": "markdown",
   "id": "62398ab2",
   "metadata": {
    "id": "dcaf1468"
   },
   "source": [
    "## Data Analysis with Numpy"
   ]
  },
  {
   "cell_type": "markdown",
   "id": "184e843c",
   "metadata": {
    "id": "78dac994"
   },
   "source": [
    "The NumPy library is the core library for scientific computing in\n",
    "Python. It provides a high performance multidimensional array object ,\n",
    "and tools for working with these arrays"
   ]
  },
  {
   "cell_type": "markdown",
   "id": "ec11c905",
   "metadata": {
    "id": "c00f5d3c"
   },
   "source": [
    "**Use the following import convention**"
   ]
  },
  {
   "cell_type": "code",
   "execution_count": null,
   "id": "3ec135c8",
   "metadata": {
    "id": "773db75e"
   },
   "outputs": [],
   "source": [
    "import numpy as np\n"
   ]
  },
  {
   "cell_type": "markdown",
   "id": "2cb5c43a",
   "metadata": {
    "id": "cc21d26a"
   },
   "source": [
    "\n",
    "**Creating Array**"
   ]
  },
  {
   "cell_type": "code",
   "execution_count": null,
   "id": "62d97639",
   "metadata": {
    "id": "62d97639"
   },
   "outputs": [],
   "source": [
    "\n",
    "a = np.array([l, 2, 3])\n",
    "b = np.array([(l.5, 2, 3), (4, 5, 6)], dtype=float)\n",
    "c = np.array([[(l.5, 2, 3), (4, 5, 6)], [(3, 2, 1), (4, 5, 6)]], dtype=float)\n"
   ]
  },
  {
   "cell_type": "markdown",
   "id": "8d367b05",
   "metadata": {
    "id": "ff95f40c"
   },
   "source": [
    "\n",
    "**Initial Placeholders**"
   ]
  },
  {
   "cell_type": "code",
   "execution_count": null,
   "id": "c41376e4",
   "metadata": {
    "id": "c41376e4"
   },
   "outputs": [],
   "source": [
    "\n",
    "np.zeros((3, 4))  # Create an array af zeros\n",
    "np.ones((2, 3, 4), dtype=np.int16)  # Create an array of ones\n",
    "# Create an array of evenly spaced values (step value)\n",
    "d = np.arange(10, 25, 5)\n",
    "# Create an array of evenly spaced values (number of samples)\n",
    "np.linspace(0, 2, 9)\n",
    "e = np.full((2, 2), 7)  # Create a constant array\n",
    "f = np.eye(2)  # Create a 2X2 identity matrix\n",
    "np.random.random((2, 2))  # Create an array with random values\n",
    "np.empty((3, 2))  # Create an empty array\n"
   ]
  },
  {
   "cell_type": "markdown",
   "id": "761888bb",
   "metadata": {
    "id": "b07ab31e"
   },
   "source": [
    "\n",
    "### **I/O**"
   ]
  },
  {
   "cell_type": "markdown",
   "id": "428f8120",
   "metadata": {
    "id": "eb0bcdd2"
   },
   "source": [
    "**Saving** **&** **Loading On Disk**"
   ]
  },
  {
   "cell_type": "code",
   "execution_count": null,
   "id": "8fcb4717",
   "metadata": {
    "id": "8fcb4717"
   },
   "outputs": [],
   "source": [
    "\n",
    "np.save('my_array', a)\n",
    "np.save('array.npz', a, b)\n",
    "np.load('my_array.npy ')\n"
   ]
  },
  {
   "cell_type": "markdown",
   "id": "44940e3f",
   "metadata": {
    "id": "4a6d6f76"
   },
   "source": [
    "\n",
    "**Saving & Loading Text Files**"
   ]
  },
  {
   "cell_type": "code",
   "execution_count": null,
   "id": "cae59bdd",
   "metadata": {
    "id": "cae59bdd"
   },
   "outputs": [],
   "source": [
    "\n",
    "np.loadtxt(\"myfile.txt\")\n",
    "np.genfromtxt(\"my_file.csv\", delimiter=',')\n",
    "np.savetxt(\"myarray.txt\", a, delimiter=\" \")\n"
   ]
  },
  {
   "cell_type": "markdown",
   "id": "7201287d",
   "metadata": {
    "id": "9bccf735"
   },
   "source": [
    "\n",
    "### Inspecting Your Array"
   ]
  },
  {
   "cell_type": "code",
   "execution_count": null,
   "id": "90b1f4dc",
   "metadata": {
    "id": "90b1f4dc"
   },
   "outputs": [],
   "source": [
    "\n",
    "a.shape  # Array dimensions\n",
    "len(a)  # Length of array\n",
    "b.ndim  # Number of array dimensions\n",
    "e.size  # Number of array elements\n",
    "b.dtype  # Data type of array elements\n",
    "b.dtype.name  # Name of data type\n",
    "b.astype(int)  # Convert an array to a different type\n"
   ]
  },
  {
   "cell_type": "markdown",
   "id": "677d34ab",
   "metadata": {
    "id": "745ed309"
   },
   "source": [
    "\n",
    "**Data Type**"
   ]
  },
  {
   "cell_type": "code",
   "execution_count": null,
   "id": "f4550ce5",
   "metadata": {
    "id": "f4550ce5"
   },
   "outputs": [],
   "source": [
    "\n",
    "np.int64  # Signed 64-bit integer types\n",
    "np.flaat32  # Standard double-precision floating paint\n",
    "np.complex  # Complex numbers represented by 128 floats\n",
    "np.baol  # Boolean type storing TRUE and FALSE values\n",
    "np.object  # Python object type\n",
    "np.string _  # Fixed-length string type\n",
    "np.unicode_  # Fixed-length unicode type\n"
   ]
  },
  {
   "cell_type": "markdown",
   "id": "0283b3cc",
   "metadata": {
    "id": "d2d64996"
   },
   "source": [
    "\n",
    "## Array Mathematics"
   ]
  },
  {
   "cell_type": "markdown",
   "id": "b52d11ed",
   "metadata": {
    "id": "e073f9a9"
   },
   "source": [
    "**Arithmetic Operations**"
   ]
  },
  {
   "cell_type": "code",
   "execution_count": null,
   "id": "2a6224b3",
   "metadata": {
    "id": "2a6224b3"
   },
   "outputs": [],
   "source": [
    "\n",
    " g = a - b  # Subtraction\n",
    "array([[-0.5, 0., 0.],\n",
    "        [-3., -3., -3.]])\n",
    " np.subtract(a, b)  # Subtraction\n",
    " b + a  # Addition\n",
    "array([[2.5, 4., 6.],\n",
    "        [5., 7., 9.]])\n",
    " np.add(b, a) Addition\n",
    " a / b  # Division\n",
    "array([[0.66666667, 1., 1.],\n",
    "        [0.25, 0.4, 0.5]])\n",
    " np.divide(a, b)  # Division\n",
    " a * b  # Multiplication\n",
    "array([[1.5, 4., 9.],\n",
    "    [4., 10., 18.]])\n",
    " np.multiply(a, b)  # Multiplication\n",
    " np.exp(b)  # Exponentiation\n",
    " np.sqrt(b)  # Square root\n",
    " np.sin(a)  # Print sines of an array\n",
    " np.cos(b)  # Element-wise cosine\n",
    " np.log(a)  # Element-wise natural logarithm\n",
    " e.dot(f)  # Dot product\n",
    "array([[7., 7.],\n"
   ]
  },
  {
   "cell_type": "markdown",
   "id": "ba47b112",
   "metadata": {
    "id": "7b816b47"
   },
   "source": [
    "**Comparison**"
   ]
  },
  {
   "cell_type": "code",
   "execution_count": null,
   "id": "fa9d2268",
   "metadata": {
    "id": "fa9d2268"
   },
   "outputs": [],
   "source": [
    "\n",
    "a == b  # Element-wise comparison\n",
    "array([[False, True, True],\n",
    "       [False, False, False]], dtype=bool)\n",
    "a < 2  # Element-wise comparison\n",
    "array([True, False, False], dtype=bool)\n",
    "np.array_equal(a, b)  # Array-wise comparison\n"
   ]
  },
  {
   "cell_type": "markdown",
   "id": "eddd04c2",
   "metadata": {
    "id": "07268d9e"
   },
   "source": [
    "\n",
    "**Aggregate Functions**"
   ]
  },
  {
   "cell_type": "code",
   "execution_count": null,
   "id": "55eaf3f8",
   "metadata": {
    "id": "55eaf3f8"
   },
   "outputs": [],
   "source": [
    "\n",
    "a.sum()  # Array-wise sum\n",
    "a.min()  # Array-wise minimum value\n",
    "b.max(axis=0)  # Maximum value of an array row\n",
    "b.cumsum(axis=l)  # Cumulative sum of the elements\n",
    "a.mean()  # Mean\n",
    "b.median()  # Median\n",
    "a.corrcaef()  # Correlation coefficient\n",
    "np.std(b)  # Standard deviation\n"
   ]
  },
  {
   "cell_type": "markdown",
   "id": "bb193efd",
   "metadata": {
    "id": "43b57ffe"
   },
   "source": [
    "### Copying Array"
   ]
  },
  {
   "cell_type": "code",
   "execution_count": null,
   "id": "4e95bd69",
   "metadata": {
    "id": "4e95bd69"
   },
   "outputs": [],
   "source": [
    "h = a.view()  # Create a view af the array with the some data\n",
    "np.capy(a)  # Create a copy of the array\n",
    "h = a.copy()  # Create a deep copy of the array\n"
   ]
  },
  {
   "cell_type": "markdown",
   "id": "120a135a",
   "metadata": {
    "id": "28eaf405"
   },
   "source": [
    "### Sorting Array"
   ]
  },
  {
   "cell_type": "markdown",
   "id": "ec4a418c",
   "metadata": {
    "id": "05b657a0"
   },
   "source": [
    "**Subsetting**"
   ]
  },
  {
   "cell_type": "code",
   "execution_count": null,
   "id": "f381982d",
   "metadata": {
    "id": "f381982d"
   },
   "outputs": [],
   "source": [
    "\n",
    "a[2]  # Select the element at the 2nd index\n"
   ]
  },
  {
   "cell_type": "code",
   "execution_count": null,
   "id": "3a17ee2d",
   "metadata": {
    "id": "3a17ee2d"
   },
   "outputs": [],
   "source": [
    "\n",
    "b[1, 2]  # Select the element at row 1 column 2 (equivalent to b[1][2])\n",
    "6.0\n"
   ]
  },
  {
   "cell_type": "markdown",
   "id": "e117cf63",
   "metadata": {
    "id": "f6500478"
   },
   "source": [
    "**Slicing**"
   ]
  },
  {
   "cell_type": "code",
   "execution_count": null,
   "id": "dc6a97bb",
   "metadata": {
    "id": "dc6a97bb"
   },
   "outputs": [],
   "source": [
    "\n",
    "a[0:2]  # Select items at index 0 and 1\n",
    "array([1, 2])\n"
   ]
  },
  {
   "cell_type": "code",
   "execution_count": null,
   "id": "c4dd98a4",
   "metadata": {
    "id": "c4dd98a4"
   },
   "outputs": [],
   "source": [
    "\n",
    "b[0:2, 1]  # Select items at rows 0 and 1 in column 1\n",
    "array([2., 5.])\n"
   ]
  },
  {
   "cell_type": "code",
   "execution_count": null,
   "id": "3b090d44",
   "metadata": {
    "id": "3b090d44"
   },
   "outputs": [],
   "source": [
    "b[:1]  # Select all items at row 0 (equivalent to b[0:1, :])\n",
    "array([[1.5, 2., 3.]])\n"
   ]
  },
  {
   "cell_type": "code",
   "execution_count": null,
   "id": "d5d39a0f",
   "metadata": {
    "id": "d5d39a0f"
   },
   "outputs": [],
   "source": [
    "\n",
    "c[1, ...]  # Same as [1,:,:]\n",
    "array([[[3., 2., 1.],\n",
    "        [4., 5.,  6.]]])\n",
    "a[::-1]  # Reversed array a array([3, 2, 1])\n"
   ]
  },
  {
   "cell_type": "markdown",
   "id": "2169cef9",
   "metadata": {
    "id": "b9ee2bcc"
   },
   "source": [
    "\n",
    "**Boolean Indexing**"
   ]
  },
  {
   "cell_type": "code",
   "execution_count": null,
   "id": "48d82069",
   "metadata": {
    "id": "48d82069"
   },
   "outputs": [],
   "source": [
    "\n",
    "a[a < 2]  # Select elements from a less than 2\n",
    "array([1])\n"
   ]
  },
  {
   "cell_type": "markdown",
   "id": "25268840",
   "metadata": {
    "id": "87844ba1"
   },
   "source": [
    "**Fancy Indexing**"
   ]
  },
  {
   "cell_type": "code",
   "execution_count": null,
   "id": "468da583",
   "metadata": {
    "id": "468da583"
   },
   "outputs": [],
   "source": [
    "\n",
    "b[[l, 0, 1, 0], [0, 1, 2, 0]]  # Select elements (1,0),(0,1),(1,2) and (0,0)\n",
    "array([4., 2., 6., 1.5])\n",
    "# Select a subset of the matrix's rows and columns array([[ 4. ,5. , 6. , 4. ],\n",
    "b[[l, 0, 1, 0]][:, [0, 1, 2, 0]]\n",
    "[1.5, 2.3, 1.5],\n"
   ]
  },
  {
   "cell_type": "markdown",
   "id": "0935aa0e",
   "metadata": {
    "id": "20b32ffb"
   },
   "source": [
    "\n",
    "### Array Manipulation"
   ]
  },
  {
   "cell_type": "markdown",
   "id": "699deb82",
   "metadata": {
    "id": "5d5d6ed8"
   },
   "source": [
    "**Transposing Array**"
   ]
  },
  {
   "cell_type": "code",
   "execution_count": null,
   "id": "e94f0ea7",
   "metadata": {
    "id": "e94f0ea7"
   },
   "outputs": [],
   "source": [
    "\n",
    "i = np.transpose(b)  # Permute array dimensions\n",
    "i.T  # Permute array dimensions\n"
   ]
  },
  {
   "cell_type": "markdown",
   "id": "38470567",
   "metadata": {
    "id": "da5a35cd"
   },
   "source": [
    "\n",
    "**Changing Array Shape**"
   ]
  },
  {
   "cell_type": "code",
   "execution_count": null,
   "id": "af1f9281",
   "metadata": {
    "id": "af1f9281"
   },
   "outputs": [],
   "source": [
    "\n",
    "b.ravel()  # Flatten the array\n",
    "g.reshape(3, -2)  # Reshape, but don't change data\n"
   ]
  },
  {
   "cell_type": "markdown",
   "id": "1434a2a7",
   "metadata": {
    "id": "a4ea8c7e"
   },
   "source": [
    "\n",
    "**Adding/Removing Elements**"
   ]
  },
  {
   "cell_type": "code",
   "execution_count": null,
   "id": "49605d21",
   "metadata": {
    "id": "49605d21"
   },
   "outputs": [],
   "source": [
    "\n",
    "h.resize((2, 6))  # Return a new array with shape (2,6)\n",
    "np.append(h, g)  # Append items to an array\n",
    "np.insert(a, 1, 5)  # Insert items in an array\n",
    "np.delete(a, [1])  # Delete items from an array\n"
   ]
  },
  {
   "cell_type": "markdown",
   "id": "b4854802",
   "metadata": {
    "id": "63c85fb3"
   },
   "source": [
    "\n",
    "**Combining Arrays**"
   ]
  },
  {
   "cell_type": "code",
   "execution_count": null,
   "id": "98a266d0",
   "metadata": {
    "id": "98a266d0"
   },
   "outputs": [],
   "source": [
    "\n",
    "# Concatenate arrays array([ 1, 2, 3, 10, 15, 20])\n",
    "np.concatenate((a, d), axis=0)\n",
    "np.vstack((a, b))  # Stack arrays vertically (row-wise)\n",
    "array([[1., 2.    3.],\n",
    "       [1.5, 2., 3.],\n",
    "       [4.,   5.,   6.]])\n",
    "np.r_[e, f]  # Stack arrays vertically (row -wise)\n",
    "np.hstack((e, f))  # Stack arrays horizontally (col umn-wise)\n",
    "array([[7., 7., 1., 0.],\n",
    "       [7., 7., 0., 1.]])\n",
    "np.column_stack((a, d))  # Create stacked column-wise arrays\n",
    "array([[1, 10],\n",
    "       [2,  15],\n",
    "       [3, 20]])\n",
    "np.c_[a, d]  # Create stacked column-wise arrays\n"
   ]
  },
  {
   "cell_type": "markdown",
   "id": "bec20ffd",
   "metadata": {
    "id": "ff8a15da"
   },
   "source": [
    "\n",
    "**Splitting Arrays**"
   ]
  },
  {
   "cell_type": "code",
   "execution_count": null,
   "id": "0ec0339c",
   "metadata": {
    "id": "0ec0339c"
   },
   "outputs": [],
   "source": [
    "\n",
    "np.hsplit(a, 3)  # Split the array horizontally at the 3rd index\n",
    "[array([1]), array([2]), array([3])]\n",
    "np.vsplit(c, 2)  # Split the array vertically at the 2nd index\n",
    "[array([[[1.5, 2., 1.],\n",
    "        [4., 5., 6.]]]),\n",
    " array([[[3., 2., 3.],\n",
    "        [4.,  5., 6.]]])]\n"
   ]
  },
  {
   "cell_type": "markdown",
   "id": "f84c9520",
   "metadata": {
    "id": "e188d69a"
   },
   "source": [
    "\n",
    "# Section 5"
   ]
  },
  {
   "cell_type": "markdown",
   "id": "817618d4",
   "metadata": {
    "id": "e72f5e67"
   },
   "source": [
    "## Data Visualization with Matplotlib"
   ]
  },
  {
   "cell_type": "markdown",
   "id": "9cc22256",
   "metadata": {
    "id": "ae6d84bb"
   },
   "source": [
    "Matplotlib is a Python 2D plotting library which produces\n",
    "publication-quality figures in a variety of hardcopy formats and\n",
    "interactive environments across platforms."
   ]
  },
  {
   "cell_type": "markdown",
   "id": "34aa8f09",
   "metadata": {
    "id": "60e1f661"
   },
   "source": [
    "**1D Data**"
   ]
  },
  {
   "cell_type": "code",
   "execution_count": null,
   "id": "8ef2d9d3",
   "metadata": {
    "id": "8ef2d9d3"
   },
   "outputs": [],
   "source": [
    "import numpy as np\n",
    "X = np.linspace(0, 10, 100)\n",
    "y = np.cos(x)\n",
    "z = np.sin(x)\n"
   ]
  },
  {
   "cell_type": "markdown",
   "id": "d9b42099",
   "metadata": {
    "id": "5c75398c"
   },
   "source": [
    "**2D Data or Images**"
   ]
  },
  {
   "cell_type": "code",
   "execution_count": null,
   "id": "d6bf655d",
   "metadata": {
    "id": "d6bf655d"
   },
   "outputs": [],
   "source": [
    "\n",
    "from matplotlib.cbook import get_sample_data\n",
    "data = 2 * np.random.random((10, 10))\n",
    "data2 = 3 * np.random.random((10, 10))\n",
    "Y, X = np.mgrid[-3:3:100j, -3:3:100j]\n",
    "U = -1 - X**2 + Y\n",
    "V = 1 + X - Y**2\n",
    "img = np.load(g et_sample_data('axes_gr id/bivar iate_normal.npy '))\n"
   ]
  },
  {
   "cell_type": "markdown",
   "id": "f218b9e7",
   "metadata": {
    "id": "44a0dcd7"
   },
   "source": [
    "\n",
    "### Create Plot"
   ]
  },
  {
   "cell_type": "code",
   "execution_count": null,
   "id": "e701cc84",
   "metadata": {
    "id": "e701cc84"
   },
   "outputs": [],
   "source": [
    "import matplotlib.pyplot as plt\n"
   ]
  },
  {
   "cell_type": "markdown",
   "id": "18b83cfc",
   "metadata": {
    "id": "2cb56a1b"
   },
   "source": [
    "**Figure**"
   ]
  },
  {
   "cell_type": "code",
   "execution_count": null,
   "id": "ff646880",
   "metadata": {
    "id": "ff646880"
   },
   "outputs": [],
   "source": [
    "\n",
    "fig = plt.figure()\n",
    "fig2 = plt.figure(figsize=plt.figaspect(2.0))\n"
   ]
  },
  {
   "cell_type": "markdown",
   "id": "1c201707",
   "metadata": {
    "id": "7d5d7ed7"
   },
   "source": [
    "\n",
    "**Axes**"
   ]
  },
  {
   "cell_type": "markdown",
   "id": "dcafd7e1",
   "metadata": {
    "id": "de155b9e"
   },
   "source": [
    "ll plotting is done with respect to an Axes. In most cases, a subplot\n",
    "will fit your needs. A subplot is an axes on a grid system."
   ]
  },
  {
   "cell_type": "code",
   "execution_count": null,
   "id": "21a17eb0",
   "metadata": {
    "id": "21a17eb0"
   },
   "outputs": [],
   "source": [
    "fig.add_axes()\n",
    "ax1 = fig.add_subplot(221)  # row-col-num\n",
    "ax3 = fig.add_subplot(212)\n",
    "fig3, axes = plt.subplots(nrows=2, ncols=2)\n",
    "fig4, axes2 = plt.subplots(ncols=3)\n"
   ]
  },
  {
   "cell_type": "markdown",
   "id": "d67781c7",
   "metadata": {
    "id": "55f34eaa"
   },
   "source": [
    "**Save Plot**"
   ]
  },
  {
   "cell_type": "code",
   "execution_count": null,
   "id": "2fe34299",
   "metadata": {
    "id": "2fe34299"
   },
   "outputs": [],
   "source": [
    "     plt.savefig('foe.png' J  # Save figures\n",
    "     plt.savefig('foo.png', transparent=True)  # Save transparent figures\n"
   ]
  },
  {
   "cell_type": "markdown",
   "id": "f2cd603b",
   "metadata": {
    "id": "7115f323"
   },
   "source": [
    "**Show Plot**"
   ]
  },
  {
   "cell_type": "code",
   "execution_count": null,
   "id": "96cb25e2",
   "metadata": {
    "id": "96cb25e2"
   },
   "outputs": [],
   "source": [
    "plt.show()\n"
   ]
  },
  {
   "cell_type": "markdown",
   "id": "affd634a",
   "metadata": {
    "id": "27a6d640"
   },
   "source": [
    "### Plotting Routines"
   ]
  },
  {
   "cell_type": "markdown",
   "id": "80e43584",
   "metadata": {
    "id": "6c023c2c"
   },
   "source": [
    "**1D Data**"
   ]
  },
  {
   "cell_type": "code",
   "execution_count": null,
   "id": "35039220",
   "metadata": {
    "id": "35039220"
   },
   "outputs": [],
   "source": [
    "\n",
    "fig, ax = plt.subp lots()\n",
    "lines = ax.plot(x, y)  # Draw points with lines or markers connecting them\n",
    "ax.scatter(x, y)  # Draw unconnected points, scaled or colored\n",
    "# Plot vertical rectangles (constant width)\n",
    "axes[0, 0].bar([l, 2, 3], [3, 4, 5])\n",
    "# Plot horiontol rectangles (constant height)\n",
    "axes[l, 0].barh([0.5, 1, 2.5], [0, 1, 2])\n",
    "axes[l, 1].axhline(0.s5)  # Draw a horizontal line across axes\n",
    "axes[0, 1].axvline(0.65)  # Draw a vertical line across axes\n",
    "ax.fill(x, y, color='blue')  # Drow filled polygons\n",
    "ax.fill_between(x, y, color='yellow')  # Fill between y-values and 0\n"
   ]
  },
  {
   "cell_type": "markdown",
   "id": "2f9d6b51",
   "metadata": {
    "id": "be0608fe"
   },
   "source": [
    "\n",
    "**2D Data**"
   ]
  },
  {
   "cell_type": "code",
   "execution_count": null,
   "id": "a0c0cfaa",
   "metadata": {
    "id": "a0c0cfaa"
   },
   "outputs": [],
   "source": [
    "     fig, ax = plt.subplots()\n",
    "     im = ax.imshow(img,  # Colormapped or RGB arrays\n",
    "                cmap=1 gist_ear th 1,\n",
    "                interpolation=1 neare st',\n",
    "                vmin=-2,\n",
    "                vmax=2)\n",
    "     axes2[0].pcolor(data2)  # Pseudocolor plot of 2D array\n",
    "     axes2[0].pcolormesh(data)  # Pseudocolor plot of 2D array\n",
    "    CS= plt.contour(Y,X,U) #Plot contours\n",
    "     axes2[2].contourf(datal) #Plot filled contours\n",
    "     axes2[2]= ax.clabel(CS) #Lobel a contour plot"
   ]
  },
  {
   "cell_type": "markdown",
   "id": "b24687dc",
   "metadata": {
    "id": "4a88c654"
   },
   "source": [
    "**Vector Fields**"
   ]
  },
  {
   "cell_type": "code",
   "execution_count": null,
   "id": "6adc97bf",
   "metadata": {
    "id": "6adc97bf"
   },
   "outputs": [],
   "source": [
    "axes[0, 1].arrow(0, 0, 0.5, 0.5)  # Add an arrow to the axes\n",
    "axes[l, l].quiver(y, z)  # Plot a 2D field of arrows\n",
    "axes[0, 1].streamplot(X, Y, U, V)  # Plot a 2D field of arrows\n"
   ]
  },
  {
   "cell_type": "markdown",
   "id": "ddb93c96",
   "metadata": {
    "id": "e237e062"
   },
   "source": [
    "**Data Distributions**"
   ]
  },
  {
   "cell_type": "code",
   "execution_count": null,
   "id": "ee3a0417",
   "metadata": {
    "id": "ee3a0417"
   },
   "outputs": [],
   "source": [
    "axl.hist(y)  # Plot a histogram\n",
    "ax3.boxplot(y)  # Make a box and whisker plot\n",
    "ax3.violinplot(z)  # Make a violin plot\n"
   ]
  },
  {
   "cell_type": "markdown",
   "id": "4983d6ed",
   "metadata": {
    "id": "e9cf6ad5"
   },
   "source": [
    "### Plot Anatomy"
   ]
  },
  {
   "cell_type": "markdown",
   "id": "637927f7",
   "metadata": {
    "id": "82977ba0"
   },
   "source": [
    "The basic steps to creating plots with matplotlib are:"
   ]
  },
  {
   "cell_type": "markdown",
   "id": "19fbeb65",
   "metadata": {
    "id": "0629dd3a"
   },
   "source": [
    "**1** Prepare Data **2** Create Plot **3** Plot **4** Customized Plot\n",
    "**5** Save Plot **6** Show Plot"
   ]
  },
  {
   "cell_type": "code",
   "execution_count": null,
   "id": "21a56fe1",
   "metadata": {
    "id": "21a56fe1"
   },
   "outputs": [],
   "source": [
    "\n",
    "import matplotlib.pyplot as plt\n",
    "x = [1, 2, 3, s]  # Step 1\n",
    "y = [10, 20, 25, 30]\n",
    "fig = plt.figure()  # Step 2\n",
    "ax = fig.add_subp lot(lll)  # Step 3\n",
    "ax.plot(x, y, color='lightb lue', linewidth=3)  # Step 3, 4\n",
    "ax.scatter([2, 4, 6],\n",
    "           [5, 15, 25],\n",
    "           color='darkgreen ',\n",
    "           marker='^')\n",
    "ax.set_xlim(l, 6.5)\n",
    "plt.savefig('foo.png')  # Step 5\n",
    "plt.show()  # Step 6\n"
   ]
  },
  {
   "cell_type": "markdown",
   "id": "9b43b600",
   "metadata": {
    "id": "5249f21a"
   },
   "source": [
    "\n",
    "**Close and Clear**"
   ]
  },
  {
   "cell_type": "code",
   "execution_count": null,
   "id": "263c9fd2",
   "metadata": {
    "id": "263c9fd2"
   },
   "outputs": [],
   "source": [
    "\n",
    "plt.cla()  # Clear on axis\n",
    "plt.clf()  # Clear the entire figure\n",
    "plt.close()  # Close a window\n"
   ]
  },
  {
   "cell_type": "markdown",
   "id": "555f45e7",
   "metadata": {
    "id": "9b44060a"
   },
   "source": [
    "\n",
    "### Plotting Cutomize Plot"
   ]
  },
  {
   "cell_type": "markdown",
   "id": "e6624e12",
   "metadata": {
    "id": "d9129052"
   },
   "source": [
    "**Colors, Color Bars & Color Map**"
   ]
  },
  {
   "cell_type": "code",
   "execution_count": null,
   "id": "ed5b396f",
   "metadata": {
    "id": "ed5b396f"
   },
   "outputs": [],
   "source": [
    "\n",
    "plt.plot(x, x, x, X**2, x, X**3)\n",
    "ax.plot(x, y, alpha=0.s)\n",
    "ax.plot(x, y, c='k')\n",
    "fig.colorbar(im, orientation='horizontal')\n",
    "im = ax.imshow(img, cmap='seismic')\n"
   ]
  },
  {
   "cell_type": "markdown",
   "id": "dfa74259",
   "metadata": {
    "id": "fb4024de"
   },
   "source": [
    "\n",
    "**Markers**"
   ]
  },
  {
   "cell_type": "code",
   "execution_count": null,
   "id": "43cba8a1",
   "metadata": {
    "id": "43cba8a1"
   },
   "outputs": [],
   "source": [
    "fig, ax = plt.subplots()\n",
    "ax.scatter(x, y, marker=\".\")\n",
    "ax.plot(x, y, marker=\"o\")\n"
   ]
  },
  {
   "cell_type": "markdown",
   "id": "2b9849c0",
   "metadata": {
    "id": "756c29cf"
   },
   "source": [
    "**Linestyles**"
   ]
  },
  {
   "cell_type": "code",
   "execution_count": null,
   "id": "0082d871",
   "metadata": {
    "id": "0082d871"
   },
   "outputs": [],
   "source": [
    "\n",
    "plt.plot(x, y, linewidth=4.0)\n",
    "plt.plot(x, y, ls='solid')\n",
    "plt.plot(x, y, ls='--')\n",
    "plt.plot(x, y, '-- 1 ,X**2,Y** 2, '-.')\n",
    "plt.setp(lines, color='r', linewidth=4.0)\n"
   ]
  },
  {
   "cell_type": "markdown",
   "id": "e34d583a",
   "metadata": {
    "id": "8fb86411"
   },
   "source": [
    "\n",
    "**Text** & **Annotations**"
   ]
  },
  {
   "cell_type": "code",
   "execution_count": null,
   "id": "9ee7208d",
   "metadata": {
    "id": "9ee7208d"
   },
   "outputs": [],
   "source": [
    "ax.text(1, -2.1, 'Example Graph', style='italic')\n",
    "ax.annotate(\"Sine\",\n",
    "            xy=(8, 0),\n",
    "            xycoords='data',\n",
    "            xytext=(10.5, 0),\n",
    "            textcoords=1 data',\n",
    "            arrowprops=dict(arrowstyle=\"->\" connectionstyle=\"arc3\"),)\n"
   ]
  },
  {
   "cell_type": "markdown",
   "id": "788fb60d",
   "metadata": {
    "id": "e3760b1f"
   },
   "source": [
    "**Mathtext**"
   ]
  },
  {
   "cell_type": "code",
   "execution_count": null,
   "id": "87761e78",
   "metadata": {
    "id": "87761e78"
   },
   "outputs": [],
   "source": [
    "plt.title(r'$sigma_ i=15$', fontsize=20)\n"
   ]
  },
  {
   "cell_type": "markdown",
   "id": "39760fb8",
   "metadata": {
    "id": "bc2d8dc4"
   },
   "source": [
    "**Limits, Legends and Layouts**"
   ]
  },
  {
   "cell_type": "markdown",
   "id": "23760c4b",
   "metadata": {
    "id": "d0308e70"
   },
   "source": [
    "Limits & Autoscaling"
   ]
  },
  {
   "cell_type": "code",
   "execution_count": null,
   "id": "44e05d0e",
   "metadata": {
    "id": "44e05d0e"
   },
   "outputs": [],
   "source": [
    "\n",
    "ax.margins(x=0.0, y=0.1)  # Add padding to a plot\n",
    "ax.axis('equa l')  # Set the aspect ratio of the plot to 1\n",
    "ax.set(xlim=[0, 10.5], ylim=[-1.5, l.5])  # Set limits for x-and y-axis\n",
    "ax.set_xlim(0, 10.5)  # Set limits for x-axis\n"
   ]
  },
  {
   "cell_type": "markdown",
   "id": "36f5c713",
   "metadata": {
    "id": "cfde4811"
   },
   "source": [
    "**Legends**"
   ]
  },
  {
   "cell_type": "code",
   "execution_count": null,
   "id": "cdd08f9a",
   "metadata": {
    "id": "cdd08f9a"
   },
   "outputs": [],
   "source": [
    "\n",
    "ax.set(title='An Example Axe s',  # Set a title and x-ond y-axis labels\n",
    "       ylabel='Y-Axis',\n",
    "       xlabel='X-Axis')\n",
    "ax.legend(loc='best')  # No overlapping plot elements\n"
   ]
  },
  {
   "cell_type": "markdown",
   "id": "57d88472",
   "metadata": {
    "id": "1d1d6c05"
   },
   "source": [
    "\n",
    "**Ticks**"
   ]
  },
  {
   "cell_type": "code",
   "execution_count": null,
   "id": "a5a2d92c",
   "metadata": {
    "id": "a5a2d92c"
   },
   "outputs": [],
   "source": [
    "\n",
    " ax.xaxis.set(ticks=range(l, 5),  # Manually set x-ticks\n",
    "ticklabels=[3, 100, -12, \"foo']')\n",
    "     # Makey-ticks longer and go in and out\n",
    " ax.tick_param s(axis='y', direction='inout ', length=10)\n"
   ]
  },
  {
   "cell_type": "markdown",
   "id": "cc8b3741",
   "metadata": {
    "id": "fff62b11"
   },
   "source": [
    "\n",
    "**Subplot Spacing**"
   ]
  },
  {
   "cell_type": "code",
   "execution_count": null,
   "id": "40d70bf2",
   "metadata": {
    "id": "40d70bf2"
   },
   "outputs": [],
   "source": [
    "\n",
    "fig3.subplots_ad just(wspace=0.5,  # Adjust the spacing between subplots\n",
    "                      hspace=0.3, left=0.125, right=0.9, top=0.9, bottom=0.1)\n",
    "fig.tight_layout()  # Fit subplot(s) in to the figure area\n"
   ]
  },
  {
   "cell_type": "markdown",
   "id": "61d3e32e",
   "metadata": {
    "id": "2186e3ec"
   },
   "source": [
    "\n",
    "**Axis Spines**"
   ]
  },
  {
   "cell_type": "code",
   "execution_count": null,
   "id": "83b2b075",
   "metadata": {
    "id": "83b2b075"
   },
   "outputs": [],
   "source": [
    "\n",
    "axl.spines['top'].set_visible(False)\n",
    "# Make the top axis line for a plot invisible\n",
    "axl.spines['bottom'].set_po sition(('outward', 10))\n",
    "# Move the bottom axis line outward\n"
   ]
  },
  {
   "cell_type": "markdown",
   "id": "4f69db66",
   "metadata": {
    "id": "df9a84d2"
   },
   "source": [
    "\n",
    "# Section 7"
   ]
  },
  {
   "cell_type": "markdown",
   "id": "0b3ee826",
   "metadata": {
    "id": "cc0a4f16"
   },
   "source": [
    "# Machine Learning with Scikit-Learn"
   ]
  },
  {
   "cell_type": "markdown",
   "id": "74b5342d",
   "metadata": {
    "id": "330ce830"
   },
   "source": [
    "Scikit-learn is an open source Python library that implements a range of\n",
    "machine learning, preprocessing, cross-validation and visualization\n",
    "algorithms using a unified interface."
   ]
  },
  {
   "cell_type": "markdown",
   "id": "995fe51a",
   "metadata": {
    "id": "e8d14631"
   },
   "source": [
    "**Example**"
   ]
  },
  {
   "cell_type": "code",
   "execution_count": null,
   "id": "e3b3a9a7",
   "metadata": {
    "id": "e3b3a9a7"
   },
   "outputs": [],
   "source": [
    "\n",
    "from sklearn import neighbors, datasets, preprocessing\n",
    "from sklearn.model_selection import train_test_split\n",
    "from sklearn.metrics import accuracy_score\n",
    "iris = datasets.load_iris()\n",
    "X, y = iris.data[:, :2], iris.target\n",
    "X_train, X_test, y_train, y_test = train_test_split(X, y, random_state=33)\n",
    "scaler = preprocessing.StandardScaler().fit(X_train)\n",
    "X_train = scaler.transform(X_train)\n",
    "X_test = scaler.transform(X_test)\n",
    "knn = neighbors.KNeighborsClassifier(n_neighbors=5)\n",
    "knn.fit(X_train, y_train)\n",
    "y_pred = knn.predict(X_test)\n",
    "accuracy_score(y _test, y_pred)\n"
   ]
  },
  {
   "cell_type": "markdown",
   "id": "49cde609",
   "metadata": {
    "id": "c976cde6"
   },
   "source": [
    "\n",
    "### Loading The Data"
   ]
  },
  {
   "cell_type": "markdown",
   "id": "5b698bd0",
   "metadata": {
    "id": "b2195f60"
   },
   "source": [
    "Your data needs to be numeric and stored as NumPy arrays or SciPy\n",
    "sparse matrices. Other types that are convertible to numeric arrays,\n",
    "such as Pandas DataFrame, are also acceptable"
   ]
  },
  {
   "cell_type": "code",
   "execution_count": null,
   "id": "d2075799",
   "metadata": {
    "id": "d2075799"
   },
   "outputs": [],
   "source": [
    "\n",
    "import numpy as np\n",
    "X = np.random.random((10, 5))\n",
    "Y = np. array(['M', 'M', 'F', 'F', 'M', 'F', 'M', 'M', 'F', 'F', 'F'])\n",
    "X[X < 0.7] = 0\n"
   ]
  },
  {
   "cell_type": "markdown",
   "id": "d2615fbf",
   "metadata": {
    "id": "6b22df74"
   },
   "source": [
    "\n",
    "### Training And Test Data"
   ]
  },
  {
   "cell_type": "code",
   "execution_count": null,
   "id": "9b474cf7",
   "metadata": {
    "id": "9b474cf7"
   },
   "outputs": [],
   "source": [
    "\n",
    "from sklearn.model_selection import train_test_split\n",
    "X_train, X_test, y_train, y_test = train_test_split(X, y, random_state=0)\n"
   ]
  },
  {
   "cell_type": "markdown",
   "id": "258903b4",
   "metadata": {
    "id": "5d731e00"
   },
   "source": [
    "\n",
    "### Model Fitting"
   ]
  },
  {
   "cell_type": "markdown",
   "id": "87777ab6",
   "metadata": {
    "id": "88d68fce"
   },
   "source": [
    "**Supervised learning**"
   ]
  },
  {
   "cell_type": "code",
   "execution_count": null,
   "id": "cca34393",
   "metadata": {
    "id": "cca34393"
   },
   "outputs": [],
   "source": [
    "\n",
    "lr.fit(X, y)  # Fit the model to the data\n",
    "knn.fit(X_train, y_train)\n",
    "svc.fit(X_train, y_train)\n"
   ]
  },
  {
   "cell_type": "markdown",
   "id": "daef008e",
   "metadata": {
    "id": "24315553"
   },
   "source": [
    "\n",
    "**Unsupervised Learning**"
   ]
  },
  {
   "cell_type": "code",
   "execution_count": null,
   "id": "5d521b48",
   "metadata": {
    "id": "5d521b48"
   },
   "outputs": [],
   "source": [
    "\n",
    "k_mean s.fit(X_train)  # Fit the model to the data\n",
    "pca_model = pca.fit_transform(X_train)  # Fit to data, then transform it\n"
   ]
  },
  {
   "cell_type": "markdown",
   "id": "9bbc0ae5",
   "metadata": {
    "id": "653cd98c"
   },
   "source": [
    "\n",
    "### Prediction"
   ]
  },
  {
   "cell_type": "markdown",
   "id": "8e508bea",
   "metadata": {
    "id": "aa92db30"
   },
   "source": [
    "**Supervised Estimators**"
   ]
  },
  {
   "cell_type": "code",
   "execution_count": null,
   "id": "9368e53e",
   "metadata": {
    "id": "9368e53e"
   },
   "outputs": [],
   "source": [
    "\n",
    "y_pred = svc.predict(np.random.random((2, 5)))  # Predict labels\n",
    "y_pred = lr.predict(X_test)  # Predict labels\n",
    "y_ pred = knn.predict_proba(X_test)  # Estimate probability of a label\n"
   ]
  },
  {
   "cell_type": "markdown",
   "id": "5ef7ce25",
   "metadata": {
    "id": "5993f0e8"
   },
   "source": [
    "\n",
    "**Unsupervised Estimators**"
   ]
  },
  {
   "cell_type": "code",
   "execution_count": null,
   "id": "99df1414",
   "metadata": {
    "id": "99df1414"
   },
   "outputs": [],
   "source": [
    "\n",
    "y_pred = k_means.predict(X_test)  # Predict labels in clustering algos\n"
   ]
  },
  {
   "cell_type": "markdown",
   "id": "d81fc0c1",
   "metadata": {
    "id": "26a00017"
   },
   "source": [
    "\n",
    "### Preprocessing The Data"
   ]
  },
  {
   "cell_type": "markdown",
   "id": "fe2abb5c",
   "metadata": {
    "id": "b0916054"
   },
   "source": [
    "**Standardization**"
   ]
  },
  {
   "cell_type": "code",
   "execution_count": null,
   "id": "9c32b7ba",
   "metadata": {
    "id": "9c32b7ba"
   },
   "outputs": [],
   "source": [
    "\n",
    "from sklearn.preprocessing import StandardScaler\n",
    "scaler = StandardScaler().fit(X_train)\n",
    "standardized_X = scaler.transform(X_train)\n",
    "standardized_X_test = scaler.transform(X _test)\n"
   ]
  },
  {
   "cell_type": "markdown",
   "id": "4455516b",
   "metadata": {
    "id": "edccc274"
   },
   "source": [
    "\n",
    "**Normalization**"
   ]
  },
  {
   "cell_type": "code",
   "execution_count": null,
   "id": "824f6f8e",
   "metadata": {
    "id": "824f6f8e"
   },
   "outputs": [],
   "source": [
    "\n",
    "from sklearn.preprocessing import Normalizer\n",
    "scaler = Normalizer().fit(X_train)\n",
    "normalized_X = scaler.transform(X _train)\n",
    "normalized_X_test = scaler.transform(X_test)\n"
   ]
  },
  {
   "cell_type": "markdown",
   "id": "fcb6a565",
   "metadata": {
    "id": "e1a0695f"
   },
   "source": [
    "\n",
    "**Binarization**"
   ]
  },
  {
   "cell_type": "code",
   "execution_count": null,
   "id": "27078d82",
   "metadata": {
    "id": "27078d82"
   },
   "outputs": [],
   "source": [
    "\n",
    "from sklearn.preprocessing import Binarizer\n",
    "binarizer = Binarizer(threshold=0.0).fit(X)\n",
    "binary_X = binarizer.transform(X)\n"
   ]
  },
  {
   "cell_type": "markdown",
   "id": "514419b9",
   "metadata": {
    "id": "a07ef94a"
   },
   "source": [
    "\n",
    "**Encoding Categorical Features**"
   ]
  },
  {
   "cell_type": "code",
   "execution_count": null,
   "id": "54047ad9",
   "metadata": {
    "id": "54047ad9"
   },
   "outputs": [],
   "source": [
    "\n",
    "from sklearn.preprocessing import LabelEncoder\n",
    "enc = LabelEncoder()\n",
    "y = enc.fit_transform(y)\n"
   ]
  },
  {
   "cell_type": "markdown",
   "id": "bf5bf84b",
   "metadata": {
    "id": "36b0e681"
   },
   "source": [
    "\n",
    "**Imputing Missing Values**"
   ]
  },
  {
   "cell_type": "code",
   "execution_count": null,
   "id": "984a0942",
   "metadata": {
    "id": "984a0942"
   },
   "outputs": [],
   "source": [
    "\n",
    "from sklearn.preprocessing import Imputer\n",
    "imp = Imputer(missing_values=0, strategy='mean ', axis=0)\n",
    "imp.fit_transform(X_train)\n"
   ]
  },
  {
   "cell_type": "markdown",
   "id": "4e64ceb3",
   "metadata": {
    "id": "5b90cd8d"
   },
   "source": [
    "\n",
    "**Generating Polynomial Features**"
   ]
  },
  {
   "cell_type": "code",
   "execution_count": null,
   "id": "4a7fd46f",
   "metadata": {
    "id": "4a7fd46f"
   },
   "outputs": [],
   "source": [
    "\n",
    "from sklearn.preprocessing import PolynomialFeatures\n",
    "poly = PolynomialFeatures(5)\n",
    "poly.fit_transform(X)\n"
   ]
  },
  {
   "cell_type": "markdown",
   "id": "40540941",
   "metadata": {
    "id": "93c009de"
   },
   "source": [
    "\n",
    "## Create Your Model"
   ]
  },
  {
   "cell_type": "markdown",
   "id": "de089be9",
   "metadata": {
    "id": "ffe99da8"
   },
   "source": [
    "### Supervised Learning Estimators"
   ]
  },
  {
   "cell_type": "markdown",
   "id": "61fbe537",
   "metadata": {
    "id": "ea02d83b"
   },
   "source": [
    "**Linear Regression**"
   ]
  },
  {
   "cell_type": "code",
   "execution_count": null,
   "id": "5286af9f",
   "metadata": {
    "id": "5286af9f"
   },
   "outputs": [],
   "source": [
    "\n",
    "from sklearn. linear m_ odel import LinearRegression\n",
    "lr = LinearRegression(normalize=True)\n"
   ]
  },
  {
   "cell_type": "markdown",
   "id": "db198bc9",
   "metadata": {
    "id": "e6f5ea19"
   },
   "source": [
    "\n",
    "**Support Vector Machines (SVM)**"
   ]
  },
  {
   "cell_type": "code",
   "execution_count": null,
   "id": "9ca6da80",
   "metadata": {
    "id": "9ca6da80"
   },
   "outputs": [],
   "source": [
    "\n",
    "from sklearn.svm import SVC\n",
    "SVC = SVC(kernel='linear')\n"
   ]
  },
  {
   "cell_type": "markdown",
   "id": "f26b6d30",
   "metadata": {
    "id": "c2adc267"
   },
   "source": [
    "\n",
    "**Naive Bayes**"
   ]
  },
  {
   "cell_type": "code",
   "execution_count": null,
   "id": "764b09ac",
   "metadata": {
    "id": "764b09ac"
   },
   "outputs": [],
   "source": [
    "\n",
    "from sklearn.naive_bayes import GaussianNB\n",
    "gnb = GaussianNB()\n"
   ]
  },
  {
   "cell_type": "markdown",
   "id": "fbb8fdef",
   "metadata": {
    "id": "08804eb2"
   },
   "source": [
    "\n",
    "**KNN**"
   ]
  },
  {
   "cell_type": "code",
   "execution_count": null,
   "id": "b492a345",
   "metadata": {
    "id": "b492a345"
   },
   "outputs": [],
   "source": [
    "\n",
    "from sklearn import neighbors\n",
    "knn = neighbors.KNeighborsClassifier(n_neighbors=5)\n"
   ]
  },
  {
   "cell_type": "markdown",
   "id": "ce9ae9f7",
   "metadata": {
    "id": "f29b36cf"
   },
   "source": [
    "\n",
    "### Unsupervised Learning Estimators"
   ]
  },
  {
   "cell_type": "markdown",
   "id": "455f3848",
   "metadata": {
    "id": "41e83475"
   },
   "source": [
    "**Principal Component Analysis (PCA)**"
   ]
  },
  {
   "cell_type": "code",
   "execution_count": null,
   "id": "d6cbd237",
   "metadata": {
    "id": "d6cbd237"
   },
   "outputs": [],
   "source": [
    "\n",
    "from sklearn.decomposition import PCA\n",
    "pea = PCA(n_components=0.95)\n"
   ]
  },
  {
   "cell_type": "markdown",
   "id": "24f96e0a",
   "metadata": {
    "id": "40a72878"
   },
   "source": [
    "\n",
    "**K Means**"
   ]
  },
  {
   "cell_type": "code",
   "execution_count": null,
   "id": "acddcf75",
   "metadata": {
    "id": "acddcf75"
   },
   "outputs": [],
   "source": [
    "\n",
    "from sklearn.cluster import KMeans\n",
    "k_means = KMeans(n_clusters=3, random_state=0)\n"
   ]
  },
  {
   "cell_type": "markdown",
   "id": "e25c5d47",
   "metadata": {
    "id": "278f048b"
   },
   "source": [
    "\n",
    "## Evaluate Your Model’s Performance"
   ]
  },
  {
   "cell_type": "markdown",
   "id": "3d5297a1",
   "metadata": {
    "id": "1876d286"
   },
   "source": [
    "### **Classification Metrics**"
   ]
  },
  {
   "cell_type": "markdown",
   "id": "e234e511",
   "metadata": {
    "id": "47c943a5"
   },
   "source": [
    "**Accuracy Score**"
   ]
  },
  {
   "cell_type": "code",
   "execution_count": null,
   "id": "d4482984",
   "metadata": {
    "id": "d4482984"
   },
   "outputs": [],
   "source": [
    "\n",
    "from sklearn.metrics import accuracy_score  # Metric scoring functions\n",
    "knn.score(X_test, y_test)  # Estimator score method\n",
    "accuracy_score(y_test, y_pred)\n"
   ]
  },
  {
   "cell_type": "markdown",
   "id": "f3746203",
   "metadata": {
    "id": "f9f46d31"
   },
   "source": [
    "\n",
    "**Classification Report**"
   ]
  },
  {
   "cell_type": "code",
   "execution_count": null,
   "id": "4cd62d4d",
   "metadata": {
    "id": "4cd62d4d"
   },
   "outputs": [],
   "source": [
    "\n",
    "# Precision, recall, fl-score and support\n",
    "from sklearn.metrics import classification_report\n",
    "print(classification_report(y_test, y_pred))\n"
   ]
  },
  {
   "cell_type": "markdown",
   "id": "8bb4456c",
   "metadata": {
    "id": "7d657528"
   },
   "source": [
    "\n",
    "**Confusion Matrix**"
   ]
  },
  {
   "cell_type": "code",
   "execution_count": null,
   "id": "30e8ca7c",
   "metadata": {
    "id": "30e8ca7c"
   },
   "outputs": [],
   "source": [
    "\n",
    "from sklearn.metrics import confusion_matrix\n",
    "print(confusion_matrix(y_test.y_pred))\n"
   ]
  },
  {
   "cell_type": "markdown",
   "id": "6fcc0a3a",
   "metadata": {
    "id": "39c7d7b1"
   },
   "source": [
    "\n",
    "### Regression Metrics"
   ]
  },
  {
   "cell_type": "markdown",
   "id": "25a259b3",
   "metadata": {
    "id": "c2e2c16a"
   },
   "source": [
    "**Mean Absolute Error**"
   ]
  },
  {
   "cell_type": "code",
   "execution_count": null,
   "id": "d196399f",
   "metadata": {
    "id": "d196399f"
   },
   "outputs": [],
   "source": [
    "\n",
    "from sklearn.metrics import mean_absolute_error\n",
    "y_true = [3, -0.5, 2]\n",
    "mean_absolute_error(y_true, y_pred)\n"
   ]
  },
  {
   "cell_type": "markdown",
   "id": "c012f57d",
   "metadata": {
    "id": "5f04cca3"
   },
   "source": [
    "\n",
    "**Mean Squared Error**"
   ]
  },
  {
   "cell_type": "code",
   "execution_count": null,
   "id": "acb415f3",
   "metadata": {
    "id": "acb415f3"
   },
   "outputs": [],
   "source": [
    "\n",
    "from sklearn.metrics import mean_squared_error\n",
    "mean_squared _error(y_test, y_ pred)\n"
   ]
  },
  {
   "cell_type": "markdown",
   "id": "8c0662ad",
   "metadata": {
    "id": "a23490b5"
   },
   "source": [
    "\n",
    "**R2 Score**"
   ]
  },
  {
   "cell_type": "code",
   "execution_count": null,
   "id": "72cfea14",
   "metadata": {
    "id": "c470de4f"
   },
   "outputs": [],
   "source": [
    "\n",
    "from sklearn.metrics import r2_score\n",
    "r2_score(y_true, y_ pred)\n"
   ]
  },
  {
   "cell_type": "markdown",
   "id": "09f0bcc7",
   "metadata": {
    "id": "d36f957c"
   },
   "source": [
    "\n",
    "### Clustering Metrics"
   ]
  },
  {
   "cell_type": "markdown",
   "id": "d3b08a47",
   "metadata": {
    "id": "4dea850b"
   },
   "source": [
    "**Adjusted Rand Index**"
   ]
  },
  {
   "cell_type": "code",
   "execution_count": null,
   "id": "8a164491",
   "metadata": {
    "id": "8a164491"
   },
   "outputs": [],
   "source": [
    "\n",
    "from sklearn.metrics import adjusted_rand_score\n",
    "adjusted_rand_score(y_true, y_pred)\n"
   ]
  },
  {
   "cell_type": "markdown",
   "id": "95023d4b",
   "metadata": {
    "id": "febbbbc9"
   },
   "source": [
    "\n",
    "**Homogeneity**"
   ]
  },
  {
   "cell_type": "code",
   "execution_count": null,
   "id": "2f7ce113",
   "metadata": {
    "id": "2f7ce113"
   },
   "outputs": [],
   "source": [
    "\n",
    "from sklearn.metrics import homogeneity_score\n",
    "homogeneity_score(y_true, y_pred)\n"
   ]
  },
  {
   "cell_type": "markdown",
   "id": "f7a0a898",
   "metadata": {
    "id": "9f3eb4c2"
   },
   "source": [
    "\n",
    "**V-measure**"
   ]
  },
  {
   "cell_type": "code",
   "execution_count": null,
   "id": "6aab70c9",
   "metadata": {
    "id": "6aab70c9"
   },
   "outputs": [],
   "source": [
    "\n",
    "from sklearn.metrics import v_measure_score\n",
    "metrics.v_measure_score(y_true, y_pred)\n"
   ]
  },
  {
   "cell_type": "markdown",
   "id": "645915a2",
   "metadata": {
    "id": "ac3caca8"
   },
   "source": [
    "\n",
    "### Cross-Validation"
   ]
  },
  {
   "cell_type": "code",
   "execution_count": null,
   "id": "4ca4ffe0",
   "metadata": {
    "id": "4ca4ffe0"
   },
   "outputs": [],
   "source": [
    "\n",
    "from sklearn.cross_validation import cross_val_score\n",
    "print(cross_val_score(knn, X_train, y_train, cv=4))\n",
    "print(cross_val_score(lr, X, y, cv=2))\n"
   ]
  },
  {
   "cell_type": "markdown",
   "id": "d1494451",
   "metadata": {
    "id": "6252fd8f"
   },
   "source": [
    "\n",
    "## Tune Your Model"
   ]
  },
  {
   "cell_type": "markdown",
   "id": "bd6bcc14",
   "metadata": {
    "id": "74236386"
   },
   "source": [
    "### **Grid Search**"
   ]
  },
  {
   "cell_type": "code",
   "execution_count": null,
   "id": "9dc662dd",
   "metadata": {
    "id": "9dc662dd"
   },
   "outputs": [],
   "source": [
    "\n",
    "from sklearn.grid_search import GridSearchCV\n",
    "params = {\"n_neighbors \": np.arange(l, 3),\n",
    "          \"metric \": [\"euclidean\", \"cityblock \"]}\n",
    "grid = GridSearchCV(estimator=knn,\n",
    "                    param_grid=params)\n",
    "grid.fit(X_train, y_train)\n",
    "print(grid.best_score_)\n",
    "print(grid.best_estimator_.n_neighbors)\n"
   ]
  },
  {
   "cell_type": "markdown",
   "id": "db90fe44",
   "metadata": {
    "id": "8f6fa871"
   },
   "source": [
    "\n",
    "**Randomized Parameter Optimization**"
   ]
  },
  {
   "cell_type": "code",
   "execution_count": null,
   "id": "c3247eb6",
   "metadata": {
    "id": "c3247eb6"
   },
   "outputs": [],
   "source": [
    "\n",
    "from sklearn.grid _search import RandomizedSearchCV\n",
    "params = {\"n_neighbors\": range(l, 5), \"weights\": [\"unifomr\", \"distance\"]}\n",
    "rsearch = RandomizedSearchCV(estimator=knn, param_distributions=params,\n",
    "                             cv=4, n_iter=S, random_state=5)\n",
    "rsearch.fit(X_train, y_train)\n",
    "print(rsearch.best_score_)\n"
   ]
  },
  {
   "cell_type": "markdown",
   "id": "36c6ba71",
   "metadata": {
    "id": "c6333882"
   },
   "source": [
    "\n",
    "# Section 8"
   ]
  },
  {
   "cell_type": "markdown",
   "id": "b44ade50",
   "metadata": {
    "id": "84249564"
   },
   "source": [
    "## SciPy"
   ]
  },
  {
   "cell_type": "markdown",
   "id": "f2fcb813",
   "metadata": {
    "id": "2d76366e"
   },
   "source": [
    "The SciPy library is one of the core packages for scientific computing\n",
    "that provides mathematical algorithms and convenience functions built on\n",
    "the NumPy extension of Python."
   ]
  },
  {
   "cell_type": "code",
   "execution_count": null,
   "id": "2954f0ec",
   "metadata": {
    "id": "2954f0ec"
   },
   "outputs": [],
   "source": [
    "\n",
    "import numpy as np\n",
    "a = np.array([1, 2, 3])\n",
    "b = np.array([(1+5j, 2j, 3j), (4j, 5j, 6j)])\n",
    "c = np.array([[(1.5, 2, 3), (4, 5, 6)], [(3, 2, 1), (4, 5, 6)]])\n"
   ]
  },
  {
   "cell_type": "markdown",
   "id": "e1164db3",
   "metadata": {
    "id": "9c28677e"
   },
   "source": [
    "\n",
    "**Index Tricks**"
   ]
  },
  {
   "cell_type": "code",
   "execution_count": null,
   "id": "05170f24",
   "metadata": {
    "id": "05170f24"
   },
   "outputs": [],
   "source": [
    "\n",
    " np.mgrid[0:5, 0:5]  # Create a dense meshgrid\n",
    " np.ogrid[0:2, 0:2]  # Create an open meshgrid\n",
    " np.r_[[3, [0]*5, -1:1:10j]  # Stack arrays vertically (row-wise)\n",
    " np.c_[b, c]  # Create stocked column-wise arrays\n"
   ]
  },
  {
   "cell_type": "markdown",
   "id": "919760be",
   "metadata": {
    "id": "c29e327c"
   },
   "source": [
    "\n",
    "**Shape Manipulation**"
   ]
  },
  {
   "cell_type": "code",
   "execution_count": null,
   "id": "5ec52be2",
   "metadata": {
    "id": "5ec52be2"
   },
   "outputs": [],
   "source": [
    "\n",
    "np.transpose(b)  # Permute array dimensions\n",
    "b.flatten()  # Flatten the array\n",
    "np.hstack((b, c))  # Stack arrays horizontally (column-wise)\n",
    "np.vstack((a, b))  # Stack arrays vertically (row-wise)\n",
    "np.hsplit(c, 2)  # Split the array horizontally at the 2nd index\n",
    "np.vpslit(d, 2)  # Split the array vertically at the 2nd index\n"
   ]
  },
  {
   "cell_type": "markdown",
   "id": "d7c52df4",
   "metadata": {
    "id": "66b3743c"
   },
   "source": [
    "\n",
    "**Polynomials**"
   ]
  },
  {
   "cell_type": "code",
   "execution_count": null,
   "id": "9ff154c3",
   "metadata": {
    "id": "9ff154c3"
   },
   "outputs": [],
   "source": [
    "\n",
    "from numpy import polyld\n",
    "p = poly1d([3, 4, 5])  # Create a polynomial object\n"
   ]
  },
  {
   "cell_type": "markdown",
   "id": "a18e9205",
   "metadata": {
    "id": "62d40b67"
   },
   "source": [
    "\n",
    "**Vectorizing Functions**"
   ]
  },
  {
   "cell_type": "code",
   "execution_count": null,
   "id": "bcb261b2",
   "metadata": {
    "id": "bcb261b2"
   },
   "outputs": [],
   "source": [
    "   def myfunc(a): if a < 0:\n",
    "        return a*2\n",
    "        else:\n",
    "        return a/2\n",
    "    np.vectorize(myfunc)  # Vectorize functions\n"
   ]
  },
  {
   "cell_type": "markdown",
   "id": "c6522a38",
   "metadata": {
    "id": "721b8a38"
   },
   "source": [
    "**Type Handling**"
   ]
  },
  {
   "cell_type": "code",
   "execution_count": null,
   "id": "a99a7e83",
   "metadata": {
    "id": "a99a7e83"
   },
   "outputs": [],
   "source": [
    "\n",
    "np.real(c)  # Return the real part of the array elements\n",
    "np.imag(c)  # Return the imaginary part of the array elements\n",
    "# Return a real array if complex parts close to 0\n",
    "np.real_if_close(c, tol=1000)\n",
    "np.cast['f'](np.pi)  # Cast object to a data type\n"
   ]
  },
  {
   "cell_type": "markdown",
   "id": "c3f8ad63",
   "metadata": {
    "id": "576c9ae4"
   },
   "source": [
    "\n",
    "**Other Useful Functions**"
   ]
  },
  {
   "cell_type": "code",
   "execution_count": null,
   "id": "8a4500e8",
   "metadata": {
    "id": "8a4500e8"
   },
   "outputs": [],
   "source": [
    "\n",
    "np.angle(b, d eg=True)  # Return the angle of the complex argument\n",
    "# Create an array of evenly spaced values(number of samples)\n",
    "g = np.linspace(0, np.pi, num=5)\n",
    "g[3:] += np.pi\n",
    "np.unwrap(g)  # Unwrap\n",
    "# Create an array of evenly spaced values (log scale)\n",
    "np.logspace(0, 10, 3)\n",
    "# Return values from a list of arrays depending on conditions\n",
    "np.select([c < li], [c*2])\n",
    "misc.factorial(a)  # Factorial\n",
    "misc.comb(10, 3, exact=True)  # Combine N things taken at k time\n",
    "misc.central_diff_weights(3)  # Weights for Np-point central derivative\n",
    "# Find then-th derivative of a function at a point\n",
    "misc.derivative(myfunc, 1.0)\n"
   ]
  },
  {
   "cell_type": "markdown",
   "id": "b4400e6a",
   "metadata": {
    "id": "9fd43c70"
   },
   "source": [
    "### Linear Algebra"
   ]
  },
  {
   "cell_type": "markdown",
   "id": "eed45d8b",
   "metadata": {
    "id": "95f0438e"
   },
   "source": [
    "You’ll use the **linalg** and sparse modules. Note that **scipy.\n",
    "linalg** contains and expands on **numpy. linalg.**"
   ]
  },
  {
   "cell_type": "code",
   "execution_count": null,
   "id": "cd0461ea",
   "metadata": {
    "id": "cd0461ea"
   },
   "outputs": [],
   "source": [
    "\n",
    "from scipy import linalg, sparse\n"
   ]
  },
  {
   "cell_type": "markdown",
   "id": "b41dd69e",
   "metadata": {
    "id": "4dc507b3"
   },
   "source": [
    "\n",
    "**Creating Matrices**"
   ]
  },
  {
   "cell_type": "code",
   "execution_count": null,
   "id": "8083666e",
   "metadata": {
    "id": "8083666e"
   },
   "outputs": [],
   "source": [
    "\n",
    "A = np.matrix(np.random.random((2, 2)))\n",
    "B = np.asmatrix(b)\n",
    "C = np.mat(np.random.random((10, 5)))\n",
    "D = n p.mat([[3, Ii],  [5, 6]])\n"
   ]
  },
  {
   "cell_type": "markdown",
   "id": "8e5422c4",
   "metadata": {
    "id": "9683094d"
   },
   "source": [
    "\n",
    "**Basic Matrix Routines**"
   ]
  },
  {
   "cell_type": "code",
   "execution_count": null,
   "id": "50b6b199",
   "metadata": {
    "id": "50b6b199"
   },
   "outputs": [],
   "source": [
    "A.I  # Inverse\n",
    "linalg.inv(A)  # Inverse\n",
    "A.T  # Tranpose matrix\n",
    "A.H  # Conjugate transposition\n",
    "np.trace(A)  # Trace\n"
   ]
  },
  {
   "cell_type": "markdown",
   "id": "de768d43",
   "metadata": {
    "id": "9b3935ca"
   },
   "source": [
    "**Norm**"
   ]
  },
  {
   "cell_type": "code",
   "execution_count": null,
   "id": "253cba39",
   "metadata": {
    "id": "253cba39"
   },
   "outputs": [],
   "source": [
    "linalg.norm(A)  # Frobenius norm\n",
    "linalg.norm(A, 1)  # Ll norm (max column sum)\n",
    "linalg.norm(A, np.inf)  # L inf norm (max row sum)\n"
   ]
  },
  {
   "cell_type": "markdown",
   "id": "82b964c3",
   "metadata": {
    "id": "a7412f59"
   },
   "source": [
    "**Rank**"
   ]
  },
  {
   "cell_type": "code",
   "execution_count": null,
   "id": "480d5a5d",
   "metadata": {
    "id": "480d5a5d"
   },
   "outputs": [],
   "source": [
    "np.linalg.matrix_rank(C)  # Matrix rank\n"
   ]
  },
  {
   "cell_type": "markdown",
   "id": "13ec2e2e",
   "metadata": {
    "id": "83655e8a"
   },
   "source": [
    "**Determinant**"
   ]
  },
  {
   "cell_type": "code",
   "execution_count": null,
   "id": "109f9fd9",
   "metadata": {
    "id": "109f9fd9"
   },
   "outputs": [],
   "source": [
    "linalg.det(A)  # Determinant\n"
   ]
  },
  {
   "cell_type": "markdown",
   "id": "16266afe",
   "metadata": {
    "id": "84508b84"
   },
   "source": [
    "**Solving linear problems**"
   ]
  },
  {
   "cell_type": "code",
   "execution_count": null,
   "id": "9b44d922",
   "metadata": {
    "id": "9b44d922"
   },
   "outputs": [],
   "source": [
    "linalg.solve(A, b)  # Solver for dense matrices\n",
    "E = np.mat(a).T  # Solver for dense matrices\n",
    "linalg.lstsq(D, E)  # Le ast-squares solution to linear matrix equation\n"
   ]
  },
  {
   "cell_type": "markdown",
   "id": "4f71ea3a",
   "metadata": {
    "id": "44a6a4bb"
   },
   "source": [
    "**Generalized inverse**"
   ]
  },
  {
   "cell_type": "code",
   "execution_count": null,
   "id": "693cf523",
   "metadata": {
    "id": "693cf523"
   },
   "outputs": [],
   "source": [
    "linalg.pinv(C)  # Compute the pseudo-inverse of a matrix (least-squares solver)\n",
    "linalg. pinv2(C)  # Compute the pseudo-inverse of a matrix (SVD)\n"
   ]
  },
  {
   "cell_type": "markdown",
   "id": "c7c17c1a",
   "metadata": {
    "id": "293fa532"
   },
   "source": [
    "### **Creating Sparse Matrices**"
   ]
  },
  {
   "cell_type": "code",
   "execution_count": null,
   "id": "b9a7982b",
   "metadata": {
    "id": "b9a7982b"
   },
   "outputs": [],
   "source": [
    "F = np.eye(3, k=l)  # Create a 2X2 identity matrix\n",
    "G = np.mat(np.identity(2))  # Create a 2x2 identity matrix\n",
    "C[C > 0.5] = 0\n",
    "H = sparse.csr_matrix(C)  # Compressed Sparse Row matrix\n",
    "I = sparse.csc_matrix(D)  # Compressed Sparse Column matrix\n",
    "J = sparse.dok_matrix(A)  # Dictionary Of Keys matrix\n",
    "E.tadense()  # Sparse matrix to full matrix\n",
    "sparse.isspmatrix_csc(A)\n"
   ]
  },
  {
   "cell_type": "markdown",
   "id": "9e22a20e",
   "metadata": {
    "id": "ce058767"
   },
   "source": [
    "**Sparse Matrix Routines**"
   ]
  },
  {
   "cell_type": "markdown",
   "id": "7affe49f",
   "metadata": {
    "id": "52d83f6a"
   },
   "source": [
    "**Inverse**"
   ]
  },
  {
   "cell_type": "code",
   "execution_count": null,
   "id": "17ea2c00",
   "metadata": {
    "id": "17ea2c00"
   },
   "outputs": [],
   "source": [
    "sparse.linalg.inv(I)  # Inverse\n"
   ]
  },
  {
   "cell_type": "markdown",
   "id": "d137a24e",
   "metadata": {
    "id": "6be80e86"
   },
   "source": [
    "**Norm**"
   ]
  },
  {
   "cell_type": "code",
   "execution_count": null,
   "id": "67917747",
   "metadata": {
    "id": "67917747"
   },
   "outputs": [],
   "source": [
    "sparse.linalg.norm(I)  # Norm\n"
   ]
  },
  {
   "cell_type": "markdown",
   "id": "7e517dc3",
   "metadata": {
    "id": "3c7699ab"
   },
   "source": [
    "**Solving linear problems**"
   ]
  },
  {
   "cell_type": "code",
   "execution_count": null,
   "id": "98c9c7a8",
   "metadata": {
    "id": "98c9c7a8"
   },
   "outputs": [],
   "source": [
    "sparse.linalg.spsolve(H, I)  # Solver for sparse matrices\n"
   ]
  },
  {
   "cell_type": "markdown",
   "id": "5d0bf753",
   "metadata": {
    "id": "5b4c8efb"
   },
   "source": [
    "**Sparse Matrix Functions**"
   ]
  },
  {
   "cell_type": "code",
   "execution_count": null,
   "id": "bd3ee098",
   "metadata": {
    "id": "bd3ee098"
   },
   "outputs": [],
   "source": [
    "sparse.linalg.expm(I)  # Sparse matrix exponential\n"
   ]
  },
  {
   "cell_type": "markdown",
   "id": "af5c394a",
   "metadata": {
    "id": "6f3c2a34"
   },
   "source": [
    "**Sparse Matrix Decompositions**"
   ]
  },
  {
   "cell_type": "code",
   "execution_count": null,
   "id": "ec63bc37",
   "metadata": {
    "id": "ec63bc37"
   },
   "outputs": [],
   "source": [
    "la, v = sparse.linalg.eigs(F, 1)  # Eigenvalues and eigenvectors\n",
    "sparse.linalg.svds(H, 2)  # SVD\n"
   ]
  },
  {
   "cell_type": "markdown",
   "id": "64ad3c12",
   "metadata": {
    "id": "dd457a04"
   },
   "source": [
    "## Matrix Function"
   ]
  },
  {
   "cell_type": "markdown",
   "id": "71fb4d8a",
   "metadata": {
    "id": "02271cb7"
   },
   "source": [
    "**Addition**"
   ]
  },
  {
   "cell_type": "code",
   "execution_count": null,
   "id": "a5d39a79",
   "metadata": {
    "id": "a5d39a79"
   },
   "outputs": [],
   "source": [
    "np.add(A, D)  # Addition\n"
   ]
  },
  {
   "cell_type": "markdown",
   "id": "8d31b8c6",
   "metadata": {
    "id": "686b9732"
   },
   "source": [
    "**Subtraction**"
   ]
  },
  {
   "cell_type": "code",
   "execution_count": null,
   "id": "862846b2",
   "metadata": {
    "id": "862846b2"
   },
   "outputs": [],
   "source": [
    "np.subtract(A, D)  # Subtraction\n"
   ]
  },
  {
   "cell_type": "markdown",
   "id": "afd6dd38",
   "metadata": {
    "id": "5dd2d242"
   },
   "source": [
    "**Division**"
   ]
  },
  {
   "cell_type": "code",
   "execution_count": null,
   "id": "4be9f62b",
   "metadata": {
    "id": "4be9f62b"
   },
   "outputs": [],
   "source": [
    "np.divide(A, D)  # Division\n"
   ]
  },
  {
   "cell_type": "markdown",
   "id": "b81e5b9d",
   "metadata": {
    "id": "1f8dd576"
   },
   "source": [
    "**Multiplication**"
   ]
  },
  {
   "cell_type": "code",
   "execution_count": null,
   "id": "743f47d0",
   "metadata": {
    "id": "743f47d0"
   },
   "outputs": [],
   "source": [
    "\n",
    "np.multiply(D, A)  # Multiplication\n",
    "np.dot(A, D)  # Dot product\n",
    "np.vdot(A, D)  # Vector dot product\n",
    "np.inner(A, D)  # Inner product\n",
    "np.outer(A, D)  # Outer product\n",
    "np.tensardat(A, D)  # Tensor dot product\n",
    "np.kron(A, D)  # Kronecker product\n"
   ]
  },
  {
   "cell_type": "markdown",
   "id": "2680c4d3",
   "metadata": {
    "id": "849e71ca"
   },
   "source": [
    "\n",
    "**Exponential Functions**"
   ]
  },
  {
   "cell_type": "code",
   "execution_count": null,
   "id": "6a8360ad",
   "metadata": {
    "id": "6a8360ad"
   },
   "outputs": [],
   "source": [
    "\n",
    "linalg.expm(A)  # Matrix exponential\n",
    "linalg.expm2(A)  # Matrix exponential (Taylor Series)\n",
    "linalg.expm3(D)  # Matrix exponential (eigenvalue decomposition)\n"
   ]
  },
  {
   "cell_type": "markdown",
   "id": "510707eb",
   "metadata": {
    "id": "fcd0f130"
   },
   "source": [
    "\n",
    "**Logarithm Function**"
   ]
  },
  {
   "cell_type": "code",
   "execution_count": null,
   "id": "6a5736ce",
   "metadata": {
    "id": "6a5736ce"
   },
   "outputs": [],
   "source": [
    "linalg.lagm(A)  # Matrix logarithm\n"
   ]
  },
  {
   "cell_type": "markdown",
   "id": "01683f1f",
   "metadata": {
    "id": "21314569"
   },
   "source": [
    "**Trigonometric Functions**"
   ]
  },
  {
   "cell_type": "code",
   "execution_count": null,
   "id": "631dc5a4",
   "metadata": {
    "id": "631dc5a4"
   },
   "outputs": [],
   "source": [
    "linalg.sinm(D) Matrix sine\n",
    "linalg.cosm(D) Matrix cosine\n",
    "linalg.tanm(A) Matrix tangent\n"
   ]
  },
  {
   "cell_type": "markdown",
   "id": "a027ac7c",
   "metadata": {
    "id": "bd905c52"
   },
   "source": [
    "Hyperbolic Trigonometric Functions"
   ]
  },
  {
   "cell_type": "code",
   "execution_count": null,
   "id": "b0218492",
   "metadata": {
    "id": "b0218492"
   },
   "outputs": [],
   "source": [
    "linalg.sinhm(D)  # Hypberbolic matrix sine\n",
    "linalg.coshm(D)  # Hyperbolic matrix cosine\n",
    "linalg.tanhm(A)  # Hyperbolic matrix tangent\n"
   ]
  },
  {
   "cell_type": "markdown",
   "id": "2bea7c55",
   "metadata": {
    "id": "09885b3d"
   },
   "source": [
    "**Matrix Sign Function**"
   ]
  },
  {
   "cell_type": "code",
   "execution_count": null,
   "id": "2b97caf1",
   "metadata": {
    "id": "2b97caf1"
   },
   "outputs": [],
   "source": [
    "np.sigm(A)  # Matrix sign function\n"
   ]
  },
  {
   "cell_type": "markdown",
   "id": "fe5aeb78",
   "metadata": {
    "id": "1054455c"
   },
   "source": [
    "Matrix Square Root"
   ]
  },
  {
   "cell_type": "code",
   "execution_count": null,
   "id": "e709a162",
   "metadata": {
    "id": "e709a162"
   },
   "outputs": [],
   "source": [
    "linalg.sqrtm(A)  # Matrix square root\n"
   ]
  },
  {
   "cell_type": "markdown",
   "id": "c03f0f2d",
   "metadata": {
    "id": "96ce1b17"
   },
   "source": [
    "**Arbitrary Functions**"
   ]
  },
  {
   "cell_type": "code",
   "execution_count": null,
   "id": "dacd23ac",
   "metadata": {
    "id": "dacd23ac"
   },
   "outputs": [],
   "source": [
    "linalg.funm(A, lambda x: X*X)  # Evaluate matrix function\n"
   ]
  },
  {
   "cell_type": "markdown",
   "id": "297cd991",
   "metadata": {
    "id": "9d43a229"
   },
   "source": [
    "**Eigenvalues and Eigenvectors**"
   ]
  },
  {
   "cell_type": "code",
   "execution_count": null,
   "id": "264dc326",
   "metadata": {
    "id": "264dc326"
   },
   "outputs": [],
   "source": [
    "# Solve ordinary or generalized eigenvalue problem for square matrix\n",
    "la, v = linalg.eig(A)\n",
    "l1, l2 = la  # Unpack eigenvalues\n",
    "v[:, 0]  # First eigenvector\n",
    "v[:, 1]  # Second eigenvector\n",
    "linalg.eigvals(A)  # Unpack eigenvalues\n"
   ]
  },
  {
   "cell_type": "markdown",
   "id": "228e7cd7",
   "metadata": {
    "id": "45b7a234"
   },
   "source": [
    "**Singular Value Decomposition**"
   ]
  },
  {
   "cell_type": "code",
   "execution_count": null,
   "id": "bca43ae5",
   "metadata": {
    "id": "bca43ae5"
   },
   "outputs": [],
   "source": [
    "     U, s, Vh = linalg.svd(B)  # Singular Value Decomposition (SVD)\n",
    "     M, N = B.shape\n",
    "    Sig= linalg.diagsvd(s,M,N) #Construct sigma matrix in SVD"
   ]
  },
  {
   "cell_type": "markdown",
   "id": "7ed31dc1",
   "metadata": {
    "id": "64a670c8"
   },
   "source": [
    "**LU Decomposition**"
   ]
  },
  {
   "cell_type": "code",
   "execution_count": null,
   "id": "4087d2be",
   "metadata": {
    "id": "4087d2be"
   },
   "outputs": [],
   "source": [
    "P, L, U = linalg.lu(C)  # LU Decomposition\n"
   ]
  },
  {
   "cell_type": "markdown",
   "id": "87a63d96",
   "metadata": {
    "id": "de634afb"
   },
   "source": [
    "# Section 9"
   ]
  },
  {
   "cell_type": "markdown",
   "id": "2a3f534b",
   "metadata": {
    "id": "175d6c8f"
   },
   "source": [
    "## Neural Networks with Keras"
   ]
  },
  {
   "cell_type": "markdown",
   "id": "4ba8c82b",
   "metadata": {
    "id": "ff9bfd81"
   },
   "source": [
    "Keras is a powerful and easy-to-use deep learning library for Theano\n",
    "and TensorFlow that provides a high-level neural networks API to develop\n",
    "and evaluate deep learning models."
   ]
  },
  {
   "cell_type": "markdown",
   "id": "fb7fe695",
   "metadata": {
    "id": "2fa9355f"
   },
   "source": [
    "**A Basic Example**"
   ]
  },
  {
   "cell_type": "code",
   "execution_count": null,
   "id": "5624bc4e",
   "metadata": {
    "id": "5624bc4e"
   },
   "outputs": [],
   "source": [
    "\n",
    "import numpy as np\n",
    "from keras.models import Sequential\n",
    "from keras.layers import Dense\n",
    "data = np.random.random((1000, 100))\n",
    "labels = np.random.randint(2, size=(1000, 1))\n",
    "model = Sequential()\n",
    "model.add(Dense(32,\n",
    "                activation='relu', input_dim=100))\n",
    "model.add(Oense(1, activation='sigmoid'))\n",
    "model.compile(optimizer='rmsprop',\n",
    "              loss='binary_crossentropy',\n",
    "              metrics=['accuracy'])\n",
    "model.fit(data, labels, epochs=10, batch_size=32)\n",
    "predictions = model.predict(data)\n"
   ]
  },
  {
   "cell_type": "markdown",
   "id": "d1ccfdba",
   "metadata": {
    "id": "7f1ed97c"
   },
   "source": [
    "\n",
    "### Data"
   ]
  },
  {
   "cell_type": "markdown",
   "id": "6cb79320",
   "metadata": {
    "id": "d393cfaa"
   },
   "source": [
    "Your data needs to be stored as NumPy arrays or as a list of NumPy\n",
    "arrays. Ideally, you split the data in training and test sets, for which\n",
    "you can also resort to the train_test_split module of sklearn. cross\\_\n",
    "validation."
   ]
  },
  {
   "cell_type": "markdown",
   "id": "edd46e46",
   "metadata": {
    "id": "bbb22a30"
   },
   "source": [
    "**Keras Data Sets**"
   ]
  },
  {
   "cell_type": "code",
   "execution_count": null,
   "id": "22da0210",
   "metadata": {
    "id": "22da0210"
   },
   "outputs": [],
   "source": [
    "\n",
    "from keras.datasets import boston_housing, mnist, cifar10, imdb\n",
    "(x_train, y_train), (x_test, y_test) = mnist.load _data()\n",
    "(x_train2, y_train2), (x_test2, y_test2) = boston_housing.load_data()\n",
    "(x_train3, y_train3), (x_test3, y_test3) = cifar10.load_data()\n",
    "(x_train4, y_train4), (x_test4, y_test4) = imdb.load_data(num_words=20000)\n",
    "num_classes = 10\n"
   ]
  },
  {
   "cell_type": "markdown",
   "id": "b81bf093",
   "metadata": {
    "id": "257c0995"
   },
   "source": [
    "\n",
    "**Other**"
   ]
  },
  {
   "cell_type": "code",
   "execution_count": null,
   "id": "762b9932",
   "metadata": {
    "id": "762b9932"
   },
   "outputs": [],
   "source": [
    "\n",
    " from urllib.request import urlopen\n",
    " data =\n",
    "np.loadtxt(urlopen(\"http://archive.ics.uci.edu/ml/machine-learning-databa ses/pima-indians-dibetes/pima-indians-d iabetes.data')',delimiter=\", \")\n",
    " X=data[:, 0:8]\n",
    " y=data[:, 8]\n"
   ]
  },
  {
   "cell_type": "markdown",
   "id": "9b66507c",
   "metadata": {
    "id": "c0fd92cc"
   },
   "source": [
    "\n",
    "### Preprocessing"
   ]
  },
  {
   "cell_type": "markdown",
   "id": "bd14b1b6",
   "metadata": {
    "id": "04349bce"
   },
   "source": [
    "**Sequence Padding**"
   ]
  },
  {
   "cell_type": "code",
   "execution_count": null,
   "id": "74a852e7",
   "metadata": {
    "id": "74a852e7"
   },
   "outputs": [],
   "source": [
    "\n",
    "from keras.preprocessing import sequence\n",
    "x_train4 = sequence.pad_sequences(x _train4, maxlen=80)\n",
    "x test4 = sequence.pad_sequences(x_test4, maxlen=80)\n"
   ]
  },
  {
   "cell_type": "markdown",
   "id": "60da2c90",
   "metadata": {
    "id": "12ed87c1"
   },
   "source": [
    "\n",
    "**One-Hot Encoding**"
   ]
  },
  {
   "cell_type": "code",
   "execution_count": null,
   "id": "d19c5525",
   "metadata": {
    "id": "d19c5525"
   },
   "outputs": [],
   "source": [
    "\n",
    " from keras.utils import to_categorical\n",
    ">>Y_train = to_categorical(y_train, num_classes)\n",
    " Y_test = to_categorical(y_test, num_classes)\n",
    " Y_train3 = to_categorical(y_train3, num_classes\n",
    " Y_test3=to_categorical(y_test3, num_classes)\n"
   ]
  },
  {
   "cell_type": "markdown",
   "id": "1c9d26ad",
   "metadata": {
    "id": "786fbd66"
   },
   "source": [
    "\n",
    "### Model Architecture"
   ]
  },
  {
   "cell_type": "markdown",
   "id": "fe90cff2",
   "metadata": {
    "id": "4143bd57"
   },
   "source": [
    "**Sequential Model**"
   ]
  },
  {
   "cell_type": "code",
   "execution_count": null,
   "id": "ee239dc2",
   "metadata": {
    "id": "ee239dc2"
   },
   "outputs": [],
   "source": [
    "\n",
    "from keras.models import Sequential\n",
    "model = Sequential()\n",
    "model2 = Sequential()\n",
    "model3 = Sequential()\n"
   ]
  },
  {
   "cell_type": "markdown",
   "id": "7c3fee1b",
   "metadata": {
    "id": "52b695f4"
   },
   "source": [
    "\n",
    "### **Multilayer Perceptron (MLP)**"
   ]
  },
  {
   "cell_type": "markdown",
   "id": "a2ac4934",
   "metadata": {
    "id": "77d7cad4"
   },
   "source": [
    "**Binary Classification**"
   ]
  },
  {
   "cell_type": "code",
   "execution_count": null,
   "id": "b080272b",
   "metadata": {
    "id": "b080272b"
   },
   "outputs": [],
   "source": [
    "\n",
    "from keras.layers import Dense\n",
    "model.add(Dense(12,\n",
    "                input _dim=8,\n",
    "                kernel_initializer='uniform',\n",
    "                activation='relu'))\n",
    "model.add(Dense(8, kernel_initialiezr='uniform', activation='relu'))\n",
    "model.add(Dense(l, kernel_initialiezr='uniform', activation='sigmoid'))\n"
   ]
  },
  {
   "cell_type": "markdown",
   "id": "0a133f2e",
   "metadata": {
    "id": "4f0adfec"
   },
   "source": [
    "\n",
    "**Multi-Class Classification**"
   ]
  },
  {
   "cell_type": "code",
   "execution_count": null,
   "id": "69dd0c19",
   "metadata": {
    "id": "69dd0c19"
   },
   "outputs": [],
   "source": [
    "\n",
    "from keras.layers import Dropout\n",
    "model.add(Dense(512, activation='relu', input_shape=(784,)))\n",
    "model.add(Dropout(0.2))\n",
    "model.add(Dense(512, activation='relu'))\n",
    "model.add(Dropout(0.2))\n",
    "model.add(Dense(10, activation='softmax'))\n"
   ]
  },
  {
   "cell_type": "markdown",
   "id": "9f7b7ea4",
   "metadata": {
    "id": "a92c7708"
   },
   "source": [
    "\n",
    "**Regression**"
   ]
  },
  {
   "cell_type": "code",
   "execution_count": null,
   "id": "915facff",
   "metadata": {
    "id": "915facff"
   },
   "outputs": [],
   "source": [
    "\n",
    "model.add(Dense(64, activation='relu', input_dim=train_data.shape[1]))\n",
    "model.add(Dense(1))\n"
   ]
  },
  {
   "cell_type": "markdown",
   "id": "8d6e6f69",
   "metadata": {
    "id": "85d92b32"
   },
   "source": [
    "\n",
    "## **Convolutional Neural Network (CNN)**"
   ]
  },
  {
   "cell_type": "code",
   "execution_count": null,
   "id": "3759779c",
   "metadata": {
    "id": "3759779c"
   },
   "outputs": [],
   "source": [
    "\n",
    "from keras.layers import Activation, Conv2D, MaxPooling20, Flatten\n",
    "model2.add(Conv20(32, (, 3), padding='same', input _shape=x _train.shape[1:]))\n",
    "model2.add(Activation('relu'))\n",
    "model2.add(Conv20(32, (3, 3)))\n",
    "model2.add(Activation('relu'))\n",
    "model2.add(MaxPooling2D(pool_size=(2, 2)))\n",
    "model2.add(Dropout(0.25))\n",
    "model2.add(Conv20(64, (3, 3), padding='same'))\n",
    "model2.add(Activation('relu'))\n",
    "model2.add(Conv20(64, (3, 3)))\n",
    "model2.add(Activation('relu'))\n",
    "model2.add(MaxPooling2D(pool_size=(2, 2)))\n",
    "model2.add(Dropout(0.25))\n",
    "model2.add(Flatten())\n",
    "model2.add(Dense(512))\n",
    "model2.add(Activation('relu'))\n",
    "model2.add(Dropout(0.5))\n",
    "model2.add(Dense(num_classes))\n",
    "model2.add(Activation('softmax'))\n"
   ]
  },
  {
   "cell_type": "markdown",
   "id": "14096f98",
   "metadata": {
    "id": "f485d5f1"
   },
   "source": [
    "\n",
    "### **Recurrent Neural Network (RNN)**"
   ]
  },
  {
   "cell_type": "code",
   "execution_count": null,
   "id": "74a3572d",
   "metadata": {
    "id": "74a3572d"
   },
   "outputs": [],
   "source": [
    "\n",
    "from keras.klayers import Embedding, LSTM\n",
    "model3.add(Embedding(20000, 128))\n",
    "model3.add(LSTM(128, dropout=0.2, recurrent_dropout=0.2))\n",
    "model3.add(Dense(l, activation='sigmoid'))\n"
   ]
  },
  {
   "cell_type": "markdown",
   "id": "71640bad",
   "metadata": {
    "id": "cfa6f95f"
   },
   "source": [
    "\n",
    "### Prediction"
   ]
  },
  {
   "cell_type": "code",
   "execution_count": null,
   "id": "6f02b8d4",
   "metadata": {
    "id": "6f02b8d4"
   },
   "outputs": [],
   "source": [
    "\n",
    "model3.predict(x_test4, ba tch_size=32)\n",
    "model3.predict_classes(x_test4, batch _size=32)\n"
   ]
  },
  {
   "cell_type": "markdown",
   "id": "65ea2a2f",
   "metadata": {
    "id": "56215f77"
   },
   "source": [
    "\n",
    "**Train and Test Sets**"
   ]
  },
  {
   "cell_type": "code",
   "execution_count": null,
   "id": "f14a42ba",
   "metadata": {
    "id": "f14a42ba"
   },
   "outputs": [],
   "source": [
    "\n",
    "from sklearn.mode l_selection import train_test_split\n",
    "X_train5, X_test5, y_train5, y_test5 = train_test_split(X, y,\n",
    "                                                        test_size=0.33, random_state=42)\n"
   ]
  },
  {
   "cell_type": "markdown",
   "id": "33194ff7",
   "metadata": {
    "id": "ab6d5cb0"
   },
   "source": [
    "\n",
    "**Standardization/Normalization**"
   ]
  },
  {
   "cell_type": "code",
   "execution_count": null,
   "id": "a6c14da8",
   "metadata": {
    "id": "a6c14da8"
   },
   "outputs": [],
   "source": [
    "\n",
    " from sklearn.preprocessing import StandardScaler\n",
    " scaler = StandardScaler().fit(x_train2)\n",
    " standa rdized_X = scaler.transform(x _train2)\n",
    " standardized X test = scaler.transform(x_test2\n"
   ]
  },
  {
   "cell_type": "markdown",
   "id": "2134c829",
   "metadata": {
    "id": "486ada9b"
   },
   "source": [
    "\n",
    "### Inspect Model"
   ]
  },
  {
   "cell_type": "code",
   "execution_count": null,
   "id": "f83eac5d",
   "metadata": {
    "id": "f83eac5d"
   },
   "outputs": [],
   "source": [
    "\n",
    "model.output_shape  # Model output shape\n",
    "model.summary()  # Model summary representation\n",
    "model.get_config()  # Model configuration\n",
    "model.get_weights()  # List all weight tensors in the model\n"
   ]
  },
  {
   "cell_type": "markdown",
   "id": "f95a3cf8",
   "metadata": {
    "id": "2995a832"
   },
   "source": [
    "\n",
    "### **Compile Model**"
   ]
  },
  {
   "cell_type": "markdown",
   "id": "27651513",
   "metadata": {
    "id": "73cf4458"
   },
   "source": [
    "**MLP: Binary Classification**"
   ]
  },
  {
   "cell_type": "code",
   "execution_count": null,
   "id": "f63974a2",
   "metadata": {
    "id": "f63974a2"
   },
   "outputs": [],
   "source": [
    "\n",
    "model.compile(optimizer='adam',\n",
    "              loss='binary_crossentropy',\n",
    "              metrics=['accuracy'])\n"
   ]
  },
  {
   "cell_type": "markdown",
   "id": "7ea4bde2",
   "metadata": {
    "id": "9b9d1727"
   },
   "source": [
    "\n",
    "**MLP: Multi-Class Classification**"
   ]
  },
  {
   "cell_type": "code",
   "execution_count": null,
   "id": "4b5aa30c",
   "metadata": {
    "id": "4b5aa30c"
   },
   "outputs": [],
   "source": [
    "\n",
    "model.compile(optimizer='rmsprop',\n",
    "              loss='categorical_crossentropy,\n",
    "              metrics=['accuracy'])\n"
   ]
  },
  {
   "cell_type": "markdown",
   "id": "a70212c5",
   "metadata": {
    "id": "d59b9bd0"
   },
   "source": [
    "\n",
    "**MLP: Regression**"
   ]
  },
  {
   "cell_type": "code",
   "execution_count": null,
   "id": "d524d0ba",
   "metadata": {
    "id": "d524d0ba"
   },
   "outputs": [],
   "source": [
    "\n",
    "model.compile(optimizer='rmsprop',\n",
    "              loss='mse,' metrics=['mae'])\n"
   ]
  },
  {
   "cell_type": "markdown",
   "id": "6e7389a2",
   "metadata": {
    "id": "6430f0bb"
   },
   "source": [
    "\n",
    "**Recurrent Neural Network**"
   ]
  },
  {
   "cell_type": "code",
   "execution_count": null,
   "id": "2568e3c2",
   "metadata": {
    "id": "2568e3c2"
   },
   "outputs": [],
   "source": [
    "\n",
    "model3.compile(loss='binary_crossentropy ',\n",
    "               optimizer='adam',\n",
    "               metrics=['accuracy'])\n"
   ]
  },
  {
   "cell_type": "markdown",
   "id": "682edc25",
   "metadata": {
    "id": "25d46078"
   },
   "source": [
    "\n",
    "**Model Training**"
   ]
  },
  {
   "cell_type": "code",
   "execution_count": null,
   "id": "37e9f86e",
   "metadata": {
    "id": "37e9f86e"
   },
   "outputs": [],
   "source": [
    "\n",
    "model3.fit(x_train4,\n",
    "           y_train4,\n",
    "           batch_size=32,\n",
    "           epochs=15,\n",
    "           verbose=1,\n",
    "           validation_data=(x_test4, y_test4))\n"
   ]
  },
  {
   "cell_type": "markdown",
   "id": "ad457216",
   "metadata": {
    "id": "fb25ea4a"
   },
   "source": [
    "\n",
    "**Evaluate Your Model’s Performance**"
   ]
  },
  {
   "cell_type": "code",
   "execution_count": null,
   "id": "975f7a7e",
   "metadata": {
    "id": "975f7a7e"
   },
   "outputs": [],
   "source": [
    "\n",
    "score = model3.evaluate(x_test,\n",
    "                        y_test,\n",
    "                        batch_size=32)\n"
   ]
  },
  {
   "cell_type": "markdown",
   "id": "f037867d",
   "metadata": {
    "id": "aa3bcff4"
   },
   "source": [
    "\n",
    "**Save/ Reload Models**"
   ]
  },
  {
   "cell_type": "code",
   "execution_count": null,
   "id": "3c463f58",
   "metadata": {
    "id": "3c463f58"
   },
   "outputs": [],
   "source": [
    "\n",
    "from keras.models import load_model\n",
    "model3.save()\n",
    "my_model = load_model()\n"
   ]
  },
  {
   "cell_type": "markdown",
   "id": "c7f84c1e",
   "metadata": {
    "id": "c51c6866"
   },
   "source": [
    "\n",
    "**Model Fine-tuning**"
   ]
  },
  {
   "cell_type": "markdown",
   "id": "7f7ad567",
   "metadata": {
    "id": "7e2ac40f"
   },
   "source": [
    "Optimization Parameters"
   ]
  },
  {
   "cell_type": "code",
   "execution_count": null,
   "id": "931df8c4",
   "metadata": {
    "id": "931df8c4"
   },
   "outputs": [],
   "source": [
    "\n",
    "from keras.optimizers import RMSprop\n",
    "opt = RMSprop(lr=0.0001, decay=1e-6)\n",
    "model2.compile(loss=, 'categorical_crossentropy'\n",
    "               optimizer=opt,\n",
    "               metrics=['accuracy'])\n"
   ]
  },
  {
   "cell_type": "markdown",
   "id": "c403f1c6",
   "metadata": {
    "id": "5541a272"
   },
   "source": [
    "\n",
    "**Early Stopping**"
   ]
  },
  {
   "cell_type": "code",
   "execution_count": null,
   "id": "664d3e57",
   "metadata": {
    "id": "664d3e57"
   },
   "outputs": [],
   "source": [
    "\n",
    "from keras.callbacks import EarlyStopping\n",
    "early_stopping_monitor = EarlyStopping(patience=2)\n",
    "model3.fit(x_train4,\n",
    "           y_train4,\n",
    "           batch_size=32,\n",
    "           epochs=15,\n",
    "           validation_data=(x_test4, y_test4),\n",
    "           callbacks=[early_stopping_monitor])\n"
   ]
  },
  {
   "cell_type": "markdown",
   "id": "72196ebf",
   "metadata": {
    "id": "80a8d1a9"
   },
   "source": [
    "\n",
    "# Section 10"
   ]
  },
  {
   "cell_type": "markdown",
   "id": "ff57832a",
   "metadata": {
    "id": "61c993b9"
   },
   "source": [
    "# PySpark & Spark SQL"
   ]
  },
  {
   "cell_type": "markdown",
   "id": "cd9c88d5",
   "metadata": {
    "id": "80b06ee1"
   },
   "source": [
    "**What is PySpark?**"
   ]
  },
  {
   "cell_type": "markdown",
   "id": "3f901c7b",
   "metadata": {
    "id": "3d05fcd7"
   },
   "source": [
    "PySpark is an Apache Spark interface in Python. It is used for\n",
    "collaborating with Spark using APIs written in Python. It also supports\n",
    "Spark’s features like Spark DataFrame, Spark SQL, Spark Streaming, Spark\n",
    "MLlib and Spark Core."
   ]
  },
  {
   "cell_type": "markdown",
   "id": "ed0ccb32",
   "metadata": {
    "id": "6b11d737"
   },
   "source": [
    "**What is PySpark SparkContext?**"
   ]
  },
  {
   "cell_type": "markdown",
   "id": "c3e18677",
   "metadata": {
    "id": "cb4064c3"
   },
   "source": [
    "PySpark SparkContext is an initial entry point of the spark\n",
    "functionality. It also represents Spark Cluster Connection and can be\n",
    "used for creating the Spark RDDs (Resilient Distributed Datasets) and\n",
    "broadcasting the variables on the cluster."
   ]
  },
  {
   "cell_type": "code",
   "execution_count": null,
   "id": "8b9f5063",
   "metadata": {
    "id": "8b9f5063"
   },
   "outputs": [],
   "source": [
    "from pyspark.sql import SparkSession\n",
    "spark = SparkSession \\\n",
    "    .builder \\\n",
    "    .appName() \\\n",
    "    .config(, ) \\\n",
    "    .getOrCreate()\n"
   ]
  },
  {
   "cell_type": "markdown",
   "id": "6aada87b",
   "metadata": {
    "id": "3230d7ce"
   },
   "source": [
    "**What is spark-submit?**"
   ]
  },
  {
   "cell_type": "markdown",
   "id": "732f69c3",
   "metadata": {
    "id": "85e1031c"
   },
   "source": [
    "Spark-submit is a utility to run a pyspark application job by specifying\n",
    "options and configurations."
   ]
  },
  {
   "cell_type": "code",
   "execution_count": null,
   "id": "65c8672b",
   "metadata": {
    "id": "65c8672b"
   },
   "outputs": [],
   "source": [
    "spark-submit \\\n",
    "     - -master < master-url > \\\n",
    "    --deploy-mode < deploy-mode > \\\n",
    "    --conf < key <= <value > \\\n",
    "    --driver-memory < value > g \\\n",
    "    - -executor-memory < value > g \\\n",
    "    - -executor-cores < number of cores > \\\n",
    "    --jars < comma separated dependencies > \\\n",
    "    --packages < package name > \\\n",
    "      --py-files \\\n",
    "    < application > <application args >\n"
   ]
  },
  {
   "cell_type": "markdown",
   "id": "29129dfd",
   "metadata": {
    "id": "8e82bbf2"
   },
   "source": [
    "where"
   ]
  },
  {
   "cell_type": "markdown",
   "id": "50c1010b",
   "metadata": {
    "id": "de559a97"
   },
   "source": [
    "–master : Cluster Manager (yarn, mesos, Kubernetes, local, local(k))  \n",
    "–deploy-mode: Either cluster or client  \n",
    "–conf: We can provide runtime configurations, shuffle parameters,\n",
    "application configurations using –conf. Ex: –conf\n",
    "spark.sql.shuffle.partitions = 300  \n",
    "–driver-memory : Amount of memory to allocate for a driver (Default:\n",
    "1024M).  \n",
    "–executor-memory : Amount of memory to use for the executor process.  \n",
    "–executor cores : Number of CPU cores to use for the executor process."
   ]
  },
  {
   "cell_type": "markdown",
   "id": "29d6ebad",
   "metadata": {
    "id": "49f6f731"
   },
   "source": [
    "**What are RDDs in PySpark?**"
   ]
  },
  {
   "cell_type": "markdown",
   "id": "f248e972",
   "metadata": {
    "id": "7100807d"
   },
   "source": [
    "RDDs expand to Resilient Distributed Datasets. These are the elements\n",
    "that are used for running and operating on multiple nodes to perform\n",
    "parallel processing on a cluster. Since RDDs are suited for parallel\n",
    "processing, they are immutable elements. This means that once we create\n",
    "RDD, we cannot modify it. RDDs are also fault-tolerant which means that\n",
    "whenever failure happens, they can be recovered automatically. Multiple\n",
    "operations can be performed on RDDs to perform a certain task."
   ]
  },
  {
   "cell_type": "markdown",
   "id": "603ed06b",
   "metadata": {
    "id": "4757073d"
   },
   "source": [
    "-   Data Representation: RDD is a distributed collection of data\n",
    "    elements without any schema\n",
    "-   Optimization: No in-built optimization engine for RDDs\n",
    "-   Schema: we need to define the schema manually.\n",
    "-   Aggregation Operation: RDD is slower than both Dataframes and\n",
    "    Datasets to perform simple operations like grouping the data"
   ]
  },
  {
   "cell_type": "markdown",
   "id": "ff25315e",
   "metadata": {
    "id": "b47f09c3"
   },
   "source": [
    "**Creation of RDD using textFile API**"
   ]
  },
  {
   "cell_type": "code",
   "execution_count": null,
   "id": "a2179c69",
   "metadata": {
    "id": "a2179c69"
   },
   "outputs": [],
   "source": [
    "rdd = spark.sparkContext.textFile('practice/test')\n",
    "rdd.take(5)\n",
    "for i in rdd.take(5):\n",
    "    print(i)\n"
   ]
  },
  {
   "cell_type": "markdown",
   "id": "52bf463c",
   "metadata": {
    "id": "1bef245d"
   },
   "source": [
    "**Get the Number of Partitions in the RDD**"
   ]
  },
  {
   "cell_type": "code",
   "execution_count": null,
   "id": "3e98f411",
   "metadata": {
    "id": "3e98f411"
   },
   "outputs": [],
   "source": [
    "rdd.getNumPartitions()\n"
   ]
  },
  {
   "cell_type": "markdown",
   "id": "e7cf7b39",
   "metadata": {
    "id": "72fdbbb1"
   },
   "source": [
    "**Get the Number of elements in each partition**"
   ]
  },
  {
   "cell_type": "code",
   "execution_count": null,
   "id": "9964ecf6",
   "metadata": {
    "id": "9964ecf6"
   },
   "outputs": [],
   "source": [
    "rdd.glom().map(len).collect()\n"
   ]
  },
  {
   "cell_type": "markdown",
   "id": "0270db6b",
   "metadata": {
    "id": "7f207126"
   },
   "source": [
    "**Create RDD using textFile API and a defined number of partitions**"
   ]
  },
  {
   "cell_type": "code",
   "execution_count": null,
   "id": "59a3efab",
   "metadata": {
    "id": "59a3efab"
   },
   "outputs": [],
   "source": [
    "rdd = spark.sparkContext.textFile('practice/test', 10)\n"
   ]
  },
  {
   "cell_type": "markdown",
   "id": "6cd93397",
   "metadata": {
    "id": "38e37924"
   },
   "source": [
    "**Create a RDD from a Python List**"
   ]
  },
  {
   "cell_type": "code",
   "execution_count": null,
   "id": "425306d9",
   "metadata": {
    "id": "425306d9"
   },
   "outputs": [],
   "source": [
    "lst = [1, 2, 3, 4, 5, 6, 7]\n",
    "rdd = spark.sparkContext.parallelize(lst)\n",
    "for i in rdd.take(5):\n",
    "    print(i)\n"
   ]
  },
  {
   "cell_type": "markdown",
   "id": "0bad5333",
   "metadata": {
    "id": "476d51eb"
   },
   "source": [
    "**Create a RDD from a Python List**"
   ]
  },
  {
   "cell_type": "code",
   "execution_count": null,
   "id": "55e63034",
   "metadata": {
    "id": "55e63034"
   },
   "outputs": [],
   "source": [
    "lst = [1, 2, 3, 4, 5, 6, 7]\n",
    "rdd = spark.sparkContext.parallelize(lst)\n",
    "for i in rdd.take(5):\n",
    "    print(i)\n"
   ]
  },
  {
   "cell_type": "markdown",
   "id": "32805805",
   "metadata": {
    "id": "9e235bca"
   },
   "source": [
    "**Create a RDD from local file**"
   ]
  },
  {
   "cell_type": "code",
   "execution_count": null,
   "id": "8fefa535",
   "metadata": {
    "id": "8fefa535"
   },
   "outputs": [],
   "source": [
    "lst = open('/staging/test/sample.txt').read().splitlines()\n",
    "lst[0:10]\n",
    "rdd = spark.sparkContext.parallelize(lst)\n",
    "for i in rdd.take(5):\n",
    "    print(i)\n"
   ]
  },
  {
   "cell_type": "markdown",
   "id": "42522098",
   "metadata": {
    "id": "c07461e5"
   },
   "source": [
    "**Create RDD from range function**"
   ]
  },
  {
   "cell_type": "code",
   "execution_count": null,
   "id": "08e267fb",
   "metadata": {
    "id": "08e267fb"
   },
   "outputs": [],
   "source": [
    "lst1 = range(10)\n",
    "rdd = spark.sparkContext.parallelize(lst1)\n",
    "for i in rdd.take(5):\n",
    "    print(i)\n"
   ]
  },
  {
   "cell_type": "markdown",
   "id": "95f13f3a",
   "metadata": {
    "id": "8e85c486"
   },
   "source": [
    "**Create RDD from a DataFrame**"
   ]
  },
  {
   "cell_type": "code",
   "execution_count": null,
   "id": "bd5f6fa3",
   "metadata": {
    "id": "bd5f6fa3"
   },
   "outputs": [],
   "source": [
    "df = spark.createDataFrame(\n",
    "    data=(('robert', 35), ('Mike', 45)), schema=('name', 'age'))\n",
    "df.printSchema()\n",
    "df.show()\n",
    "rdd1 = df.rdd\n",
    "type(rdd1)\n",
    "for i in rdd1.take(2):\n",
    "    print(i)\n"
   ]
  },
  {
   "cell_type": "markdown",
   "id": "0354b124",
   "metadata": {
    "id": "bd8dc2b4"
   },
   "source": [
    "**What are Dataframes?**"
   ]
  },
  {
   "cell_type": "markdown",
   "id": "7ce5a8a0",
   "metadata": {
    "id": "715a5f98"
   },
   "source": [
    "It was introduced first in Spark version 1.3 to overcome the limitations\n",
    "of the Spark RDD. Spark Dataframes are the distributed collection of the\n",
    "data points, but here, the data is organized into the named columns"
   ]
  },
  {
   "cell_type": "markdown",
   "id": "fa00d323",
   "metadata": {
    "id": "b68351c2"
   },
   "source": [
    "-   Data Representation:It is also the distributed collection organized\n",
    "    into the named columns\n",
    "-   Optimization: It uses a catalyst optimizer for optimization.\n",
    "-   Schema: It will automatically find out the schema of the dataset.\n",
    "-   Aggregation Operation: It performs aggregation faster than both RDDs\n",
    "    and Datasets."
   ]
  },
  {
   "cell_type": "markdown",
   "id": "b8d6fd5d",
   "metadata": {
    "id": "be94bf23"
   },
   "source": [
    "**What are Datasets?**"
   ]
  },
  {
   "cell_type": "markdown",
   "id": "dec984c5",
   "metadata": {
    "id": "fd25699a"
   },
   "source": [
    "Spark Datasets is an extension of Dataframes API with the benefits of\n",
    "both RDDs and the Datasets. It is fast as well as provides a type-safe\n",
    "interface."
   ]
  },
  {
   "cell_type": "markdown",
   "id": "4d1434c8",
   "metadata": {
    "id": "e3952a4c"
   },
   "source": [
    "-   Data Representation:It is an extension of Dataframes with more\n",
    "    features like type-safety and object-oriented interface.\n",
    "-   Optimization:It uses a catalyst optimizer for optimization.\n",
    "-   Schema: It will automatically find out the schema of the dataset.\n",
    "-   Aggregation Operation:Dataset is faster than RDDs but a bit slower\n",
    "    than Dataframes."
   ]
  },
  {
   "cell_type": "markdown",
   "id": "5cf4b0ab",
   "metadata": {
    "id": "ebe73ae7"
   },
   "source": [
    "**What type of operation has Pyspark?**"
   ]
  },
  {
   "cell_type": "markdown",
   "id": "198e5bff",
   "metadata": {
    "id": "92f4feb1"
   },
   "source": [
    "The operations can be of 2 types, actions and transformation."
   ]
  },
  {
   "cell_type": "markdown",
   "id": "4e8f0cf9",
   "metadata": {
    "id": "e8df1137"
   },
   "source": [
    "**What is Transformation in Pyspark?**"
   ]
  },
  {
   "cell_type": "markdown",
   "id": "0a03e7ce",
   "metadata": {
    "id": "8e6ba72e"
   },
   "source": [
    "Transformation: These operations when applied on RDDs result in the\n",
    "creation of a new RDD. Some of the examples of transformation operations\n",
    "are filter, groupBy, map. Let us take an example to demonstrate\n",
    "transformation operation by considering filter() operation:"
   ]
  },
  {
   "cell_type": "code",
   "execution_count": null,
   "id": "be5285c0",
   "metadata": {
    "id": "be5285c0"
   },
   "outputs": [],
   "source": [
    "\n",
    "from pyspark import SparkContext\n",
    "sc = SparkContext(\"local\", \"Transdormation Demo\")\n",
    "words_list = sc.parallelize(\n",
    "    [\"pyspark\",\n",
    "     \"interview\",\n",
    "     \"questions\"]\n",
    ")\n",
    "filtered_words = words_list.filter(lambda x: 'interview' in x)\n",
    "filtered = filtered_words.collect()\n",
    "print(filtered)\n"
   ]
  },
  {
   "cell_type": "code",
   "execution_count": null,
   "id": "d8414483",
   "metadata": {
    "id": "d8414483"
   },
   "outputs": [],
   "source": [
    "\n",
    "The output of the above code would be:\n"
   ]
  },
  {
   "cell_type": "code",
   "execution_count": null,
   "id": "f264dddc",
   "metadata": {
    "id": "f264dddc"
   },
   "outputs": [],
   "source": [
    "[\n",
    "    \"interview\"\n",
    "]\n"
   ]
  },
  {
   "cell_type": "markdown",
   "id": "4db787bb",
   "metadata": {
    "id": "22a67c6c"
   },
   "source": [
    "**What is Action in Pyspark?**"
   ]
  },
  {
   "cell_type": "markdown",
   "id": "d4c4ed45",
   "metadata": {
    "id": "f6df9dd5"
   },
   "source": [
    "Action: These operations instruct Spark to perform some computations on\n",
    "the RDD and return the result to the driver. It sends data from the\n",
    "Executer to the driver. count(), collect(), take() are some of the\n",
    "examples. Let us consider an example to demonstrate action operation by\n",
    "making use of the count() function."
   ]
  },
  {
   "cell_type": "code",
   "execution_count": null,
   "id": "21dab4ea",
   "metadata": {
    "id": "21dab4ea"
   },
   "outputs": [],
   "source": [
    "\n",
    "from pyspark import SparkContext\n",
    "sc = SparkContext(\"local\", \"Action Demo\")\n",
    "words = sc.parallelize(\n",
    "    [\"pyspark\",\n",
    "     \"interview\",\n",
    "     \"questions\"]\n",
    ")\n",
    "counts = words.count()\n",
    "print(\"Count of elements in RDD -> \",  counts)\n"
   ]
  },
  {
   "cell_type": "code",
   "execution_count": null,
   "id": "16523dec",
   "metadata": {
    "id": "16523dec"
   },
   "outputs": [],
   "source": [
    "\n",
    "we count the number of elements in the spark RDDs. The output of this\n",
    "code is Count of elements in RDD -\\> 3 \\  # \\# Creating DataFrame\n"
   ]
  },
  {
   "cell_type": "markdown",
   "id": "bc9dca3e",
   "metadata": {
    "id": "229cdd0d"
   },
   "source": [
    "**From RDDs**"
   ]
  },
  {
   "cell_type": "code",
   "execution_count": null,
   "id": "90e0cf1f",
   "metadata": {
    "id": "90e0cf1f"
   },
   "outputs": [],
   "source": [
    "from pyspark.sql.types import*\n"
   ]
  },
  {
   "cell_type": "markdown",
   "id": "61ba57a4",
   "metadata": {
    "id": "9b1144fb"
   },
   "source": [
    "**Infer Schema**"
   ]
  },
  {
   "cell_type": "code",
   "execution_count": null,
   "id": "f509b0f8",
   "metadata": {
    "id": "f509b0f8"
   },
   "outputs": [],
   "source": [
    "sc = spark.sparkContext\n",
    "lines = sc.textFile(\"people.txt\")\n",
    "parts = lines.map(lambda l: l.split(\",\"))\n",
    "people = parts.map(lambda p: Row(name=p[0], age=int(p[1])))\n",
    "peopledf = spark.createDataFrame(people)\n"
   ]
  },
  {
   "cell_type": "markdown",
   "id": "0d5b77a2",
   "metadata": {
    "id": "79d97ec2"
   },
   "source": [
    "\n",
    "**Specify Schema**"
   ]
  },
  {
   "cell_type": "code",
   "execution_count": null,
   "id": "86ffdf5a",
   "metadata": {
    "id": "86ffdf5a"
   },
   "outputs": [],
   "source": [
    "\n",
    "people = parts.map(lambda p: Row(name=p[0],\n",
    "                                 age=int(p[1].strip())))\n",
    "schemaString = \"name age\"\n",
    "fields = [StructField(field_name, StringType(), True) for\n",
    "          field_name in schemaString.split()]\n",
    "schema = StructType(fields)\n",
    "spark.createDataFrame(people, schema).show()\n"
   ]
  },
  {
   "cell_type": "markdown",
   "id": "c53045f3",
   "metadata": {
    "id": "c869f3cc"
   },
   "source": [
    "**From Spark Data Sources**"
   ]
  },
  {
   "cell_type": "markdown",
   "id": "2340ada9",
   "metadata": {
    "id": "4af6a280"
   },
   "source": [
    "**JSON**"
   ]
  },
  {
   "cell_type": "code",
   "execution_count": null,
   "id": "97aa6089",
   "metadata": {
    "id": "97aa6089"
   },
   "outputs": [],
   "source": [
    "df = spark.read.json(\"customer.json\")\n",
    "df.show()\n"
   ]
  },
  {
   "cell_type": "code",
   "execution_count": null,
   "id": "64ba0fff",
   "metadata": {
    "id": "64ba0fff"
   },
   "outputs": [],
   "source": [
    "\n",
    "df2 = spark.read.load(\"people.json\", format=\"json\")\n"
   ]
  },
  {
   "cell_type": "markdown",
   "id": "452c1bfe",
   "metadata": {
    "id": "cbd504d2"
   },
   "source": [
    "\n",
    "**Parquet files**"
   ]
  },
  {
   "cell_type": "code",
   "execution_count": null,
   "id": "08dfa6ee",
   "metadata": {
    "id": "08dfa6ee"
   },
   "outputs": [],
   "source": [
    "\n",
    "df3 = spark.read.load(\"people.parquet\")\n"
   ]
  },
  {
   "cell_type": "markdown",
   "id": "0c552af6",
   "metadata": {
    "id": "2215b9ef"
   },
   "source": [
    "\n",
    "**TXT files**"
   ]
  },
  {
   "cell_type": "code",
   "execution_count": null,
   "id": "5db330d3",
   "metadata": {
    "id": "5db330d3"
   },
   "outputs": [],
   "source": [
    "df4 = spark.read.text(\"people.txt\")\n"
   ]
  },
  {
   "cell_type": "markdown",
   "id": "589b695f",
   "metadata": {
    "id": "9939e65e"
   },
   "source": [
    "### Filter"
   ]
  },
  {
   "cell_type": "markdown",
   "id": "984a5c5b",
   "metadata": {
    "id": "e53a41be"
   },
   "source": [
    "Filter entries of age, only keep those records of which the values are\n",
    "\\>24"
   ]
  },
  {
   "cell_type": "code",
   "execution_count": null,
   "id": "91fd7f22",
   "metadata": {
    "id": "91fd7f22"
   },
   "outputs": [],
   "source": [
    "df.filter(df[\"age\"] > 24).show()\n"
   ]
  },
  {
   "cell_type": "markdown",
   "id": "56523b30",
   "metadata": {
    "id": "09721882"
   },
   "source": [
    "Duplicate Values"
   ]
  },
  {
   "cell_type": "code",
   "execution_count": null,
   "id": "38fc8f30",
   "metadata": {
    "id": "38fc8f30"
   },
   "outputs": [],
   "source": [
    "df = df.dropDuplicates()\n"
   ]
  },
  {
   "cell_type": "markdown",
   "id": "d2a8b04c",
   "metadata": {
    "id": "ef0daefd"
   },
   "source": [
    "### Queries"
   ]
  },
  {
   "cell_type": "markdown",
   "id": "6835943f",
   "metadata": {
    "id": "a6003027"
   },
   "source": [
    "**What is PySpark SQL?** PySpark SQL is the most popular PySpark module\n",
    "that is used to process structured columnar data. Once a DataFrame is\n",
    "created, we can interact with data using the SQL syntax. Spark SQL is\n",
    "used for bringing native raw SQL queries on Spark by using select,\n",
    "where, group by, join, union etc. For using PySpark SQL, the first step\n",
    "is to create a temporary table on DataFrame by using\n",
    "createOrReplaceTempView()"
   ]
  },
  {
   "cell_type": "code",
   "execution_count": null,
   "id": "9e63901e",
   "metadata": {
    "id": "9e63901e"
   },
   "outputs": [],
   "source": [
    "from pyspark.sql import functions as F\n"
   ]
  },
  {
   "cell_type": "markdown",
   "id": "e667af5f",
   "metadata": {
    "id": "49c6b52f"
   },
   "source": [
    "**Select**"
   ]
  },
  {
   "cell_type": "code",
   "execution_count": null,
   "id": "ffd9aa68",
   "metadata": {
    "id": "ffd9aa68"
   },
   "outputs": [],
   "source": [
    "\n",
    " df.select(\"firstName\").show()  # Show all entries in firstNome column\n",
    " df.select(\"firstName\", \"lastName\") \\\n",
    "       .show()\n",
    " df.select(\"firstName\",  # Show all entries in firstNome, age and type\n",
    "                \"age\",\n",
    "                explode(''phoneNumber'') \\\n",
    "                .alias(''contactlnfo')') \\\n",
    "        .select(\"contactlnfo.type\",\n",
    "                \"firstName\",\n",
    "                \"age\") \\\n",
    "        .show()\n",
    " df.select(df[\"firstName\", df[\"age\"] + 1)  # Show all entries in firstName and age,\n",
    "       .show()  # add 1 to the entries of age\n",
    " df.select(df['age'] > 24).show()  # Show all entries where age >24\n"
   ]
  },
  {
   "cell_type": "markdown",
   "id": "249b6c05",
   "metadata": {
    "id": "b5c8ca6c"
   },
   "source": [
    "\n",
    "**When**"
   ]
  },
  {
   "cell_type": "code",
   "execution_count": null,
   "id": "167b3052",
   "metadata": {
    "id": "167b3052"
   },
   "outputs": [],
   "source": [
    "\n",
    "df.select(\"firstName\",  # Show firstName and 0 or 1 depending on age >30\n",
    "          F.when(df.age > 30, 1) \\\n",
    "          .otherwise(0)) \\\n",
    "    .show()\n",
    "# Show firstName if in the given options\n",
    "df[df.firstName.isin(\"Jane\", \"Boris\")]\n",
    ".collect()\n"
   ]
  },
  {
   "cell_type": "markdown",
   "id": "a836e25e",
   "metadata": {
    "id": "a9d95c60"
   },
   "source": [
    "\n",
    "**Like**"
   ]
  },
  {
   "cell_type": "code",
   "execution_count": null,
   "id": "c6ea1837",
   "metadata": {
    "id": "c6ea1837"
   },
   "outputs": [],
   "source": [
    "\n",
    "# Show firstName, and lastName is TRUE if lastName is like Smith\n",
    " df.select(\"firstName\",\n",
    "                df.lastName .like(''Smith')')\n",
    "      .show()\n"
   ]
  },
  {
   "cell_type": "markdown",
   "id": "44e6e1dd",
   "metadata": {
    "id": "f129e36a"
   },
   "source": [
    "\n",
    "**Startswith** - **Endswith**"
   ]
  },
  {
   "cell_type": "code",
   "execution_count": null,
   "id": "9581a34d",
   "metadata": {
    "id": "9581a34d"
   },
   "outputs": [],
   "source": [
    "df.select(\"firstName\",  # Show firstName, and TRUE if lastName starts with Sm\n",
    "          df.lastName \\\n",
    "          .startswith(\"Sm\")) \\\n",
    "    .show()\n",
    "df.select(df.lastName.endswith(\"th\"))\\  # Show last names ending in th\n",
    ".show()\n"
   ]
  },
  {
   "cell_type": "markdown",
   "id": "75f91c72",
   "metadata": {
    "id": "9cb7c541"
   },
   "source": [
    "**Substring**"
   ]
  },
  {
   "cell_type": "code",
   "execution_count": null,
   "id": "0ec486bd",
   "metadata": {
    "id": "0ec486bd"
   },
   "outputs": [],
   "source": [
    "     df.select(df.firstName.substr(l, 3) \\  # Return substrings of firstName\n",
    "          .alias(''name')') \\\n",
    "          .collect()\n"
   ]
  },
  {
   "cell_type": "markdown",
   "id": "0579e00f",
   "metadata": {
    "id": "8ca6860d"
   },
   "source": [
    "**Between**"
   ]
  },
  {
   "cell_type": "code",
   "execution_count": null,
   "id": "20a8b83c",
   "metadata": {
    "id": "20a8b83c"
   },
   "outputs": [],
   "source": [
    "# Show age: values are TRUE if between 22 and 24\n",
    "df.select(df.age.between(22, 2s)) \\\n"
   ]
  },
  {
   "cell_type": "markdown",
   "id": "df12a010",
   "metadata": {
    "id": "f04b4a48"
   },
   "source": [
    "### Add, Update & Remove Columns"
   ]
  },
  {
   "cell_type": "markdown",
   "id": "dce554af",
   "metadata": {
    "id": "af7ced83"
   },
   "source": [
    "**Adding Columns**"
   ]
  },
  {
   "cell_type": "code",
   "execution_count": null,
   "id": "44c5c691",
   "metadata": {
    "id": "44c5c691"
   },
   "outputs": [],
   "source": [
    "df = df.withColumn('city', df.address.city) \\\n",
    "    .withColumn('postalCade', df.address.pastalCode) \\\n",
    "    .withCalumn('state', df.address.state) \\\n",
    "    .withColumn('streetAddress', df.address.streetAddress) \\\n",
    "    .withColumn('telePhoneNumber ', explode(df.phoneNumber.number)) \\\n",
    "    .withColumn('telePhone Type', explode(df.phoneNumber.type))\n"
   ]
  },
  {
   "cell_type": "markdown",
   "id": "e354bb5d",
   "metadata": {
    "id": "b2404840"
   },
   "source": [
    "**Updating Columns**"
   ]
  },
  {
   "cell_type": "code",
   "execution_count": null,
   "id": "f5f3a44d",
   "metadata": {
    "id": "f5f3a44d"
   },
   "outputs": [],
   "source": [
    "df = df.withColumnRenamed('telePhoneNumber ', 'phoneNumber')\n"
   ]
  },
  {
   "cell_type": "markdown",
   "id": "d2387fdf",
   "metadata": {
    "id": "fa49ce25"
   },
   "source": [
    "**Removing Columns**"
   ]
  },
  {
   "cell_type": "code",
   "execution_count": null,
   "id": "07fa62a9",
   "metadata": {
    "id": "07fa62a9"
   },
   "outputs": [],
   "source": [
    "df = df.drop(\"address\", \"phoneNumber\")\n",
    "df = df.drop(df.address).drop(df.phoneNumber)\n"
   ]
  },
  {
   "cell_type": "markdown",
   "id": "4a3cfe08",
   "metadata": {
    "id": "89df3aad"
   },
   "source": [
    "### Missing & Replacing Values"
   ]
  },
  {
   "cell_type": "code",
   "execution_count": null,
   "id": "f166f277",
   "metadata": {
    "id": "f166f277"
   },
   "outputs": [],
   "source": [
    "\n",
    "df.na.fill(50).show()  # Replace null values\n",
    "df.na.drop().shaw()  # Return new df omitting rows with null values\n",
    "df.na \\  # Return new df replacing one value with another\n",
    ".replace(10, 20) \\\n",
    "    .show()\n"
   ]
  },
  {
   "cell_type": "markdown",
   "id": "fb93ab65",
   "metadata": {
    "id": "602d09a4"
   },
   "source": [
    "\n",
    "### GroupBy"
   ]
  },
  {
   "cell_type": "code",
   "execution_count": null,
   "id": "c276381a",
   "metadata": {
    "id": "c276381a"
   },
   "outputs": [],
   "source": [
    "\n",
    "df.groupBy(\"age\")\\  # Group by age, count the members in the groups\n",
    ".count() \\\n",
    "    .show()\n"
   ]
  },
  {
   "cell_type": "markdown",
   "id": "8bb9f5bc",
   "metadata": {
    "id": "ad627520"
   },
   "source": [
    "\n",
    "### Sort"
   ]
  },
  {
   "cell_type": "code",
   "execution_count": null,
   "id": "1bee3535",
   "metadata": {
    "id": "1bee3535"
   },
   "outputs": [],
   "source": [
    "\n",
    "peopledf.sort(peopledf.age.desc()).collect()\n",
    "df.sort(\"age\", ascending=False).collect()\n",
    "df.orderBy([\"age\", \"city\"], ascending=[0, 1])\\\n",
    "    .collect()\n"
   ]
  },
  {
   "cell_type": "markdown",
   "id": "20d4950b",
   "metadata": {
    "id": "b5bdffbd"
   },
   "source": [
    "\n",
    "### Repartitioning"
   ]
  },
  {
   "cell_type": "code",
   "execution_count": null,
   "id": "58804a79",
   "metadata": {
    "id": "58804a79"
   },
   "outputs": [],
   "source": [
    "\n",
    "   df.repartitian(10)\\  # df with 10 partitions\n",
    "      .rdd \\\n",
    "           .getNumPartitions()\n",
    "    df.coalesce(1).rdd.getNumPartitions()  # df with 1 partition\n"
   ]
  },
  {
   "cell_type": "markdown",
   "id": "6794e384",
   "metadata": {
    "id": "f8da8cb0"
   },
   "source": [
    "\n",
    "### Running Queries Programmatically"
   ]
  },
  {
   "cell_type": "code",
   "execution_count": null,
   "id": "e64afde8",
   "metadata": {
    "id": "e64afde8"
   },
   "outputs": [],
   "source": [
    "peopledf.createGlobalTempView(\"people\")\n",
    "df.createTempView(\"customer\")\n",
    "df.createOrReplaceTempView(\"customer\")\n"
   ]
  },
  {
   "cell_type": "markdown",
   "id": "c380223a",
   "metadata": {
    "id": "e21d8dd9"
   },
   "source": [
    "**Query Views**"
   ]
  },
  {
   "cell_type": "code",
   "execution_count": null,
   "id": "0061571d",
   "metadata": {
    "id": "0061571d"
   },
   "outputs": [],
   "source": [
    "\n",
    "df5 = spark.sql(\"SELECT * FROM customer\").show()\n",
    "peopledf2 = spark.sql(\"SELEC T* FROM global_ temp.people\")\\\n",
    "    .show()\n"
   ]
  },
  {
   "cell_type": "markdown",
   "id": "3e6bbaa7",
   "metadata": {
    "id": "0f616ef7"
   },
   "source": [
    "\n",
    "### **Inspect Data**"
   ]
  },
  {
   "cell_type": "code",
   "execution_count": null,
   "id": "e145773c",
   "metadata": {
    "id": "e145773c"
   },
   "outputs": [],
   "source": [
    "\n",
    "df.dtypes  # Return df column names and data types\n",
    "df.show()  # Display the content of df\n",
    "df.head()  # Return first n raws\n",
    "df.first()  # Return first row\n",
    "df.take(2)  # Return the first n rows\n",
    "df.schema Return the schema of df\n",
    "df.describe().show()  # Compute summary statistics\n",
    "df.columns Return the columns of df\n",
    "df.count()  # Count the number of rows in df\n",
    "df.distinct().count()  # Count the number of distinct rows in df\n",
    "df.printSchema()  # Print the schema of df\n",
    "df.explain()  # Print the (logical and physical) plans\n"
   ]
  },
  {
   "cell_type": "markdown",
   "id": "7d350618",
   "metadata": {
    "id": "05607971"
   },
   "source": [
    "\n",
    "### Output"
   ]
  },
  {
   "cell_type": "code",
   "execution_count": null,
   "id": "78dce1f2",
   "metadata": {
    "id": "78dce1f2"
   },
   "outputs": [],
   "source": [
    "**Data Structures**\n"
   ]
  },
  {
   "cell_type": "code",
   "execution_count": null,
   "id": "63767fc8",
   "metadata": {
    "id": "63767fc8"
   },
   "outputs": [],
   "source": [
    "rddl = df.rdd  # Convert df into an ROD\n",
    "df.taJSON().first()  # Convert df into a ROD of string\n",
    "df.toPandas()  # Return the contents of df as Pandas DataFrame\n"
   ]
  },
  {
   "cell_type": "markdown",
   "id": "a8cb8fc0",
   "metadata": {
    "id": "a6e7b0eb"
   },
   "source": [
    "**Write** & **Save to Files**"
   ]
  },
  {
   "cell_type": "code",
   "execution_count": null,
   "id": "7535f5ac",
   "metadata": {
    "id": "7535f5ac"
   },
   "outputs": [],
   "source": [
    "\n",
    "df.select(\"firstName\", \"city\")\\\n",
    "    .write \\\n",
    "    .save(\"nameAndCity.parquet\")\n",
    "df.select(\"firstName\", \"age\") \\\n",
    "    .write \\\n",
    "    .save(\"namesAndAges.json\", format=\"json\")\n"
   ]
  },
  {
   "cell_type": "markdown",
   "id": "7ec6ab9f",
   "metadata": {
    "id": "e005d727"
   },
   "source": [
    "\n",
    "### **Stopping SparkSession**"
   ]
  },
  {
   "cell_type": "code",
   "execution_count": null,
   "id": "3e96ee86",
   "metadata": {
    "id": "3e96ee86"
   },
   "outputs": [],
   "source": [
    ">> spark.stop()\n"
   ]
  },
  {
   "cell_type": "markdown",
   "id": "92af1dd2",
   "metadata": {
    "id": "4c496026"
   },
   "source": [
    "## **PySpark RDD**"
   ]
  },
  {
   "cell_type": "markdown",
   "id": "5488cfd3",
   "metadata": {
    "id": "6b72a0d9"
   },
   "source": [
    "PySpark is the Spark Python API that exposes the Spark programming model\n",
    "to Python."
   ]
  },
  {
   "cell_type": "markdown",
   "id": "f8cea036",
   "metadata": {
    "id": "5b18782b"
   },
   "source": [
    "**Inspect SparkContext**"
   ]
  },
  {
   "cell_type": "code",
   "execution_count": null,
   "id": "73e37ba0",
   "metadata": {
    "id": "73e37ba0"
   },
   "outputs": [],
   "source": [
    "\n",
    "sc.version  # Retrieve SparkContext version\n",
    "sc.pythonVer  # Retrieve Python version\n",
    "sc.master  # Master URL to connect to\n",
    "str(sc.sparkHome)  # Path where Spark is installed an worker nodes\n",
    "str(sc.sparkUser())  # Retrieve name of the Spark User running SparkContext\n",
    "sc.appName  # Return application name\n",
    "sc.applicationld  # Retrieve application ID\n",
    "sc.defaultParallelism  # Return default level of parallelism\n",
    "sc.defaultMinPartitions  # Default minimum number of partitions for RDDs\n"
   ]
  },
  {
   "cell_type": "markdown",
   "id": "acf3c9ce",
   "metadata": {
    "id": "825d53d6"
   },
   "source": [
    "\n",
    "**Configuration**"
   ]
  },
  {
   "cell_type": "code",
   "execution_count": null,
   "id": "42eab341",
   "metadata": {
    "id": "42eab341"
   },
   "outputs": [],
   "source": [
    "from pyspark import SparkConf, SparkContext\n",
    "conf = (SparkConf()\n",
    "        .setMaster(\"local\")\n",
    "        .setAppName(\"My app\")\n",
    "        .set(\"spark.executor.memory\", \"1g\"))\n",
    "sc = SparkContext(conf=conf)\n"
   ]
  },
  {
   "cell_type": "markdown",
   "id": "90dc3678",
   "metadata": {
    "id": "0def7be0"
   },
   "source": [
    "**Using The Shell**"
   ]
  },
  {
   "cell_type": "markdown",
   "id": "29001d37",
   "metadata": {
    "id": "28447bc1"
   },
   "source": [
    "In the PySpark shell, a special interpreter aware SparkContext is\n",
    "already created in the variable called sc."
   ]
  },
  {
   "cell_type": "code",
   "execution_count": null,
   "id": "f535387d",
   "metadata": {
    "id": "f535387d"
   },
   "outputs": [],
   "source": [
    "$ ./bin/spark shell - -master local[2]\n",
    "$ ./bin/pyspark - -master local[4] - -py files code.py\n"
   ]
  },
  {
   "cell_type": "markdown",
   "id": "83435805",
   "metadata": {
    "id": "a76dd3a6"
   },
   "source": [
    "Set which master the context connects to with the –master argument, and\n",
    "add Python **.zip, .egg** or **.py** files to the runtime path by\n",
    "passing a comma separated list to –py-files"
   ]
  },
  {
   "cell_type": "markdown",
   "id": "cfb359b2",
   "metadata": {
    "id": "c4a711fb"
   },
   "source": [
    "### Loading Data"
   ]
  },
  {
   "cell_type": "markdown",
   "id": "3fa51f3a",
   "metadata": {
    "id": "cad14bb4"
   },
   "source": [
    "**Parallelized Collections**"
   ]
  },
  {
   "cell_type": "code",
   "execution_count": null,
   "id": "974b66cf",
   "metadata": {
    "id": "974b66cf"
   },
   "outputs": [],
   "source": [
    "\n",
    " rdd = sc.parallelize([('a', 7), ('a', 2), ('b', 2)])\n",
    " rdd = sc.parallelize([('a', 2), ('d', 1), ('b', 1)])\n",
    " rdd3 = sc.parallelize(range(100))\n",
    " rdd4 = sc.parallelize([(\"a\", [\"x\", \"y\", \"z\"]),\n",
    "                            (\"b\", [\"p\", \"r\"])]\n"
   ]
  },
  {
   "cell_type": "markdown",
   "id": "89693a0a",
   "metadata": {
    "id": "04bf9052"
   },
   "source": [
    "\n",
    "**External Data**"
   ]
  },
  {
   "cell_type": "markdown",
   "id": "1c9fc9a5",
   "metadata": {
    "id": "9a8819f2"
   },
   "source": [
    "Read either one text file from HDFS.a local file system or or any\n",
    "Hadoop-supported file system URI with textFile(). or read in a directory\n",
    "of text files with wholeTextFiles()"
   ]
  },
  {
   "cell_type": "code",
   "execution_count": null,
   "id": "49a0e6cf",
   "metadata": {
    "id": "49a0e6cf"
   },
   "outputs": [],
   "source": [
    "\n",
    "textFile = sc.textFile(\"/my/directory/*.txt\")\n",
    "textFile2 = sc.wholeTextFiles(\"/my/directory/\")\n"
   ]
  },
  {
   "cell_type": "markdown",
   "id": "2ed7be65",
   "metadata": {
    "id": "081273a5"
   },
   "source": [
    "\n",
    "### Retrieving RDD Information"
   ]
  },
  {
   "cell_type": "markdown",
   "id": "28183007",
   "metadata": {
    "id": "873afd24"
   },
   "source": [
    "**Basic Information**"
   ]
  },
  {
   "cell_type": "code",
   "execution_count": null,
   "id": "0aad5f88",
   "metadata": {
    "id": "0aad5f88"
   },
   "outputs": [],
   "source": [
    "\n",
    " rdd.getNumPartitions()  # List the number of partitions\n",
    " rdd.count()  # Count ROD instances 3\n",
    " rdd.countByKey()  # Count ROD instances by key\n",
    "defaultdict(< type 'int' > , {'a': 2, 'b' : 1})\n",
    " rdd.countByValue()  # Count ROD instances by value\n",
    "defaultdict( < type 'int' > , {('b', 2): 1, '(a', 2): 1, ('a', 7): 1})\n",
    " rdd.collectAsMap()  # Return (key,value) pairs as a dictionary\n",
    "{'a': 2, 'b': 2}\n",
    " rdd3.sum()  # Sum of ROD elements 4950\n",
    " sc.parallelize([]).isEmpty()  # Check whether ROD is empty\n",
    "True\n"
   ]
  },
  {
   "cell_type": "markdown",
   "id": "d9acb561",
   "metadata": {
    "id": "de4ee32d"
   },
   "source": [
    "\n",
    "**Summary**"
   ]
  },
  {
   "cell_type": "code",
   "execution_count": null,
   "id": "1c699a45",
   "metadata": {
    "id": "3741641e"
   },
   "outputs": [],
   "source": [
    "\n",
    " rdd3.max()  # Maximum value of ROD elements 99\n",
    " rdd3.min()  # Minimum value of ROD elements\n",
    "0\n",
    " rdd3.mean()  # Mean value of ROD elements\n",
    ", 9.5\n",
    " rdd3.stdev()  # Standard deviation of ROD elements 2a.8660700s772211a\n",
    " rdd3.variance()  # Compute variance of ROD elements 833.25\n",
    " rdd3.histogram(3)  # Compute histogram by bins\n",
    "([0, 33, 66, 991, [33, 33, 3, ])\n",
    " rdd3.stats()  # Summary statistics (count, mean, stdev, max & min)\n"
   ]
  },
  {
   "cell_type": "markdown",
   "id": "61520067",
   "metadata": {
    "id": "0bf0c041"
   },
   "source": [
    "\n",
    "### Applying Functions"
   ]
  },
  {
   "cell_type": "code",
   "execution_count": null,
   "id": "3aef158c",
   "metadata": {
    "id": "3aef158c"
   },
   "outputs": [],
   "source": [
    "\n",
    "# Apply a function to each ROD element\n",
    "rdd.map(lambda x: x+(x[l], x[0])).callect()\n",
    "[('a', 7, 7, 'a'), ('a', 2, 2, 'a'), ('b', 2, 2, 'b')]\n",
    "# Apply a function to each ROD element and flatten the result\n",
    "rdd5 = rdd.flatMap(lambda x: x+(x[l], x[0]))\n",
    "rdd5.collect()\n",
    "['a', 7, 7'a', 'a', 2, 2'a', 'b', 2, 2'b']\n",
    "# Apply a flatMap function to each (key,value) pair of rdd4 without changing the keys\n",
    "rdds.flatMapValues(lambda x: x).callect()\n",
    "[('a', 'x'), ('a', 'y'), ('a', 'z'), ('b', 'p'), ('b', 'r')]\n"
   ]
  },
  {
   "cell_type": "markdown",
   "id": "a7d9fd93",
   "metadata": {
    "id": "617455d0"
   },
   "source": [
    "\n",
    "### Selecting Data"
   ]
  },
  {
   "cell_type": "markdown",
   "id": "18ca176b",
   "metadata": {
    "id": "d691887f"
   },
   "source": [
    "**Getting**"
   ]
  },
  {
   "cell_type": "code",
   "execution_count": null,
   "id": "2cb00560",
   "metadata": {
    "id": "2cb00560"
   },
   "outputs": [],
   "source": [
    "\n",
    "rdd.collect()  # Return a list with all ROD elements\n",
    "[('a', 7), ('a', 2), ('b', 2)]\n",
    "rdd.take(2)  # Take first 2 ROD elements\n",
    "[('a', 7), ('a', 2)]\n",
    "rdd.first()  # Toke first ROD element\n",
    "[('a', 7), ('a', 2)]\n",
    "rdd.top(2)  # Take top 2 ROD elements\n",
    "[('b', 2), ('a', 7)]\n"
   ]
  },
  {
   "cell_type": "markdown",
   "id": "3794d081",
   "metadata": {
    "id": "341a9277"
   },
   "source": [
    "\n",
    "**Sampling**"
   ]
  },
  {
   "cell_type": "code",
   "execution_count": null,
   "id": "d65406fc",
   "metadata": {
    "id": "d65406fc"
   },
   "outputs": [],
   "source": [
    "\n",
    "rdd3.sample(False, 0.15, 81).collect()  # Return sampled subset of rdd3\n",
    "[3, 4, 27, 31, 40, 41, 42, 43, 60, 76, 79, 80, 86, 97]\n"
   ]
  },
  {
   "cell_type": "markdown",
   "id": "87a3d641",
   "metadata": {
    "id": "e23fe295"
   },
   "source": [
    "\n",
    "**Filtering**"
   ]
  },
  {
   "cell_type": "code",
   "execution_count": null,
   "id": "68ded169",
   "metadata": {
    "id": "68ded169"
   },
   "outputs": [],
   "source": [
    "\n",
    "rdd.filter(lambda x: \"a\" in x).collect()  # Filter the ROD\n",
    "[('a', 7), ('a', 2)]\n",
    "rdd5.distinct().callect()  # Return distinct ROD values\n",
    "['a', 2, 'b', 7]\n",
    "rdd.keys().collect()  # Return (key,value) RDD's keys\n",
    "['a', 'a', 'b']\n"
   ]
  },
  {
   "cell_type": "code",
   "execution_count": null,
   "id": "8910dafd",
   "metadata": {
    "id": "8910dafd"
   },
   "outputs": [],
   "source": [
    "def g(x): print(x)\n",
    "\n",
    "\n",
    "rdd.foreach(g)  # Apply a function to all ROD elements\n",
    "\n",
    "('a', 7)\n",
    "('b', 2)\n",
    "('a', 2)\n"
   ]
  },
  {
   "cell_type": "code",
   "execution_count": null,
   "id": "1e2b1616",
   "metadata": {
    "id": "1e2b1616"
   },
   "outputs": [],
   "source": [
    "\n",
    "# Reshaping Data\n"
   ]
  },
  {
   "cell_type": "markdown",
   "id": "a85b3b4f",
   "metadata": {
    "id": "75ee36f5"
   },
   "source": [
    "**Reducing**"
   ]
  },
  {
   "cell_type": "code",
   "execution_count": null,
   "id": "0fe207f8",
   "metadata": {
    "id": "0fe207f8"
   },
   "outputs": [],
   "source": [
    "     # Merge the rdd values for each key\n",
    "     rdd.reduceByKey(lambda x, y: x+y).callect()\n",
    "     [('a', 9), ('b', 2)]\n",
    "     rdd.reduce(lambda a, b: a + b)  # Merge the rdd values\n",
    "    ('a',7,'a',2,'b',2)"
   ]
  },
  {
   "cell_type": "markdown",
   "id": "3541a1b3",
   "metadata": {
    "id": "de458ac2"
   },
   "source": [
    "**Grouping by**"
   ]
  },
  {
   "cell_type": "code",
   "execution_count": null,
   "id": "74a13d5a",
   "metadata": {
    "id": "74a13d5a"
   },
   "outputs": [],
   "source": [
    "\n",
    "rdd3.groupBy(lambda x: x % 2)\n",
    ".mapValues(list)\n",
    ".collect()\n",
    "rdd.groupByKey()\n",
    ".mapValues(list)\n",
    ".collect()\n",
    "[('a', [7, 2]), ('b', [2])]\n"
   ]
  },
  {
   "cell_type": "markdown",
   "id": "55428481",
   "metadata": {
    "id": "b88c6907"
   },
   "source": [
    "\n",
    "**Aggregating**"
   ]
  },
  {
   "cell_type": "code",
   "execution_count": null,
   "id": "0b88f352",
   "metadata": {
    "id": "0b88f352"
   },
   "outputs": [],
   "source": [
    "\n",
    "seqOp = (lambda x, y: (x[0]+y, x[1]+1))\n",
    "combOp = (lambda x, y: (x[0]+y[0], x[1]+y[1]))\n",
    "# Aggregate RDD elements of each partition and then the results\n",
    "rdd3.aggregate((0, 0), seqOp, combOp)\n",
    "(4950, 100)\n",
    "# Aggregate values of each RDD key\n",
    "rdd.aggregateByKey((0, 0), seqop, combop).collect()\n",
    "[('a', (9, 2)), ('b', (2, 1))]\n",
    "# Aggregate the elements of each partition, and then the results\n",
    "rdd3.fold(0, add)\n",
    "4950\n",
    "# Merge the values for each key\n",
    "rdd.foldByKey(0, add).collect()\n",
    "[('a', 9), ('b', 2)]\n",
    "# Create tuples of RDD elements by applying a function\n",
    "rdd3.keyBy(lambda x: x+x).collect()\n"
   ]
  },
  {
   "cell_type": "markdown",
   "id": "39a69cfb",
   "metadata": {
    "id": "75f57b55"
   },
   "source": [
    "\n",
    "### Mathematical Operations"
   ]
  },
  {
   "cell_type": "code",
   "execution_count": null,
   "id": "be046320",
   "metadata": {
    "id": "be046320"
   },
   "outputs": [],
   "source": [
    "     # Return each rdd value not contained in rdd2\n",
    "     rdd.subtract(rdd2).collect()\n",
    "    [('b',2),('a',7)]\n",
    "    # Return each (key,value) pair of rdd2 with no matching key in rdd\n",
    "     rdd2.subtractByKey(rdd).collect()\n",
    "    [('d',1)]\n",
    "     rdd.cartesian(rdd2).callect() #Return the Cartesian product of rdd and rdd2"
   ]
  },
  {
   "cell_type": "markdown",
   "id": "69c8aa43",
   "metadata": {
    "id": "f1219ea5"
   },
   "source": [
    "**Sort**"
   ]
  },
  {
   "cell_type": "code",
   "execution_count": null,
   "id": "087afe8c",
   "metadata": {
    "id": "b6411404"
   },
   "outputs": [],
   "source": [
    "     rdd2.sortBy(lambda x: x[l]).collect()  # Sort ROD by given function\n",
    "    [('d',1),('b',1),('a',2)]\n",
    "     rdd2.sartByKey().collect() #Sort (key, value) ROD by key\n",
    "    [('a',2),('b',1),('d',1)]"
   ]
  },
  {
   "cell_type": "markdown",
   "id": "4c8b9a4d",
   "metadata": {
    "id": "31a79126"
   },
   "source": [
    "**Repartitioning**"
   ]
  },
  {
   "cell_type": "code",
   "execution_count": null,
   "id": "e3aa8415",
   "metadata": {
    "id": "e3aa8415"
   },
   "outputs": [],
   "source": [
    "\n",
    "rdd.repartitian(4)  # New ROD with 4 partitions\n",
    "rdd.caalesce(1)  # Decrease the number of partitions in the ROD to 1\n"
   ]
  },
  {
   "cell_type": "markdown",
   "id": "c9488ed0",
   "metadata": {
    "id": "2df646d5"
   },
   "source": [
    "\n",
    "**Saving**"
   ]
  },
  {
   "cell_type": "code",
   "execution_count": null,
   "id": "55ffae37",
   "metadata": {
    "id": "55ffae37"
   },
   "outputs": [],
   "source": [
    "\n",
    "rdd .saveA sTextFile(\"rdd.txt\")\n",
    "rdd.saveAsHadaapFile(\"hdfs://namenadehost/parent/child\",\n",
    "                     'org.apache.hadoop.mapred.TextOutputFormat')\n"
   ]
  },
  {
   "cell_type": "markdown",
   "id": "6d51ed0c",
   "metadata": {
    "id": "4539cfa1"
   },
   "source": [
    "\n",
    "**Execution**"
   ]
  },
  {
   "cell_type": "code",
   "execution_count": null,
   "id": "b311e0e4",
   "metadata": {
    "id": "b311e0e4"
   },
   "outputs": [],
   "source": [
    "$ ./bin/spark submit examples/src/main/python/pi.py\n"
   ]
  },
  {
   "cell_type": "markdown",
   "id": "b3c79e43",
   "metadata": {
    "id": "94a88010"
   },
   "source": [
    "**Does PySpark provide a machine learning API?**"
   ]
  },
  {
   "cell_type": "markdown",
   "id": "9e2b7d02",
   "metadata": {
    "id": "ec98404b"
   },
   "source": [
    "Similar to Spark, PySpark provides a machine learning API which is known\n",
    "as MLlib that supports various ML algorithms like:"
   ]
  },
  {
   "cell_type": "markdown",
   "id": "7d071b77",
   "metadata": {
    "id": "09e9e492"
   },
   "source": [
    "-   mllib.classification − This supports different methods for binary or\n",
    "    multiclass classification and regression analysis like Random\n",
    "    Forest, Decision Tree, Naive Bayes etc.\n",
    "-   mllib.clustering − This is used for solving clustering problems that\n",
    "    aim in grouping entities subsets with one another depending on\n",
    "    similarity.\n",
    "-   mllib.fpm − FPM stands for Frequent Pattern Matching. This library\n",
    "    is used to mine frequent items, subsequences or other structures\n",
    "    that are used for analyzing large datasets.\n",
    "-   mllib.linalg − This is used for solving problems on linear algebra.\n",
    "-   mllib.recommendation − This is used for collaborative filtering and\n",
    "    in recommender systems.\n",
    "-   spark.mllib − This is used for supporting model-based collaborative\n",
    "    filtering where small latent factors are identified using the\n",
    "    Alternating Least Squares (ALS) algorithm which is used for\n",
    "    predicting missing entries.\n",
    "-   mllib.regression − This is used for solving problems using\n",
    "    regression algorithms that find relationships and variable\n",
    "    dependencies.\n",
    "-   **Is PySpark faster than pandas?**"
   ]
  },
  {
   "cell_type": "markdown",
   "id": "9ba02c3e",
   "metadata": {
    "id": "801c246d"
   },
   "source": [
    "PySpark supports parallel execution of statements in a distributed\n",
    "environment, i.e on different cores and different machines which are not\n",
    "present in Pandas. This is why PySpark is faster than pandas."
   ]
  },
  {
   "cell_type": "markdown",
   "id": "97cc14be",
   "metadata": {
    "id": "6c27a624"
   },
   "source": [
    "**What is PySpark Architecture?**"
   ]
  },
  {
   "cell_type": "markdown",
   "id": "da505aed",
   "metadata": {
    "id": "7015583f"
   },
   "source": [
    "PySpark similar to Apache Spark works in master-slave architecture\n",
    "pattern. Here, the master node is called the Driver and the slave nodes\n",
    "are called the workers. When a Spark application is run, the Spark\n",
    "Driver creates SparkContext which acts as an entry point to the spark\n",
    "application. All the operations are executed on the worker nodes. The\n",
    "resources required for executing the operations on the worker nodes are\n",
    "managed by the Cluster Managers"
   ]
  },
  {
   "cell_type": "markdown",
   "id": "a630346c",
   "metadata": {
    "id": "1c4e49d9"
   },
   "source": [
    "**What is the common workflow of a spark program?**"
   ]
  },
  {
   "cell_type": "markdown",
   "id": "137cf968",
   "metadata": {
    "id": "e100e450"
   },
   "source": [
    "The most common workflow followed by the spark program is: The first\n",
    "step is to create input RDDs depending on the external data. Data can be\n",
    "obtained from different data sources. Post RDD creation, the RDD\n",
    "transformation operations like filter() or map() are run for creating\n",
    "new RDDs depending on the business logic. If any intermediate RDDs are\n",
    "required to be reused for later purposes, we can persist those RDDs.\n",
    "Lastly, if any action operations like first(), count() etc are present\n",
    "then spark launches it to initiate parallel computation."
   ]
  },
  {
   "cell_type": "markdown",
   "id": "ca984863",
   "metadata": {
    "id": "93e6cf0f"
   },
   "source": [
    "**Congratulations!** You have read an small summary about important\n",
    "things in **Data Science**."
   ]
  }
 ],
 "metadata": {
  "colab": {
   "collapsed_sections": [
    "9ed8309c",
    "894b7388"
   ],
   "include_colab_link": true,
   "name": " Data-Science-Colab-Notebook.ipynb",
   "provenance": []
  },
  "kernelspec": {
   "display_name": "Python 3",
   "language": "python",
   "name": "python3"
  },
  "language_info": {
   "codemirror_mode": {
    "name": "ipython",
    "version": 3
   },
   "file_extension": ".py",
   "mimetype": "text/x-python",
   "name": "python",
   "nbconvert_exporter": "python",
   "pygments_lexer": "ipython3",
   "version": "3.8.10"
  }
 },
 "nbformat": 4,
 "nbformat_minor": 5
}
