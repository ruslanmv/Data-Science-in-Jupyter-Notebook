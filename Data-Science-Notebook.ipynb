{
 "cells": [
  {
   "cell_type": "markdown",
   "id": "2d0c9947",
   "metadata": {},
   "source": [
    "# Reference of Data Science in Jupyter Notebook\n",
    "by ruslanmv  "
   ]
  },
  {
   "cell_type": "markdown",
   "id": "3de7913b",
   "metadata": {},
   "source": [
    "Hello everyone,  I have created this notebook to summarize some concepts of Data Science that may help you in your projects of your Company.\n",
    "I wanted to collect some of the essential tools used everyday as Data Scientist."
   ]
  },
  {
   "cell_type": "markdown",
   "id": "af5be55d",
   "metadata": {},
   "source": [
    "### Table of Contents\n",
    "\n",
    "-   [Section 1: Python for Data Science](#section-1)\n",
    "-   [Section 2: Importing Data](#section-2)\n",
    "-   [Section 3: Data Wrangling with Pandas](#section-3)\n",
    "-   [Section 4: Data Analysis with Numpy](#section-4)\n",
    "-   [Section 5: Data Visualization with Matplotlib](#section-5)\n",
    "-   [Section 7: Machine Learning with Scikit-Learn](#section-7)\n",
    "-   [Section 8: SciPy](#section-8)\n",
    "-   [Section 9: Neural Networks with Keras](#section-9)\n",
    "-   [Section 10: PySpark & Spark SQL](#section-10)"
   ]
  },
  {
   "cell_type": "markdown",
   "id": "41a4de3f",
   "metadata": {},
   "source": [
    "# Python for Data Science\n",
    "\n",
    "The first thing that you should know is the precedence of the operators in Python. You can remember the PEMDAS rule:\n",
    "\n",
    "\n",
    "|  | Operation      |\n",
    "|--|----------------|\n",
    "|P | Parentheses.   |\n",
    "|E | Exponentiation.|\n",
    "|M | Multiplication.| \n",
    "|D | Division.      |\n",
    "|A | Addition.      |\n",
    "|S | Subtraction.   |"
   ]
  },
  {
   "cell_type": "markdown",
   "id": "78795f95",
   "metadata": {},
   "source": [
    "## Types and Type Conversion"
   ]
  },
  {
   "cell_type": "code",
   "execution_count": 1,
   "id": "851b6769",
   "metadata": {},
   "outputs": [
    {
     "data": {
      "text/plain": [
       "'3.45'"
      ]
     },
     "execution_count": 1,
     "metadata": {},
     "output_type": "execute_result"
    }
   ],
   "source": [
    "str(3.45) #Variables to strings"
   ]
  },
  {
   "cell_type": "code",
   "execution_count": 2,
   "id": "fd681428",
   "metadata": {},
   "outputs": [
    {
     "data": {
      "text/plain": [
       "3"
      ]
     },
     "execution_count": 2,
     "metadata": {},
     "output_type": "execute_result"
    }
   ],
   "source": [
    "int(3.45)  #Variables to integers "
   ]
  },
  {
   "cell_type": "code",
   "execution_count": 3,
   "id": "e77f897f",
   "metadata": {},
   "outputs": [
    {
     "data": {
      "text/plain": [
       "5.0"
      ]
     },
     "execution_count": 3,
     "metadata": {},
     "output_type": "execute_result"
    }
   ],
   "source": [
    "float(5)  #Variables to floats"
   ]
  },
  {
   "cell_type": "code",
   "execution_count": 4,
   "id": "a7274100",
   "metadata": {},
   "outputs": [
    {
     "data": {
      "text/plain": [
       "True"
      ]
     },
     "execution_count": 4,
     "metadata": {},
     "output_type": "execute_result"
    }
   ],
   "source": [
    "bool(True)  #Variables to boolean"
   ]
  },
  {
   "cell_type": "markdown",
   "id": "8365231a",
   "metadata": {},
   "source": [
    "### Libraries\n",
    "\n",
    "Data analysis -\\> **pandas**\n",
    "\n",
    "Scientific computing -\\> **numpy**\n",
    "\n",
    "2D plotting -\\> **matplotlib**\n",
    "\n",
    "Machine learning -\\> **Scikit-Learn**"
   ]
  },
  {
   "cell_type": "markdown",
   "id": "2a8f180d",
   "metadata": {},
   "source": [
    "### Import Libraries"
   ]
  },
  {
   "cell_type": "code",
   "execution_count": 18,
   "id": "c783052b",
   "metadata": {},
   "outputs": [],
   "source": [
    "import numpy\n",
    "import numpy as np"
   ]
  },
  {
   "cell_type": "markdown",
   "id": "952ae265",
   "metadata": {},
   "source": [
    "### Selective import"
   ]
  },
  {
   "cell_type": "code",
   "execution_count": 19,
   "id": "d9d25ebe",
   "metadata": {},
   "outputs": [],
   "source": [
    "from math import pi"
   ]
  },
  {
   "cell_type": "markdown",
   "id": "b0880808",
   "metadata": {},
   "source": [
    "### Strings"
   ]
  },
  {
   "cell_type": "code",
   "execution_count": 20,
   "id": "c2ce2897",
   "metadata": {},
   "outputs": [],
   "source": [
    "my_string = 'thisStringisAwesome'"
   ]
  },
  {
   "cell_type": "code",
   "execution_count": 21,
   "id": "e6ced517",
   "metadata": {},
   "outputs": [
    {
     "data": {
      "text/plain": [
       "'thisStringisAwesome'"
      ]
     },
     "execution_count": 21,
     "metadata": {},
     "output_type": "execute_result"
    }
   ],
   "source": [
    "my_string"
   ]
  },
  {
   "cell_type": "markdown",
   "id": "4ae43f17",
   "metadata": {},
   "source": [
    "**String Operation**"
   ]
  },
  {
   "cell_type": "code",
   "execution_count": 22,
   "id": "139137ab",
   "metadata": {},
   "outputs": [
    {
     "data": {
      "text/plain": [
       "'thisStringisAwesomethisStringisAwesome'"
      ]
     },
     "execution_count": 22,
     "metadata": {},
     "output_type": "execute_result"
    }
   ],
   "source": [
    " my_string * 2"
   ]
  },
  {
   "cell_type": "code",
   "execution_count": 23,
   "id": "58ff98f4",
   "metadata": {},
   "outputs": [
    {
     "data": {
      "text/plain": [
       "'thisStringisAwesomeInnit'"
      ]
     },
     "execution_count": 23,
     "metadata": {},
     "output_type": "execute_result"
    }
   ],
   "source": [
    "my_string +'Innit'"
   ]
  },
  {
   "cell_type": "code",
   "execution_count": 24,
   "id": "5752beef",
   "metadata": {},
   "outputs": [
    {
     "data": {
      "text/plain": [
       "True"
      ]
     },
     "execution_count": 24,
     "metadata": {},
     "output_type": "execute_result"
    }
   ],
   "source": [
    "'m' in  my_string"
   ]
  },
  {
   "cell_type": "markdown",
   "id": "4349505b",
   "metadata": {},
   "source": [
    "**String** **Indexing**\n",
    "Index starts at 0"
   ]
  },
  {
   "cell_type": "code",
   "execution_count": 25,
   "id": "3667e16d",
   "metadata": {},
   "outputs": [
    {
     "data": {
      "text/plain": [
       "'s'"
      ]
     },
     "execution_count": 25,
     "metadata": {},
     "output_type": "execute_result"
    }
   ],
   "source": [
    "my_string[3]"
   ]
  },
  {
   "cell_type": "code",
   "execution_count": 26,
   "id": "57c21881",
   "metadata": {},
   "outputs": [
    {
     "data": {
      "text/plain": [
       "'Strin'"
      ]
     },
     "execution_count": 26,
     "metadata": {},
     "output_type": "execute_result"
    }
   ],
   "source": [
    "my_string[4:9]"
   ]
  },
  {
   "cell_type": "code",
   "execution_count": 27,
   "id": "9e6d201e",
   "metadata": {},
   "outputs": [
    {
     "data": {
      "text/plain": [
       "'thisstringisawesome'"
      ]
     },
     "execution_count": 27,
     "metadata": {},
     "output_type": "execute_result"
    }
   ],
   "source": [
    " my_string.lower() #String to lowercase\n"
   ]
  },
  {
   "cell_type": "code",
   "execution_count": 28,
   "id": "2fe2f77e",
   "metadata": {},
   "outputs": [
    {
     "data": {
      "text/plain": [
       "1"
      ]
     },
     "execution_count": 28,
     "metadata": {},
     "output_type": "execute_result"
    }
   ],
   "source": [
    " my_string.count('w') #Count String elements"
   ]
  },
  {
   "cell_type": "code",
   "execution_count": 29,
   "id": "bc4e1ded",
   "metadata": {},
   "outputs": [
    {
     "data": {
      "text/plain": [
       "'thisStringisAwisomi'"
      ]
     },
     "execution_count": 29,
     "metadata": {},
     "output_type": "execute_result"
    }
   ],
   "source": [
    " my_string.replace('e','i') #Replace String elements"
   ]
  },
  {
   "cell_type": "code",
   "execution_count": 30,
   "id": "c75152ac",
   "metadata": {},
   "outputs": [
    {
     "data": {
      "text/plain": [
       "'thisStringisAwesome'"
      ]
     },
     "execution_count": 30,
     "metadata": {},
     "output_type": "execute_result"
    }
   ],
   "source": [
    " my_string.strip() #Strip whitespoces"
   ]
  },
  {
   "cell_type": "markdown",
   "id": "af9c6525",
   "metadata": {},
   "source": [
    "### Lists"
   ]
  },
  {
   "cell_type": "code",
   "execution_count": 31,
   "id": "6316cfe8",
   "metadata": {},
   "outputs": [],
   "source": [
    "my_list = [1, 2, 3, 4]"
   ]
  },
  {
   "cell_type": "code",
   "execution_count": 32,
   "id": "cfb4b1cd",
   "metadata": {},
   "outputs": [],
   "source": [
    "my_array = np.array(my_list)"
   ]
  },
  {
   "cell_type": "code",
   "execution_count": 33,
   "id": "9f84536b",
   "metadata": {},
   "outputs": [],
   "source": [
    "my_2darray = np.array([[1,2,3],[4,5,6]])"
   ]
  },
  {
   "cell_type": "markdown",
   "id": "a2cd718f",
   "metadata": {},
   "source": [
    "**Selecting Numpy Array Elements**\n",
    "Index starts at 0\n",
    "Subset"
   ]
  },
  {
   "cell_type": "code",
   "execution_count": 34,
   "id": "9c2ad973",
   "metadata": {},
   "outputs": [
    {
     "data": {
      "text/plain": [
       "2"
      ]
     },
     "execution_count": 34,
     "metadata": {},
     "output_type": "execute_result"
    }
   ],
   "source": [
    " my_array[1] #Select item at index 1"
   ]
  },
  {
   "cell_type": "markdown",
   "id": "832c09ff",
   "metadata": {},
   "source": [
    "Slice"
   ]
  },
  {
   "cell_type": "code",
   "execution_count": 35,
   "id": "81d88b66",
   "metadata": {},
   "outputs": [
    {
     "data": {
      "text/plain": [
       "array([1, 2])"
      ]
     },
     "execution_count": 35,
     "metadata": {},
     "output_type": "execute_result"
    }
   ],
   "source": [
    "my_array[ 0:2]#Select items at index 0 and 1"
   ]
  },
  {
   "cell_type": "markdown",
   "id": "1c58011b",
   "metadata": {},
   "source": [
    "**Subset 2D Numpy arrays**"
   ]
  },
  {
   "cell_type": "code",
   "execution_count": 36,
   "id": "a196613c",
   "metadata": {},
   "outputs": [
    {
     "data": {
      "text/plain": [
       "array([1, 4])"
      ]
     },
     "execution_count": 36,
     "metadata": {},
     "output_type": "execute_result"
    }
   ],
   "source": [
    " my_2darray[:,0]#my_2darroy[rows, columns]"
   ]
  },
  {
   "cell_type": "markdown",
   "id": "222c5098",
   "metadata": {},
   "source": [
    "**Numpy Array Operations**"
   ]
  },
  {
   "cell_type": "code",
   "execution_count": 37,
   "id": "849c7659",
   "metadata": {},
   "outputs": [
    {
     "data": {
      "text/plain": [
       "array([False, False, False,  True])"
      ]
     },
     "execution_count": 37,
     "metadata": {},
     "output_type": "execute_result"
    }
   ],
   "source": [
    "my_array > 3"
   ]
  },
  {
   "cell_type": "code",
   "execution_count": 38,
   "id": "6774c145",
   "metadata": {},
   "outputs": [
    {
     "data": {
      "text/plain": [
       "array([2, 4, 6, 8])"
      ]
     },
     "execution_count": 38,
     "metadata": {},
     "output_type": "execute_result"
    }
   ],
   "source": [
    "my_array *  2"
   ]
  },
  {
   "cell_type": "code",
   "execution_count": 39,
   "id": "5c5e6e03",
   "metadata": {},
   "outputs": [
    {
     "data": {
      "text/plain": [
       "array([ 6,  8, 10, 12])"
      ]
     },
     "execution_count": 39,
     "metadata": {},
     "output_type": "execute_result"
    }
   ],
   "source": [
    "my_array + np.array([5, 6, 7, 8])"
   ]
  },
  {
   "cell_type": "markdown",
   "id": "3efb9bf8",
   "metadata": {},
   "source": [
    "**Numpy Array Functions**"
   ]
  },
  {
   "cell_type": "code",
   "execution_count": 40,
   "id": "780a205e",
   "metadata": {},
   "outputs": [
    {
     "data": {
      "text/plain": [
       "(4,)"
      ]
     },
     "execution_count": 40,
     "metadata": {},
     "output_type": "execute_result"
    }
   ],
   "source": [
    "my_array.shape #Get the dimensions of the array"
   ]
  },
  {
   "cell_type": "code",
   "execution_count": 41,
   "id": "1d283938",
   "metadata": {},
   "outputs": [],
   "source": [
    "other_array=np.array([9])"
   ]
  },
  {
   "cell_type": "code",
   "execution_count": 42,
   "id": "9c5bb6ff",
   "metadata": {},
   "outputs": [
    {
     "data": {
      "text/plain": [
       "array([1, 2, 3, 4, 9])"
      ]
     },
     "execution_count": 42,
     "metadata": {},
     "output_type": "execute_result"
    }
   ],
   "source": [
    "np.append(my_array ,other_array) #Append items to on array"
   ]
  },
  {
   "cell_type": "code",
   "execution_count": 43,
   "id": "dab77fa6",
   "metadata": {},
   "outputs": [
    {
     "data": {
      "text/plain": [
       "array([1, 5, 2, 3, 4])"
      ]
     },
     "execution_count": 43,
     "metadata": {},
     "output_type": "execute_result"
    }
   ],
   "source": [
    "np.insert( my_array, 1, 5) #Insert items in on array"
   ]
  },
  {
   "cell_type": "code",
   "execution_count": 44,
   "id": "ffe6de22",
   "metadata": {},
   "outputs": [
    {
     "data": {
      "text/plain": [
       "array([1, 3, 4])"
      ]
     },
     "execution_count": 44,
     "metadata": {},
     "output_type": "execute_result"
    }
   ],
   "source": [
    " np.delete( my_array,[1]) #Delete items in on array"
   ]
  },
  {
   "cell_type": "code",
   "execution_count": 45,
   "id": "e78d4dec",
   "metadata": {},
   "outputs": [
    {
     "data": {
      "text/plain": [
       "2.5"
      ]
     },
     "execution_count": 45,
     "metadata": {},
     "output_type": "execute_result"
    }
   ],
   "source": [
    " np.mean(my_array) #Mean of the array"
   ]
  },
  {
   "cell_type": "code",
   "execution_count": 46,
   "id": "d0af1241",
   "metadata": {},
   "outputs": [
    {
     "data": {
      "text/plain": [
       "2.5"
      ]
     },
     "execution_count": 46,
     "metadata": {},
     "output_type": "execute_result"
    }
   ],
   "source": [
    " np.median(my_array) #Median of the array"
   ]
  },
  {
   "cell_type": "code",
   "execution_count": 47,
   "id": "c91d6e7f",
   "metadata": {},
   "outputs": [
    {
     "data": {
      "text/plain": [
       "1.0"
      ]
     },
     "execution_count": 47,
     "metadata": {},
     "output_type": "execute_result"
    }
   ],
   "source": [
    "np.corrcoef(my_array)#Correlation coefficient"
   ]
  },
  {
   "cell_type": "code",
   "execution_count": 48,
   "id": "4d7b6242",
   "metadata": {},
   "outputs": [
    {
     "data": {
      "text/plain": [
       "1.118033988749895"
      ]
     },
     "execution_count": 48,
     "metadata": {},
     "output_type": "execute_result"
    }
   ],
   "source": [
    "np.std( my_array) #Standard deviation"
   ]
  },
  {
   "cell_type": "markdown",
   "id": "cd7b4e31",
   "metadata": {},
   "source": [
    "### Lists"
   ]
  },
  {
   "cell_type": "code",
   "execution_count": 49,
   "id": "ac97d988",
   "metadata": {},
   "outputs": [],
   "source": [
    "a  =  'is'"
   ]
  },
  {
   "cell_type": "code",
   "execution_count": 50,
   "id": "5751b125",
   "metadata": {},
   "outputs": [],
   "source": [
    "b  =  'nice'"
   ]
  },
  {
   "cell_type": "code",
   "execution_count": 51,
   "id": "4a9466e4",
   "metadata": {},
   "outputs": [],
   "source": [
    "my_list = ['my','list', a, b]"
   ]
  },
  {
   "cell_type": "code",
   "execution_count": 52,
   "id": "a4b9887a",
   "metadata": {},
   "outputs": [],
   "source": [
    "my_list2=[[4,5,6,7],[3,4,5,6]]"
   ]
  },
  {
   "cell_type": "markdown",
   "id": "dd1bc0d9",
   "metadata": {},
   "source": [
    "**Selecting List Elements**\n",
    "\n",
    "Index starts at 0\n",
    "\n",
    "\n",
    "Subset"
   ]
  },
  {
   "cell_type": "code",
   "execution_count": 53,
   "id": "04864bcb",
   "metadata": {},
   "outputs": [
    {
     "data": {
      "text/plain": [
       "'list'"
      ]
     },
     "execution_count": 53,
     "metadata": {},
     "output_type": "execute_result"
    }
   ],
   "source": [
    "my_list[1] #Select item at index 1"
   ]
  },
  {
   "cell_type": "code",
   "execution_count": 54,
   "id": "fc898550",
   "metadata": {},
   "outputs": [
    {
     "data": {
      "text/plain": [
       "'list'"
      ]
     },
     "execution_count": 54,
     "metadata": {},
     "output_type": "execute_result"
    }
   ],
   "source": [
    "my_list[-3] #Select 3rd last item"
   ]
  },
  {
   "cell_type": "markdown",
   "id": "0a9113e5",
   "metadata": {},
   "source": [
    "Slice"
   ]
  },
  {
   "cell_type": "code",
   "execution_count": 55,
   "id": "540df12c",
   "metadata": {},
   "outputs": [
    {
     "data": {
      "text/plain": [
       "['list', 'is']"
      ]
     },
     "execution_count": 55,
     "metadata": {},
     "output_type": "execute_result"
    }
   ],
   "source": [
    " my_list[1:3] #Select items at index 1 and 2"
   ]
  },
  {
   "cell_type": "code",
   "execution_count": 56,
   "id": "9cf6d0df",
   "metadata": {},
   "outputs": [
    {
     "data": {
      "text/plain": [
       "['list', 'is', 'nice']"
      ]
     },
     "execution_count": 56,
     "metadata": {},
     "output_type": "execute_result"
    }
   ],
   "source": [
    " my_list[1:] #Select items after index 0"
   ]
  },
  {
   "cell_type": "code",
   "execution_count": 57,
   "id": "de0a621b",
   "metadata": {},
   "outputs": [
    {
     "data": {
      "text/plain": [
       "['my', 'list', 'is']"
      ]
     },
     "execution_count": 57,
     "metadata": {},
     "output_type": "execute_result"
    }
   ],
   "source": [
    "my_list[:3] #Select items before index 3"
   ]
  },
  {
   "cell_type": "code",
   "execution_count": 58,
   "id": "c6ec0646",
   "metadata": {},
   "outputs": [
    {
     "data": {
      "text/plain": [
       "['my', 'list', 'is', 'nice']"
      ]
     },
     "execution_count": 58,
     "metadata": {},
     "output_type": "execute_result"
    }
   ],
   "source": [
    " my_list[:] #Copy my_list"
   ]
  },
  {
   "cell_type": "markdown",
   "id": "de16a7eb",
   "metadata": {},
   "source": [
    "Subset Lists of Lists"
   ]
  },
  {
   "cell_type": "code",
   "execution_count": 59,
   "id": "2d521a12",
   "metadata": {},
   "outputs": [
    {
     "data": {
      "text/plain": [
       "3"
      ]
     },
     "execution_count": 59,
     "metadata": {},
     "output_type": "execute_result"
    }
   ],
   "source": [
    " my_list2[1][0] #my_list[list][itemOfList]"
   ]
  },
  {
   "cell_type": "code",
   "execution_count": 60,
   "id": "284424d8",
   "metadata": {},
   "outputs": [
    {
     "data": {
      "text/plain": [
       "[3, 4]"
      ]
     },
     "execution_count": 60,
     "metadata": {},
     "output_type": "execute_result"
    }
   ],
   "source": [
    " my_list2[1][:2]"
   ]
  },
  {
   "cell_type": "markdown",
   "id": "2735c3c8",
   "metadata": {},
   "source": [
    "**List Operations**"
   ]
  },
  {
   "cell_type": "code",
   "execution_count": 61,
   "id": "877b38b3",
   "metadata": {},
   "outputs": [
    {
     "data": {
      "text/plain": [
       "['my', 'list', 'is', 'nice', 'my', 'list', 'is', 'nice']"
      ]
     },
     "execution_count": 61,
     "metadata": {},
     "output_type": "execute_result"
    }
   ],
   "source": [
    " my_list + my_list"
   ]
  },
  {
   "cell_type": "code",
   "execution_count": 62,
   "id": "f2e7572b",
   "metadata": {},
   "outputs": [
    {
     "data": {
      "text/plain": [
       "['my', 'list', 'is', 'nice', 'my', 'list', 'is', 'nice']"
      ]
     },
     "execution_count": 62,
     "metadata": {},
     "output_type": "execute_result"
    }
   ],
   "source": [
    " 2*my_list "
   ]
  },
  {
   "cell_type": "markdown",
   "id": "e85ae536",
   "metadata": {},
   "source": [
    "**List Methods**"
   ]
  },
  {
   "cell_type": "code",
   "execution_count": 63,
   "id": "c887b22a",
   "metadata": {},
   "outputs": [
    {
     "data": {
      "text/plain": [
       "2"
      ]
     },
     "execution_count": 63,
     "metadata": {},
     "output_type": "execute_result"
    }
   ],
   "source": [
    "my_list.index(a) #Get the index of an item"
   ]
  },
  {
   "cell_type": "code",
   "execution_count": 64,
   "id": "61d8be3c",
   "metadata": {},
   "outputs": [
    {
     "data": {
      "text/plain": [
       "1"
      ]
     },
     "execution_count": 64,
     "metadata": {},
     "output_type": "execute_result"
    }
   ],
   "source": [
    "my_list.count(a) #Count on item"
   ]
  },
  {
   "cell_type": "code",
   "execution_count": 65,
   "id": "30143287",
   "metadata": {},
   "outputs": [],
   "source": [
    "my_list.append( '!') #Append on item ot a time"
   ]
  },
  {
   "cell_type": "code",
   "execution_count": 66,
   "id": "8871e193",
   "metadata": {},
   "outputs": [],
   "source": [
    "my_list.remove( '!' ) #Remove  on  item"
   ]
  },
  {
   "cell_type": "code",
   "execution_count": 67,
   "id": "f27a0ea2",
   "metadata": {},
   "outputs": [],
   "source": [
    "del(my_list[0:1]) #Remove an item"
   ]
  },
  {
   "cell_type": "code",
   "execution_count": 68,
   "id": "2b46bdb7",
   "metadata": {},
   "outputs": [
    {
     "data": {
      "text/plain": [
       "['list', 'is', 'nice']"
      ]
     },
     "execution_count": 68,
     "metadata": {},
     "output_type": "execute_result"
    }
   ],
   "source": [
    "my_list "
   ]
  },
  {
   "cell_type": "code",
   "execution_count": 69,
   "id": "95dcb7c5",
   "metadata": {},
   "outputs": [],
   "source": [
    "my_list.reverse() #Reverse the list"
   ]
  },
  {
   "cell_type": "code",
   "execution_count": 70,
   "id": "ddb4559e",
   "metadata": {},
   "outputs": [],
   "source": [
    "my_list.extend('!') #Append on item"
   ]
  },
  {
   "cell_type": "code",
   "execution_count": 71,
   "id": "c2a4706e",
   "metadata": {},
   "outputs": [
    {
     "data": {
      "text/plain": [
       "'!'"
      ]
     },
     "execution_count": 71,
     "metadata": {},
     "output_type": "execute_result"
    }
   ],
   "source": [
    "my_list.pop(-1) #Remove on item\n"
   ]
  },
  {
   "cell_type": "code",
   "execution_count": 72,
   "id": "9f57e837",
   "metadata": {},
   "outputs": [],
   "source": [
    "my_list.insert(0, '!') #Insert on item\n"
   ]
  },
  {
   "cell_type": "code",
   "execution_count": 73,
   "id": "db238445",
   "metadata": {},
   "outputs": [],
   "source": [
    "my_list.sort() #Sort the list"
   ]
  },
  {
   "cell_type": "markdown",
   "id": "7db85acf",
   "metadata": {},
   "source": [
    "**Asking For Help**\n"
   ]
  },
  {
   "cell_type": "markdown",
   "id": "6468f92b",
   "metadata": {},
   "source": [
    "help(str)"
   ]
  },
  {
   "cell_type": "markdown",
   "id": "acf9930c",
   "metadata": {},
   "source": [
    "# Section 2\n",
    "\n",
    "### **Importing Data**\n",
    "\n",
    "**Most of the time, you’ll use either NumPy or pandas to import your\n",
    "data:**"
   ]
  },
  {
   "cell_type": "code",
   "execution_count": 74,
   "id": "019e5be8",
   "metadata": {},
   "outputs": [],
   "source": [
    "import numpy as np\n",
    "import pandas as pd"
   ]
  },
  {
   "cell_type": "markdown",
   "id": "a3898347",
   "metadata": {},
   "source": [
    "**Help**\n",
    "\n",
    "     np.info(np.ndarray.dtype)\n",
    "     help(pd.read_csv)\n"
   ]
  },
  {
   "cell_type": "code",
   "execution_count": 111,
   "id": "b4e4dc67",
   "metadata": {},
   "outputs": [],
   "source": [
    "df=pd.read_csv('data/titanic.csv')  "
   ]
  },
  {
   "cell_type": "code",
   "execution_count": 112,
   "id": "6067b737",
   "metadata": {},
   "outputs": [
    {
     "data": {
      "text/html": [
       "<div>\n",
       "<style scoped>\n",
       "    .dataframe tbody tr th:only-of-type {\n",
       "        vertical-align: middle;\n",
       "    }\n",
       "\n",
       "    .dataframe tbody tr th {\n",
       "        vertical-align: top;\n",
       "    }\n",
       "\n",
       "    .dataframe thead th {\n",
       "        text-align: right;\n",
       "    }\n",
       "</style>\n",
       "<table border=\"1\" class=\"dataframe\">\n",
       "  <thead>\n",
       "    <tr style=\"text-align: right;\">\n",
       "      <th></th>\n",
       "      <th>PassengerId</th>\n",
       "      <th>Survived</th>\n",
       "      <th>Pclass</th>\n",
       "      <th>Name</th>\n",
       "      <th>Sex</th>\n",
       "      <th>Age</th>\n",
       "      <th>SibSp</th>\n",
       "      <th>Parch</th>\n",
       "      <th>Ticket</th>\n",
       "      <th>Fare</th>\n",
       "      <th>Cabin</th>\n",
       "      <th>Embarked</th>\n",
       "    </tr>\n",
       "  </thead>\n",
       "  <tbody>\n",
       "    <tr>\n",
       "      <th>0</th>\n",
       "      <td>1</td>\n",
       "      <td>0</td>\n",
       "      <td>3</td>\n",
       "      <td>Braund, Mr. Owen Harris</td>\n",
       "      <td>male</td>\n",
       "      <td>22.0</td>\n",
       "      <td>1</td>\n",
       "      <td>0</td>\n",
       "      <td>A/5 21171</td>\n",
       "      <td>7.2500</td>\n",
       "      <td>NaN</td>\n",
       "      <td>S</td>\n",
       "    </tr>\n",
       "    <tr>\n",
       "      <th>1</th>\n",
       "      <td>2</td>\n",
       "      <td>1</td>\n",
       "      <td>1</td>\n",
       "      <td>Cumings, Mrs. John Bradley (Florence Briggs Th...</td>\n",
       "      <td>female</td>\n",
       "      <td>38.0</td>\n",
       "      <td>1</td>\n",
       "      <td>0</td>\n",
       "      <td>PC 17599</td>\n",
       "      <td>71.2833</td>\n",
       "      <td>C85</td>\n",
       "      <td>C</td>\n",
       "    </tr>\n",
       "    <tr>\n",
       "      <th>2</th>\n",
       "      <td>3</td>\n",
       "      <td>1</td>\n",
       "      <td>3</td>\n",
       "      <td>Heikkinen, Miss. Laina</td>\n",
       "      <td>female</td>\n",
       "      <td>26.0</td>\n",
       "      <td>0</td>\n",
       "      <td>0</td>\n",
       "      <td>STON/O2. 3101282</td>\n",
       "      <td>7.9250</td>\n",
       "      <td>NaN</td>\n",
       "      <td>S</td>\n",
       "    </tr>\n",
       "    <tr>\n",
       "      <th>3</th>\n",
       "      <td>4</td>\n",
       "      <td>1</td>\n",
       "      <td>1</td>\n",
       "      <td>Futrelle, Mrs. Jacques Heath (Lily May Peel)</td>\n",
       "      <td>female</td>\n",
       "      <td>35.0</td>\n",
       "      <td>1</td>\n",
       "      <td>0</td>\n",
       "      <td>113803</td>\n",
       "      <td>53.1000</td>\n",
       "      <td>C123</td>\n",
       "      <td>S</td>\n",
       "    </tr>\n",
       "    <tr>\n",
       "      <th>4</th>\n",
       "      <td>5</td>\n",
       "      <td>0</td>\n",
       "      <td>3</td>\n",
       "      <td>Allen, Mr. William Henry</td>\n",
       "      <td>male</td>\n",
       "      <td>35.0</td>\n",
       "      <td>0</td>\n",
       "      <td>0</td>\n",
       "      <td>373450</td>\n",
       "      <td>8.0500</td>\n",
       "      <td>NaN</td>\n",
       "      <td>S</td>\n",
       "    </tr>\n",
       "  </tbody>\n",
       "</table>\n",
       "</div>"
      ],
      "text/plain": [
       "   PassengerId  Survived  Pclass  \\\n",
       "0            1         0       3   \n",
       "1            2         1       1   \n",
       "2            3         1       3   \n",
       "3            4         1       1   \n",
       "4            5         0       3   \n",
       "\n",
       "                                                Name     Sex   Age  SibSp  \\\n",
       "0                            Braund, Mr. Owen Harris    male  22.0      1   \n",
       "1  Cumings, Mrs. John Bradley (Florence Briggs Th...  female  38.0      1   \n",
       "2                             Heikkinen, Miss. Laina  female  26.0      0   \n",
       "3       Futrelle, Mrs. Jacques Heath (Lily May Peel)  female  35.0      1   \n",
       "4                           Allen, Mr. William Henry    male  35.0      0   \n",
       "\n",
       "   Parch            Ticket     Fare Cabin Embarked  \n",
       "0      0         A/5 21171   7.2500   NaN        S  \n",
       "1      0          PC 17599  71.2833   C85        C  \n",
       "2      0  STON/O2. 3101282   7.9250   NaN        S  \n",
       "3      0            113803  53.1000  C123        S  \n",
       "4      0            373450   8.0500   NaN        S  "
      ]
     },
     "execution_count": 112,
     "metadata": {},
     "output_type": "execute_result"
    }
   ],
   "source": [
    "df.head()"
   ]
  },
  {
   "cell_type": "markdown",
   "id": "63a2af8c",
   "metadata": {},
   "source": [
    "### Text Files\n",
    "\n",
    "**Plain Text Files**"
   ]
  },
  {
   "cell_type": "code",
   "execution_count": 75,
   "id": "c7dabd02",
   "metadata": {},
   "outputs": [
    {
     "name": "stdout",
     "output_type": "stream",
     "text": [
      "False\n"
     ]
    }
   ],
   "source": [
    "filename= 'data/huck_finn.txt'\n",
    "file= open(filename, mode= 'r' ) #Open the file for reading\n",
    "text= file.read() #Reado file's contents\n",
    "print(file.closed) #Check whether file is closed\n",
    "file.close() #Close file\n",
    "#print(text)"
   ]
  },
  {
   "cell_type": "code",
   "execution_count": 77,
   "id": "f2107cf2",
   "metadata": {},
   "outputs": [
    {
     "name": "stdout",
     "output_type": "stream",
     "text": [
      "ï»¿\n",
      "\n",
      "\n",
      "\n",
      "The Project Gutenberg EBook of Adventures of Huckleberry Finn, Complete\n",
      "\n"
     ]
    }
   ],
   "source": [
    "with open('data/huck_finn.txt', 'r' ) as file:\n",
    "    print(file.readline()) #Read single line \n",
    "    print(file.readline()) \n",
    "    print(file.readline())"
   ]
  },
  {
   "cell_type": "markdown",
   "id": "9da8a8ed",
   "metadata": {},
   "source": [
    "## Table Data: Flat Files\n",
    "\n",
    "**Importing Flat Files with NumPy**"
   ]
  },
  {
   "cell_type": "code",
   "execution_count": 81,
   "id": "c01022d8",
   "metadata": {},
   "outputs": [
    {
     "name": "stdout",
     "output_type": "stream",
     "text": [
      "False\n"
     ]
    }
   ],
   "source": [
    "filename= 'data/huck_finn.txt'\n",
    "file= open(filename, mode= 'r' ) #Open the file for reading\n",
    "text= file.read() #Reado file's contents\n",
    "print(file.closed) #Check whether file is closed\n",
    "file.close() #Close file\n",
    "#print(text)"
   ]
  },
  {
   "cell_type": "markdown",
   "id": "0165006b",
   "metadata": {},
   "source": [
    "**Files with one data type**\n"
   ]
  },
  {
   "cell_type": "code",
   "execution_count": 84,
   "id": "645ae29f",
   "metadata": {},
   "outputs": [],
   "source": [
    "filename= 'data/mnist.txt'\n",
    "data= np.loadtxt(filename,\n",
    "                    delimiter=',' ,#String used to separate values \n",
    "                    skiprows=2, #Skip the first 2 lines \n",
    "                    usecols=[0,2], #Read the 1st and 3rd column \n",
    "                    dtype=str) #The type of the resulting array\n",
    "\n"
   ]
  },
  {
   "cell_type": "markdown",
   "id": "56fd756e",
   "metadata": {},
   "source": [
    "\n",
    "**Files with mixed data type**\n"
   ]
  },
  {
   "cell_type": "code",
   "execution_count": 92,
   "id": "01f52332",
   "metadata": {},
   "outputs": [
    {
     "name": "stderr",
     "output_type": "stream",
     "text": [
      "<ipython-input-92-657e70eae454>:2: VisibleDeprecationWarning: Reading unicode strings without specifying the encoding argument is deprecated. Set the encoding, use None for the system default.\n",
      "  data= np.genfromtxt(filename,\n",
      "C:\\Users\\rusla\\.conda\\envs\\python-spark\\lib\\site-packages\\numpy\\lib\\npyio.py:2405: VisibleDeprecationWarning: Reading unicode strings without specifying the encoding argument is deprecated. Set the encoding, use None for the system default.\n",
      "  output = genfromtxt(fname, **kwargs)\n"
     ]
    }
   ],
   "source": [
    "filename= 'data/house.csv'\n",
    "data= np.genfromtxt(filename,\n",
    "                        delimiter = ',',\n",
    "                        names=True, #Look for column header\n",
    "                        dtype=None)\n",
    "data_array = np.recfromcsv(filename)\n",
    "#The default dtype of the np.recfromcsv() function is None"
   ]
  },
  {
   "cell_type": "markdown",
   "id": "e8ff2872",
   "metadata": {},
   "source": [
    "\n",
    "### Importing Flat Files with Pandas\n",
    "\n"
   ]
  },
  {
   "cell_type": "code",
   "execution_count": 99,
   "id": "10107bca",
   "metadata": {},
   "outputs": [],
   "source": [
    "filename= 'data\\winequality-red.csv'\n",
    "df= pd.read_csv(filename,\n",
    "                     nrows=5, #Number of rows of file to read \n",
    "                     header=None, #Row number to use as col names \n",
    "                     sep='\\t', #Delimiter to use\n",
    "                     comment='#', #Character to split comments\n",
    "                     na_values=[\"\"]) #String to recognize as NA/NaN\n",
    "\n"
   ]
  },
  {
   "cell_type": "markdown",
   "id": "a7c0bd3e",
   "metadata": {},
   "source": [
    "\n",
    "## Exploring Your Data\n",
    "\n",
    "**NumPy Arrays**\n",
    "\n"
   ]
  },
  {
   "cell_type": "code",
   "execution_count": 100,
   "id": "da153dc3",
   "metadata": {},
   "outputs": [
    {
     "data": {
      "text/plain": [
       "2930"
      ]
     },
     "execution_count": 100,
     "metadata": {},
     "output_type": "execute_result"
    }
   ],
   "source": [
    "data_array.dtype #Data type of array elements\n",
    "data_array.shape #Array dimensions\n",
    "len(data_array) #Length of array"
   ]
  },
  {
   "cell_type": "markdown",
   "id": "5ca8db9b",
   "metadata": {},
   "source": [
    "\n",
    "**Pandas DataFrames**\n",
    "\n"
   ]
  },
  {
   "cell_type": "code",
   "execution_count": 113,
   "id": "845c2eb4",
   "metadata": {},
   "outputs": [
    {
     "data": {
      "text/html": [
       "<div>\n",
       "<style scoped>\n",
       "    .dataframe tbody tr th:only-of-type {\n",
       "        vertical-align: middle;\n",
       "    }\n",
       "\n",
       "    .dataframe tbody tr th {\n",
       "        vertical-align: top;\n",
       "    }\n",
       "\n",
       "    .dataframe thead th {\n",
       "        text-align: right;\n",
       "    }\n",
       "</style>\n",
       "<table border=\"1\" class=\"dataframe\">\n",
       "  <thead>\n",
       "    <tr style=\"text-align: right;\">\n",
       "      <th></th>\n",
       "      <th>PassengerId</th>\n",
       "      <th>Survived</th>\n",
       "      <th>Pclass</th>\n",
       "      <th>Name</th>\n",
       "      <th>Sex</th>\n",
       "      <th>Age</th>\n",
       "      <th>SibSp</th>\n",
       "      <th>Parch</th>\n",
       "      <th>Ticket</th>\n",
       "      <th>Fare</th>\n",
       "      <th>Cabin</th>\n",
       "      <th>Embarked</th>\n",
       "    </tr>\n",
       "  </thead>\n",
       "  <tbody>\n",
       "    <tr>\n",
       "      <th>0</th>\n",
       "      <td>1</td>\n",
       "      <td>0</td>\n",
       "      <td>3</td>\n",
       "      <td>Braund, Mr. Owen Harris</td>\n",
       "      <td>male</td>\n",
       "      <td>22.0</td>\n",
       "      <td>1</td>\n",
       "      <td>0</td>\n",
       "      <td>A/5 21171</td>\n",
       "      <td>7.2500</td>\n",
       "      <td>NaN</td>\n",
       "      <td>S</td>\n",
       "    </tr>\n",
       "    <tr>\n",
       "      <th>1</th>\n",
       "      <td>2</td>\n",
       "      <td>1</td>\n",
       "      <td>1</td>\n",
       "      <td>Cumings, Mrs. John Bradley (Florence Briggs Th...</td>\n",
       "      <td>female</td>\n",
       "      <td>38.0</td>\n",
       "      <td>1</td>\n",
       "      <td>0</td>\n",
       "      <td>PC 17599</td>\n",
       "      <td>71.2833</td>\n",
       "      <td>C85</td>\n",
       "      <td>C</td>\n",
       "    </tr>\n",
       "    <tr>\n",
       "      <th>2</th>\n",
       "      <td>3</td>\n",
       "      <td>1</td>\n",
       "      <td>3</td>\n",
       "      <td>Heikkinen, Miss. Laina</td>\n",
       "      <td>female</td>\n",
       "      <td>26.0</td>\n",
       "      <td>0</td>\n",
       "      <td>0</td>\n",
       "      <td>STON/O2. 3101282</td>\n",
       "      <td>7.9250</td>\n",
       "      <td>NaN</td>\n",
       "      <td>S</td>\n",
       "    </tr>\n",
       "    <tr>\n",
       "      <th>3</th>\n",
       "      <td>4</td>\n",
       "      <td>1</td>\n",
       "      <td>1</td>\n",
       "      <td>Futrelle, Mrs. Jacques Heath (Lily May Peel)</td>\n",
       "      <td>female</td>\n",
       "      <td>35.0</td>\n",
       "      <td>1</td>\n",
       "      <td>0</td>\n",
       "      <td>113803</td>\n",
       "      <td>53.1000</td>\n",
       "      <td>C123</td>\n",
       "      <td>S</td>\n",
       "    </tr>\n",
       "    <tr>\n",
       "      <th>4</th>\n",
       "      <td>5</td>\n",
       "      <td>0</td>\n",
       "      <td>3</td>\n",
       "      <td>Allen, Mr. William Henry</td>\n",
       "      <td>male</td>\n",
       "      <td>35.0</td>\n",
       "      <td>0</td>\n",
       "      <td>0</td>\n",
       "      <td>373450</td>\n",
       "      <td>8.0500</td>\n",
       "      <td>NaN</td>\n",
       "      <td>S</td>\n",
       "    </tr>\n",
       "  </tbody>\n",
       "</table>\n",
       "</div>"
      ],
      "text/plain": [
       "   PassengerId  Survived  Pclass  \\\n",
       "0            1         0       3   \n",
       "1            2         1       1   \n",
       "2            3         1       3   \n",
       "3            4         1       1   \n",
       "4            5         0       3   \n",
       "\n",
       "                                                Name     Sex   Age  SibSp  \\\n",
       "0                            Braund, Mr. Owen Harris    male  22.0      1   \n",
       "1  Cumings, Mrs. John Bradley (Florence Briggs Th...  female  38.0      1   \n",
       "2                             Heikkinen, Miss. Laina  female  26.0      0   \n",
       "3       Futrelle, Mrs. Jacques Heath (Lily May Peel)  female  35.0      1   \n",
       "4                           Allen, Mr. William Henry    male  35.0      0   \n",
       "\n",
       "   Parch            Ticket     Fare Cabin Embarked  \n",
       "0      0         A/5 21171   7.2500   NaN        S  \n",
       "1      0          PC 17599  71.2833   C85        C  \n",
       "2      0  STON/O2. 3101282   7.9250   NaN        S  \n",
       "3      0            113803  53.1000  C123        S  \n",
       "4      0            373450   8.0500   NaN        S  "
      ]
     },
     "execution_count": 113,
     "metadata": {},
     "output_type": "execute_result"
    }
   ],
   "source": [
    "df.head() #Return first DataFrame rows"
   ]
  },
  {
   "cell_type": "code",
   "execution_count": 114,
   "id": "93ac207a",
   "metadata": {},
   "outputs": [
    {
     "data": {
      "text/html": [
       "<div>\n",
       "<style scoped>\n",
       "    .dataframe tbody tr th:only-of-type {\n",
       "        vertical-align: middle;\n",
       "    }\n",
       "\n",
       "    .dataframe tbody tr th {\n",
       "        vertical-align: top;\n",
       "    }\n",
       "\n",
       "    .dataframe thead th {\n",
       "        text-align: right;\n",
       "    }\n",
       "</style>\n",
       "<table border=\"1\" class=\"dataframe\">\n",
       "  <thead>\n",
       "    <tr style=\"text-align: right;\">\n",
       "      <th></th>\n",
       "      <th>PassengerId</th>\n",
       "      <th>Survived</th>\n",
       "      <th>Pclass</th>\n",
       "      <th>Name</th>\n",
       "      <th>Sex</th>\n",
       "      <th>Age</th>\n",
       "      <th>SibSp</th>\n",
       "      <th>Parch</th>\n",
       "      <th>Ticket</th>\n",
       "      <th>Fare</th>\n",
       "      <th>Cabin</th>\n",
       "      <th>Embarked</th>\n",
       "    </tr>\n",
       "  </thead>\n",
       "  <tbody>\n",
       "    <tr>\n",
       "      <th>886</th>\n",
       "      <td>887</td>\n",
       "      <td>0</td>\n",
       "      <td>2</td>\n",
       "      <td>Montvila, Rev. Juozas</td>\n",
       "      <td>male</td>\n",
       "      <td>27.0</td>\n",
       "      <td>0</td>\n",
       "      <td>0</td>\n",
       "      <td>211536</td>\n",
       "      <td>13.00</td>\n",
       "      <td>NaN</td>\n",
       "      <td>S</td>\n",
       "    </tr>\n",
       "    <tr>\n",
       "      <th>887</th>\n",
       "      <td>888</td>\n",
       "      <td>1</td>\n",
       "      <td>1</td>\n",
       "      <td>Graham, Miss. Margaret Edith</td>\n",
       "      <td>female</td>\n",
       "      <td>19.0</td>\n",
       "      <td>0</td>\n",
       "      <td>0</td>\n",
       "      <td>112053</td>\n",
       "      <td>30.00</td>\n",
       "      <td>B42</td>\n",
       "      <td>S</td>\n",
       "    </tr>\n",
       "    <tr>\n",
       "      <th>888</th>\n",
       "      <td>889</td>\n",
       "      <td>0</td>\n",
       "      <td>3</td>\n",
       "      <td>Johnston, Miss. Catherine Helen \"Carrie\"</td>\n",
       "      <td>female</td>\n",
       "      <td>NaN</td>\n",
       "      <td>1</td>\n",
       "      <td>2</td>\n",
       "      <td>W./C. 6607</td>\n",
       "      <td>23.45</td>\n",
       "      <td>NaN</td>\n",
       "      <td>S</td>\n",
       "    </tr>\n",
       "    <tr>\n",
       "      <th>889</th>\n",
       "      <td>890</td>\n",
       "      <td>1</td>\n",
       "      <td>1</td>\n",
       "      <td>Behr, Mr. Karl Howell</td>\n",
       "      <td>male</td>\n",
       "      <td>26.0</td>\n",
       "      <td>0</td>\n",
       "      <td>0</td>\n",
       "      <td>111369</td>\n",
       "      <td>30.00</td>\n",
       "      <td>C148</td>\n",
       "      <td>C</td>\n",
       "    </tr>\n",
       "    <tr>\n",
       "      <th>890</th>\n",
       "      <td>891</td>\n",
       "      <td>0</td>\n",
       "      <td>3</td>\n",
       "      <td>Dooley, Mr. Patrick</td>\n",
       "      <td>male</td>\n",
       "      <td>32.0</td>\n",
       "      <td>0</td>\n",
       "      <td>0</td>\n",
       "      <td>370376</td>\n",
       "      <td>7.75</td>\n",
       "      <td>NaN</td>\n",
       "      <td>Q</td>\n",
       "    </tr>\n",
       "  </tbody>\n",
       "</table>\n",
       "</div>"
      ],
      "text/plain": [
       "     PassengerId  Survived  Pclass                                      Name  \\\n",
       "886          887         0       2                     Montvila, Rev. Juozas   \n",
       "887          888         1       1              Graham, Miss. Margaret Edith   \n",
       "888          889         0       3  Johnston, Miss. Catherine Helen \"Carrie\"   \n",
       "889          890         1       1                     Behr, Mr. Karl Howell   \n",
       "890          891         0       3                       Dooley, Mr. Patrick   \n",
       "\n",
       "        Sex   Age  SibSp  Parch      Ticket   Fare Cabin Embarked  \n",
       "886    male  27.0      0      0      211536  13.00   NaN        S  \n",
       "887  female  19.0      0      0      112053  30.00   B42        S  \n",
       "888  female   NaN      1      2  W./C. 6607  23.45   NaN        S  \n",
       "889    male  26.0      0      0      111369  30.00  C148        C  \n",
       "890    male  32.0      0      0      370376   7.75   NaN        Q  "
      ]
     },
     "execution_count": 114,
     "metadata": {},
     "output_type": "execute_result"
    }
   ],
   "source": [
    "df.tail() #Return last OataFrame rows"
   ]
  },
  {
   "cell_type": "code",
   "execution_count": 115,
   "id": "dd6c2776",
   "metadata": {},
   "outputs": [
    {
     "data": {
      "text/plain": [
       "RangeIndex(start=0, stop=891, step=1)"
      ]
     },
     "execution_count": 115,
     "metadata": {},
     "output_type": "execute_result"
    }
   ],
   "source": [
    "df.index #Describe index"
   ]
  },
  {
   "cell_type": "code",
   "execution_count": 116,
   "id": "9424e3fc",
   "metadata": {},
   "outputs": [
    {
     "data": {
      "text/plain": [
       "Index(['PassengerId', 'Survived', 'Pclass', 'Name', 'Sex', 'Age', 'SibSp',\n",
       "       'Parch', 'Ticket', 'Fare', 'Cabin', 'Embarked'],\n",
       "      dtype='object')"
      ]
     },
     "execution_count": 116,
     "metadata": {},
     "output_type": "execute_result"
    }
   ],
   "source": [
    "df.columns #Describe OataFrame columns"
   ]
  },
  {
   "cell_type": "code",
   "execution_count": 117,
   "id": "9e0d4517",
   "metadata": {},
   "outputs": [
    {
     "name": "stdout",
     "output_type": "stream",
     "text": [
      "<class 'pandas.core.frame.DataFrame'>\n",
      "RangeIndex: 891 entries, 0 to 890\n",
      "Data columns (total 12 columns):\n",
      " #   Column       Non-Null Count  Dtype  \n",
      "---  ------       --------------  -----  \n",
      " 0   PassengerId  891 non-null    int64  \n",
      " 1   Survived     891 non-null    int64  \n",
      " 2   Pclass       891 non-null    int64  \n",
      " 3   Name         891 non-null    object \n",
      " 4   Sex          891 non-null    object \n",
      " 5   Age          714 non-null    float64\n",
      " 6   SibSp        891 non-null    int64  \n",
      " 7   Parch        891 non-null    int64  \n",
      " 8   Ticket       891 non-null    object \n",
      " 9   Fare         891 non-null    float64\n",
      " 10  Cabin        204 non-null    object \n",
      " 11  Embarked     889 non-null    object \n",
      "dtypes: float64(2), int64(5), object(5)\n",
      "memory usage: 83.7+ KB\n"
     ]
    }
   ],
   "source": [
    "df.info() #Info an DataFrame"
   ]
  },
  {
   "cell_type": "code",
   "execution_count": 121,
   "id": "3f782c45",
   "metadata": {},
   "outputs": [],
   "source": [
    "data_array = data.values #Convert a DataFrame to an a NumPy array"
   ]
  },
  {
   "cell_type": "markdown",
   "id": "429458aa",
   "metadata": {},
   "source": [
    "\n",
    "**SAS File**\n",
    "\n"
   ]
  },
  {
   "cell_type": "code",
   "execution_count": 130,
   "id": "2503cad1",
   "metadata": {},
   "outputs": [],
   "source": [
    "#!pip install sas7bdat"
   ]
  },
  {
   "cell_type": "code",
   "execution_count": 131,
   "id": "525f227a",
   "metadata": {},
   "outputs": [],
   "source": [
    "from sas7bdat import SAS7BDAT\n",
    "with SAS7BDAT( 'data/cars.sas7bdat') as file: \n",
    "    df_sas = file.to_data_frame()\n"
   ]
  },
  {
   "cell_type": "markdown",
   "id": "7ecdc2b5",
   "metadata": {},
   "source": [
    "\n",
    "**Stata File**\n"
   ]
  },
  {
   "cell_type": "code",
   "execution_count": 133,
   "id": "a75b1a8d",
   "metadata": {},
   "outputs": [],
   "source": [
    "data= pd.read_stata('data/TBL5-1.DTA')"
   ]
  },
  {
   "cell_type": "markdown",
   "id": "a08f4f47",
   "metadata": {},
   "source": [
    "\n",
    "**Excel Spreadsheets**\n"
   ]
  },
  {
   "cell_type": "code",
   "execution_count": 134,
   "id": "7ddb1248",
   "metadata": {},
   "outputs": [],
   "source": [
    "#!pip install xlrd\n",
    "#!pip install openpyxl"
   ]
  },
  {
   "cell_type": "code",
   "execution_count": 135,
   "id": "0a6d05ca",
   "metadata": {},
   "outputs": [],
   "source": [
    "file= 'data/urbanpop.xlsx'\n",
    "data= pd.ExcelFile(file)"
   ]
  },
  {
   "cell_type": "code",
   "execution_count": 156,
   "id": "92b4abf9",
   "metadata": {},
   "outputs": [],
   "source": [
    "df_sheet2 = data.parse('1960-1966',skiprows=[1])"
   ]
  },
  {
   "cell_type": "code",
   "execution_count": 157,
   "id": "bac0496f",
   "metadata": {},
   "outputs": [
    {
     "data": {
      "text/html": [
       "<div>\n",
       "<style scoped>\n",
       "    .dataframe tbody tr th:only-of-type {\n",
       "        vertical-align: middle;\n",
       "    }\n",
       "\n",
       "    .dataframe tbody tr th {\n",
       "        vertical-align: top;\n",
       "    }\n",
       "\n",
       "    .dataframe thead th {\n",
       "        text-align: right;\n",
       "    }\n",
       "</style>\n",
       "<table border=\"1\" class=\"dataframe\">\n",
       "  <thead>\n",
       "    <tr style=\"text-align: right;\">\n",
       "      <th></th>\n",
       "      <th>country</th>\n",
       "      <th>1960</th>\n",
       "      <th>1961</th>\n",
       "      <th>1962</th>\n",
       "      <th>1963</th>\n",
       "      <th>1964</th>\n",
       "      <th>1965</th>\n",
       "      <th>1966</th>\n",
       "    </tr>\n",
       "  </thead>\n",
       "  <tbody>\n",
       "    <tr>\n",
       "      <th>0</th>\n",
       "      <td>Albania</td>\n",
       "      <td>494443.0</td>\n",
       "      <td>5.118028e+05</td>\n",
       "      <td>5.294389e+05</td>\n",
       "      <td>5.473767e+05</td>\n",
       "      <td>5.655718e+05</td>\n",
       "      <td>5.839829e+05</td>\n",
       "      <td>6.025122e+05</td>\n",
       "    </tr>\n",
       "    <tr>\n",
       "      <th>1</th>\n",
       "      <td>Algeria</td>\n",
       "      <td>3293999.0</td>\n",
       "      <td>3.515148e+06</td>\n",
       "      <td>3.739963e+06</td>\n",
       "      <td>3.973289e+06</td>\n",
       "      <td>4.220987e+06</td>\n",
       "      <td>4.488176e+06</td>\n",
       "      <td>4.649105e+06</td>\n",
       "    </tr>\n",
       "    <tr>\n",
       "      <th>2</th>\n",
       "      <td>American Samoa</td>\n",
       "      <td>NaN</td>\n",
       "      <td>1.366030e+04</td>\n",
       "      <td>1.416580e+04</td>\n",
       "      <td>1.475893e+04</td>\n",
       "      <td>1.539642e+04</td>\n",
       "      <td>1.604482e+04</td>\n",
       "      <td>1.669311e+04</td>\n",
       "    </tr>\n",
       "    <tr>\n",
       "      <th>3</th>\n",
       "      <td>Andorra</td>\n",
       "      <td>NaN</td>\n",
       "      <td>8.723921e+03</td>\n",
       "      <td>9.700346e+03</td>\n",
       "      <td>1.074838e+04</td>\n",
       "      <td>1.186586e+04</td>\n",
       "      <td>1.305275e+04</td>\n",
       "      <td>1.421681e+04</td>\n",
       "    </tr>\n",
       "    <tr>\n",
       "      <th>4</th>\n",
       "      <td>Angola</td>\n",
       "      <td>521205.0</td>\n",
       "      <td>5.482650e+05</td>\n",
       "      <td>5.796954e+05</td>\n",
       "      <td>6.120867e+05</td>\n",
       "      <td>6.452616e+05</td>\n",
       "      <td>6.791091e+05</td>\n",
       "      <td>7.178334e+05</td>\n",
       "    </tr>\n",
       "  </tbody>\n",
       "</table>\n",
       "</div>"
      ],
      "text/plain": [
       "          country       1960          1961          1962          1963  \\\n",
       "0         Albania   494443.0  5.118028e+05  5.294389e+05  5.473767e+05   \n",
       "1         Algeria  3293999.0  3.515148e+06  3.739963e+06  3.973289e+06   \n",
       "2  American Samoa        NaN  1.366030e+04  1.416580e+04  1.475893e+04   \n",
       "3         Andorra        NaN  8.723921e+03  9.700346e+03  1.074838e+04   \n",
       "4          Angola   521205.0  5.482650e+05  5.796954e+05  6.120867e+05   \n",
       "\n",
       "           1964          1965          1966  \n",
       "0  5.655718e+05  5.839829e+05  6.025122e+05  \n",
       "1  4.220987e+06  4.488176e+06  4.649105e+06  \n",
       "2  1.539642e+04  1.604482e+04  1.669311e+04  \n",
       "3  1.186586e+04  1.305275e+04  1.421681e+04  \n",
       "4  6.452616e+05  6.791091e+05  7.178334e+05  "
      ]
     },
     "execution_count": 157,
     "metadata": {},
     "output_type": "execute_result"
    }
   ],
   "source": [
    "df_sheet2.head()"
   ]
  },
  {
   "cell_type": "code",
   "execution_count": 160,
   "id": "885ab0e9",
   "metadata": {},
   "outputs": [],
   "source": [
    "df_sheetl = data.parse(1,parse_cols=[0], skiprows=[1])"
   ]
  },
  {
   "cell_type": "code",
   "execution_count": 161,
   "id": "6699ef71",
   "metadata": {},
   "outputs": [
    {
     "data": {
      "text/html": [
       "<div>\n",
       "<style scoped>\n",
       "    .dataframe tbody tr th:only-of-type {\n",
       "        vertical-align: middle;\n",
       "    }\n",
       "\n",
       "    .dataframe tbody tr th {\n",
       "        vertical-align: top;\n",
       "    }\n",
       "\n",
       "    .dataframe thead th {\n",
       "        text-align: right;\n",
       "    }\n",
       "</style>\n",
       "<table border=\"1\" class=\"dataframe\">\n",
       "  <thead>\n",
       "    <tr style=\"text-align: right;\">\n",
       "      <th></th>\n",
       "      <th>country</th>\n",
       "      <th>1967</th>\n",
       "      <th>1968</th>\n",
       "      <th>1969</th>\n",
       "      <th>1970</th>\n",
       "      <th>1971</th>\n",
       "      <th>1972</th>\n",
       "      <th>1973</th>\n",
       "      <th>1974</th>\n",
       "    </tr>\n",
       "  </thead>\n",
       "  <tbody>\n",
       "    <tr>\n",
       "      <th>0</th>\n",
       "      <td>Albania</td>\n",
       "      <td>6.211798e+05</td>\n",
       "      <td>6.399645e+05</td>\n",
       "      <td>6.588531e+05</td>\n",
       "      <td>6.778391e+05</td>\n",
       "      <td>6.989322e+05</td>\n",
       "      <td>7.202066e+05</td>\n",
       "      <td>7.416810e+05</td>\n",
       "      <td>7.633855e+05</td>\n",
       "    </tr>\n",
       "    <tr>\n",
       "      <th>1</th>\n",
       "      <td>Algeria</td>\n",
       "      <td>4.826104e+06</td>\n",
       "      <td>5.017299e+06</td>\n",
       "      <td>5.219332e+06</td>\n",
       "      <td>5.429743e+06</td>\n",
       "      <td>5.619042e+06</td>\n",
       "      <td>5.815734e+06</td>\n",
       "      <td>6.020647e+06</td>\n",
       "      <td>6.235114e+06</td>\n",
       "    </tr>\n",
       "    <tr>\n",
       "      <th>2</th>\n",
       "      <td>American Samoa</td>\n",
       "      <td>1.734866e+04</td>\n",
       "      <td>1.799551e+04</td>\n",
       "      <td>1.861868e+04</td>\n",
       "      <td>1.920639e+04</td>\n",
       "      <td>1.975202e+04</td>\n",
       "      <td>2.026267e+04</td>\n",
       "      <td>2.074197e+04</td>\n",
       "      <td>2.119438e+04</td>\n",
       "    </tr>\n",
       "    <tr>\n",
       "      <th>3</th>\n",
       "      <td>Andorra</td>\n",
       "      <td>1.543962e+04</td>\n",
       "      <td>1.672699e+04</td>\n",
       "      <td>1.808832e+04</td>\n",
       "      <td>1.952896e+04</td>\n",
       "      <td>2.092873e+04</td>\n",
       "      <td>2.240584e+04</td>\n",
       "      <td>2.393705e+04</td>\n",
       "      <td>2.548198e+04</td>\n",
       "    </tr>\n",
       "    <tr>\n",
       "      <th>4</th>\n",
       "      <td>Angola</td>\n",
       "      <td>7.574963e+05</td>\n",
       "      <td>7.984593e+05</td>\n",
       "      <td>8.412620e+05</td>\n",
       "      <td>8.864016e+05</td>\n",
       "      <td>9.550101e+05</td>\n",
       "      <td>1.027397e+06</td>\n",
       "      <td>1.103830e+06</td>\n",
       "      <td>1.184486e+06</td>\n",
       "    </tr>\n",
       "  </tbody>\n",
       "</table>\n",
       "</div>"
      ],
      "text/plain": [
       "          country          1967          1968          1969          1970  \\\n",
       "0         Albania  6.211798e+05  6.399645e+05  6.588531e+05  6.778391e+05   \n",
       "1         Algeria  4.826104e+06  5.017299e+06  5.219332e+06  5.429743e+06   \n",
       "2  American Samoa  1.734866e+04  1.799551e+04  1.861868e+04  1.920639e+04   \n",
       "3         Andorra  1.543962e+04  1.672699e+04  1.808832e+04  1.952896e+04   \n",
       "4          Angola  7.574963e+05  7.984593e+05  8.412620e+05  8.864016e+05   \n",
       "\n",
       "           1971          1972          1973          1974  \n",
       "0  6.989322e+05  7.202066e+05  7.416810e+05  7.633855e+05  \n",
       "1  5.619042e+06  5.815734e+06  6.020647e+06  6.235114e+06  \n",
       "2  1.975202e+04  2.026267e+04  2.074197e+04  2.119438e+04  \n",
       "3  2.092873e+04  2.240584e+04  2.393705e+04  2.548198e+04  \n",
       "4  9.550101e+05  1.027397e+06  1.103830e+06  1.184486e+06  "
      ]
     },
     "execution_count": 161,
     "metadata": {},
     "output_type": "execute_result"
    }
   ],
   "source": [
    "df_sheetl.head()"
   ]
  },
  {
   "cell_type": "markdown",
   "id": "52b53973",
   "metadata": {},
   "source": [
    "\n",
    "To access the sheet names, use the sheet_names attribute:\n",
    "\n"
   ]
  },
  {
   "cell_type": "code",
   "execution_count": 163,
   "id": "9c328767",
   "metadata": {},
   "outputs": [
    {
     "data": {
      "text/plain": [
       "['1960-1966', '1967-1974', '1975-2011']"
      ]
     },
     "execution_count": 163,
     "metadata": {},
     "output_type": "execute_result"
    }
   ],
   "source": [
    "data.sheet_names"
   ]
  },
  {
   "cell_type": "code",
   "execution_count": 5,
   "id": "c20113d8",
   "metadata": {},
   "outputs": [],
   "source": [
    "import pandas as pd"
   ]
  },
  {
   "cell_type": "markdown",
   "id": "ba13324f",
   "metadata": {},
   "source": [
    "\n",
    "### Relational Databases\n",
    "\n"
   ]
  },
  {
   "cell_type": "markdown",
   "id": "3e7bc224",
   "metadata": {},
   "source": [
    "![title](data/Northwind_ERD.png)"
   ]
  },
  {
   "cell_type": "code",
   "execution_count": 6,
   "id": "b3c1bf18",
   "metadata": {},
   "outputs": [],
   "source": [
    "import sqlalchemy as db"
   ]
  },
  {
   "cell_type": "code",
   "execution_count": 34,
   "id": "673d91b2",
   "metadata": {},
   "outputs": [],
   "source": [
    "#Connect with the database\n",
    "engine = db.create_engine('sqlite:///data/Northwind_big.sqlite')"
   ]
  },
  {
   "cell_type": "code",
   "execution_count": 35,
   "id": "e28ab11e",
   "metadata": {},
   "outputs": [],
   "source": [
    "connection = engine.connect()"
   ]
  },
  {
   "cell_type": "code",
   "execution_count": 36,
   "id": "0e0d6244",
   "metadata": {},
   "outputs": [],
   "source": [
    "#Retrieve the Metadata\n",
    "metadata = db.MetaData()"
   ]
  },
  {
   "cell_type": "code",
   "execution_count": 37,
   "id": "a42a7f57",
   "metadata": {},
   "outputs": [
    {
     "ename": "NoSuchTableError",
     "evalue": "Region",
     "output_type": "error",
     "traceback": [
      "\u001b[1;31m---------------------------------------------------------------------------\u001b[0m",
      "\u001b[1;31mNoSuchTableError\u001b[0m                          Traceback (most recent call last)",
      "\u001b[1;32m<ipython-input-37-a411271c8153>\u001b[0m in \u001b[0;36m<module>\u001b[1;34m\u001b[0m\n\u001b[0;32m      1\u001b[0m \u001b[1;31m#Load the shows table\u001b[0m\u001b[1;33m\u001b[0m\u001b[1;33m\u001b[0m\u001b[1;33m\u001b[0m\u001b[0m\n\u001b[1;32m----> 2\u001b[1;33m \u001b[0mshows\u001b[0m \u001b[1;33m=\u001b[0m \u001b[0mdb\u001b[0m\u001b[1;33m.\u001b[0m\u001b[0mTable\u001b[0m\u001b[1;33m(\u001b[0m\u001b[1;34m'Region'\u001b[0m\u001b[1;33m,\u001b[0m \u001b[0mmetadata\u001b[0m\u001b[1;33m,\u001b[0m \u001b[0mautoload\u001b[0m\u001b[1;33m=\u001b[0m\u001b[1;32mTrue\u001b[0m\u001b[1;33m,\u001b[0m \u001b[0mautoload_with\u001b[0m\u001b[1;33m=\u001b[0m\u001b[0mengine\u001b[0m\u001b[1;33m)\u001b[0m\u001b[1;33m\u001b[0m\u001b[1;33m\u001b[0m\u001b[0m\n\u001b[0m",
      "\u001b[1;32m<string>\u001b[0m in \u001b[0;36m__new__\u001b[1;34m(cls, *args, **kw)\u001b[0m\n",
      "\u001b[1;32m~\\AppData\\Roaming\\Python\\Python38\\site-packages\\sqlalchemy\\util\\deprecations.py\u001b[0m in \u001b[0;36mwarned\u001b[1;34m(fn, *args, **kwargs)\u001b[0m\n\u001b[0;32m    137\u001b[0m                     )\n\u001b[0;32m    138\u001b[0m \u001b[1;33m\u001b[0m\u001b[0m\n\u001b[1;32m--> 139\u001b[1;33m             \u001b[1;32mreturn\u001b[0m \u001b[0mfn\u001b[0m\u001b[1;33m(\u001b[0m\u001b[1;33m*\u001b[0m\u001b[0margs\u001b[0m\u001b[1;33m,\u001b[0m \u001b[1;33m**\u001b[0m\u001b[0mkwargs\u001b[0m\u001b[1;33m)\u001b[0m\u001b[1;33m\u001b[0m\u001b[1;33m\u001b[0m\u001b[0m\n\u001b[0m\u001b[0;32m    140\u001b[0m \u001b[1;33m\u001b[0m\u001b[0m\n\u001b[0;32m    141\u001b[0m         \u001b[0mdoc\u001b[0m \u001b[1;33m=\u001b[0m \u001b[0mfn\u001b[0m\u001b[1;33m.\u001b[0m\u001b[0m__doc__\u001b[0m \u001b[1;32mis\u001b[0m \u001b[1;32mnot\u001b[0m \u001b[1;32mNone\u001b[0m \u001b[1;32mand\u001b[0m \u001b[0mfn\u001b[0m\u001b[1;33m.\u001b[0m\u001b[0m__doc__\u001b[0m \u001b[1;32mor\u001b[0m \u001b[1;34m\"\"\u001b[0m\u001b[1;33m\u001b[0m\u001b[1;33m\u001b[0m\u001b[0m\n",
      "\u001b[1;32m~\\AppData\\Roaming\\Python\\Python38\\site-packages\\sqlalchemy\\sql\\schema.py\u001b[0m in \u001b[0;36m__new__\u001b[1;34m(cls, *args, **kw)\u001b[0m\n\u001b[0;32m    561\u001b[0m             \u001b[1;32mexcept\u001b[0m\u001b[1;33m:\u001b[0m\u001b[1;33m\u001b[0m\u001b[1;33m\u001b[0m\u001b[0m\n\u001b[0;32m    562\u001b[0m                 \u001b[1;32mwith\u001b[0m \u001b[0mutil\u001b[0m\u001b[1;33m.\u001b[0m\u001b[0msafe_reraise\u001b[0m\u001b[1;33m(\u001b[0m\u001b[1;33m)\u001b[0m\u001b[1;33m:\u001b[0m\u001b[1;33m\u001b[0m\u001b[1;33m\u001b[0m\u001b[0m\n\u001b[1;32m--> 563\u001b[1;33m                     \u001b[0mmetadata\u001b[0m\u001b[1;33m.\u001b[0m\u001b[0m_remove_table\u001b[0m\u001b[1;33m(\u001b[0m\u001b[0mname\u001b[0m\u001b[1;33m,\u001b[0m \u001b[0mschema\u001b[0m\u001b[1;33m)\u001b[0m\u001b[1;33m\u001b[0m\u001b[1;33m\u001b[0m\u001b[0m\n\u001b[0m\u001b[0;32m    564\u001b[0m \u001b[1;33m\u001b[0m\u001b[0m\n\u001b[0;32m    565\u001b[0m     \u001b[1;33m@\u001b[0m\u001b[0mproperty\u001b[0m\u001b[1;33m\u001b[0m\u001b[1;33m\u001b[0m\u001b[0m\n",
      "\u001b[1;32m~\\AppData\\Roaming\\Python\\Python38\\site-packages\\sqlalchemy\\util\\langhelpers.py\u001b[0m in \u001b[0;36m__exit__\u001b[1;34m(self, type_, value, traceback)\u001b[0m\n\u001b[0;32m     66\u001b[0m             \u001b[0mself\u001b[0m\u001b[1;33m.\u001b[0m\u001b[0m_exc_info\u001b[0m \u001b[1;33m=\u001b[0m \u001b[1;32mNone\u001b[0m  \u001b[1;31m# remove potential circular references\u001b[0m\u001b[1;33m\u001b[0m\u001b[1;33m\u001b[0m\u001b[0m\n\u001b[0;32m     67\u001b[0m             \u001b[1;32mif\u001b[0m \u001b[1;32mnot\u001b[0m \u001b[0mself\u001b[0m\u001b[1;33m.\u001b[0m\u001b[0mwarn_only\u001b[0m\u001b[1;33m:\u001b[0m\u001b[1;33m\u001b[0m\u001b[1;33m\u001b[0m\u001b[0m\n\u001b[1;32m---> 68\u001b[1;33m                 compat.raise_(\n\u001b[0m\u001b[0;32m     69\u001b[0m                     \u001b[0mexc_value\u001b[0m\u001b[1;33m,\u001b[0m\u001b[1;33m\u001b[0m\u001b[1;33m\u001b[0m\u001b[0m\n\u001b[0;32m     70\u001b[0m                     \u001b[0mwith_traceback\u001b[0m\u001b[1;33m=\u001b[0m\u001b[0mexc_tb\u001b[0m\u001b[1;33m,\u001b[0m\u001b[1;33m\u001b[0m\u001b[1;33m\u001b[0m\u001b[0m\n",
      "\u001b[1;32m~\\AppData\\Roaming\\Python\\Python38\\site-packages\\sqlalchemy\\util\\compat.py\u001b[0m in \u001b[0;36mraise_\u001b[1;34m(***failed resolving arguments***)\u001b[0m\n\u001b[0;32m    180\u001b[0m \u001b[1;33m\u001b[0m\u001b[0m\n\u001b[0;32m    181\u001b[0m         \u001b[1;32mtry\u001b[0m\u001b[1;33m:\u001b[0m\u001b[1;33m\u001b[0m\u001b[1;33m\u001b[0m\u001b[0m\n\u001b[1;32m--> 182\u001b[1;33m             \u001b[1;32mraise\u001b[0m \u001b[0mexception\u001b[0m\u001b[1;33m\u001b[0m\u001b[1;33m\u001b[0m\u001b[0m\n\u001b[0m\u001b[0;32m    183\u001b[0m         \u001b[1;32mfinally\u001b[0m\u001b[1;33m:\u001b[0m\u001b[1;33m\u001b[0m\u001b[1;33m\u001b[0m\u001b[0m\n\u001b[0;32m    184\u001b[0m             \u001b[1;31m# credit to\u001b[0m\u001b[1;33m\u001b[0m\u001b[1;33m\u001b[0m\u001b[1;33m\u001b[0m\u001b[0m\n",
      "\u001b[1;32m~\\AppData\\Roaming\\Python\\Python38\\site-packages\\sqlalchemy\\sql\\schema.py\u001b[0m in \u001b[0;36m__new__\u001b[1;34m(cls, *args, **kw)\u001b[0m\n\u001b[0;32m    556\u001b[0m             \u001b[0mmetadata\u001b[0m\u001b[1;33m.\u001b[0m\u001b[0m_add_table\u001b[0m\u001b[1;33m(\u001b[0m\u001b[0mname\u001b[0m\u001b[1;33m,\u001b[0m \u001b[0mschema\u001b[0m\u001b[1;33m,\u001b[0m \u001b[0mtable\u001b[0m\u001b[1;33m)\u001b[0m\u001b[1;33m\u001b[0m\u001b[1;33m\u001b[0m\u001b[0m\n\u001b[0;32m    557\u001b[0m             \u001b[1;32mtry\u001b[0m\u001b[1;33m:\u001b[0m\u001b[1;33m\u001b[0m\u001b[1;33m\u001b[0m\u001b[0m\n\u001b[1;32m--> 558\u001b[1;33m                 \u001b[0mtable\u001b[0m\u001b[1;33m.\u001b[0m\u001b[0m_init\u001b[0m\u001b[1;33m(\u001b[0m\u001b[0mname\u001b[0m\u001b[1;33m,\u001b[0m \u001b[0mmetadata\u001b[0m\u001b[1;33m,\u001b[0m \u001b[1;33m*\u001b[0m\u001b[0margs\u001b[0m\u001b[1;33m,\u001b[0m \u001b[1;33m**\u001b[0m\u001b[0mkw\u001b[0m\u001b[1;33m)\u001b[0m\u001b[1;33m\u001b[0m\u001b[1;33m\u001b[0m\u001b[0m\n\u001b[0m\u001b[0;32m    559\u001b[0m                 \u001b[0mtable\u001b[0m\u001b[1;33m.\u001b[0m\u001b[0mdispatch\u001b[0m\u001b[1;33m.\u001b[0m\u001b[0mafter_parent_attach\u001b[0m\u001b[1;33m(\u001b[0m\u001b[0mtable\u001b[0m\u001b[1;33m,\u001b[0m \u001b[0mmetadata\u001b[0m\u001b[1;33m)\u001b[0m\u001b[1;33m\u001b[0m\u001b[1;33m\u001b[0m\u001b[0m\n\u001b[0;32m    560\u001b[0m                 \u001b[1;32mreturn\u001b[0m \u001b[0mtable\u001b[0m\u001b[1;33m\u001b[0m\u001b[1;33m\u001b[0m\u001b[0m\n",
      "\u001b[1;32m~\\AppData\\Roaming\\Python\\Python38\\site-packages\\sqlalchemy\\sql\\schema.py\u001b[0m in \u001b[0;36m_init\u001b[1;34m(self, name, metadata, *args, **kwargs)\u001b[0m\n\u001b[0;32m    645\u001b[0m         \u001b[1;31m# circular foreign keys\u001b[0m\u001b[1;33m\u001b[0m\u001b[1;33m\u001b[0m\u001b[1;33m\u001b[0m\u001b[0m\n\u001b[0;32m    646\u001b[0m         \u001b[1;32mif\u001b[0m \u001b[0mautoload\u001b[0m\u001b[1;33m:\u001b[0m\u001b[1;33m\u001b[0m\u001b[1;33m\u001b[0m\u001b[0m\n\u001b[1;32m--> 647\u001b[1;33m             self._autoload(\n\u001b[0m\u001b[0;32m    648\u001b[0m                 \u001b[0mmetadata\u001b[0m\u001b[1;33m,\u001b[0m\u001b[1;33m\u001b[0m\u001b[1;33m\u001b[0m\u001b[0m\n\u001b[0;32m    649\u001b[0m                 \u001b[0mautoload_with\u001b[0m\u001b[1;33m,\u001b[0m\u001b[1;33m\u001b[0m\u001b[1;33m\u001b[0m\u001b[0m\n",
      "\u001b[1;32m~\\AppData\\Roaming\\Python\\Python38\\site-packages\\sqlalchemy\\sql\\schema.py\u001b[0m in \u001b[0;36m_autoload\u001b[1;34m(self, metadata, autoload_with, include_columns, exclude_columns, resolve_fks, _extend_on)\u001b[0m\n\u001b[0;32m    668\u001b[0m \u001b[1;33m\u001b[0m\u001b[0m\n\u001b[0;32m    669\u001b[0m         \u001b[1;32mif\u001b[0m \u001b[0mautoload_with\u001b[0m\u001b[1;33m:\u001b[0m\u001b[1;33m\u001b[0m\u001b[1;33m\u001b[0m\u001b[0m\n\u001b[1;32m--> 670\u001b[1;33m             autoload_with.run_callable(\n\u001b[0m\u001b[0;32m    671\u001b[0m                 \u001b[0mautoload_with\u001b[0m\u001b[1;33m.\u001b[0m\u001b[0mdialect\u001b[0m\u001b[1;33m.\u001b[0m\u001b[0mreflecttable\u001b[0m\u001b[1;33m,\u001b[0m\u001b[1;33m\u001b[0m\u001b[1;33m\u001b[0m\u001b[0m\n\u001b[0;32m    672\u001b[0m                 \u001b[0mself\u001b[0m\u001b[1;33m,\u001b[0m\u001b[1;33m\u001b[0m\u001b[1;33m\u001b[0m\u001b[0m\n",
      "\u001b[1;32m~\\AppData\\Roaming\\Python\\Python38\\site-packages\\sqlalchemy\\engine\\base.py\u001b[0m in \u001b[0;36mrun_callable\u001b[1;34m(self, callable_, *args, **kwargs)\u001b[0m\n\u001b[0;32m   2210\u001b[0m         \"\"\"\n\u001b[0;32m   2211\u001b[0m         \u001b[1;32mwith\u001b[0m \u001b[0mself\u001b[0m\u001b[1;33m.\u001b[0m\u001b[0m_contextual_connect\u001b[0m\u001b[1;33m(\u001b[0m\u001b[1;33m)\u001b[0m \u001b[1;32mas\u001b[0m \u001b[0mconn\u001b[0m\u001b[1;33m:\u001b[0m\u001b[1;33m\u001b[0m\u001b[1;33m\u001b[0m\u001b[0m\n\u001b[1;32m-> 2212\u001b[1;33m             \u001b[1;32mreturn\u001b[0m \u001b[0mconn\u001b[0m\u001b[1;33m.\u001b[0m\u001b[0mrun_callable\u001b[0m\u001b[1;33m(\u001b[0m\u001b[0mcallable_\u001b[0m\u001b[1;33m,\u001b[0m \u001b[1;33m*\u001b[0m\u001b[0margs\u001b[0m\u001b[1;33m,\u001b[0m \u001b[1;33m**\u001b[0m\u001b[0mkwargs\u001b[0m\u001b[1;33m)\u001b[0m\u001b[1;33m\u001b[0m\u001b[1;33m\u001b[0m\u001b[0m\n\u001b[0m\u001b[0;32m   2213\u001b[0m \u001b[1;33m\u001b[0m\u001b[0m\n\u001b[0;32m   2214\u001b[0m     \u001b[1;32mdef\u001b[0m \u001b[0mexecute\u001b[0m\u001b[1;33m(\u001b[0m\u001b[0mself\u001b[0m\u001b[1;33m,\u001b[0m \u001b[0mstatement\u001b[0m\u001b[1;33m,\u001b[0m \u001b[1;33m*\u001b[0m\u001b[0mmultiparams\u001b[0m\u001b[1;33m,\u001b[0m \u001b[1;33m**\u001b[0m\u001b[0mparams\u001b[0m\u001b[1;33m)\u001b[0m\u001b[1;33m:\u001b[0m\u001b[1;33m\u001b[0m\u001b[1;33m\u001b[0m\u001b[0m\n",
      "\u001b[1;32m~\\AppData\\Roaming\\Python\\Python38\\site-packages\\sqlalchemy\\engine\\base.py\u001b[0m in \u001b[0;36mrun_callable\u001b[1;34m(self, callable_, *args, **kwargs)\u001b[0m\n\u001b[0;32m   1651\u001b[0m \u001b[1;33m\u001b[0m\u001b[0m\n\u001b[0;32m   1652\u001b[0m         \"\"\"\n\u001b[1;32m-> 1653\u001b[1;33m         \u001b[1;32mreturn\u001b[0m \u001b[0mcallable_\u001b[0m\u001b[1;33m(\u001b[0m\u001b[0mself\u001b[0m\u001b[1;33m,\u001b[0m \u001b[1;33m*\u001b[0m\u001b[0margs\u001b[0m\u001b[1;33m,\u001b[0m \u001b[1;33m**\u001b[0m\u001b[0mkwargs\u001b[0m\u001b[1;33m)\u001b[0m\u001b[1;33m\u001b[0m\u001b[1;33m\u001b[0m\u001b[0m\n\u001b[0m\u001b[0;32m   1654\u001b[0m \u001b[1;33m\u001b[0m\u001b[0m\n\u001b[0;32m   1655\u001b[0m     \u001b[1;32mdef\u001b[0m \u001b[0m_run_visitor\u001b[0m\u001b[1;33m(\u001b[0m\u001b[0mself\u001b[0m\u001b[1;33m,\u001b[0m \u001b[0mvisitorcallable\u001b[0m\u001b[1;33m,\u001b[0m \u001b[0melement\u001b[0m\u001b[1;33m,\u001b[0m \u001b[1;33m**\u001b[0m\u001b[0mkwargs\u001b[0m\u001b[1;33m)\u001b[0m\u001b[1;33m:\u001b[0m\u001b[1;33m\u001b[0m\u001b[1;33m\u001b[0m\u001b[0m\n",
      "\u001b[1;32m~\\AppData\\Roaming\\Python\\Python38\\site-packages\\sqlalchemy\\engine\\default.py\u001b[0m in \u001b[0;36mreflecttable\u001b[1;34m(self, connection, table, include_columns, exclude_columns, resolve_fks, **opts)\u001b[0m\n\u001b[0;32m    482\u001b[0m     ):\n\u001b[0;32m    483\u001b[0m         \u001b[0minsp\u001b[0m \u001b[1;33m=\u001b[0m \u001b[0mreflection\u001b[0m\u001b[1;33m.\u001b[0m\u001b[0mInspector\u001b[0m\u001b[1;33m.\u001b[0m\u001b[0mfrom_engine\u001b[0m\u001b[1;33m(\u001b[0m\u001b[0mconnection\u001b[0m\u001b[1;33m)\u001b[0m\u001b[1;33m\u001b[0m\u001b[1;33m\u001b[0m\u001b[0m\n\u001b[1;32m--> 484\u001b[1;33m         return insp.reflecttable(\n\u001b[0m\u001b[0;32m    485\u001b[0m             \u001b[0mtable\u001b[0m\u001b[1;33m,\u001b[0m \u001b[0minclude_columns\u001b[0m\u001b[1;33m,\u001b[0m \u001b[0mexclude_columns\u001b[0m\u001b[1;33m,\u001b[0m \u001b[0mresolve_fks\u001b[0m\u001b[1;33m,\u001b[0m \u001b[1;33m**\u001b[0m\u001b[0mopts\u001b[0m\u001b[1;33m\u001b[0m\u001b[1;33m\u001b[0m\u001b[0m\n\u001b[0;32m    486\u001b[0m         )\n",
      "\u001b[1;32m~\\AppData\\Roaming\\Python\\Python38\\site-packages\\sqlalchemy\\engine\\reflection.py\u001b[0m in \u001b[0;36mreflecttable\u001b[1;34m(self, table, include_columns, exclude_columns, resolve_fks, _extend_on)\u001b[0m\n\u001b[0;32m    676\u001b[0m \u001b[1;33m\u001b[0m\u001b[0m\n\u001b[0;32m    677\u001b[0m         \u001b[1;32mif\u001b[0m \u001b[1;32mnot\u001b[0m \u001b[0mfound_table\u001b[0m\u001b[1;33m:\u001b[0m\u001b[1;33m\u001b[0m\u001b[1;33m\u001b[0m\u001b[0m\n\u001b[1;32m--> 678\u001b[1;33m             \u001b[1;32mraise\u001b[0m \u001b[0mexc\u001b[0m\u001b[1;33m.\u001b[0m\u001b[0mNoSuchTableError\u001b[0m\u001b[1;33m(\u001b[0m\u001b[0mtable\u001b[0m\u001b[1;33m.\u001b[0m\u001b[0mname\u001b[0m\u001b[1;33m)\u001b[0m\u001b[1;33m\u001b[0m\u001b[1;33m\u001b[0m\u001b[0m\n\u001b[0m\u001b[0;32m    679\u001b[0m \u001b[1;33m\u001b[0m\u001b[0m\n\u001b[0;32m    680\u001b[0m         self._reflect_pk(\n",
      "\u001b[1;31mNoSuchTableError\u001b[0m: Region"
     ]
    }
   ],
   "source": [
    "#Load the shows table\n",
    "shows = db.Table('Region', metadata, autoload=True, autoload_with=engine)"
   ]
  },
  {
   "cell_type": "markdown",
   "id": "9464b2e3",
   "metadata": {},
   "source": [
    "With our table loaded, let’s prepare a query to select all the records from the shows table. In regular SQL, to select all the records, it is “SELECT * FROM shows”. The SQLAlchemy Core query looks like this."
   ]
  },
  {
   "cell_type": "code",
   "execution_count": 12,
   "id": "d47a124b",
   "metadata": {},
   "outputs": [],
   "source": [
    "#Prepare the Query\n",
    "query = db.select([shows])"
   ]
  },
  {
   "cell_type": "code",
   "execution_count": 13,
   "id": "a8d913e5",
   "metadata": {},
   "outputs": [],
   "source": [
    "#Execute the Query\n",
    "result_proxy = connection.execute(query)"
   ]
  },
  {
   "cell_type": "code",
   "execution_count": 14,
   "id": "d398ef10",
   "metadata": {},
   "outputs": [],
   "source": [
    "#Fetch the data.\n",
    "result_set = result_proxy.fetchall()"
   ]
  },
  {
   "cell_type": "code",
   "execution_count": 15,
   "id": "93603362",
   "metadata": {},
   "outputs": [
    {
     "name": "stdout",
     "output_type": "stream",
     "text": [
      "[(1, 'Eastern'), (2, 'Western'), (3, 'Northern'), (4, 'Southern')]\n"
     ]
    }
   ],
   "source": [
    "print(result_set)"
   ]
  },
  {
   "cell_type": "markdown",
   "id": "2ccab05c",
   "metadata": {},
   "source": [
    "\n",
    "**Querying Relational Databases**\n",
    "\n"
   ]
  },
  {
   "cell_type": "markdown",
   "id": "76f3d020",
   "metadata": {},
   "source": [
    "\n",
    "Use the table_names() method to fetch a list of table names:\n"
   ]
  },
  {
   "cell_type": "code",
   "execution_count": 16,
   "id": "680363eb",
   "metadata": {},
   "outputs": [],
   "source": [
    "table_names = engine.table_names()"
   ]
  },
  {
   "cell_type": "code",
   "execution_count": 17,
   "id": "dd07c224",
   "metadata": {},
   "outputs": [
    {
     "data": {
      "text/plain": [
       "['Category',\n",
       " 'Customer',\n",
       " 'CustomerCustomerDemo',\n",
       " 'CustomerDemographic',\n",
       " 'Employee',\n",
       " 'EmployeeTerritory',\n",
       " 'Order',\n",
       " 'OrderDetail',\n",
       " 'Product',\n",
       " 'Region',\n",
       " 'Shipper',\n",
       " 'Supplier',\n",
       " 'Territory']"
      ]
     },
     "execution_count": 17,
     "metadata": {},
     "output_type": "execute_result"
    }
   ],
   "source": [
    "table_names"
   ]
  },
  {
   "cell_type": "code",
   "execution_count": 29,
   "id": "f4a3ce4d",
   "metadata": {},
   "outputs": [],
   "source": [
    "con= engine.connect()"
   ]
  },
  {
   "cell_type": "code",
   "execution_count": 31,
   "id": "b2a31508",
   "metadata": {},
   "outputs": [],
   "source": [
    "rs= con.execute('SELECT * FROM Customer')"
   ]
  },
  {
   "cell_type": "code",
   "execution_count": 32,
   "id": "05aff60c",
   "metadata": {},
   "outputs": [],
   "source": [
    "df = pd.DataFrame(rs.fetchall())"
   ]
  },
  {
   "cell_type": "code",
   "execution_count": 21,
   "id": "0e9b28db",
   "metadata": {},
   "outputs": [
    {
     "data": {
      "text/html": [
       "<div>\n",
       "<style scoped>\n",
       "    .dataframe tbody tr th:only-of-type {\n",
       "        vertical-align: middle;\n",
       "    }\n",
       "\n",
       "    .dataframe tbody tr th {\n",
       "        vertical-align: top;\n",
       "    }\n",
       "\n",
       "    .dataframe thead th {\n",
       "        text-align: right;\n",
       "    }\n",
       "</style>\n",
       "<table border=\"1\" class=\"dataframe\">\n",
       "  <thead>\n",
       "    <tr style=\"text-align: right;\">\n",
       "      <th></th>\n",
       "      <th>0</th>\n",
       "      <th>1</th>\n",
       "      <th>2</th>\n",
       "      <th>3</th>\n",
       "      <th>4</th>\n",
       "      <th>5</th>\n",
       "      <th>6</th>\n",
       "      <th>7</th>\n",
       "      <th>8</th>\n",
       "      <th>9</th>\n",
       "      <th>10</th>\n",
       "    </tr>\n",
       "  </thead>\n",
       "  <tbody>\n",
       "    <tr>\n",
       "      <th>0</th>\n",
       "      <td>ALFKI</td>\n",
       "      <td>Alfreds Futterkiste</td>\n",
       "      <td>Maria Anders</td>\n",
       "      <td>Sales Representative</td>\n",
       "      <td>Obere Str. 57</td>\n",
       "      <td>Berlin</td>\n",
       "      <td>Western Europe</td>\n",
       "      <td>12209</td>\n",
       "      <td>Germany</td>\n",
       "      <td>030-0074321</td>\n",
       "      <td>030-0076545</td>\n",
       "    </tr>\n",
       "    <tr>\n",
       "      <th>1</th>\n",
       "      <td>ANATR</td>\n",
       "      <td>Ana Trujillo Emparedados y helados</td>\n",
       "      <td>Ana Trujillo</td>\n",
       "      <td>Owner</td>\n",
       "      <td>Avda. de la Constitución 2222</td>\n",
       "      <td>México D.F.</td>\n",
       "      <td>Central America</td>\n",
       "      <td>05021</td>\n",
       "      <td>Mexico</td>\n",
       "      <td>(5) 555-4729</td>\n",
       "      <td>(5) 555-3745</td>\n",
       "    </tr>\n",
       "    <tr>\n",
       "      <th>2</th>\n",
       "      <td>ANTON</td>\n",
       "      <td>Antonio Moreno Taquería</td>\n",
       "      <td>Antonio Moreno</td>\n",
       "      <td>Owner</td>\n",
       "      <td>Mataderos  2312</td>\n",
       "      <td>México D.F.</td>\n",
       "      <td>Central America</td>\n",
       "      <td>05023</td>\n",
       "      <td>Mexico</td>\n",
       "      <td>(5) 555-3932</td>\n",
       "      <td>None</td>\n",
       "    </tr>\n",
       "    <tr>\n",
       "      <th>3</th>\n",
       "      <td>AROUT</td>\n",
       "      <td>Around the Horn</td>\n",
       "      <td>Thomas Hardy</td>\n",
       "      <td>Sales Representative</td>\n",
       "      <td>120 Hanover Sq.</td>\n",
       "      <td>London</td>\n",
       "      <td>British Isles</td>\n",
       "      <td>WA1 1DP</td>\n",
       "      <td>UK</td>\n",
       "      <td>(171) 555-7788</td>\n",
       "      <td>(171) 555-6750</td>\n",
       "    </tr>\n",
       "    <tr>\n",
       "      <th>4</th>\n",
       "      <td>BERGS</td>\n",
       "      <td>Berglunds snabbköp</td>\n",
       "      <td>Christina Berglund</td>\n",
       "      <td>Order Administrator</td>\n",
       "      <td>Berguvsvägen  8</td>\n",
       "      <td>Luleå</td>\n",
       "      <td>Northern Europe</td>\n",
       "      <td>S-958 22</td>\n",
       "      <td>Sweden</td>\n",
       "      <td>0921-12 34 65</td>\n",
       "      <td>0921-12 34 67</td>\n",
       "    </tr>\n",
       "  </tbody>\n",
       "</table>\n",
       "</div>"
      ],
      "text/plain": [
       "      0                                   1                   2   \\\n",
       "0  ALFKI                 Alfreds Futterkiste        Maria Anders   \n",
       "1  ANATR  Ana Trujillo Emparedados y helados        Ana Trujillo   \n",
       "2  ANTON             Antonio Moreno Taquería      Antonio Moreno   \n",
       "3  AROUT                     Around the Horn        Thomas Hardy   \n",
       "4  BERGS                  Berglunds snabbköp  Christina Berglund   \n",
       "\n",
       "                     3                              4            5   \\\n",
       "0  Sales Representative                  Obere Str. 57       Berlin   \n",
       "1                 Owner  Avda. de la Constitución 2222  México D.F.   \n",
       "2                 Owner                Mataderos  2312  México D.F.   \n",
       "3  Sales Representative                120 Hanover Sq.       London   \n",
       "4   Order Administrator                Berguvsvägen  8        Luleå   \n",
       "\n",
       "                6         7        8               9               10  \n",
       "0   Western Europe     12209  Germany     030-0074321     030-0076545  \n",
       "1  Central America     05021   Mexico    (5) 555-4729    (5) 555-3745  \n",
       "2  Central America     05023   Mexico    (5) 555-3932            None  \n",
       "3    British Isles   WA1 1DP       UK  (171) 555-7788  (171) 555-6750  \n",
       "4  Northern Europe  S-958 22   Sweden   0921-12 34 65   0921-12 34 67  "
      ]
     },
     "execution_count": 21,
     "metadata": {},
     "output_type": "execute_result"
    }
   ],
   "source": [
    "df.head()"
   ]
  },
  {
   "cell_type": "code",
   "execution_count": 22,
   "id": "75ee7ec5",
   "metadata": {},
   "outputs": [],
   "source": [
    "df.columns = rs.keys()\n"
   ]
  },
  {
   "cell_type": "code",
   "execution_count": 23,
   "id": "85e2a8c1",
   "metadata": {},
   "outputs": [],
   "source": [
    "con.close()"
   ]
  },
  {
   "cell_type": "markdown",
   "id": "ff09a91e",
   "metadata": {},
   "source": [
    "\n",
    "Using the context manager with\n"
   ]
  },
  {
   "cell_type": "code",
   "execution_count": 33,
   "id": "dbb9bd16",
   "metadata": {},
   "outputs": [
    {
     "ename": "OperationalError",
     "evalue": "(sqlite3.OperationalError) no such column: CustomerID\n[SQL: SELECT CustomerID FROM Customer]\n(Background on this error at: http://sqlalche.me/e/13/e3q8)",
     "output_type": "error",
     "traceback": [
      "\u001b[1;31m---------------------------------------------------------------------------\u001b[0m",
      "\u001b[1;31mOperationalError\u001b[0m                          Traceback (most recent call last)",
      "\u001b[1;32m~\\AppData\\Roaming\\Python\\Python38\\site-packages\\sqlalchemy\\engine\\base.py\u001b[0m in \u001b[0;36m_execute_context\u001b[1;34m(self, dialect, constructor, statement, parameters, *args)\u001b[0m\n\u001b[0;32m   1275\u001b[0m                 \u001b[1;32mif\u001b[0m \u001b[1;32mnot\u001b[0m \u001b[0mevt_handled\u001b[0m\u001b[1;33m:\u001b[0m\u001b[1;33m\u001b[0m\u001b[1;33m\u001b[0m\u001b[0m\n\u001b[1;32m-> 1276\u001b[1;33m                     self.dialect.do_execute(\n\u001b[0m\u001b[0;32m   1277\u001b[0m                         \u001b[0mcursor\u001b[0m\u001b[1;33m,\u001b[0m \u001b[0mstatement\u001b[0m\u001b[1;33m,\u001b[0m \u001b[0mparameters\u001b[0m\u001b[1;33m,\u001b[0m \u001b[0mcontext\u001b[0m\u001b[1;33m\u001b[0m\u001b[1;33m\u001b[0m\u001b[0m\n",
      "\u001b[1;32m~\\AppData\\Roaming\\Python\\Python38\\site-packages\\sqlalchemy\\engine\\default.py\u001b[0m in \u001b[0;36mdo_execute\u001b[1;34m(self, cursor, statement, parameters, context)\u001b[0m\n\u001b[0;32m    607\u001b[0m     \u001b[1;32mdef\u001b[0m \u001b[0mdo_execute\u001b[0m\u001b[1;33m(\u001b[0m\u001b[0mself\u001b[0m\u001b[1;33m,\u001b[0m \u001b[0mcursor\u001b[0m\u001b[1;33m,\u001b[0m \u001b[0mstatement\u001b[0m\u001b[1;33m,\u001b[0m \u001b[0mparameters\u001b[0m\u001b[1;33m,\u001b[0m \u001b[0mcontext\u001b[0m\u001b[1;33m=\u001b[0m\u001b[1;32mNone\u001b[0m\u001b[1;33m)\u001b[0m\u001b[1;33m:\u001b[0m\u001b[1;33m\u001b[0m\u001b[1;33m\u001b[0m\u001b[0m\n\u001b[1;32m--> 608\u001b[1;33m         \u001b[0mcursor\u001b[0m\u001b[1;33m.\u001b[0m\u001b[0mexecute\u001b[0m\u001b[1;33m(\u001b[0m\u001b[0mstatement\u001b[0m\u001b[1;33m,\u001b[0m \u001b[0mparameters\u001b[0m\u001b[1;33m)\u001b[0m\u001b[1;33m\u001b[0m\u001b[1;33m\u001b[0m\u001b[0m\n\u001b[0m\u001b[0;32m    609\u001b[0m \u001b[1;33m\u001b[0m\u001b[0m\n",
      "\u001b[1;31mOperationalError\u001b[0m: no such column: CustomerID",
      "\nThe above exception was the direct cause of the following exception:\n",
      "\u001b[1;31mOperationalError\u001b[0m                          Traceback (most recent call last)",
      "\u001b[1;32m<ipython-input-33-a4267f432ad7>\u001b[0m in \u001b[0;36m<module>\u001b[1;34m\u001b[0m\n\u001b[0;32m      1\u001b[0m \u001b[1;32mwith\u001b[0m \u001b[0mengine\u001b[0m\u001b[1;33m.\u001b[0m\u001b[0mconnect\u001b[0m\u001b[1;33m(\u001b[0m\u001b[1;33m)\u001b[0m \u001b[1;32mas\u001b[0m \u001b[0mcon\u001b[0m\u001b[1;33m:\u001b[0m\u001b[1;33m\u001b[0m\u001b[1;33m\u001b[0m\u001b[0m\n\u001b[1;32m----> 2\u001b[1;33m     \u001b[0mrs\u001b[0m\u001b[1;33m=\u001b[0m \u001b[0mcon\u001b[0m\u001b[1;33m.\u001b[0m\u001b[0mexecute\u001b[0m\u001b[1;33m(\u001b[0m\u001b[1;34m'SELECT CustomerID FROM Customer'\u001b[0m\u001b[1;33m)\u001b[0m\u001b[1;33m\u001b[0m\u001b[1;33m\u001b[0m\u001b[0m\n\u001b[0m\u001b[0;32m      3\u001b[0m     \u001b[1;31m#df = pd.DataFrame(rs.fetchmany(size=5))\u001b[0m\u001b[1;33m\u001b[0m\u001b[1;33m\u001b[0m\u001b[1;33m\u001b[0m\u001b[0m\n\u001b[0;32m      4\u001b[0m     \u001b[1;31m#df.columns = rs.keys()\u001b[0m\u001b[1;33m\u001b[0m\u001b[1;33m\u001b[0m\u001b[1;33m\u001b[0m\u001b[0m\n\u001b[0;32m      5\u001b[0m \u001b[1;33m\u001b[0m\u001b[0m\n",
      "\u001b[1;32m~\\AppData\\Roaming\\Python\\Python38\\site-packages\\sqlalchemy\\engine\\base.py\u001b[0m in \u001b[0;36mexecute\u001b[1;34m(self, object_, *multiparams, **params)\u001b[0m\n\u001b[0;32m   1001\u001b[0m         \"\"\"\n\u001b[0;32m   1002\u001b[0m         \u001b[1;32mif\u001b[0m \u001b[0misinstance\u001b[0m\u001b[1;33m(\u001b[0m\u001b[0mobject_\u001b[0m\u001b[1;33m,\u001b[0m \u001b[0mutil\u001b[0m\u001b[1;33m.\u001b[0m\u001b[0mstring_types\u001b[0m\u001b[1;33m[\u001b[0m\u001b[1;36m0\u001b[0m\u001b[1;33m]\u001b[0m\u001b[1;33m)\u001b[0m\u001b[1;33m:\u001b[0m\u001b[1;33m\u001b[0m\u001b[1;33m\u001b[0m\u001b[0m\n\u001b[1;32m-> 1003\u001b[1;33m             \u001b[1;32mreturn\u001b[0m \u001b[0mself\u001b[0m\u001b[1;33m.\u001b[0m\u001b[0m_execute_text\u001b[0m\u001b[1;33m(\u001b[0m\u001b[0mobject_\u001b[0m\u001b[1;33m,\u001b[0m \u001b[0mmultiparams\u001b[0m\u001b[1;33m,\u001b[0m \u001b[0mparams\u001b[0m\u001b[1;33m)\u001b[0m\u001b[1;33m\u001b[0m\u001b[1;33m\u001b[0m\u001b[0m\n\u001b[0m\u001b[0;32m   1004\u001b[0m         \u001b[1;32mtry\u001b[0m\u001b[1;33m:\u001b[0m\u001b[1;33m\u001b[0m\u001b[1;33m\u001b[0m\u001b[0m\n\u001b[0;32m   1005\u001b[0m             \u001b[0mmeth\u001b[0m \u001b[1;33m=\u001b[0m \u001b[0mobject_\u001b[0m\u001b[1;33m.\u001b[0m\u001b[0m_execute_on_connection\u001b[0m\u001b[1;33m\u001b[0m\u001b[1;33m\u001b[0m\u001b[0m\n",
      "\u001b[1;32m~\\AppData\\Roaming\\Python\\Python38\\site-packages\\sqlalchemy\\engine\\base.py\u001b[0m in \u001b[0;36m_execute_text\u001b[1;34m(self, statement, multiparams, params)\u001b[0m\n\u001b[0;32m   1170\u001b[0m         \u001b[0mdialect\u001b[0m \u001b[1;33m=\u001b[0m \u001b[0mself\u001b[0m\u001b[1;33m.\u001b[0m\u001b[0mdialect\u001b[0m\u001b[1;33m\u001b[0m\u001b[1;33m\u001b[0m\u001b[0m\n\u001b[0;32m   1171\u001b[0m         \u001b[0mparameters\u001b[0m \u001b[1;33m=\u001b[0m \u001b[0m_distill_params\u001b[0m\u001b[1;33m(\u001b[0m\u001b[0mmultiparams\u001b[0m\u001b[1;33m,\u001b[0m \u001b[0mparams\u001b[0m\u001b[1;33m)\u001b[0m\u001b[1;33m\u001b[0m\u001b[1;33m\u001b[0m\u001b[0m\n\u001b[1;32m-> 1172\u001b[1;33m         ret = self._execute_context(\n\u001b[0m\u001b[0;32m   1173\u001b[0m             \u001b[0mdialect\u001b[0m\u001b[1;33m,\u001b[0m\u001b[1;33m\u001b[0m\u001b[1;33m\u001b[0m\u001b[0m\n\u001b[0;32m   1174\u001b[0m             \u001b[0mdialect\u001b[0m\u001b[1;33m.\u001b[0m\u001b[0mexecution_ctx_cls\u001b[0m\u001b[1;33m.\u001b[0m\u001b[0m_init_statement\u001b[0m\u001b[1;33m,\u001b[0m\u001b[1;33m\u001b[0m\u001b[1;33m\u001b[0m\u001b[0m\n",
      "\u001b[1;32m~\\AppData\\Roaming\\Python\\Python38\\site-packages\\sqlalchemy\\engine\\base.py\u001b[0m in \u001b[0;36m_execute_context\u001b[1;34m(self, dialect, constructor, statement, parameters, *args)\u001b[0m\n\u001b[0;32m   1314\u001b[0m \u001b[1;33m\u001b[0m\u001b[0m\n\u001b[0;32m   1315\u001b[0m         \u001b[1;32mexcept\u001b[0m \u001b[0mBaseException\u001b[0m \u001b[1;32mas\u001b[0m \u001b[0me\u001b[0m\u001b[1;33m:\u001b[0m\u001b[1;33m\u001b[0m\u001b[1;33m\u001b[0m\u001b[0m\n\u001b[1;32m-> 1316\u001b[1;33m             self._handle_dbapi_exception(\n\u001b[0m\u001b[0;32m   1317\u001b[0m                 \u001b[0me\u001b[0m\u001b[1;33m,\u001b[0m \u001b[0mstatement\u001b[0m\u001b[1;33m,\u001b[0m \u001b[0mparameters\u001b[0m\u001b[1;33m,\u001b[0m \u001b[0mcursor\u001b[0m\u001b[1;33m,\u001b[0m \u001b[0mcontext\u001b[0m\u001b[1;33m\u001b[0m\u001b[1;33m\u001b[0m\u001b[0m\n\u001b[0;32m   1318\u001b[0m             )\n",
      "\u001b[1;32m~\\AppData\\Roaming\\Python\\Python38\\site-packages\\sqlalchemy\\engine\\base.py\u001b[0m in \u001b[0;36m_handle_dbapi_exception\u001b[1;34m(self, e, statement, parameters, cursor, context)\u001b[0m\n\u001b[0;32m   1508\u001b[0m                 \u001b[0mutil\u001b[0m\u001b[1;33m.\u001b[0m\u001b[0mraise_\u001b[0m\u001b[1;33m(\u001b[0m\u001b[0mnewraise\u001b[0m\u001b[1;33m,\u001b[0m \u001b[0mwith_traceback\u001b[0m\u001b[1;33m=\u001b[0m\u001b[0mexc_info\u001b[0m\u001b[1;33m[\u001b[0m\u001b[1;36m2\u001b[0m\u001b[1;33m]\u001b[0m\u001b[1;33m,\u001b[0m \u001b[0mfrom_\u001b[0m\u001b[1;33m=\u001b[0m\u001b[0me\u001b[0m\u001b[1;33m)\u001b[0m\u001b[1;33m\u001b[0m\u001b[1;33m\u001b[0m\u001b[0m\n\u001b[0;32m   1509\u001b[0m             \u001b[1;32melif\u001b[0m \u001b[0mshould_wrap\u001b[0m\u001b[1;33m:\u001b[0m\u001b[1;33m\u001b[0m\u001b[1;33m\u001b[0m\u001b[0m\n\u001b[1;32m-> 1510\u001b[1;33m                 util.raise_(\n\u001b[0m\u001b[0;32m   1511\u001b[0m                     \u001b[0msqlalchemy_exception\u001b[0m\u001b[1;33m,\u001b[0m \u001b[0mwith_traceback\u001b[0m\u001b[1;33m=\u001b[0m\u001b[0mexc_info\u001b[0m\u001b[1;33m[\u001b[0m\u001b[1;36m2\u001b[0m\u001b[1;33m]\u001b[0m\u001b[1;33m,\u001b[0m \u001b[0mfrom_\u001b[0m\u001b[1;33m=\u001b[0m\u001b[0me\u001b[0m\u001b[1;33m\u001b[0m\u001b[1;33m\u001b[0m\u001b[0m\n\u001b[0;32m   1512\u001b[0m                 )\n",
      "\u001b[1;32m~\\AppData\\Roaming\\Python\\Python38\\site-packages\\sqlalchemy\\util\\compat.py\u001b[0m in \u001b[0;36mraise_\u001b[1;34m(***failed resolving arguments***)\u001b[0m\n\u001b[0;32m    180\u001b[0m \u001b[1;33m\u001b[0m\u001b[0m\n\u001b[0;32m    181\u001b[0m         \u001b[1;32mtry\u001b[0m\u001b[1;33m:\u001b[0m\u001b[1;33m\u001b[0m\u001b[1;33m\u001b[0m\u001b[0m\n\u001b[1;32m--> 182\u001b[1;33m             \u001b[1;32mraise\u001b[0m \u001b[0mexception\u001b[0m\u001b[1;33m\u001b[0m\u001b[1;33m\u001b[0m\u001b[0m\n\u001b[0m\u001b[0;32m    183\u001b[0m         \u001b[1;32mfinally\u001b[0m\u001b[1;33m:\u001b[0m\u001b[1;33m\u001b[0m\u001b[1;33m\u001b[0m\u001b[0m\n\u001b[0;32m    184\u001b[0m             \u001b[1;31m# credit to\u001b[0m\u001b[1;33m\u001b[0m\u001b[1;33m\u001b[0m\u001b[1;33m\u001b[0m\u001b[0m\n",
      "\u001b[1;32m~\\AppData\\Roaming\\Python\\Python38\\site-packages\\sqlalchemy\\engine\\base.py\u001b[0m in \u001b[0;36m_execute_context\u001b[1;34m(self, dialect, constructor, statement, parameters, *args)\u001b[0m\n\u001b[0;32m   1274\u001b[0m                             \u001b[1;32mbreak\u001b[0m\u001b[1;33m\u001b[0m\u001b[1;33m\u001b[0m\u001b[0m\n\u001b[0;32m   1275\u001b[0m                 \u001b[1;32mif\u001b[0m \u001b[1;32mnot\u001b[0m \u001b[0mevt_handled\u001b[0m\u001b[1;33m:\u001b[0m\u001b[1;33m\u001b[0m\u001b[1;33m\u001b[0m\u001b[0m\n\u001b[1;32m-> 1276\u001b[1;33m                     self.dialect.do_execute(\n\u001b[0m\u001b[0;32m   1277\u001b[0m                         \u001b[0mcursor\u001b[0m\u001b[1;33m,\u001b[0m \u001b[0mstatement\u001b[0m\u001b[1;33m,\u001b[0m \u001b[0mparameters\u001b[0m\u001b[1;33m,\u001b[0m \u001b[0mcontext\u001b[0m\u001b[1;33m\u001b[0m\u001b[1;33m\u001b[0m\u001b[0m\n\u001b[0;32m   1278\u001b[0m                     )\n",
      "\u001b[1;32m~\\AppData\\Roaming\\Python\\Python38\\site-packages\\sqlalchemy\\engine\\default.py\u001b[0m in \u001b[0;36mdo_execute\u001b[1;34m(self, cursor, statement, parameters, context)\u001b[0m\n\u001b[0;32m    606\u001b[0m \u001b[1;33m\u001b[0m\u001b[0m\n\u001b[0;32m    607\u001b[0m     \u001b[1;32mdef\u001b[0m \u001b[0mdo_execute\u001b[0m\u001b[1;33m(\u001b[0m\u001b[0mself\u001b[0m\u001b[1;33m,\u001b[0m \u001b[0mcursor\u001b[0m\u001b[1;33m,\u001b[0m \u001b[0mstatement\u001b[0m\u001b[1;33m,\u001b[0m \u001b[0mparameters\u001b[0m\u001b[1;33m,\u001b[0m \u001b[0mcontext\u001b[0m\u001b[1;33m=\u001b[0m\u001b[1;32mNone\u001b[0m\u001b[1;33m)\u001b[0m\u001b[1;33m:\u001b[0m\u001b[1;33m\u001b[0m\u001b[1;33m\u001b[0m\u001b[0m\n\u001b[1;32m--> 608\u001b[1;33m         \u001b[0mcursor\u001b[0m\u001b[1;33m.\u001b[0m\u001b[0mexecute\u001b[0m\u001b[1;33m(\u001b[0m\u001b[0mstatement\u001b[0m\u001b[1;33m,\u001b[0m \u001b[0mparameters\u001b[0m\u001b[1;33m)\u001b[0m\u001b[1;33m\u001b[0m\u001b[1;33m\u001b[0m\u001b[0m\n\u001b[0m\u001b[0;32m    609\u001b[0m \u001b[1;33m\u001b[0m\u001b[0m\n\u001b[0;32m    610\u001b[0m     \u001b[1;32mdef\u001b[0m \u001b[0mdo_execute_no_params\u001b[0m\u001b[1;33m(\u001b[0m\u001b[0mself\u001b[0m\u001b[1;33m,\u001b[0m \u001b[0mcursor\u001b[0m\u001b[1;33m,\u001b[0m \u001b[0mstatement\u001b[0m\u001b[1;33m,\u001b[0m \u001b[0mcontext\u001b[0m\u001b[1;33m=\u001b[0m\u001b[1;32mNone\u001b[0m\u001b[1;33m)\u001b[0m\u001b[1;33m:\u001b[0m\u001b[1;33m\u001b[0m\u001b[1;33m\u001b[0m\u001b[0m\n",
      "\u001b[1;31mOperationalError\u001b[0m: (sqlite3.OperationalError) no such column: CustomerID\n[SQL: SELECT CustomerID FROM Customer]\n(Background on this error at: http://sqlalche.me/e/13/e3q8)"
     ]
    }
   ],
   "source": [
    "with engine.connect() as con:\n",
    "    rs= con.execute('SELECT CustomerID FROM Customer')\n",
    "    #df = pd.DataFrame(rs.fetchmany(size=5)) \n",
    "    #df.columns = rs.keys()\n",
    "\n"
   ]
  },
  {
   "cell_type": "markdown",
   "id": "8701bb28",
   "metadata": {},
   "source": [
    "\n",
    "**Querying relational databases with pandas**\n"
   ]
  },
  {
   "cell_type": "code",
   "execution_count": null,
   "id": "4da88bdb",
   "metadata": {},
   "outputs": [],
   "source": [
    "\n",
    "df = pd.read_sql_query( ''SELECT*  FROM Orders'', engine)\n"
   ]
  },
  {
   "cell_type": "markdown",
   "id": "13db7c10",
   "metadata": {},
   "source": [
    "\n",
    "Pickled File\n",
    "\n"
   ]
  },
  {
   "cell_type": "code",
   "execution_count": null,
   "id": "f7c6a3e1",
   "metadata": {},
   "outputs": [],
   "source": [
    "\n",
    " import pickle\n",
    " with open('pickled_fruit.pkl', 'rb' ) as file: pickled_data = pickle.load(file)\n",
    "\n"
   ]
  },
  {
   "cell_type": "markdown",
   "id": "1a360872",
   "metadata": {},
   "source": [
    "\n",
    "Matlab File\n"
   ]
  },
  {
   "cell_type": "code",
   "execution_count": null,
   "id": "e5187d77",
   "metadata": {},
   "outputs": [],
   "source": [
    "\n",
    "     import scipy.io\n",
    "    filename= 1 workspace.m at 1\n",
    "    mat= scipy.io.loadmat(filename)\n"
   ]
  },
  {
   "cell_type": "markdown",
   "id": "c61410b8",
   "metadata": {},
   "source": [
    "\n",
    "HDF5 Files\n",
    "\n"
   ]
  },
  {
   "cell_type": "code",
   "execution_count": null,
   "id": "e6ecb8f7",
   "metadata": {},
   "outputs": [],
   "source": [
    "\n",
    " import h5py\n",
    "filename= 'file.hdf5'\n",
    "data= h5py.File(filename, 'r' )\n"
   ]
  },
  {
   "cell_type": "markdown",
   "id": "4a09649c",
   "metadata": {},
   "source": [
    "## Exploring Dictionaries\n",
    "\n",
    "**Querying relational databases with pandas**\n",
    "\n"
   ]
  },
  {
   "cell_type": "code",
   "execution_count": null,
   "id": "7a2208f9",
   "metadata": {},
   "outputs": [],
   "source": [
    "\n",
    " print(mat.keys()) #Print dictionary keys\n",
    " for key in data.keys(): #Print dictionary keys\n",
    "print(key)\n"
   ]
  },
  {
   "cell_type": "markdown",
   "id": "e2c6388a",
   "metadata": {},
   "source": [
    "\n",
    "meta quality strain\n"
   ]
  },
  {
   "cell_type": "code",
   "execution_count": null,
   "id": "605a5c87",
   "metadata": {},
   "outputs": [],
   "source": [
    "\n",
    " pickled_data.values() #Return dictionary values\n",
    " print(mat.items()) #Returns items in list format of (key, value) tuple pairs\n",
    "\n"
   ]
  },
  {
   "cell_type": "markdown",
   "id": "17fa802e",
   "metadata": {},
   "source": [
    "\n",
    "**Accessing Data Items with Keys**\n",
    "\n"
   ]
  },
  {
   "cell_type": "code",
   "execution_count": null,
   "id": "70cd0f69",
   "metadata": {},
   "outputs": [],
   "source": [
    "\n",
    " for key in data['meta'].keys() #Explore the HOF5\n"
   ]
  },
  {
   "cell_type": "markdown",
   "id": "29ab763c",
   "metadata": {},
   "source": [
    "\n",
    "structure\n"
   ]
  },
  {
   "cell_type": "code",
   "execution_count": null,
   "id": "0fec6c3f",
   "metadata": {},
   "outputs": [],
   "source": [
    "\n",
    "print(key) Description DescriptionURL Detector\n",
    "Duration GPSstart Observatory Type UTCstart"
   ]
  },
  {
   "cell_type": "code",
   "execution_count": null,
   "id": "21296e51",
   "metadata": {},
   "outputs": [],
   "source": [
    "\n",
    "#Retrieve the value for a key\n",
    " print(data['meta']['Description'].value)\n",
    "\n"
   ]
  },
  {
   "cell_type": "markdown",
   "id": "070111ca",
   "metadata": {},
   "source": [
    "\n",
    "### Navigating Your FileSystem\n",
    "\n",
    "**Magic Commands**\n",
    "\n"
   ]
  },
  {
   "cell_type": "markdown",
   "id": "e2e3e467",
   "metadata": {},
   "source": [
    "\n",
    "!ls #List directory contents of files and directories\n",
    "%cd .. #Change current working directory\n",
    "%pwd #Return the current working directory path\n",
    "\n"
   ]
  },
  {
   "cell_type": "markdown",
   "id": "7f864b65",
   "metadata": {},
   "source": [
    "\n",
    "**OS Library**\n",
    "\n"
   ]
  },
  {
   "cell_type": "code",
   "execution_count": null,
   "id": "988c9dfc",
   "metadata": {},
   "outputs": [],
   "source": [
    "\n",
    " import os\n",
    " path = \"/usr/tmp\"\n",
    " wd = os.getcwd() #Store the name of current directory in a string\n",
    " os.listdir(wd) #Output contents of the directory in a list\n",
    " os.chdir(path) #Change current working directory\n",
    " os.rename( \"testl.txt\", #Rename a file\n",
    "                \"test2.txt\" )\n",
    " os.remove( \"test1. txt\") #Oelete an existing file\n",
    " os.mkdir( \"newdir\") #Create a new directory\n",
    "\n"
   ]
  },
  {
   "cell_type": "markdown",
   "id": "7c02e7d3",
   "metadata": {},
   "source": [
    "\n",
    "**Pivot**\n",
    "\n"
   ]
  },
  {
   "cell_type": "code",
   "execution_count": null,
   "id": "2c39b95f",
   "metadata": {},
   "outputs": [],
   "source": [
    "\n",
    " df3= df2.pivot(inde x='Date', #Spread rows into columns\n",
    "col umns= 'Type' ,\n",
    "values='Value' )\n",
    "\n"
   ]
  },
  {
   "cell_type": "markdown",
   "id": "0a14df79",
   "metadata": {},
   "source": [
    "\n",
    "**Pivot Table**\n"
   ]
  },
  {
   "cell_type": "code",
   "execution_count": null,
   "id": "e5557df1",
   "metadata": {},
   "outputs": [],
   "source": [
    "\n",
    "\n",
    "df4 = pd.pivot_table(df2, #Spread rows into\n",
    "columns values='Value', index='Date', columns='Type'])\n",
    "\n"
   ]
  },
  {
   "cell_type": "markdown",
   "id": "5d6c5051",
   "metadata": {},
   "source": [
    "\n",
    "**Stack** / **Unstack**\n",
    "\n"
   ]
  },
  {
   "cell_type": "code",
   "execution_count": null,
   "id": "53c446c2",
   "metadata": {},
   "outputs": [],
   "source": [
    "\n",
    "stacked= df5.stack() #Pivot o level of column labels\n",
    "stacked.unstack() #Pivot o level of index labels\n",
    "\n"
   ]
  },
  {
   "cell_type": "markdown",
   "id": "c86f0475",
   "metadata": {},
   "source": [
    "\n",
    "**Melt**\n",
    "\n"
   ]
  },
  {
   "cell_type": "code",
   "execution_count": null,
   "id": "db6e665b",
   "metadata": {},
   "outputs": [],
   "source": [
    "pd.melt(df2, #Gather columns into rows\n",
    "        id _vars=['Date'],     \n",
    "        value_var s=['Type','Value'], \n",
    "        value name='Observations')"
   ]
  },
  {
   "cell_type": "markdown",
   "id": "9a0f6f17",
   "metadata": {},
   "source": [
    "### Iteration"
   ]
  },
  {
   "cell_type": "code",
   "execution_count": null,
   "id": "4c62e32f",
   "metadata": {},
   "outputs": [],
   "source": [
    "df.iteritems() #{Column-index, Series) pairs\n",
    "df.iterrows() #{Row-index, Series) pairs"
   ]
  },
  {
   "cell_type": "markdown",
   "id": "8a98c83f",
   "metadata": {},
   "source": [
    "### Missing Data"
   ]
  },
  {
   "cell_type": "code",
   "execution_count": null,
   "id": "c7de59ca",
   "metadata": {},
   "outputs": [],
   "source": [
    "df.dropna() #Drop NaN values\n",
    "df3.fillna(df3.mean()) #Fill NaN values with o predetermined value\n",
    "df2.replace(\"a\" , \"f\") #Replace values with others"
   ]
  },
  {
   "cell_type": "markdown",
   "id": "953a0d02",
   "metadata": {},
   "source": [
    "\n",
    "### Advanced Indexing\n",
    "\n",
    "**Selecting**\n",
    "\n"
   ]
  },
  {
   "cell_type": "code",
   "execution_count": null,
   "id": "9be301c1",
   "metadata": {},
   "outputs": [],
   "source": [
    "df3.loc[:,(df3>1).any()] #Select cols with any vols >1\n",
    "df3.loc[:,(df3>1).all()] #Select cols with vols> 1\n",
    "df3.loc[:,df3.isnull().any()] #Select cols with NaN\n",
    "df3.loc[:,df3.notnull().all()] #Select cols without NaN"
   ]
  },
  {
   "cell_type": "markdown",
   "id": "5b9d0b77",
   "metadata": {},
   "source": [
    "\n",
    "**Indexing With** isin ()\n"
   ]
  },
  {
   "cell_type": "code",
   "execution_count": null,
   "id": "ab8f8b2b",
   "metadata": {},
   "outputs": [],
   "source": [
    "\n",
    "\n",
    " df[(df.Country.isin(df2.Type))] #Find some elements\n",
    " df3.filter(iterns=\"a\",\"b\"]) #Filter on values\n",
    " df.select(lambda x: not x%5) #Select specific elements\n"
   ]
  },
  {
   "cell_type": "markdown",
   "id": "8a998153",
   "metadata": {},
   "source": [
    "\n",
    "\n",
    "**Where**\n",
    "\n"
   ]
  },
  {
   "cell_type": "code",
   "execution_count": null,
   "id": "d0cea8e5",
   "metadata": {},
   "outputs": [],
   "source": [
    "\n",
    " s.where(s > 0) #Subset the data\n",
    "\n"
   ]
  },
  {
   "cell_type": "markdown",
   "id": "f8ff4da3",
   "metadata": {},
   "source": [
    "\n",
    "**Query**\n",
    "\n"
   ]
  },
  {
   "cell_type": "code",
   "execution_count": null,
   "id": "7cca8ab7",
   "metadata": {},
   "outputs": [],
   "source": [
    " df6.query('second > first') #Query DataFrame"
   ]
  },
  {
   "cell_type": "code",
   "execution_count": null,
   "id": "0db074d9",
   "metadata": {},
   "outputs": [],
   "source": [
    "**Setting/Resetting Index**"
   ]
  },
  {
   "cell_type": "code",
   "execution_count": null,
   "id": "8e5c52a0",
   "metadata": {},
   "outputs": [],
   "source": [
    " df.set_index('Country' ) #Set the index\n",
    " df4 = df.reset_index() #Reset the index\n",
    " df = df.rename(index=str, #Rename\n",
    "            DataFrame columns={ \"Country\":\"cntry\",\n",
    "                                \"Capital':\"cptl\",\n",
    "                                \"Population\":pplt})"
   ]
  },
  {
   "cell_type": "markdown",
   "id": "9344c2c7",
   "metadata": {},
   "source": [
    "**Reindexing**"
   ]
  },
  {
   "cell_type": "code",
   "execution_count": null,
   "id": "8fbd2377",
   "metadata": {},
   "outputs": [],
   "source": [
    "s2=s.reindex(['a','c','d','e','b'])"
   ]
  },
  {
   "cell_type": "markdown",
   "id": "27349aa8",
   "metadata": {},
   "source": [
    "**Forward Filling**"
   ]
  },
  {
   "cell_type": "code",
   "execution_count": null,
   "id": "67d27dbc",
   "metadata": {},
   "outputs": [],
   "source": [
    " df.reindex( range(4),\n",
    "                method= 'ffill')"
   ]
  },
  {
   "cell_type": "markdown",
   "id": "51f559b2",
   "metadata": {},
   "source": [
    "        Country Capital     Population  \n",
    "    0   Belgium Brussels    11190846    \n",
    "    1   India   New Delhi   1303171035  \n",
    "    2   Brazil  Brasilia    207847528   \n",
    "    3   Brazil  Brasilia    207847528"
   ]
  },
  {
   "cell_type": "markdown",
   "id": "97938736",
   "metadata": {},
   "source": [
    "**Backward Filling**"
   ]
  },
  {
   "cell_type": "code",
   "execution_count": null,
   "id": "e40f600d",
   "metadata": {},
   "outputs": [],
   "source": [
    " s3 = s.reindex( range(5),\n",
    "                    method= 'bfill')"
   ]
  },
  {
   "cell_type": "code",
   "execution_count": null,
   "id": "3f871d09",
   "metadata": {},
   "outputs": [],
   "source": [
    "    0   3\n",
    "    1   3\n",
    "    2   3\n",
    "    3   3\n",
    "    4   3"
   ]
  },
  {
   "cell_type": "markdown",
   "id": "5caae5af",
   "metadata": {},
   "source": [
    "**Multilndexing**"
   ]
  },
  {
   "cell_type": "code",
   "execution_count": null,
   "id": "519296e2",
   "metadata": {},
   "outputs": [],
   "source": [
    "arrays= [np.array([l,2,3]),\n",
    "np.array([5,4,3])]\n",
    " df5 = pd.DataFrame(np.random.rand(3, 2), index=arrays)\n",
    "tuples= list(zip(*arrays))\n",
    "index= pd.Multilndex.from_tuples(tuples,\n",
    "names= [ 'first' , 'second' ])\n",
    " df6 = pd.DataFrame(np.random.rand(3, 2), index=index)\n",
    " df2.set_index([ \"Date\", \"Type\"])"
   ]
  },
  {
   "cell_type": "markdown",
   "id": "31e161d4",
   "metadata": {},
   "source": [
    "### Duplicate Data"
   ]
  },
  {
   "cell_type": "code",
   "execution_count": null,
   "id": "7c7f3f9d",
   "metadata": {},
   "outputs": [],
   "source": [
    " s3.unique() #Return unique values\n",
    " df2.duplicated('Type') #Check duplicates\n",
    " df2.drop_dup licates( 'Type', keep='last') #Drop duplicates\n",
    " df.index.duplicated() #Check index duplicates"
   ]
  },
  {
   "cell_type": "markdown",
   "id": "3da661f2",
   "metadata": {},
   "source": [
    "### Grouping Data\n",
    "\n",
    "**Aggregation**"
   ]
  },
  {
   "cell_type": "code",
   "execution_count": null,
   "id": "e04f609c",
   "metadata": {},
   "outputs": [],
   "source": [
    " df2.groupby(by=['Date','Type']).mean()\n",
    " df4.groupby(level=0).sum()\n",
    " df4.groupby(level=0).agg({ 'a':lambda x:sum(x)/len (x), 'b': np.sum})"
   ]
  },
  {
   "cell_type": "markdown",
   "id": "db4358ef",
   "metadata": {},
   "source": [
    "**Transformation**"
   ]
  },
  {
   "cell_type": "code",
   "execution_count": null,
   "id": "8526b97c",
   "metadata": {},
   "outputs": [],
   "source": [
    " customSum = lambda x: (x+x%2)\n",
    " df4.groupby(level=0).transform(customSum)"
   ]
  },
  {
   "cell_type": "markdown",
   "id": "bd1ab10e",
   "metadata": {},
   "source": [
    "## Combining Data"
   ]
  },
  {
   "cell_type": "markdown",
   "id": "e43b3d2f",
   "metadata": {},
   "source": [
    "**Merge**"
   ]
  },
  {
   "cell_type": "code",
   "execution_count": null,
   "id": "e3a70360",
   "metadata": {},
   "outputs": [],
   "source": [
    " pd.merge(data1,\n",
    "            data2,\n",
    "            how = 'left' ,\n",
    "            on='X1')"
   ]
  },
  {
   "cell_type": "code",
   "execution_count": null,
   "id": "444cd73f",
   "metadata": {},
   "outputs": [],
   "source": [
    " pd.merge(data1,\n",
    "            data2,\n",
    "            how = 'right' ,\n",
    "            on='X1')"
   ]
  },
  {
   "cell_type": "code",
   "execution_count": null,
   "id": "54cff571",
   "metadata": {},
   "outputs": [],
   "source": [
    " pd.merge(data1,\n",
    "            data2,   \n",
    "            how='inner',\n",
    "            on='X1')"
   ]
  },
  {
   "cell_type": "code",
   "execution_count": null,
   "id": "aa316281",
   "metadata": {},
   "outputs": [],
   "source": []
  },
  {
   "cell_type": "code",
   "execution_count": null,
   "id": "2ce6fde4",
   "metadata": {},
   "outputs": [],
   "source": [
    " pd.merge(data1,\n",
    "            data2,    \n",
    "             how='outer',\n",
    "             on='X1')"
   ]
  },
  {
   "cell_type": "markdown",
   "id": "38c0749a",
   "metadata": {},
   "source": [
    "**Join**"
   ]
  },
  {
   "cell_type": "code",
   "execution_count": null,
   "id": "b94f807b",
   "metadata": {},
   "outputs": [],
   "source": [
    " datal.join(data2, ho w='righ t')"
   ]
  },
  {
   "cell_type": "markdown",
   "id": "774ef36a",
   "metadata": {},
   "source": [
    "**Concatenate**"
   ]
  },
  {
   "cell_type": "markdown",
   "id": "d9cf9ef2",
   "metadata": {},
   "source": [
    "**Vertical**"
   ]
  },
  {
   "cell_type": "code",
   "execution_count": null,
   "id": "2549089d",
   "metadata": {},
   "outputs": [],
   "source": [
    "     s.append(s2)"
   ]
  },
  {
   "cell_type": "markdown",
   "id": "18b95f5d",
   "metadata": {},
   "source": [
    "**Horizontal/Vertical**"
   ]
  },
  {
   "cell_type": "code",
   "execution_count": null,
   "id": "6616ebf1",
   "metadata": {},
   "outputs": [],
   "source": [
    " pd.concat([s,s2],axis=l, keys=['One' ,'Two'])\n",
    " pd.concat([data1, data2], axis=l, join='inner')"
   ]
  },
  {
   "cell_type": "markdown",
   "id": "9ed8309c",
   "metadata": {},
   "source": [
    "### Dates"
   ]
  },
  {
   "cell_type": "code",
   "execution_count": null,
   "id": "162561bb",
   "metadata": {},
   "outputs": [],
   "source": [
    " df2['Date']= pd.to_da tetime(d f2['Date'])\n",
    " df2['Date']= pd.da te_range( '2000-1-1',\n",
    "periods=6, freq='M' )\n",
    "dates= [datetime(2012,5,1), datetime(2012,5,2)]\n",
    "index= pd.Datetimelndex(dates)\n",
    "index= pd.date_range(datetime(2012,2,1), end, freq='BM' )"
   ]
  },
  {
   "cell_type": "code",
   "execution_count": null,
   "id": "5e18205e",
   "metadata": {},
   "outputs": [],
   "source": [
    "### Visualization"
   ]
  },
  {
   "cell_type": "code",
   "execution_count": null,
   "id": "00a42c6d",
   "metadata": {},
   "outputs": [],
   "source": [
    " import matplotlib.pyplot as plt\n",
    " s.plot()\n",
    " plt.show()"
   ]
  },
  {
   "cell_type": "code",
   "execution_count": null,
   "id": "2afa089a",
   "metadata": {},
   "outputs": [],
   "source": [
    "df2.plot()\n",
    "plt.show()"
   ]
  },
  {
   "cell_type": "code",
   "execution_count": null,
   "id": "a56046db",
   "metadata": {},
   "outputs": [],
   "source": [
    "# Section 3\n",
    "\n",
    "# Data Wrangling with Pandas"
   ]
  },
  {
   "cell_type": "code",
   "execution_count": null,
   "id": "f45fc2d8",
   "metadata": {},
   "outputs": [],
   "source": [
    "<span class=\"image\"></span>"
   ]
  },
  {
   "cell_type": "code",
   "execution_count": null,
   "id": "ec498ad7",
   "metadata": {},
   "outputs": [],
   "source": [
    "The **Pandas** library is built on NumPy and provides easy-to-use **data\n",
    "structures** and **data analysis** tools for the Python programming\n",
    "language.\n",
    "\n",
    "**Use the following import convention:**"
   ]
  },
  {
   "cell_type": "code",
   "execution_count": null,
   "id": "5d66f757",
   "metadata": {},
   "outputs": [],
   "source": [
    " import pandas as pd"
   ]
  },
  {
   "cell_type": "code",
   "execution_count": null,
   "id": "1fcd314d",
   "metadata": {},
   "outputs": [],
   "source": [
    "### Pandas Data Structure\n",
    "\n",
    "**Series**\n",
    "\n",
    "A **one-dimensional** labeled array\n",
    "\n",
    "capable of holding any data type"
   ]
  },
  {
   "cell_type": "code",
   "execution_count": null,
   "id": "d84d5e76",
   "metadata": {},
   "outputs": [],
   "source": [
    "  s = pd.Series([3,-5,7, s], index=['a','b','c','d'])"
   ]
  },
  {
   "cell_type": "code",
   "execution_count": null,
   "id": "4a076cf9",
   "metadata": {},
   "outputs": [],
   "source": [
    "<span class=\"image\"></span>"
   ]
  },
  {
   "cell_type": "code",
   "execution_count": null,
   "id": "ac4075d2",
   "metadata": {},
   "outputs": [],
   "source": [
    "**Dataframe**\n",
    "\n",
    "A **two-dimensional** labeled data structure with columns of potentially\n",
    "different types"
   ]
  },
  {
   "cell_type": "code",
   "execution_count": null,
   "id": "af2daf4c",
   "metadata": {},
   "outputs": [],
   "source": [
    "     data = { 'Country' : ['Belgium' ,'India ',' Brazil'  ] ,\n",
    "                  'Capital': ['Brussels','New Delhi','Brasilia'] ,\n",
    "                'Population': [111908s6, 1303171035, 207847528]}\n",
    "     df = pd.DataFrame(data,columns=[ 'Country' , 'Capital' , 'Population' ])"
   ]
  },
  {
   "cell_type": "code",
   "execution_count": null,
   "id": "2fc4c207",
   "metadata": {},
   "outputs": [],
   "source": [
    "**Dropping**"
   ]
  },
  {
   "cell_type": "code",
   "execution_count": null,
   "id": "9e79dcda",
   "metadata": {},
   "outputs": [],
   "source": [
    " s.drop(['a', 'c']) #Drop values from rows (axis=B)\n",
    " df.drop( 'Country', axis=l) #Drop values from columns(axis=l)"
   ]
  },
  {
   "cell_type": "code",
   "execution_count": null,
   "id": "8ba39caa",
   "metadata": {},
   "outputs": [],
   "source": [
    "**Sort & Rank**"
   ]
  },
  {
   "cell_type": "code",
   "execution_count": null,
   "id": "bfcb5b0e",
   "metadata": {},
   "outputs": [],
   "source": [
    " df.sort_index() #Sort by labels along an axis\n",
    " df.sort_values( by='Country') #Sort by the values along on axis\n",
    " df.rank() #Assign ranks to entries"
   ]
  },
  {
   "cell_type": "code",
   "execution_count": null,
   "id": "c5690e5d",
   "metadata": {},
   "outputs": [],
   "source": [
    "### I/O\n",
    "\n",
    "**Read and Write to CSV**"
   ]
  },
  {
   "cell_type": "code",
   "execution_count": null,
   "id": "8c55cd40",
   "metadata": {},
   "outputs": [],
   "source": [
    " pd.read_csv('file.csv', header=None, nrows=5)\n",
    " df.to_csv('myDataFrame.csv')"
   ]
  },
  {
   "cell_type": "code",
   "execution_count": null,
   "id": "84d554f1",
   "metadata": {},
   "outputs": [],
   "source": [
    "**Read and Write to Excel**"
   ]
  },
  {
   "cell_type": "code",
   "execution_count": null,
   "id": "c0f27554",
   "metadata": {},
   "outputs": [],
   "source": [
    " pd.read_excel( 'file.xlsx')\n",
    " df.to_excel('dir/myDataFrame.x lsx', sheet_name= 'Sheet1')"
   ]
  },
  {
   "cell_type": "code",
   "execution_count": null,
   "id": "f4f664a7",
   "metadata": {},
   "outputs": [],
   "source": [
    "Read multiple sheets from the same file"
   ]
  },
  {
   "cell_type": "code",
   "execution_count": null,
   "id": "932007c6",
   "metadata": {},
   "outputs": [],
   "source": [
    " xlsx = pd.ExcelFile('file.xls')\n",
    " df = pd.read_excel(xlsx, 'Sheet1')"
   ]
  },
  {
   "cell_type": "code",
   "execution_count": null,
   "id": "6a0c0525",
   "metadata": {},
   "outputs": [],
   "source": [
    "**Read and Write to SQL Query or Database Table**"
   ]
  },
  {
   "cell_type": "code",
   "execution_count": null,
   "id": "0441e7ff",
   "metadata": {},
   "outputs": [],
   "source": [
    " from sqlalchemy import create_engine\n",
    " engine = create_eng ine('sqlite:///:memory:' )\n",
    " pd.read_sql( \"SELECT* FROM my_tabl e;\", engine)\n",
    " pd.read_sql_ tabl e('my_ tabl e', engine)\n",
    " pd.read_sql_query( \"SELECT * FROM my_table;\", engine)"
   ]
  },
  {
   "cell_type": "code",
   "execution_count": null,
   "id": "0c1ba2f3",
   "metadata": {},
   "outputs": [],
   "source": [
    "read_sql() is a convenience wrapper around read_sql_table() and\n",
    "read_sql_query()"
   ]
  },
  {
   "cell_type": "code",
   "execution_count": null,
   "id": "7783cfa8",
   "metadata": {},
   "outputs": [],
   "source": [
    "     df.to_sql('myDf',engine)"
   ]
  },
  {
   "cell_type": "code",
   "execution_count": null,
   "id": "a83baaa3",
   "metadata": {},
   "outputs": [],
   "source": [
    "### Selection\n",
    "\n",
    "**Getting**"
   ]
  },
  {
   "cell_type": "code",
   "execution_count": null,
   "id": "c2fd956c",
   "metadata": {},
   "outputs": [],
   "source": [
    " s['b'] #Get one element"
   ]
  },
  {
   "cell_type": "code",
   "execution_count": null,
   "id": "73908fce",
   "metadata": {},
   "outputs": [],
   "source": [
    "-5"
   ]
  },
  {
   "cell_type": "code",
   "execution_count": null,
   "id": "de7a04aa",
   "metadata": {},
   "outputs": [],
   "source": [
    " df[1:] #Get subset of a DataFrome"
   ]
  },
  {
   "cell_type": "code",
   "execution_count": null,
   "id": "2ec1edde",
   "metadata": {},
   "outputs": [],
   "source": [
    "Country Capital Population 1 India New Delhi 1303171035\n",
    "2 Brazil Brasilia 207847528"
   ]
  },
  {
   "cell_type": "code",
   "execution_count": null,
   "id": "8b4533b4",
   "metadata": {},
   "outputs": [],
   "source": [
    "**Selecting, Boolean Indexing** & **Setting**\n",
    "\n",
    "**By Position**"
   ]
  },
  {
   "cell_type": "code",
   "execution_count": null,
   "id": "cebb5a24",
   "metadata": {},
   "outputs": [],
   "source": [
    " df.iloc[[0],[0]] #Select single value by row & column\n",
    "'Belgium'\n",
    " df.iat([0],[0])\n",
    "'Belgium'"
   ]
  },
  {
   "cell_type": "code",
   "execution_count": null,
   "id": "418ca1fe",
   "metadata": {},
   "outputs": [],
   "source": [
    "**By Label**"
   ]
  },
  {
   "cell_type": "code",
   "execution_count": null,
   "id": "9d8aa7b0",
   "metadata": {},
   "outputs": [],
   "source": [
    " df.loc[[0], [ 'Country']] #Select single value by row & column labels 'Belgium'\n",
    " df.at([0], [ 'Country ']) 'Belgium'"
   ]
  },
  {
   "cell_type": "code",
   "execution_count": null,
   "id": "8e93beb0",
   "metadata": {},
   "outputs": [],
   "source": [
    "**By Label/Position**"
   ]
  },
  {
   "cell_type": "code",
   "execution_count": null,
   "id": "8658cfd2",
   "metadata": {},
   "outputs": [],
   "source": [
    " df.ix[2] #Select single row of subset of rows\n",
    "Country Brazil Capital Brasilia Population 207847528\n",
    " df.ix[:,'Capital'] #Select a single column of subset of columns"
   ]
  },
  {
   "cell_type": "code",
   "execution_count": null,
   "id": "954cd8c7",
   "metadata": {},
   "outputs": [],
   "source": [
    "0   Brussels\n",
    "1   New Delhi\n",
    "2   Brasilia"
   ]
  },
  {
   "cell_type": "code",
   "execution_count": null,
   "id": "8aecba73",
   "metadata": {},
   "outputs": [],
   "source": [
    "df.ix[1,'Capital'] #Select rows and columns 'New Delhi'"
   ]
  },
  {
   "cell_type": "code",
   "execution_count": null,
   "id": "f62b494a",
   "metadata": {},
   "outputs": [],
   "source": [
    "**Boolean Indexing**"
   ]
  },
  {
   "cell_type": "code",
   "execution_count": null,
   "id": "f5ad5c50",
   "metadata": {},
   "outputs": [],
   "source": [
    " py"
   ]
  },
  {
   "cell_type": "code",
   "execution_count": null,
   "id": "ec5b6259",
   "metadata": {},
   "outputs": [],
   "source": [
    " s[N(s > 1)] #Series s where value is not >l\n",
    " s[(s < -1) I (s > 2)] #s where value is f-1 or >2\n",
    " df[df['Population']>1200000000] #Use filter to adjust DataFrame"
   ]
  },
  {
   "cell_type": "code",
   "execution_count": null,
   "id": "633a7f1d",
   "metadata": {},
   "outputs": [],
   "source": [
    "**Setting**"
   ]
  },
  {
   "cell_type": "code",
   "execution_count": null,
   "id": "6dec250f",
   "metadata": {},
   "outputs": [],
   "source": [
    " s['a'] = 6 #Set index a of Series s to 6"
   ]
  },
  {
   "cell_type": "code",
   "execution_count": null,
   "id": "36cad367",
   "metadata": {},
   "outputs": [],
   "source": [
    "### Retrieving Series/DataFrame Information"
   ]
  },
  {
   "cell_type": "code",
   "execution_count": null,
   "id": "589c37ac",
   "metadata": {},
   "outputs": [],
   "source": [
    "**Basic Information**"
   ]
  },
  {
   "cell_type": "code",
   "execution_count": null,
   "id": "06c6364e",
   "metadata": {},
   "outputs": [],
   "source": [
    "\n",
    " df.shape #(rows,columns)\n",
    " df.index #Describe index\n",
    " df.columns #Describe DataFrame columns\n",
    " df.info() #Info on DataFrame\n",
    " df.count() #Number of non-NA values"
   ]
  },
  {
   "cell_type": "code",
   "execution_count": null,
   "id": "91117678",
   "metadata": {},
   "outputs": [],
   "source": [
    "\n",
    "**Summary**\n",
    "\n",
    "\n",
    " df.sum() #Sum of values\n",
    " df.cumsum() #Cummulative sum of values\n",
    " df.min() /df.max() #11inimum/maximum values\n",
    " df.idxmin()/df.idxmax() #Minimum/Maximum index value\n",
    " df.describe() #Summary statistics\n",
    " df.mean() #11ean of values\n",
    " df.median() #Median of values"
   ]
  },
  {
   "cell_type": "code",
   "execution_count": null,
   "id": "54baccf4",
   "metadata": {},
   "outputs": [],
   "source": [
    "\n",
    "### Applying Functions"
   ]
  },
  {
   "cell_type": "code",
   "execution_count": null,
   "id": "f51944f0",
   "metadata": {},
   "outputs": [],
   "source": [
    "\n",
    " f = lambda x: X*2\n",
    " df.apply(f) #Apply function\n",
    " df.applymap(f) #Apply function element-wise"
   ]
  },
  {
   "cell_type": "code",
   "execution_count": null,
   "id": "9c2663c1",
   "metadata": {},
   "outputs": [],
   "source": [
    "\n",
    "**Data Alignment**"
   ]
  },
  {
   "cell_type": "code",
   "execution_count": null,
   "id": "de201cbe",
   "metadata": {},
   "outputs": [],
   "source": [
    "**Internal Data Alignment**"
   ]
  },
  {
   "cell_type": "code",
   "execution_count": null,
   "id": "5569649e",
   "metadata": {},
   "outputs": [],
   "source": [
    "\n",
    " s3 = pd.Series([7, -2, 31, index= ['a','c' ,'d'])\n",
    " s + s3\n",
    "a 10.0\n",
    "b NaN\n",
    "C 5.0\n",
    "d 7.0"
   ]
  },
  {
   "cell_type": "code",
   "execution_count": null,
   "id": "c4eb6d41",
   "metadata": {},
   "outputs": [],
   "source": [
    "\n",
    "**Arithmetic Operations with Fill Methods**"
   ]
  },
  {
   "cell_type": "code",
   "execution_count": null,
   "id": "f1cb0214",
   "metadata": {},
   "outputs": [],
   "source": [
    "**You can also do the internal data alignment yourself with the help of\n",
    "the fill methods:**"
   ]
  },
  {
   "cell_type": "code",
   "execution_count": null,
   "id": "5566c23b",
   "metadata": {},
   "outputs": [],
   "source": [
    "\n",
    " s.add(s3, fill_values=0) a 10.0\n",
    "b -5. 0\n",
    "C 5.0\n",
    "d 7.0\n",
    " s.sub(s3, fill_value=2)\n",
    " s.div(s3, fill_value=4)\n",
    " s.mul(s3, fill_value=3)"
   ]
  },
  {
   "cell_type": "code",
   "execution_count": null,
   "id": "a014aa1d",
   "metadata": {},
   "outputs": [],
   "source": [
    "\n",
    "# Section 4"
   ]
  },
  {
   "cell_type": "code",
   "execution_count": null,
   "id": "dcaf1468",
   "metadata": {},
   "outputs": [],
   "source": [
    "## Data Analysis with Numpy"
   ]
  },
  {
   "cell_type": "code",
   "execution_count": null,
   "id": "3960b654",
   "metadata": {},
   "outputs": [],
   "source": [
    "<img src=\"../assets/images/posts/2021-06-06-What-all-should-a-data-scientist-know/numpy.jpg\" style=\"zoom:20%;\" />"
   ]
  },
  {
   "cell_type": "code",
   "execution_count": null,
   "id": "78dac994",
   "metadata": {},
   "outputs": [],
   "source": [
    "The NumPy library is the core library for scientific computing in\n",
    "Python. It provides a high performance multidimensional array object ,\n",
    "and tools for working with these arrays"
   ]
  },
  {
   "cell_type": "code",
   "execution_count": null,
   "id": "c00f5d3c",
   "metadata": {},
   "outputs": [],
   "source": [
    "**Use the following import convention**"
   ]
  },
  {
   "cell_type": "code",
   "execution_count": null,
   "id": "773db75e",
   "metadata": {},
   "outputs": [],
   "source": [
    " py\n",
    ">> import numpy as np"
   ]
  },
  {
   "cell_type": "code",
   "execution_count": null,
   "id": "cc21d26a",
   "metadata": {},
   "outputs": [],
   "source": [
    "\n",
    "**Creating Array**"
   ]
  },
  {
   "cell_type": "code",
   "execution_count": null,
   "id": "62d97639",
   "metadata": {},
   "outputs": [],
   "source": [
    "\n",
    " a = np.array([l,2,3])\n",
    " b = np.array([(l.5,2,3), (4,5,6)], dtype = float)\n",
    " c = np.array([[(l.5,2,3), (4,5,6)],[(3,2,1), (4,5,6)]], dtype = float)"
   ]
  },
  {
   "cell_type": "code",
   "execution_count": null,
   "id": "ff95f40c",
   "metadata": {},
   "outputs": [],
   "source": [
    "\n",
    "**Initial Placeholders**"
   ]
  },
  {
   "cell_type": "code",
   "execution_count": null,
   "id": "c41376e4",
   "metadata": {},
   "outputs": [],
   "source": [
    "\n",
    " np.zeros((3,4)) #Create an array af zeros\n",
    " np.ones((2,3,4),dtype=np.int16) #Create an array of ones\n",
    " d = np.arange(10,25,5) #Create an array of evenly spaced values (step value)\n",
    " np.linspace(0,2,9) #Create an array of evenly spaced values (number of samples)\n",
    " e = np.full((2,2),7) #Create a constant array\n",
    " f = np.eye(2) #Create a 2X2 identity matrix\n",
    " np.random.random((2,2)) #Create an array with random values\n",
    " np.empty((3,2)) #Create an empty array"
   ]
  },
  {
   "cell_type": "code",
   "execution_count": null,
   "id": "b07ab31e",
   "metadata": {},
   "outputs": [],
   "source": [
    "\n",
    "### **I/O**"
   ]
  },
  {
   "cell_type": "code",
   "execution_count": null,
   "id": "eb0bcdd2",
   "metadata": {},
   "outputs": [],
   "source": [
    "**Saving** **&** **Loading On Disk**"
   ]
  },
  {
   "cell_type": "code",
   "execution_count": null,
   "id": "8fcb4717",
   "metadata": {},
   "outputs": [],
   "source": [
    "\n",
    " np.save('my_array',a)\n",
    " np.save('array.npz',a, b)\n",
    " np.load('my_array.npy ')"
   ]
  },
  {
   "cell_type": "code",
   "execution_count": null,
   "id": "4a6d6f76",
   "metadata": {},
   "outputs": [],
   "source": [
    "\n",
    "**Saving & Loading Text Files**"
   ]
  },
  {
   "cell_type": "code",
   "execution_count": null,
   "id": "cae59bdd",
   "metadata": {},
   "outputs": [],
   "source": [
    "\n",
    ">> np.loadtxt(\"myfile.txt\")\n",
    " np.genfromtxt(\"my_file.csv\", delimiter=',' )\n",
    " np.savetxt(\"myarray.txt\" , a, delimiter=\" \" )"
   ]
  },
  {
   "cell_type": "code",
   "execution_count": null,
   "id": "9bccf735",
   "metadata": {},
   "outputs": [],
   "source": [
    "\n",
    "### Inspecting Your Array"
   ]
  },
  {
   "cell_type": "code",
   "execution_count": null,
   "id": "90b1f4dc",
   "metadata": {},
   "outputs": [],
   "source": [
    "\n",
    " a.shape #Array dimensions\n",
    " len(a) #Length of array\n",
    " b.ndim #Number of array dimensions\n",
    " e.size #Number of array elements\n",
    " b.dtype #Data type of array elements\n",
    " b.dtype.name #Name of data type\n",
    " b.astype(int) #Convert an array to a different type"
   ]
  },
  {
   "cell_type": "code",
   "execution_count": null,
   "id": "745ed309",
   "metadata": {},
   "outputs": [],
   "source": [
    "\n",
    "**Data Type**"
   ]
  },
  {
   "cell_type": "code",
   "execution_count": null,
   "id": "f4550ce5",
   "metadata": {},
   "outputs": [],
   "source": [
    "\n",
    " np.int64 #Signed 64-bit integer types\n",
    " np.flaat32 #Standard double-precision floating paint\n",
    " np.complex #Complex numbers represented by 128 floats\n",
    " np.baol #Boolean type storing TRUE and FALSE values\n",
    " np.object #Python object type\n",
    " np.string _ #Fixed-length string type\n",
    " np.unicode_ #Fixed-length unicode type"
   ]
  },
  {
   "cell_type": "code",
   "execution_count": null,
   "id": "d2d64996",
   "metadata": {},
   "outputs": [],
   "source": [
    "\n",
    "## Array Mathematics"
   ]
  },
  {
   "cell_type": "code",
   "execution_count": null,
   "id": "e073f9a9",
   "metadata": {},
   "outputs": [],
   "source": [
    "**Arithmetic Operations**"
   ]
  },
  {
   "cell_type": "code",
   "execution_count": null,
   "id": "2a6224b3",
   "metadata": {},
   "outputs": [],
   "source": [
    "\n",
    " g = a - b #Subtraction\n",
    "array([[-0.5,0. , 0. ],\n",
    "        [-3. , -3. , -3. ]])\n",
    " np.subtract(a,b) #Subtraction\n",
    " b + a #Addition\n",
    "array([[ 2.5, 4. , 6. ],\n",
    "        [5.,7.,9.]])\n",
    " np.add(b,a) Addition\n",
    " a / b #Division\n",
    "array([[ 0.66666667, 1., 1.],\n",
    "        [ 0.25 , 0.4 , 0.5 ]])\n",
    " np.divide(a,b) #Division\n",
    " a * b #Multiplication\n",
    "array([[ 1.5, 4. , 9. ],\n",
    "    [ 4. , 10. , 18. ]])\n",
    " np.multiply(a,b) #Multiplication\n",
    " np.exp(b) #Exponentiation\n",
    " np.sqrt(b) #Square root\n",
    " np.sin(a) #Print sines of an array\n",
    " np.cos(b) #Element-wise cosine\n",
    " np.log(a) #Element-wise natural logarithm\n",
    " e.dot(f) #Dot product\n",
    "array([[ 7., 7.],"
   ]
  },
  {
   "cell_type": "code",
   "execution_count": null,
   "id": "7b816b47",
   "metadata": {},
   "outputs": [],
   "source": [
    "\n",
    "**Comparison**"
   ]
  },
  {
   "cell_type": "code",
   "execution_count": null,
   "id": "fa9d2268",
   "metadata": {},
   "outputs": [],
   "source": [
    "\n",
    "a == b #Element-wise comparison\n",
    "array([[False, True , True],\n",
    "[ False, False, False]], dtype=bool)\n",
    " a < 2 #Element-wise comparison\n",
    "array([True , False, False], dtype=bool)\n",
    " np.array_equal(a, b) #Array-wise comparison"
   ]
  },
  {
   "cell_type": "code",
   "execution_count": null,
   "id": "07268d9e",
   "metadata": {},
   "outputs": [],
   "source": [
    "\n",
    "**Aggregate Functions**"
   ]
  },
  {
   "cell_type": "code",
   "execution_count": null,
   "id": "55eaf3f8",
   "metadata": {},
   "outputs": [],
   "source": [
    "\n",
    " a.sum() #Array-wise sum\n",
    " a.min() #Array-wise minimum value\n",
    " b.max(axis=0) #Maximum value of an array row\n",
    " b.cumsum(axis=l) #Cumulative sum of the elements\n",
    " a.mean() #Mean\n",
    " b.median() #Median\n",
    " a.corrcaef() #Correlation coefficient\n",
    " np.std(b) #Standard deviation"
   ]
  },
  {
   "cell_type": "code",
   "execution_count": null,
   "id": "43b57ffe",
   "metadata": {},
   "outputs": [],
   "source": [
    "\n",
    "### Copying Array"
   ]
  },
  {
   "cell_type": "code",
   "execution_count": null,
   "id": "4e95bd69",
   "metadata": {},
   "outputs": [],
   "source": [
    "\n",
    " h = a.view() #Create a view af the array with the some data\n",
    " np.capy(a) #Create a copy of the array\n",
    " h = a.copy() #Create a deep copy of the array"
   ]
  },
  {
   "cell_type": "code",
   "execution_count": null,
   "id": "28eaf405",
   "metadata": {},
   "outputs": [],
   "source": [
    "\n",
    "### Sorting Array"
   ]
  },
  {
   "cell_type": "code",
   "execution_count": null,
   "id": "05b657a0",
   "metadata": {},
   "outputs": [],
   "source": [
    "**Subsetting**"
   ]
  },
  {
   "cell_type": "code",
   "execution_count": null,
   "id": "f381982d",
   "metadata": {},
   "outputs": [],
   "source": [
    "\n",
    " a[2] #Select the element at the 2nd index\n",
    "3"
   ]
  },
  {
   "cell_type": "code",
   "execution_count": null,
   "id": "57d1a7ea",
   "metadata": {},
   "outputs": [],
   "source": [
    "\n",
    "<span class=\"image\"></span>"
   ]
  },
  {
   "cell_type": "code",
   "execution_count": null,
   "id": "3a17ee2d",
   "metadata": {},
   "outputs": [],
   "source": [
    "\n",
    " b[1,2] #Select the element at row 1 column 2 (equivalent to b[1][2])\n",
    "6.0"
   ]
  },
  {
   "cell_type": "code",
   "execution_count": null,
   "id": "ce08e5e7",
   "metadata": {},
   "outputs": [],
   "source": [
    "\n",
    "<span class=\"image\"></span>"
   ]
  },
  {
   "cell_type": "code",
   "execution_count": null,
   "id": "f6500478",
   "metadata": {},
   "outputs": [],
   "source": [
    "**Slicing**"
   ]
  },
  {
   "cell_type": "code",
   "execution_count": null,
   "id": "dc6a97bb",
   "metadata": {},
   "outputs": [],
   "source": [
    "\n",
    " a[0:2] #Select items at index 0 and 1\n",
    "array([1, 2])"
   ]
  },
  {
   "cell_type": "code",
   "execution_count": null,
   "id": "5669f65f",
   "metadata": {},
   "outputs": [],
   "source": [
    "\n",
    "<span class=\"image\"></span>"
   ]
  },
  {
   "cell_type": "code",
   "execution_count": null,
   "id": "c4dd98a4",
   "metadata": {},
   "outputs": [],
   "source": [
    "\n",
    " b[0:2,1] #Select items at rows 0 and 1 in column 1\n",
    "array([ 2., 5.])"
   ]
  },
  {
   "cell_type": "code",
   "execution_count": null,
   "id": "d7df03ab",
   "metadata": {},
   "outputs": [],
   "source": []
  },
  {
   "cell_type": "code",
   "execution_count": null,
   "id": "3b090d44",
   "metadata": {},
   "outputs": [],
   "source": [
    " b[:1] #Select all items at row 0 (equivalent to b[0:1, :])\n",
    "array([[1.5, 2., 3.]])"
   ]
  },
  {
   "cell_type": "code",
   "execution_count": null,
   "id": "fe7f46b4",
   "metadata": {},
   "outputs": [],
   "source": [
    "\n",
    "<span class=\"image\"></span>"
   ]
  },
  {
   "cell_type": "code",
   "execution_count": null,
   "id": "d5d39a0f",
   "metadata": {},
   "outputs": [],
   "source": [
    "\n",
    " c[1,... ] #Same as [1,:,:]\n",
    "array([[[ 3., 2., 1.],\n",
    "[  4., 5.,  6.]]])\n",
    " a[: :-1] #Reversed array a array([3, 2, 1])"
   ]
  },
  {
   "cell_type": "code",
   "execution_count": null,
   "id": "b9ee2bcc",
   "metadata": {},
   "outputs": [],
   "source": [
    "\n",
    "**Boolean Indexing**"
   ]
  },
  {
   "cell_type": "code",
   "execution_count": null,
   "id": "48d82069",
   "metadata": {},
   "outputs": [],
   "source": [
    "\n",
    " a[a<2] #Select elements from a less than 2\n",
    "array([1])"
   ]
  },
  {
   "cell_type": "code",
   "execution_count": null,
   "id": "605fcc05",
   "metadata": {},
   "outputs": [],
   "source": [
    "\n",
    "<span class=\"image\"></span>"
   ]
  },
  {
   "cell_type": "code",
   "execution_count": null,
   "id": "87844ba1",
   "metadata": {},
   "outputs": [],
   "source": [
    "**Fancy Indexing**"
   ]
  },
  {
   "cell_type": "code",
   "execution_count": null,
   "id": "468da583",
   "metadata": {},
   "outputs": [],
   "source": [
    "\n",
    " b[[l, 0, 1, 0],[0, 1, 2, 0]] #Select elements (1,0),(0,1),(1,2) and (0,0)\n",
    "array([ 4. , 2. , 6. , 1.5])\n",
    " b[[l, 0, 1, 0]][:,[0,1,2,0]] #Select a subset of the matrix's rows and columns array([[ 4. ,5. , 6. , 4. ],\n",
    "            [ 1.5, 2.3, 1.5],"
   ]
  },
  {
   "cell_type": "code",
   "execution_count": null,
   "id": "20b32ffb",
   "metadata": {},
   "outputs": [],
   "source": [
    "\n",
    "### Array Manipulation"
   ]
  },
  {
   "cell_type": "code",
   "execution_count": null,
   "id": "5d5d6ed8",
   "metadata": {},
   "outputs": [],
   "source": [
    "**Transposing Array**"
   ]
  },
  {
   "cell_type": "code",
   "execution_count": null,
   "id": "e94f0ea7",
   "metadata": {},
   "outputs": [],
   "source": [
    "\n",
    " i = np.transpose(b) #Permute array dimensions\n",
    " i.T #Permute array dimensions"
   ]
  },
  {
   "cell_type": "code",
   "execution_count": null,
   "id": "da5a35cd",
   "metadata": {},
   "outputs": [],
   "source": [
    "\n",
    "**Changing Array Shape**"
   ]
  },
  {
   "cell_type": "code",
   "execution_count": null,
   "id": "af1f9281",
   "metadata": {},
   "outputs": [],
   "source": [
    "\n",
    " b.ravel() #Flatten the array\n",
    " g.reshape(3,-2) #Reshape, but don't change data"
   ]
  },
  {
   "cell_type": "code",
   "execution_count": null,
   "id": "a4ea8c7e",
   "metadata": {},
   "outputs": [],
   "source": [
    "\n",
    "**Adding/Removing Elements**"
   ]
  },
  {
   "cell_type": "code",
   "execution_count": null,
   "id": "49605d21",
   "metadata": {},
   "outputs": [],
   "source": [
    "\n",
    " h.resize((2,6)) #Return a new array with shape (2,6)\n",
    " np.append(h,g) #Append items to an array\n",
    " np.insert(a, 1, 5) #Insert items in an array\n",
    " np.delete(a,[1]) #Delete items from an array"
   ]
  },
  {
   "cell_type": "code",
   "execution_count": null,
   "id": "63c85fb3",
   "metadata": {},
   "outputs": [],
   "source": [
    "\n",
    "**Combining Arrays**"
   ]
  },
  {
   "cell_type": "code",
   "execution_count": null,
   "id": "98a266d0",
   "metadata": {},
   "outputs": [],
   "source": [
    "\n",
    " np.concatenate((a,d),axis=0) #Concatenate arrays array([ 1, 2, 3, 10, 15, 20])\n",
    " np.vstack((a,b)) #Stack arrays vertically (row-wise)\n",
    "array([[ 1. , 2.    3. ],\n",
    "        [ 1.5, 2. , 3. ],\n",
    "        [   4.    ,   5.    ,   6.    ]])\n",
    " np.r_[e,f] #Stack arrays vertically (row -wise)\n",
    " np.hstack((e,f)) #Stack arrays horizontally (col umn-wise)\n",
    "array([[ 7., 7., 1., 0.],\n",
    "    [ 7., 7., 0., 1.]])\n",
    " np.column_stack((a,d)) #Create stacked column-wise arrays\n",
    "array([[ 1, 10],\n",
    "    [ 2,  15],\n",
    "    [ 3, 20]])\n",
    " np.c_[a ,d] #Create stacked column-wise arrays"
   ]
  },
  {
   "cell_type": "code",
   "execution_count": null,
   "id": "ff8a15da",
   "metadata": {},
   "outputs": [],
   "source": [
    "\n",
    "**Splitting Arrays**"
   ]
  },
  {
   "cell_type": "code",
   "execution_count": null,
   "id": "0ec0339c",
   "metadata": {},
   "outputs": [],
   "source": [
    "\n",
    " np.hsplit(a,3) #Split the array horizontally at the 3rd index\n",
    "[array([1]),array([2]),array([3])]\n",
    " np.vsplit(c,2) #Split the array vertically at the 2nd index\n",
    "[array([[[ 1.5, 2. , 1. ],\n",
    "        [ 4. , 5. , 6. ]]]),\n",
    "array([[[ 3., 2., 3.],\n",
    "        [  4.,  5., 6.]]])]"
   ]
  },
  {
   "cell_type": "code",
   "execution_count": null,
   "id": "e188d69a",
   "metadata": {},
   "outputs": [],
   "source": [
    "\n",
    "# Section 5"
   ]
  },
  {
   "cell_type": "code",
   "execution_count": null,
   "id": "e72f5e67",
   "metadata": {},
   "outputs": [],
   "source": [
    "## Data Visualization with Matplotlib"
   ]
  },
  {
   "cell_type": "code",
   "execution_count": null,
   "id": "ae6d84bb",
   "metadata": {},
   "outputs": [],
   "source": [
    "Matplotlib is a Python 2D plotting library which produces\n",
    "publication-quality figures in a variety of hardcopy formats and\n",
    "interactive environments across platforms."
   ]
  },
  {
   "cell_type": "code",
   "execution_count": null,
   "id": "60e1f661",
   "metadata": {},
   "outputs": [],
   "source": [
    "**1D Data**"
   ]
  },
  {
   "cell_type": "code",
   "execution_count": null,
   "id": "8ef2d9d3",
   "metadata": {},
   "outputs": [],
   "source": [
    "     import numpy as np\n",
    "     X = np.linspace(0, 10, 100)\n",
    "     y = np.cos(x)\n",
    "     z = np.sin(x)"
   ]
  },
  {
   "cell_type": "code",
   "execution_count": null,
   "id": "5c75398c",
   "metadata": {},
   "outputs": [],
   "source": [
    "**2D Data or Images**"
   ]
  },
  {
   "cell_type": "code",
   "execution_count": null,
   "id": "d6bf655d",
   "metadata": {},
   "outputs": [],
   "source": [
    "\n",
    " data= 2 * np.random.random((10, 10))\n",
    " data2 = 3 * np.random.random((10, 10))\n",
    " Y, X = np.mgrid[-3:3:100j, -3:3:100j]\n",
    " U = -1 - X**2 + Y\n",
    " V = 1 +  X - Y**2\n",
    " from matplotlib.cbook import get_sample_data\n",
    " img = np.load(g et_sample_data('axes_gr id/bivar iate_normal.npy '))"
   ]
  },
  {
   "cell_type": "code",
   "execution_count": null,
   "id": "44a0dcd7",
   "metadata": {},
   "outputs": [],
   "source": [
    "\n",
    "### Create Plot"
   ]
  },
  {
   "cell_type": "code",
   "execution_count": null,
   "id": "e701cc84",
   "metadata": {},
   "outputs": [],
   "source": [
    "    import matplotlib.pyplot as plt"
   ]
  },
  {
   "cell_type": "code",
   "execution_count": null,
   "id": "2cb56a1b",
   "metadata": {},
   "outputs": [],
   "source": [
    "**Figure**"
   ]
  },
  {
   "cell_type": "code",
   "execution_count": null,
   "id": "ff646880",
   "metadata": {},
   "outputs": [],
   "source": [
    "\n",
    " fig = plt.figure()\n",
    " fig2 = plt.figure(figsize=plt.figaspect(2.0))"
   ]
  },
  {
   "cell_type": "code",
   "execution_count": null,
   "id": "7d5d7ed7",
   "metadata": {},
   "outputs": [],
   "source": [
    "\n",
    "**Axes**"
   ]
  },
  {
   "cell_type": "code",
   "execution_count": null,
   "id": "de155b9e",
   "metadata": {},
   "outputs": [],
   "source": [
    "ll plotting is done with respect to an Axes. In most cases, a subplot\n",
    "will fit your needs. A subplot is an axes on a grid system."
   ]
  },
  {
   "cell_type": "code",
   "execution_count": null,
   "id": "21a17eb0",
   "metadata": {},
   "outputs": [],
   "source": [
    "     fig.add_axes()\n",
    "     ax1 = fig.add_subplot(221)#row-col-num\n",
    "     ax3 = fig.add_subplot(212)\n",
    "     fig3, axes= plt.subplots(nrows=2,ncols=2)\n",
    "     fig4, axes2 = plt.subplots(ncols=3)"
   ]
  },
  {
   "cell_type": "code",
   "execution_count": null,
   "id": "55f34eaa",
   "metadata": {},
   "outputs": [],
   "source": [
    "**Save Plot**"
   ]
  },
  {
   "cell_type": "code",
   "execution_count": null,
   "id": "2fe34299",
   "metadata": {},
   "outputs": [],
   "source": [
    "     plt.savefig( 'foe.png' J #Save figures\n",
    "     plt.savefig( 'foo.png',transparent=True) #Save transparent figures"
   ]
  },
  {
   "cell_type": "code",
   "execution_count": null,
   "id": "7115f323",
   "metadata": {},
   "outputs": [],
   "source": [
    "**Show Plot**"
   ]
  },
  {
   "cell_type": "code",
   "execution_count": null,
   "id": "96cb25e2",
   "metadata": {},
   "outputs": [],
   "source": [
    "     plt.show()"
   ]
  },
  {
   "cell_type": "code",
   "execution_count": null,
   "id": "27a6d640",
   "metadata": {},
   "outputs": [],
   "source": [
    "### Plotting Routines"
   ]
  },
  {
   "cell_type": "code",
   "execution_count": null,
   "id": "6c023c2c",
   "metadata": {},
   "outputs": [],
   "source": [
    "**1D Data**"
   ]
  },
  {
   "cell_type": "code",
   "execution_count": null,
   "id": "35039220",
   "metadata": {},
   "outputs": [],
   "source": [
    "\n",
    " fig, ax= plt.subp lots()\n",
    "lines= ax.plot(x,y) #Draw points with lines or markers connecting them\n",
    " ax.scatter(x,y) #Draw unconnected points, scaled or colored\n",
    " axes[0,0].bar([l,2,3],[3,4,5]) #Plot vertical rectangles (constant width)\n",
    " axes[l,0].barh([0.5,1,2.5],[0,1,2]) #Plot horiontol rectangles (constant height)\n",
    " axes[l,1].axhline(0.s5) #Draw a horizontal line across axes\n",
    " axes[0,1].axvline(0.65) #Draw a vertical line across axes\n",
    " ax.fill(x,y,color='blue') #Drow filled polygons\n",
    " ax.fill_between(x,y,color='yellow') #Fill between y-values and 0"
   ]
  },
  {
   "cell_type": "code",
   "execution_count": null,
   "id": "be0608fe",
   "metadata": {},
   "outputs": [],
   "source": [
    "\n",
    "**2D Data**"
   ]
  },
  {
   "cell_type": "code",
   "execution_count": null,
   "id": "a0c0cfaa",
   "metadata": {},
   "outputs": [],
   "source": [
    "     fig, ax= plt.subplots()\n",
    "     im = ax.imshow(img, #Colormapped or RGB arrays\n",
    "                cmap= 1 gist_ear th 1 ,\n",
    "                interpolation= 1 neare st',\n",
    "                vmin=-2,\n",
    "                vmax =2)\n",
    "     axes2[0].pcolor(data2) #Pseudocolor plot of 2D array\n",
    "     axes2[0].pcolormesh(data) #Pseudocolor plot of 2D array\n",
    "    CS= plt.contour(Y,X,U) #Plot contours\n",
    "     axes2[2].contourf(datal) #Plot filled contours\n",
    "     axes2[2]= ax.clabel(CS) #Lobel a contour plot"
   ]
  },
  {
   "cell_type": "code",
   "execution_count": null,
   "id": "4a88c654",
   "metadata": {},
   "outputs": [],
   "source": [
    "**Vector Fields**"
   ]
  },
  {
   "cell_type": "code",
   "execution_count": null,
   "id": "6adc97bf",
   "metadata": {},
   "outputs": [],
   "source": [
    "     axes[0,1].arrow(0,0,0.5,0.5) #Add an arrow to the axes\n",
    "     axes[l,l].quiver(y,z) #Plot a 2D field of arrows\n",
    "     axes[0,1].streamplot(X,Y,U,V) #Plot a 2D field of arrows"
   ]
  },
  {
   "cell_type": "code",
   "execution_count": null,
   "id": "e237e062",
   "metadata": {},
   "outputs": [],
   "source": [
    "**Data Distributions**"
   ]
  },
  {
   "cell_type": "code",
   "execution_count": null,
   "id": "ee3a0417",
   "metadata": {},
   "outputs": [],
   "source": [
    "     axl.hist(y) #Plot a histogram\n",
    "     ax3.boxplot(y) #Make a box and whisker plot\n",
    "     ax3.violinplot(z) #Make a violin plot"
   ]
  },
  {
   "cell_type": "code",
   "execution_count": null,
   "id": "e9cf6ad5",
   "metadata": {},
   "outputs": [],
   "source": [
    "### Plot Anatomy"
   ]
  },
  {
   "cell_type": "code",
   "execution_count": null,
   "id": "82977ba0",
   "metadata": {},
   "outputs": [],
   "source": [
    "The basic steps to creating plots with matplotlib are:"
   ]
  },
  {
   "cell_type": "code",
   "execution_count": null,
   "id": "0629dd3a",
   "metadata": {},
   "outputs": [],
   "source": [
    "**1** Prepare Data **2** Create Plot **3** Plot **4** Customized Plot\n",
    "**5** Save Plot **6** Show Plot"
   ]
  },
  {
   "cell_type": "code",
   "execution_count": null,
   "id": "21a56fe1",
   "metadata": {},
   "outputs": [],
   "source": [
    "\n",
    " import matplotlib.pyplot as plt\n",
    " x = [1,2,3,s] #Step 1\n",
    " y = [ 10,20,25,30]\n",
    "fig= plt.figure() #Step 2\n",
    "ax= fig.add_subp lot(lll) #Step 3\n",
    " ax.plot(x, y, color='lightb lue', linewidth=3) #Step 3, 4\n",
    " ax.scatter([2,4,6],\n",
    "                [5,15,25],\n",
    "                color='darkgreen ', \n",
    "                marker='^')\n",
    " ax.set_xlim(l, 6.5)\n",
    " plt.savefig('foo.png' ) #Step 5\n",
    " plt.show() #Step 6"
   ]
  },
  {
   "cell_type": "code",
   "execution_count": null,
   "id": "5249f21a",
   "metadata": {},
   "outputs": [],
   "source": [
    "\n",
    "**Close and Clear**"
   ]
  },
  {
   "cell_type": "code",
   "execution_count": null,
   "id": "263c9fd2",
   "metadata": {},
   "outputs": [],
   "source": [
    "\n",
    " plt.cla() #Clear on axis\n",
    " plt.clf() #Clear the entire figure\n",
    " plt.close() #Close a window"
   ]
  },
  {
   "cell_type": "code",
   "execution_count": null,
   "id": "9b44060a",
   "metadata": {},
   "outputs": [],
   "source": [
    "\n",
    "### Plotting Cutomize Plot"
   ]
  },
  {
   "cell_type": "code",
   "execution_count": null,
   "id": "d9129052",
   "metadata": {},
   "outputs": [],
   "source": [
    "**Colors, Color Bars & Color Map**"
   ]
  },
  {
   "cell_type": "code",
   "execution_count": null,
   "id": "ed5b396f",
   "metadata": {},
   "outputs": [],
   "source": [
    "\n",
    " plt.plot(x, x, x, X**2, x, X**3)\n",
    " ax.plot(x, y, alpha = 0.s)\n",
    " ax.plot(x, y, c='k' )\n",
    " fig.colorbar(im, orientation= 'horizontal')\n",
    " im = ax.imshow(img,cmap=  'seismic'  )"
   ]
  },
  {
   "cell_type": "code",
   "execution_count": null,
   "id": "fb4024de",
   "metadata": {},
   "outputs": [],
   "source": [
    "\n",
    "**Markers**"
   ]
  },
  {
   "cell_type": "code",
   "execution_count": null,
   "id": "43cba8a1",
   "metadata": {},
   "outputs": [],
   "source": [
    "     fig, ax= plt.subplots()\n",
    "     ax.scatter(x,y,marker=\".\"   )\n",
    "     ax.plot(x,y ,marker=\"o\")"
   ]
  },
  {
   "cell_type": "code",
   "execution_count": null,
   "id": "756c29cf",
   "metadata": {},
   "outputs": [],
   "source": [
    "​ **Linestyles**"
   ]
  },
  {
   "cell_type": "code",
   "execution_count": null,
   "id": "0082d871",
   "metadata": {},
   "outputs": [],
   "source": [
    "\n",
    " plt.plot(x,y,linewidth=4.0)\n",
    " plt.plot(x,y,ls='solid')\n",
    " plt.plot(x,y,ls='--' )\n",
    " plt.plot(x, y,'-- 1 ,X**2,Y** 2, '-.')\n",
    " plt.setp(lines,color='r',linewidth= 4.0)"
   ]
  },
  {
   "cell_type": "code",
   "execution_count": null,
   "id": "8fb86411",
   "metadata": {},
   "outputs": [],
   "source": [
    "\n",
    "**Text** & **Annotations**"
   ]
  },
  {
   "cell_type": "code",
   "execution_count": null,
   "id": "9ee7208d",
   "metadata": {},
   "outputs": [],
   "source": [
    "     ax.text(1,-2.1,'Example Graph' , style='italic')\n",
    "     ax.annotate(\"Sine\",\n",
    "                    xy=(8, 0),\n",
    "                    xycoords= 'data', \n",
    "                    xytext=(10.5, 0), \n",
    "                    textcoords= 1 data', \n",
    "                    arrowprops=dict(arrowstyle= \"->\" connectionstyle=\"arc3\"),)"
   ]
  },
  {
   "cell_type": "code",
   "execution_count": null,
   "id": "e3760b1f",
   "metadata": {},
   "outputs": [],
   "source": [
    "**Mathtext**"
   ]
  },
  {
   "cell_type": "code",
   "execution_count": null,
   "id": "87761e78",
   "metadata": {},
   "outputs": [],
   "source": [
    "     plt.title(r'$sigma_ i=15$', fontsize=20)"
   ]
  },
  {
   "cell_type": "code",
   "execution_count": null,
   "id": "bc2d8dc4",
   "metadata": {},
   "outputs": [],
   "source": [
    "**Limits, Legends and Layouts**"
   ]
  },
  {
   "cell_type": "code",
   "execution_count": null,
   "id": "d0308e70",
   "metadata": {},
   "outputs": [],
   "source": [
    "Limits & Autoscaling"
   ]
  },
  {
   "cell_type": "code",
   "execution_count": null,
   "id": "44e05d0e",
   "metadata": {},
   "outputs": [],
   "source": [
    "\n",
    " ax.margins(x=0.0,y=0.1) #Add padding to a plot\n",
    " ax.axis('equa l') #Set the aspect ratio of the plot to 1\n",
    " ax.set(xlim=[0,10.5],ylim=[-1.5,l.5]) #Set limits for x-and y-axis\n",
    " ax.set_xlim(0,10.5) #Set limits for x-axis"
   ]
  },
  {
   "cell_type": "code",
   "execution_count": null,
   "id": "cfde4811",
   "metadata": {},
   "outputs": [],
   "source": [
    "\n",
    "**Legends**"
   ]
  },
  {
   "cell_type": "code",
   "execution_count": null,
   "id": "cdd08f9a",
   "metadata": {},
   "outputs": [],
   "source": [
    "\n",
    " ax.set( title='An Example Axe s', #Set a title and x-ond y-axis labels \n",
    "           ylabel='Y-Axis',\n",
    "           xlabel='X-Axis')\n",
    " ax.legend( loc='best') #No overlapping plot elements"
   ]
  },
  {
   "cell_type": "code",
   "execution_count": null,
   "id": "1d1d6c05",
   "metadata": {},
   "outputs": [],
   "source": [
    "\n",
    "**Ticks**"
   ]
  },
  {
   "cell_type": "code",
   "execution_count": null,
   "id": "a5a2d92c",
   "metadata": {},
   "outputs": [],
   "source": [
    "\n",
    " ax.xaxis.set(ticks=range(l,5), #Manually set x-ticks\n",
    "ticklabels=[3,100,-12,\"foo']')\n",
    "     #Makey-ticks longer and go in and out \n",
    " ax.tick_param s(axis='y',direction='inout ',length=10)\n",
    "     "
   ]
  },
  {
   "cell_type": "code",
   "execution_count": null,
   "id": "fff62b11",
   "metadata": {},
   "outputs": [],
   "source": [
    "\n",
    "**Subplot Spacing**"
   ]
  },
  {
   "cell_type": "code",
   "execution_count": null,
   "id": "40d70bf2",
   "metadata": {},
   "outputs": [],
   "source": [
    "\n",
    " fig3.subplots_ad just(wspace=0.5, #Adjust the spacing between subplots\n",
    "hspace=0.3, left=0.125, right=0.9, top=0.9, bottom=0.1)\n",
    " fig.tight_layout() #Fit subplot(s) in to the figure area"
   ]
  },
  {
   "cell_type": "code",
   "execution_count": null,
   "id": "2186e3ec",
   "metadata": {},
   "outputs": [],
   "source": [
    "\n",
    "**Axis Spines**"
   ]
  },
  {
   "cell_type": "code",
   "execution_count": null,
   "id": "83b2b075",
   "metadata": {},
   "outputs": [],
   "source": [
    "\n",
    " axl.spines['top'].set_visible(False)\n",
    "#Make the top axis line for a plot invisible\n",
    " axl.spines['bottom'].set_po sition(('outward' ,10))\n",
    "#Move the bottom axis line outward"
   ]
  },
  {
   "cell_type": "code",
   "execution_count": null,
   "id": "df9a84d2",
   "metadata": {},
   "outputs": [],
   "source": [
    "\n",
    "# Section 7"
   ]
  },
  {
   "cell_type": "code",
   "execution_count": null,
   "id": "cc0a4f16",
   "metadata": {},
   "outputs": [],
   "source": [
    "# Machine Learning with Scikit-Learn"
   ]
  },
  {
   "cell_type": "code",
   "execution_count": null,
   "id": "089eefb0",
   "metadata": {},
   "outputs": [],
   "source": [
    "<img src=\"../assets/images/posts/2021-06-06-What-all-should-a-data-scientist-know/scikit-learn.png\" style=\"zoom:70%;\" />"
   ]
  },
  {
   "cell_type": "code",
   "execution_count": null,
   "id": "330ce830",
   "metadata": {},
   "outputs": [],
   "source": [
    "Scikit-learn is an open source Python library that implements a range of\n",
    "machine learning, preprocessing, cross-validation and visualization\n",
    "algorithms using a unified interface."
   ]
  },
  {
   "cell_type": "code",
   "execution_count": null,
   "id": "e8d14631",
   "metadata": {},
   "outputs": [],
   "source": [
    "**Example**"
   ]
  },
  {
   "cell_type": "code",
   "execution_count": null,
   "id": "e3b3a9a7",
   "metadata": {},
   "outputs": [],
   "source": [
    "\n",
    " from sklearn import neighbors, datasets, preprocessing\n",
    " from sklearn.model_selection import train_test_split\n",
    " from sklearn.metrics import accuracy_score\n",
    "iris= datasets.load_iris()\n",
    " X, y = iris.data[:, :2], iris.target\n",
    " X_train, X_test, y_train, y_test = train_test_split(X, y, random_state=33)\n",
    "scaler= preprocessing.StandardScaler().fit(X_train)\n",
    " X_train = scaler.transform(X_train)\n",
    " X_test = scaler.transform(X_test)\n",
    " knn = neighbors.KNeighborsClassifier(n_neighbors=5)\n",
    " knn.fit(X_train, y_train)\n",
    " y_pred = knn.predict(X_test)\n",
    " accuracy_score(y _test, y_pred)"
   ]
  },
  {
   "cell_type": "code",
   "execution_count": null,
   "id": "c976cde6",
   "metadata": {},
   "outputs": [],
   "source": [
    "\n",
    "### Loading The Data"
   ]
  },
  {
   "cell_type": "code",
   "execution_count": null,
   "id": "b2195f60",
   "metadata": {},
   "outputs": [],
   "source": [
    "**Your data needs to be numeric and stored as NumPy arrays or SciPy\n",
    "sparse matrices. Other types that are convertible to numeric arrays,\n",
    "such as Pandas DataFrame, are also acceptable**"
   ]
  },
  {
   "cell_type": "code",
   "execution_count": null,
   "id": "d2075799",
   "metadata": {},
   "outputs": [],
   "source": [
    "\n",
    " import numpy as np\n",
    " X = np.random.random((10,5))\n",
    " Y = np. array (['M', 'M' ,'F','F','M','F','M','M','F','F','F'])\n",
    " X[X < 0.7] = 0"
   ]
  },
  {
   "cell_type": "code",
   "execution_count": null,
   "id": "6b22df74",
   "metadata": {},
   "outputs": [],
   "source": [
    "\n",
    "### Training And Test Data"
   ]
  },
  {
   "cell_type": "code",
   "execution_count": null,
   "id": "9b474cf7",
   "metadata": {},
   "outputs": [],
   "source": [
    "\n",
    " from sklearn.model_selection import train_test_split\n",
    " X_train, X_test, y_train, y_test = train_test_split(X,y, random_state=0)"
   ]
  },
  {
   "cell_type": "code",
   "execution_count": null,
   "id": "5d731e00",
   "metadata": {},
   "outputs": [],
   "source": [
    "\n",
    "### Model Fitting"
   ]
  },
  {
   "cell_type": "code",
   "execution_count": null,
   "id": "88d68fce",
   "metadata": {},
   "outputs": [],
   "source": [
    "**Supervised learning**"
   ]
  },
  {
   "cell_type": "code",
   "execution_count": null,
   "id": "cca34393",
   "metadata": {},
   "outputs": [],
   "source": [
    "\n",
    " lr.fit(X, y) #Fit the model to the data\n",
    " knn.fit(X_train, y_train)\n",
    " svc.fit(X_train, y_train)"
   ]
  },
  {
   "cell_type": "code",
   "execution_count": null,
   "id": "24315553",
   "metadata": {},
   "outputs": [],
   "source": [
    "\n",
    "**Unsupervised Learning**"
   ]
  },
  {
   "cell_type": "code",
   "execution_count": null,
   "id": "5d521b48",
   "metadata": {},
   "outputs": [],
   "source": [
    "\n",
    " k_mean s.fit(X_train) #Fit the model to the data\n",
    " pca_model = pca.fit_transform(X_train) #Fit to data, then transform it"
   ]
  },
  {
   "cell_type": "code",
   "execution_count": null,
   "id": "653cd98c",
   "metadata": {},
   "outputs": [],
   "source": [
    "\n",
    "### Prediction"
   ]
  },
  {
   "cell_type": "code",
   "execution_count": null,
   "id": "aa92db30",
   "metadata": {},
   "outputs": [],
   "source": [
    "**Supervised Estimators**"
   ]
  },
  {
   "cell_type": "code",
   "execution_count": null,
   "id": "9368e53e",
   "metadata": {},
   "outputs": [],
   "source": [
    "\n",
    " y_pred = svc.predict(np.random.random((2,5))) #Predict labels\n",
    " y_pred = lr.predict(X_test) #Predict labels\n",
    " y_ pred = knn.predict_proba(X_test) #Estimate probability of a label"
   ]
  },
  {
   "cell_type": "code",
   "execution_count": null,
   "id": "5993f0e8",
   "metadata": {},
   "outputs": [],
   "source": [
    "\n",
    "**Unsupervised Estimators**"
   ]
  },
  {
   "cell_type": "code",
   "execution_count": null,
   "id": "99df1414",
   "metadata": {},
   "outputs": [],
   "source": [
    "\n",
    " y_pred = k_means.predict(X_test) #Predict labels in clustering algos"
   ]
  },
  {
   "cell_type": "code",
   "execution_count": null,
   "id": "26a00017",
   "metadata": {},
   "outputs": [],
   "source": [
    "\n",
    "### Preprocessing The Data"
   ]
  },
  {
   "cell_type": "code",
   "execution_count": null,
   "id": "b0916054",
   "metadata": {},
   "outputs": [],
   "source": [
    "**Standardization**"
   ]
  },
  {
   "cell_type": "code",
   "execution_count": null,
   "id": "9c32b7ba",
   "metadata": {},
   "outputs": [],
   "source": [
    "\n",
    " from sklearn.preprocessing import StandardScaler\n",
    " scaler= StandardScaler().fit(X_train)\n",
    " standardized_X = scaler.transform(X_train)\n",
    " standardized_X_test= scaler.transform(X _test)"
   ]
  },
  {
   "cell_type": "code",
   "execution_count": null,
   "id": "edccc274",
   "metadata": {},
   "outputs": [],
   "source": [
    "\n",
    "**Normalization**"
   ]
  },
  {
   "cell_type": "code",
   "execution_count": null,
   "id": "824f6f8e",
   "metadata": {},
   "outputs": [],
   "source": [
    "\n",
    " from sklearn.preprocessing import Normalizer\n",
    "scaler= Normalizer().fit(X_train)\n",
    " normalized_X = scaler.transform(X _train)\n",
    " normalized_X_test = scaler.transform(X_test)"
   ]
  },
  {
   "cell_type": "code",
   "execution_count": null,
   "id": "e1a0695f",
   "metadata": {},
   "outputs": [],
   "source": [
    "\n",
    "**Binarization**"
   ]
  },
  {
   "cell_type": "code",
   "execution_count": null,
   "id": "27078d82",
   "metadata": {},
   "outputs": [],
   "source": [
    "\n",
    " from sklearn.preprocessing import Binarizer\n",
    " binarizer = Binarizer(threshold=0.0).fit(X)\n",
    " binary_X = binarizer.transform(X)"
   ]
  },
  {
   "cell_type": "code",
   "execution_count": null,
   "id": "a07ef94a",
   "metadata": {},
   "outputs": [],
   "source": [
    "\n",
    "**Encoding Categorical Features**"
   ]
  },
  {
   "cell_type": "code",
   "execution_count": null,
   "id": "54047ad9",
   "metadata": {},
   "outputs": [],
   "source": [
    "\n",
    " from sklearn.preprocessing import LabelEncoder\n",
    "enc= LabelEncoder()\n",
    " y = enc.fit_transform(y)"
   ]
  },
  {
   "cell_type": "code",
   "execution_count": null,
   "id": "36b0e681",
   "metadata": {},
   "outputs": [],
   "source": [
    "\n",
    "**Imputing Missing Values**"
   ]
  },
  {
   "cell_type": "code",
   "execution_count": null,
   "id": "984a0942",
   "metadata": {},
   "outputs": [],
   "source": [
    "\n",
    " from sklearn.preprocessing import Imputer\n",
    "imp= Imputer(missing_values=0, strategy='mean ', axis=0)\n",
    " imp.fit_transform(X_train)"
   ]
  },
  {
   "cell_type": "code",
   "execution_count": null,
   "id": "5b90cd8d",
   "metadata": {},
   "outputs": [],
   "source": [
    "\n",
    "**Generating Polynomial Features**"
   ]
  },
  {
   "cell_type": "code",
   "execution_count": null,
   "id": "4a7fd46f",
   "metadata": {},
   "outputs": [],
   "source": [
    "\n",
    " from sklearn.preprocessing import PolynomialFeatures\n",
    "poly= PolynomialFeatures(5)\n",
    " poly.fit_transform(X)"
   ]
  },
  {
   "cell_type": "code",
   "execution_count": null,
   "id": "93c009de",
   "metadata": {},
   "outputs": [],
   "source": [
    "\n",
    "## Create Your Model"
   ]
  },
  {
   "cell_type": "code",
   "execution_count": null,
   "id": "ffe99da8",
   "metadata": {},
   "outputs": [],
   "source": [
    "### Supervised Learning Estimators"
   ]
  },
  {
   "cell_type": "code",
   "execution_count": null,
   "id": "ea02d83b",
   "metadata": {},
   "outputs": [],
   "source": [
    "**Linear Regression**"
   ]
  },
  {
   "cell_type": "code",
   "execution_count": null,
   "id": "5286af9f",
   "metadata": {},
   "outputs": [],
   "source": [
    "\n",
    " from sklearn. linear m_ odel import LinearRegression\n",
    " lr = LinearRegression(normalize=True)"
   ]
  },
  {
   "cell_type": "code",
   "execution_count": null,
   "id": "e6f5ea19",
   "metadata": {},
   "outputs": [],
   "source": [
    "\n",
    "**Support Vector Machines (SVM)**"
   ]
  },
  {
   "cell_type": "code",
   "execution_count": null,
   "id": "9ca6da80",
   "metadata": {},
   "outputs": [],
   "source": [
    "\n",
    " from sklearn.svm import SVC\n",
    "SVC= SVC(kernel='linear')"
   ]
  },
  {
   "cell_type": "code",
   "execution_count": null,
   "id": "c2adc267",
   "metadata": {},
   "outputs": [],
   "source": [
    "\n",
    "**Naive Bayes**"
   ]
  },
  {
   "cell_type": "code",
   "execution_count": null,
   "id": "764b09ac",
   "metadata": {},
   "outputs": [],
   "source": [
    "\n",
    " from sklearn.naive_bayes import GaussianNB\n",
    " gnb = GaussianNB()"
   ]
  },
  {
   "cell_type": "code",
   "execution_count": null,
   "id": "08804eb2",
   "metadata": {},
   "outputs": [],
   "source": [
    "\n",
    "**KNN**"
   ]
  },
  {
   "cell_type": "code",
   "execution_count": null,
   "id": "b492a345",
   "metadata": {},
   "outputs": [],
   "source": [
    "\n",
    " from sklearn import neighbors\n",
    " knn = neighbors.KNeighborsClassifier(n_neighbors=5)"
   ]
  },
  {
   "cell_type": "code",
   "execution_count": null,
   "id": "f29b36cf",
   "metadata": {},
   "outputs": [],
   "source": [
    "\n",
    "### Unsupervised Learning Estimators"
   ]
  },
  {
   "cell_type": "code",
   "execution_count": null,
   "id": "41e83475",
   "metadata": {},
   "outputs": [],
   "source": [
    "**Principal Component Analysis (PCA)**"
   ]
  },
  {
   "cell_type": "code",
   "execution_count": null,
   "id": "d6cbd237",
   "metadata": {},
   "outputs": [],
   "source": [
    "\n",
    " from sklearn.decomposition import PCA\n",
    "pea= PCA(n_components=0.95)"
   ]
  },
  {
   "cell_type": "code",
   "execution_count": null,
   "id": "40a72878",
   "metadata": {},
   "outputs": [],
   "source": [
    "\n",
    "**K Means**"
   ]
  },
  {
   "cell_type": "code",
   "execution_count": null,
   "id": "acddcf75",
   "metadata": {},
   "outputs": [],
   "source": [
    "\n",
    " from sklearn.cluster import KMeans\n",
    " k_means = KMeans(n_clusters=3, random_state=0)"
   ]
  },
  {
   "cell_type": "code",
   "execution_count": null,
   "id": "278f048b",
   "metadata": {},
   "outputs": [],
   "source": [
    "\n",
    "## Evaluate Your Model’s Performance"
   ]
  },
  {
   "cell_type": "code",
   "execution_count": null,
   "id": "1876d286",
   "metadata": {},
   "outputs": [],
   "source": [
    "### **Classification Metrics**"
   ]
  },
  {
   "cell_type": "code",
   "execution_count": null,
   "id": "47c943a5",
   "metadata": {},
   "outputs": [],
   "source": [
    "**Accuracy Score**"
   ]
  },
  {
   "cell_type": "code",
   "execution_count": null,
   "id": "d4482984",
   "metadata": {},
   "outputs": [],
   "source": [
    "\n",
    " knn.score(X_test, y_test) #Estimator score method\n",
    " from sklearn.metrics import accuracy_score #Metric scoring functions\n",
    " accuracy_score(y_test, y_pred)"
   ]
  },
  {
   "cell_type": "code",
   "execution_count": null,
   "id": "f9f46d31",
   "metadata": {},
   "outputs": [],
   "source": [
    "\n",
    "**Classification Report**"
   ]
  },
  {
   "cell_type": "code",
   "execution_count": null,
   "id": "4cd62d4d",
   "metadata": {},
   "outputs": [],
   "source": [
    "\n",
    " from sklearn.metrics import classification_report #Precision, recall, fl-score and support\n",
    " print(classification_report(y_test, y_pred))"
   ]
  },
  {
   "cell_type": "code",
   "execution_count": null,
   "id": "7d657528",
   "metadata": {},
   "outputs": [],
   "source": [
    "\n",
    "**Confusion Matrix**"
   ]
  },
  {
   "cell_type": "code",
   "execution_count": null,
   "id": "30e8ca7c",
   "metadata": {},
   "outputs": [],
   "source": [
    "\n",
    " from sklearn.metrics import confusion_matrix\n",
    " print(confusion_matrix(y_test.y_pred))"
   ]
  },
  {
   "cell_type": "code",
   "execution_count": null,
   "id": "39c7d7b1",
   "metadata": {},
   "outputs": [],
   "source": [
    "\n",
    "### Regression Metrics"
   ]
  },
  {
   "cell_type": "code",
   "execution_count": null,
   "id": "c2e2c16a",
   "metadata": {},
   "outputs": [],
   "source": [
    "**Mean Absolute Error**"
   ]
  },
  {
   "cell_type": "code",
   "execution_count": null,
   "id": "d196399f",
   "metadata": {},
   "outputs": [],
   "source": [
    "\n",
    " from sklearn.metrics import mean_absolute_error\n",
    " y_true = [3, -0.5,2]\n",
    " mean_absolute_error(y_true, y_pred)"
   ]
  },
  {
   "cell_type": "code",
   "execution_count": null,
   "id": "5f04cca3",
   "metadata": {},
   "outputs": [],
   "source": [
    "\n",
    "**Mean Squared Error**"
   ]
  },
  {
   "cell_type": "code",
   "execution_count": null,
   "id": "acb415f3",
   "metadata": {},
   "outputs": [],
   "source": [
    "\n",
    " from sklearn.metrics import mean_squared_error\n",
    " mean_squared _error(y_test, y_ pred)"
   ]
  },
  {
   "cell_type": "code",
   "execution_count": null,
   "id": "a23490b5",
   "metadata": {},
   "outputs": [],
   "source": [
    "\n",
    "**R2 Score**"
   ]
  },
  {
   "cell_type": "code",
   "execution_count": null,
   "id": "c470de4f",
   "metadata": {},
   "outputs": [],
   "source": [
    "\n",
    " from sklearn.metrics import r2_score\n",
    " r2_score(y_true, y_ pred)"
   ]
  },
  {
   "cell_type": "code",
   "execution_count": null,
   "id": "d36f957c",
   "metadata": {},
   "outputs": [],
   "source": [
    "\n",
    "### Clustering Metrics"
   ]
  },
  {
   "cell_type": "code",
   "execution_count": null,
   "id": "4dea850b",
   "metadata": {},
   "outputs": [],
   "source": [
    "**Adjusted Rand Index**"
   ]
  },
  {
   "cell_type": "code",
   "execution_count": null,
   "id": "8a164491",
   "metadata": {},
   "outputs": [],
   "source": [
    "\n",
    " from sklearn.metrics import adjusted_rand_score\n",
    " adjusted_rand_score(y_true, y_pred)"
   ]
  },
  {
   "cell_type": "code",
   "execution_count": null,
   "id": "febbbbc9",
   "metadata": {},
   "outputs": [],
   "source": [
    "\n",
    "**Homogeneity**"
   ]
  },
  {
   "cell_type": "code",
   "execution_count": null,
   "id": "2f7ce113",
   "metadata": {},
   "outputs": [],
   "source": [
    "\n",
    " from sklearn.metrics import homogeneity_score\n",
    " homogeneity_score(y_true, y_pred)"
   ]
  },
  {
   "cell_type": "code",
   "execution_count": null,
   "id": "9f3eb4c2",
   "metadata": {},
   "outputs": [],
   "source": [
    "\n",
    "**V-measure**"
   ]
  },
  {
   "cell_type": "code",
   "execution_count": null,
   "id": "6aab70c9",
   "metadata": {},
   "outputs": [],
   "source": [
    "\n",
    " from sklearn.metrics import v_measure_score\n",
    "metrics.v_measure_score(y_true , y_pred)"
   ]
  },
  {
   "cell_type": "code",
   "execution_count": null,
   "id": "ac3caca8",
   "metadata": {},
   "outputs": [],
   "source": [
    "\n",
    "### Cross-Validation"
   ]
  },
  {
   "cell_type": "code",
   "execution_count": null,
   "id": "4ca4ffe0",
   "metadata": {},
   "outputs": [],
   "source": [
    "\n",
    " from sklearn.cross_validation import cross_val_score\n",
    " print(cross_val_score(knn, X_train, y_train, cv=4))\n",
    " print(cross_val_score(lr, X, y, cv=2))"
   ]
  },
  {
   "cell_type": "code",
   "execution_count": null,
   "id": "6252fd8f",
   "metadata": {},
   "outputs": [],
   "source": [
    "\n",
    "## Tune Your Model"
   ]
  },
  {
   "cell_type": "code",
   "execution_count": null,
   "id": "74236386",
   "metadata": {},
   "outputs": [],
   "source": [
    "### **Grid Search**"
   ]
  },
  {
   "cell_type": "code",
   "execution_count": null,
   "id": "9dc662dd",
   "metadata": {},
   "outputs": [],
   "source": [
    "\n",
    " from sklearn.grid_search import GridSearchCV\n",
    " params = {\"n_neighbors \"  : np.arange(l,3),\n",
    "                \"metric \"    : [ \"euclidean\" , \"cityblock \"] }\n",
    "grid= GridSearchCV(estimator=knn,\n",
    "                    param_grid=params)\n",
    " grid.fit(X_train, y_train)\n",
    " print(grid.best_score_)\n",
    " print(grid.best_estimator_.n_neighbors)"
   ]
  },
  {
   "cell_type": "code",
   "execution_count": null,
   "id": "8f6fa871",
   "metadata": {},
   "outputs": [],
   "source": [
    "\n",
    "**Randomized Parameter Optimization**"
   ]
  },
  {
   "cell_type": "code",
   "execution_count": null,
   "id": "c3247eb6",
   "metadata": {},
   "outputs": [],
   "source": [
    "\n",
    " from sklearn.grid _search import RandomizedSearchCV\n",
    " params = { \"n_neighbors\":range(l,5), \"weights\": [\"unifomr\",\"distance\"]}\n",
    " rsearch = RandomizedSearchCV(estimator=knn, param_distributions=params,\n",
    "                                cv=4, n_iter=S, random_state=5)\n",
    " rsearch.fit(X_train, y_train)\n",
    " print(rsearch.best_score_)"
   ]
  },
  {
   "cell_type": "code",
   "execution_count": null,
   "id": "c6333882",
   "metadata": {},
   "outputs": [],
   "source": [
    "\n",
    "# Section 8"
   ]
  },
  {
   "cell_type": "code",
   "execution_count": null,
   "id": "84249564",
   "metadata": {},
   "outputs": [],
   "source": [
    "## SciPy"
   ]
  },
  {
   "cell_type": "code",
   "execution_count": null,
   "id": "d2f17d3b",
   "metadata": {},
   "outputs": [],
   "source": [
    "<span class=\"image\"></span>"
   ]
  },
  {
   "cell_type": "code",
   "execution_count": null,
   "id": "2d76366e",
   "metadata": {},
   "outputs": [],
   "source": [
    "**The SciPy library is one of the core packages for scientific computing\n",
    "that provides mathematical algorithms and convenience functions built on\n",
    "the NumPy extension of Python.**"
   ]
  },
  {
   "cell_type": "code",
   "execution_count": null,
   "id": "2954f0ec",
   "metadata": {},
   "outputs": [],
   "source": [
    "\n",
    " import numpy as np\n",
    " a= np.array([1,2,3])\n",
    " b = np.array([(1+5j,2j,3j), (4j,5j,6j)])\n",
    " c = np.array([[(1.5,2,3), (4,5,6)], [(3,2,1), (4,5,6)]])"
   ]
  },
  {
   "cell_type": "code",
   "execution_count": null,
   "id": "9c28677e",
   "metadata": {},
   "outputs": [],
   "source": [
    "\n",
    "**Index Tricks**"
   ]
  },
  {
   "cell_type": "code",
   "execution_count": null,
   "id": "05170f24",
   "metadata": {},
   "outputs": [],
   "source": [
    "\n",
    " np.mgrid[0:5,0:5] #Create a dense meshgrid\n",
    " np.ogrid[0:2,0:2] #Create an open meshgrid\n",
    " np.r_[[3,[0]*5,-1:1:10j] #Stack arrays vertically (row-wise)\n",
    " np.c_[b,c] #Create stocked column-wise arrays"
   ]
  },
  {
   "cell_type": "code",
   "execution_count": null,
   "id": "c29e327c",
   "metadata": {},
   "outputs": [],
   "source": [
    "\n",
    "**Shape Manipulation**"
   ]
  },
  {
   "cell_type": "code",
   "execution_count": null,
   "id": "5ec52be2",
   "metadata": {},
   "outputs": [],
   "source": [
    "\n",
    " np.transpose(b) #Permute array dimensions\n",
    " b.flatten() #Flatten the array\n",
    " np.hstack((b,c)) #Stack arrays horizontally (column-wise)\n",
    " np.vstack((a,b)) #Stack arrays vertically (row-wise)\n",
    " np.hsplit(c,2) #Split the array horizontally at the 2nd index\n",
    " np.vpslit(d,2) #Split the array vertically at the 2nd index"
   ]
  },
  {
   "cell_type": "code",
   "execution_count": null,
   "id": "66b3743c",
   "metadata": {},
   "outputs": [],
   "source": [
    "\n",
    "**Polynomials**"
   ]
  },
  {
   "cell_type": "code",
   "execution_count": null,
   "id": "9ff154c3",
   "metadata": {},
   "outputs": [],
   "source": [
    "\n",
    " from numpy import polyld\n",
    " p = poly1d([3,4,5]) #Create a polynomial object"
   ]
  },
  {
   "cell_type": "code",
   "execution_count": null,
   "id": "62d40b67",
   "metadata": {},
   "outputs": [],
   "source": [
    "\n",
    "**Vectorizing Functions**"
   ]
  },
  {
   "cell_type": "code",
   "execution_count": null,
   "id": "bcb261b2",
   "metadata": {},
   "outputs": [],
   "source": [
    "     def myfunc(a): if a< 0:\n",
    "            return a*2\n",
    "            else:\n",
    "            return a/2\n",
    "     np.vectorize(myfunc) #Vectorize functions"
   ]
  },
  {
   "cell_type": "code",
   "execution_count": null,
   "id": "721b8a38",
   "metadata": {},
   "outputs": [],
   "source": [
    "**Type Handling**"
   ]
  },
  {
   "cell_type": "code",
   "execution_count": null,
   "id": "a99a7e83",
   "metadata": {},
   "outputs": [],
   "source": [
    "\n",
    " np.real(c) #Return the real part of the array elements\n",
    " np.imag(c) #Return the imaginary part of the array elements\n",
    " np.real_if_close(c,tol=1000) #Return a real array if complex parts close to 0\n",
    " np.cast['f'](np.pi) #Cast object to a data type"
   ]
  },
  {
   "cell_type": "code",
   "execution_count": null,
   "id": "576c9ae4",
   "metadata": {},
   "outputs": [],
   "source": [
    "\n",
    "**Other Useful Functions**"
   ]
  },
  {
   "cell_type": "code",
   "execution_count": null,
   "id": "8a4500e8",
   "metadata": {},
   "outputs": [],
   "source": [
    "\n",
    " np.angle(b,d eg=True) #Return the angle of the complex argument\n",
    " g = np.linspace(0,np.pi,num=5) #Create an array of evenly spaced values(number of samples)\n",
    " g [3:] += np.pi\n",
    " np.unwrap(g) #Unwrap\n",
    " np.logspace(0,10,3) #Create an array of evenly spaced values (log scale)\n",
    " np.select([c<li],[c*2]) #Return values from a list of arrays depending on conditions\n",
    " misc.factorial(a) #Factorial\n",
    " misc.comb( 10,3,exact=True) #Combine N things taken at k time\n",
    " misc.central_diff_weights(3) #Weights for Np-point central derivative\n",
    " misc.derivative(myfunc,1.0) #Find then-th derivative of a function at a point"
   ]
  },
  {
   "cell_type": "code",
   "execution_count": null,
   "id": "9fd43c70",
   "metadata": {},
   "outputs": [],
   "source": [
    "\n",
    "### Linear Algebra"
   ]
  },
  {
   "cell_type": "code",
   "execution_count": null,
   "id": "95f0438e",
   "metadata": {},
   "outputs": [],
   "source": [
    "You’ll use the **linalg** and sparse modules. Note that **scipy.\n",
    "linalg** contains and expands on **numpy. linalg.**"
   ]
  },
  {
   "cell_type": "code",
   "execution_count": null,
   "id": "cd0461ea",
   "metadata": {},
   "outputs": [],
   "source": [
    "\n",
    " from scipy import linalg, sparse"
   ]
  },
  {
   "cell_type": "code",
   "execution_count": null,
   "id": "4dc507b3",
   "metadata": {},
   "outputs": [],
   "source": [
    "\n",
    "**Creating Matrices**"
   ]
  },
  {
   "cell_type": "code",
   "execution_count": null,
   "id": "8083666e",
   "metadata": {},
   "outputs": [],
   "source": [
    "\n",
    " A = np.matrix(np.random.random((2,2)))\n",
    " B = np.asmatrix(b)\n",
    " C = np.mat(np.random.random((10,5)))\n",
    " D = n p.mat([[3,Ii],  [5,6]])"
   ]
  },
  {
   "cell_type": "code",
   "execution_count": null,
   "id": "9683094d",
   "metadata": {},
   "outputs": [],
   "source": [
    "\n",
    "**Basic Matrix Routines**"
   ]
  },
  {
   "cell_type": "code",
   "execution_count": null,
   "id": "50b6b199",
   "metadata": {},
   "outputs": [],
   "source": [
    "     A.I #Inverse\n",
    "     linalg.inv(A)  #Inverse\n",
    "     A.T #Tranpose matrix\n",
    "     A.H #Conjugate transposition\n",
    "     np.trace(A) #Trace"
   ]
  },
  {
   "cell_type": "code",
   "execution_count": null,
   "id": "9b3935ca",
   "metadata": {},
   "outputs": [],
   "source": [
    "**Norm**"
   ]
  },
  {
   "cell_type": "code",
   "execution_count": null,
   "id": "253cba39",
   "metadata": {},
   "outputs": [],
   "source": [
    "     linalg.norm(A) #Frobenius norm\n",
    "     linalg.norm(A,1) #Ll norm (max column sum)\n",
    "     linalg.norm(A,np.inf) #L inf norm (max row sum)"
   ]
  },
  {
   "cell_type": "code",
   "execution_count": null,
   "id": "a7412f59",
   "metadata": {},
   "outputs": [],
   "source": [
    "**Rank**"
   ]
  },
  {
   "cell_type": "code",
   "execution_count": null,
   "id": "480d5a5d",
   "metadata": {},
   "outputs": [],
   "source": [
    "     np.linalg.matrix_rank(C) #Matrix rank"
   ]
  },
  {
   "cell_type": "code",
   "execution_count": null,
   "id": "83655e8a",
   "metadata": {},
   "outputs": [],
   "source": [
    "**Determinant**"
   ]
  },
  {
   "cell_type": "code",
   "execution_count": null,
   "id": "109f9fd9",
   "metadata": {},
   "outputs": [],
   "source": [
    "     linalg.det(A) #Determinant"
   ]
  },
  {
   "cell_type": "code",
   "execution_count": null,
   "id": "84508b84",
   "metadata": {},
   "outputs": [],
   "source": [
    "**Solving linear problems**"
   ]
  },
  {
   "cell_type": "code",
   "execution_count": null,
   "id": "9b44d922",
   "metadata": {},
   "outputs": [],
   "source": [
    "     linalg.solve(A,b) #Solver for dense matrices\n",
    "     E = np.mat(a).T #Solver for dense matrices\n",
    "     linalg.lstsq(D,E) #Le ast-squares solution to linear matrix equation"
   ]
  },
  {
   "cell_type": "code",
   "execution_count": null,
   "id": "44a6a4bb",
   "metadata": {},
   "outputs": [],
   "source": [
    "**Generalized inverse**"
   ]
  },
  {
   "cell_type": "code",
   "execution_count": null,
   "id": "693cf523",
   "metadata": {},
   "outputs": [],
   "source": [
    "     linalg.pinv(C) #Compute the pseudo-inverse of a matrix (least-squares solver)\n",
    "     linalg. pinv2(C) #Compute the pseudo-inverse of a matrix (SVD)"
   ]
  },
  {
   "cell_type": "code",
   "execution_count": null,
   "id": "293fa532",
   "metadata": {},
   "outputs": [],
   "source": [
    "### **Creating Sparse Matrices**"
   ]
  },
  {
   "cell_type": "code",
   "execution_count": null,
   "id": "b9a7982b",
   "metadata": {},
   "outputs": [],
   "source": [
    "     F = np.eye(3, k=l) #Create a 2X2 identity matrix\n",
    "     G = np.mat(np.identity(2)) #Create a 2x2 identity matrix\n",
    "     C[C > 0.5] = 0\n",
    "     H = sparse.csr_matrix(C) #Compressed Sparse Row matrix\n",
    "     I=  sparse.csc_matrix(D) #Compressed Sparse Column matrix\n",
    "     J = sparse.dok_matrix(A) #Dictionary Of Keys matrix\n",
    "     E.tadense() #Sparse matrix to full matrix\n",
    "     sparse.isspmatrix_csc(A) "
   ]
  },
  {
   "cell_type": "code",
   "execution_count": null,
   "id": "ce058767",
   "metadata": {},
   "outputs": [],
   "source": [
    "**Sparse Matrix Routines**"
   ]
  },
  {
   "cell_type": "code",
   "execution_count": null,
   "id": "52d83f6a",
   "metadata": {},
   "outputs": [],
   "source": [
    "**Inverse**"
   ]
  },
  {
   "cell_type": "code",
   "execution_count": null,
   "id": "17ea2c00",
   "metadata": {},
   "outputs": [],
   "source": [
    "     sparse.linalg.inv(I) #Inverse"
   ]
  },
  {
   "cell_type": "code",
   "execution_count": null,
   "id": "6be80e86",
   "metadata": {},
   "outputs": [],
   "source": [
    "**Norm**"
   ]
  },
  {
   "cell_type": "code",
   "execution_count": null,
   "id": "67917747",
   "metadata": {},
   "outputs": [],
   "source": [
    "     sparse.linalg.norm(I) #Norm"
   ]
  },
  {
   "cell_type": "code",
   "execution_count": null,
   "id": "3c7699ab",
   "metadata": {},
   "outputs": [],
   "source": [
    "**Solving linear problems**"
   ]
  },
  {
   "cell_type": "code",
   "execution_count": null,
   "id": "98c9c7a8",
   "metadata": {},
   "outputs": [],
   "source": [
    "     sparse.linalg.spsolve(H,I) #Solver for sparse matrices"
   ]
  },
  {
   "cell_type": "code",
   "execution_count": null,
   "id": "5b4c8efb",
   "metadata": {},
   "outputs": [],
   "source": [
    "**Sparse Matrix Functions**"
   ]
  },
  {
   "cell_type": "code",
   "execution_count": null,
   "id": "bd3ee098",
   "metadata": {},
   "outputs": [],
   "source": [
    "     sparse.linalg.expm(I) #Sparse matrix exponential"
   ]
  },
  {
   "cell_type": "code",
   "execution_count": null,
   "id": "6f3c2a34",
   "metadata": {},
   "outputs": [],
   "source": [
    "**Sparse Matrix Decompositions**"
   ]
  },
  {
   "cell_type": "code",
   "execution_count": null,
   "id": "ec63bc37",
   "metadata": {},
   "outputs": [],
   "source": [
    "     la, v = sparse.linalg.eigs(F,1) #Eigenvalues and eigenvectors\n",
    "     sparse.linalg.svds(H, 2) #SVD"
   ]
  },
  {
   "cell_type": "code",
   "execution_count": null,
   "id": "dd457a04",
   "metadata": {},
   "outputs": [],
   "source": [
    "## Matrix Function"
   ]
  },
  {
   "cell_type": "code",
   "execution_count": null,
   "id": "02271cb7",
   "metadata": {},
   "outputs": [],
   "source": [
    "**Addition**"
   ]
  },
  {
   "cell_type": "code",
   "execution_count": null,
   "id": "a5d39a79",
   "metadata": {},
   "outputs": [],
   "source": [
    "     np.add(A,D) #Addition"
   ]
  },
  {
   "cell_type": "code",
   "execution_count": null,
   "id": "686b9732",
   "metadata": {},
   "outputs": [],
   "source": [
    "**Subtraction**"
   ]
  },
  {
   "cell_type": "code",
   "execution_count": null,
   "id": "862846b2",
   "metadata": {},
   "outputs": [],
   "source": [
    "     np.subtract(A,D) #Subtraction"
   ]
  },
  {
   "cell_type": "code",
   "execution_count": null,
   "id": "5dd2d242",
   "metadata": {},
   "outputs": [],
   "source": [
    "**Division**"
   ]
  },
  {
   "cell_type": "code",
   "execution_count": null,
   "id": "4be9f62b",
   "metadata": {},
   "outputs": [],
   "source": [
    "     np.divide(A,D) #Division"
   ]
  },
  {
   "cell_type": "code",
   "execution_count": null,
   "id": "1f8dd576",
   "metadata": {},
   "outputs": [],
   "source": [
    "**Multiplication**"
   ]
  },
  {
   "cell_type": "code",
   "execution_count": null,
   "id": "743f47d0",
   "metadata": {},
   "outputs": [],
   "source": [
    "\n",
    " np.multiply(D,A) #Multiplication\n",
    " np.dot(A,D) #Dot product\n",
    " np.vdot(A,D) #Vector dot product\n",
    " np.inner(A,D) #Inner product\n",
    " np.outer(A,D) #Outer product\n",
    " np.tensardat(A,D) #Tensor dot product\n",
    " np.kron(A,D) #Kronecker product"
   ]
  },
  {
   "cell_type": "code",
   "execution_count": null,
   "id": "849e71ca",
   "metadata": {},
   "outputs": [],
   "source": [
    "\n",
    "**Exponential Functions**"
   ]
  },
  {
   "cell_type": "code",
   "execution_count": null,
   "id": "6a8360ad",
   "metadata": {},
   "outputs": [],
   "source": [
    "\n",
    " linalg.expm(A) #Matrix exponential\n",
    " linalg.expm2(A) #Matrix exponential (Taylor Series)\n",
    " linalg.expm3(D) #Matrix exponential (eigenvalue decomposition)"
   ]
  },
  {
   "cell_type": "code",
   "execution_count": null,
   "id": "fcd0f130",
   "metadata": {},
   "outputs": [],
   "source": [
    "\n",
    "**Logarithm Function**"
   ]
  },
  {
   "cell_type": "code",
   "execution_count": null,
   "id": "6a5736ce",
   "metadata": {},
   "outputs": [],
   "source": [
    "     linalg.lagm(A) #Matrix logarithm"
   ]
  },
  {
   "cell_type": "code",
   "execution_count": null,
   "id": "21314569",
   "metadata": {},
   "outputs": [],
   "source": [
    "**Trigonometric Functions**"
   ]
  },
  {
   "cell_type": "code",
   "execution_count": null,
   "id": "631dc5a4",
   "metadata": {},
   "outputs": [],
   "source": [
    "     linalg.sinm(D) Matrix sine\n",
    "     linalg.cosm(D) Matrix cosine\n",
    "     linalg.tanm(A) Matrix tangent"
   ]
  },
  {
   "cell_type": "code",
   "execution_count": null,
   "id": "bd905c52",
   "metadata": {},
   "outputs": [],
   "source": [
    "Hyperbolic Trigonometric Functions"
   ]
  },
  {
   "cell_type": "code",
   "execution_count": null,
   "id": "b0218492",
   "metadata": {},
   "outputs": [],
   "source": [
    "     linalg.sinhm(D) #Hypberbolic matrix sine\n",
    "     linalg.coshm(D) #Hyperbolic matrix cosine\n",
    "     linalg.tanhm(A) #Hyperbolic matrix tangent"
   ]
  },
  {
   "cell_type": "code",
   "execution_count": null,
   "id": "09885b3d",
   "metadata": {},
   "outputs": [],
   "source": [
    "**Matrix Sign Function**"
   ]
  },
  {
   "cell_type": "code",
   "execution_count": null,
   "id": "2b97caf1",
   "metadata": {},
   "outputs": [],
   "source": [
    "     np.sigm(A) #Matrix sign function"
   ]
  },
  {
   "cell_type": "code",
   "execution_count": null,
   "id": "1054455c",
   "metadata": {},
   "outputs": [],
   "source": [
    "Matrix Square Root"
   ]
  },
  {
   "cell_type": "code",
   "execution_count": null,
   "id": "e709a162",
   "metadata": {},
   "outputs": [],
   "source": [
    "     linalg.sqrtm(A) #Matrix square root"
   ]
  },
  {
   "cell_type": "code",
   "execution_count": null,
   "id": "96ce1b17",
   "metadata": {},
   "outputs": [],
   "source": [
    "**Arbitrary Functions**"
   ]
  },
  {
   "cell_type": "code",
   "execution_count": null,
   "id": "dacd23ac",
   "metadata": {},
   "outputs": [],
   "source": [
    "     linalg.funm(A, lambda x: X*X) #Evaluate matrix function"
   ]
  },
  {
   "cell_type": "code",
   "execution_count": null,
   "id": "9d43a229",
   "metadata": {},
   "outputs": [],
   "source": [
    "**Eigenvalues and Eigenvectors**"
   ]
  },
  {
   "cell_type": "code",
   "execution_count": null,
   "id": "264dc326",
   "metadata": {},
   "outputs": [],
   "source": [
    "     la, v = linalg.eig(A) #Solve ordinary or generalized eigenvalue problem for square matrix\n",
    "     l1, l2 = la #Unpack eigenvalues\n",
    "     v[:,0] #First eigenvector\n",
    "     v[:,1] #Second eigenvector\n",
    "     linalg.eigvals(A) #Unpack eigenvalues"
   ]
  },
  {
   "cell_type": "code",
   "execution_count": null,
   "id": "45b7a234",
   "metadata": {},
   "outputs": [],
   "source": [
    "**Singular Value Decomposition**"
   ]
  },
  {
   "cell_type": "code",
   "execution_count": null,
   "id": "bca43ae5",
   "metadata": {},
   "outputs": [],
   "source": [
    "     U,s,Vh = linalg.svd(B) #Singular Value Decomposition (SVD)\n",
    "     M,N = B.shape\n",
    "    Sig= linalg.diagsvd(s,M,N) #Construct sigma matrix in SVD"
   ]
  },
  {
   "cell_type": "code",
   "execution_count": null,
   "id": "64a670c8",
   "metadata": {},
   "outputs": [],
   "source": [
    "**LU Decomposition**"
   ]
  },
  {
   "cell_type": "code",
   "execution_count": null,
   "id": "4087d2be",
   "metadata": {},
   "outputs": [],
   "source": [
    "     P,L,U = linalg.lu(C) #LU Decomposition"
   ]
  },
  {
   "cell_type": "code",
   "execution_count": null,
   "id": "de634afb",
   "metadata": {},
   "outputs": [],
   "source": [
    "# Section 9"
   ]
  },
  {
   "cell_type": "code",
   "execution_count": null,
   "id": "175d6c8f",
   "metadata": {},
   "outputs": [],
   "source": [
    "## Neural Networks with Keras"
   ]
  },
  {
   "cell_type": "code",
   "execution_count": null,
   "id": "b6bfdaaf",
   "metadata": {},
   "outputs": [],
   "source": [
    "<img src=\"../assets/images/posts/2021-06-06-What-all-should-a-data-scientist-know/keras.png\" style=\"zoom:50%;\" />"
   ]
  },
  {
   "cell_type": "code",
   "execution_count": null,
   "id": "ff9bfd81",
   "metadata": {},
   "outputs": [],
   "source": [
    "**Keras is a powerful and easy-to-use deep learning library for Theano\n",
    "and TensorFlow that provides a high-level neural networks API to develop\n",
    "and evaluate deep learning models.**"
   ]
  },
  {
   "cell_type": "code",
   "execution_count": null,
   "id": "2fa9355f",
   "metadata": {},
   "outputs": [],
   "source": [
    "**A Basic Example**"
   ]
  },
  {
   "cell_type": "code",
   "execution_count": null,
   "id": "5624bc4e",
   "metadata": {},
   "outputs": [],
   "source": [
    "\n",
    " import numpy as np\n",
    " from keras.models import Sequential\n",
    " from keras.layers import Dense\n",
    "data= np.random.random((1000,100))\n",
    "labels= np.random.randint(2,size=(1000,1))\n",
    "model= Sequential()\n",
    " model.add(Dense(32,\n",
    "                    activation='relu', input_dim=100))\n",
    " model.add(Oense(1, activation='sigmoid'))\n",
    " model.compile(optimizer='rmsprop' ,\n",
    "                    loss='binary_crossentropy', \n",
    "                    metrics=['accuracy' ])\n",
    " model.fit(data,labels,epochs=10,batch_size=32)\n",
    " predictions= model.predict(data)"
   ]
  },
  {
   "cell_type": "code",
   "execution_count": null,
   "id": "7f1ed97c",
   "metadata": {},
   "outputs": [],
   "source": [
    "\n",
    "### Data"
   ]
  },
  {
   "cell_type": "code",
   "execution_count": null,
   "id": "d393cfaa",
   "metadata": {},
   "outputs": [],
   "source": [
    "Your data needs to be stored as NumPy arrays or as a list of NumPy\n",
    "arrays. Ideally, you split the data in training and test sets, for which\n",
    "you can also resort to the train_test_split module of sklearn. cross\\_\n",
    "validation."
   ]
  },
  {
   "cell_type": "code",
   "execution_count": null,
   "id": "bbb22a30",
   "metadata": {},
   "outputs": [],
   "source": [
    "**Keras Data Sets**"
   ]
  },
  {
   "cell_type": "code",
   "execution_count": null,
   "id": "22da0210",
   "metadata": {},
   "outputs": [],
   "source": [
    "\n",
    " from keras.datasets import boston_housing, mnist, cifar10, imdb\n",
    " (x_train,y_train),(x_test,y_test) = mnist.load _data()\n",
    " (x_train2,y_train2),(x_test2,y_test2) = boston_housing.load_data()\n",
    " (x_train3,y_train3),(x_test3,y_test3) = cifar10.load_data()\n",
    " (x_train4,y_train4),(x_test4,y_test4) = imdb.load_data(num_words=20000)\n",
    " num_classes = 10"
   ]
  },
  {
   "cell_type": "code",
   "execution_count": null,
   "id": "257c0995",
   "metadata": {},
   "outputs": [],
   "source": [
    "\n",
    "**Other**"
   ]
  },
  {
   "cell_type": "code",
   "execution_count": null,
   "id": "762b9932",
   "metadata": {},
   "outputs": [],
   "source": [
    "\n",
    " from urllib.request import urlopen\n",
    " data =\n",
    "np.loadtxt(urlopen( \"http://archive.ics.uci.edu/ml/machine-learning-databa ses/pima-indians-dibetes/pima-indians-d iabetes.data')',delimiter=\",\")\n",
    " X = data[:,0:8]\n",
    " y = data [:,8]"
   ]
  },
  {
   "cell_type": "code",
   "execution_count": null,
   "id": "c0fd92cc",
   "metadata": {},
   "outputs": [],
   "source": [
    "\n",
    "### Preprocessing"
   ]
  },
  {
   "cell_type": "code",
   "execution_count": null,
   "id": "04349bce",
   "metadata": {},
   "outputs": [],
   "source": [
    "**Sequence Padding**"
   ]
  },
  {
   "cell_type": "code",
   "execution_count": null,
   "id": "74a852e7",
   "metadata": {},
   "outputs": [],
   "source": [
    "\n",
    " from keras.preprocessing import sequence\n",
    " x_train4 = sequence.pad_sequences(x _train4,maxlen=80)\n",
    " x test4 = sequence.pad_sequences(x_test4,maxlen=80)"
   ]
  },
  {
   "cell_type": "code",
   "execution_count": null,
   "id": "12ed87c1",
   "metadata": {},
   "outputs": [],
   "source": [
    "\n",
    "**One-Hot Encoding**"
   ]
  },
  {
   "cell_type": "code",
   "execution_count": null,
   "id": "d19c5525",
   "metadata": {},
   "outputs": [],
   "source": [
    "\n",
    " from keras.utils import to_categorical\n",
    ">>Y_train = to_categorical(y_train,num_classes)\n",
    " Y_test = to_categorical(y_test,num_classes)\n",
    " Y_train3 = to_categorical(y_train3,num_classes\n",
    " Y_test3 = to_categorical(y_test3,num_classes)"
   ]
  },
  {
   "cell_type": "code",
   "execution_count": null,
   "id": "786fbd66",
   "metadata": {},
   "outputs": [],
   "source": [
    "\n",
    "### Model Architecture"
   ]
  },
  {
   "cell_type": "code",
   "execution_count": null,
   "id": "4143bd57",
   "metadata": {},
   "outputs": [],
   "source": [
    "**Sequential Model**"
   ]
  },
  {
   "cell_type": "code",
   "execution_count": null,
   "id": "ee239dc2",
   "metadata": {},
   "outputs": [],
   "source": [
    "\n",
    " from keras.models import Sequential\n",
    " model= Sequential()\n",
    " model2 = Sequential()\n",
    " model3 = Sequential()"
   ]
  },
  {
   "cell_type": "code",
   "execution_count": null,
   "id": "52b695f4",
   "metadata": {},
   "outputs": [],
   "source": [
    "\n",
    "### **Multilayer Perceptron (MLP)**"
   ]
  },
  {
   "cell_type": "code",
   "execution_count": null,
   "id": "77d7cad4",
   "metadata": {},
   "outputs": [],
   "source": [
    "**Binary Classification**"
   ]
  },
  {
   "cell_type": "code",
   "execution_count": null,
   "id": "b080272b",
   "metadata": {},
   "outputs": [],
   "source": [
    "\n",
    " from keras.layers import Dense\n",
    " model.add(Dense(12,\n",
    "                    input _dim=8, \n",
    "                    kernel_initializer='uniform',\n",
    "                    activation='relu') )\n",
    " model.add(Dense(8,kernel_initialiezr='uniform',activation='relu'))\n",
    " model.add(Dense(l,kernel_initialiezr='uniform',activation='sigmoid'))"
   ]
  },
  {
   "cell_type": "code",
   "execution_count": null,
   "id": "4f0adfec",
   "metadata": {},
   "outputs": [],
   "source": [
    "\n",
    "**Multi-Class Classification**"
   ]
  },
  {
   "cell_type": "code",
   "execution_count": null,
   "id": "69dd0c19",
   "metadata": {},
   "outputs": [],
   "source": [
    "\n",
    " from keras.layers import Dropout\n",
    " model.add(Dense(512,activation='relu',input_shape=(784,)))\n",
    " model.add(Dropout(0.2))\n",
    " model.add(Dense(512,activation='relu'))\n",
    " model.add(Dropout(0.2))\n",
    " model.add(Dense(10,activation='softmax' ))"
   ]
  },
  {
   "cell_type": "code",
   "execution_count": null,
   "id": "a92c7708",
   "metadata": {},
   "outputs": [],
   "source": [
    "\n",
    "**Regression**"
   ]
  },
  {
   "cell_type": "code",
   "execution_count": null,
   "id": "915facff",
   "metadata": {},
   "outputs": [],
   "source": [
    "\n",
    " model.add(Dense(64,activation='relu',input_dim=train_data.shape[1]))\n",
    " model.add(Dense(1))"
   ]
  },
  {
   "cell_type": "code",
   "execution_count": null,
   "id": "85d92b32",
   "metadata": {},
   "outputs": [],
   "source": [
    "\n",
    "## **Convolutional Neural Network (CNN)**"
   ]
  },
  {
   "cell_type": "code",
   "execution_count": null,
   "id": "3759779c",
   "metadata": {},
   "outputs": [],
   "source": [
    "\n",
    " from keras.layers import Activation,Conv2D,MaxPooling20,Flatten\n",
    " model2.add(Conv20(32,(,3),padding= 'same',input _shape=x _train.shape[1:]))\n",
    " model2.add(Activation('relu'))\n",
    " model2.add(Conv20(32,(3,3)))\n",
    " model2.add(Activation('relu'))\n",
    " model2.add(MaxPooling2D( pool_size=(2,2)))\n",
    " model2.add(Dropout(0.25))\n",
    " model2.add(Conv20(64,(3,3), padding= 'same'))\n",
    " model2.add(Activation('relu'))\n",
    " model2.add(Conv20(64,(3, 3)))\n",
    " model2.add(Activation('relu'))\n",
    " model2.add(MaxPooling2D( pool_size=(2,2)))\n",
    " model2.add(Dropout(0.25))\n",
    " model2.add(Flatten())\n",
    " model2.add(Dense(512))\n",
    " model2.add(Activation('relu'))\n",
    " model2.add(Dropout(0.5))\n",
    " model2.add(Dense(num_classes))\n",
    " model2.add(Activation('softmax'))"
   ]
  },
  {
   "cell_type": "code",
   "execution_count": null,
   "id": "f485d5f1",
   "metadata": {},
   "outputs": [],
   "source": [
    "\n",
    "### **Recurrent Neural Network (RNN)**"
   ]
  },
  {
   "cell_type": "code",
   "execution_count": null,
   "id": "74a3572d",
   "metadata": {},
   "outputs": [],
   "source": [
    "\n",
    " from keras.klayers import Embedding,LSTM\n",
    " model3.add(Embedding(20000,128))\n",
    " model3.add(LSTM(128,dropout =0.2,recurrent_dropout=0.2))\n",
    " model3.add(Dense(l,activation='sigmoid'))"
   ]
  },
  {
   "cell_type": "code",
   "execution_count": null,
   "id": "cfa6f95f",
   "metadata": {},
   "outputs": [],
   "source": [
    "\n",
    "### Prediction"
   ]
  },
  {
   "cell_type": "code",
   "execution_count": null,
   "id": "6f02b8d4",
   "metadata": {},
   "outputs": [],
   "source": [
    "\n",
    " model3.predict(x_test4, ba tch_size=32)\n",
    " model3.predict_classes(x_test4,batch _size=32)"
   ]
  },
  {
   "cell_type": "code",
   "execution_count": null,
   "id": "56215f77",
   "metadata": {},
   "outputs": [],
   "source": [
    "\n",
    "**Train and Test Sets**"
   ]
  },
  {
   "cell_type": "code",
   "execution_count": null,
   "id": "f14a42ba",
   "metadata": {},
   "outputs": [],
   "source": [
    "\n",
    " from sklearn.mode l_selection import train_test_split\n",
    " X_train5,X_test5,y_train5,y_test5 = train_test_split(X, y,\n",
    "                                                        test_size=0.33, random_state=42)"
   ]
  },
  {
   "cell_type": "code",
   "execution_count": null,
   "id": "ab6d5cb0",
   "metadata": {},
   "outputs": [],
   "source": [
    "\n",
    "**Standardization/Normalization**"
   ]
  },
  {
   "cell_type": "code",
   "execution_count": null,
   "id": "a6c14da8",
   "metadata": {},
   "outputs": [],
   "source": [
    "\n",
    " from sklearn.preprocessing import StandardScaler\n",
    " scaler= StandardScaler().fit(x_train2)\n",
    " standa rdized_X = scaler.transform(x _train2)\n",
    " standardized X test= scaler.transform(x_test2"
   ]
  },
  {
   "cell_type": "code",
   "execution_count": null,
   "id": "486ada9b",
   "metadata": {},
   "outputs": [],
   "source": [
    "\n",
    "### Inspect Model"
   ]
  },
  {
   "cell_type": "code",
   "execution_count": null,
   "id": "f83eac5d",
   "metadata": {},
   "outputs": [],
   "source": [
    "\n",
    " model.output_shape #Model output shape\n",
    " model.summary() #Model summary representation\n",
    " model.get_config() #Model configuration\n",
    " model.get_weights()#List all weight tensors in the model"
   ]
  },
  {
   "cell_type": "code",
   "execution_count": null,
   "id": "2995a832",
   "metadata": {},
   "outputs": [],
   "source": [
    "\n",
    "### **Compile Model**"
   ]
  },
  {
   "cell_type": "code",
   "execution_count": null,
   "id": "73cf4458",
   "metadata": {},
   "outputs": [],
   "source": [
    "**MLP: Binary Classification**"
   ]
  },
  {
   "cell_type": "code",
   "execution_count": null,
   "id": "f63974a2",
   "metadata": {},
   "outputs": [],
   "source": [
    "\n",
    " model.compile(optimizer='adam' ,\n",
    "                  loss= 'binary_crossentropy',\n",
    "                  metrics=['accuracy'])"
   ]
  },
  {
   "cell_type": "code",
   "execution_count": null,
   "id": "9b9d1727",
   "metadata": {},
   "outputs": [],
   "source": [
    "\n",
    "**MLP: Multi-Class Classification**"
   ]
  },
  {
   "cell_type": "code",
   "execution_count": null,
   "id": "4b5aa30c",
   "metadata": {},
   "outputs": [],
   "source": [
    "\n",
    " model.compile(optimizer='rmsprop',\n",
    "                loss='categorical_crossentropy   ,\n",
    "                metrics=[ 'accuracy'])"
   ]
  },
  {
   "cell_type": "code",
   "execution_count": null,
   "id": "d59b9bd0",
   "metadata": {},
   "outputs": [],
   "source": [
    "\n",
    "**MLP: Regression**"
   ]
  },
  {
   "cell_type": "code",
   "execution_count": null,
   "id": "d524d0ba",
   "metadata": {},
   "outputs": [],
   "source": [
    "\n",
    " model.compile(optimizer='rmsprop',\n",
    "                    loss= 'mse,' metrics=['mae'])"
   ]
  },
  {
   "cell_type": "code",
   "execution_count": null,
   "id": "6430f0bb",
   "metadata": {},
   "outputs": [],
   "source": [
    "\n",
    "**Recurrent Neural Network**"
   ]
  },
  {
   "cell_type": "code",
   "execution_count": null,
   "id": "2568e3c2",
   "metadata": {},
   "outputs": [],
   "source": [
    "\n",
    "model3.compile(loss='binary_crossentropy ',\n",
    "                optimizer='adam', \n",
    "                metrics=['accuracy'])"
   ]
  },
  {
   "cell_type": "code",
   "execution_count": null,
   "id": "25d46078",
   "metadata": {},
   "outputs": [],
   "source": [
    "\n",
    "**Model Training**"
   ]
  },
  {
   "cell_type": "code",
   "execution_count": null,
   "id": "37e9f86e",
   "metadata": {},
   "outputs": [],
   "source": [
    "\n",
    "model3.fit(x_train4,\n",
    "           y_train4, \n",
    "           batch_size=32,\n",
    "           epochs=15, \n",
    "           verbose=1,\n",
    "           validation_data=(x_test4,y_test4))"
   ]
  },
  {
   "cell_type": "code",
   "execution_count": null,
   "id": "fb25ea4a",
   "metadata": {},
   "outputs": [],
   "source": [
    "\n",
    "**Evaluate Your Model’s Performance**"
   ]
  },
  {
   "cell_type": "code",
   "execution_count": null,
   "id": "975f7a7e",
   "metadata": {},
   "outputs": [],
   "source": [
    "\n",
    ">> score = model3.evaluate(x_test,\n",
    "                         y_test,\n",
    "                         batch_size=32)"
   ]
  },
  {
   "cell_type": "code",
   "execution_count": null,
   "id": "aa3bcff4",
   "metadata": {},
   "outputs": [],
   "source": [
    "\n",
    "**Save/ Reload Models**"
   ]
  },
  {
   "cell_type": "code",
   "execution_count": null,
   "id": "3c463f58",
   "metadata": {},
   "outputs": [],
   "source": [
    "\n",
    " from keras.models import load_model\n",
    " model3.save( )\n",
    " my_model = load_model( )"
   ]
  },
  {
   "cell_type": "code",
   "execution_count": null,
   "id": "c51c6866",
   "metadata": {},
   "outputs": [],
   "source": [
    "\n",
    "**Model Fine-tuning**"
   ]
  },
  {
   "cell_type": "code",
   "execution_count": null,
   "id": "7e2ac40f",
   "metadata": {},
   "outputs": [],
   "source": [
    "Optimization Parameters"
   ]
  },
  {
   "cell_type": "code",
   "execution_count": null,
   "id": "931df8c4",
   "metadata": {},
   "outputs": [],
   "source": [
    "\n",
    ">> from keras.optimizers import RMSprop\n",
    " opt = RMSprop(lr=0.0001, decay=1e-6)\n",
    " model2.compile(loss= , 'categorical_crossentropy'\n",
    "                 optimizer=opt,\n",
    "                 metrics=[ 'accuracy'])"
   ]
  },
  {
   "cell_type": "code",
   "execution_count": null,
   "id": "5541a272",
   "metadata": {},
   "outputs": [],
   "source": [
    "\n",
    "**Early Stopping**"
   ]
  },
  {
   "cell_type": "code",
   "execution_count": null,
   "id": "664d3e57",
   "metadata": {},
   "outputs": [],
   "source": [
    "\n",
    " from keras.callbacks import EarlyStopping\n",
    " early_stopping_monitor = EarlyStopping(patience=2)\n",
    " model3.fit(x_train4,\n",
    " y_train4,\n",
    " batch_size=32,\n",
    " epochs=15,\n",
    " validation_data=(x_test4,y_test4),\n",
    " callbacks=[early_stopping_monitor])"
   ]
  },
  {
   "cell_type": "code",
   "execution_count": null,
   "id": "80a8d1a9",
   "metadata": {},
   "outputs": [],
   "source": [
    "\n",
    "# Section 10"
   ]
  },
  {
   "cell_type": "code",
   "execution_count": null,
   "id": "61c993b9",
   "metadata": {},
   "outputs": [],
   "source": [
    "# PySpark & Spark SQL"
   ]
  },
  {
   "cell_type": "code",
   "execution_count": null,
   "id": "7fb8862d",
   "metadata": {},
   "outputs": [],
   "source": [
    "<span class=\"image\"></span>"
   ]
  },
  {
   "cell_type": "code",
   "execution_count": null,
   "id": "80b06ee1",
   "metadata": {},
   "outputs": [],
   "source": [
    "**What is PySpark?**"
   ]
  },
  {
   "cell_type": "code",
   "execution_count": null,
   "id": "3d05fcd7",
   "metadata": {},
   "outputs": [],
   "source": [
    "PySpark is an Apache Spark interface in Python. It is used for\n",
    "collaborating with Spark using APIs written in Python. It also supports\n",
    "Spark’s features like Spark DataFrame, Spark SQL, Spark Streaming, Spark\n",
    "MLlib and Spark Core."
   ]
  },
  {
   "cell_type": "code",
   "execution_count": null,
   "id": "6b11d737",
   "metadata": {},
   "outputs": [],
   "source": [
    "**What is PySpark SparkContext?**"
   ]
  },
  {
   "cell_type": "code",
   "execution_count": null,
   "id": "cb4064c3",
   "metadata": {},
   "outputs": [],
   "source": [
    "PySpark SparkContext is an initial entry point of the spark\n",
    "functionality. It also represents Spark Cluster Connection and can be\n",
    "used for creating the Spark RDDs (Resilient Distributed Datasets) and\n",
    "broadcasting the variables on the cluster."
   ]
  },
  {
   "cell_type": "code",
   "execution_count": null,
   "id": "8b9f5063",
   "metadata": {},
   "outputs": [],
   "source": [
    "     from pyspark.sql import SparkSession\n",
    "     spark = SparkSession \\\n",
    "     .builder \\\n",
    "     .appName( ) \\\n",
    "     .config( , ) \\\n",
    "     .getOrCreate()"
   ]
  },
  {
   "cell_type": "code",
   "execution_count": null,
   "id": "3230d7ce",
   "metadata": {},
   "outputs": [],
   "source": [
    "**What is spark-submit?**"
   ]
  },
  {
   "cell_type": "code",
   "execution_count": null,
   "id": "85e1031c",
   "metadata": {},
   "outputs": [],
   "source": [
    "Spark-submit is a utility to run a pyspark application job by specifying\n",
    "options and configurations."
   ]
  },
  {
   "cell_type": "code",
   "execution_count": null,
   "id": "65c8672b",
   "metadata": {},
   "outputs": [],
   "source": [
    "    spark-submit \\\n",
    "    --master <master-url> \\\n",
    "    --deploy-mode <deploy-mode> \\\n",
    "    --conf <key<=<value> \\\n",
    "    --driver-memory <value>g \\\n",
    "    --executor-memory <value>g \\\n",
    "    --executor-cores <number of cores> \\\n",
    "    --jars <comma separated dependencies> \\\n",
    "    --packages <package name> \\\n",
    "    --py-files \\\n",
    "    <application> <application args>"
   ]
  },
  {
   "cell_type": "code",
   "execution_count": null,
   "id": "8e82bbf2",
   "metadata": {},
   "outputs": [],
   "source": [
    "where"
   ]
  },
  {
   "cell_type": "code",
   "execution_count": null,
   "id": "de559a97",
   "metadata": {},
   "outputs": [],
   "source": [
    "–master : Cluster Manager (yarn, mesos, Kubernetes, local, local(k))  \n",
    "–deploy-mode: Either cluster or client  \n",
    "–conf: We can provide runtime configurations, shuffle parameters,\n",
    "application configurations using –conf. Ex: –conf\n",
    "spark.sql.shuffle.partitions = 300  \n",
    "–driver-memory : Amount of memory to allocate for a driver (Default:\n",
    "1024M).  \n",
    "–executor-memory : Amount of memory to use for the executor process.  \n",
    "–executor cores : Number of CPU cores to use for the executor process."
   ]
  },
  {
   "cell_type": "code",
   "execution_count": null,
   "id": "49f6f731",
   "metadata": {},
   "outputs": [],
   "source": [
    "**What are RDDs in PySpark?**"
   ]
  },
  {
   "cell_type": "code",
   "execution_count": null,
   "id": "7100807d",
   "metadata": {},
   "outputs": [],
   "source": [
    "RDDs expand to Resilient Distributed Datasets. These are the elements\n",
    "that are used for running and operating on multiple nodes to perform\n",
    "parallel processing on a cluster. Since RDDs are suited for parallel\n",
    "processing, they are immutable elements. This means that once we create\n",
    "RDD, we cannot modify it. RDDs are also fault-tolerant which means that\n",
    "whenever failure happens, they can be recovered automatically. Multiple\n",
    "operations can be performed on RDDs to perform a certain task."
   ]
  },
  {
   "cell_type": "code",
   "execution_count": null,
   "id": "4757073d",
   "metadata": {},
   "outputs": [],
   "source": [
    "-   Data Representation: RDD is a distributed collection of data\n",
    "    elements without any schema\n",
    "-   Optimization: No in-built optimization engine for RDDs\n",
    "-   Schema: we need to define the schema manually.\n",
    "-   Aggregation Operation: RDD is slower than both Dataframes and\n",
    "    Datasets to perform simple operations like grouping the data"
   ]
  },
  {
   "cell_type": "code",
   "execution_count": null,
   "id": "b47f09c3",
   "metadata": {},
   "outputs": [],
   "source": [
    "**Creation of RDD using textFile API**"
   ]
  },
  {
   "cell_type": "code",
   "execution_count": null,
   "id": "a2179c69",
   "metadata": {},
   "outputs": [],
   "source": [
    "    rdd = spark.sparkContext.textFile('practice/test')\n",
    "    rdd.take(5)\n",
    "    for i in rdd.take(5): print(i)"
   ]
  },
  {
   "cell_type": "code",
   "execution_count": null,
   "id": "1bef245d",
   "metadata": {},
   "outputs": [],
   "source": [
    "**Get the Number of Partitions in the RDD**"
   ]
  },
  {
   "cell_type": "code",
   "execution_count": null,
   "id": "3e98f411",
   "metadata": {},
   "outputs": [],
   "source": [
    "    rdd.getNumPartitions()"
   ]
  },
  {
   "cell_type": "code",
   "execution_count": null,
   "id": "72fdbbb1",
   "metadata": {},
   "outputs": [],
   "source": [
    "**Get the Number of elements in each partition**"
   ]
  },
  {
   "cell_type": "code",
   "execution_count": null,
   "id": "9964ecf6",
   "metadata": {},
   "outputs": [],
   "source": [
    "    rdd.glom().map(len).collect()"
   ]
  },
  {
   "cell_type": "code",
   "execution_count": null,
   "id": "7f207126",
   "metadata": {},
   "outputs": [],
   "source": [
    "**Create RDD using textFile API and a defined number of partitions**"
   ]
  },
  {
   "cell_type": "code",
   "execution_count": null,
   "id": "59a3efab",
   "metadata": {},
   "outputs": [],
   "source": [
    "    rdd = spark.sparkContext.textFile('practice/test',10)"
   ]
  },
  {
   "cell_type": "code",
   "execution_count": null,
   "id": "38e37924",
   "metadata": {},
   "outputs": [],
   "source": [
    "**Create a RDD from a Python List**"
   ]
  },
  {
   "cell_type": "code",
   "execution_count": null,
   "id": "425306d9",
   "metadata": {},
   "outputs": [],
   "source": [
    "    lst = [1,2,3,4,5,6,7]\n",
    "    rdd = spark.sparkContext.parallelize(lst)\n",
    "    for i in rdd.take(5) : print(i)"
   ]
  },
  {
   "cell_type": "code",
   "execution_count": null,
   "id": "476d51eb",
   "metadata": {},
   "outputs": [],
   "source": [
    "**Create a RDD from a Python List**"
   ]
  },
  {
   "cell_type": "code",
   "execution_count": null,
   "id": "55e63034",
   "metadata": {},
   "outputs": [],
   "source": [
    "    lst = [1,2,3,4,5,6,7]\n",
    "    rdd = spark.sparkContext.parallelize(lst)\n",
    "    for i in rdd.take(5) : print(i)"
   ]
  },
  {
   "cell_type": "code",
   "execution_count": null,
   "id": "9e235bca",
   "metadata": {},
   "outputs": [],
   "source": [
    "**Create a RDD from local file**"
   ]
  },
  {
   "cell_type": "code",
   "execution_count": null,
   "id": "8fefa535",
   "metadata": {},
   "outputs": [],
   "source": [
    "    lst = open('/staging/test/sample.txt').read().splitlines()\n",
    "    lst[0:10]\n",
    "    rdd = spark.sparkContext.parallelize(lst)\n",
    "    for i in rdd.take(5) : print(i)"
   ]
  },
  {
   "cell_type": "code",
   "execution_count": null,
   "id": "c07461e5",
   "metadata": {},
   "outputs": [],
   "source": [
    "**Create RDD from range function**"
   ]
  },
  {
   "cell_type": "code",
   "execution_count": null,
   "id": "08e267fb",
   "metadata": {},
   "outputs": [],
   "source": [
    "    lst1 = range(10)\n",
    "    rdd = spark.sparkContext.parallelize(lst1)\n",
    "    for i in rdd.take(5) : print(i)"
   ]
  },
  {
   "cell_type": "code",
   "execution_count": null,
   "id": "8e85c486",
   "metadata": {},
   "outputs": [],
   "source": [
    "**Create RDD from a DataFrame**"
   ]
  },
  {
   "cell_type": "code",
   "execution_count": null,
   "id": "bd5f6fa3",
   "metadata": {},
   "outputs": [],
   "source": [
    "    df=spark.createDataFrame(data=(('robert',35),('Mike',45)),schema=('name','age'))\n",
    "    df.printSchema()\n",
    "    df.show()\n",
    "    rdd1= df.rdd\n",
    "    type(rdd1)\n",
    "    for i in rdd1.take(2) : print(i)"
   ]
  },
  {
   "cell_type": "code",
   "execution_count": null,
   "id": "bd8dc2b4",
   "metadata": {},
   "outputs": [],
   "source": [
    "**What are Dataframes?**"
   ]
  },
  {
   "cell_type": "code",
   "execution_count": null,
   "id": "715a5f98",
   "metadata": {},
   "outputs": [],
   "source": [
    "It was introduced first in Spark version 1.3 to overcome the limitations\n",
    "of the Spark RDD. Spark Dataframes are the distributed collection of the\n",
    "data points, but here, the data is organized into the named columns"
   ]
  },
  {
   "cell_type": "code",
   "execution_count": null,
   "id": "b68351c2",
   "metadata": {},
   "outputs": [],
   "source": [
    "-   Data Representation:It is also the distributed collection organized\n",
    "    into the named columns\n",
    "-   Optimization: It uses a catalyst optimizer for optimization.\n",
    "-   Schema: It will automatically find out the schema of the dataset.\n",
    "-   Aggregation Operation: It performs aggregation faster than both RDDs\n",
    "    and Datasets."
   ]
  },
  {
   "cell_type": "code",
   "execution_count": null,
   "id": "be94bf23",
   "metadata": {},
   "outputs": [],
   "source": [
    "**What are Datasets?**"
   ]
  },
  {
   "cell_type": "code",
   "execution_count": null,
   "id": "fd25699a",
   "metadata": {},
   "outputs": [],
   "source": [
    "Spark Datasets is an extension of Dataframes API with the benefits of\n",
    "both RDDs and the Datasets. It is fast as well as provides a type-safe\n",
    "interface."
   ]
  },
  {
   "cell_type": "code",
   "execution_count": null,
   "id": "e3952a4c",
   "metadata": {},
   "outputs": [],
   "source": [
    "-   Data Representation:It is an extension of Dataframes with more\n",
    "    features like type-safety and object-oriented interface.\n",
    "-   Optimization:It uses a catalyst optimizer for optimization.\n",
    "-   Schema: It will automatically find out the schema of the dataset.\n",
    "-   Aggregation Operation:Dataset is faster than RDDs but a bit slower\n",
    "    than Dataframes."
   ]
  },
  {
   "cell_type": "code",
   "execution_count": null,
   "id": "ebe73ae7",
   "metadata": {},
   "outputs": [],
   "source": [
    "**What type of operation has Pyspark?**"
   ]
  },
  {
   "cell_type": "code",
   "execution_count": null,
   "id": "92f4feb1",
   "metadata": {},
   "outputs": [],
   "source": [
    "The operations can be of 2 types, actions and transformation."
   ]
  },
  {
   "cell_type": "code",
   "execution_count": null,
   "id": "e8df1137",
   "metadata": {},
   "outputs": [],
   "source": [
    "**What is Transformation in Pyspark?**"
   ]
  },
  {
   "cell_type": "code",
   "execution_count": null,
   "id": "8e6ba72e",
   "metadata": {},
   "outputs": [],
   "source": [
    "Transformation: These operations when applied on RDDs result in the\n",
    "creation of a new RDD. Some of the examples of transformation operations\n",
    "are filter, groupBy, map. Let us take an example to demonstrate\n",
    "transformation operation by considering filter() operation:"
   ]
  },
  {
   "cell_type": "code",
   "execution_count": null,
   "id": "be5285c0",
   "metadata": {},
   "outputs": [],
   "source": [
    "\n",
    "from pyspark import SparkContext\n",
    "sc = SparkContext(\"local\", \"Transdormation Demo\")\n",
    "words_list = sc.parallelize (\n",
    "  [\"pyspark\", \n",
    "  \"interview\", \n",
    "  \"questions\"]\n",
    ")\n",
    "filtered_words = words_list.filter(lambda x: 'interview' in x)\n",
    "filtered = filtered_words.collect()\n",
    "print(filtered)"
   ]
  },
  {
   "cell_type": "code",
   "execution_count": null,
   "id": "d8414483",
   "metadata": {},
   "outputs": [],
   "source": [
    "\n",
    "The output of the above code would be:"
   ]
  },
  {
   "cell_type": "code",
   "execution_count": null,
   "id": "f264dddc",
   "metadata": {},
   "outputs": [],
   "source": [
    "    [\n",
    "      \"interview\"\n",
    "    ]"
   ]
  },
  {
   "cell_type": "code",
   "execution_count": null,
   "id": "22a67c6c",
   "metadata": {},
   "outputs": [],
   "source": [
    "**What is Action in Pyspark?**"
   ]
  },
  {
   "cell_type": "code",
   "execution_count": null,
   "id": "f6df9dd5",
   "metadata": {},
   "outputs": [],
   "source": [
    "Action: These operations instruct Spark to perform some computations on\n",
    "the RDD and return the result to the driver. It sends data from the\n",
    "Executer to the driver. count(), collect(), take() are some of the\n",
    "examples. Let us consider an example to demonstrate action operation by\n",
    "making use of the count() function."
   ]
  },
  {
   "cell_type": "code",
   "execution_count": null,
   "id": "21dab4ea",
   "metadata": {},
   "outputs": [],
   "source": [
    "\n",
    "from pyspark import SparkContext\n",
    "sc = SparkContext(\"local\", \"Action Demo\")\n",
    "words = sc.parallelize (\n",
    "  [\"pyspark\", \n",
    "  \"interview\", \n",
    "  \"questions\"]\n",
    ")\n",
    "counts = words.count()\n",
    "print(\"Count of elements in RDD -> \",  counts)"
   ]
  },
  {
   "cell_type": "code",
   "execution_count": null,
   "id": "16523dec",
   "metadata": {},
   "outputs": [],
   "source": [
    "\n",
    "we count the number of elements in the spark RDDs. The output of this\n",
    "code is Count of elements in RDD -\\> 3 \\#\\# Creating DataFrame"
   ]
  },
  {
   "cell_type": "code",
   "execution_count": null,
   "id": "229cdd0d",
   "metadata": {},
   "outputs": [],
   "source": [
    "**From RDDs**"
   ]
  },
  {
   "cell_type": "code",
   "execution_count": null,
   "id": "90e0cf1f",
   "metadata": {},
   "outputs": [],
   "source": [
    "     from pyspark.sql.types import*"
   ]
  },
  {
   "cell_type": "code",
   "execution_count": null,
   "id": "9b1144fb",
   "metadata": {},
   "outputs": [],
   "source": [
    "**Infer Schema**"
   ]
  },
  {
   "cell_type": "code",
   "execution_count": null,
   "id": "f509b0f8",
   "metadata": {},
   "outputs": [],
   "source": [
    "\n",
    ">> sc = spark.sparkContext\n",
    " lines = sc.textFile(\"people.txt\" )\n",
    " parts = lines.map(lambda l: l.split(\",\"))\n",
    " people = parts.map(lambda p: Row(name=p[0],age=int(p[1])))\n",
    " peopledf = spark.createDataFrame(people)"
   ]
  },
  {
   "cell_type": "code",
   "execution_count": null,
   "id": "79d97ec2",
   "metadata": {},
   "outputs": [],
   "source": [
    "\n",
    "**Specify Schema**"
   ]
  },
  {
   "cell_type": "code",
   "execution_count": null,
   "id": "86ffdf5a",
   "metadata": {},
   "outputs": [],
   "source": [
    "\n",
    " people = parts.map(lambda p: Row(name=p[0],\n",
    "                        age=int(p[1].strip())))\n",
    " schemaString = \"name age\"\n",
    " fields = [StructField(field_name, StringType(), True) for\n",
    "field_name in schemaString.split()]\n",
    " schema = StructType(fields)\n",
    " spark.createDataFrame(people, schema).show()"
   ]
  },
  {
   "cell_type": "code",
   "execution_count": null,
   "id": "0df29b02",
   "metadata": {},
   "outputs": [],
   "source": [
    "\n",
    "<span class=\"image\"></span>"
   ]
  },
  {
   "cell_type": "code",
   "execution_count": null,
   "id": "c869f3cc",
   "metadata": {},
   "outputs": [],
   "source": [
    "**From Spark Data Sources**"
   ]
  },
  {
   "cell_type": "code",
   "execution_count": null,
   "id": "4af6a280",
   "metadata": {},
   "outputs": [],
   "source": [
    "**JSON**"
   ]
  },
  {
   "cell_type": "code",
   "execution_count": null,
   "id": "97aa6089",
   "metadata": {},
   "outputs": [],
   "source": [
    "     df = spark.read.json( \"customer.json\")           \n",
    "     df.show()"
   ]
  },
  {
   "cell_type": "code",
   "execution_count": null,
   "id": "d1531405",
   "metadata": {},
   "outputs": [],
   "source": [
    "<span class=\"image\"></span>"
   ]
  },
  {
   "cell_type": "code",
   "execution_count": null,
   "id": "64ba0fff",
   "metadata": {},
   "outputs": [],
   "source": [
    "\n",
    " df2 = spark.read.load( \"people.json\" , format= \"json\")"
   ]
  },
  {
   "cell_type": "code",
   "execution_count": null,
   "id": "cbd504d2",
   "metadata": {},
   "outputs": [],
   "source": [
    "\n",
    "**Parquet files**"
   ]
  },
  {
   "cell_type": "code",
   "execution_count": null,
   "id": "08dfa6ee",
   "metadata": {},
   "outputs": [],
   "source": [
    "\n",
    " df3 = spark.read.load(\"people.parquet\" )"
   ]
  },
  {
   "cell_type": "code",
   "execution_count": null,
   "id": "2215b9ef",
   "metadata": {},
   "outputs": [],
   "source": [
    "\n",
    "**TXT files**"
   ]
  },
  {
   "cell_type": "code",
   "execution_count": null,
   "id": "5db330d3",
   "metadata": {},
   "outputs": [],
   "source": [
    "     df4 = spark.read.text( \"people.txt\")"
   ]
  },
  {
   "cell_type": "code",
   "execution_count": null,
   "id": "9939e65e",
   "metadata": {},
   "outputs": [],
   "source": [
    "### Filter"
   ]
  },
  {
   "cell_type": "code",
   "execution_count": null,
   "id": "e53a41be",
   "metadata": {},
   "outputs": [],
   "source": [
    "Filter entries of age, only keep those records of which the values are\n",
    "\\>24"
   ]
  },
  {
   "cell_type": "code",
   "execution_count": null,
   "id": "91fd7f22",
   "metadata": {},
   "outputs": [],
   "source": [
    "     df.filter(df[\"age\"] >24).show() "
   ]
  },
  {
   "cell_type": "code",
   "execution_count": null,
   "id": "09721882",
   "metadata": {},
   "outputs": [],
   "source": [
    "Duplicate Values"
   ]
  },
  {
   "cell_type": "code",
   "execution_count": null,
   "id": "38fc8f30",
   "metadata": {},
   "outputs": [],
   "source": [
    "     df = df.dropDuplicates()"
   ]
  },
  {
   "cell_type": "code",
   "execution_count": null,
   "id": "ef0daefd",
   "metadata": {},
   "outputs": [],
   "source": [
    "### Queries"
   ]
  },
  {
   "cell_type": "code",
   "execution_count": null,
   "id": "a6003027",
   "metadata": {},
   "outputs": [],
   "source": [
    "**What is PySpark SQL?** PySpark SQL is the most popular PySpark module\n",
    "that is used to process structured columnar data. Once a DataFrame is\n",
    "created, we can interact with data using the SQL syntax. Spark SQL is\n",
    "used for bringing native raw SQL queries on Spark by using select,\n",
    "where, group by, join, union etc. For using PySpark SQL, the first step\n",
    "is to create a temporary table on DataFrame by using\n",
    "createOrReplaceTempView()"
   ]
  },
  {
   "cell_type": "code",
   "execution_count": null,
   "id": "9e63901e",
   "metadata": {},
   "outputs": [],
   "source": [
    "     from pyspark.sql import functions as F"
   ]
  },
  {
   "cell_type": "code",
   "execution_count": null,
   "id": "49c6b52f",
   "metadata": {},
   "outputs": [],
   "source": [
    "**Select**"
   ]
  },
  {
   "cell_type": "code",
   "execution_count": null,
   "id": "ffd9aa68",
   "metadata": {},
   "outputs": [],
   "source": [
    "\n",
    " df.select( \"firstName\").show() #Show all entries in firstNome column\n",
    " df.select( \"firstName\",\"lastName\") \\\n",
    "       .show()\n",
    " df.select( \"firstName\", #Show all entries in firstNome, age and type\n",
    "                \"age\" ,\n",
    "                explode(''phoneNumber'') \\\n",
    "                .alias(''contactlnfo')') \\\n",
    "        .select(\"contactlnfo.type\",\n",
    "                \"firstName\",\n",
    "                \"age\" ) \\\n",
    "        .show()\n",
    " df.select(df[\"firstName\",df[ \"age\" ]+ 1)  #Show all entries in firstName and age,\n",
    "       .show()  #add 1 to the entries of age            \n",
    " df.select(df['age'] > 24).show() #Show all entries where age >24"
   ]
  },
  {
   "cell_type": "code",
   "execution_count": null,
   "id": "b5c8ca6c",
   "metadata": {},
   "outputs": [],
   "source": [
    "\n",
    "**When**"
   ]
  },
  {
   "cell_type": "code",
   "execution_count": null,
   "id": "167b3052",
   "metadata": {},
   "outputs": [],
   "source": [
    "\n",
    " df.select( \"firstName\", #Show firstName and 0 or 1 depending on age >30 \n",
    "                F.when(df.age > 30, 1) \\\n",
    "        .otherwise(0)) \\\n",
    "        .show()\n",
    "     df[ df.firstName.isin( \"Jane\" ,\"Boris\") ] #Show firstName if in the given options\n",
    "                    .collect()"
   ]
  },
  {
   "cell_type": "code",
   "execution_count": null,
   "id": "a9d95c60",
   "metadata": {},
   "outputs": [],
   "source": [
    "\n",
    "**Like**"
   ]
  },
  {
   "cell_type": "code",
   "execution_count": null,
   "id": "c6ea1837",
   "metadata": {},
   "outputs": [],
   "source": [
    "\n",
    "#Show firstName, and lastName is TRUE if lastName is like Smith\n",
    " df.select( \"firstName\",\n",
    "                df.lastName .like(''Smith')') \\\n",
    "      .show()"
   ]
  },
  {
   "cell_type": "code",
   "execution_count": null,
   "id": "f129e36a",
   "metadata": {},
   "outputs": [],
   "source": [
    "\n",
    "**Startswith** - **Endswith**"
   ]
  },
  {
   "cell_type": "code",
   "execution_count": null,
   "id": "9581a34d",
   "metadata": {},
   "outputs": [],
   "source": [
    "     df.select( \"firstName\", #Show firstName, and TRUE if lastName starts with Sm\n",
    "    df.lastName \\\n",
    "        .startswith(\"Sm\")) \\\n",
    "        .show()\n",
    "     df.select(df.lastName.endswith(\"th\"))\\ #Show last names ending in th\n",
    "        .show()"
   ]
  },
  {
   "cell_type": "code",
   "execution_count": null,
   "id": "9cb7c541",
   "metadata": {},
   "outputs": [],
   "source": [
    "**Substring**"
   ]
  },
  {
   "cell_type": "code",
   "execution_count": null,
   "id": "0ec486bd",
   "metadata": {},
   "outputs": [],
   "source": [
    "     df.select(df.firstName.substr(l, 3) \\ #Return substrings of firstName\n",
    "          .alias(''name')') \\\n",
    "          .collect()"
   ]
  },
  {
   "cell_type": "code",
   "execution_count": null,
   "id": "8ca6860d",
   "metadata": {},
   "outputs": [],
   "source": [
    "**Between**"
   ]
  },
  {
   "cell_type": "code",
   "execution_count": null,
   "id": "20a8b83c",
   "metadata": {},
   "outputs": [],
   "source": [
    "     df.select(df.age.between(22, 2s)) \\ #Show age: values are TRUE if between 22 and 24"
   ]
  },
  {
   "cell_type": "code",
   "execution_count": null,
   "id": "f04b4a48",
   "metadata": {},
   "outputs": [],
   "source": [
    "### Add, Update & Remove Columns"
   ]
  },
  {
   "cell_type": "code",
   "execution_count": null,
   "id": "af7ced83",
   "metadata": {},
   "outputs": [],
   "source": [
    "**Adding Columns**"
   ]
  },
  {
   "cell_type": "code",
   "execution_count": null,
   "id": "44c5c691",
   "metadata": {},
   "outputs": [],
   "source": [
    "     df = df.withColumn( 'city',df.address.city) \\\n",
    "                .withColumn( 'postalCade',df.address.pastalCode) \\\n",
    "                .withCalumn( 'state',df.address.state) \\\n",
    "                .withColumn( 'streetAddress',df.address.streetAddress) \\\n",
    "                .withColumn( 'telePhoneNumber ',explode(df.phoneNumber.number)) \\\n",
    "                .withColumn( 'telePhone Type',explode(df.phoneNumber.type))"
   ]
  },
  {
   "cell_type": "code",
   "execution_count": null,
   "id": "b2404840",
   "metadata": {},
   "outputs": [],
   "source": [
    "**Updating Columns**"
   ]
  },
  {
   "cell_type": "code",
   "execution_count": null,
   "id": "f5f3a44d",
   "metadata": {},
   "outputs": [],
   "source": [
    "     df=df.withColumnRenamed('telePhoneNumber ','phoneNumber' )"
   ]
  },
  {
   "cell_type": "code",
   "execution_count": null,
   "id": "fa49ce25",
   "metadata": {},
   "outputs": [],
   "source": [
    "**Removing Columns**"
   ]
  },
  {
   "cell_type": "code",
   "execution_count": null,
   "id": "07fa62a9",
   "metadata": {},
   "outputs": [],
   "source": [
    "     df = df.drop (\"address\",\"phoneNumber\")\n",
    "     df = df.drop(df.address).drop(df.phoneNumber)"
   ]
  },
  {
   "cell_type": "code",
   "execution_count": null,
   "id": "89df3aad",
   "metadata": {},
   "outputs": [],
   "source": [
    "### Missing & Replacing Values"
   ]
  },
  {
   "cell_type": "code",
   "execution_count": null,
   "id": "f166f277",
   "metadata": {},
   "outputs": [],
   "source": [
    "\n",
    " df.na.fill(50).show() #Replace null values\n",
    " df.na.drop().shaw() #Return new df omitting rows with null values\n",
    " df.na \\ #Return new df replacing one value with another\n",
    "      .replace(10, 20) \\\n",
    "      .show()"
   ]
  },
  {
   "cell_type": "code",
   "execution_count": null,
   "id": "602d09a4",
   "metadata": {},
   "outputs": [],
   "source": [
    "\n",
    "### GroupBy"
   ]
  },
  {
   "cell_type": "code",
   "execution_count": null,
   "id": "c276381a",
   "metadata": {},
   "outputs": [],
   "source": [
    "\n",
    " df.groupBy(\"age\")\\ #Group by age, count the members in the groups\n",
    "      .count() \\\n",
    "      .show()"
   ]
  },
  {
   "cell_type": "code",
   "execution_count": null,
   "id": "ad627520",
   "metadata": {},
   "outputs": [],
   "source": [
    "\n",
    "### Sort"
   ]
  },
  {
   "cell_type": "code",
   "execution_count": null,
   "id": "1bee3535",
   "metadata": {},
   "outputs": [],
   "source": [
    "\n",
    " peopledf.sort(peopledf.age.desc()).collect()\n",
    " df.sort(\"age\" , ascending=False).collect()\n",
    " df.orderBy([ \"age\", \"city\" ],ascending=[0,1])\\\n",
    "      .collect()"
   ]
  },
  {
   "cell_type": "code",
   "execution_count": null,
   "id": "b5bdffbd",
   "metadata": {},
   "outputs": [],
   "source": [
    "\n",
    "### Repartitioning"
   ]
  },
  {
   "cell_type": "code",
   "execution_count": null,
   "id": "58804a79",
   "metadata": {},
   "outputs": [],
   "source": [
    "\n",
    " df.repartitian(10)\\ #df with 10 partitions\n",
    "      .rdd \\\n",
    "      .getNumPartitions()\n",
    " df.coalesce(1).rdd.getNumPartitions() #df with 1 partition"
   ]
  },
  {
   "cell_type": "code",
   "execution_count": null,
   "id": "f8da8cb0",
   "metadata": {},
   "outputs": [],
   "source": [
    "\n",
    "### Running Queries Programmatically"
   ]
  },
  {
   "cell_type": "code",
   "execution_count": null,
   "id": "e64afde8",
   "metadata": {},
   "outputs": [],
   "source": [
    "     peopledf.createGlobalTempView( \"people\")\n",
    "     df.createTempView (\"customer\") \n",
    "     df.createOrReplaceTempView( \"customer\")"
   ]
  },
  {
   "cell_type": "code",
   "execution_count": null,
   "id": "e21d8dd9",
   "metadata": {},
   "outputs": [],
   "source": [
    "**Query Views**"
   ]
  },
  {
   "cell_type": "code",
   "execution_count": null,
   "id": "0061571d",
   "metadata": {},
   "outputs": [],
   "source": [
    "\n",
    " df5 = spark.sql(\"SELECT * FROM customer\").show()\n",
    " peopledf2=spark.sql( \"SELEC T* FROM global_ temp.people\")\\\n",
    "                    .show()"
   ]
  },
  {
   "cell_type": "code",
   "execution_count": null,
   "id": "0f616ef7",
   "metadata": {},
   "outputs": [],
   "source": [
    "\n",
    "### **Inspect Data**"
   ]
  },
  {
   "cell_type": "code",
   "execution_count": null,
   "id": "e145773c",
   "metadata": {},
   "outputs": [],
   "source": [
    "\n",
    " df.dtypes #Return df column names and data types\n",
    " df.show() #Display the content of df\n",
    " df.head() #Return first n raws\n",
    " df.first() #Return first row\n",
    " df.take(2) #Return the first n rows \n",
    " df.schema Return the schema of df\n",
    " df.describe().show() #Compute summary statistics\n",
    " df.columns Return the columns of df\n",
    " df.count() #Count the number of rows in df\n",
    " df.distinct().count() #Count the number of distinct rows in df\n",
    " df.printSchema() #Print the schema of df\n",
    " df.explain() #Print the (logical and physical) plans"
   ]
  },
  {
   "cell_type": "code",
   "execution_count": null,
   "id": "05607971",
   "metadata": {},
   "outputs": [],
   "source": [
    "\n",
    "### Output"
   ]
  },
  {
   "cell_type": "code",
   "execution_count": null,
   "id": "78dce1f2",
   "metadata": {},
   "outputs": [],
   "source": [
    "**Data Structures**"
   ]
  },
  {
   "cell_type": "code",
   "execution_count": null,
   "id": "63767fc8",
   "metadata": {},
   "outputs": [],
   "source": [
    "     rddl = df.rdd #Convert df into an ROD\n",
    "     df.taJSON().first() #Convert df into a ROD of string\n",
    "     df.toPandas() #Return the contents of df as Pandas DataFrame"
   ]
  },
  {
   "cell_type": "code",
   "execution_count": null,
   "id": "a6e7b0eb",
   "metadata": {},
   "outputs": [],
   "source": [
    "**Write** & **Save to Files**"
   ]
  },
  {
   "cell_type": "code",
   "execution_count": null,
   "id": "7535f5ac",
   "metadata": {},
   "outputs": [],
   "source": [
    "\n",
    " df.select( \"firstName\", \"city\")\\\n",
    " .write \\\n",
    " .save(\"nameAndCity.parquet\" )\n",
    " df.select(\"firstName\", \"age\") \\\n",
    " .write \\\n",
    " .save( \"namesAndAges.json\",format=\"json\")"
   ]
  },
  {
   "cell_type": "code",
   "execution_count": null,
   "id": "e005d727",
   "metadata": {},
   "outputs": [],
   "source": [
    "\n",
    "### **Stopping SparkSession**"
   ]
  },
  {
   "cell_type": "code",
   "execution_count": null,
   "id": "3e96ee86",
   "metadata": {},
   "outputs": [],
   "source": [
    "    >> spark.stop()"
   ]
  },
  {
   "cell_type": "code",
   "execution_count": null,
   "id": "4c496026",
   "metadata": {},
   "outputs": [],
   "source": [
    "## **PySpark RDD**"
   ]
  },
  {
   "cell_type": "code",
   "execution_count": null,
   "id": "6b72a0d9",
   "metadata": {},
   "outputs": [],
   "source": [
    "PySpark is the Spark Python API that exposes the Spark programming model\n",
    "to Python."
   ]
  },
  {
   "cell_type": "code",
   "execution_count": null,
   "id": "5b18782b",
   "metadata": {},
   "outputs": [],
   "source": [
    "**Inspect SparkContext**"
   ]
  },
  {
   "cell_type": "code",
   "execution_count": null,
   "id": "73e37ba0",
   "metadata": {},
   "outputs": [],
   "source": [
    "\n",
    " sc.version #Retrieve SparkContext version\n",
    " sc.pythonVer #Retrieve Python version\n",
    " sc.master #Master URL to connect to\n",
    " str(sc.sparkHome) #Path where Spark is installed an worker nodes\n",
    " str(sc.sparkUser()) #Retrieve name of the Spark User running SparkContext\n",
    " sc.appName #Return application name\n",
    " sc.applicationld #Retrieve application ID\n",
    " sc.defaultParallelism #Return default level of parallelism\n",
    " sc.defaultMinPartitions #Default minimum number of partitions for RDDs"
   ]
  },
  {
   "cell_type": "code",
   "execution_count": null,
   "id": "825d53d6",
   "metadata": {},
   "outputs": [],
   "source": [
    "\n",
    "**Configuration**"
   ]
  },
  {
   "cell_type": "code",
   "execution_count": null,
   "id": "42eab341",
   "metadata": {},
   "outputs": [],
   "source": [
    "     from pyspark import SparkConf, SparkContext\n",
    "     conf = (SparkConf()\n",
    "                .setMaster(\"local\")\n",
    "                .setAppName(\"My app\")\n",
    "                .set(\"spark.executor.memory\",\"1g\" ) )\n",
    "     sc = SparkContext(conf = conf)"
   ]
  },
  {
   "cell_type": "code",
   "execution_count": null,
   "id": "0def7be0",
   "metadata": {},
   "outputs": [],
   "source": [
    "**Using The Shell**"
   ]
  },
  {
   "cell_type": "code",
   "execution_count": null,
   "id": "28447bc1",
   "metadata": {},
   "outputs": [],
   "source": [
    "In the PySpark shell, a special interpreter aware SparkContext is\n",
    "already created in the variable called sc."
   ]
  },
  {
   "cell_type": "code",
   "execution_count": null,
   "id": "f535387d",
   "metadata": {},
   "outputs": [],
   "source": [
    "    $ ./bin/spark shell --master local[2]\n",
    "    $ ./bin/pyspark --master local[4] --py files code.py"
   ]
  },
  {
   "cell_type": "code",
   "execution_count": null,
   "id": "a76dd3a6",
   "metadata": {},
   "outputs": [],
   "source": [
    "Set which master the context connects to with the –master argument, and\n",
    "add Python **.zip, .egg** or **.py** files to the runtime path by\n",
    "passing a comma separated list to –py-files"
   ]
  },
  {
   "cell_type": "code",
   "execution_count": null,
   "id": "c4a711fb",
   "metadata": {},
   "outputs": [],
   "source": [
    "### Loading Data"
   ]
  },
  {
   "cell_type": "code",
   "execution_count": null,
   "id": "cad14bb4",
   "metadata": {},
   "outputs": [],
   "source": [
    "**Parallelized Collections**"
   ]
  },
  {
   "cell_type": "code",
   "execution_count": null,
   "id": "974b66cf",
   "metadata": {},
   "outputs": [],
   "source": [
    "\n",
    " rdd = sc.parallelize([('a',7),('a',2),('b',2)])\n",
    " rdd = sc.parallelize([('a',2),('d',1),('b',1)])\n",
    " rdd3 = sc.parallelize(range(100))\n",
    " rdd4 = sc.parallelize([(\"a\",[\"x\",\"y\",\"z\"]),\n",
    "                            (\"b\",[\"p\",\"r\"])]"
   ]
  },
  {
   "cell_type": "code",
   "execution_count": null,
   "id": "04bf9052",
   "metadata": {},
   "outputs": [],
   "source": [
    "\n",
    "**External Data**"
   ]
  },
  {
   "cell_type": "code",
   "execution_count": null,
   "id": "9a8819f2",
   "metadata": {},
   "outputs": [],
   "source": [
    "Read either one text file from HDFS.a local file system or or any\n",
    "Hadoop-supported file system URI with textFile(). or read in a directory\n",
    "of text files with wholeTextFiles()"
   ]
  },
  {
   "cell_type": "code",
   "execution_count": null,
   "id": "49a0e6cf",
   "metadata": {},
   "outputs": [],
   "source": [
    "\n",
    " textFile = sc.textFile(\"/my/directory/*.txt\")\n",
    " textFile2 = sc.wholeTextFiles( \"/my/directory/\")"
   ]
  },
  {
   "cell_type": "code",
   "execution_count": null,
   "id": "081273a5",
   "metadata": {},
   "outputs": [],
   "source": [
    "\n",
    "### Retrieving RDD Information"
   ]
  },
  {
   "cell_type": "code",
   "execution_count": null,
   "id": "873afd24",
   "metadata": {},
   "outputs": [],
   "source": [
    "**Basic Information**"
   ]
  },
  {
   "cell_type": "code",
   "execution_count": null,
   "id": "0aad5f88",
   "metadata": {},
   "outputs": [],
   "source": [
    "\n",
    " rdd.getNumPartitions() #List the number of partitions\n",
    " rdd.count() #Count ROD instances 3\n",
    " rdd.countByKey() #Count ROD instances by key\n",
    "defaultdict(<type 'int'>,{'a':2,'b' :1})\n",
    " rdd.countByValue() #Count ROD instances by value\n",
    "defaultdict(<type 'int'>,{('b',2):1,'(a',2):1,('a',7):1})\n",
    " rdd.collectAsMap() #Return (key,value) pairs as a dictionary\n",
    "{'a':2,1b':2}\n",
    " rdd3.sum() #Sum of ROD elements 4950\n",
    " sc.parallelize([]).isEmpty() #Check whether ROD is empty\n",
    "True"
   ]
  },
  {
   "cell_type": "code",
   "execution_count": null,
   "id": "de4ee32d",
   "metadata": {},
   "outputs": [],
   "source": [
    "\n",
    "**Summary**"
   ]
  },
  {
   "cell_type": "code",
   "execution_count": null,
   "id": "3741641e",
   "metadata": {},
   "outputs": [],
   "source": [
    "\n",
    " rdd3.max() #Maximum value of ROD elements 99\n",
    " rdd3.min() #Minimum value of ROD elements\n",
    "0\n",
    " rdd3.mean() #Mean value of ROD elements\n",
    ",9.5\n",
    " rdd3.stdev() #Standard deviation of ROD elements 2a.8660700s772211a\n",
    " rdd3.variance() #Compute variance of ROD elements 833.25\n",
    " rdd3.histogram(3) #Compute histogram by bins\n",
    "([0,33,66,991,[33,33,3,])\n",
    " rdd3.stats() #Summary statistics (count, mean, stdev, max & min)"
   ]
  },
  {
   "cell_type": "code",
   "execution_count": null,
   "id": "0bf0c041",
   "metadata": {},
   "outputs": [],
   "source": [
    "\n",
    "### Applying Functions"
   ]
  },
  {
   "cell_type": "code",
   "execution_count": null,
   "id": "3aef158c",
   "metadata": {},
   "outputs": [],
   "source": [
    "\n",
    "#Apply a function to each ROD element\n",
    " rdd.map(lambda x: x+(x[l],x[0])).callect()\n",
    "[('a',7,7,'a'),('a',2,2,'a'),('b',2,2,'b')]\n",
    "#Apply a function to each ROD element and flatten the result\n",
    " rdd5 = rdd.flatMap(lambda x: x+(x[l],x[0]))\n",
    " rdd5.collect()\n",
    "['a',7,7'a','a',2,2'a','b',2,2'b']\n",
    "#Apply a flatMap function to each (key,value) pair of rdd4 without changing the keys\n",
    " rdds.flatMapValues(lambda x: x).callect()\n",
    "[('a','x'),('a','y'),('a','z'),('b','p'),('b','r')]"
   ]
  },
  {
   "cell_type": "code",
   "execution_count": null,
   "id": "617455d0",
   "metadata": {},
   "outputs": [],
   "source": [
    "\n",
    "### Selecting Data"
   ]
  },
  {
   "cell_type": "code",
   "execution_count": null,
   "id": "d691887f",
   "metadata": {},
   "outputs": [],
   "source": [
    "**Getting**"
   ]
  },
  {
   "cell_type": "code",
   "execution_count": null,
   "id": "2cb00560",
   "metadata": {},
   "outputs": [],
   "source": [
    "\n",
    " rdd.collect() #Return a list with all ROD elements\n",
    "[('a',7),('a',2),('b',2)]\n",
    " rdd.take(2) #Take first 2 ROD elements \n",
    "[('a',7),('a',2)]\n",
    " rdd.first() #Toke first ROD element\n",
    "[('a',7),('a',2)]\n",
    " rdd.top(2) #Take top 2 ROD elements\n",
    "[('b',2),('a',7)]"
   ]
  },
  {
   "cell_type": "code",
   "execution_count": null,
   "id": "341a9277",
   "metadata": {},
   "outputs": [],
   "source": [
    "\n",
    "**Sampling**"
   ]
  },
  {
   "cell_type": "code",
   "execution_count": null,
   "id": "d65406fc",
   "metadata": {},
   "outputs": [],
   "source": [
    "\n",
    " rdd3.sample(False, 0.15, 81).collect() #Return sampled subset of rdd3\n",
    " [3,4,27,31,40,41,42,43,60,76,79,80,86,97]"
   ]
  },
  {
   "cell_type": "code",
   "execution_count": null,
   "id": "e23fe295",
   "metadata": {},
   "outputs": [],
   "source": [
    "\n",
    "**Filtering**"
   ]
  },
  {
   "cell_type": "code",
   "execution_count": null,
   "id": "68ded169",
   "metadata": {},
   "outputs": [],
   "source": [
    "\n",
    " rdd.filter(lambda x: \"a\" in x).collect() #Filter the ROD\n",
    "[( 'a',7),('a',2)]\n",
    " rdd5.distinct().callect() #Return distinct ROD values\n",
    "['a',2,'b',7]\n",
    " rdd.keys().collect() #Return (key,value) RDD's keys\n",
    "['a','a','b']"
   ]
  },
  {
   "cell_type": "code",
   "execution_count": null,
   "id": "fc1cbbd6",
   "metadata": {},
   "outputs": [],
   "source": []
  },
  {
   "cell_type": "code",
   "execution_count": null,
   "id": "8910dafd",
   "metadata": {},
   "outputs": [],
   "source": [
    " def g(x): print(x)\n",
    " rdd.foreach(g) #Apply a function to all ROD elements\n",
    "('a',7)\n",
    "('b',2)\n",
    "('a',2)"
   ]
  },
  {
   "cell_type": "code",
   "execution_count": null,
   "id": "1e2b1616",
   "metadata": {},
   "outputs": [],
   "source": [
    "\n",
    "### Reshaping Data"
   ]
  },
  {
   "cell_type": "code",
   "execution_count": null,
   "id": "75ee36f5",
   "metadata": {},
   "outputs": [],
   "source": [
    "**Reducing**"
   ]
  },
  {
   "cell_type": "code",
   "execution_count": null,
   "id": "0fe207f8",
   "metadata": {},
   "outputs": [],
   "source": [
    "     rdd.reduceByKey(lambda x,y : x+y).callect() #Merge the rdd values for each key\n",
    "     [('a',9),('b',2)]\n",
    "     rdd.reduce(lambda a, b: a+  b) #Merge the rdd values\n",
    "    ('a',7,'a',2,'b',2)"
   ]
  },
  {
   "cell_type": "code",
   "execution_count": null,
   "id": "de458ac2",
   "metadata": {},
   "outputs": [],
   "source": [
    "**Grouping by**"
   ]
  },
  {
   "cell_type": "code",
   "execution_count": null,
   "id": "74a13d5a",
   "metadata": {},
   "outputs": [],
   "source": [
    "\n",
    " rdd3.groupBy(lambda x: x % 2) \n",
    " .mapValues(list)\n",
    " .collect()\n",
    " rdd.groupByKey() \n",
    " .mapValues(list)\n",
    " .collect()\n",
    "[('a',[7,2]),('b',[2])]"
   ]
  },
  {
   "cell_type": "code",
   "execution_count": null,
   "id": "b88c6907",
   "metadata": {},
   "outputs": [],
   "source": [
    "\n",
    "**Aggregating**"
   ]
  },
  {
   "cell_type": "code",
   "execution_count": null,
   "id": "0b88f352",
   "metadata": {},
   "outputs": [],
   "source": [
    "\n",
    " seqOp = (lambda x,y: (x[0]+y,x[1]+1))\n",
    " combOp = (lambda x,y:(x[0]+y[0],x[1]+y[1]))\n",
    "#Aggregate RDD elements of each partition and then the results\n",
    " rdd3.aggregate((0,0),seqOp,combOp) \n",
    " (4950,100) \n",
    " #Aggregate values of each RDD key\n",
    " rdd.aggregateByKey((0,0),seqop,combop).collect()\n",
    " [('a',(9,2)),('b',(2,1))]\n",
    "#Aggregate the elements of each partition, and then the results\n",
    " rdd3.fold(0,add) \n",
    " 4950 \n",
    "#Merge the values for each key\n",
    " rdd.foldByKey(0, add).collect()\n",
    "[('a',9),('b',2)]\n",
    "#Create tuples of RDD elements by applying a function\n",
    " rdd3.keyBy(lambda x: x+x).collect() "
   ]
  },
  {
   "cell_type": "code",
   "execution_count": null,
   "id": "75f57b55",
   "metadata": {},
   "outputs": [],
   "source": [
    "\n",
    "### Mathematical Operations"
   ]
  },
  {
   "cell_type": "code",
   "execution_count": null,
   "id": "be046320",
   "metadata": {},
   "outputs": [],
   "source": [
    "     rdd.subtract(rdd2).collect() #Return each rdd value not contained in rdd2\n",
    "    [('b',2),('a',7)]\n",
    "    #Return each (key,value) pair of rdd2 with no matching key in rdd\n",
    "     rdd2.subtractByKey(rdd).collect()\n",
    "    [('d',1)l\n",
    "     rdd.cartesian(rdd2).callect() #Return the Cartesian product of rdd and rdd2"
   ]
  },
  {
   "cell_type": "code",
   "execution_count": null,
   "id": "f1219ea5",
   "metadata": {},
   "outputs": [],
   "source": [
    "**Sort**"
   ]
  },
  {
   "cell_type": "code",
   "execution_count": null,
   "id": "b6411404",
   "metadata": {},
   "outputs": [],
   "source": [
    "     rdd2.sortBy(lambda x: x[l]).collect() #Sort ROD by given function\n",
    "    [('d',1),('b',1),('a',2)]\n",
    "     rdd2.sartByKey().collect() #Sort (key, value) ROD by key\n",
    "    [('a',2),('b',1),('d',1)]"
   ]
  },
  {
   "cell_type": "code",
   "execution_count": null,
   "id": "31a79126",
   "metadata": {},
   "outputs": [],
   "source": [
    "**Repartitioning**"
   ]
  },
  {
   "cell_type": "code",
   "execution_count": null,
   "id": "e3aa8415",
   "metadata": {},
   "outputs": [],
   "source": [
    "\n",
    " rdd.repartitian(4) #New ROD with 4 partitions\n",
    " rdd.caalesce(1) #Decrease the number of partitions in the ROD to 1"
   ]
  },
  {
   "cell_type": "code",
   "execution_count": null,
   "id": "2df646d5",
   "metadata": {},
   "outputs": [],
   "source": [
    "\n",
    "**Saving**"
   ]
  },
  {
   "cell_type": "code",
   "execution_count": null,
   "id": "55ffae37",
   "metadata": {},
   "outputs": [],
   "source": [
    "\n",
    " rdd .saveA sTextFile(\"rdd.txt\")\n",
    " rdd.saveAsHadaapFile(\"hdfs://namenadehost/parent/child\",\n",
    "                          ’org.apache.hadoop.mapred.TextOutputFormat')"
   ]
  },
  {
   "cell_type": "code",
   "execution_count": null,
   "id": "4539cfa1",
   "metadata": {},
   "outputs": [],
   "source": [
    "\n",
    "**Execution**"
   ]
  },
  {
   "cell_type": "code",
   "execution_count": null,
   "id": "b311e0e4",
   "metadata": {},
   "outputs": [],
   "source": [
    "    $ ./bin/spark submit examples/src/main/python/pi.py"
   ]
  },
  {
   "cell_type": "code",
   "execution_count": null,
   "id": "94a88010",
   "metadata": {},
   "outputs": [],
   "source": [
    "**Does PySpark provide a machine learning API?**"
   ]
  },
  {
   "cell_type": "code",
   "execution_count": null,
   "id": "ec98404b",
   "metadata": {},
   "outputs": [],
   "source": [
    "Similar to Spark, PySpark provides a machine learning API which is known\n",
    "as MLlib that supports various ML algorithms like:"
   ]
  },
  {
   "cell_type": "code",
   "execution_count": null,
   "id": "09e9e492",
   "metadata": {},
   "outputs": [],
   "source": [
    "-   mllib.classification − This supports different methods for binary or\n",
    "    multiclass classification and regression analysis like Random\n",
    "    Forest, Decision Tree, Naive Bayes etc.\n",
    "-   mllib.clustering − This is used for solving clustering problems that\n",
    "    aim in grouping entities subsets with one another depending on\n",
    "    similarity.\n",
    "-   mllib.fpm − FPM stands for Frequent Pattern Matching. This library\n",
    "    is used to mine frequent items, subsequences or other structures\n",
    "    that are used for analyzing large datasets.\n",
    "-   mllib.linalg − This is used for solving problems on linear algebra.\n",
    "-   mllib.recommendation − This is used for collaborative filtering and\n",
    "    in recommender systems.\n",
    "-   spark.mllib − This is used for supporting model-based collaborative\n",
    "    filtering where small latent factors are identified using the\n",
    "    Alternating Least Squares (ALS) algorithm which is used for\n",
    "    predicting missing entries.\n",
    "-   mllib.regression − This is used for solving problems using\n",
    "    regression algorithms that find relationships and variable\n",
    "    dependencies.\n",
    "-   **Is PySpark faster than pandas?**"
   ]
  },
  {
   "cell_type": "code",
   "execution_count": null,
   "id": "801c246d",
   "metadata": {},
   "outputs": [],
   "source": [
    "PySpark supports parallel execution of statements in a distributed\n",
    "environment, i.e on different cores and different machines which are not\n",
    "present in Pandas. This is why PySpark is faster than pandas."
   ]
  },
  {
   "cell_type": "code",
   "execution_count": null,
   "id": "922252ab",
   "metadata": {},
   "outputs": [],
   "source": [
    "**What is Broadcast Variables?**"
   ]
  },
  {
   "cell_type": "code",
   "execution_count": null,
   "id": "d76f1257",
   "metadata": {},
   "outputs": [],
   "source": [
    "Broadcast variables: These are also known as read-only shared variables\n",
    "and are used in cases of data lookup requirements. These variables are\n",
    "cached and are made available on all the cluster nodes so that the tasks\n",
    "can make use of them. The variables are not sent with every task. They\n",
    "are rather distributed to the nodes using efficient algorithms for\n",
    "reducing the cost of communication. When we run an RDD job operation\n",
    "that makes use of Broadcast variables, the following things are done by\n",
    "PySpark:"
   ]
  },
  {
   "cell_type": "code",
   "execution_count": null,
   "id": "6f3b392d",
   "metadata": {},
   "outputs": [],
   "source": [
    "The job is broken into different stages having distributed shuffling.\n",
    "The actions are executed in those stages. The stages are then broken\n",
    "into tasks. The broadcast variables are broadcasted to the tasks if the\n",
    "tasks need to use it. Broadcast variables are created in PySpark by\n",
    "making use of the broadcast(variable) method from the SparkContext\n",
    "class. The syntax for this goes as follows:"
   ]
  },
  {
   "cell_type": "code",
   "execution_count": null,
   "id": "02621b34",
   "metadata": {},
   "outputs": [],
   "source": [
    "    broadcastVar = sc.broadcast([10, 11, 22, 31])\n",
    "    broadcastVar.value    # access broadcast variable"
   ]
  },
  {
   "cell_type": "code",
   "execution_count": null,
   "id": "e9ffe4b7",
   "metadata": {},
   "outputs": [],
   "source": [
    "An important point of using broadcast variables is that the variables\n",
    "are not sent to the tasks when the broadcast function is called. They\n",
    "will be sent when the variables are first required by the executors."
   ]
  },
  {
   "cell_type": "code",
   "execution_count": null,
   "id": "87f542c7",
   "metadata": {},
   "outputs": [],
   "source": [
    "**What is Accumulator variable?**"
   ]
  },
  {
   "cell_type": "code",
   "execution_count": null,
   "id": "7830e0e7",
   "metadata": {},
   "outputs": [],
   "source": [
    "Accumulator variables: These variables are called updatable shared\n",
    "variables. They are added through associative and commutative operations\n",
    "and are used for performing counter or sum operations. PySpark supports\n",
    "the creation of numeric type accumulators by default. It also has the\n",
    "ability to add custom accumulator types. The custom types can be of two\n",
    "types:"
   ]
  },
  {
   "cell_type": "code",
   "execution_count": null,
   "id": "6c27a624",
   "metadata": {},
   "outputs": [],
   "source": [
    "**What is PySpark Architecture?**"
   ]
  },
  {
   "cell_type": "code",
   "execution_count": null,
   "id": "7015583f",
   "metadata": {},
   "outputs": [],
   "source": [
    "PySpark similar to Apache Spark works in master-slave architecture\n",
    "pattern. Here, the master node is called the Driver and the slave nodes\n",
    "are called the workers. When a Spark application is run, the Spark\n",
    "Driver creates SparkContext which acts as an entry point to the spark\n",
    "application. All the operations are executed on the worker nodes. The\n",
    "resources required for executing the operations on the worker nodes are\n",
    "managed by the Cluster Managers"
   ]
  },
  {
   "cell_type": "code",
   "execution_count": null,
   "id": "1c4e49d9",
   "metadata": {},
   "outputs": [],
   "source": [
    "**What is the common workflow of a spark program?**"
   ]
  },
  {
   "cell_type": "code",
   "execution_count": null,
   "id": "e100e450",
   "metadata": {},
   "outputs": [],
   "source": [
    "The most common workflow followed by the spark program is: The first\n",
    "step is to create input RDDs depending on the external data. Data can be\n",
    "obtained from different data sources. Post RDD creation, the RDD\n",
    "transformation operations like filter() or map() are run for creating\n",
    "new RDDs depending on the business logic. If any intermediate RDDs are\n",
    "required to be reused for later purposes, we can persist those RDDs.\n",
    "Lastly, if any action operations like first(), count() etc are present\n",
    "then spark launches it to initiate parallel computation."
   ]
  },
  {
   "cell_type": "code",
   "execution_count": null,
   "id": "93e6cf0f",
   "metadata": {},
   "outputs": [],
   "source": [
    "**Congratulations!** You have read an small summary about important\n",
    "things in **Data Science**."
   ]
  },
  {
   "cell_type": "code",
   "execution_count": null,
   "id": "70e95d24",
   "metadata": {},
   "outputs": [],
   "source": [
    "**Files with one data type**"
   ]
  },
  {
   "cell_type": "code",
   "execution_count": null,
   "id": "4c52dae2",
   "metadata": {},
   "outputs": [],
   "source": [
    "\n",
    "filename= 'mnist.txt'\n",
    "data= np.loadtxt(filename,\n",
    "                    delimiter=',' , #String used to separate values \n",
    "                    skiprows=2, #Skip the first 2 lines \n",
    "                    usecols=[0,2], #Read the 1st and 3rd column \n",
    "                    dtype=str) #The type of the resulting array"
   ]
  },
  {
   "cell_type": "code",
   "execution_count": null,
   "id": "50719e9d",
   "metadata": {},
   "outputs": [],
   "source": [
    "\n",
    "**Files with mixed data type**"
   ]
  },
  {
   "cell_type": "code",
   "execution_count": null,
   "id": "c55add50",
   "metadata": {},
   "outputs": [],
   "source": [
    "\n",
    "filename= 'titanic.csv'\n",
    "data= np.genfromtxt( filename,\n",
    "                        delimiter = ',',\n",
    "                        names=True, #Look for column header\n",
    "                        dtype=None)\n",
    " data_array = np.recfromcsv(filename)\n",
    "#The default dtype of the np.recfromcsv() function is None"
   ]
  },
  {
   "cell_type": "code",
   "execution_count": null,
   "id": "ad90c8aa",
   "metadata": {},
   "outputs": [],
   "source": [
    "\n",
    "### Importing Flat Files with Pandas"
   ]
  },
  {
   "cell_type": "code",
   "execution_count": null,
   "id": "2030fc12",
   "metadata": {},
   "outputs": [],
   "source": [
    "\n",
    "filename= 'winequality-red.csv'\n",
    "data= pd.read_csv(filename,\n",
    "                     nrows=5, #Number of rows of file to read \n",
    "                     header=None, #Row number to use as col names \n",
    "                     sep='\\t', #Delimiter to use\n",
    "                     comment='#', #Character to split comments\n",
    "                     na _values=[\"\"]) #String to recognize as NA/NaN"
   ]
  },
  {
   "cell_type": "code",
   "execution_count": null,
   "id": "e9a978b6",
   "metadata": {},
   "outputs": [],
   "source": [
    "\n",
    "## Exploring Your Data"
   ]
  },
  {
   "cell_type": "code",
   "execution_count": null,
   "id": "66b43868",
   "metadata": {},
   "outputs": [],
   "source": [
    "**NumPy Arrays**"
   ]
  },
  {
   "cell_type": "code",
   "execution_count": null,
   "id": "bb99d881",
   "metadata": {},
   "outputs": [],
   "source": [
    "\n",
    ">> data_array.dtype #Data type of array elements\n",
    " data_array.shape #Array dimensions\n",
    " len(data_array) #Length of array"
   ]
  },
  {
   "cell_type": "code",
   "execution_count": null,
   "id": "79c8c406",
   "metadata": {},
   "outputs": [],
   "source": [
    "\n",
    "**Pandas DataFrames**"
   ]
  },
  {
   "cell_type": "code",
   "execution_count": null,
   "id": "b5f5eb34",
   "metadata": {},
   "outputs": [],
   "source": [
    "\n",
    " df.head() #Return first DataFrame rows\n",
    " df.tail() #Return last OataFrame rows\n",
    " df.index #Describe index\n",
    " df.columns #Describe OataFrame columns\n",
    " df.info() #Info an DataFrame\n",
    " data_array = data.values #Convert a DataFrame to an a NumPy array"
   ]
  },
  {
   "cell_type": "code",
   "execution_count": null,
   "id": "5bfcf9af",
   "metadata": {},
   "outputs": [],
   "source": [
    "\n",
    "**SAS File**"
   ]
  },
  {
   "cell_type": "code",
   "execution_count": null,
   "id": "3f40cdb0",
   "metadata": {},
   "outputs": [],
   "source": [
    "\n",
    " from sas7bdat import SAS7BDAT\n",
    " with SAS7BDAT( 'urbanpop .sas7bdat') as file: \n",
    "        df_sas = file.to_da ta_frame()"
   ]
  },
  {
   "cell_type": "code",
   "execution_count": null,
   "id": "abea53ea",
   "metadata": {},
   "outputs": [],
   "source": [
    "\n",
    "**Stata File**"
   ]
  },
  {
   "cell_type": "code",
   "execution_count": null,
   "id": "d4ad2e6c",
   "metadata": {},
   "outputs": [],
   "source": [
    "    data= pd.read_stata('urbanpop .dta')"
   ]
  },
  {
   "cell_type": "code",
   "execution_count": null,
   "id": "dc0839cf",
   "metadata": {},
   "outputs": [],
   "source": [
    "**Excel Spreadsheets**"
   ]
  },
  {
   "cell_type": "code",
   "execution_count": null,
   "id": "f55846f2",
   "metadata": {},
   "outputs": [],
   "source": [
    "\n",
    "file= 'urbanpop.xlsx'\n",
    "data= pd.ExcelFile(file)\n",
    " df_sheet2 = data.parse('1960-1966',\n",
    "                skiprows=[0], names=['Country',\n",
    "                    'AAM: War(2002)'])\n",
    " df_sheetl = data.parse(0,\n",
    "                parse_cols=[0], skiprows=[0],\n",
    "                name s=['Country'])"
   ]
  },
  {
   "cell_type": "code",
   "execution_count": null,
   "id": "1ff69719",
   "metadata": {},
   "outputs": [],
   "source": [
    "\n",
    "To access the sheet names, use the sheet_names attribute:"
   ]
  },
  {
   "cell_type": "code",
   "execution_count": null,
   "id": "ca91327c",
   "metadata": {},
   "outputs": [],
   "source": [
    "\n",
    " data.sheet_names"
   ]
  },
  {
   "cell_type": "code",
   "execution_count": null,
   "id": "890d7faf",
   "metadata": {},
   "outputs": [],
   "source": [
    "\n",
    "### Relational Databases"
   ]
  },
  {
   "cell_type": "code",
   "execution_count": null,
   "id": "b593cd99",
   "metadata": {},
   "outputs": [],
   "source": [
    "\n",
    " from sqlalchemy import create _engine\n",
    "engine= create_engine('sq lite://Northwind.sqlite')"
   ]
  },
  {
   "cell_type": "code",
   "execution_count": null,
   "id": "43d3a76a",
   "metadata": {},
   "outputs": [],
   "source": [
    "\n",
    "Use the table_name s() method to fetch a list of table names:"
   ]
  },
  {
   "cell_type": "code",
   "execution_count": null,
   "id": "c6477e74",
   "metadata": {},
   "outputs": [],
   "source": [
    "    table_names = engine.table_names()"
   ]
  },
  {
   "cell_type": "code",
   "execution_count": null,
   "id": "dfc98ddd",
   "metadata": {},
   "outputs": [],
   "source": [
    "**Querying Relational Databases**"
   ]
  },
  {
   "cell_type": "code",
   "execution_count": null,
   "id": "03fce321",
   "metadata": {},
   "outputs": [],
   "source": [
    "\n",
    "con= engine.connect()\n",
    " rs= con.execute('SELECT* FROM Order s')\n",
    " df = pd.DataFrame(rs.fetchall())\n",
    " df.columns = rs.keys()\n",
    " con.close()"
   ]
  },
  {
   "cell_type": "code",
   "execution_count": null,
   "id": "c338061c",
   "metadata": {},
   "outputs": [],
   "source": [
    "\n",
    "Using the context manager with"
   ]
  },
  {
   "cell_type": "code",
   "execution_count": null,
   "id": "d2740e47",
   "metadata": {},
   "outputs": [],
   "source": [
    "\n",
    " with engine.connect() as con:\n",
    "rs= con.execute('SELEC T OrderID FROM Order s')\n",
    "                df = pd.DataFrame(rs.fetchmany(size=5)) \n",
    "                df.columns = rs.keys()"
   ]
  },
  {
   "cell_type": "code",
   "execution_count": null,
   "id": "23790983",
   "metadata": {},
   "outputs": [],
   "source": [
    "\n",
    "**Querying relational databases with pandas**"
   ]
  },
  {
   "cell_type": "code",
   "execution_count": null,
   "id": "e2a3f349",
   "metadata": {},
   "outputs": [],
   "source": [
    "     df = pd.read_sql_query( ''SELECT*  FROM Orders'', engine)"
   ]
  },
  {
   "cell_type": "code",
   "execution_count": null,
   "id": "673a30bd",
   "metadata": {},
   "outputs": [],
   "source": [
    "Pickled File"
   ]
  },
  {
   "cell_type": "code",
   "execution_count": null,
   "id": "4c0e8fb2",
   "metadata": {},
   "outputs": [],
   "source": [
    "\n",
    " import pickle\n",
    " with open('pickled_fruit.pkl', 'rb' ) as file: pickled_data = pickle.load(file)"
   ]
  },
  {
   "cell_type": "code",
   "execution_count": null,
   "id": "a781cff0",
   "metadata": {},
   "outputs": [],
   "source": [
    "\n",
    "Matlab File"
   ]
  },
  {
   "cell_type": "code",
   "execution_count": null,
   "id": "2b3a2b2d",
   "metadata": {},
   "outputs": [],
   "source": [
    "     import scipy.io\n",
    "    filename= 1 workspace.m at 1\n",
    "    mat= scipy.io.loadmat(filename)"
   ]
  },
  {
   "cell_type": "code",
   "execution_count": null,
   "id": "24857b2b",
   "metadata": {},
   "outputs": [],
   "source": [
    "HDF5 Files"
   ]
  },
  {
   "cell_type": "code",
   "execution_count": null,
   "id": "8d853be3",
   "metadata": {},
   "outputs": [],
   "source": [
    "\n",
    " import h5py\n",
    "filename= 'file.hdf5'\n",
    "data= h5py.File(filename, 'r' )"
   ]
  },
  {
   "cell_type": "code",
   "execution_count": null,
   "id": "bc81984b",
   "metadata": {},
   "outputs": [],
   "source": [
    "\n",
    "## Exploring Dictionaries"
   ]
  },
  {
   "cell_type": "code",
   "execution_count": null,
   "id": "467f5ecb",
   "metadata": {},
   "outputs": [],
   "source": [
    "**Querying relational databases with pandas**"
   ]
  },
  {
   "cell_type": "code",
   "execution_count": null,
   "id": "64cb7c94",
   "metadata": {},
   "outputs": [],
   "source": [
    "\n",
    " print(mat.keys()) #Print dictionary keys\n",
    " for key in data.keys(): #Print dictionary keys\n",
    "print(key)\n",
    "meta quality strain\n",
    " pickled_data.values() #Return dictionary values\n",
    " print(mat.items()) #Returns items in list format of (key, value) tuple pairs"
   ]
  },
  {
   "cell_type": "code",
   "execution_count": null,
   "id": "cf6a4e81",
   "metadata": {},
   "outputs": [],
   "source": [
    "\n",
    "**Accessing Data Items with Keys**"
   ]
  },
  {
   "cell_type": "code",
   "execution_count": null,
   "id": "d1054008",
   "metadata": {},
   "outputs": [],
   "source": [
    "\n",
    " for key in data['meta'].keys() #Explore the HOF5\n",
    "structure\n",
    "print(key) Description DescriptionURL Detector\n",
    "Duration GPSstart Observatory Type UTCstart\n",
    "#Retrieve the value for a key\n",
    " print(data['meta']['Description'].value)"
   ]
  },
  {
   "cell_type": "code",
   "execution_count": null,
   "id": "70f5a783",
   "metadata": {},
   "outputs": [],
   "source": [
    "\n",
    "### Navigating Your FileSystem"
   ]
  },
  {
   "cell_type": "code",
   "execution_count": null,
   "id": "a3c90f92",
   "metadata": {},
   "outputs": [],
   "source": [
    "**Magic Commands**"
   ]
  },
  {
   "cell_type": "code",
   "execution_count": null,
   "id": "6b1b0bcd",
   "metadata": {},
   "outputs": [],
   "source": [
    "\n",
    "!ls #List directory contents of files and directories\n",
    "%cd .. #Change current working directory\n",
    "%pwd #Return the current working directory path"
   ]
  },
  {
   "cell_type": "code",
   "execution_count": null,
   "id": "a46995aa",
   "metadata": {},
   "outputs": [],
   "source": [
    "\n",
    "**OS Library**"
   ]
  },
  {
   "cell_type": "code",
   "execution_count": null,
   "id": "ae7a2bff",
   "metadata": {},
   "outputs": [],
   "source": [
    "\n",
    " import os\n",
    " path = \"/usr/tmp\"\n",
    " wd = os.getcwd() #Store the name of current directory in a string\n",
    " os.listdir(wd) #Output contents of the directory in a list\n",
    " os.chdir(path) #Change current working directory\n",
    " os.rename( \"testl.txt\", #Rename a file\n",
    "                \"test2.txt\" )\n",
    " os.remove( \"test1. txt\") #Oelete an existing file\n",
    " os.mkdir( \"newdir\") #Create a new directory"
   ]
  },
  {
   "cell_type": "code",
   "execution_count": null,
   "id": "203568e4",
   "metadata": {},
   "outputs": [],
   "source": [
    "\n",
    "**Pivot**"
   ]
  },
  {
   "cell_type": "code",
   "execution_count": null,
   "id": "7e16252a",
   "metadata": {},
   "outputs": [],
   "source": [
    "\n",
    " df3= df2.pivot(inde x='Date', #Spread rows into columns\n",
    "col umns= 'Type' ,\n",
    "values='Value' )"
   ]
  },
  {
   "cell_type": "code",
   "execution_count": null,
   "id": "241bb3b9",
   "metadata": {},
   "outputs": [],
   "source": [
    "\n",
    "<span class=\"image\"></span>"
   ]
  },
  {
   "cell_type": "code",
   "execution_count": null,
   "id": "e7ce022b",
   "metadata": {},
   "outputs": [],
   "source": [
    "**Pivot Table**"
   ]
  },
  {
   "cell_type": "code",
   "execution_count": null,
   "id": "c591cda3",
   "metadata": {},
   "outputs": [],
   "source": [
    "\n",
    " df4 = pd.pivot_table(df2, #Spread rows into\n",
    "columns values='Value', index='Date', columns='Type'])"
   ]
  },
  {
   "cell_type": "code",
   "execution_count": null,
   "id": "43a9d779",
   "metadata": {},
   "outputs": [],
   "source": [
    "\n",
    "**Stack** / **Unstack**"
   ]
  },
  {
   "cell_type": "code",
   "execution_count": null,
   "id": "86b0d92a",
   "metadata": {},
   "outputs": [],
   "source": [
    "\n",
    "stacked= df5.stack() #Pivot o level of column labels\n",
    " stacked.unstack() #Pivot o level of index labels"
   ]
  },
  {
   "cell_type": "code",
   "execution_count": null,
   "id": "5762d5b6",
   "metadata": {},
   "outputs": [],
   "source": [
    "\n",
    "<span class=\"image\"></span>"
   ]
  },
  {
   "cell_type": "code",
   "execution_count": null,
   "id": "d7e4932d",
   "metadata": {},
   "outputs": [],
   "source": [
    "**Melt**"
   ]
  },
  {
   "cell_type": "code",
   "execution_count": null,
   "id": "262e35ab",
   "metadata": {},
   "outputs": [],
   "source": [
    "\n",
    " pd.melt(df2, #Gather columns into rows\n",
    "        id _vars=[°Date°],     \n",
    "        value_var s=['Type','Value'], \n",
    "        value name=''Observations'')"
   ]
  },
  {
   "cell_type": "code",
   "execution_count": null,
   "id": "3876b7a4",
   "metadata": {},
   "outputs": [],
   "source": [
    "\n",
    "<span class=\"image\"></span>"
   ]
  },
  {
   "cell_type": "code",
   "execution_count": null,
   "id": "76186168",
   "metadata": {},
   "outputs": [],
   "source": [
    "### Iteration"
   ]
  },
  {
   "cell_type": "code",
   "execution_count": null,
   "id": "05ffd7e7",
   "metadata": {},
   "outputs": [],
   "source": [
    "\n",
    " df.iteritems() #{Column-index, Series) pairs\n",
    " df.iterrows() #{Row-index, Series) pairs"
   ]
  },
  {
   "cell_type": "markdown",
   "id": "894b7388",
   "metadata": {},
   "source": [
    "\n",
    "### Missing Data"
   ]
  },
  {
   "cell_type": "code",
   "execution_count": null,
   "id": "0f909e5a",
   "metadata": {},
   "outputs": [],
   "source": [
    "\n",
    " df.dropna() #Drop NaN values\n",
    " df3.fillna(df3.mean()) #Fill NaN values with o predetermined value\n",
    " df2.replace(\"a\" , \"f\") #Replace values with others"
   ]
  },
  {
   "cell_type": "markdown",
   "id": "5f7cddc1",
   "metadata": {},
   "source": [
    "\n",
    "### Advanced Indexing"
   ]
  },
  {
   "cell_type": "markdown",
   "id": "234af2d6",
   "metadata": {},
   "source": [
    "**Selecting**"
   ]
  },
  {
   "cell_type": "code",
   "execution_count": null,
   "id": "ba4a7a8b",
   "metadata": {},
   "outputs": [],
   "source": [
    "\n",
    " df3.loc[:,(df3>1).any()] #Select cols with any vols >1\n",
    " df3.loc[:,(df3>1).all()] #Select cols with vols> 1\n",
    " df3.loc[:,df3.isnull().any()] #Select cols with NaN\n",
    " df3.loc[:,df3.notnull().all()] #Select cols without NaN"
   ]
  },
  {
   "cell_type": "code",
   "execution_count": null,
   "id": "7d4fd60e",
   "metadata": {},
   "outputs": [],
   "source": [
    "\n",
    "**Indexing With** isin ()"
   ]
  },
  {
   "cell_type": "code",
   "execution_count": null,
   "id": "5d2e7fa8",
   "metadata": {},
   "outputs": [],
   "source": [
    "\n",
    " df[(df.Country.isin(df2.Type))] #Find some elements\n",
    " df3.filter(iterns=\"a\",\"b\"]) #Filter on values\n",
    " df.select(lambda x: not x%5) #Select specific elements"
   ]
  },
  {
   "cell_type": "code",
   "execution_count": null,
   "id": "853e7265",
   "metadata": {},
   "outputs": [],
   "source": [
    "\n",
    "**Where**"
   ]
  },
  {
   "cell_type": "code",
   "execution_count": null,
   "id": "e784bb41",
   "metadata": {},
   "outputs": [],
   "source": [
    "\n",
    " s.where(s > 0) #Subset the data"
   ]
  },
  {
   "cell_type": "code",
   "execution_count": null,
   "id": "0da48e2f",
   "metadata": {},
   "outputs": [],
   "source": [
    "\n",
    "**Query**"
   ]
  },
  {
   "cell_type": "code",
   "execution_count": null,
   "id": "56c0d9fa",
   "metadata": {},
   "outputs": [],
   "source": [
    "\n",
    " df6.query('second > first') #Query DataFrame"
   ]
  },
  {
   "cell_type": "code",
   "execution_count": null,
   "id": "a3de0a25",
   "metadata": {},
   "outputs": [],
   "source": [
    "\n",
    "**Setting/Resetting Index**"
   ]
  },
  {
   "cell_type": "code",
   "execution_count": null,
   "id": "ace17f15",
   "metadata": {},
   "outputs": [],
   "source": [
    "\n",
    " df.set_index('Country' ) #Set the index\n",
    " df4 = df.reset_index() #Reset the index\n",
    " df = df.rename(index=str, #Rename\n",
    "            DataFrame columns={ \"Country\":\"cntry\",\n",
    "                                \"Capital':\"cptl\",\n",
    "                                \"Population\":pplt})"
   ]
  },
  {
   "cell_type": "code",
   "execution_count": null,
   "id": "59051c1d",
   "metadata": {},
   "outputs": [],
   "source": [
    "\n",
    "**Reindexing**"
   ]
  },
  {
   "cell_type": "code",
   "execution_count": null,
   "id": "403843f6",
   "metadata": {},
   "outputs": [],
   "source": [
    "\n",
    "s2=s.reindex(['a','c','d','e','b'])"
   ]
  },
  {
   "cell_type": "code",
   "execution_count": null,
   "id": "31dd3aa3",
   "metadata": {},
   "outputs": [],
   "source": [
    "\n",
    "**Forward Filling**"
   ]
  },
  {
   "cell_type": "code",
   "execution_count": null,
   "id": "c7e6208a",
   "metadata": {},
   "outputs": [],
   "source": [
    "\n",
    " df.reindex( range(4),\n",
    "                method= 'ffill')"
   ]
  },
  {
   "cell_type": "code",
   "execution_count": null,
   "id": "c7400b10",
   "metadata": {},
   "outputs": [],
   "source": [
    "\n",
    "        Country Capital     Population  \n",
    "    0   Belgium Brussels    11190846    \n",
    "    1   India   New Delhi   1303171035  \n",
    "    2   Brazil  Brasilia    207847528   \n",
    "    3   Brazil  Brasilia    207847528"
   ]
  },
  {
   "cell_type": "code",
   "execution_count": null,
   "id": "d3842831",
   "metadata": {},
   "outputs": [],
   "source": [
    "**Backward Filling**"
   ]
  },
  {
   "cell_type": "code",
   "execution_count": null,
   "id": "76cc4b30",
   "metadata": {},
   "outputs": [],
   "source": [
    "\n",
    " s3 = s.reindex( range(5),\n",
    "                    method= 'bfill')"
   ]
  },
  {
   "cell_type": "code",
   "execution_count": null,
   "id": "dfbeb954",
   "metadata": {},
   "outputs": [],
   "source": [
    "\n",
    "    0   3\n",
    "    1   3\n",
    "    2   3\n",
    "    3   3\n",
    "    4   3"
   ]
  },
  {
   "cell_type": "code",
   "execution_count": null,
   "id": "7455701a",
   "metadata": {},
   "outputs": [],
   "source": [
    "**Multilndexing**"
   ]
  },
  {
   "cell_type": "code",
   "execution_count": null,
   "id": "cf143dd6",
   "metadata": {},
   "outputs": [],
   "source": [
    "\n",
    "arrays= [np.array([l,2,3]),\n",
    "np.array([5,4,3])]\n",
    " df5 = pd.DataFrame(np.random.rand(3, 2), index=arrays)\n",
    "tuples= list(zip(*arrays))\n",
    "index= pd.Multilndex.from_tuples(tuples,\n",
    "names= [ 'first' , 'second' ])\n",
    " df6 = pd.DataFrame(np.random.rand(3, 2), index=index)\n",
    " df2.set_index([ \"Date\", \"Type\"])"
   ]
  },
  {
   "cell_type": "code",
   "execution_count": null,
   "id": "97f63f4a",
   "metadata": {},
   "outputs": [],
   "source": [
    "\n",
    "### Duplicate Data"
   ]
  },
  {
   "cell_type": "code",
   "execution_count": null,
   "id": "604d5f4b",
   "metadata": {},
   "outputs": [],
   "source": [
    "\n",
    " s3.unique() #Return unique values\n",
    " df2.duplicated('Type') #Check duplicates\n",
    " df2.drop_dup licates( 'Type', keep='last') #Drop duplicates\n",
    " df.index.duplicated() #Check index duplicates"
   ]
  },
  {
   "cell_type": "code",
   "execution_count": null,
   "id": "34dcdabb",
   "metadata": {},
   "outputs": [],
   "source": [
    "\n",
    "### Grouping Data"
   ]
  },
  {
   "cell_type": "code",
   "execution_count": null,
   "id": "b9dbb318",
   "metadata": {},
   "outputs": [],
   "source": [
    "**Aggregation**"
   ]
  },
  {
   "cell_type": "code",
   "execution_count": null,
   "id": "3c481d92",
   "metadata": {},
   "outputs": [],
   "source": [
    "\n",
    " df2.groupby(by=['Date','Type']).mean()\n",
    " df4.groupby(level=0).sum()\n",
    " df4.groupby(level=0).agg({ 'a':lambda x:sum(x)/len (x), 'b': np.sum})"
   ]
  },
  {
   "cell_type": "code",
   "execution_count": null,
   "id": "9427ce06",
   "metadata": {},
   "outputs": [],
   "source": [
    "\n",
    "**Transformation**"
   ]
  },
  {
   "cell_type": "code",
   "execution_count": null,
   "id": "033fd5aa",
   "metadata": {},
   "outputs": [],
   "source": [
    "\n",
    " customSum = lambda x: (x+x%2)\n",
    " df4.groupby(level=0).transform(customSum)"
   ]
  },
  {
   "cell_type": "code",
   "execution_count": null,
   "id": "0f6cef1e",
   "metadata": {},
   "outputs": [],
   "source": [
    "\n",
    "## Combining Data"
   ]
  },
  {
   "cell_type": "code",
   "execution_count": null,
   "id": "94da5f57",
   "metadata": {},
   "outputs": [],
   "source": [
    "<span class=\"image\"></span>"
   ]
  },
  {
   "cell_type": "code",
   "execution_count": null,
   "id": "42086669",
   "metadata": {},
   "outputs": [],
   "source": [
    "**Merge**"
   ]
  },
  {
   "cell_type": "code",
   "execution_count": null,
   "id": "1090da71",
   "metadata": {},
   "outputs": [],
   "source": [
    "\n",
    " pd.merge(data1,\n",
    "            data2,\n",
    "            how = 'left' ,\n",
    "            on='X1')"
   ]
  },
  {
   "cell_type": "code",
   "execution_count": null,
   "id": "fae9706d",
   "metadata": {},
   "outputs": [],
   "source": [
    "\n",
    "<span class=\"image\"></span>"
   ]
  },
  {
   "cell_type": "code",
   "execution_count": null,
   "id": "585b2adf",
   "metadata": {},
   "outputs": [],
   "source": [
    "\n",
    " pd.merge(data1,\n",
    "            data2,\n",
    "            how = 'right' ,\n",
    "            on='X1')"
   ]
  },
  {
   "cell_type": "code",
   "execution_count": null,
   "id": "1a1de52d",
   "metadata": {},
   "outputs": [],
   "source": [
    "\n",
    "<span class=\"image\"></span>"
   ]
  },
  {
   "cell_type": "code",
   "execution_count": null,
   "id": "2847c47f",
   "metadata": {},
   "outputs": [],
   "source": [
    "\n",
    " pd.merge(data1,\n",
    "            data2,   \n",
    "            how='inner',\n",
    "            on='X1')"
   ]
  },
  {
   "cell_type": "code",
   "execution_count": null,
   "id": "a05d9de8",
   "metadata": {},
   "outputs": [],
   "source": [
    "\n",
    "<span class=\"image\"></span>"
   ]
  },
  {
   "cell_type": "code",
   "execution_count": null,
   "id": "2573215f",
   "metadata": {},
   "outputs": [],
   "source": [
    "\n",
    " pd.merge(data1,\n",
    "            data2,    \n",
    "             how='outer',\n",
    "             on='X1')"
   ]
  },
  {
   "cell_type": "code",
   "execution_count": null,
   "id": "7e2e598f",
   "metadata": {},
   "outputs": [],
   "source": [
    "\n",
    "<span class=\"image\"></span>"
   ]
  },
  {
   "cell_type": "code",
   "execution_count": null,
   "id": "2803f695",
   "metadata": {},
   "outputs": [],
   "source": [
    "**Join**"
   ]
  },
  {
   "cell_type": "code",
   "execution_count": null,
   "id": "6a6cdc6f",
   "metadata": {},
   "outputs": [],
   "source": [
    "\n",
    " datal.join(data2, ho w='righ t')"
   ]
  },
  {
   "cell_type": "code",
   "execution_count": null,
   "id": "3beaddfe",
   "metadata": {},
   "outputs": [],
   "source": [
    "\n",
    "**Concatenate**"
   ]
  },
  {
   "cell_type": "code",
   "execution_count": null,
   "id": "58053b60",
   "metadata": {},
   "outputs": [],
   "source": [
    "**Vertical**"
   ]
  },
  {
   "cell_type": "code",
   "execution_count": null,
   "id": "9585f43c",
   "metadata": {},
   "outputs": [],
   "source": [
    "     s.append(s2)"
   ]
  },
  {
   "cell_type": "code",
   "execution_count": null,
   "id": "4ba28950",
   "metadata": {},
   "outputs": [],
   "source": [
    "**Horizontal/Vertical**"
   ]
  },
  {
   "cell_type": "code",
   "execution_count": null,
   "id": "bc083235",
   "metadata": {},
   "outputs": [],
   "source": [
    "\n",
    " pd.concat([s,s2],axis=l, keys=['One' ,'Two'])\n",
    " pd.concat([data1, data2], axis=l, join='inner')"
   ]
  },
  {
   "cell_type": "code",
   "execution_count": null,
   "id": "a5e1b022",
   "metadata": {},
   "outputs": [],
   "source": [
    "\n",
    "### Dates"
   ]
  },
  {
   "cell_type": "code",
   "execution_count": null,
   "id": "872195b3",
   "metadata": {},
   "outputs": [],
   "source": [
    "\n",
    " df2['Date']= pd.to_da tetime(d f2['Date'])\n",
    " df2['Date']= pd.da te_range( '2000-1-1',\n",
    "periods=6, freq='M' )\n",
    "dates= [datetime(2012,5,1), datetime(2012,5,2)]\n",
    "index= pd.Datetimelndex(dates)\n",
    "index= pd.date_range(datetime(2012,2,1), end, freq='BM' )"
   ]
  },
  {
   "cell_type": "code",
   "execution_count": null,
   "id": "eb0a14ac",
   "metadata": {},
   "outputs": [],
   "source": [
    "\n",
    "### Visualization"
   ]
  },
  {
   "cell_type": "code",
   "execution_count": null,
   "id": "7e267e61",
   "metadata": {},
   "outputs": [],
   "source": [
    "\n",
    " import matplotlib.pyplot as plt\n",
    " s.plot()\n",
    " plt.show()"
   ]
  },
  {
   "cell_type": "code",
   "execution_count": null,
   "id": "1f159de0",
   "metadata": {},
   "outputs": [],
   "source": [
    "\n",
    "<span class=\"image\"></span>"
   ]
  },
  {
   "cell_type": "code",
   "execution_count": null,
   "id": "365b4579",
   "metadata": {},
   "outputs": [],
   "source": [
    "\n",
    ">> df2.plot()\n",
    " plt.show()"
   ]
  },
  {
   "cell_type": "code",
   "execution_count": null,
   "id": "27524a50",
   "metadata": {},
   "outputs": [],
   "source": [
    "\n",
    "<span class=\"image\"></span>"
   ]
  },
  {
   "cell_type": "code",
   "execution_count": null,
   "id": "9d75598e",
   "metadata": {},
   "outputs": [],
   "source": [
    "# Section 3"
   ]
  },
  {
   "cell_type": "code",
   "execution_count": null,
   "id": "e88c3841",
   "metadata": {},
   "outputs": [],
   "source": [
    "# Data Wrangling with Pandas"
   ]
  },
  {
   "cell_type": "code",
   "execution_count": null,
   "id": "62c41f8c",
   "metadata": {},
   "outputs": [],
   "source": [
    "<span class=\"image\"></span>"
   ]
  },
  {
   "cell_type": "code",
   "execution_count": null,
   "id": "9b0c7cd8",
   "metadata": {},
   "outputs": [],
   "source": [
    "The **Pandas** library is built on NumPy and provides easy-to-use **data\n",
    "structures** and **data analysis** tools for the Python programming\n",
    "language."
   ]
  },
  {
   "cell_type": "code",
   "execution_count": null,
   "id": "4d774787",
   "metadata": {},
   "outputs": [],
   "source": [
    "**Use the following import convention:**"
   ]
  },
  {
   "cell_type": "code",
   "execution_count": null,
   "id": "3e25a77b",
   "metadata": {},
   "outputs": [],
   "source": [
    "\n",
    " import pandas as pd"
   ]
  },
  {
   "cell_type": "code",
   "execution_count": null,
   "id": "8c774b98",
   "metadata": {},
   "outputs": [],
   "source": [
    "\n",
    "### Pandas Data Structure"
   ]
  },
  {
   "cell_type": "code",
   "execution_count": null,
   "id": "f3a67aa7",
   "metadata": {},
   "outputs": [],
   "source": [
    "**Series**"
   ]
  },
  {
   "cell_type": "code",
   "execution_count": null,
   "id": "4bfc7580",
   "metadata": {},
   "outputs": [],
   "source": [
    "A **one-dimensional** labeled array"
   ]
  },
  {
   "cell_type": "code",
   "execution_count": null,
   "id": "0752c88e",
   "metadata": {},
   "outputs": [],
   "source": [
    "capable of holding any data type"
   ]
  },
  {
   "cell_type": "code",
   "execution_count": null,
   "id": "9952ef27",
   "metadata": {},
   "outputs": [],
   "source": [
    "\n",
    "  s = pd.Series([3,-5,7, s], index=['a','b','c','d'])"
   ]
  },
  {
   "cell_type": "code",
   "execution_count": null,
   "id": "d7ad5654",
   "metadata": {},
   "outputs": [],
   "source": [
    "\n",
    "<span class=\"image\"></span>"
   ]
  },
  {
   "cell_type": "code",
   "execution_count": null,
   "id": "5aca17de",
   "metadata": {},
   "outputs": [],
   "source": [
    "**Dataframe**"
   ]
  },
  {
   "cell_type": "code",
   "execution_count": null,
   "id": "bc0dff67",
   "metadata": {},
   "outputs": [],
   "source": [
    "A **two-dimensional** labeled data structure with columns of potentially\n",
    "different types"
   ]
  },
  {
   "cell_type": "code",
   "execution_count": null,
   "id": "3926e568",
   "metadata": {},
   "outputs": [],
   "source": [
    "     data = { 'Country' : ['Belgium' ,'India ',' Brazil'  ] ,\n",
    "                  'Capital': ['Brussels','New Delhi','Brasilia'] ,\n",
    "                'Population': [111908s6, 1303171035, 207847528]}\n",
    "     df = pd.DataFrame(data,columns=[ 'Country' , 'Capital' , 'Population' ])"
   ]
  },
  {
   "cell_type": "code",
   "execution_count": null,
   "id": "30197efc",
   "metadata": {},
   "outputs": [],
   "source": [
    "**Dropping**"
   ]
  },
  {
   "cell_type": "code",
   "execution_count": null,
   "id": "6e0983a2",
   "metadata": {},
   "outputs": [],
   "source": [
    "\n",
    " s.drop(['a', 'c']) #Drop values from rows (axis=B)\n",
    " df.drop( 'Country', axis=l) #Drop values from columns(axis=l)"
   ]
  },
  {
   "cell_type": "code",
   "execution_count": null,
   "id": "72edda0d",
   "metadata": {},
   "outputs": [],
   "source": [
    "\n",
    "**Sort & Rank**"
   ]
  },
  {
   "cell_type": "code",
   "execution_count": null,
   "id": "67817b0f",
   "metadata": {},
   "outputs": [],
   "source": [
    "\n",
    " df.sort_index() #Sort by labels along an axis\n",
    " df.sort_values( by='Country') #Sort by the values along on axis\n",
    " df.rank() #Assign ranks to entries"
   ]
  },
  {
   "cell_type": "code",
   "execution_count": null,
   "id": "20c064c2",
   "metadata": {},
   "outputs": [],
   "source": [
    "\n",
    "### I/O"
   ]
  },
  {
   "cell_type": "code",
   "execution_count": null,
   "id": "d656f68e",
   "metadata": {},
   "outputs": [],
   "source": [
    "**Read and Write to CSV**"
   ]
  },
  {
   "cell_type": "code",
   "execution_count": null,
   "id": "1ac16822",
   "metadata": {},
   "outputs": [],
   "source": [
    "\n",
    " pd.read_csv('file.csv', header=None, nrows=5)\n",
    " df.to_csv('myDataFrame.csv')"
   ]
  },
  {
   "cell_type": "code",
   "execution_count": null,
   "id": "40dfe06e",
   "metadata": {},
   "outputs": [],
   "source": [
    "\n",
    "**Read and Write to Excel**"
   ]
  },
  {
   "cell_type": "code",
   "execution_count": null,
   "id": "272ed145",
   "metadata": {},
   "outputs": [],
   "source": [
    "\n",
    " pd.read_excel( 'file.xlsx')\n",
    " df.to_excel('dir/myDataFrame.x lsx', sheet_name= 'Sheet1')"
   ]
  },
  {
   "cell_type": "code",
   "execution_count": null,
   "id": "527b8049",
   "metadata": {},
   "outputs": [],
   "source": [
    "\n",
    "Read multiple sheets from the same file"
   ]
  },
  {
   "cell_type": "code",
   "execution_count": null,
   "id": "8c91e07e",
   "metadata": {},
   "outputs": [],
   "source": [
    "\n",
    " xlsx = pd.ExcelFile('file.xls')\n",
    " df = pd.read_excel(xlsx, 'Sheet1')"
   ]
  },
  {
   "cell_type": "code",
   "execution_count": null,
   "id": "1ebba06a",
   "metadata": {},
   "outputs": [],
   "source": [
    "\n",
    "**Read and Write to SQL Query or Database Table**"
   ]
  },
  {
   "cell_type": "code",
   "execution_count": null,
   "id": "ed6b6aa8",
   "metadata": {},
   "outputs": [],
   "source": [
    "\n",
    " from sqlalchemy import create_engine\n",
    " engine = create_eng ine('sqlite:///:memory:' )\n",
    " pd.read_sql( \"SELECT* FROM my_tabl e;\", engine)\n",
    " pd.read_sql_ tabl e('my_ tabl e', engine)\n",
    " pd.read_sql_query( \"SELECT * FROM my_table;\", engine)"
   ]
  },
  {
   "cell_type": "code",
   "execution_count": null,
   "id": "6744216c",
   "metadata": {},
   "outputs": [],
   "source": [
    "\n",
    "read_sql() is a convenience wrapper around read_sql_table() and\n",
    "read_sql_query()"
   ]
  },
  {
   "cell_type": "code",
   "execution_count": null,
   "id": "8eb0023f",
   "metadata": {},
   "outputs": [],
   "source": [
    "     df.to_sql('myDf',engine)"
   ]
  },
  {
   "cell_type": "code",
   "execution_count": null,
   "id": "cc0d50b1",
   "metadata": {},
   "outputs": [],
   "source": [
    "### Selection"
   ]
  },
  {
   "cell_type": "code",
   "execution_count": null,
   "id": "604b266a",
   "metadata": {},
   "outputs": [],
   "source": [
    "**Getting**"
   ]
  },
  {
   "cell_type": "code",
   "execution_count": null,
   "id": "05d8ed66",
   "metadata": {},
   "outputs": [],
   "source": [
    "\n",
    " s['b'] #Get one element\n",
    "-5"
   ]
  },
  {
   "cell_type": "code",
   "execution_count": null,
   "id": "269ba805",
   "metadata": {},
   "outputs": [],
   "source": []
  },
  {
   "cell_type": "code",
   "execution_count": null,
   "id": "60ebe1a3",
   "metadata": {},
   "outputs": [],
   "source": [
    " df[l:] #Get subset of a DataFrome\n",
    "Country Capital Population 1 India New Delhi 1303171035\n",
    "2 Brazil Brasilia 207847528"
   ]
  },
  {
   "cell_type": "code",
   "execution_count": null,
   "id": "a2f4c0c8",
   "metadata": {},
   "outputs": [],
   "source": [
    "\n",
    "**Selecting, Boolean Indexing** & **Setting**"
   ]
  },
  {
   "cell_type": "code",
   "execution_count": null,
   "id": "a7e55efe",
   "metadata": {},
   "outputs": [],
   "source": [
    "**By Position**"
   ]
  },
  {
   "cell_type": "code",
   "execution_count": null,
   "id": "518b90d5",
   "metadata": {},
   "outputs": [],
   "source": [
    "\n",
    " df.iloc[[0],[0]] #Select single value by row & column\n",
    "'Belgium'\n",
    " df.iat([0],[0])\n",
    "'Belgium'"
   ]
  },
  {
   "cell_type": "code",
   "execution_count": null,
   "id": "0aba6938",
   "metadata": {},
   "outputs": [],
   "source": [
    "\n",
    "**By Label**"
   ]
  },
  {
   "cell_type": "code",
   "execution_count": null,
   "id": "f86ff7e1",
   "metadata": {},
   "outputs": [],
   "source": [
    "\n",
    " df.loc[[0], [ 'Country']] #Select single value by row & column labels 'Belgium'\n",
    " df.at([0], [ 'Country ']) 'Belgium'"
   ]
  },
  {
   "cell_type": "code",
   "execution_count": null,
   "id": "b5fa0d49",
   "metadata": {},
   "outputs": [],
   "source": [
    "\n",
    "**By Label/Position**"
   ]
  },
  {
   "cell_type": "code",
   "execution_count": null,
   "id": "656e9db6",
   "metadata": {},
   "outputs": [],
   "source": [
    "\n",
    " df.ix[2] #Select single row of subset of rows\n",
    "Country Brazil Capital Brasilia Population 207847528\n",
    " df.ix[:,'Capital'] #Select a single column of subset of columns\n",
    "0   Brussels\n",
    "1   New Delhi\n",
    "2   Brasilia\n",
    " df.ix[1,'Capital'] #Select rows and columns 'New Delhi'"
   ]
  },
  {
   "cell_type": "code",
   "execution_count": null,
   "id": "6e5e094a",
   "metadata": {},
   "outputs": [],
   "source": [
    "\n",
    "**Boolean Indexing**"
   ]
  },
  {
   "cell_type": "code",
   "execution_count": null,
   "id": "bbc30282",
   "metadata": {},
   "outputs": [],
   "source": [
    " py\n",
    " s[N(s > 1)] #Series s where value is not >l\n",
    " s[(s < -1) I (s > 2)] #s where value is f-1 or >2\n",
    " df[df['Population']>1200000000] #Use filter to adjust DataFrame"
   ]
  },
  {
   "cell_type": "code",
   "execution_count": null,
   "id": "6643322f",
   "metadata": {},
   "outputs": [],
   "source": [
    "\n",
    "**Setting**"
   ]
  },
  {
   "cell_type": "code",
   "execution_count": null,
   "id": "81664f8a",
   "metadata": {},
   "outputs": [],
   "source": [
    "\n",
    " s['a'] = 6 #Set index a of Series s to 6"
   ]
  },
  {
   "cell_type": "code",
   "execution_count": null,
   "id": "411db4ef",
   "metadata": {},
   "outputs": [],
   "source": [
    "\n",
    "### Retrieving Series/DataFrame Information"
   ]
  },
  {
   "cell_type": "code",
   "execution_count": null,
   "id": "2a9a7c04",
   "metadata": {},
   "outputs": [],
   "source": [
    "**Basic Information**"
   ]
  },
  {
   "cell_type": "code",
   "execution_count": null,
   "id": "13799666",
   "metadata": {},
   "outputs": [],
   "source": [
    "\n",
    " df.shape #(rows,columns)\n",
    " df.index #Describe index\n",
    " df.columns #Describe DataFrame columns\n",
    " df.info() #Info on DataFrame\n",
    " df.count() #Number of non-NA values"
   ]
  },
  {
   "cell_type": "code",
   "execution_count": null,
   "id": "0aa795bb",
   "metadata": {},
   "outputs": [],
   "source": [
    "\n",
    "**Summary**"
   ]
  },
  {
   "cell_type": "code",
   "execution_count": null,
   "id": "9cbd2afb",
   "metadata": {},
   "outputs": [],
   "source": [
    "\n",
    " df.sum() #Sum of values\n",
    " df.cumsum() #Cummulative sum of values\n",
    " df.min() /df.max() #11inimum/maximum values\n",
    " df.idxmin()/df.idxmax() #Minimum/Maximum index value\n",
    " df.describe() #Summary statistics\n",
    " df.mean() #11ean of values\n",
    " df.median() #Median of values"
   ]
  },
  {
   "cell_type": "code",
   "execution_count": null,
   "id": "f6fc3825",
   "metadata": {},
   "outputs": [],
   "source": [
    "\n",
    "### Applying Functions"
   ]
  },
  {
   "cell_type": "code",
   "execution_count": null,
   "id": "9a3a4edd",
   "metadata": {},
   "outputs": [],
   "source": [
    "\n",
    " f = lambda x: X*2\n",
    " df.apply(f) #Apply function\n",
    " df.applymap(f) #Apply function element-wise"
   ]
  },
  {
   "cell_type": "code",
   "execution_count": null,
   "id": "2e7dc372",
   "metadata": {},
   "outputs": [],
   "source": [
    "\n",
    "**Data Alignment**"
   ]
  },
  {
   "cell_type": "code",
   "execution_count": null,
   "id": "1c4ea515",
   "metadata": {},
   "outputs": [],
   "source": [
    "**Internal Data Alignment**"
   ]
  },
  {
   "cell_type": "code",
   "execution_count": null,
   "id": "4145a663",
   "metadata": {},
   "outputs": [],
   "source": [
    "\n",
    " s3 = pd.Series([7, -2, 31, index= ['a','c' ,'d'])\n",
    " s + s3\n",
    "a 10.0\n",
    "b NaN\n",
    "C 5.0\n",
    "d 7.0"
   ]
  },
  {
   "cell_type": "code",
   "execution_count": null,
   "id": "0dc15d1b",
   "metadata": {},
   "outputs": [],
   "source": [
    "\n",
    "**Arithmetic Operations with Fill Methods**"
   ]
  },
  {
   "cell_type": "code",
   "execution_count": null,
   "id": "3e75536e",
   "metadata": {},
   "outputs": [],
   "source": [
    "**You can also do the internal data alignment yourself with the help of\n",
    "the fill methods:**"
   ]
  },
  {
   "cell_type": "code",
   "execution_count": null,
   "id": "a20fb663",
   "metadata": {},
   "outputs": [],
   "source": [
    "\n",
    " s.add(s3, fill_values=0) a 10.0\n",
    "b -5. 0\n",
    "C 5.0\n",
    "d 7.0\n",
    " s.sub(s3, fill_value=2)\n",
    " s.div(s3, fill_value=4)\n",
    " s.mul(s3, fill_value=3)"
   ]
  },
  {
   "cell_type": "code",
   "execution_count": null,
   "id": "1fdc8de6",
   "metadata": {},
   "outputs": [],
   "source": [
    "\n",
    "# Section 4"
   ]
  },
  {
   "cell_type": "code",
   "execution_count": null,
   "id": "0768ff26",
   "metadata": {},
   "outputs": [],
   "source": [
    "## Data Analysis with Numpy"
   ]
  },
  {
   "cell_type": "code",
   "execution_count": null,
   "id": "160327c5",
   "metadata": {},
   "outputs": [],
   "source": [
    "<img src=\"../assets/images/posts/2021-06-06-What-all-should-a-data-scientist-know/numpy.jpg\" style=\"zoom:20%;\" />"
   ]
  },
  {
   "cell_type": "code",
   "execution_count": null,
   "id": "5a03dcb2",
   "metadata": {},
   "outputs": [],
   "source": [
    "The NumPy library is the core library for scientific computing in\n",
    "Python. It provides a high performance multidimensional array object ,\n",
    "and tools for working with these arrays"
   ]
  },
  {
   "cell_type": "code",
   "execution_count": null,
   "id": "79173525",
   "metadata": {},
   "outputs": [],
   "source": [
    "**Use the following import convention**"
   ]
  },
  {
   "cell_type": "code",
   "execution_count": null,
   "id": "cb59fcb1",
   "metadata": {},
   "outputs": [],
   "source": [
    " py\n",
    ">> import numpy as np"
   ]
  },
  {
   "cell_type": "code",
   "execution_count": null,
   "id": "fbe2ca09",
   "metadata": {},
   "outputs": [],
   "source": [
    "\n",
    "**Creating Array**"
   ]
  },
  {
   "cell_type": "code",
   "execution_count": null,
   "id": "cfdd64e5",
   "metadata": {},
   "outputs": [],
   "source": [
    "\n",
    " a = np.array([l,2,3])\n",
    " b = np.array([(l.5,2,3), (4,5,6)], dtype = float)\n",
    " c = np.array([[(l.5,2,3), (4,5,6)],[(3,2,1), (4,5,6)]], dtype = float)"
   ]
  },
  {
   "cell_type": "code",
   "execution_count": null,
   "id": "542fced6",
   "metadata": {},
   "outputs": [],
   "source": [
    "\n",
    "**Initial Placeholders**"
   ]
  },
  {
   "cell_type": "code",
   "execution_count": null,
   "id": "4df6ce6c",
   "metadata": {},
   "outputs": [],
   "source": [
    "\n",
    " np.zeros((3,4)) #Create an array af zeros\n",
    " np.ones((2,3,4),dtype=np.int16) #Create an array of ones\n",
    " d = np.arange(10,25,5) #Create an array of evenly spaced values (step value)\n",
    " np.linspace(0,2,9) #Create an array of evenly spaced values (number of samples)\n",
    " e = np.full((2,2),7) #Create a constant array\n",
    " f = np.eye(2) #Create a 2X2 identity matrix\n",
    " np.random.random((2,2)) #Create an array with random values\n",
    " np.empty((3,2)) #Create an empty array"
   ]
  },
  {
   "cell_type": "code",
   "execution_count": null,
   "id": "ce7e74cb",
   "metadata": {},
   "outputs": [],
   "source": [
    "\n",
    "### **I/O**"
   ]
  },
  {
   "cell_type": "code",
   "execution_count": null,
   "id": "3f9cb95c",
   "metadata": {},
   "outputs": [],
   "source": [
    "**Saving** **&** **Loading On Disk**"
   ]
  },
  {
   "cell_type": "code",
   "execution_count": null,
   "id": "23860d9e",
   "metadata": {},
   "outputs": [],
   "source": [
    "\n",
    " np.save('my_array',a)\n",
    " np.save('array.npz',a, b)\n",
    " np.load('my_array.npy ')"
   ]
  },
  {
   "cell_type": "code",
   "execution_count": null,
   "id": "6f07f9ab",
   "metadata": {},
   "outputs": [],
   "source": [
    "\n",
    "**Saving & Loading Text Files**"
   ]
  },
  {
   "cell_type": "code",
   "execution_count": null,
   "id": "55eaf0b1",
   "metadata": {},
   "outputs": [],
   "source": [
    "\n",
    ">> np.loadtxt(\"myfile.txt\")\n",
    " np.genfromtxt(\"my_file.csv\", delimiter=',' )\n",
    " np.savetxt(\"myarray.txt\" , a, delimiter=\" \" )"
   ]
  },
  {
   "cell_type": "code",
   "execution_count": null,
   "id": "af4bd245",
   "metadata": {},
   "outputs": [],
   "source": [
    "\n",
    "### Inspecting Your Array"
   ]
  },
  {
   "cell_type": "code",
   "execution_count": null,
   "id": "78aa5e02",
   "metadata": {},
   "outputs": [],
   "source": [
    "\n",
    " a.shape #Array dimensions\n",
    " len(a) #Length of array\n",
    " b.ndim #Number of array dimensions\n",
    " e.size #Number of array elements\n",
    " b.dtype #Data type of array elements\n",
    " b.dtype.name #Name of data type\n",
    " b.astype(int) #Convert an array to a different type"
   ]
  },
  {
   "cell_type": "code",
   "execution_count": null,
   "id": "5bcce170",
   "metadata": {},
   "outputs": [],
   "source": [
    "\n",
    "**Data Type**"
   ]
  },
  {
   "cell_type": "code",
   "execution_count": null,
   "id": "6f079b67",
   "metadata": {},
   "outputs": [],
   "source": [
    "\n",
    " np.int64 #Signed 64-bit integer types\n",
    " np.flaat32 #Standard double-precision floating paint\n",
    " np.complex #Complex numbers represented by 128 floats\n",
    " np.baol #Boolean type storing TRUE and FALSE values\n",
    " np.object #Python object type\n",
    " np.string _ #Fixed-length string type\n",
    " np.unicode_ #Fixed-length unicode type"
   ]
  },
  {
   "cell_type": "code",
   "execution_count": null,
   "id": "3a17f6bd",
   "metadata": {},
   "outputs": [],
   "source": [
    "\n",
    "## Array Mathematics"
   ]
  },
  {
   "cell_type": "code",
   "execution_count": null,
   "id": "7ad31b23",
   "metadata": {},
   "outputs": [],
   "source": [
    "**Arithmetic Operations**"
   ]
  },
  {
   "cell_type": "code",
   "execution_count": null,
   "id": "b9941202",
   "metadata": {},
   "outputs": [],
   "source": [
    "\n",
    " g = a - b #Subtraction\n",
    "array([[-0.5,0. , 0. ],\n",
    "        [-3. , -3. , -3. ]])\n",
    " np.subtract(a,b) #Subtraction\n",
    " b + a #Addition\n",
    "array([[ 2.5, 4. , 6. ],\n",
    "        [5.,7.,9.]])\n",
    " np.add(b,a) Addition\n",
    " a / b #Division\n",
    "array([[ 0.66666667, 1., 1.],\n",
    "        [ 0.25 , 0.4 , 0.5 ]])\n",
    " np.divide(a,b) #Division\n",
    " a * b #Multiplication\n",
    "array([[ 1.5, 4. , 9. ],\n",
    "    [ 4. , 10. , 18. ]])\n",
    " np.multiply(a,b) #Multiplication\n",
    " np.exp(b) #Exponentiation\n",
    " np.sqrt(b) #Square root\n",
    " np.sin(a) #Print sines of an array\n",
    " np.cos(b) #Element-wise cosine\n",
    " np.log(a) #Element-wise natural logarithm\n",
    " e.dot(f) #Dot product\n",
    "array([[ 7., 7.],"
   ]
  },
  {
   "cell_type": "code",
   "execution_count": null,
   "id": "7130184e",
   "metadata": {},
   "outputs": [],
   "source": [
    "\n",
    "**Comparison**"
   ]
  },
  {
   "cell_type": "code",
   "execution_count": null,
   "id": "8c11557e",
   "metadata": {},
   "outputs": [],
   "source": [
    "\n",
    "a == b #Element-wise comparison\n",
    "array([[False, True , True],\n",
    "[ False, False, False]], dtype=bool)\n",
    " a < 2 #Element-wise comparison\n",
    "array([True , False, False], dtype=bool)\n",
    " np.array_equal(a, b) #Array-wise comparison"
   ]
  },
  {
   "cell_type": "code",
   "execution_count": null,
   "id": "e069a9a9",
   "metadata": {},
   "outputs": [],
   "source": [
    "\n",
    "**Aggregate Functions**"
   ]
  },
  {
   "cell_type": "code",
   "execution_count": null,
   "id": "5e928011",
   "metadata": {},
   "outputs": [],
   "source": [
    "\n",
    " a.sum() #Array-wise sum\n",
    " a.min() #Array-wise minimum value\n",
    " b.max(axis=0) #Maximum value of an array row\n",
    " b.cumsum(axis=l) #Cumulative sum of the elements\n",
    " a.mean() #Mean\n",
    " b.median() #Median\n",
    " a.corrcaef() #Correlation coefficient\n",
    " np.std(b) #Standard deviation"
   ]
  },
  {
   "cell_type": "code",
   "execution_count": null,
   "id": "1c742bec",
   "metadata": {},
   "outputs": [],
   "source": [
    "\n",
    "### Copying Array"
   ]
  },
  {
   "cell_type": "code",
   "execution_count": null,
   "id": "772ba996",
   "metadata": {},
   "outputs": [],
   "source": [
    "\n",
    " h = a.view() #Create a view af the array with the some data\n",
    " np.capy(a) #Create a copy of the array\n",
    " h = a.copy() #Create a deep copy of the array"
   ]
  },
  {
   "cell_type": "code",
   "execution_count": null,
   "id": "293117c9",
   "metadata": {},
   "outputs": [],
   "source": [
    "\n",
    "### Sorting Array"
   ]
  },
  {
   "cell_type": "code",
   "execution_count": null,
   "id": "3afc8631",
   "metadata": {},
   "outputs": [],
   "source": [
    "**Subsetting**"
   ]
  },
  {
   "cell_type": "code",
   "execution_count": null,
   "id": "c6fe20d5",
   "metadata": {},
   "outputs": [],
   "source": [
    "\n",
    " a[2] #Select the element at the 2nd index\n",
    "3"
   ]
  },
  {
   "cell_type": "code",
   "execution_count": null,
   "id": "f2bc5c66",
   "metadata": {},
   "outputs": [],
   "source": [
    "\n",
    "<span class=\"image\"></span>"
   ]
  },
  {
   "cell_type": "code",
   "execution_count": null,
   "id": "797d2a68",
   "metadata": {},
   "outputs": [],
   "source": [
    "\n",
    " b[1,2] #Select the element at row 1 column 2 (equivalent to b[1][2])\n",
    "6.0"
   ]
  },
  {
   "cell_type": "code",
   "execution_count": null,
   "id": "bb64d84d",
   "metadata": {},
   "outputs": [],
   "source": [
    "\n",
    "<span class=\"image\"></span>"
   ]
  },
  {
   "cell_type": "code",
   "execution_count": null,
   "id": "ab51d4ba",
   "metadata": {},
   "outputs": [],
   "source": [
    "**Slicing**"
   ]
  },
  {
   "cell_type": "code",
   "execution_count": null,
   "id": "e3649ff2",
   "metadata": {},
   "outputs": [],
   "source": [
    "\n",
    " a[0:2] #Select items at index 0 and 1\n",
    "array([1, 2])"
   ]
  },
  {
   "cell_type": "code",
   "execution_count": null,
   "id": "8733a3fd",
   "metadata": {},
   "outputs": [],
   "source": [
    "\n",
    "<span class=\"image\"></span>"
   ]
  },
  {
   "cell_type": "code",
   "execution_count": null,
   "id": "14b9811e",
   "metadata": {},
   "outputs": [],
   "source": [
    "\n",
    " b[0:2,1] #Select items at rows 0 and 1 in column 1\n",
    "array([ 2., 5.])"
   ]
  },
  {
   "cell_type": "code",
   "execution_count": null,
   "id": "e9616cfc",
   "metadata": {},
   "outputs": [],
   "source": []
  },
  {
   "cell_type": "code",
   "execution_count": null,
   "id": "db6866cd",
   "metadata": {},
   "outputs": [],
   "source": [
    " b[:1] #Select all items at row 0 (equivalent to b[0:1, :])\n",
    "array([[1.5, 2., 3.]])"
   ]
  },
  {
   "cell_type": "code",
   "execution_count": null,
   "id": "1e2dd1ae",
   "metadata": {},
   "outputs": [],
   "source": [
    "\n",
    "<span class=\"image\"></span>"
   ]
  },
  {
   "cell_type": "code",
   "execution_count": null,
   "id": "0bc3196d",
   "metadata": {},
   "outputs": [],
   "source": [
    "\n",
    " c[1,... ] #Same as [1,:,:]\n",
    "array([[[ 3., 2., 1.],\n",
    "[  4., 5.,  6.]]])\n",
    " a[: :-1] #Reversed array a array([3, 2, 1])"
   ]
  },
  {
   "cell_type": "code",
   "execution_count": null,
   "id": "8b86a90b",
   "metadata": {},
   "outputs": [],
   "source": [
    "\n",
    "**Boolean Indexing**"
   ]
  },
  {
   "cell_type": "code",
   "execution_count": null,
   "id": "eaa43afa",
   "metadata": {},
   "outputs": [],
   "source": [
    "\n",
    " a[a<2] #Select elements from a less than 2\n",
    "array([1])"
   ]
  },
  {
   "cell_type": "code",
   "execution_count": null,
   "id": "f67079de",
   "metadata": {},
   "outputs": [],
   "source": [
    "\n",
    "<span class=\"image\"></span>"
   ]
  },
  {
   "cell_type": "code",
   "execution_count": null,
   "id": "cdbf2283",
   "metadata": {},
   "outputs": [],
   "source": [
    "**Fancy Indexing**"
   ]
  },
  {
   "cell_type": "code",
   "execution_count": null,
   "id": "434d16d3",
   "metadata": {},
   "outputs": [],
   "source": [
    "\n",
    " b[[l, 0, 1, 0],[0, 1, 2, 0]] #Select elements (1,0),(0,1),(1,2) and (0,0)\n",
    "array([ 4. , 2. , 6. , 1.5])\n",
    " b[[l, 0, 1, 0]][:,[0,1,2,0]] #Select a subset of the matrix's rows and columns array([[ 4. ,5. , 6. , 4. ],\n",
    "            [ 1.5, 2.3, 1.5],"
   ]
  },
  {
   "cell_type": "code",
   "execution_count": null,
   "id": "98fb3842",
   "metadata": {},
   "outputs": [],
   "source": [
    "\n",
    "### Array Manipulation"
   ]
  },
  {
   "cell_type": "code",
   "execution_count": null,
   "id": "ed7273b3",
   "metadata": {},
   "outputs": [],
   "source": [
    "**Transposing Array**"
   ]
  },
  {
   "cell_type": "code",
   "execution_count": null,
   "id": "b0b10153",
   "metadata": {},
   "outputs": [],
   "source": [
    "\n",
    " i = np.transpose(b) #Permute array dimensions\n",
    " i.T #Permute array dimensions"
   ]
  },
  {
   "cell_type": "code",
   "execution_count": null,
   "id": "3c73583c",
   "metadata": {},
   "outputs": [],
   "source": [
    "\n",
    "**Changing Array Shape**"
   ]
  },
  {
   "cell_type": "code",
   "execution_count": null,
   "id": "c7707caa",
   "metadata": {},
   "outputs": [],
   "source": [
    "\n",
    " b.ravel() #Flatten the array\n",
    " g.reshape(3,-2) #Reshape, but don't change data"
   ]
  },
  {
   "cell_type": "code",
   "execution_count": null,
   "id": "a79dc5c3",
   "metadata": {},
   "outputs": [],
   "source": [
    "\n",
    "**Adding/Removing Elements**"
   ]
  },
  {
   "cell_type": "code",
   "execution_count": null,
   "id": "863c6718",
   "metadata": {},
   "outputs": [],
   "source": [
    "\n",
    " h.resize((2,6)) #Return a new array with shape (2,6)\n",
    " np.append(h,g) #Append items to an array\n",
    " np.insert(a, 1, 5) #Insert items in an array\n",
    " np.delete(a,[1]) #Delete items from an array"
   ]
  },
  {
   "cell_type": "code",
   "execution_count": null,
   "id": "753e7baa",
   "metadata": {},
   "outputs": [],
   "source": [
    "\n",
    "**Combining Arrays**"
   ]
  },
  {
   "cell_type": "code",
   "execution_count": null,
   "id": "d6e44882",
   "metadata": {},
   "outputs": [],
   "source": [
    "\n",
    " np.concatenate((a,d),axis=0) #Concatenate arrays array([ 1, 2, 3, 10, 15, 20])\n",
    " np.vstack((a,b)) #Stack arrays vertically (row-wise)\n",
    "array([[ 1. , 2.    3. ],\n",
    "        [ 1.5, 2. , 3. ],\n",
    "        [   4.    ,   5.    ,   6.    ]])\n",
    " np.r_[e,f] #Stack arrays vertically (row -wise)\n",
    " np.hstack((e,f)) #Stack arrays horizontally (col umn-wise)\n",
    "array([[ 7., 7., 1., 0.],\n",
    "    [ 7., 7., 0., 1.]])\n",
    " np.column_stack((a,d)) #Create stacked column-wise arrays\n",
    "array([[ 1, 10],\n",
    "    [ 2,  15],\n",
    "    [ 3, 20]])\n",
    " np.c_[a ,d] #Create stacked column-wise arrays"
   ]
  },
  {
   "cell_type": "code",
   "execution_count": null,
   "id": "22cabcfb",
   "metadata": {},
   "outputs": [],
   "source": [
    "\n",
    "**Splitting Arrays**"
   ]
  },
  {
   "cell_type": "code",
   "execution_count": null,
   "id": "64fc33c0",
   "metadata": {},
   "outputs": [],
   "source": [
    "\n",
    " np.hsplit(a,3) #Split the array horizontally at the 3rd index\n",
    "[array([1]),array([2]),array([3])]\n",
    " np.vsplit(c,2) #Split the array vertically at the 2nd index\n",
    "[array([[[ 1.5, 2. , 1. ],\n",
    "        [ 4. , 5. , 6. ]]]),\n",
    "array([[[ 3., 2., 3.],\n",
    "        [  4.,  5., 6.]]])]"
   ]
  },
  {
   "cell_type": "code",
   "execution_count": null,
   "id": "6ec8ad11",
   "metadata": {},
   "outputs": [],
   "source": [
    "\n",
    "# Section 5"
   ]
  },
  {
   "cell_type": "code",
   "execution_count": null,
   "id": "6c2919ab",
   "metadata": {},
   "outputs": [],
   "source": [
    "## Data Visualization with Matplotlib"
   ]
  },
  {
   "cell_type": "code",
   "execution_count": null,
   "id": "23313c1e",
   "metadata": {},
   "outputs": [],
   "source": [
    "Matplotlib is a Python 2D plotting library which produces\n",
    "publication-quality figures in a variety of hardcopy formats and\n",
    "interactive environments across platforms."
   ]
  },
  {
   "cell_type": "code",
   "execution_count": null,
   "id": "39880870",
   "metadata": {},
   "outputs": [],
   "source": [
    "**1D Data**"
   ]
  },
  {
   "cell_type": "code",
   "execution_count": null,
   "id": "4cef040a",
   "metadata": {},
   "outputs": [],
   "source": [
    "     import numpy as np\n",
    "     X = np.linspace(0, 10, 100)\n",
    "     y = np.cos(x)\n",
    "     z = np.sin(x)"
   ]
  },
  {
   "cell_type": "code",
   "execution_count": null,
   "id": "372f818d",
   "metadata": {},
   "outputs": [],
   "source": [
    "**2D Data or Images**"
   ]
  },
  {
   "cell_type": "code",
   "execution_count": null,
   "id": "9df27620",
   "metadata": {},
   "outputs": [],
   "source": [
    "\n",
    " data= 2 * np.random.random((10, 10))\n",
    " data2 = 3 * np.random.random((10, 10))\n",
    " Y, X = np.mgrid[-3:3:100j, -3:3:100j]\n",
    " U = -1 - X**2 + Y\n",
    " V = 1 +  X - Y**2\n",
    " from matplotlib.cbook import get_sample_data\n",
    " img = np.load(g et_sample_data('axes_gr id/bivar iate_normal.npy '))"
   ]
  },
  {
   "cell_type": "code",
   "execution_count": null,
   "id": "d4e9b08a",
   "metadata": {},
   "outputs": [],
   "source": [
    "\n",
    "### Create Plot"
   ]
  },
  {
   "cell_type": "code",
   "execution_count": null,
   "id": "034ca7ec",
   "metadata": {},
   "outputs": [],
   "source": [
    "    import matplotlib.pyplot as plt"
   ]
  },
  {
   "cell_type": "code",
   "execution_count": null,
   "id": "9db3e8cc",
   "metadata": {},
   "outputs": [],
   "source": [
    "**Figure**"
   ]
  },
  {
   "cell_type": "code",
   "execution_count": null,
   "id": "b3076139",
   "metadata": {},
   "outputs": [],
   "source": [
    "\n",
    " fig = plt.figure()\n",
    " fig2 = plt.figure(figsize=plt.figaspect(2.0))"
   ]
  },
  {
   "cell_type": "code",
   "execution_count": null,
   "id": "0ec77914",
   "metadata": {},
   "outputs": [],
   "source": [
    "\n",
    "**Axes**"
   ]
  },
  {
   "cell_type": "code",
   "execution_count": null,
   "id": "aacd6df0",
   "metadata": {},
   "outputs": [],
   "source": [
    "ll plotting is done with respect to an Axes. In most cases, a subplot\n",
    "will fit your needs. A subplot is an axes on a grid system."
   ]
  },
  {
   "cell_type": "code",
   "execution_count": null,
   "id": "583ae267",
   "metadata": {},
   "outputs": [],
   "source": [
    "     fig.add_axes()\n",
    "     ax1 = fig.add_subplot(221)#row-col-num\n",
    "     ax3 = fig.add_subplot(212)\n",
    "     fig3, axes= plt.subplots(nrows=2,ncols=2)\n",
    "     fig4, axes2 = plt.subplots(ncols=3)"
   ]
  },
  {
   "cell_type": "code",
   "execution_count": null,
   "id": "8aed11c8",
   "metadata": {},
   "outputs": [],
   "source": [
    "**Save Plot**"
   ]
  },
  {
   "cell_type": "code",
   "execution_count": null,
   "id": "d25eb86f",
   "metadata": {},
   "outputs": [],
   "source": [
    "     plt.savefig( 'foe.png' J #Save figures\n",
    "     plt.savefig( 'foo.png',transparent=True) #Save transparent figures"
   ]
  },
  {
   "cell_type": "code",
   "execution_count": null,
   "id": "0f519839",
   "metadata": {},
   "outputs": [],
   "source": [
    "**Show Plot**"
   ]
  },
  {
   "cell_type": "code",
   "execution_count": null,
   "id": "7ed5e1ac",
   "metadata": {},
   "outputs": [],
   "source": [
    "     plt.show()"
   ]
  },
  {
   "cell_type": "code",
   "execution_count": null,
   "id": "5333e93e",
   "metadata": {},
   "outputs": [],
   "source": [
    "### Plotting Routines"
   ]
  },
  {
   "cell_type": "code",
   "execution_count": null,
   "id": "c8fae1b8",
   "metadata": {},
   "outputs": [],
   "source": [
    "**1D Data**"
   ]
  },
  {
   "cell_type": "code",
   "execution_count": null,
   "id": "e696d588",
   "metadata": {},
   "outputs": [],
   "source": [
    "\n",
    " fig, ax= plt.subp lots()\n",
    "lines= ax.plot(x,y) #Draw points with lines or markers connecting them\n",
    " ax.scatter(x,y) #Draw unconnected points, scaled or colored\n",
    " axes[0,0].bar([l,2,3],[3,4,5]) #Plot vertical rectangles (constant width)\n",
    " axes[l,0].barh([0.5,1,2.5],[0,1,2]) #Plot horiontol rectangles (constant height)\n",
    " axes[l,1].axhline(0.s5) #Draw a horizontal line across axes\n",
    " axes[0,1].axvline(0.65) #Draw a vertical line across axes\n",
    " ax.fill(x,y,color='blue') #Drow filled polygons\n",
    " ax.fill_between(x,y,color='yellow') #Fill between y-values and 0"
   ]
  },
  {
   "cell_type": "code",
   "execution_count": null,
   "id": "40fd64f7",
   "metadata": {},
   "outputs": [],
   "source": [
    "\n",
    "**2D Data**"
   ]
  },
  {
   "cell_type": "code",
   "execution_count": null,
   "id": "319437d1",
   "metadata": {},
   "outputs": [],
   "source": [
    "     fig, ax= plt.subplots()\n",
    "     im = ax.imshow(img, #Colormapped or RGB arrays\n",
    "                cmap= 1 gist_ear th 1 ,\n",
    "                interpolation= 1 neare st',\n",
    "                vmin=-2,\n",
    "                vmax =2)\n",
    "     axes2[0].pcolor(data2) #Pseudocolor plot of 2D array\n",
    "     axes2[0].pcolormesh(data) #Pseudocolor plot of 2D array\n",
    "    CS= plt.contour(Y,X,U) #Plot contours\n",
    "     axes2[2].contourf(datal) #Plot filled contours\n",
    "     axes2[2]= ax.clabel(CS) #Lobel a contour plot"
   ]
  },
  {
   "cell_type": "code",
   "execution_count": null,
   "id": "582808f7",
   "metadata": {},
   "outputs": [],
   "source": [
    "**Vector Fields**"
   ]
  },
  {
   "cell_type": "code",
   "execution_count": null,
   "id": "8c68d086",
   "metadata": {},
   "outputs": [],
   "source": [
    "     axes[0,1].arrow(0,0,0.5,0.5) #Add an arrow to the axes\n",
    "     axes[l,l].quiver(y,z) #Plot a 2D field of arrows\n",
    "     axes[0,1].streamplot(X,Y,U,V) #Plot a 2D field of arrows"
   ]
  },
  {
   "cell_type": "code",
   "execution_count": null,
   "id": "1be5521b",
   "metadata": {},
   "outputs": [],
   "source": [
    "**Data Distributions**"
   ]
  },
  {
   "cell_type": "code",
   "execution_count": null,
   "id": "f21b36b3",
   "metadata": {},
   "outputs": [],
   "source": [
    "     axl.hist(y) #Plot a histogram\n",
    "     ax3.boxplot(y) #Make a box and whisker plot\n",
    "     ax3.violinplot(z) #Make a violin plot"
   ]
  },
  {
   "cell_type": "code",
   "execution_count": null,
   "id": "e5f342aa",
   "metadata": {},
   "outputs": [],
   "source": [
    "### Plot Anatomy"
   ]
  },
  {
   "cell_type": "code",
   "execution_count": null,
   "id": "d0c947b5",
   "metadata": {},
   "outputs": [],
   "source": [
    "The basic steps to creating plots with matplotlib are:"
   ]
  },
  {
   "cell_type": "code",
   "execution_count": null,
   "id": "002bcd5b",
   "metadata": {},
   "outputs": [],
   "source": [
    "**1** Prepare Data **2** Create Plot **3** Plot **4** Customized Plot\n",
    "**5** Save Plot **6** Show Plot"
   ]
  },
  {
   "cell_type": "code",
   "execution_count": null,
   "id": "cfc66d1a",
   "metadata": {},
   "outputs": [],
   "source": [
    "\n",
    " import matplotlib.pyplot as plt\n",
    " x = [1,2,3,s] #Step 1\n",
    " y = [ 10,20,25,30]\n",
    "fig= plt.figure() #Step 2\n",
    "ax= fig.add_subp lot(lll) #Step 3\n",
    " ax.plot(x, y, color='lightb lue', linewidth=3) #Step 3, 4\n",
    " ax.scatter([2,4,6],\n",
    "                [5,15,25],\n",
    "                color='darkgreen ', \n",
    "                marker='^')\n",
    " ax.set_xlim(l, 6.5)\n",
    " plt.savefig('foo.png' ) #Step 5\n",
    " plt.show() #Step 6"
   ]
  },
  {
   "cell_type": "code",
   "execution_count": null,
   "id": "49be28e0",
   "metadata": {},
   "outputs": [],
   "source": [
    "\n",
    "**Close and Clear**"
   ]
  },
  {
   "cell_type": "code",
   "execution_count": null,
   "id": "26e9a6bd",
   "metadata": {},
   "outputs": [],
   "source": [
    "\n",
    " plt.cla() #Clear on axis\n",
    " plt.clf() #Clear the entire figure\n",
    " plt.close() #Close a window"
   ]
  },
  {
   "cell_type": "code",
   "execution_count": null,
   "id": "ab422d38",
   "metadata": {},
   "outputs": [],
   "source": [
    "\n",
    "### Plotting Cutomize Plot"
   ]
  },
  {
   "cell_type": "code",
   "execution_count": null,
   "id": "f078a46f",
   "metadata": {},
   "outputs": [],
   "source": [
    "**Colors, Color Bars & Color Map**"
   ]
  },
  {
   "cell_type": "code",
   "execution_count": null,
   "id": "3035e3fe",
   "metadata": {},
   "outputs": [],
   "source": [
    "\n",
    " plt.plot(x, x, x, X**2, x, X**3)\n",
    " ax.plot(x, y, alpha = 0.s)\n",
    " ax.plot(x, y, c='k' )\n",
    " fig.colorbar(im, orientation= 'horizontal')\n",
    " im = ax.imshow(img,cmap=  'seismic'  )"
   ]
  },
  {
   "cell_type": "code",
   "execution_count": null,
   "id": "69ca7f86",
   "metadata": {},
   "outputs": [],
   "source": [
    "\n",
    "**Markers**"
   ]
  },
  {
   "cell_type": "code",
   "execution_count": null,
   "id": "70f49380",
   "metadata": {},
   "outputs": [],
   "source": [
    "     fig, ax= plt.subplots()\n",
    "     ax.scatter(x,y,marker=\".\"   )\n",
    "     ax.plot(x,y ,marker=\"o\")"
   ]
  },
  {
   "cell_type": "code",
   "execution_count": null,
   "id": "8c8f0ac2",
   "metadata": {},
   "outputs": [],
   "source": [
    "​ **Linestyles**"
   ]
  },
  {
   "cell_type": "code",
   "execution_count": null,
   "id": "003cd5a9",
   "metadata": {},
   "outputs": [],
   "source": [
    "\n",
    " plt.plot(x,y,linewidth=4.0)\n",
    " plt.plot(x,y,ls='solid')\n",
    " plt.plot(x,y,ls='--' )\n",
    " plt.plot(x, y,'-- 1 ,X**2,Y** 2, '-.')\n",
    " plt.setp(lines,color='r',linewidth= 4.0)"
   ]
  },
  {
   "cell_type": "code",
   "execution_count": null,
   "id": "56435398",
   "metadata": {},
   "outputs": [],
   "source": [
    "\n",
    "**Text** & **Annotations**"
   ]
  },
  {
   "cell_type": "code",
   "execution_count": null,
   "id": "0976c9b5",
   "metadata": {},
   "outputs": [],
   "source": [
    "     ax.text(1,-2.1,'Example Graph' , style='italic')\n",
    "     ax.annotate(\"Sine\",\n",
    "                    xy=(8, 0),\n",
    "                    xycoords= 'data', \n",
    "                    xytext=(10.5, 0), \n",
    "                    textcoords= 1 data', \n",
    "                    arrowprops=dict(arrowstyle= \"->\" connectionstyle=\"arc3\"),)"
   ]
  },
  {
   "cell_type": "code",
   "execution_count": null,
   "id": "a7669f30",
   "metadata": {},
   "outputs": [],
   "source": [
    "**Mathtext**"
   ]
  },
  {
   "cell_type": "code",
   "execution_count": null,
   "id": "99da7623",
   "metadata": {},
   "outputs": [],
   "source": [
    "     plt.title(r'$sigma_ i=15$', fontsize=20)"
   ]
  },
  {
   "cell_type": "code",
   "execution_count": null,
   "id": "34c37ea4",
   "metadata": {},
   "outputs": [],
   "source": [
    "**Limits, Legends and Layouts**"
   ]
  },
  {
   "cell_type": "code",
   "execution_count": null,
   "id": "b66c7fb8",
   "metadata": {},
   "outputs": [],
   "source": [
    "Limits & Autoscaling"
   ]
  },
  {
   "cell_type": "code",
   "execution_count": null,
   "id": "a1f3cd37",
   "metadata": {},
   "outputs": [],
   "source": [
    "\n",
    " ax.margins(x=0.0,y=0.1) #Add padding to a plot\n",
    " ax.axis('equa l') #Set the aspect ratio of the plot to 1\n",
    " ax.set(xlim=[0,10.5],ylim=[-1.5,l.5]) #Set limits for x-and y-axis\n",
    " ax.set_xlim(0,10.5) #Set limits for x-axis"
   ]
  },
  {
   "cell_type": "code",
   "execution_count": null,
   "id": "19f0306d",
   "metadata": {},
   "outputs": [],
   "source": [
    "\n",
    "**Legends**"
   ]
  },
  {
   "cell_type": "code",
   "execution_count": null,
   "id": "6d0deb0d",
   "metadata": {},
   "outputs": [],
   "source": [
    "\n",
    " ax.set( title='An Example Axe s', #Set a title and x-ond y-axis labels \n",
    "           ylabel='Y-Axis',\n",
    "           xlabel='X-Axis')\n",
    " ax.legend( loc='best') #No overlapping plot elements"
   ]
  },
  {
   "cell_type": "code",
   "execution_count": null,
   "id": "20f9d4fb",
   "metadata": {},
   "outputs": [],
   "source": [
    "\n",
    "**Ticks**"
   ]
  },
  {
   "cell_type": "code",
   "execution_count": null,
   "id": "a1dbbaab",
   "metadata": {},
   "outputs": [],
   "source": [
    "\n",
    " ax.xaxis.set(ticks=range(l,5), #Manually set x-ticks\n",
    "ticklabels=[3,100,-12,\"foo']')\n",
    "     #Makey-ticks longer and go in and out \n",
    " ax.tick_param s(axis='y',direction='inout ',length=10)\n",
    "     "
   ]
  },
  {
   "cell_type": "code",
   "execution_count": null,
   "id": "7b2e8612",
   "metadata": {},
   "outputs": [],
   "source": [
    "\n",
    "**Subplot Spacing**"
   ]
  },
  {
   "cell_type": "code",
   "execution_count": null,
   "id": "cdb90957",
   "metadata": {},
   "outputs": [],
   "source": [
    "\n",
    " fig3.subplots_ad just(wspace=0.5, #Adjust the spacing between subplots\n",
    "hspace=0.3, left=0.125, right=0.9, top=0.9, bottom=0.1)\n",
    " fig.tight_layout() #Fit subplot(s) in to the figure area"
   ]
  },
  {
   "cell_type": "code",
   "execution_count": null,
   "id": "ad5eb526",
   "metadata": {},
   "outputs": [],
   "source": [
    "\n",
    "**Axis Spines**"
   ]
  },
  {
   "cell_type": "code",
   "execution_count": null,
   "id": "48583cd3",
   "metadata": {},
   "outputs": [],
   "source": [
    "\n",
    " axl.spines['top'].set_visible(False)\n",
    "#Make the top axis line for a plot invisible\n",
    " axl.spines['bottom'].set_po sition(('outward' ,10))\n",
    "#Move the bottom axis line outward"
   ]
  },
  {
   "cell_type": "code",
   "execution_count": null,
   "id": "fd41a460",
   "metadata": {},
   "outputs": [],
   "source": [
    "\n",
    "# Section 7"
   ]
  },
  {
   "cell_type": "code",
   "execution_count": null,
   "id": "2ee0b8e3",
   "metadata": {},
   "outputs": [],
   "source": [
    "# Machine Learning with Scikit-Learn"
   ]
  },
  {
   "cell_type": "code",
   "execution_count": null,
   "id": "750f5921",
   "metadata": {},
   "outputs": [],
   "source": [
    "<img src=\"../assets/images/posts/2021-06-06-What-all-should-a-data-scientist-know/scikit-learn.png\" style=\"zoom:70%;\" />"
   ]
  },
  {
   "cell_type": "code",
   "execution_count": null,
   "id": "e14d49ab",
   "metadata": {},
   "outputs": [],
   "source": [
    "Scikit-learn is an open source Python library that implements a range of\n",
    "machine learning, preprocessing, cross-validation and visualization\n",
    "algorithms using a unified interface."
   ]
  },
  {
   "cell_type": "code",
   "execution_count": null,
   "id": "cc550c6a",
   "metadata": {},
   "outputs": [],
   "source": [
    "**Example**"
   ]
  },
  {
   "cell_type": "code",
   "execution_count": null,
   "id": "c37bb263",
   "metadata": {},
   "outputs": [],
   "source": [
    "\n",
    " from sklearn import neighbors, datasets, preprocessing\n",
    " from sklearn.model_selection import train_test_split\n",
    " from sklearn.metrics import accuracy_score\n",
    "iris= datasets.load_iris()\n",
    " X, y = iris.data[:, :2], iris.target\n",
    " X_train, X_test, y_train, y_test = train_test_split(X, y, random_state=33)\n",
    "scaler= preprocessing.StandardScaler().fit(X_train)\n",
    " X_train = scaler.transform(X_train)\n",
    " X_test = scaler.transform(X_test)\n",
    " knn = neighbors.KNeighborsClassifier(n_neighbors=5)\n",
    " knn.fit(X_train, y_train)\n",
    " y_pred = knn.predict(X_test)\n",
    " accuracy_score(y _test, y_pred)"
   ]
  },
  {
   "cell_type": "code",
   "execution_count": null,
   "id": "d6d75a75",
   "metadata": {},
   "outputs": [],
   "source": [
    "\n",
    "### Loading The Data"
   ]
  },
  {
   "cell_type": "code",
   "execution_count": null,
   "id": "51e216d9",
   "metadata": {},
   "outputs": [],
   "source": [
    "**Your data needs to be numeric and stored as NumPy arrays or SciPy\n",
    "sparse matrices. Other types that are convertible to numeric arrays,\n",
    "such as Pandas DataFrame, are also acceptable**"
   ]
  },
  {
   "cell_type": "code",
   "execution_count": null,
   "id": "25c81269",
   "metadata": {},
   "outputs": [],
   "source": [
    "\n",
    " import numpy as np\n",
    " X = np.random.random((10,5))\n",
    " Y = np. array (['M', 'M' ,'F','F','M','F','M','M','F','F','F'])\n",
    " X[X < 0.7] = 0"
   ]
  },
  {
   "cell_type": "code",
   "execution_count": null,
   "id": "75607e4c",
   "metadata": {},
   "outputs": [],
   "source": [
    "\n",
    "### Training And Test Data"
   ]
  },
  {
   "cell_type": "code",
   "execution_count": null,
   "id": "250c8bcd",
   "metadata": {},
   "outputs": [],
   "source": [
    "\n",
    " from sklearn.model_selection import train_test_split\n",
    " X_train, X_test, y_train, y_test = train_test_split(X,y, random_state=0)"
   ]
  },
  {
   "cell_type": "code",
   "execution_count": null,
   "id": "a48249c2",
   "metadata": {},
   "outputs": [],
   "source": [
    "\n",
    "### Model Fitting"
   ]
  },
  {
   "cell_type": "code",
   "execution_count": null,
   "id": "42337451",
   "metadata": {},
   "outputs": [],
   "source": [
    "**Supervised learning**"
   ]
  },
  {
   "cell_type": "code",
   "execution_count": null,
   "id": "e7d44a93",
   "metadata": {},
   "outputs": [],
   "source": [
    "\n",
    " lr.fit(X, y) #Fit the model to the data\n",
    " knn.fit(X_train, y_train)\n",
    " svc.fit(X_train, y_train)"
   ]
  },
  {
   "cell_type": "code",
   "execution_count": null,
   "id": "02c3a42e",
   "metadata": {},
   "outputs": [],
   "source": [
    "\n",
    "**Unsupervised Learning**"
   ]
  },
  {
   "cell_type": "code",
   "execution_count": null,
   "id": "377596ee",
   "metadata": {},
   "outputs": [],
   "source": [
    "\n",
    " k_mean s.fit(X_train) #Fit the model to the data\n",
    " pca_model = pca.fit_transform(X_train) #Fit to data, then transform it"
   ]
  },
  {
   "cell_type": "code",
   "execution_count": null,
   "id": "e3b224d8",
   "metadata": {},
   "outputs": [],
   "source": [
    "\n",
    "### Prediction"
   ]
  },
  {
   "cell_type": "code",
   "execution_count": null,
   "id": "cfb73c91",
   "metadata": {},
   "outputs": [],
   "source": [
    "**Supervised Estimators**"
   ]
  },
  {
   "cell_type": "code",
   "execution_count": null,
   "id": "6a4a9f23",
   "metadata": {},
   "outputs": [],
   "source": [
    "\n",
    " y_pred = svc.predict(np.random.random((2,5))) #Predict labels\n",
    " y_pred = lr.predict(X_test) #Predict labels\n",
    " y_ pred = knn.predict_proba(X_test) #Estimate probability of a label"
   ]
  },
  {
   "cell_type": "code",
   "execution_count": null,
   "id": "a0ed6ed3",
   "metadata": {},
   "outputs": [],
   "source": [
    "\n",
    "**Unsupervised Estimators**"
   ]
  },
  {
   "cell_type": "code",
   "execution_count": null,
   "id": "727a00fe",
   "metadata": {},
   "outputs": [],
   "source": [
    "\n",
    " y_pred = k_means.predict(X_test) #Predict labels in clustering algos"
   ]
  },
  {
   "cell_type": "code",
   "execution_count": null,
   "id": "09ff5621",
   "metadata": {},
   "outputs": [],
   "source": [
    "\n",
    "### Preprocessing The Data"
   ]
  },
  {
   "cell_type": "code",
   "execution_count": null,
   "id": "05b2382b",
   "metadata": {},
   "outputs": [],
   "source": [
    "**Standardization**"
   ]
  },
  {
   "cell_type": "code",
   "execution_count": null,
   "id": "c2575c1c",
   "metadata": {},
   "outputs": [],
   "source": [
    "\n",
    " from sklearn.preprocessing import StandardScaler\n",
    " scaler= StandardScaler().fit(X_train)\n",
    " standardized_X = scaler.transform(X_train)\n",
    " standardized_X_test= scaler.transform(X _test)"
   ]
  },
  {
   "cell_type": "code",
   "execution_count": null,
   "id": "40e37679",
   "metadata": {},
   "outputs": [],
   "source": [
    "\n",
    "**Normalization**"
   ]
  },
  {
   "cell_type": "code",
   "execution_count": null,
   "id": "ec015190",
   "metadata": {},
   "outputs": [],
   "source": [
    "\n",
    " from sklearn.preprocessing import Normalizer\n",
    "scaler= Normalizer().fit(X_train)\n",
    " normalized_X = scaler.transform(X _train)\n",
    " normalized_X_test = scaler.transform(X_test)"
   ]
  },
  {
   "cell_type": "code",
   "execution_count": null,
   "id": "f50e56ba",
   "metadata": {},
   "outputs": [],
   "source": [
    "\n",
    "**Binarization**"
   ]
  },
  {
   "cell_type": "code",
   "execution_count": null,
   "id": "e40635b2",
   "metadata": {},
   "outputs": [],
   "source": [
    "\n",
    " from sklearn.preprocessing import Binarizer\n",
    " binarizer = Binarizer(threshold=0.0).fit(X)\n",
    " binary_X = binarizer.transform(X)"
   ]
  },
  {
   "cell_type": "code",
   "execution_count": null,
   "id": "9666d48b",
   "metadata": {},
   "outputs": [],
   "source": [
    "\n",
    "**Encoding Categorical Features**"
   ]
  },
  {
   "cell_type": "code",
   "execution_count": null,
   "id": "d67bffe1",
   "metadata": {},
   "outputs": [],
   "source": [
    "\n",
    " from sklearn.preprocessing import LabelEncoder\n",
    "enc= LabelEncoder()\n",
    " y = enc.fit_transform(y)"
   ]
  },
  {
   "cell_type": "code",
   "execution_count": null,
   "id": "5c3a58b0",
   "metadata": {},
   "outputs": [],
   "source": [
    "\n",
    "**Imputing Missing Values**"
   ]
  },
  {
   "cell_type": "code",
   "execution_count": null,
   "id": "1b506fb8",
   "metadata": {},
   "outputs": [],
   "source": [
    "\n",
    " from sklearn.preprocessing import Imputer\n",
    "imp= Imputer(missing_values=0, strategy='mean ', axis=0)\n",
    " imp.fit_transform(X_train)"
   ]
  },
  {
   "cell_type": "code",
   "execution_count": null,
   "id": "af7438b1",
   "metadata": {},
   "outputs": [],
   "source": [
    "\n",
    "**Generating Polynomial Features**"
   ]
  },
  {
   "cell_type": "code",
   "execution_count": null,
   "id": "5d07adc1",
   "metadata": {},
   "outputs": [],
   "source": [
    "\n",
    " from sklearn.preprocessing import PolynomialFeatures\n",
    "poly= PolynomialFeatures(5)\n",
    " poly.fit_transform(X)"
   ]
  },
  {
   "cell_type": "code",
   "execution_count": null,
   "id": "65219772",
   "metadata": {},
   "outputs": [],
   "source": [
    "\n",
    "## Create Your Model"
   ]
  },
  {
   "cell_type": "code",
   "execution_count": null,
   "id": "14af72f6",
   "metadata": {},
   "outputs": [],
   "source": [
    "### Supervised Learning Estimators"
   ]
  },
  {
   "cell_type": "code",
   "execution_count": null,
   "id": "aabe0aeb",
   "metadata": {},
   "outputs": [],
   "source": [
    "**Linear Regression**"
   ]
  },
  {
   "cell_type": "code",
   "execution_count": null,
   "id": "0ff4e3c4",
   "metadata": {},
   "outputs": [],
   "source": [
    "\n",
    " from sklearn. linear m_ odel import LinearRegression\n",
    " lr = LinearRegression(normalize=True)"
   ]
  },
  {
   "cell_type": "code",
   "execution_count": null,
   "id": "c7bcad42",
   "metadata": {},
   "outputs": [],
   "source": [
    "\n",
    "**Support Vector Machines (SVM)**"
   ]
  },
  {
   "cell_type": "code",
   "execution_count": null,
   "id": "96d2ee36",
   "metadata": {},
   "outputs": [],
   "source": [
    "\n",
    " from sklearn.svm import SVC\n",
    "SVC= SVC(kernel='linear')"
   ]
  },
  {
   "cell_type": "code",
   "execution_count": null,
   "id": "5e3218af",
   "metadata": {},
   "outputs": [],
   "source": [
    "\n",
    "**Naive Bayes**"
   ]
  },
  {
   "cell_type": "code",
   "execution_count": null,
   "id": "3b019608",
   "metadata": {},
   "outputs": [],
   "source": [
    "\n",
    " from sklearn.naive_bayes import GaussianNB\n",
    " gnb = GaussianNB()"
   ]
  },
  {
   "cell_type": "code",
   "execution_count": null,
   "id": "6dc339d6",
   "metadata": {},
   "outputs": [],
   "source": [
    "\n",
    "**KNN**"
   ]
  },
  {
   "cell_type": "code",
   "execution_count": null,
   "id": "4e8846f7",
   "metadata": {},
   "outputs": [],
   "source": [
    "\n",
    " from sklearn import neighbors\n",
    " knn = neighbors.KNeighborsClassifier(n_neighbors=5)"
   ]
  },
  {
   "cell_type": "code",
   "execution_count": null,
   "id": "123298c7",
   "metadata": {},
   "outputs": [],
   "source": [
    "\n",
    "### Unsupervised Learning Estimators"
   ]
  },
  {
   "cell_type": "code",
   "execution_count": null,
   "id": "155a0177",
   "metadata": {},
   "outputs": [],
   "source": [
    "**Principal Component Analysis (PCA)**"
   ]
  },
  {
   "cell_type": "code",
   "execution_count": null,
   "id": "b65c8524",
   "metadata": {},
   "outputs": [],
   "source": [
    "\n",
    " from sklearn.decomposition import PCA\n",
    "pea= PCA(n_components=0.95)"
   ]
  },
  {
   "cell_type": "code",
   "execution_count": null,
   "id": "11896681",
   "metadata": {},
   "outputs": [],
   "source": [
    "\n",
    "**K Means**"
   ]
  },
  {
   "cell_type": "code",
   "execution_count": null,
   "id": "0f07dc1e",
   "metadata": {},
   "outputs": [],
   "source": [
    "\n",
    " from sklearn.cluster import KMeans\n",
    " k_means = KMeans(n_clusters=3, random_state=0)"
   ]
  },
  {
   "cell_type": "code",
   "execution_count": null,
   "id": "60690325",
   "metadata": {},
   "outputs": [],
   "source": [
    "\n",
    "## Evaluate Your Model’s Performance"
   ]
  },
  {
   "cell_type": "code",
   "execution_count": null,
   "id": "2297d401",
   "metadata": {},
   "outputs": [],
   "source": [
    "### **Classification Metrics**"
   ]
  },
  {
   "cell_type": "code",
   "execution_count": null,
   "id": "0df997f6",
   "metadata": {},
   "outputs": [],
   "source": [
    "**Accuracy Score**"
   ]
  },
  {
   "cell_type": "code",
   "execution_count": null,
   "id": "2e6581d5",
   "metadata": {},
   "outputs": [],
   "source": [
    "\n",
    " knn.score(X_test, y_test) #Estimator score method\n",
    " from sklearn.metrics import accuracy_score #Metric scoring functions\n",
    " accuracy_score(y_test, y_pred)"
   ]
  },
  {
   "cell_type": "code",
   "execution_count": null,
   "id": "4a9eeebc",
   "metadata": {},
   "outputs": [],
   "source": [
    "\n",
    "**Classification Report**"
   ]
  },
  {
   "cell_type": "code",
   "execution_count": null,
   "id": "ef404911",
   "metadata": {},
   "outputs": [],
   "source": [
    "\n",
    " from sklearn.metrics import classification_report #Precision, recall, fl-score and support\n",
    " print(classification_report(y_test, y_pred))"
   ]
  },
  {
   "cell_type": "code",
   "execution_count": null,
   "id": "e04faf5f",
   "metadata": {},
   "outputs": [],
   "source": [
    "\n",
    "**Confusion Matrix**"
   ]
  },
  {
   "cell_type": "code",
   "execution_count": null,
   "id": "6dc4da78",
   "metadata": {},
   "outputs": [],
   "source": [
    "\n",
    " from sklearn.metrics import confusion_matrix\n",
    " print(confusion_matrix(y_test.y_pred))"
   ]
  },
  {
   "cell_type": "code",
   "execution_count": null,
   "id": "64fafd15",
   "metadata": {},
   "outputs": [],
   "source": [
    "\n",
    "### Regression Metrics"
   ]
  },
  {
   "cell_type": "code",
   "execution_count": null,
   "id": "6c6ba9bd",
   "metadata": {},
   "outputs": [],
   "source": [
    "**Mean Absolute Error**"
   ]
  },
  {
   "cell_type": "code",
   "execution_count": null,
   "id": "c6cd71ea",
   "metadata": {},
   "outputs": [],
   "source": [
    "\n",
    " from sklearn.metrics import mean_absolute_error\n",
    " y_true = [3, -0.5,2]\n",
    " mean_absolute_error(y_true, y_pred)"
   ]
  },
  {
   "cell_type": "code",
   "execution_count": null,
   "id": "f1af1baf",
   "metadata": {},
   "outputs": [],
   "source": [
    "\n",
    "**Mean Squared Error**"
   ]
  },
  {
   "cell_type": "code",
   "execution_count": null,
   "id": "e0839926",
   "metadata": {},
   "outputs": [],
   "source": [
    "\n",
    " from sklearn.metrics import mean_squared_error\n",
    " mean_squared _error(y_test, y_ pred)"
   ]
  },
  {
   "cell_type": "code",
   "execution_count": null,
   "id": "0cc31a12",
   "metadata": {},
   "outputs": [],
   "source": [
    "\n",
    "**R2 Score**"
   ]
  },
  {
   "cell_type": "code",
   "execution_count": null,
   "id": "c78aa3c7",
   "metadata": {},
   "outputs": [],
   "source": [
    "\n",
    " from sklearn.metrics import r2_score\n",
    " r2_score(y_true, y_ pred)"
   ]
  },
  {
   "cell_type": "code",
   "execution_count": null,
   "id": "c5929e0a",
   "metadata": {},
   "outputs": [],
   "source": [
    "\n",
    "### Clustering Metrics"
   ]
  },
  {
   "cell_type": "code",
   "execution_count": null,
   "id": "958c6847",
   "metadata": {},
   "outputs": [],
   "source": [
    "**Adjusted Rand Index**"
   ]
  },
  {
   "cell_type": "code",
   "execution_count": null,
   "id": "47a6f263",
   "metadata": {},
   "outputs": [],
   "source": [
    "\n",
    " from sklearn.metrics import adjusted_rand_score\n",
    " adjusted_rand_score(y_true, y_pred)"
   ]
  },
  {
   "cell_type": "code",
   "execution_count": null,
   "id": "1edba8d6",
   "metadata": {},
   "outputs": [],
   "source": [
    "\n",
    "**Homogeneity**"
   ]
  },
  {
   "cell_type": "code",
   "execution_count": null,
   "id": "3fb20513",
   "metadata": {},
   "outputs": [],
   "source": [
    "\n",
    " from sklearn.metrics import homogeneity_score\n",
    " homogeneity_score(y_true, y_pred)"
   ]
  },
  {
   "cell_type": "code",
   "execution_count": null,
   "id": "ecc78b3e",
   "metadata": {},
   "outputs": [],
   "source": [
    "\n",
    "**V-measure**"
   ]
  },
  {
   "cell_type": "code",
   "execution_count": null,
   "id": "57166234",
   "metadata": {},
   "outputs": [],
   "source": [
    "\n",
    " from sklearn.metrics import v_measure_score\n",
    "metrics.v_measure_score(y_true , y_pred)"
   ]
  },
  {
   "cell_type": "code",
   "execution_count": null,
   "id": "03cc6788",
   "metadata": {},
   "outputs": [],
   "source": [
    "\n",
    "### Cross-Validation"
   ]
  },
  {
   "cell_type": "code",
   "execution_count": null,
   "id": "bdbeb05c",
   "metadata": {},
   "outputs": [],
   "source": [
    "\n",
    " from sklearn.cross_validation import cross_val_score\n",
    " print(cross_val_score(knn, X_train, y_train, cv=4))\n",
    " print(cross_val_score(lr, X, y, cv=2))"
   ]
  },
  {
   "cell_type": "code",
   "execution_count": null,
   "id": "0297a417",
   "metadata": {},
   "outputs": [],
   "source": [
    "\n",
    "## Tune Your Model"
   ]
  },
  {
   "cell_type": "code",
   "execution_count": null,
   "id": "ac9ec039",
   "metadata": {},
   "outputs": [],
   "source": [
    "### **Grid Search**"
   ]
  },
  {
   "cell_type": "code",
   "execution_count": null,
   "id": "5d3f3a15",
   "metadata": {},
   "outputs": [],
   "source": [
    "\n",
    " from sklearn.grid_search import GridSearchCV\n",
    " params = {\"n_neighbors \"  : np.arange(l,3),\n",
    "                \"metric \"    : [ \"euclidean\" , \"cityblock \"] }\n",
    "grid= GridSearchCV(estimator=knn,\n",
    "                    param_grid=params)\n",
    " grid.fit(X_train, y_train)\n",
    " print(grid.best_score_)\n",
    " print(grid.best_estimator_.n_neighbors)"
   ]
  },
  {
   "cell_type": "code",
   "execution_count": null,
   "id": "8cfaa632",
   "metadata": {},
   "outputs": [],
   "source": [
    "\n",
    "**Randomized Parameter Optimization**"
   ]
  },
  {
   "cell_type": "code",
   "execution_count": null,
   "id": "770f3a88",
   "metadata": {},
   "outputs": [],
   "source": [
    "\n",
    " from sklearn.grid _search import RandomizedSearchCV\n",
    " params = { \"n_neighbors\":range(l,5), \"weights\": [\"unifomr\",\"distance\"]}\n",
    " rsearch = RandomizedSearchCV(estimator=knn, param_distributions=params,\n",
    "                                cv=4, n_iter=S, random_state=5)\n",
    " rsearch.fit(X_train, y_train)\n",
    " print(rsearch.best_score_)"
   ]
  },
  {
   "cell_type": "code",
   "execution_count": null,
   "id": "d1af0c79",
   "metadata": {},
   "outputs": [],
   "source": [
    "\n",
    "# Section 8"
   ]
  },
  {
   "cell_type": "code",
   "execution_count": null,
   "id": "1c700278",
   "metadata": {},
   "outputs": [],
   "source": [
    "## SciPy"
   ]
  },
  {
   "cell_type": "code",
   "execution_count": null,
   "id": "d4a2bf72",
   "metadata": {},
   "outputs": [],
   "source": [
    "<span class=\"image\"></span>"
   ]
  },
  {
   "cell_type": "code",
   "execution_count": null,
   "id": "c3c54708",
   "metadata": {},
   "outputs": [],
   "source": [
    "**The SciPy library is one of the core packages for scientific computing\n",
    "that provides mathematical algorithms and convenience functions built on\n",
    "the NumPy extension of Python.**"
   ]
  },
  {
   "cell_type": "code",
   "execution_count": null,
   "id": "3b57e203",
   "metadata": {},
   "outputs": [],
   "source": [
    "\n",
    " import numpy as np\n",
    " a= np.array([1,2,3])\n",
    " b = np.array([(1+5j,2j,3j), (4j,5j,6j)])\n",
    " c = np.array([[(1.5,2,3), (4,5,6)], [(3,2,1), (4,5,6)]])"
   ]
  },
  {
   "cell_type": "code",
   "execution_count": null,
   "id": "abd06c09",
   "metadata": {},
   "outputs": [],
   "source": [
    "\n",
    "**Index Tricks**"
   ]
  },
  {
   "cell_type": "code",
   "execution_count": null,
   "id": "72d9a57a",
   "metadata": {},
   "outputs": [],
   "source": [
    "\n",
    " np.mgrid[0:5,0:5] #Create a dense meshgrid\n",
    " np.ogrid[0:2,0:2] #Create an open meshgrid\n",
    " np.r_[[3,[0]*5,-1:1:10j] #Stack arrays vertically (row-wise)\n",
    " np.c_[b,c] #Create stocked column-wise arrays"
   ]
  },
  {
   "cell_type": "code",
   "execution_count": null,
   "id": "51353a16",
   "metadata": {},
   "outputs": [],
   "source": [
    "\n",
    "**Shape Manipulation**"
   ]
  },
  {
   "cell_type": "code",
   "execution_count": null,
   "id": "10866bcd",
   "metadata": {},
   "outputs": [],
   "source": [
    "\n",
    " np.transpose(b) #Permute array dimensions\n",
    " b.flatten() #Flatten the array\n",
    " np.hstack((b,c)) #Stack arrays horizontally (column-wise)\n",
    " np.vstack((a,b)) #Stack arrays vertically (row-wise)\n",
    " np.hsplit(c,2) #Split the array horizontally at the 2nd index\n",
    " np.vpslit(d,2) #Split the array vertically at the 2nd index"
   ]
  },
  {
   "cell_type": "code",
   "execution_count": null,
   "id": "54fd1f8e",
   "metadata": {},
   "outputs": [],
   "source": [
    "\n",
    "**Polynomials**"
   ]
  },
  {
   "cell_type": "code",
   "execution_count": null,
   "id": "055382cc",
   "metadata": {},
   "outputs": [],
   "source": [
    "\n",
    " from numpy import polyld\n",
    " p = poly1d([3,4,5]) #Create a polynomial object"
   ]
  },
  {
   "cell_type": "code",
   "execution_count": null,
   "id": "bb5ca5ec",
   "metadata": {},
   "outputs": [],
   "source": [
    "\n",
    "**Vectorizing Functions**"
   ]
  },
  {
   "cell_type": "code",
   "execution_count": null,
   "id": "2af16850",
   "metadata": {},
   "outputs": [],
   "source": [
    "     def myfunc(a): if a< 0:\n",
    "            return a*2\n",
    "            else:\n",
    "            return a/2\n",
    "     np.vectorize(myfunc) #Vectorize functions"
   ]
  },
  {
   "cell_type": "code",
   "execution_count": null,
   "id": "bd328af8",
   "metadata": {},
   "outputs": [],
   "source": [
    "**Type Handling**"
   ]
  },
  {
   "cell_type": "code",
   "execution_count": null,
   "id": "f2bf1db1",
   "metadata": {},
   "outputs": [],
   "source": [
    "\n",
    " np.real(c) #Return the real part of the array elements\n",
    " np.imag(c) #Return the imaginary part of the array elements\n",
    " np.real_if_close(c,tol=1000) #Return a real array if complex parts close to 0\n",
    " np.cast['f'](np.pi) #Cast object to a data type"
   ]
  },
  {
   "cell_type": "code",
   "execution_count": null,
   "id": "5bf77623",
   "metadata": {},
   "outputs": [],
   "source": [
    "\n",
    "**Other Useful Functions**"
   ]
  },
  {
   "cell_type": "code",
   "execution_count": null,
   "id": "e13c2556",
   "metadata": {},
   "outputs": [],
   "source": [
    "\n",
    " np.angle(b,d eg=True) #Return the angle of the complex argument\n",
    " g = np.linspace(0,np.pi,num=5) #Create an array of evenly spaced values(number of samples)\n",
    " g [3:] += np.pi\n",
    " np.unwrap(g) #Unwrap\n",
    " np.logspace(0,10,3) #Create an array of evenly spaced values (log scale)\n",
    " np.select([c<li],[c*2]) #Return values from a list of arrays depending on conditions\n",
    " misc.factorial(a) #Factorial\n",
    " misc.comb( 10,3,exact=True) #Combine N things taken at k time\n",
    " misc.central_diff_weights(3) #Weights for Np-point central derivative\n",
    " misc.derivative(myfunc,1.0) #Find then-th derivative of a function at a point"
   ]
  },
  {
   "cell_type": "code",
   "execution_count": null,
   "id": "838f1daf",
   "metadata": {},
   "outputs": [],
   "source": [
    "\n",
    "### Linear Algebra"
   ]
  },
  {
   "cell_type": "code",
   "execution_count": null,
   "id": "94023107",
   "metadata": {},
   "outputs": [],
   "source": [
    "You’ll use the **linalg** and sparse modules. Note that **scipy.\n",
    "linalg** contains and expands on **numpy. linalg.**"
   ]
  },
  {
   "cell_type": "code",
   "execution_count": null,
   "id": "eb972954",
   "metadata": {},
   "outputs": [],
   "source": [
    "\n",
    " from scipy import linalg, sparse"
   ]
  },
  {
   "cell_type": "code",
   "execution_count": null,
   "id": "e03c79ba",
   "metadata": {},
   "outputs": [],
   "source": [
    "\n",
    "**Creating Matrices**"
   ]
  },
  {
   "cell_type": "code",
   "execution_count": null,
   "id": "9740bea8",
   "metadata": {},
   "outputs": [],
   "source": [
    "\n",
    " A = np.matrix(np.random.random((2,2)))\n",
    " B = np.asmatrix(b)\n",
    " C = np.mat(np.random.random((10,5)))\n",
    " D = n p.mat([[3,Ii],  [5,6]])"
   ]
  },
  {
   "cell_type": "code",
   "execution_count": null,
   "id": "8a28486e",
   "metadata": {},
   "outputs": [],
   "source": [
    "\n",
    "**Basic Matrix Routines**"
   ]
  },
  {
   "cell_type": "code",
   "execution_count": null,
   "id": "ed51835e",
   "metadata": {},
   "outputs": [],
   "source": [
    "     A.I #Inverse\n",
    "     linalg.inv(A)  #Inverse\n",
    "     A.T #Tranpose matrix\n",
    "     A.H #Conjugate transposition\n",
    "     np.trace(A) #Trace"
   ]
  },
  {
   "cell_type": "code",
   "execution_count": null,
   "id": "a734fae4",
   "metadata": {},
   "outputs": [],
   "source": [
    "**Norm**"
   ]
  },
  {
   "cell_type": "code",
   "execution_count": null,
   "id": "dfd62444",
   "metadata": {},
   "outputs": [],
   "source": [
    "     linalg.norm(A) #Frobenius norm\n",
    "     linalg.norm(A,1) #Ll norm (max column sum)\n",
    "     linalg.norm(A,np.inf) #L inf norm (max row sum)"
   ]
  },
  {
   "cell_type": "code",
   "execution_count": null,
   "id": "799f98bf",
   "metadata": {},
   "outputs": [],
   "source": [
    "**Rank**"
   ]
  },
  {
   "cell_type": "code",
   "execution_count": null,
   "id": "d1d8b759",
   "metadata": {},
   "outputs": [],
   "source": [
    "     np.linalg.matrix_rank(C) #Matrix rank"
   ]
  },
  {
   "cell_type": "code",
   "execution_count": null,
   "id": "bc450b56",
   "metadata": {},
   "outputs": [],
   "source": [
    "**Determinant**"
   ]
  },
  {
   "cell_type": "code",
   "execution_count": null,
   "id": "e07c2eb1",
   "metadata": {},
   "outputs": [],
   "source": [
    "     linalg.det(A) #Determinant"
   ]
  },
  {
   "cell_type": "code",
   "execution_count": null,
   "id": "280345b3",
   "metadata": {},
   "outputs": [],
   "source": [
    "**Solving linear problems**"
   ]
  },
  {
   "cell_type": "code",
   "execution_count": null,
   "id": "abcc30d2",
   "metadata": {},
   "outputs": [],
   "source": [
    "     linalg.solve(A,b) #Solver for dense matrices\n",
    "     E = np.mat(a).T #Solver for dense matrices\n",
    "     linalg.lstsq(D,E) #Le ast-squares solution to linear matrix equation"
   ]
  },
  {
   "cell_type": "code",
   "execution_count": null,
   "id": "6cc01663",
   "metadata": {},
   "outputs": [],
   "source": [
    "**Generalized inverse**"
   ]
  },
  {
   "cell_type": "code",
   "execution_count": null,
   "id": "bfcb7fba",
   "metadata": {},
   "outputs": [],
   "source": [
    "     linalg.pinv(C) #Compute the pseudo-inverse of a matrix (least-squares solver)\n",
    "     linalg. pinv2(C) #Compute the pseudo-inverse of a matrix (SVD)"
   ]
  },
  {
   "cell_type": "code",
   "execution_count": null,
   "id": "fc27b02e",
   "metadata": {},
   "outputs": [],
   "source": [
    "### **Creating Sparse Matrices**"
   ]
  },
  {
   "cell_type": "code",
   "execution_count": null,
   "id": "396d76e8",
   "metadata": {},
   "outputs": [],
   "source": [
    "     F = np.eye(3, k=l) #Create a 2X2 identity matrix\n",
    "     G = np.mat(np.identity(2)) #Create a 2x2 identity matrix\n",
    "     C[C > 0.5] = 0\n",
    "     H = sparse.csr_matrix(C) #Compressed Sparse Row matrix\n",
    "     I=  sparse.csc_matrix(D) #Compressed Sparse Column matrix\n",
    "     J = sparse.dok_matrix(A) #Dictionary Of Keys matrix\n",
    "     E.tadense() #Sparse matrix to full matrix\n",
    "     sparse.isspmatrix_csc(A) "
   ]
  },
  {
   "cell_type": "code",
   "execution_count": null,
   "id": "4e464248",
   "metadata": {},
   "outputs": [],
   "source": [
    "**Sparse Matrix Routines**"
   ]
  },
  {
   "cell_type": "code",
   "execution_count": null,
   "id": "3f90ab25",
   "metadata": {},
   "outputs": [],
   "source": [
    "**Inverse**"
   ]
  },
  {
   "cell_type": "code",
   "execution_count": null,
   "id": "b929b494",
   "metadata": {},
   "outputs": [],
   "source": [
    "     sparse.linalg.inv(I) #Inverse"
   ]
  },
  {
   "cell_type": "code",
   "execution_count": null,
   "id": "9857003b",
   "metadata": {},
   "outputs": [],
   "source": [
    "**Norm**"
   ]
  },
  {
   "cell_type": "code",
   "execution_count": null,
   "id": "e6117fec",
   "metadata": {},
   "outputs": [],
   "source": [
    "     sparse.linalg.norm(I) #Norm"
   ]
  },
  {
   "cell_type": "code",
   "execution_count": null,
   "id": "6e980574",
   "metadata": {},
   "outputs": [],
   "source": [
    "**Solving linear problems**"
   ]
  },
  {
   "cell_type": "code",
   "execution_count": null,
   "id": "53df47e9",
   "metadata": {},
   "outputs": [],
   "source": [
    "     sparse.linalg.spsolve(H,I) #Solver for sparse matrices"
   ]
  },
  {
   "cell_type": "code",
   "execution_count": null,
   "id": "3146d913",
   "metadata": {},
   "outputs": [],
   "source": [
    "**Sparse Matrix Functions**"
   ]
  },
  {
   "cell_type": "code",
   "execution_count": null,
   "id": "bfb121dc",
   "metadata": {},
   "outputs": [],
   "source": [
    "     sparse.linalg.expm(I) #Sparse matrix exponential"
   ]
  },
  {
   "cell_type": "code",
   "execution_count": null,
   "id": "62ab4b57",
   "metadata": {},
   "outputs": [],
   "source": [
    "**Sparse Matrix Decompositions**"
   ]
  },
  {
   "cell_type": "code",
   "execution_count": null,
   "id": "99c68955",
   "metadata": {},
   "outputs": [],
   "source": [
    "     la, v = sparse.linalg.eigs(F,1) #Eigenvalues and eigenvectors\n",
    "     sparse.linalg.svds(H, 2) #SVD"
   ]
  },
  {
   "cell_type": "code",
   "execution_count": null,
   "id": "6f991c88",
   "metadata": {},
   "outputs": [],
   "source": [
    "## Matrix Function"
   ]
  },
  {
   "cell_type": "code",
   "execution_count": null,
   "id": "e6f130d3",
   "metadata": {},
   "outputs": [],
   "source": [
    "**Addition**"
   ]
  },
  {
   "cell_type": "code",
   "execution_count": null,
   "id": "34cf9c34",
   "metadata": {},
   "outputs": [],
   "source": [
    "     np.add(A,D) #Addition"
   ]
  },
  {
   "cell_type": "code",
   "execution_count": null,
   "id": "601e7cf6",
   "metadata": {},
   "outputs": [],
   "source": [
    "**Subtraction**"
   ]
  },
  {
   "cell_type": "code",
   "execution_count": null,
   "id": "72fc6432",
   "metadata": {},
   "outputs": [],
   "source": [
    "     np.subtract(A,D) #Subtraction"
   ]
  },
  {
   "cell_type": "code",
   "execution_count": null,
   "id": "44e307eb",
   "metadata": {},
   "outputs": [],
   "source": [
    "**Division**"
   ]
  },
  {
   "cell_type": "code",
   "execution_count": null,
   "id": "42365886",
   "metadata": {},
   "outputs": [],
   "source": [
    "     np.divide(A,D) #Division"
   ]
  },
  {
   "cell_type": "code",
   "execution_count": null,
   "id": "32007186",
   "metadata": {},
   "outputs": [],
   "source": [
    "**Multiplication**"
   ]
  },
  {
   "cell_type": "code",
   "execution_count": null,
   "id": "846bb698",
   "metadata": {},
   "outputs": [],
   "source": [
    "\n",
    " np.multiply(D,A) #Multiplication\n",
    " np.dot(A,D) #Dot product\n",
    " np.vdot(A,D) #Vector dot product\n",
    " np.inner(A,D) #Inner product\n",
    " np.outer(A,D) #Outer product\n",
    " np.tensardat(A,D) #Tensor dot product\n",
    " np.kron(A,D) #Kronecker product"
   ]
  },
  {
   "cell_type": "code",
   "execution_count": null,
   "id": "2b0b2e87",
   "metadata": {},
   "outputs": [],
   "source": [
    "\n",
    "**Exponential Functions**"
   ]
  },
  {
   "cell_type": "code",
   "execution_count": null,
   "id": "8ab9f061",
   "metadata": {},
   "outputs": [],
   "source": [
    "\n",
    " linalg.expm(A) #Matrix exponential\n",
    " linalg.expm2(A) #Matrix exponential (Taylor Series)\n",
    " linalg.expm3(D) #Matrix exponential (eigenvalue decomposition)"
   ]
  },
  {
   "cell_type": "code",
   "execution_count": null,
   "id": "fbe33702",
   "metadata": {},
   "outputs": [],
   "source": [
    "\n",
    "**Logarithm Function**"
   ]
  },
  {
   "cell_type": "code",
   "execution_count": null,
   "id": "a2f69b53",
   "metadata": {},
   "outputs": [],
   "source": [
    "     linalg.lagm(A) #Matrix logarithm"
   ]
  },
  {
   "cell_type": "code",
   "execution_count": null,
   "id": "0b875960",
   "metadata": {},
   "outputs": [],
   "source": [
    "**Trigonometric Functions**"
   ]
  },
  {
   "cell_type": "code",
   "execution_count": null,
   "id": "9abf4bfc",
   "metadata": {},
   "outputs": [],
   "source": [
    "     linalg.sinm(D) Matrix sine\n",
    "     linalg.cosm(D) Matrix cosine\n",
    "     linalg.tanm(A) Matrix tangent"
   ]
  },
  {
   "cell_type": "code",
   "execution_count": null,
   "id": "7cf0465d",
   "metadata": {},
   "outputs": [],
   "source": [
    "Hyperbolic Trigonometric Functions"
   ]
  },
  {
   "cell_type": "code",
   "execution_count": null,
   "id": "4d908392",
   "metadata": {},
   "outputs": [],
   "source": [
    "     linalg.sinhm(D) #Hypberbolic matrix sine\n",
    "     linalg.coshm(D) #Hyperbolic matrix cosine\n",
    "     linalg.tanhm(A) #Hyperbolic matrix tangent"
   ]
  },
  {
   "cell_type": "code",
   "execution_count": null,
   "id": "36125277",
   "metadata": {},
   "outputs": [],
   "source": [
    "**Matrix Sign Function**"
   ]
  },
  {
   "cell_type": "code",
   "execution_count": null,
   "id": "2dd7cb83",
   "metadata": {},
   "outputs": [],
   "source": [
    "     np.sigm(A) #Matrix sign function"
   ]
  },
  {
   "cell_type": "code",
   "execution_count": null,
   "id": "af18c1b4",
   "metadata": {},
   "outputs": [],
   "source": [
    "Matrix Square Root"
   ]
  },
  {
   "cell_type": "code",
   "execution_count": null,
   "id": "e2d620c9",
   "metadata": {},
   "outputs": [],
   "source": [
    "     linalg.sqrtm(A) #Matrix square root"
   ]
  },
  {
   "cell_type": "code",
   "execution_count": null,
   "id": "5bd822d0",
   "metadata": {},
   "outputs": [],
   "source": [
    "**Arbitrary Functions**"
   ]
  },
  {
   "cell_type": "code",
   "execution_count": null,
   "id": "b96ce786",
   "metadata": {},
   "outputs": [],
   "source": [
    "     linalg.funm(A, lambda x: X*X) #Evaluate matrix function"
   ]
  },
  {
   "cell_type": "code",
   "execution_count": null,
   "id": "2b61c573",
   "metadata": {},
   "outputs": [],
   "source": [
    "**Eigenvalues and Eigenvectors**"
   ]
  },
  {
   "cell_type": "code",
   "execution_count": null,
   "id": "90d75dd9",
   "metadata": {},
   "outputs": [],
   "source": [
    "     la, v = linalg.eig(A) #Solve ordinary or generalized eigenvalue problem for square matrix\n",
    "     l1, l2 = la #Unpack eigenvalues\n",
    "     v[:,0] #First eigenvector\n",
    "     v[:,1] #Second eigenvector\n",
    "     linalg.eigvals(A) #Unpack eigenvalues"
   ]
  },
  {
   "cell_type": "code",
   "execution_count": null,
   "id": "876b884d",
   "metadata": {},
   "outputs": [],
   "source": [
    "**Singular Value Decomposition**"
   ]
  },
  {
   "cell_type": "code",
   "execution_count": null,
   "id": "94fc401a",
   "metadata": {},
   "outputs": [],
   "source": [
    "     U,s,Vh = linalg.svd(B) #Singular Value Decomposition (SVD)\n",
    "     M,N = B.shape\n",
    "    Sig= linalg.diagsvd(s,M,N) #Construct sigma matrix in SVD"
   ]
  },
  {
   "cell_type": "code",
   "execution_count": null,
   "id": "4529cdef",
   "metadata": {},
   "outputs": [],
   "source": [
    "**LU Decomposition**"
   ]
  },
  {
   "cell_type": "code",
   "execution_count": null,
   "id": "19e2e1b8",
   "metadata": {},
   "outputs": [],
   "source": [
    "     P,L,U = linalg.lu(C) #LU Decomposition"
   ]
  },
  {
   "cell_type": "code",
   "execution_count": null,
   "id": "9b5ae5cb",
   "metadata": {},
   "outputs": [],
   "source": [
    "# Section 9"
   ]
  },
  {
   "cell_type": "code",
   "execution_count": null,
   "id": "88ee1e35",
   "metadata": {},
   "outputs": [],
   "source": [
    "## Neural Networks with Keras"
   ]
  },
  {
   "cell_type": "code",
   "execution_count": null,
   "id": "d134fe29",
   "metadata": {},
   "outputs": [],
   "source": [
    "<img src=\"../assets/images/posts/2021-06-06-What-all-should-a-data-scientist-know/keras.png\" style=\"zoom:50%;\" />"
   ]
  },
  {
   "cell_type": "code",
   "execution_count": null,
   "id": "405c2449",
   "metadata": {},
   "outputs": [],
   "source": [
    "**Keras is a powerful and easy-to-use deep learning library for Theano\n",
    "and TensorFlow that provides a high-level neural networks API to develop\n",
    "and evaluate deep learning models.**"
   ]
  },
  {
   "cell_type": "code",
   "execution_count": null,
   "id": "604bf83b",
   "metadata": {},
   "outputs": [],
   "source": [
    "**A Basic Example**"
   ]
  },
  {
   "cell_type": "code",
   "execution_count": null,
   "id": "ac3d2f40",
   "metadata": {},
   "outputs": [],
   "source": [
    "\n",
    " import numpy as np\n",
    " from keras.models import Sequential\n",
    " from keras.layers import Dense\n",
    "data= np.random.random((1000,100))\n",
    "labels= np.random.randint(2,size=(1000,1))\n",
    "model= Sequential()\n",
    " model.add(Dense(32,\n",
    "                    activation='relu', input_dim=100))\n",
    " model.add(Oense(1, activation='sigmoid'))\n",
    " model.compile(optimizer='rmsprop' ,\n",
    "                    loss='binary_crossentropy', \n",
    "                    metrics=['accuracy' ])\n",
    " model.fit(data,labels,epochs=10,batch_size=32)\n",
    " predictions= model.predict(data)"
   ]
  },
  {
   "cell_type": "code",
   "execution_count": null,
   "id": "1a69e42e",
   "metadata": {},
   "outputs": [],
   "source": [
    "\n",
    "### Data"
   ]
  },
  {
   "cell_type": "code",
   "execution_count": null,
   "id": "6eb0a093",
   "metadata": {},
   "outputs": [],
   "source": [
    "Your data needs to be stored as NumPy arrays or as a list of NumPy\n",
    "arrays. Ideally, you split the data in training and test sets, for which\n",
    "you can also resort to the train_test_split module of sklearn. cross\\_\n",
    "validation."
   ]
  },
  {
   "cell_type": "code",
   "execution_count": null,
   "id": "57f82c41",
   "metadata": {},
   "outputs": [],
   "source": [
    "**Keras Data Sets**"
   ]
  },
  {
   "cell_type": "code",
   "execution_count": null,
   "id": "8afcd00f",
   "metadata": {},
   "outputs": [],
   "source": [
    "\n",
    " from keras.datasets import boston_housing, mnist, cifar10, imdb\n",
    " (x_train,y_train),(x_test,y_test) = mnist.load _data()\n",
    " (x_train2,y_train2),(x_test2,y_test2) = boston_housing.load_data()\n",
    " (x_train3,y_train3),(x_test3,y_test3) = cifar10.load_data()\n",
    " (x_train4,y_train4),(x_test4,y_test4) = imdb.load_data(num_words=20000)\n",
    " num_classes = 10"
   ]
  },
  {
   "cell_type": "code",
   "execution_count": null,
   "id": "0e1f6554",
   "metadata": {},
   "outputs": [],
   "source": [
    "\n",
    "**Other**"
   ]
  },
  {
   "cell_type": "code",
   "execution_count": null,
   "id": "9a4520d5",
   "metadata": {},
   "outputs": [],
   "source": [
    "\n",
    " from urllib.request import urlopen\n",
    " data =\n",
    "np.loadtxt(urlopen( \"http://archive.ics.uci.edu/ml/machine-learning-databa ses/pima-indians-dibetes/pima-indians-d iabetes.data')',delimiter=\",\")\n",
    " X = data[:,0:8]\n",
    " y = data [:,8]"
   ]
  },
  {
   "cell_type": "code",
   "execution_count": null,
   "id": "376aba91",
   "metadata": {},
   "outputs": [],
   "source": [
    "\n",
    "### Preprocessing"
   ]
  },
  {
   "cell_type": "code",
   "execution_count": null,
   "id": "a514132d",
   "metadata": {},
   "outputs": [],
   "source": [
    "**Sequence Padding**"
   ]
  },
  {
   "cell_type": "code",
   "execution_count": null,
   "id": "a2e1c890",
   "metadata": {},
   "outputs": [],
   "source": [
    "\n",
    " from keras.preprocessing import sequence\n",
    " x_train4 = sequence.pad_sequences(x _train4,maxlen=80)\n",
    " x test4 = sequence.pad_sequences(x_test4,maxlen=80)"
   ]
  },
  {
   "cell_type": "code",
   "execution_count": null,
   "id": "d5eb096a",
   "metadata": {},
   "outputs": [],
   "source": [
    "\n",
    "**One-Hot Encoding**"
   ]
  },
  {
   "cell_type": "code",
   "execution_count": null,
   "id": "77c0bac1",
   "metadata": {},
   "outputs": [],
   "source": [
    "\n",
    " from keras.utils import to_categorical\n",
    ">>Y_train = to_categorical(y_train,num_classes)\n",
    " Y_test = to_categorical(y_test,num_classes)\n",
    " Y_train3 = to_categorical(y_train3,num_classes\n",
    " Y_test3 = to_categorical(y_test3,num_classes)"
   ]
  },
  {
   "cell_type": "code",
   "execution_count": null,
   "id": "9b4a5a55",
   "metadata": {},
   "outputs": [],
   "source": [
    "\n",
    "### Model Architecture"
   ]
  },
  {
   "cell_type": "code",
   "execution_count": null,
   "id": "65fb8cf7",
   "metadata": {},
   "outputs": [],
   "source": [
    "**Sequential Model**"
   ]
  },
  {
   "cell_type": "code",
   "execution_count": null,
   "id": "2227162a",
   "metadata": {},
   "outputs": [],
   "source": [
    "\n",
    " from keras.models import Sequential\n",
    " model= Sequential()\n",
    " model2 = Sequential()\n",
    " model3 = Sequential()"
   ]
  },
  {
   "cell_type": "code",
   "execution_count": null,
   "id": "499e6063",
   "metadata": {},
   "outputs": [],
   "source": [
    "\n",
    "### **Multilayer Perceptron (MLP)**"
   ]
  },
  {
   "cell_type": "code",
   "execution_count": null,
   "id": "0f0671df",
   "metadata": {},
   "outputs": [],
   "source": [
    "**Binary Classification**"
   ]
  },
  {
   "cell_type": "code",
   "execution_count": null,
   "id": "7a58f115",
   "metadata": {},
   "outputs": [],
   "source": [
    "\n",
    " from keras.layers import Dense\n",
    " model.add(Dense(12,\n",
    "                    input _dim=8, \n",
    "                    kernel_initializer='uniform',\n",
    "                    activation='relu') )\n",
    " model.add(Dense(8,kernel_initialiezr='uniform',activation='relu'))\n",
    " model.add(Dense(l,kernel_initialiezr='uniform',activation='sigmoid'))"
   ]
  },
  {
   "cell_type": "code",
   "execution_count": null,
   "id": "029f270e",
   "metadata": {},
   "outputs": [],
   "source": [
    "\n",
    "**Multi-Class Classification**"
   ]
  },
  {
   "cell_type": "code",
   "execution_count": null,
   "id": "1c9fb45b",
   "metadata": {},
   "outputs": [],
   "source": [
    "\n",
    " from keras.layers import Dropout\n",
    " model.add(Dense(512,activation='relu',input_shape=(784,)))\n",
    " model.add(Dropout(0.2))\n",
    " model.add(Dense(512,activation='relu'))\n",
    " model.add(Dropout(0.2))\n",
    " model.add(Dense(10,activation='softmax' ))"
   ]
  },
  {
   "cell_type": "code",
   "execution_count": null,
   "id": "ecd89e76",
   "metadata": {},
   "outputs": [],
   "source": [
    "\n",
    "**Regression**"
   ]
  },
  {
   "cell_type": "code",
   "execution_count": null,
   "id": "bef39278",
   "metadata": {},
   "outputs": [],
   "source": [
    "\n",
    " model.add(Dense(64,activation='relu',input_dim=train_data.shape[1]))\n",
    " model.add(Dense(1))"
   ]
  },
  {
   "cell_type": "code",
   "execution_count": null,
   "id": "65c22abe",
   "metadata": {},
   "outputs": [],
   "source": [
    "\n",
    "## **Convolutional Neural Network (CNN)**"
   ]
  },
  {
   "cell_type": "code",
   "execution_count": null,
   "id": "f9ae0789",
   "metadata": {},
   "outputs": [],
   "source": [
    "\n",
    " from keras.layers import Activation,Conv2D,MaxPooling20,Flatten\n",
    " model2.add(Conv20(32,(,3),padding= 'same',input _shape=x _train.shape[1:]))\n",
    " model2.add(Activation('relu'))\n",
    " model2.add(Conv20(32,(3,3)))\n",
    " model2.add(Activation('relu'))\n",
    " model2.add(MaxPooling2D( pool_size=(2,2)))\n",
    " model2.add(Dropout(0.25))\n",
    " model2.add(Conv20(64,(3,3), padding= 'same'))\n",
    " model2.add(Activation('relu'))\n",
    " model2.add(Conv20(64,(3, 3)))\n",
    " model2.add(Activation('relu'))\n",
    " model2.add(MaxPooling2D( pool_size=(2,2)))\n",
    " model2.add(Dropout(0.25))\n",
    " model2.add(Flatten())\n",
    " model2.add(Dense(512))\n",
    " model2.add(Activation('relu'))\n",
    " model2.add(Dropout(0.5))\n",
    " model2.add(Dense(num_classes))\n",
    " model2.add(Activation('softmax'))"
   ]
  },
  {
   "cell_type": "code",
   "execution_count": null,
   "id": "0d2ba7ce",
   "metadata": {},
   "outputs": [],
   "source": [
    "\n",
    "### **Recurrent Neural Network (RNN)**"
   ]
  },
  {
   "cell_type": "code",
   "execution_count": null,
   "id": "22059a5d",
   "metadata": {},
   "outputs": [],
   "source": [
    "\n",
    " from keras.klayers import Embedding,LSTM\n",
    " model3.add(Embedding(20000,128))\n",
    " model3.add(LSTM(128,dropout =0.2,recurrent_dropout=0.2))\n",
    " model3.add(Dense(l,activation='sigmoid'))"
   ]
  },
  {
   "cell_type": "code",
   "execution_count": null,
   "id": "09499b97",
   "metadata": {},
   "outputs": [],
   "source": [
    "\n",
    "### Prediction"
   ]
  },
  {
   "cell_type": "code",
   "execution_count": null,
   "id": "f5c9cdd0",
   "metadata": {},
   "outputs": [],
   "source": [
    "\n",
    " model3.predict(x_test4, ba tch_size=32)\n",
    " model3.predict_classes(x_test4,batch _size=32)"
   ]
  },
  {
   "cell_type": "code",
   "execution_count": null,
   "id": "5cbc0316",
   "metadata": {},
   "outputs": [],
   "source": [
    "\n",
    "**Train and Test Sets**"
   ]
  },
  {
   "cell_type": "code",
   "execution_count": null,
   "id": "05f33bf0",
   "metadata": {},
   "outputs": [],
   "source": [
    "\n",
    " from sklearn.mode l_selection import train_test_split\n",
    " X_train5,X_test5,y_train5,y_test5 = train_test_split(X, y,\n",
    "                                                        test_size=0.33, random_state=42)"
   ]
  },
  {
   "cell_type": "code",
   "execution_count": null,
   "id": "437b798c",
   "metadata": {},
   "outputs": [],
   "source": [
    "\n",
    "**Standardization/Normalization**"
   ]
  },
  {
   "cell_type": "code",
   "execution_count": null,
   "id": "d1a3b728",
   "metadata": {},
   "outputs": [],
   "source": [
    "\n",
    " from sklearn.preprocessing import StandardScaler\n",
    " scaler= StandardScaler().fit(x_train2)\n",
    " standa rdized_X = scaler.transform(x _train2)\n",
    " standardized X test= scaler.transform(x_test2"
   ]
  },
  {
   "cell_type": "code",
   "execution_count": null,
   "id": "31b75609",
   "metadata": {},
   "outputs": [],
   "source": [
    "\n",
    "### Inspect Model"
   ]
  },
  {
   "cell_type": "code",
   "execution_count": null,
   "id": "c3fc3d70",
   "metadata": {},
   "outputs": [],
   "source": [
    "\n",
    " model.output_shape #Model output shape\n",
    " model.summary() #Model summary representation\n",
    " model.get_config() #Model configuration\n",
    " model.get_weights()#List all weight tensors in the model"
   ]
  },
  {
   "cell_type": "code",
   "execution_count": null,
   "id": "99cf887f",
   "metadata": {},
   "outputs": [],
   "source": [
    "\n",
    "### **Compile Model**"
   ]
  },
  {
   "cell_type": "code",
   "execution_count": null,
   "id": "8314dfe1",
   "metadata": {},
   "outputs": [],
   "source": [
    "**MLP: Binary Classification**"
   ]
  },
  {
   "cell_type": "code",
   "execution_count": null,
   "id": "fe429d74",
   "metadata": {},
   "outputs": [],
   "source": [
    "\n",
    " model.compile(optimizer='adam' ,\n",
    "                  loss= 'binary_crossentropy',\n",
    "                  metrics=['accuracy'])"
   ]
  },
  {
   "cell_type": "code",
   "execution_count": null,
   "id": "47ee2182",
   "metadata": {},
   "outputs": [],
   "source": [
    "\n",
    "**MLP: Multi-Class Classification**"
   ]
  },
  {
   "cell_type": "code",
   "execution_count": null,
   "id": "073a148d",
   "metadata": {},
   "outputs": [],
   "source": [
    "\n",
    " model.compile(optimizer='rmsprop',\n",
    "                loss='categorical_crossentropy   ,\n",
    "                metrics=[ 'accuracy'])"
   ]
  },
  {
   "cell_type": "code",
   "execution_count": null,
   "id": "ed6fa828",
   "metadata": {},
   "outputs": [],
   "source": [
    "\n",
    "**MLP: Regression**"
   ]
  },
  {
   "cell_type": "code",
   "execution_count": null,
   "id": "b57d56fb",
   "metadata": {},
   "outputs": [],
   "source": [
    "\n",
    " model.compile(optimizer='rmsprop',\n",
    "                    loss= 'mse,' metrics=['mae'])"
   ]
  },
  {
   "cell_type": "code",
   "execution_count": null,
   "id": "7303a4ad",
   "metadata": {},
   "outputs": [],
   "source": [
    "\n",
    "**Recurrent Neural Network**"
   ]
  },
  {
   "cell_type": "code",
   "execution_count": null,
   "id": "9122424f",
   "metadata": {},
   "outputs": [],
   "source": [
    "\n",
    "model3.compile(loss='binary_crossentropy ',\n",
    "                optimizer='adam', \n",
    "                metrics=['accuracy'])"
   ]
  },
  {
   "cell_type": "code",
   "execution_count": null,
   "id": "68d09c84",
   "metadata": {},
   "outputs": [],
   "source": [
    "\n",
    "**Model Training**"
   ]
  },
  {
   "cell_type": "code",
   "execution_count": null,
   "id": "e1ee62e6",
   "metadata": {},
   "outputs": [],
   "source": [
    "\n",
    "model3.fit(x_train4,\n",
    "           y_train4, \n",
    "           batch_size=32,\n",
    "           epochs=15, \n",
    "           verbose=1,\n",
    "           validation_data=(x_test4,y_test4))"
   ]
  },
  {
   "cell_type": "code",
   "execution_count": null,
   "id": "0cbd1cd2",
   "metadata": {},
   "outputs": [],
   "source": [
    "\n",
    "**Evaluate Your Model’s Performance**"
   ]
  },
  {
   "cell_type": "code",
   "execution_count": null,
   "id": "3eec93c5",
   "metadata": {},
   "outputs": [],
   "source": [
    "\n",
    ">> score = model3.evaluate(x_test,\n",
    "                         y_test,\n",
    "                         batch_size=32)"
   ]
  },
  {
   "cell_type": "code",
   "execution_count": null,
   "id": "62d54c67",
   "metadata": {},
   "outputs": [],
   "source": [
    "\n",
    "**Save/ Reload Models**"
   ]
  },
  {
   "cell_type": "code",
   "execution_count": null,
   "id": "660c48aa",
   "metadata": {},
   "outputs": [],
   "source": [
    "\n",
    " from keras.models import load_model\n",
    " model3.save( )\n",
    " my_model = load_model( )"
   ]
  },
  {
   "cell_type": "code",
   "execution_count": null,
   "id": "98720642",
   "metadata": {},
   "outputs": [],
   "source": [
    "\n",
    "**Model Fine-tuning**"
   ]
  },
  {
   "cell_type": "code",
   "execution_count": null,
   "id": "d9ebf84e",
   "metadata": {},
   "outputs": [],
   "source": [
    "Optimization Parameters"
   ]
  },
  {
   "cell_type": "code",
   "execution_count": null,
   "id": "d8f79aea",
   "metadata": {},
   "outputs": [],
   "source": [
    "\n",
    ">> from keras.optimizers import RMSprop\n",
    " opt = RMSprop(lr=0.0001, decay=1e-6)\n",
    " model2.compile(loss= , 'categorical_crossentropy'\n",
    "                 optimizer=opt,\n",
    "                 metrics=[ 'accuracy'])"
   ]
  },
  {
   "cell_type": "code",
   "execution_count": null,
   "id": "ef4458e7",
   "metadata": {},
   "outputs": [],
   "source": [
    "\n",
    "**Early Stopping**"
   ]
  },
  {
   "cell_type": "code",
   "execution_count": null,
   "id": "79c1bac9",
   "metadata": {},
   "outputs": [],
   "source": [
    "\n",
    " from keras.callbacks import EarlyStopping\n",
    " early_stopping_monitor = EarlyStopping(patience=2)\n",
    " model3.fit(x_train4,\n",
    " y_train4,\n",
    " batch_size=32,\n",
    " epochs=15,\n",
    " validation_data=(x_test4,y_test4),\n",
    " callbacks=[early_stopping_monitor])"
   ]
  },
  {
   "cell_type": "code",
   "execution_count": null,
   "id": "518b2f72",
   "metadata": {},
   "outputs": [],
   "source": [
    "\n",
    "# Section 10"
   ]
  },
  {
   "cell_type": "code",
   "execution_count": null,
   "id": "9bda7cef",
   "metadata": {},
   "outputs": [],
   "source": [
    "# PySpark & Spark SQL"
   ]
  },
  {
   "cell_type": "code",
   "execution_count": null,
   "id": "6004184f",
   "metadata": {},
   "outputs": [],
   "source": [
    "<span class=\"image\"></span>"
   ]
  },
  {
   "cell_type": "code",
   "execution_count": null,
   "id": "ecad093e",
   "metadata": {},
   "outputs": [],
   "source": [
    "**What is PySpark?**"
   ]
  },
  {
   "cell_type": "code",
   "execution_count": null,
   "id": "1aee1b03",
   "metadata": {},
   "outputs": [],
   "source": [
    "PySpark is an Apache Spark interface in Python. It is used for\n",
    "collaborating with Spark using APIs written in Python. It also supports\n",
    "Spark’s features like Spark DataFrame, Spark SQL, Spark Streaming, Spark\n",
    "MLlib and Spark Core."
   ]
  },
  {
   "cell_type": "code",
   "execution_count": null,
   "id": "b0cfb25b",
   "metadata": {},
   "outputs": [],
   "source": [
    "**What is PySpark SparkContext?**"
   ]
  },
  {
   "cell_type": "code",
   "execution_count": null,
   "id": "54db8eda",
   "metadata": {},
   "outputs": [],
   "source": [
    "PySpark SparkContext is an initial entry point of the spark\n",
    "functionality. It also represents Spark Cluster Connection and can be\n",
    "used for creating the Spark RDDs (Resilient Distributed Datasets) and\n",
    "broadcasting the variables on the cluster."
   ]
  },
  {
   "cell_type": "code",
   "execution_count": null,
   "id": "326cc39f",
   "metadata": {},
   "outputs": [],
   "source": [
    "     from pyspark.sql import SparkSession\n",
    "     spark = SparkSession \\\n",
    "     .builder \\\n",
    "     .appName( ) \\\n",
    "     .config( , ) \\\n",
    "     .getOrCreate()"
   ]
  },
  {
   "cell_type": "code",
   "execution_count": null,
   "id": "f09090fb",
   "metadata": {},
   "outputs": [],
   "source": [
    "**What is spark-submit?**"
   ]
  },
  {
   "cell_type": "code",
   "execution_count": null,
   "id": "cfa6be3e",
   "metadata": {},
   "outputs": [],
   "source": [
    "Spark-submit is a utility to run a pyspark application job by specifying\n",
    "options and configurations."
   ]
  },
  {
   "cell_type": "code",
   "execution_count": null,
   "id": "f8dcd989",
   "metadata": {},
   "outputs": [],
   "source": [
    "    spark-submit \\\n",
    "    --master <master-url> \\\n",
    "    --deploy-mode <deploy-mode> \\\n",
    "    --conf <key<=<value> \\\n",
    "    --driver-memory <value>g \\\n",
    "    --executor-memory <value>g \\\n",
    "    --executor-cores <number of cores> \\\n",
    "    --jars <comma separated dependencies> \\\n",
    "    --packages <package name> \\\n",
    "    --py-files \\\n",
    "    <application> <application args>"
   ]
  },
  {
   "cell_type": "code",
   "execution_count": null,
   "id": "d75aebe7",
   "metadata": {},
   "outputs": [],
   "source": [
    "where"
   ]
  },
  {
   "cell_type": "code",
   "execution_count": null,
   "id": "a3223bcd",
   "metadata": {},
   "outputs": [],
   "source": [
    "–master : Cluster Manager (yarn, mesos, Kubernetes, local, local(k))  \n",
    "–deploy-mode: Either cluster or client  \n",
    "–conf: We can provide runtime configurations, shuffle parameters,\n",
    "application configurations using –conf. Ex: –conf\n",
    "spark.sql.shuffle.partitions = 300  \n",
    "–driver-memory : Amount of memory to allocate for a driver (Default:\n",
    "1024M).  \n",
    "–executor-memory : Amount of memory to use for the executor process.  \n",
    "–executor cores : Number of CPU cores to use for the executor process."
   ]
  },
  {
   "cell_type": "code",
   "execution_count": null,
   "id": "47c2745d",
   "metadata": {},
   "outputs": [],
   "source": [
    "**What are RDDs in PySpark?**"
   ]
  },
  {
   "cell_type": "code",
   "execution_count": null,
   "id": "158a0403",
   "metadata": {},
   "outputs": [],
   "source": [
    "RDDs expand to Resilient Distributed Datasets. These are the elements\n",
    "that are used for running and operating on multiple nodes to perform\n",
    "parallel processing on a cluster. Since RDDs are suited for parallel\n",
    "processing, they are immutable elements. This means that once we create\n",
    "RDD, we cannot modify it. RDDs are also fault-tolerant which means that\n",
    "whenever failure happens, they can be recovered automatically. Multiple\n",
    "operations can be performed on RDDs to perform a certain task."
   ]
  },
  {
   "cell_type": "code",
   "execution_count": null,
   "id": "db91e0e6",
   "metadata": {},
   "outputs": [],
   "source": [
    "-   Data Representation: RDD is a distributed collection of data\n",
    "    elements without any schema\n",
    "-   Optimization: No in-built optimization engine for RDDs\n",
    "-   Schema: we need to define the schema manually.\n",
    "-   Aggregation Operation: RDD is slower than both Dataframes and\n",
    "    Datasets to perform simple operations like grouping the data"
   ]
  },
  {
   "cell_type": "code",
   "execution_count": null,
   "id": "832e3d91",
   "metadata": {},
   "outputs": [],
   "source": [
    "**Creation of RDD using textFile API**"
   ]
  },
  {
   "cell_type": "code",
   "execution_count": null,
   "id": "8d816837",
   "metadata": {},
   "outputs": [],
   "source": [
    "    rdd = spark.sparkContext.textFile('practice/test')\n",
    "    rdd.take(5)\n",
    "    for i in rdd.take(5): print(i)"
   ]
  },
  {
   "cell_type": "code",
   "execution_count": null,
   "id": "5d918025",
   "metadata": {},
   "outputs": [],
   "source": [
    "**Get the Number of Partitions in the RDD**"
   ]
  },
  {
   "cell_type": "code",
   "execution_count": null,
   "id": "9f9c93a5",
   "metadata": {},
   "outputs": [],
   "source": [
    "    rdd.getNumPartitions()"
   ]
  },
  {
   "cell_type": "code",
   "execution_count": null,
   "id": "c7befd74",
   "metadata": {},
   "outputs": [],
   "source": [
    "**Get the Number of elements in each partition**"
   ]
  },
  {
   "cell_type": "code",
   "execution_count": null,
   "id": "8a787370",
   "metadata": {},
   "outputs": [],
   "source": [
    "    rdd.glom().map(len).collect()"
   ]
  },
  {
   "cell_type": "code",
   "execution_count": null,
   "id": "9a52535d",
   "metadata": {},
   "outputs": [],
   "source": [
    "**Create RDD using textFile API and a defined number of partitions**"
   ]
  },
  {
   "cell_type": "code",
   "execution_count": null,
   "id": "8dc49ccd",
   "metadata": {},
   "outputs": [],
   "source": [
    "    rdd = spark.sparkContext.textFile('practice/test',10)"
   ]
  },
  {
   "cell_type": "code",
   "execution_count": null,
   "id": "c4259a26",
   "metadata": {},
   "outputs": [],
   "source": [
    "**Create a RDD from a Python List**"
   ]
  },
  {
   "cell_type": "code",
   "execution_count": null,
   "id": "73f60f10",
   "metadata": {},
   "outputs": [],
   "source": [
    "    lst = [1,2,3,4,5,6,7]\n",
    "    rdd = spark.sparkContext.parallelize(lst)\n",
    "    for i in rdd.take(5) : print(i)"
   ]
  },
  {
   "cell_type": "code",
   "execution_count": null,
   "id": "f99b475f",
   "metadata": {},
   "outputs": [],
   "source": [
    "**Create a RDD from a Python List**"
   ]
  },
  {
   "cell_type": "code",
   "execution_count": null,
   "id": "476fcc4f",
   "metadata": {},
   "outputs": [],
   "source": [
    "    lst = [1,2,3,4,5,6,7]\n",
    "    rdd = spark.sparkContext.parallelize(lst)\n",
    "    for i in rdd.take(5) : print(i)"
   ]
  },
  {
   "cell_type": "code",
   "execution_count": null,
   "id": "63f01718",
   "metadata": {},
   "outputs": [],
   "source": [
    "**Create a RDD from local file**"
   ]
  },
  {
   "cell_type": "code",
   "execution_count": null,
   "id": "ca2190cb",
   "metadata": {},
   "outputs": [],
   "source": [
    "    lst = open('/staging/test/sample.txt').read().splitlines()\n",
    "    lst[0:10]\n",
    "    rdd = spark.sparkContext.parallelize(lst)\n",
    "    for i in rdd.take(5) : print(i)"
   ]
  },
  {
   "cell_type": "code",
   "execution_count": null,
   "id": "af16af97",
   "metadata": {},
   "outputs": [],
   "source": [
    "**Create RDD from range function**"
   ]
  },
  {
   "cell_type": "code",
   "execution_count": null,
   "id": "a5a0d5dd",
   "metadata": {},
   "outputs": [],
   "source": [
    "    lst1 = range(10)\n",
    "    rdd = spark.sparkContext.parallelize(lst1)\n",
    "    for i in rdd.take(5) : print(i)"
   ]
  },
  {
   "cell_type": "code",
   "execution_count": null,
   "id": "977eb1dc",
   "metadata": {},
   "outputs": [],
   "source": [
    "**Create RDD from a DataFrame**"
   ]
  },
  {
   "cell_type": "code",
   "execution_count": null,
   "id": "f8f4008c",
   "metadata": {},
   "outputs": [],
   "source": [
    "    df=spark.createDataFrame(data=(('robert',35),('Mike',45)),schema=('name','age'))\n",
    "    df.printSchema()\n",
    "    df.show()\n",
    "    rdd1= df.rdd\n",
    "    type(rdd1)\n",
    "    for i in rdd1.take(2) : print(i)"
   ]
  },
  {
   "cell_type": "code",
   "execution_count": null,
   "id": "1239f454",
   "metadata": {},
   "outputs": [],
   "source": [
    "**What are Dataframes?**"
   ]
  },
  {
   "cell_type": "code",
   "execution_count": null,
   "id": "a7984ab8",
   "metadata": {},
   "outputs": [],
   "source": [
    "It was introduced first in Spark version 1.3 to overcome the limitations\n",
    "of the Spark RDD. Spark Dataframes are the distributed collection of the\n",
    "data points, but here, the data is organized into the named columns"
   ]
  },
  {
   "cell_type": "code",
   "execution_count": null,
   "id": "a092a6e2",
   "metadata": {},
   "outputs": [],
   "source": [
    "-   Data Representation:It is also the distributed collection organized\n",
    "    into the named columns\n",
    "-   Optimization: It uses a catalyst optimizer for optimization.\n",
    "-   Schema: It will automatically find out the schema of the dataset.\n",
    "-   Aggregation Operation: It performs aggregation faster than both RDDs\n",
    "    and Datasets."
   ]
  },
  {
   "cell_type": "code",
   "execution_count": null,
   "id": "5b14c8a2",
   "metadata": {},
   "outputs": [],
   "source": [
    "**What are Datasets?**"
   ]
  },
  {
   "cell_type": "code",
   "execution_count": null,
   "id": "c6a5c7b0",
   "metadata": {},
   "outputs": [],
   "source": [
    "Spark Datasets is an extension of Dataframes API with the benefits of\n",
    "both RDDs and the Datasets. It is fast as well as provides a type-safe\n",
    "interface."
   ]
  },
  {
   "cell_type": "code",
   "execution_count": null,
   "id": "cec8689e",
   "metadata": {},
   "outputs": [],
   "source": [
    "-   Data Representation:It is an extension of Dataframes with more\n",
    "    features like type-safety and object-oriented interface.\n",
    "-   Optimization:It uses a catalyst optimizer for optimization.\n",
    "-   Schema: It will automatically find out the schema of the dataset.\n",
    "-   Aggregation Operation:Dataset is faster than RDDs but a bit slower\n",
    "    than Dataframes."
   ]
  },
  {
   "cell_type": "code",
   "execution_count": null,
   "id": "2855d77d",
   "metadata": {},
   "outputs": [],
   "source": [
    "**What type of operation has Pyspark?**"
   ]
  },
  {
   "cell_type": "code",
   "execution_count": null,
   "id": "5b6349b8",
   "metadata": {},
   "outputs": [],
   "source": [
    "The operations can be of 2 types, actions and transformation."
   ]
  },
  {
   "cell_type": "code",
   "execution_count": null,
   "id": "6b7c87dd",
   "metadata": {},
   "outputs": [],
   "source": [
    "**What is Transformation in Pyspark?**"
   ]
  },
  {
   "cell_type": "code",
   "execution_count": null,
   "id": "00bec22f",
   "metadata": {},
   "outputs": [],
   "source": [
    "Transformation: These operations when applied on RDDs result in the\n",
    "creation of a new RDD. Some of the examples of transformation operations\n",
    "are filter, groupBy, map. Let us take an example to demonstrate\n",
    "transformation operation by considering filter() operation:"
   ]
  },
  {
   "cell_type": "code",
   "execution_count": null,
   "id": "767147f0",
   "metadata": {},
   "outputs": [],
   "source": [
    "\n",
    "from pyspark import SparkContext\n",
    "sc = SparkContext(\"local\", \"Transdormation Demo\")\n",
    "words_list = sc.parallelize (\n",
    "  [\"pyspark\", \n",
    "  \"interview\", \n",
    "  \"questions\"]\n",
    ")\n",
    "filtered_words = words_list.filter(lambda x: 'interview' in x)\n",
    "filtered = filtered_words.collect()\n",
    "print(filtered)"
   ]
  },
  {
   "cell_type": "code",
   "execution_count": null,
   "id": "4ff8bb22",
   "metadata": {},
   "outputs": [],
   "source": [
    "\n",
    "The output of the above code would be:"
   ]
  },
  {
   "cell_type": "code",
   "execution_count": null,
   "id": "ae2334e0",
   "metadata": {},
   "outputs": [],
   "source": [
    "    [\n",
    "      \"interview\"\n",
    "    ]"
   ]
  },
  {
   "cell_type": "code",
   "execution_count": null,
   "id": "61a13ceb",
   "metadata": {},
   "outputs": [],
   "source": [
    "**What is Action in Pyspark?**"
   ]
  },
  {
   "cell_type": "code",
   "execution_count": null,
   "id": "ef7d2b51",
   "metadata": {},
   "outputs": [],
   "source": [
    "Action: These operations instruct Spark to perform some computations on\n",
    "the RDD and return the result to the driver. It sends data from the\n",
    "Executer to the driver. count(), collect(), take() are some of the\n",
    "examples. Let us consider an example to demonstrate action operation by\n",
    "making use of the count() function."
   ]
  },
  {
   "cell_type": "code",
   "execution_count": null,
   "id": "ad17d956",
   "metadata": {},
   "outputs": [],
   "source": [
    "\n",
    "from pyspark import SparkContext\n",
    "sc = SparkContext(\"local\", \"Action Demo\")\n",
    "words = sc.parallelize (\n",
    "  [\"pyspark\", \n",
    "  \"interview\", \n",
    "  \"questions\"]\n",
    ")\n",
    "counts = words.count()\n",
    "print(\"Count of elements in RDD -> \",  counts)"
   ]
  },
  {
   "cell_type": "code",
   "execution_count": null,
   "id": "bec2d0ff",
   "metadata": {},
   "outputs": [],
   "source": [
    "\n",
    "we count the number of elements in the spark RDDs. The output of this\n",
    "code is Count of elements in RDD -\\> 3 \\#\\# Creating DataFrame"
   ]
  },
  {
   "cell_type": "code",
   "execution_count": null,
   "id": "5cdcd580",
   "metadata": {},
   "outputs": [],
   "source": [
    "**From RDDs**"
   ]
  },
  {
   "cell_type": "code",
   "execution_count": null,
   "id": "4ec0e4a3",
   "metadata": {},
   "outputs": [],
   "source": [
    "     from pyspark.sql.types import*"
   ]
  },
  {
   "cell_type": "code",
   "execution_count": null,
   "id": "2d2e8126",
   "metadata": {},
   "outputs": [],
   "source": [
    "**Infer Schema**"
   ]
  },
  {
   "cell_type": "code",
   "execution_count": null,
   "id": "b5a66812",
   "metadata": {},
   "outputs": [],
   "source": [
    "\n",
    ">> sc = spark.sparkContext\n",
    " lines = sc.textFile(\"people.txt\" )\n",
    " parts = lines.map(lambda l: l.split(\",\"))\n",
    " people = parts.map(lambda p: Row(name=p[0],age=int(p[1])))\n",
    " peopledf = spark.createDataFrame(people)"
   ]
  },
  {
   "cell_type": "code",
   "execution_count": null,
   "id": "386d3a32",
   "metadata": {},
   "outputs": [],
   "source": [
    "\n",
    "**Specify Schema**"
   ]
  },
  {
   "cell_type": "code",
   "execution_count": null,
   "id": "d27e3f97",
   "metadata": {},
   "outputs": [],
   "source": [
    "\n",
    " people = parts.map(lambda p: Row(name=p[0],\n",
    "                        age=int(p[1].strip())))\n",
    " schemaString = \"name age\"\n",
    " fields = [StructField(field_name, StringType(), True) for\n",
    "field_name in schemaString.split()]\n",
    " schema = StructType(fields)\n",
    " spark.createDataFrame(people, schema).show()"
   ]
  },
  {
   "cell_type": "code",
   "execution_count": null,
   "id": "6afd43b0",
   "metadata": {},
   "outputs": [],
   "source": [
    "\n",
    "<span class=\"image\"></span>"
   ]
  },
  {
   "cell_type": "code",
   "execution_count": null,
   "id": "afd3886f",
   "metadata": {},
   "outputs": [],
   "source": [
    "**From Spark Data Sources**"
   ]
  },
  {
   "cell_type": "code",
   "execution_count": null,
   "id": "72653b60",
   "metadata": {},
   "outputs": [],
   "source": [
    "**JSON**"
   ]
  },
  {
   "cell_type": "code",
   "execution_count": null,
   "id": "ad41274d",
   "metadata": {},
   "outputs": [],
   "source": [
    "     df = spark.read.json( \"customer.json\")           \n",
    "     df.show()"
   ]
  },
  {
   "cell_type": "code",
   "execution_count": null,
   "id": "3e8a9d96",
   "metadata": {},
   "outputs": [],
   "source": [
    "<span class=\"image\"></span>"
   ]
  },
  {
   "cell_type": "code",
   "execution_count": null,
   "id": "a8e75151",
   "metadata": {},
   "outputs": [],
   "source": [
    "\n",
    " df2 = spark.read.load( \"people.json\" , format= \"json\")"
   ]
  },
  {
   "cell_type": "code",
   "execution_count": null,
   "id": "aa7e948f",
   "metadata": {},
   "outputs": [],
   "source": [
    "\n",
    "**Parquet files**"
   ]
  },
  {
   "cell_type": "code",
   "execution_count": null,
   "id": "9e1dc138",
   "metadata": {},
   "outputs": [],
   "source": [
    "\n",
    " df3 = spark.read.load(\"people.parquet\" )"
   ]
  },
  {
   "cell_type": "code",
   "execution_count": null,
   "id": "a2b34533",
   "metadata": {},
   "outputs": [],
   "source": [
    "\n",
    "**TXT files**"
   ]
  },
  {
   "cell_type": "code",
   "execution_count": null,
   "id": "a39235c4",
   "metadata": {},
   "outputs": [],
   "source": [
    "     df4 = spark.read.text( \"people.txt\")"
   ]
  },
  {
   "cell_type": "code",
   "execution_count": null,
   "id": "d5c48ac1",
   "metadata": {},
   "outputs": [],
   "source": [
    "### Filter"
   ]
  },
  {
   "cell_type": "code",
   "execution_count": null,
   "id": "898266f8",
   "metadata": {},
   "outputs": [],
   "source": [
    "Filter entries of age, only keep those records of which the values are\n",
    "\\>24"
   ]
  },
  {
   "cell_type": "code",
   "execution_count": null,
   "id": "08b42d39",
   "metadata": {},
   "outputs": [],
   "source": [
    "     df.filter(df[\"age\"] >24).show() "
   ]
  },
  {
   "cell_type": "code",
   "execution_count": null,
   "id": "d29957fb",
   "metadata": {},
   "outputs": [],
   "source": [
    "Duplicate Values"
   ]
  },
  {
   "cell_type": "code",
   "execution_count": null,
   "id": "acbf6772",
   "metadata": {},
   "outputs": [],
   "source": [
    "     df = df.dropDuplicates()"
   ]
  },
  {
   "cell_type": "code",
   "execution_count": null,
   "id": "e65c12c3",
   "metadata": {},
   "outputs": [],
   "source": [
    "### Queries"
   ]
  },
  {
   "cell_type": "code",
   "execution_count": null,
   "id": "18399d32",
   "metadata": {},
   "outputs": [],
   "source": [
    "**What is PySpark SQL?** PySpark SQL is the most popular PySpark module\n",
    "that is used to process structured columnar data. Once a DataFrame is\n",
    "created, we can interact with data using the SQL syntax. Spark SQL is\n",
    "used for bringing native raw SQL queries on Spark by using select,\n",
    "where, group by, join, union etc. For using PySpark SQL, the first step\n",
    "is to create a temporary table on DataFrame by using\n",
    "createOrReplaceTempView()"
   ]
  },
  {
   "cell_type": "code",
   "execution_count": null,
   "id": "3cc85a71",
   "metadata": {},
   "outputs": [],
   "source": [
    "     from pyspark.sql import functions as F"
   ]
  },
  {
   "cell_type": "code",
   "execution_count": null,
   "id": "c35e390a",
   "metadata": {},
   "outputs": [],
   "source": [
    "**Select**"
   ]
  },
  {
   "cell_type": "code",
   "execution_count": null,
   "id": "a8c8f98c",
   "metadata": {},
   "outputs": [],
   "source": [
    "\n",
    " df.select( \"firstName\").show() #Show all entries in firstNome column\n",
    " df.select( \"firstName\",\"lastName\") \\\n",
    "       .show()\n",
    " df.select( \"firstName\", #Show all entries in firstNome, age and type\n",
    "                \"age\" ,\n",
    "                explode(''phoneNumber'') \\\n",
    "                .alias(''contactlnfo')') \\\n",
    "        .select(\"contactlnfo.type\",\n",
    "                \"firstName\",\n",
    "                \"age\" ) \\\n",
    "        .show()\n",
    " df.select(df[\"firstName\",df[ \"age\" ]+ 1)  #Show all entries in firstName and age,\n",
    "       .show()  #add 1 to the entries of age            \n",
    " df.select(df['age'] > 24).show() #Show all entries where age >24"
   ]
  },
  {
   "cell_type": "code",
   "execution_count": null,
   "id": "2786bd1d",
   "metadata": {},
   "outputs": [],
   "source": [
    "\n",
    "**When**"
   ]
  },
  {
   "cell_type": "code",
   "execution_count": null,
   "id": "7dbd14ab",
   "metadata": {},
   "outputs": [],
   "source": [
    "\n",
    " df.select( \"firstName\", #Show firstName and 0 or 1 depending on age >30 \n",
    "                F.when(df.age > 30, 1) \\\n",
    "        .otherwise(0)) \\\n",
    "        .show()\n",
    "     df[ df.firstName.isin( \"Jane\" ,\"Boris\") ] #Show firstName if in the given options\n",
    "                    .collect()"
   ]
  },
  {
   "cell_type": "code",
   "execution_count": null,
   "id": "15545ae9",
   "metadata": {},
   "outputs": [],
   "source": [
    "\n",
    "**Like**"
   ]
  },
  {
   "cell_type": "code",
   "execution_count": null,
   "id": "580456c4",
   "metadata": {},
   "outputs": [],
   "source": [
    "\n",
    "#Show firstName, and lastName is TRUE if lastName is like Smith\n",
    " df.select( \"firstName\",\n",
    "                df.lastName .like(''Smith')') \\\n",
    "      .show()"
   ]
  },
  {
   "cell_type": "code",
   "execution_count": null,
   "id": "02c68ab7",
   "metadata": {},
   "outputs": [],
   "source": [
    "\n",
    "**Startswith** - **Endswith**"
   ]
  },
  {
   "cell_type": "code",
   "execution_count": null,
   "id": "1a2b79fb",
   "metadata": {},
   "outputs": [],
   "source": [
    "     df.select( \"firstName\", #Show firstName, and TRUE if lastName starts with Sm\n",
    "    df.lastName \\\n",
    "        .startswith(\"Sm\")) \\\n",
    "        .show()\n",
    "     df.select(df.lastName.endswith(\"th\"))\\ #Show last names ending in th\n",
    "        .show()"
   ]
  },
  {
   "cell_type": "code",
   "execution_count": null,
   "id": "85aaf6da",
   "metadata": {},
   "outputs": [],
   "source": [
    "**Substring**"
   ]
  },
  {
   "cell_type": "code",
   "execution_count": null,
   "id": "9050bec5",
   "metadata": {},
   "outputs": [],
   "source": [
    "     df.select(df.firstName.substr(l, 3) \\ #Return substrings of firstName\n",
    "          .alias(''name')') \\\n",
    "          .collect()"
   ]
  },
  {
   "cell_type": "code",
   "execution_count": null,
   "id": "74537a23",
   "metadata": {},
   "outputs": [],
   "source": [
    "**Between**"
   ]
  },
  {
   "cell_type": "code",
   "execution_count": null,
   "id": "77f065da",
   "metadata": {},
   "outputs": [],
   "source": [
    "     df.select(df.age.between(22, 2s)) \\ #Show age: values are TRUE if between 22 and 24"
   ]
  },
  {
   "cell_type": "code",
   "execution_count": null,
   "id": "19a4ad21",
   "metadata": {},
   "outputs": [],
   "source": [
    "### Add, Update & Remove Columns"
   ]
  },
  {
   "cell_type": "code",
   "execution_count": null,
   "id": "c513ad89",
   "metadata": {},
   "outputs": [],
   "source": [
    "**Adding Columns**"
   ]
  },
  {
   "cell_type": "code",
   "execution_count": null,
   "id": "6386e325",
   "metadata": {},
   "outputs": [],
   "source": [
    "     df = df.withColumn( 'city',df.address.city) \\\n",
    "                .withColumn( 'postalCade',df.address.pastalCode) \\\n",
    "                .withCalumn( 'state',df.address.state) \\\n",
    "                .withColumn( 'streetAddress',df.address.streetAddress) \\\n",
    "                .withColumn( 'telePhoneNumber ',explode(df.phoneNumber.number)) \\\n",
    "                .withColumn( 'telePhone Type',explode(df.phoneNumber.type))"
   ]
  },
  {
   "cell_type": "code",
   "execution_count": null,
   "id": "1822e1c4",
   "metadata": {},
   "outputs": [],
   "source": [
    "**Updating Columns**"
   ]
  },
  {
   "cell_type": "code",
   "execution_count": null,
   "id": "298ddec6",
   "metadata": {},
   "outputs": [],
   "source": [
    "     df=df.withColumnRenamed('telePhoneNumber ','phoneNumber' )"
   ]
  },
  {
   "cell_type": "code",
   "execution_count": null,
   "id": "9e2eb04c",
   "metadata": {},
   "outputs": [],
   "source": [
    "**Removing Columns**"
   ]
  },
  {
   "cell_type": "code",
   "execution_count": null,
   "id": "736cb29d",
   "metadata": {},
   "outputs": [],
   "source": [
    "     df = df.drop (\"address\",\"phoneNumber\")\n",
    "     df = df.drop(df.address).drop(df.phoneNumber)"
   ]
  },
  {
   "cell_type": "code",
   "execution_count": null,
   "id": "27512815",
   "metadata": {},
   "outputs": [],
   "source": [
    "### Missing & Replacing Values"
   ]
  },
  {
   "cell_type": "code",
   "execution_count": null,
   "id": "dc202070",
   "metadata": {},
   "outputs": [],
   "source": [
    "\n",
    " df.na.fill(50).show() #Replace null values\n",
    " df.na.drop().shaw() #Return new df omitting rows with null values\n",
    " df.na \\ #Return new df replacing one value with another\n",
    "      .replace(10, 20) \\\n",
    "      .show()"
   ]
  },
  {
   "cell_type": "code",
   "execution_count": null,
   "id": "36733a15",
   "metadata": {},
   "outputs": [],
   "source": [
    "\n",
    "### GroupBy"
   ]
  },
  {
   "cell_type": "code",
   "execution_count": null,
   "id": "9c7768b5",
   "metadata": {},
   "outputs": [],
   "source": [
    "\n",
    " df.groupBy(\"age\")\\ #Group by age, count the members in the groups\n",
    "      .count() \\\n",
    "      .show()"
   ]
  },
  {
   "cell_type": "code",
   "execution_count": null,
   "id": "cbc108e2",
   "metadata": {},
   "outputs": [],
   "source": [
    "\n",
    "### Sort"
   ]
  },
  {
   "cell_type": "code",
   "execution_count": null,
   "id": "f1411dfe",
   "metadata": {},
   "outputs": [],
   "source": [
    "\n",
    " peopledf.sort(peopledf.age.desc()).collect()\n",
    " df.sort(\"age\" , ascending=False).collect()\n",
    " df.orderBy([ \"age\", \"city\" ],ascending=[0,1])\\\n",
    "      .collect()"
   ]
  },
  {
   "cell_type": "code",
   "execution_count": null,
   "id": "a546c209",
   "metadata": {},
   "outputs": [],
   "source": [
    "\n",
    "### Repartitioning"
   ]
  },
  {
   "cell_type": "code",
   "execution_count": null,
   "id": "1ad63382",
   "metadata": {},
   "outputs": [],
   "source": [
    "\n",
    " df.repartitian(10)\\ #df with 10 partitions\n",
    "      .rdd \\\n",
    "      .getNumPartitions()\n",
    " df.coalesce(1).rdd.getNumPartitions() #df with 1 partition"
   ]
  },
  {
   "cell_type": "code",
   "execution_count": null,
   "id": "7d0dcbe6",
   "metadata": {},
   "outputs": [],
   "source": [
    "\n",
    "### Running Queries Programmatically"
   ]
  },
  {
   "cell_type": "code",
   "execution_count": null,
   "id": "cbb4edd2",
   "metadata": {},
   "outputs": [],
   "source": [
    "     peopledf.createGlobalTempView( \"people\")\n",
    "     df.createTempView (\"customer\") \n",
    "     df.createOrReplaceTempView( \"customer\")"
   ]
  },
  {
   "cell_type": "code",
   "execution_count": null,
   "id": "549d32f4",
   "metadata": {},
   "outputs": [],
   "source": [
    "**Query Views**"
   ]
  },
  {
   "cell_type": "code",
   "execution_count": null,
   "id": "18be2415",
   "metadata": {},
   "outputs": [],
   "source": [
    "\n",
    " df5 = spark.sql(\"SELECT * FROM customer\").show()\n",
    " peopledf2=spark.sql( \"SELEC T* FROM global_ temp.people\")\\\n",
    "                    .show()"
   ]
  },
  {
   "cell_type": "code",
   "execution_count": null,
   "id": "d78d058f",
   "metadata": {},
   "outputs": [],
   "source": [
    "\n",
    "### **Inspect Data**"
   ]
  },
  {
   "cell_type": "code",
   "execution_count": null,
   "id": "3dce6c84",
   "metadata": {},
   "outputs": [],
   "source": [
    "\n",
    " df.dtypes #Return df column names and data types\n",
    " df.show() #Display the content of df\n",
    " df.head() #Return first n raws\n",
    " df.first() #Return first row\n",
    " df.take(2) #Return the first n rows \n",
    " df.schema Return the schema of df\n",
    " df.describe().show() #Compute summary statistics\n",
    " df.columns Return the columns of df\n",
    " df.count() #Count the number of rows in df\n",
    " df.distinct().count() #Count the number of distinct rows in df\n",
    " df.printSchema() #Print the schema of df\n",
    " df.explain() #Print the (logical and physical) plans"
   ]
  },
  {
   "cell_type": "code",
   "execution_count": null,
   "id": "3ef9944e",
   "metadata": {},
   "outputs": [],
   "source": [
    "\n",
    "### Output"
   ]
  },
  {
   "cell_type": "code",
   "execution_count": null,
   "id": "0ac9e2cd",
   "metadata": {},
   "outputs": [],
   "source": [
    "**Data Structures**"
   ]
  },
  {
   "cell_type": "code",
   "execution_count": null,
   "id": "f04483c0",
   "metadata": {},
   "outputs": [],
   "source": [
    "     rddl = df.rdd #Convert df into an ROD\n",
    "     df.taJSON().first() #Convert df into a ROD of string\n",
    "     df.toPandas() #Return the contents of df as Pandas DataFrame"
   ]
  },
  {
   "cell_type": "code",
   "execution_count": null,
   "id": "2b215d71",
   "metadata": {},
   "outputs": [],
   "source": [
    "**Write** & **Save to Files**"
   ]
  },
  {
   "cell_type": "code",
   "execution_count": null,
   "id": "f5d852e4",
   "metadata": {},
   "outputs": [],
   "source": [
    "\n",
    " df.select( \"firstName\", \"city\")\\\n",
    " .write \\\n",
    " .save(\"nameAndCity.parquet\" )\n",
    " df.select(\"firstName\", \"age\") \\\n",
    " .write \\\n",
    " .save( \"namesAndAges.json\",format=\"json\")"
   ]
  },
  {
   "cell_type": "code",
   "execution_count": null,
   "id": "13eb2381",
   "metadata": {},
   "outputs": [],
   "source": [
    "\n",
    "### **Stopping SparkSession**"
   ]
  },
  {
   "cell_type": "code",
   "execution_count": null,
   "id": "160efa36",
   "metadata": {},
   "outputs": [],
   "source": [
    "    >> spark.stop()"
   ]
  },
  {
   "cell_type": "code",
   "execution_count": null,
   "id": "a72ada9a",
   "metadata": {},
   "outputs": [],
   "source": [
    "## **PySpark RDD**"
   ]
  },
  {
   "cell_type": "code",
   "execution_count": null,
   "id": "ed565707",
   "metadata": {},
   "outputs": [],
   "source": [
    "PySpark is the Spark Python API that exposes the Spark programming model\n",
    "to Python."
   ]
  },
  {
   "cell_type": "code",
   "execution_count": null,
   "id": "ea80204b",
   "metadata": {},
   "outputs": [],
   "source": [
    "**Inspect SparkContext**"
   ]
  },
  {
   "cell_type": "code",
   "execution_count": null,
   "id": "afdacaca",
   "metadata": {},
   "outputs": [],
   "source": [
    "\n",
    " sc.version #Retrieve SparkContext version\n",
    " sc.pythonVer #Retrieve Python version\n",
    " sc.master #Master URL to connect to\n",
    " str(sc.sparkHome) #Path where Spark is installed an worker nodes\n",
    " str(sc.sparkUser()) #Retrieve name of the Spark User running SparkContext\n",
    " sc.appName #Return application name\n",
    " sc.applicationld #Retrieve application ID\n",
    " sc.defaultParallelism #Return default level of parallelism\n",
    " sc.defaultMinPartitions #Default minimum number of partitions for RDDs"
   ]
  },
  {
   "cell_type": "code",
   "execution_count": null,
   "id": "900b33ed",
   "metadata": {},
   "outputs": [],
   "source": [
    "\n",
    "**Configuration**"
   ]
  },
  {
   "cell_type": "code",
   "execution_count": null,
   "id": "da3b61f0",
   "metadata": {},
   "outputs": [],
   "source": [
    "     from pyspark import SparkConf, SparkContext\n",
    "     conf = (SparkConf()\n",
    "                .setMaster(\"local\")\n",
    "                .setAppName(\"My app\")\n",
    "                .set(\"spark.executor.memory\",\"1g\" ) )\n",
    "     sc = SparkContext(conf = conf)"
   ]
  },
  {
   "cell_type": "code",
   "execution_count": null,
   "id": "3fbf35f9",
   "metadata": {},
   "outputs": [],
   "source": [
    "**Using The Shell**"
   ]
  },
  {
   "cell_type": "code",
   "execution_count": null,
   "id": "8f9710b6",
   "metadata": {},
   "outputs": [],
   "source": [
    "In the PySpark shell, a special interpreter aware SparkContext is\n",
    "already created in the variable called sc."
   ]
  },
  {
   "cell_type": "code",
   "execution_count": null,
   "id": "2cbc8449",
   "metadata": {},
   "outputs": [],
   "source": [
    "    $ ./bin/spark shell --master local[2]\n",
    "    $ ./bin/pyspark --master local[4] --py files code.py"
   ]
  },
  {
   "cell_type": "code",
   "execution_count": null,
   "id": "a1804a43",
   "metadata": {},
   "outputs": [],
   "source": [
    "Set which master the context connects to with the –master argument, and\n",
    "add Python **.zip, .egg** or **.py** files to the runtime path by\n",
    "passing a comma separated list to –py-files"
   ]
  },
  {
   "cell_type": "code",
   "execution_count": null,
   "id": "3676f305",
   "metadata": {},
   "outputs": [],
   "source": [
    "### Loading Data"
   ]
  },
  {
   "cell_type": "code",
   "execution_count": null,
   "id": "f81750fc",
   "metadata": {},
   "outputs": [],
   "source": [
    "**Parallelized Collections**"
   ]
  },
  {
   "cell_type": "code",
   "execution_count": null,
   "id": "160cf54a",
   "metadata": {},
   "outputs": [],
   "source": [
    "\n",
    " rdd = sc.parallelize([('a',7),('a',2),('b',2)])\n",
    " rdd = sc.parallelize([('a',2),('d',1),('b',1)])\n",
    " rdd3 = sc.parallelize(range(100))\n",
    " rdd4 = sc.parallelize([(\"a\",[\"x\",\"y\",\"z\"]),\n",
    "                            (\"b\",[\"p\",\"r\"])]"
   ]
  },
  {
   "cell_type": "code",
   "execution_count": null,
   "id": "b7dc9445",
   "metadata": {},
   "outputs": [],
   "source": [
    "\n",
    "**External Data**"
   ]
  },
  {
   "cell_type": "code",
   "execution_count": null,
   "id": "d65f1cf2",
   "metadata": {},
   "outputs": [],
   "source": [
    "Read either one text file from HDFS.a local file system or or any\n",
    "Hadoop-supported file system URI with textFile(). or read in a directory\n",
    "of text files with wholeTextFiles()"
   ]
  },
  {
   "cell_type": "code",
   "execution_count": null,
   "id": "643f83b8",
   "metadata": {},
   "outputs": [],
   "source": [
    "\n",
    " textFile = sc.textFile(\"/my/directory/*.txt\")\n",
    " textFile2 = sc.wholeTextFiles( \"/my/directory/\")"
   ]
  },
  {
   "cell_type": "code",
   "execution_count": null,
   "id": "329cb936",
   "metadata": {},
   "outputs": [],
   "source": [
    "\n",
    "### Retrieving RDD Information"
   ]
  },
  {
   "cell_type": "code",
   "execution_count": null,
   "id": "9c82d46d",
   "metadata": {},
   "outputs": [],
   "source": [
    "**Basic Information**"
   ]
  },
  {
   "cell_type": "code",
   "execution_count": null,
   "id": "60468345",
   "metadata": {},
   "outputs": [],
   "source": [
    "\n",
    " rdd.getNumPartitions() #List the number of partitions\n",
    " rdd.count() #Count ROD instances 3\n",
    " rdd.countByKey() #Count ROD instances by key\n",
    "defaultdict(<type 'int'>,{'a':2,'b' :1})\n",
    " rdd.countByValue() #Count ROD instances by value\n",
    "defaultdict(<type 'int'>,{('b',2):1,'(a',2):1,('a',7):1})\n",
    " rdd.collectAsMap() #Return (key,value) pairs as a dictionary\n",
    "{'a':2,1b':2}\n",
    " rdd3.sum() #Sum of ROD elements 4950\n",
    " sc.parallelize([]).isEmpty() #Check whether ROD is empty\n",
    "True"
   ]
  },
  {
   "cell_type": "code",
   "execution_count": null,
   "id": "91934e69",
   "metadata": {},
   "outputs": [],
   "source": [
    "\n",
    "**Summary**"
   ]
  },
  {
   "cell_type": "code",
   "execution_count": null,
   "id": "05a25afa",
   "metadata": {},
   "outputs": [],
   "source": [
    "\n",
    " rdd3.max() #Maximum value of ROD elements 99\n",
    " rdd3.min() #Minimum value of ROD elements\n",
    "0\n",
    " rdd3.mean() #Mean value of ROD elements\n",
    ",9.5\n",
    " rdd3.stdev() #Standard deviation of ROD elements 2a.8660700s772211a\n",
    " rdd3.variance() #Compute variance of ROD elements 833.25\n",
    " rdd3.histogram(3) #Compute histogram by bins\n",
    "([0,33,66,991,[33,33,3,])\n",
    " rdd3.stats() #Summary statistics (count, mean, stdev, max & min)"
   ]
  },
  {
   "cell_type": "code",
   "execution_count": null,
   "id": "1763a699",
   "metadata": {},
   "outputs": [],
   "source": [
    "\n",
    "### Applying Functions"
   ]
  },
  {
   "cell_type": "code",
   "execution_count": null,
   "id": "bcc0938e",
   "metadata": {},
   "outputs": [],
   "source": [
    "\n",
    "#Apply a function to each ROD element\n",
    " rdd.map(lambda x: x+(x[l],x[0])).callect()\n",
    "[('a',7,7,'a'),('a',2,2,'a'),('b',2,2,'b')]\n",
    "#Apply a function to each ROD element and flatten the result\n",
    " rdd5 = rdd.flatMap(lambda x: x+(x[l],x[0]))\n",
    " rdd5.collect()\n",
    "['a',7,7'a','a',2,2'a','b',2,2'b']\n",
    "#Apply a flatMap function to each (key,value) pair of rdd4 without changing the keys\n",
    " rdds.flatMapValues(lambda x: x).callect()\n",
    "[('a','x'),('a','y'),('a','z'),('b','p'),('b','r')]"
   ]
  },
  {
   "cell_type": "code",
   "execution_count": null,
   "id": "3dfd060c",
   "metadata": {},
   "outputs": [],
   "source": [
    "\n",
    "### Selecting Data"
   ]
  },
  {
   "cell_type": "code",
   "execution_count": null,
   "id": "792e9559",
   "metadata": {},
   "outputs": [],
   "source": [
    "**Getting**"
   ]
  },
  {
   "cell_type": "code",
   "execution_count": null,
   "id": "d7b246e0",
   "metadata": {},
   "outputs": [],
   "source": [
    "\n",
    " rdd.collect() #Return a list with all ROD elements\n",
    "[('a',7),('a',2),('b',2)]\n",
    " rdd.take(2) #Take first 2 ROD elements \n",
    "[('a',7),('a',2)]\n",
    " rdd.first() #Toke first ROD element\n",
    "[('a',7),('a',2)]\n",
    " rdd.top(2) #Take top 2 ROD elements\n",
    "[('b',2),('a',7)]"
   ]
  },
  {
   "cell_type": "code",
   "execution_count": null,
   "id": "44f0bf28",
   "metadata": {},
   "outputs": [],
   "source": [
    "\n",
    "**Sampling**"
   ]
  },
  {
   "cell_type": "code",
   "execution_count": null,
   "id": "d22beac7",
   "metadata": {},
   "outputs": [],
   "source": [
    "\n",
    " rdd3.sample(False, 0.15, 81).collect() #Return sampled subset of rdd3\n",
    " [3,4,27,31,40,41,42,43,60,76,79,80,86,97]"
   ]
  },
  {
   "cell_type": "code",
   "execution_count": null,
   "id": "dd5771c2",
   "metadata": {},
   "outputs": [],
   "source": [
    "\n",
    "**Filtering**"
   ]
  },
  {
   "cell_type": "code",
   "execution_count": null,
   "id": "dc260418",
   "metadata": {},
   "outputs": [],
   "source": [
    "\n",
    " rdd.filter(lambda x: \"a\" in x).collect() #Filter the ROD\n",
    "[( 'a',7),('a',2)]\n",
    " rdd5.distinct().callect() #Return distinct ROD values\n",
    "['a',2,'b',7]\n",
    " rdd.keys().collect() #Return (key,value) RDD's keys\n",
    "['a','a','b']"
   ]
  },
  {
   "cell_type": "code",
   "execution_count": null,
   "id": "3f470848",
   "metadata": {},
   "outputs": [],
   "source": []
  },
  {
   "cell_type": "code",
   "execution_count": null,
   "id": "c3519b60",
   "metadata": {},
   "outputs": [],
   "source": [
    " def g(x): print(x)\n",
    " rdd.foreach(g) #Apply a function to all ROD elements\n",
    "('a',7)\n",
    "('b',2)\n",
    "('a',2)"
   ]
  },
  {
   "cell_type": "code",
   "execution_count": null,
   "id": "7536c454",
   "metadata": {},
   "outputs": [],
   "source": [
    "\n",
    "### Reshaping Data"
   ]
  },
  {
   "cell_type": "code",
   "execution_count": null,
   "id": "4f1e2a24",
   "metadata": {},
   "outputs": [],
   "source": [
    "**Reducing**"
   ]
  },
  {
   "cell_type": "code",
   "execution_count": null,
   "id": "c935bc9b",
   "metadata": {},
   "outputs": [],
   "source": [
    "     rdd.reduceByKey(lambda x,y : x+y).callect() #Merge the rdd values for each key\n",
    "     [('a',9),('b',2)]\n",
    "     rdd.reduce(lambda a, b: a+  b) #Merge the rdd values\n",
    "    ('a',7,'a',2,'b',2)"
   ]
  },
  {
   "cell_type": "code",
   "execution_count": null,
   "id": "d982401f",
   "metadata": {},
   "outputs": [],
   "source": [
    "**Grouping by**"
   ]
  },
  {
   "cell_type": "code",
   "execution_count": null,
   "id": "51d46d2b",
   "metadata": {},
   "outputs": [],
   "source": [
    "\n",
    " rdd3.groupBy(lambda x: x % 2) \n",
    " .mapValues(list)\n",
    " .collect()\n",
    " rdd.groupByKey() \n",
    " .mapValues(list)\n",
    " .collect()\n",
    "[('a',[7,2]),('b',[2])]"
   ]
  },
  {
   "cell_type": "code",
   "execution_count": null,
   "id": "2537fd9d",
   "metadata": {},
   "outputs": [],
   "source": [
    "\n",
    "**Aggregating**"
   ]
  },
  {
   "cell_type": "code",
   "execution_count": null,
   "id": "02b93fbe",
   "metadata": {},
   "outputs": [],
   "source": [
    "\n",
    " seqOp = (lambda x,y: (x[0]+y,x[1]+1))\n",
    " combOp = (lambda x,y:(x[0]+y[0],x[1]+y[1]))\n",
    "#Aggregate RDD elements of each partition and then the results\n",
    " rdd3.aggregate((0,0),seqOp,combOp) \n",
    " (4950,100) \n",
    " #Aggregate values of each RDD key\n",
    " rdd.aggregateByKey((0,0),seqop,combop).collect()\n",
    " [('a',(9,2)),('b',(2,1))]\n",
    "#Aggregate the elements of each partition, and then the results\n",
    " rdd3.fold(0,add) \n",
    " 4950 \n",
    "#Merge the values for each key\n",
    " rdd.foldByKey(0, add).collect()\n",
    "[('a',9),('b',2)]\n",
    "#Create tuples of RDD elements by applying a function\n",
    " rdd3.keyBy(lambda x: x+x).collect() "
   ]
  },
  {
   "cell_type": "code",
   "execution_count": null,
   "id": "efcb00a5",
   "metadata": {},
   "outputs": [],
   "source": [
    "\n",
    "### Mathematical Operations"
   ]
  },
  {
   "cell_type": "code",
   "execution_count": null,
   "id": "0af00f91",
   "metadata": {},
   "outputs": [],
   "source": [
    "     rdd.subtract(rdd2).collect() #Return each rdd value not contained in rdd2\n",
    "    [('b',2),('a',7)]\n",
    "    #Return each (key,value) pair of rdd2 with no matching key in rdd\n",
    "     rdd2.subtractByKey(rdd).collect()\n",
    "    [('d',1)l\n",
    "     rdd.cartesian(rdd2).callect() #Return the Cartesian product of rdd and rdd2"
   ]
  },
  {
   "cell_type": "code",
   "execution_count": null,
   "id": "c2978096",
   "metadata": {},
   "outputs": [],
   "source": [
    "**Sort**"
   ]
  },
  {
   "cell_type": "code",
   "execution_count": null,
   "id": "3e3c27db",
   "metadata": {},
   "outputs": [],
   "source": [
    "     rdd2.sortBy(lambda x: x[l]).collect() #Sort ROD by given function\n",
    "    [('d',1),('b',1),('a',2)]\n",
    "     rdd2.sartByKey().collect() #Sort (key, value) ROD by key\n",
    "    [('a',2),('b',1),('d',1)]"
   ]
  },
  {
   "cell_type": "code",
   "execution_count": null,
   "id": "a16fee96",
   "metadata": {},
   "outputs": [],
   "source": [
    "**Repartitioning**"
   ]
  },
  {
   "cell_type": "code",
   "execution_count": null,
   "id": "1beda753",
   "metadata": {},
   "outputs": [],
   "source": [
    "\n",
    " rdd.repartitian(4) #New ROD with 4 partitions\n",
    " rdd.caalesce(1) #Decrease the number of partitions in the ROD to 1"
   ]
  },
  {
   "cell_type": "code",
   "execution_count": null,
   "id": "2532f449",
   "metadata": {},
   "outputs": [],
   "source": [
    "\n",
    "**Saving**"
   ]
  },
  {
   "cell_type": "code",
   "execution_count": null,
   "id": "65f8695d",
   "metadata": {},
   "outputs": [],
   "source": [
    "\n",
    " rdd .saveA sTextFile(\"rdd.txt\")\n",
    " rdd.saveAsHadaapFile(\"hdfs://namenadehost/parent/child\",\n",
    "                          ’org.apache.hadoop.mapred.TextOutputFormat')"
   ]
  },
  {
   "cell_type": "code",
   "execution_count": null,
   "id": "f3f3a4c4",
   "metadata": {},
   "outputs": [],
   "source": [
    "\n",
    "**Execution**"
   ]
  },
  {
   "cell_type": "code",
   "execution_count": null,
   "id": "860e95ae",
   "metadata": {},
   "outputs": [],
   "source": [
    "    $ ./bin/spark submit examples/src/main/python/pi.py"
   ]
  },
  {
   "cell_type": "code",
   "execution_count": null,
   "id": "c7916752",
   "metadata": {},
   "outputs": [],
   "source": [
    "**Does PySpark provide a machine learning API?**"
   ]
  },
  {
   "cell_type": "code",
   "execution_count": null,
   "id": "40c93954",
   "metadata": {},
   "outputs": [],
   "source": [
    "Similar to Spark, PySpark provides a machine learning API which is known\n",
    "as MLlib that supports various ML algorithms like:"
   ]
  },
  {
   "cell_type": "code",
   "execution_count": null,
   "id": "4908a4f1",
   "metadata": {},
   "outputs": [],
   "source": [
    "-   mllib.classification − This supports different methods for binary or\n",
    "    multiclass classification and regression analysis like Random\n",
    "    Forest, Decision Tree, Naive Bayes etc.\n",
    "-   mllib.clustering − This is used for solving clustering problems that\n",
    "    aim in grouping entities subsets with one another depending on\n",
    "    similarity.\n",
    "-   mllib.fpm − FPM stands for Frequent Pattern Matching. This library\n",
    "    is used to mine frequent items, subsequences or other structures\n",
    "    that are used for analyzing large datasets.\n",
    "-   mllib.linalg − This is used for solving problems on linear algebra.\n",
    "-   mllib.recommendation − This is used for collaborative filtering and\n",
    "    in recommender systems.\n",
    "-   spark.mllib − This is used for supporting model-based collaborative\n",
    "    filtering where small latent factors are identified using the\n",
    "    Alternating Least Squares (ALS) algorithm which is used for\n",
    "    predicting missing entries.\n",
    "-   mllib.regression − This is used for solving problems using\n",
    "    regression algorithms that find relationships and variable\n",
    "    dependencies.\n",
    "-   **Is PySpark faster than pandas?**"
   ]
  },
  {
   "cell_type": "code",
   "execution_count": null,
   "id": "d4fa85dd",
   "metadata": {},
   "outputs": [],
   "source": [
    "PySpark supports parallel execution of statements in a distributed\n",
    "environment, i.e on different cores and different machines which are not\n",
    "present in Pandas. This is why PySpark is faster than pandas."
   ]
  },
  {
   "cell_type": "code",
   "execution_count": null,
   "id": "1df087fa",
   "metadata": {},
   "outputs": [],
   "source": [
    "**What is Broadcast Variables?**"
   ]
  },
  {
   "cell_type": "code",
   "execution_count": null,
   "id": "cdd3eafc",
   "metadata": {},
   "outputs": [],
   "source": [
    "Broadcast variables: These are also known as read-only shared variables\n",
    "and are used in cases of data lookup requirements. These variables are\n",
    "cached and are made available on all the cluster nodes so that the tasks\n",
    "can make use of them. The variables are not sent with every task. They\n",
    "are rather distributed to the nodes using efficient algorithms for\n",
    "reducing the cost of communication. When we run an RDD job operation\n",
    "that makes use of Broadcast variables, the following things are done by\n",
    "PySpark:"
   ]
  },
  {
   "cell_type": "code",
   "execution_count": null,
   "id": "a836e153",
   "metadata": {},
   "outputs": [],
   "source": [
    "The job is broken into different stages having distributed shuffling.\n",
    "The actions are executed in those stages. The stages are then broken\n",
    "into tasks. The broadcast variables are broadcasted to the tasks if the\n",
    "tasks need to use it. Broadcast variables are created in PySpark by\n",
    "making use of the broadcast(variable) method from the SparkContext\n",
    "class. The syntax for this goes as follows:"
   ]
  },
  {
   "cell_type": "code",
   "execution_count": null,
   "id": "eab4ada0",
   "metadata": {},
   "outputs": [],
   "source": [
    "    broadcastVar = sc.broadcast([10, 11, 22, 31])\n",
    "    broadcastVar.value    # access broadcast variable"
   ]
  },
  {
   "cell_type": "code",
   "execution_count": null,
   "id": "92d3dfde",
   "metadata": {},
   "outputs": [],
   "source": [
    "An important point of using broadcast variables is that the variables\n",
    "are not sent to the tasks when the broadcast function is called. They\n",
    "will be sent when the variables are first required by the executors."
   ]
  },
  {
   "cell_type": "code",
   "execution_count": null,
   "id": "0aab1b50",
   "metadata": {},
   "outputs": [],
   "source": [
    "**What is Accumulator variable?**"
   ]
  },
  {
   "cell_type": "code",
   "execution_count": null,
   "id": "4cc2b429",
   "metadata": {},
   "outputs": [],
   "source": [
    "Accumulator variables: These variables are called updatable shared\n",
    "variables. They are added through associative and commutative operations\n",
    "and are used for performing counter or sum operations. PySpark supports\n",
    "the creation of numeric type accumulators by default. It also has the\n",
    "ability to add custom accumulator types. The custom types can be of two\n",
    "types:"
   ]
  },
  {
   "cell_type": "code",
   "execution_count": null,
   "id": "108bee6f",
   "metadata": {},
   "outputs": [],
   "source": [
    "**What is PySpark Architecture?**"
   ]
  },
  {
   "cell_type": "code",
   "execution_count": null,
   "id": "801f281a",
   "metadata": {},
   "outputs": [],
   "source": [
    "PySpark similar to Apache Spark works in master-slave architecture\n",
    "pattern. Here, the master node is called the Driver and the slave nodes\n",
    "are called the workers. When a Spark application is run, the Spark\n",
    "Driver creates SparkContext which acts as an entry point to the spark\n",
    "application. All the operations are executed on the worker nodes. The\n",
    "resources required for executing the operations on the worker nodes are\n",
    "managed by the Cluster Managers"
   ]
  },
  {
   "cell_type": "markdown",
   "id": "d194652c",
   "metadata": {},
   "source": [
    "**What is the common workflow of a spark program?**"
   ]
  },
  {
   "cell_type": "markdown",
   "id": "3591604b",
   "metadata": {},
   "source": [
    "The most common workflow followed by the spark program is: The first\n",
    "step is to create input RDDs depending on the external data. Data can be\n",
    "obtained from different data sources. Post RDD creation, the RDD\n",
    "transformation operations like filter() or map() are run for creating\n",
    "new RDDs depending on the business logic. If any intermediate RDDs are\n",
    "required to be reused for later purposes, we can persist those RDDs.\n",
    "Lastly, if any action operations like first(), count() etc are present\n",
    "then spark launches it to initiate parallel computation."
   ]
  },
  {
   "cell_type": "code",
   "execution_count": null,
   "id": "eaf2d9f7",
   "metadata": {},
   "outputs": [],
   "source": [
    "**Congratulations!** You have read an small summary about important\n",
    "things in **Data Science**."
   ]
  },
  {
   "cell_type": "code",
   "execution_count": null,
   "id": "3a7e13f0",
   "metadata": {},
   "outputs": [],
   "source": []
  }
 ],
 "metadata": {
  "kernelspec": {
   "display_name": "Python 3",
   "language": "python",
   "name": "python3"
  },
  "language_info": {
   "codemirror_mode": {
    "name": "ipython",
    "version": 3
   },
   "file_extension": ".py",
   "mimetype": "text/x-python",
   "name": "python",
   "nbconvert_exporter": "python",
   "pygments_lexer": "ipython3",
   "version": "3.8.10"
  }
 },
 "nbformat": 4,
 "nbformat_minor": 5
}
